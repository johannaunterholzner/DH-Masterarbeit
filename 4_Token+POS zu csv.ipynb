{
 "cells": [
  {
   "cell_type": "code",
   "execution_count": 1,
   "id": "1ac803fe-6332-46ca-bda3-f8374d8efa42",
   "metadata": {},
   "outputs": [],
   "source": [
    "import lxml\n",
    "from lxml import etree\n",
    "import pandas as pd\n",
    "import re\n",
    "import os"
   ]
  },
  {
   "cell_type": "code",
   "execution_count": 2,
   "id": "183b5351-5fed-4b30-8502-9c89d808442f",
   "metadata": {},
   "outputs": [],
   "source": [
    "tree = etree.parse(\"C:/Users/jO/Desktop/DH_MA_Arbeit/coding/vwdazb/extrahiert_vwdazb.xml\")"
   ]
  },
  {
   "cell_type": "code",
   "execution_count": 3,
   "id": "5dfec68f-39c8-45cf-89cb-27bd9a9ce026",
   "metadata": {},
   "outputs": [],
   "source": [
    "ns = {\"t\": \"http://www.tei-c.org/ns/1.0\"}\n",
    "xml = \"{http://www.w3.org/XML/1998/namespace}\""
   ]
  },
  {
   "cell_type": "code",
   "execution_count": 4,
   "id": "c0358afc-23c3-4dce-a49b-dcc51bb02ee8",
   "metadata": {},
   "outputs": [],
   "source": [
    "\n",
    "def POStext_tocsv(poem, divs):\n",
    "    foldername = f\"{poem}_text_pos_csvs\" # Foldername mit Poemname bestimmen\n",
    "   # os.makedirs(f\"C:/Users/jO/Desktop/DH_MA_Arbeit/coding/{poem}/{foldername}\") # Folder kreiern\n",
    "    processed_divs = set()\n",
    "    for div in divs: # divtype und divid extrahieren\n",
    "        divtype = div.attrib.get('type') \n",
    "        divid = div.attrib.get(f'{xml}id')\n",
    "        if divtype and not divid: # wenn es nur ein divtype gibt und kein divid, sind es extrahierte Textstufen und nicht modellierte Textzeugen sowie die publizierte Version\n",
    "            if divtype not in processed_divs:\n",
    "                print(divtype)\n",
    "                lines = tree.xpath(f\"//t:div[@type='{divtype}']/t:lg/t:l\", namespaces=ns) # Text innerhalb der Line extrahieren\n",
    "                line = lines[0]\n",
    "                linetext = line.text\n",
    "                #print(linetext)\n",
    "                linetext = \"\".join(linetext)\n",
    "                token_plus_pos = re.findall(r'([^\\s_]+)_/(\\b\\w+)', linetext) # TOKEN_/POS-Name werden gesucht und gesplitet an dem \"_/\"-Ort\n",
    "                df = divtype\n",
    "                df = pd.DataFrame(token_plus_pos, columns=['token', 'pos']) # pro div ein dataframe erstellen\n",
    "                df.to_csv(f'{foldername}/Token-POS_extrahierte_revision_{divtype}_df.csv', index=False, sep=';') #diesen dataframe im neu erstellten Ordner als csv speichern\n",
    "                processed_divs.add(divtype)\n",
    "                    "
   ]
  },
  {
   "cell_type": "code",
   "execution_count": 5,
   "id": "c18106bd-5165-47cd-af2d-9d26768a5016",
   "metadata": {},
   "outputs": [
    {
     "name": "stdout",
     "output_type": "stream",
     "text": [
      "witness_nr.1_#black_pen\n",
      "witness_nr.1_original\n",
      "witness_nr.2_#blue_pen\n",
      "witness_nr.2_#violet_pen\n",
      "witness_nr.2_original\n",
      "witness_nr.3_#black_pen\n",
      "witness_nr.3_#blue_pen\n",
      "witness_nr.3_#typewriter\n",
      "witness_nr.3_#green_pen\n",
      "witness_nr.3_original\n",
      "witness_nr.4_#black_pen\n",
      "witness_nr.4_#red_pen\n",
      "witness_nr.4_#green_pen\n",
      "witness_nr.4_original\n",
      "witness_nr.5_#black_pen\n",
      "witness_nr.5_#green_pen\n",
      "witness_nr.5_original\n",
      "witness_nr.6_#black_pen\n",
      "witness_nr.6_original\n",
      "witness_nr.7_#black_pen\n",
      "witness_nr.7_#blue_pen\n",
      "witness_nr.7_original\n",
      "published\n"
     ]
    }
   ],
   "source": [
    "poem = \"vwdazb\"\n",
    "divs = tree.xpath(\"//t:div[@type='poem' and @xml:id='vielleichtweildasAugezuerstbricht']//t:div\", namespaces=ns)\n",
    "POStext_tocsv(poem, divs)"
   ]
  },
  {
   "cell_type": "code",
   "execution_count": null,
   "id": "176df6ba-322f-4d26-85f0-e3e965a5bf37",
   "metadata": {},
   "outputs": [],
   "source": []
  },
  {
   "cell_type": "code",
   "execution_count": null,
   "id": "aeac5a92-02e6-4b80-ae45-e039f7154255",
   "metadata": {},
   "outputs": [],
   "source": []
  }
 ],
 "metadata": {
  "kernelspec": {
   "display_name": "Python 3 (ipykernel)",
   "language": "python",
   "name": "python3"
  },
  "language_info": {
   "codemirror_mode": {
    "name": "ipython",
    "version": 3
   },
   "file_extension": ".py",
   "mimetype": "text/x-python",
   "name": "python",
   "nbconvert_exporter": "python",
   "pygments_lexer": "ipython3",
   "version": "3.11.9"
  }
 },
 "nbformat": 4,
 "nbformat_minor": 5
}
