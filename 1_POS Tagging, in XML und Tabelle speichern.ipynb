{
 "cells": [
  {
   "cell_type": "code",
   "execution_count": 1,
   "id": "e5bf74f9",
   "metadata": {},
   "outputs": [],
   "source": [
    "import lxml\n",
    "from lxml import etree\n",
    "import spacy\n",
    "import pandas as pd"
   ]
  },
  {
   "cell_type": "code",
   "execution_count": 2,
   "id": "d5d58c0f",
   "metadata": {},
   "outputs": [],
   "source": [
    "tree = etree.parse(\"C:/Users/jO/Desktop/DH_MA_Arbeit/coding/vwdazb/transkribiert_vwdazb.xml\")"
   ]
  },
  {
   "cell_type": "code",
   "execution_count": 3,
   "id": "12cacc20-fa15-4477-99ec-863a6b1be491",
   "metadata": {},
   "outputs": [],
   "source": [
    "ns = {\"t\":'http://www.tei-c.org/ns/1.0'}\n",
    "xml = \"{http://www.w3.org/XML/1998/namespace}\""
   ]
  },
  {
   "cell_type": "markdown",
   "id": "3a9c8249",
   "metadata": {},
   "source": [
    "# POS-Tagging: Spacy"
   ]
  },
  {
   "cell_type": "markdown",
   "id": "df6dfa5b",
   "metadata": {},
   "source": [
    "German Language Models: https://spacy.io/models/de"
   ]
  },
  {
   "cell_type": "code",
   "execution_count": null,
   "id": "706f21bc-0357-421e-a403-c57af9e70d9f",
   "metadata": {},
   "outputs": [],
   "source": []
  },
  {
   "cell_type": "markdown",
   "id": "0ee1310f-f77e-4645-9e4f-402e5a876ee9",
   "metadata": {},
   "source": [
    "## Modell: \"de_core_news_lg\""
   ]
  },
  {
   "cell_type": "code",
   "execution_count": 4,
   "id": "60733982",
   "metadata": {},
   "outputs": [],
   "source": [
    "#spacy.cli.download(\"de_core_news_lg\")"
   ]
  },
  {
   "cell_type": "code",
   "execution_count": 5,
   "id": "d1342e03",
   "metadata": {},
   "outputs": [],
   "source": [
    "nlp = spacy.load(\"de_core_news_lg\", disable=[\"ner\"])"
   ]
  },
  {
   "cell_type": "code",
   "execution_count": 6,
   "id": "f49cdcf1",
   "metadata": {},
   "outputs": [],
   "source": [
    "linegroups = tree.xpath(\"//t:lg\", namespaces=ns)"
   ]
  },
  {
   "cell_type": "code",
   "execution_count": 7,
   "id": "541978ff-359a-40cf-bb8c-798ca1d15360",
   "metadata": {},
   "outputs": [],
   "source": [
    "poem = \"vwdazb\""
   ]
  },
  {
   "cell_type": "code",
   "execution_count": 8,
   "id": "f439a5da",
   "metadata": {},
   "outputs": [],
   "source": [
    "def postagging_lg(linegroups, nlp, poem): \n",
    "    pos_info = [] # Liste für CSV\n",
    "    for lg in linegroups: # Linegroup aus der Liste aller Linegroups\n",
    "        for line in lg: # Line in Linegroup\n",
    "            if line is not None and line.text: #wenn Line einen Text hat\n",
    "                line_text = line.text # Text abrufen\n",
    "                line_text.replace(\"\\n\", \"\").replace(\"\\r\", \"\") # Text normalisieren\n",
    "                line_text = \" \".join(line_text.strip().split())\n",
    "                #print(line_text)\n",
    "                doc = nlp(line_text) # doc von Text mit nlp erstellen\n",
    "                \n",
    "                new_line_text = [] # Liste für XML\n",
    "                for token in doc:\n",
    "                    new_token = f\"{token.text}_/{token.pos_}\" # Token_/POS erstellen\n",
    "                    new_line_text.append(new_token) # der Liste für XML hinzufügen\n",
    "                    pos_info.append({\n",
    "                    'text': token.text,\n",
    "                    'pos': token.pos_}) # der Liste für CSV hinzufügen\n",
    "                        \n",
    "                newlinetext = \" \".join(new_line_text) # aus der Liste einen String erstellen\n",
    "                #print(newlinetext)\n",
    "        line.text = newlinetext # der Linetext mit dem neuen String ersetzen\n",
    "    \n",
    "    tree.write(f\"output_text+pos_{poem}_lg.xml\", encoding=\"utf-8\", xml_declaration=True) # output xml speichern\n",
    "\n",
    "    pos_info_df = pd.DataFrame(pos_info)\n",
    "    pos_info_df.to_csv(f\"output_text+pos_{poem}_lg.csv\", index=False)\n",
    "    print(pos_info_df.head(10))\n",
    "    "
   ]
  },
  {
   "cell_type": "code",
   "execution_count": 9,
   "id": "c57ff195",
   "metadata": {},
   "outputs": [
    {
     "name": "stdout",
     "output_type": "stream",
     "text": [
      "        text    pos\n",
      "0        der    DET\n",
      "1     Körper   NOUN\n",
      "2       will    AUX\n",
      "3       sich   PRON\n",
      "4         ja    ADV\n",
      "5  schließen   VERB\n",
      "6          ,  PUNCT\n",
      "7      rufst   VERB\n",
      "8         du   PRON\n",
      "9          ,  PUNCT\n"
     ]
    }
   ],
   "source": [
    "postagging_lg(linegroups, nlp, poem)"
   ]
  },
  {
   "cell_type": "code",
   "execution_count": null,
   "id": "a99538bb",
   "metadata": {},
   "outputs": [],
   "source": []
  },
  {
   "cell_type": "markdown",
   "id": "c6bfedf8",
   "metadata": {},
   "source": [
    "## Modell: de_dep_news_trf"
   ]
  },
  {
   "cell_type": "code",
   "execution_count": 10,
   "id": "ae72babc-04f1-428e-9b70-ec8ca4c3be9c",
   "metadata": {},
   "outputs": [],
   "source": [
    "#spacy.cli.download(\"de_dep_news_trf\")"
   ]
  },
  {
   "cell_type": "code",
   "execution_count": 11,
   "id": "3caf93a6-1f15-4999-a9a7-3fc1eb6471ea",
   "metadata": {},
   "outputs": [],
   "source": [
    "tree = etree.parse(\"C:/Users/jO/Desktop/DH_MA_Arbeit/coding/vwdazb/transkribiert_vwdazb.xml\")"
   ]
  },
  {
   "cell_type": "code",
   "execution_count": 12,
   "id": "e4aa9a30-57ec-40d8-86a0-542e335707a2",
   "metadata": {},
   "outputs": [],
   "source": [
    "nlp = spacy.load(\"de_dep_news_trf\")"
   ]
  },
  {
   "cell_type": "code",
   "execution_count": 13,
   "id": "0886f3d8",
   "metadata": {},
   "outputs": [],
   "source": [
    "linegroups = tree.xpath(\"//t:lg\", namespaces=ns)"
   ]
  },
  {
   "cell_type": "code",
   "execution_count": 14,
   "id": "4fbfd14a",
   "metadata": {},
   "outputs": [],
   "source": [
    "poem = \"vwdazb\""
   ]
  },
  {
   "cell_type": "code",
   "execution_count": 15,
   "id": "4c0e756b",
   "metadata": {},
   "outputs": [],
   "source": [
    "def postagging_trf(linegroups, nlp, poem): \n",
    "    pos_info = [] # Liste für CSV\n",
    "    for lg in linegroups: # Linegroup aus der Liste aller Linegroups\n",
    "        for line in lg: # Line in Linegroup\n",
    "            if line is not None and line.text: #wenn Line einen Text hat\n",
    "                line_text = line.text # Text abrufen\n",
    "                line_text.replace(\"\\n\", \"\").replace(\"\\r\", \"\") # Text normalisieren\n",
    "                line_text = \" \".join(line_text.strip().split())\n",
    "                #print(line_text)\n",
    "                doc = nlp(line_text) # doc von Text mit nlp erstellen\n",
    "                \n",
    "                new_line_text = [] # Liste für XML\n",
    "                for token in doc:\n",
    "                    new_token = f\"{token.text}_/{token.pos_}\" # Token_/POS erstellen\n",
    "                    new_line_text.append(new_token) # der Liste für XML hinzufügen\n",
    "                    pos_info.append({\n",
    "                    'text': token.text,\n",
    "                    'pos': token.pos_}) # der Liste für CSV hinzufügen\n",
    "                        \n",
    "                newlinetext = \" \".join(new_line_text) # aus der Liste einen String erstellen\n",
    "                #print(newlinetext)\n",
    "        line.text = newlinetext # der Linetext mit dem neuen String ersetzen\n",
    "    \n",
    "    tree.write(f\"output_text+pos_{poem}_trf.xml\", encoding=\"utf-8\", xml_declaration=True) # output xml speichern\n",
    "\n",
    "    pos_info_df = pd.DataFrame(pos_info)\n",
    "    pos_info_df.to_csv(f\"output_text+pos_{poem}_trf.csv\", index=False)\n",
    "    print(pos_info_df.head(10))\n",
    "    "
   ]
  },
  {
   "cell_type": "code",
   "execution_count": 16,
   "id": "f6e7567c-e3a2-4a73-ad5a-c90de03fa8d1",
   "metadata": {},
   "outputs": [
    {
     "name": "stdout",
     "output_type": "stream",
     "text": [
      "        text    pos\n",
      "0        der    DET\n",
      "1     Körper   NOUN\n",
      "2       will    AUX\n",
      "3       sich   PRON\n",
      "4         ja    ADV\n",
      "5  schließen   VERB\n",
      "6          ,  PUNCT\n",
      "7      rufst   VERB\n",
      "8         du   PRON\n",
      "9          ,  PUNCT\n"
     ]
    }
   ],
   "source": [
    "postagging_trf(linegroups, nlp, poem)"
   ]
  },
  {
   "cell_type": "code",
   "execution_count": null,
   "id": "ba1f5505-6109-4705-91bc-008c504dbced",
   "metadata": {},
   "outputs": [],
   "source": []
  },
  {
   "cell_type": "code",
   "execution_count": null,
   "id": "fe8d6342-fdd6-4b40-9aa8-03dd560d7cb4",
   "metadata": {},
   "outputs": [],
   "source": []
  },
  {
   "cell_type": "code",
   "execution_count": null,
   "id": "9e111ce0-2343-47de-b1fa-4cced788ffc3",
   "metadata": {},
   "outputs": [],
   "source": []
  },
  {
   "cell_type": "code",
   "execution_count": null,
   "id": "d3b4a65a-cb38-4da0-927e-5bbf7e960693",
   "metadata": {},
   "outputs": [],
   "source": []
  },
  {
   "cell_type": "code",
   "execution_count": null,
   "id": "24eefb9c-cd1d-46d7-88a0-7075345d91a7",
   "metadata": {},
   "outputs": [],
   "source": []
  },
  {
   "cell_type": "markdown",
   "id": "2b6e4996-e6f5-4e54-8999-3e70870d2adb",
   "metadata": {},
   "source": [
    "## Modell: spacy_udpipe \"de-hdt\""
   ]
  },
  {
   "cell_type": "code",
   "execution_count": 17,
   "id": "93e0a50f-d656-4c01-9786-bc2842e01a2f",
   "metadata": {},
   "outputs": [],
   "source": [
    "import spacy_udpipe"
   ]
  },
  {
   "cell_type": "code",
   "execution_count": 18,
   "id": "cc13638d-96c9-4b49-ad12-fc6ad86e8c34",
   "metadata": {},
   "outputs": [],
   "source": [
    "#spacy_udpipe.download(\"de-hdt\")"
   ]
  },
  {
   "cell_type": "code",
   "execution_count": 19,
   "id": "a9dd7ecc-92c7-4e6b-83f8-57f1b751d760",
   "metadata": {},
   "outputs": [],
   "source": [
    "nlp = spacy_udpipe.load(\"de-hdt\")"
   ]
  },
  {
   "cell_type": "code",
   "execution_count": 20,
   "id": "0c959234-43b3-490e-a767-aba9c48497d5",
   "metadata": {},
   "outputs": [],
   "source": [
    "tree = etree.parse(\"C:/Users/jO/Desktop/DH_MA_Arbeit/coding/vwdazb/transkribiert_vwdazb.xml\")"
   ]
  },
  {
   "cell_type": "code",
   "execution_count": 21,
   "id": "9898954d",
   "metadata": {},
   "outputs": [],
   "source": [
    "linegroups = tree.xpath(\"//tei:lg\", namespaces={\"tei\": \"http://www.tei-c.org/ns/1.0\"})"
   ]
  },
  {
   "cell_type": "code",
   "execution_count": 22,
   "id": "51391133-34ba-422b-984c-cd922d1ddd82",
   "metadata": {},
   "outputs": [],
   "source": [
    "poem = \"vwdazb\""
   ]
  },
  {
   "cell_type": "code",
   "execution_count": 23,
   "id": "7d75eb78-9a9c-4eb8-b303-6246ad9b7d02",
   "metadata": {},
   "outputs": [],
   "source": [
    "def postagging_udp(linegroups, nlp, poem): \n",
    "    pos_info = [] # Liste für CSV\n",
    "    for lg in linegroups: # Linegroup aus der Liste aller Linegroups\n",
    "        for line in lg: # Line in Linegroup\n",
    "            if line is not None and line.text: #wenn Line einen Text hat\n",
    "                line_text = line.text # Text abrufen\n",
    "                line_text.replace(\"\\n\", \"\").replace(\"\\r\", \"\") # Text normalisieren\n",
    "                line_text = \" \".join(line_text.strip().split())\n",
    "                #print(line_text)\n",
    "                doc = nlp(line_text) # doc von Text mit nlp erstellen\n",
    "                \n",
    "                new_line_text = [] # Liste für XML\n",
    "                for token in doc:\n",
    "                    new_token = f\"{token.text}_/{token.pos_}\" # Token_/POS erstellen\n",
    "                    new_line_text.append(new_token) # der Liste für XML hinzufügen\n",
    "                    pos_info.append({\n",
    "                    'text': token.text,\n",
    "                    'pos': token.pos_}) # der Liste für CSV hinzufügen\n",
    "                        \n",
    "                newlinetext = \" \".join(new_line_text) # aus der Liste einen String erstellen\n",
    "                #print(newlinetext)\n",
    "        line.text = newlinetext # der Linetext mit dem neuen String ersetzen\n",
    "    \n",
    "    tree.write(f\"output_text+pos_{poem}_udp.xml\", encoding=\"utf-8\", xml_declaration=True) # output xml speichern\n",
    "\n",
    "    pos_info_df = pd.DataFrame(pos_info)\n",
    "    pos_info_df.to_csv(f\"output_text+pos_{poem}_udp.csv\", index=False)\n",
    "    print(pos_info_df.head(10))"
   ]
  },
  {
   "cell_type": "code",
   "execution_count": 24,
   "id": "0d1596b8-72ed-4a37-8720-a54d29417f6a",
   "metadata": {},
   "outputs": [
    {
     "name": "stdout",
     "output_type": "stream",
     "text": [
      "        text    pos\n",
      "0        der    DET\n",
      "1     Körper   NOUN\n",
      "2       will    AUX\n",
      "3       sich   PRON\n",
      "4         ja    ADV\n",
      "5  schließen   VERB\n",
      "6          ,  PUNCT\n",
      "7      rufst    ADV\n",
      "8         du   PRON\n",
      "9          ,  PUNCT\n"
     ]
    }
   ],
   "source": [
    "postagging_udp(linegroups, nlp, poem)"
   ]
  },
  {
   "cell_type": "code",
   "execution_count": null,
   "id": "2128f3f5-c0ff-46d1-9526-cdcf26cf5d6d",
   "metadata": {},
   "outputs": [],
   "source": []
  },
  {
   "cell_type": "code",
   "execution_count": null,
   "id": "3bf69f6b-fbda-4ec9-9a89-e54ae4098972",
   "metadata": {},
   "outputs": [],
   "source": []
  },
  {
   "cell_type": "code",
   "execution_count": null,
   "id": "4670b92b-ad45-4701-ba6e-9c765dc7f164",
   "metadata": {},
   "outputs": [],
   "source": []
  },
  {
   "cell_type": "code",
   "execution_count": null,
   "id": "7cb0c307-05f5-41d4-83e7-84291d324edd",
   "metadata": {},
   "outputs": [],
   "source": []
  },
  {
   "cell_type": "code",
   "execution_count": null,
   "id": "72634cf6-6ae1-4a41-9c28-30cd0e5581c0",
   "metadata": {},
   "outputs": [],
   "source": []
  },
  {
   "cell_type": "code",
   "execution_count": null,
   "id": "d156c7e2-3137-458d-981f-c808affa3d21",
   "metadata": {},
   "outputs": [],
   "source": []
  },
  {
   "cell_type": "code",
   "execution_count": null,
   "id": "bb7f93c3-d398-45be-9a1d-a6584ec63828",
   "metadata": {},
   "outputs": [],
   "source": []
  },
  {
   "cell_type": "code",
   "execution_count": null,
   "id": "a15e6a0a",
   "metadata": {},
   "outputs": [],
   "source": []
  },
  {
   "cell_type": "code",
   "execution_count": null,
   "id": "ab69263f",
   "metadata": {},
   "outputs": [],
   "source": []
  }
 ],
 "metadata": {
  "kernelspec": {
   "display_name": "Python 3 (ipykernel)",
   "language": "python",
   "name": "python3"
  },
  "language_info": {
   "codemirror_mode": {
    "name": "ipython",
    "version": 3
   },
   "file_extension": ".py",
   "mimetype": "text/x-python",
   "name": "python",
   "nbconvert_exporter": "python",
   "pygments_lexer": "ipython3",
   "version": "3.11.9"
  }
 },
 "nbformat": 4,
 "nbformat_minor": 5
}
