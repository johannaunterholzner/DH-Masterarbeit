{
 "cells": [
  {
   "cell_type": "code",
   "execution_count": 1,
   "id": "e5bf74f9",
   "metadata": {},
   "outputs": [],
   "source": [
    "import lxml\n",
    "from lxml import etree\n",
    "import spacy\n",
    "import pandas as pd"
   ]
  },
  {
   "cell_type": "code",
   "execution_count": 2,
   "id": "d5d58c0f",
   "metadata": {},
   "outputs": [],
   "source": [
    "tree = etree.parse(\"C:/Users/jO/Desktop/DH_MA_Arbeit/coding/wsnmp/transkribiert_wsnmp.xml\")"
   ]
  },
  {
   "cell_type": "code",
   "execution_count": 3,
   "id": "12cacc20-fa15-4477-99ec-863a6b1be491",
   "metadata": {},
   "outputs": [],
   "source": [
    "ns = {\"t\":'http://www.tei-c.org/ns/1.0'}\n",
    "xml = \"{http://www.w3.org/XML/1998/namespace}\""
   ]
  },
  {
   "cell_type": "markdown",
   "id": "3a9c8249",
   "metadata": {},
   "source": [
    "# POS-Tagging: Spacy"
   ]
  },
  {
   "cell_type": "markdown",
   "id": "df6dfa5b",
   "metadata": {},
   "source": [
    "German Language Models: https://spacy.io/models/de"
   ]
  },
  {
   "cell_type": "code",
   "execution_count": 4,
   "id": "60733982",
   "metadata": {},
   "outputs": [],
   "source": [
    "#spacy.cli.download(\"de_core_news_lg\")"
   ]
  },
  {
   "cell_type": "code",
   "execution_count": 5,
   "id": "d1342e03",
   "metadata": {},
   "outputs": [],
   "source": [
    "nlp = spacy.load(\"de_core_news_lg\", disable=[\"ner\"])"
   ]
  },
  {
   "cell_type": "code",
   "execution_count": 6,
   "id": "f49cdcf1",
   "metadata": {},
   "outputs": [],
   "source": [
    "linegroups = tree.xpath(\"//t:lg\", namespaces=ns)"
   ]
  },
  {
   "cell_type": "code",
   "execution_count": 7,
   "id": "541978ff-359a-40cf-bb8c-798ca1d15360",
   "metadata": {},
   "outputs": [],
   "source": [
    "poem = \"vwdazb\""
   ]
  },
  {
   "cell_type": "code",
   "execution_count": 8,
   "id": "f439a5da",
   "metadata": {},
   "outputs": [],
   "source": [
    "def postagging_lg(linegroups, nlp, poem): \n",
    "    pos_info = [] # Liste für CSV\n",
    "    for lg in linegroups: # Linegroup aus der Liste aller Linegroups\n",
    "        for line in lg: # Line in Linegroup\n",
    "            if line is not None and line.text: #wenn Line einen Text hat\n",
    "                line_text = line.text # Text abrufen\n",
    "                line_text.replace(\"\\n\", \"\").replace(\"\\r\", \"\") # Text normalisieren\n",
    "                line_text = \" \".join(line_text.strip().split())\n",
    "                print(line_text)\n",
    "                doc = nlp(line_text) # doc von Text mit nlp erstellen\n",
    "                \n",
    "                new_line_text = [] # Liste für XML\n",
    "                for token in doc:\n",
    "                    new_token = f\"{token.text}_/{token.pos_}\" # Token_/POS erstellen\n",
    "                    new_line_text.append(new_token) # der Liste für XML hinzufügen\n",
    "                    pos_info.append({\n",
    "                    'text': token.text,\n",
    "                    'pos': token.pos_}) # der Liste für CSV hinzufügen\n",
    "                        \n",
    "                newlinetext = \" \".join(new_line_text) # aus der Liste einen String erstellen\n",
    "                print(newlinetext)\n",
    "        line.text = newlinetext # der Linetext mit dem neuen String ersetzen\n",
    "    \n",
    "    tree.write(f\"output_text+pos_{poem}_lg.xml\", encoding=\"utf-8\", xml_declaration=True) # output xml speichern\n",
    "\n",
    "    pos_info_df = pd.DataFrame(pos_info)\n",
    "    pos_info_df.to_csv(f\"output_text+pos_{poem}_lg.csv\", index=False)\n",
    "    print(pos_info_df.head(10))\n",
    "    "
   ]
  },
  {
   "cell_type": "code",
   "execution_count": 9,
   "id": "c57ff195",
   "metadata": {},
   "outputs": [
    {
     "name": "stdout",
     "output_type": "stream",
     "text": [
      "mit weißen Schwingen in den violetten Morgen, die Luft voll riecht nach Grießbrei, von im Gegenlicht hinten das Ohrenpaar, horchend und spitz, die Ziegen im Tal, Ziege im Fels sein dein Blick weicht mir aus, dann verflog sich (tamponte) / der Kuss / kein Klebestreifen über Wasserfarbe, komm herunter mich zu nehmen, eigentlich interessieren mich die Bildunterschriften immer mehr als die Bilder kein Widerschein in deinem seinem Gesicht, dein sein Blick weicht wich mir aus, Steinerschule, das Federchen sträubte als - Lippenähnlichkeit, und lässig (\"allez!\") französisch die Gasse kehren / queren allez!, den Kot verlieren schlaksig und mild, den Kot verlieren, der erkaltete Garten, verzagter Mund, hochhackig, die grünen Halme am Schuh, Reste von klumpigem Kot / der Klötze Form, mit gelbem Pigment, von nahe, Kopfsorger, das Echo des Hundegebells im Tal aus dem Tal (Feststück), in meinen unseren letzten Tagen, Waschzimmer (Zettel) was abfällt vom Tisch (\"wenn ich mit einer Frau spreche, das Feld\".) ich sitze als Vogel im Gras Kann nicht mehr auffliegen\n",
      "mit_/ADP weißen_/ADJ Schwingen_/NOUN in_/ADP den_/DET violetten_/ADJ Morgen_/NOUN ,_/PUNCT die_/DET Luft_/NOUN voll_/ADV riecht_/VERB nach_/ADP Grießbrei_/NOUN ,_/PUNCT von_/ADP im_/ADP Gegenlicht_/NOUN hinten_/ADV das_/DET Ohrenpaar_/NOUN ,_/PUNCT horchend_/ADV und_/CCONJ spitz_/ADV ,_/PUNCT die_/DET Ziegen_/NOUN im_/ADP Tal_/NOUN ,_/PUNCT Ziege_/NOUN im_/ADP Fels_/NOUN sein_/DET dein_/DET Blick_/NOUN weicht_/VERB mir_/PRON aus_/ADP ,_/PUNCT dann_/ADV verflog_/VERB sich_/PRON (_/PUNCT tamponte_/NOUN )_/PUNCT /_/PUNCT der_/DET Kuss_/NOUN /_/PUNCT kein_/DET Klebestreifen_/NOUN über_/ADP Wasserfarbe_/NOUN ,_/PUNCT komm_/VERB herunter_/ADV mich_/PRON zu_/PART nehmen_/VERB ,_/PUNCT eigentlich_/ADV interessieren_/VERB mich_/PRON die_/DET Bildunterschriften_/NOUN immer_/ADV mehr_/PRON als_/ADP die_/DET Bilder_/NOUN kein_/DET Widerschein_/NOUN in_/ADP deinem_/DET seinem_/DET Gesicht_/NOUN ,_/PUNCT dein_/DET sein_/DET Blick_/NOUN weicht_/VERB wich_/VERB mir_/PRON aus_/ADP ,_/PUNCT Steinerschule_/NOUN ,_/PUNCT das_/DET Federchen_/NOUN sträubte_/VERB als_/ADP -_/PUNCT Lippenähnlichkeit_/NOUN ,_/PUNCT und_/CCONJ lässig_/ADV (_/PUNCT \"_/PUNCT allez_/X !_/PUNCT \"_/PUNCT )_/PUNCT französisch_/ADV die_/DET Gasse_/NOUN kehren_/VERB /_/PUNCT queren_/X allez_/X !_/PUNCT ,_/PUNCT den_/DET Kot_/NOUN verlieren_/VERB schlaksig_/ADV und_/CCONJ mild_/ADV ,_/PUNCT den_/DET Kot_/NOUN verlieren_/VERB ,_/PUNCT der_/DET erkaltete_/ADJ Garten_/NOUN ,_/PUNCT verzagter_/ADJ Mund_/NOUN ,_/PUNCT hochhackig_/ADV ,_/PUNCT die_/DET grünen_/ADJ Halme_/NOUN am_/ADP Schuh_/NOUN ,_/PUNCT Reste_/NOUN von_/ADP klumpigem_/ADJ Kot_/NOUN /_/PUNCT der_/DET Klötze_/ADJ Form_/NOUN ,_/PUNCT mit_/ADP gelbem_/ADJ Pigment_/NOUN ,_/PUNCT von_/ADP nahe_/ADV ,_/PUNCT Kopfsorger_/NOUN ,_/PUNCT das_/DET Echo_/NOUN des_/DET Hundegebells_/NOUN im_/ADP Tal_/NOUN aus_/ADP dem_/DET Tal_/NOUN (_/PUNCT Feststück_/NOUN )_/PUNCT ,_/PUNCT in_/ADP meinen_/DET unseren_/DET letzten_/ADJ Tagen_/NOUN ,_/PUNCT Waschzimmer_/PROPN (_/PUNCT Zettel_/NOUN )_/PUNCT was_/PRON abfällt_/VERB vom_/ADP Tisch_/NOUN (_/PUNCT \"_/PUNCT wenn_/SCONJ ich_/PRON mit_/ADP einer_/DET Frau_/NOUN spreche_/VERB ,_/PUNCT das_/DET Feld_/NOUN \"_/PUNCT ._/PUNCT )_/PUNCT ich_/PRON sitze_/VERB als_/ADP Vogel_/NOUN im_/ADP Gras_/NOUN Kann_/AUX nicht_/PART mehr_/ADV auffliegen_/VERB\n",
      "nach Mimmo Paladino mit weißen Schwingen in der violetten Tag Morgen, die Luft riecht nach Hirsebrei, vor mir, von hinten das Ohrenpaar horchend und spitz, Ziege im Tal, dann verflog sich (tamponte) der Kuss, Klebestreifen über Wasserfarbe, komm herunter mich zu nehmen, das Federchen sträubte sträubt, französisch die Gasse kehren / queren (\"allez!\") und Lippenähnlichkeit / schlaksig und lässig mild, den Kot verlieren, der erkaltete Garten / verzagter verzagte Mund, hochhackig, die grünen Halme am Schuh, von nahe, noch Reste von klumpigem Kot, der Klötze Form, mit gelbem Pigment, Kopfsorger, das Echo des Hundegebells im Tal aus dem Tal (Felsstück) Felsstücke in meinem deinem Blick Augen, Waschzimmer (Zettel) was abfällt vom Tisch - (\".. wenn ich mit einer Frau spreche, das Feld ..\") (\"welches Feld?\") sitze als Vogel im Gras kann nicht mehr auffliegen\n",
      "nach_/ADP Mimmo_/PROPN Paladino_/PROPN mit_/ADP weißen_/ADJ Schwingen_/NOUN in_/ADP der_/DET violetten_/ADJ Tag_/NOUN Morgen_/ADV ,_/PUNCT die_/DET Luft_/NOUN riecht_/VERB nach_/ADP Hirsebrei_/PROPN ,_/PUNCT vor_/ADP mir_/PRON ,_/PUNCT von_/ADP hinten_/ADV das_/DET Ohrenpaar_/NOUN horchend_/ADV und_/CCONJ spitz_/ADV ,_/PUNCT Ziege_/NOUN im_/ADP Tal_/NOUN ,_/PUNCT dann_/ADV verflog_/VERB sich_/PRON (_/PUNCT tamponte_/NOUN )_/PUNCT der_/DET Kuss_/NOUN ,_/PUNCT Klebestreifen_/NOUN über_/ADP Wasserfarbe_/NOUN ,_/PUNCT komm_/VERB herunter_/ADV mich_/PRON zu_/PART nehmen_/VERB ,_/PUNCT das_/DET Federchen_/NOUN sträubte_/VERB sträubt_/VERB ,_/PUNCT französisch_/ADV die_/DET Gasse_/NOUN kehren_/VERB /_/PUNCT queren_/VERB (_/PUNCT \"_/PUNCT allez_/X !_/PUNCT \"_/PUNCT )_/PUNCT und_/CCONJ Lippenähnlichkeit_/NOUN /_/PUNCT schlaksig_/ADV und_/CCONJ lässig_/ADV mild_/ADV ,_/PUNCT den_/DET Kot_/NOUN verlieren_/VERB ,_/PUNCT der_/DET erkaltete_/ADJ Garten_/NOUN /_/PUNCT verzagter_/ADJ verzagte_/ADJ Mund_/NOUN ,_/PUNCT hochhackig_/ADV ,_/PUNCT die_/DET grünen_/ADJ Halme_/NOUN am_/ADP Schuh_/NOUN ,_/PUNCT von_/ADP nahe_/ADV ,_/PUNCT noch_/ADV Reste_/NOUN von_/ADP klumpigem_/ADJ Kot_/NOUN ,_/PUNCT der_/PRON Klötze_/ADJ Form_/NOUN ,_/PUNCT mit_/ADP gelbem_/ADJ Pigment_/NOUN ,_/PUNCT Kopfsorger_/NOUN ,_/PUNCT das_/DET Echo_/NOUN des_/DET Hundegebells_/NOUN im_/ADP Tal_/NOUN aus_/ADP dem_/DET Tal_/NOUN (_/PUNCT Felsstück_/NOUN )_/PUNCT Felsstücke_/NOUN in_/ADP meinem_/DET deinem_/DET Blick_/NOUN Augen_/NOUN ,_/PUNCT Waschzimmer_/PROPN (_/PUNCT Zettel_/NOUN )_/PUNCT was_/PRON abfällt_/VERB vom_/ADP Tisch_/NOUN -_/PUNCT (_/PUNCT \"_/PUNCT .._/X wenn_/SCONJ ich_/PRON mit_/ADP einer_/DET Frau_/NOUN spreche_/VERB ,_/PUNCT das_/DET Feld_/NOUN .._/NOUN \"_/PUNCT )_/PUNCT (_/PUNCT \"_/PUNCT welches_/DET Feld_/NOUN ?_/PUNCT \"_/PUNCT )_/PUNCT sitze_/VERB als_/ADP Vogel_/NOUN im_/ADP Gras_/NOUN kann_/AUX nicht_/PART mehr_/ADV auffliegen_/VERB\n",
      "Wassersachen, nach Mimmo Paladino mit blendenden weißen Schwingen in den violetten Tag, die Luft ins violette Morgenlicht des Tags, die Lüfte riechen voll Hirsebrei, vor mir spitz und horchend das Ohrenpaar von hinten das Ohrenpaar horchend und spitz, Ziege im Tal, dann verflog sich (tamponte) der Kuss, Klebestreifen Klebestreift über Wassersachen Wasserschaften wie Mühlen, Meer und Träne auch Fluß Fischereien, etcetera, komm herunter mich zu nehmen, wie sich das Federchen sträubt! französisch die Gasse kehren / queren (\"allez!\") Kopfsorger und Lippen- ähnlichkeit, der erkaltete Garten, verzagte Mund, hochhackig, die grünen Halme am Schuh, Reste von klumpigem Kot, von nahe, der Klötze Form, mit gelbem Pigment, Kopfsorger, das Echo des Hundegebells aus dem Tal, Handkunst Felsstücke, in deinem dein Blick, (weicht mir aus ..) / Waschzimmer (Zettel) was abfällt vom Tisch - (\".. wenn ich mit einer Frau spreche, das Feld..\") Frauen rede (\"welches Feld..?\") sitze als Vogel im Gras kann nicht mehr auffliegen\n",
      "Wassersachen_/NOUN ,_/PUNCT nach_/ADP Mimmo_/PROPN Paladino_/PROPN mit_/ADP blendenden_/ADJ weißen_/ADJ Schwingen_/NOUN in_/ADP den_/DET violetten_/ADJ Tag_/NOUN ,_/PUNCT die_/DET Luft_/NOUN ins_/ADP violette_/ADJ Morgenlicht_/NOUN des_/DET Tags_/NOUN ,_/PUNCT die_/DET Lüfte_/NOUN riechen_/VERB voll_/ADP Hirsebrei_/PROPN ,_/PUNCT vor_/ADP mir_/PRON spitz_/ADV und_/CCONJ horchend_/VERB das_/DET Ohrenpaar_/NOUN von_/ADP hinten_/ADV das_/DET Ohrenpaar_/NOUN horchend_/ADV und_/CCONJ spitz_/ADV ,_/PUNCT Ziege_/NOUN im_/ADP Tal_/NOUN ,_/PUNCT dann_/ADV verflog_/VERB sich_/PRON (_/PUNCT tamponte_/NOUN )_/PUNCT der_/DET Kuss_/NOUN ,_/PUNCT Klebestreifen_/NOUN Klebestreift_/NOUN über_/ADP Wassersachen_/ADJ Wasserschaften_/NOUN wie_/ADP Mühlen_/NOUN ,_/PUNCT Meer_/NOUN und_/CCONJ Träne_/NOUN auch_/ADV Fluß_/NOUN Fischereien_/NOUN ,_/PUNCT etcetera_/PROPN ,_/PUNCT komm_/VERB herunter_/ADV mich_/PRON zu_/PART nehmen_/VERB ,_/PUNCT wie_/SCONJ sich_/PRON das_/DET Federchen_/NOUN sträubt_/VERB !_/PUNCT französisch_/ADV die_/DET Gasse_/NOUN kehren_/VERB /_/PUNCT queren_/VERB (_/PUNCT \"_/PUNCT allez_/X !_/PUNCT \"_/PUNCT )_/PUNCT Kopfsorger_/NOUN und_/CCONJ Lippen-_/X ähnlichkeit_/NOUN ,_/PUNCT der_/DET erkaltete_/ADJ Garten_/NOUN ,_/PUNCT verzagte_/ADJ Mund_/NOUN ,_/PUNCT hochhackig_/ADV ,_/PUNCT die_/DET grünen_/ADJ Halme_/NOUN am_/ADP Schuh_/NOUN ,_/PUNCT Reste_/NOUN von_/ADP klumpigem_/ADJ Kot_/NOUN ,_/PUNCT von_/ADP nahe_/ADV ,_/PUNCT der_/PRON Klötze_/ADJ Form_/NOUN ,_/PUNCT mit_/ADP gelbem_/ADJ Pigment_/NOUN ,_/PUNCT Kopfsorger_/NOUN ,_/PUNCT das_/DET Echo_/NOUN des_/DET Hundegebells_/NOUN aus_/ADP dem_/DET Tal_/NOUN ,_/PUNCT Handkunst_/ADJ Felsstücke_/NOUN ,_/PUNCT in_/ADP deinem_/PRON dein_/DET Blick_/NOUN ,_/PUNCT (_/PUNCT weicht_/VERB mir_/PRON aus_/ADP .._/X )_/PUNCT /_/PUNCT Waschzimmer_/X (_/PUNCT Zettel_/NOUN )_/PUNCT was_/PRON abfällt_/VERB vom_/ADP Tisch_/NOUN -_/PUNCT (_/PUNCT \"_/PUNCT .._/X wenn_/SCONJ ich_/PRON mit_/ADP einer_/DET Frau_/NOUN spreche_/VERB ,_/PUNCT das_/DET Feld_/NOUN .._/NOUN \"_/PUNCT )_/PUNCT Frauen_/NOUN rede_/VERB (_/PUNCT \"_/PUNCT welches_/DET Feld_/NOUN .._/NOUN ?_/PUNCT \"_/PUNCT )_/PUNCT sitze_/VERB als_/ADP Vogel_/NOUN im_/ADP Gras_/NOUN kann_/AUX nicht_/PART mehr_/ADV auffliegen_/VERB\n",
      "Wassersachen, nach Mimmo Paladino mit weißen Schwingen ins violette Licht, die Luft riecht nach Hirsebrei spitz und horchend vor mir dein wächsernes Ohrenpaar, Ziege im Tal, dann verflog sich (tamponte) der Kuss, klebestreift über Wasserschaften wie Träne und Meer, auch Mühlen, Fluss, Fischereien, komm herunter, mich zu nehmen: das Federchen sträubt / französisch die Gasse kehren / und queren (\"allez!\") und Kopfsorger, Lippenähnlichkeit, der erkaltete Garten, verzagte Mund / hochhackig, die klumpigen Halme noch am Schuh vom fliehenden Lauf durchs gemähte Feld, von nahe, mit gelbem Pigment, Echo des Hundegebells aus dem Tal, von Handkunst, Blicke weichen mir aus / Waschzimmer (Zettel) was abfällt vom Tisch - (\"..wenn ich mit Frauen rede, das Feld..\") : (\"was für ein Feld?\") : (\"Feststück, das Schwarze hat sie dir abgeschaut ..\") sitze als Vogel im Feld kann nicht mehr auffliegen\n",
      "Wassersachen_/NOUN ,_/PUNCT nach_/ADP Mimmo_/PROPN Paladino_/PROPN mit_/ADP weißen_/ADJ Schwingen_/NOUN ins_/ADP violette_/ADJ Licht_/NOUN ,_/PUNCT die_/DET Luft_/NOUN riecht_/VERB nach_/ADP Hirsebrei_/PROPN spitz_/ADV und_/CCONJ horchend_/ADV vor_/ADP mir_/PRON dein_/DET wächsernes_/ADJ Ohrenpaar_/NOUN ,_/PUNCT Ziege_/NOUN im_/ADP Tal_/NOUN ,_/PUNCT dann_/ADV verflog_/VERB sich_/PRON (_/PUNCT tamponte_/NOUN )_/PUNCT der_/DET Kuss_/NOUN ,_/PUNCT klebestreift_/NOUN über_/ADP Wasserschaften_/NOUN wie_/ADP Träne_/NOUN und_/CCONJ Meer_/NOUN ,_/PUNCT auch_/ADV Mühlen_/NOUN ,_/PUNCT Fluss_/NOUN ,_/PUNCT Fischereien_/NOUN ,_/PUNCT komm_/VERB herunter_/ADV ,_/PUNCT mich_/PRON zu_/PART nehmen_/VERB :_/PUNCT das_/DET Federchen_/NOUN sträubt_/VERB /_/PUNCT französisch_/ADV die_/DET Gasse_/NOUN kehren_/VERB /_/PUNCT und_/CCONJ queren_/VERB (_/PUNCT \"_/PUNCT allez_/X !_/PUNCT \"_/PUNCT )_/PUNCT und_/CCONJ Kopfsorger_/NOUN ,_/PUNCT Lippenähnlichkeit_/NOUN ,_/PUNCT der_/DET erkaltete_/ADJ Garten_/NOUN ,_/PUNCT verzagte_/ADJ Mund_/NOUN /_/PUNCT hochhackig_/ADV ,_/PUNCT die_/DET klumpigen_/ADJ Halme_/NOUN noch_/ADV am_/ADP Schuh_/NOUN vom_/ADP fliehenden_/ADJ Lauf_/NOUN durchs_/ADP gemähte_/ADJ Feld_/NOUN ,_/PUNCT von_/ADP nahe_/ADV ,_/PUNCT mit_/ADP gelbem_/ADJ Pigment_/NOUN ,_/PUNCT Echo_/NOUN des_/DET Hundegebells_/NOUN aus_/ADP dem_/DET Tal_/NOUN ,_/PUNCT von_/ADP Handkunst_/NOUN ,_/PUNCT Blicke_/NOUN weichen_/VERB mir_/PRON aus_/ADP /_/PUNCT Waschzimmer_/X (_/PUNCT Zettel_/NOUN )_/PUNCT was_/PRON abfällt_/VERB vom_/ADP Tisch_/NOUN -_/PUNCT (_/PUNCT \"_/PUNCT .._/X wenn_/SCONJ ich_/PRON mit_/ADP Frauen_/NOUN rede_/VERB ,_/PUNCT das_/DET Feld_/NOUN .._/NOUN \"_/PUNCT )_/PUNCT :_/PUNCT (_/PUNCT \"_/PUNCT was_/PRON für_/ADP ein_/DET Feld_/NOUN ?_/PUNCT \"_/PUNCT )_/PUNCT :_/PUNCT (_/PUNCT \"_/PUNCT Feststück_/NOUN ,_/PUNCT das_/DET Schwarze_/NOUN hat_/AUX sie_/PRON dir_/PRON abgeschaut_/VERB .._/X \"_/PUNCT )_/PUNCT sitze_/VERB als_/ADP Vogel_/NOUN im_/ADP Feld_/NOUN kann_/AUX nicht_/PART mehr_/ADV auffliegen_/VERB\n",
      "Wassersachen, nach Mimmo Paladino mit weißen Schwingen ins violette Licht, die Luft riecht nach Hirsebrei - spitz und horchend vor mir dein wächsernes Ohrenpaar, Ziege im Tal, dann verflog sich (tamponte) der Kuss, klebestreift über Wasserschaften wie Träne und Meer, auch Mühlen, Fluss, Fischerein, komm herunter, mich zu nehmen, das Federchen sträubt / französisch die Gasse kehren / und queren: (\"allez!\") und Kopfsorger, Lippenähnlichkeit, der erkaltete Garten, verzagte Mund / hochhackig, die klumpigen Halme noch am Schuh vom fliehenden Lauf durchs gemähte durch den gemähten Acker Feld, von nahe, mit gelbem Pigment, Echo des Hundegebells aus dem Tal, von Handkunst, Blicke weichen mir aus / Waschzimmer (Zettel) / was abfällt vom Tisch - (\"wenn ich mit Frauen rede, das Feld ..\") (\"was für ein Feld?\") (\"Feststück, das Schwarze hat sie dir abgeschaut ..\") sitze als Vogel im Feld kann nicht mehr auffliegen\n",
      "Wassersachen_/NOUN ,_/PUNCT nach_/ADP Mimmo_/PROPN Paladino_/PROPN mit_/ADP weißen_/ADJ Schwingen_/NOUN ins_/ADP violette_/ADJ Licht_/NOUN ,_/PUNCT die_/DET Luft_/NOUN riecht_/VERB nach_/ADP Hirsebrei_/PROPN -_/PUNCT spitz_/ADV und_/CCONJ horchend_/ADV vor_/ADP mir_/PRON dein_/DET wächsernes_/ADJ Ohrenpaar_/NOUN ,_/PUNCT Ziege_/NOUN im_/ADP Tal_/NOUN ,_/PUNCT dann_/ADV verflog_/VERB sich_/PRON (_/PUNCT tamponte_/NOUN )_/PUNCT der_/DET Kuss_/NOUN ,_/PUNCT klebestreift_/NOUN über_/ADP Wasserschaften_/NOUN wie_/ADP Träne_/NOUN und_/CCONJ Meer_/NOUN ,_/PUNCT auch_/ADV Mühlen_/NOUN ,_/PUNCT Fluss_/NOUN ,_/PUNCT Fischerein_/NOUN ,_/PUNCT komm_/VERB herunter_/ADV ,_/PUNCT mich_/PRON zu_/PART nehmen_/VERB ,_/PUNCT das_/DET Federchen_/NOUN sträubt_/VERB /_/PUNCT französisch_/ADV die_/DET Gasse_/NOUN kehren_/VERB /_/PUNCT und_/CCONJ queren_/VERB :_/PUNCT (_/PUNCT \"_/PUNCT allez_/X !_/PUNCT \"_/PUNCT )_/PUNCT und_/CCONJ Kopfsorger_/NOUN ,_/PUNCT Lippenähnlichkeit_/NOUN ,_/PUNCT der_/DET erkaltete_/ADJ Garten_/NOUN ,_/PUNCT verzagte_/ADJ Mund_/NOUN /_/PUNCT hochhackig_/ADV ,_/PUNCT die_/DET klumpigen_/ADJ Halme_/NOUN noch_/ADV am_/ADP Schuh_/NOUN vom_/ADP fliehenden_/ADJ Lauf_/NOUN durchs_/ADP gemähte_/NOUN durch_/ADP den_/DET gemähten_/ADJ Acker_/NOUN Feld_/NOUN ,_/PUNCT von_/ADP nahe_/ADV ,_/PUNCT mit_/ADP gelbem_/ADJ Pigment_/NOUN ,_/PUNCT Echo_/NOUN des_/DET Hundegebells_/NOUN aus_/ADP dem_/DET Tal_/NOUN ,_/PUNCT von_/ADP Handkunst_/NOUN ,_/PUNCT Blicke_/NOUN weichen_/VERB mir_/PRON aus_/ADP /_/PUNCT Waschzimmer_/X (_/PUNCT Zettel_/NOUN )_/PUNCT /_/PUNCT was_/PRON abfällt_/VERB vom_/ADP Tisch_/NOUN -_/PUNCT (_/PUNCT \"_/PUNCT wenn_/SCONJ ich_/PRON mit_/ADP Frauen_/NOUN rede_/VERB ,_/PUNCT das_/DET Feld_/NOUN .._/NOUN \"_/PUNCT )_/PUNCT (_/PUNCT \"_/PUNCT was_/PRON für_/ADP ein_/DET Feld_/NOUN ?_/PUNCT \"_/PUNCT )_/PUNCT (_/PUNCT \"_/PUNCT Feststück_/VERB ,_/PUNCT das_/DET Schwarze_/NOUN hat_/AUX sie_/PRON dir_/PRON abgeschaut_/VERB .._/X \"_/PUNCT )_/PUNCT sitze_/VERB als_/ADP Vogel_/NOUN im_/ADP Feld_/NOUN kann_/AUX nicht_/PART mehr_/ADV auffliegen_/VERB\n",
      "Wassersachen, nach Mimmo Paladino mit weißen Schwingen ins violette Licht, die Luft riecht nach Hirsebrei - spitz und horchend vor mir dein wächsernes Ohrenpaar Ziege im Tal, dann verflog sich (tamponte) der Kuss Klebestreif über Wasserschaften Träne und Meer auch Mühlen Fluß Fischerein, komm herunter das Federchen sträubt! französisch die Gasse kehren / queren - allez!, Kopfsorger Lippenähnlichkeit, der erkaltete Garten, verzagte Mund - hochhackig, die klumpigen Halme am Schuh, vom fliedenden Lauf durch die Stoppelfelder, von nahe, mit gelbem Pigment das Echo von Hundegebell aus dem Tal, von Handkunst Blicke weichen mir aus, Waschzimmerzettel .. was abfällt vom Tisch (\"wenn ich mit Frauen rede, das Feld..\") - (\"was für ein Feld?\") (\"Felsstück und Fest ..\") - (\"das Schwarze hat sie dir abgeschaut..\") sitze als Vogel im dürren Feld: kann nicht mehr auffliegen\n",
      "Wassersachen_/NOUN ,_/PUNCT nach_/ADP Mimmo_/PROPN Paladino_/PROPN mit_/ADP weißen_/ADJ Schwingen_/NOUN ins_/ADP violette_/ADJ Licht_/NOUN ,_/PUNCT die_/DET Luft_/NOUN riecht_/VERB nach_/ADP Hirsebrei_/PROPN -_/PUNCT spitz_/ADV und_/CCONJ horchend_/ADV vor_/ADP mir_/PRON dein_/DET wächsernes_/ADJ Ohrenpaar_/NOUN Ziege_/NOUN im_/ADP Tal_/NOUN ,_/PUNCT dann_/ADV verflog_/VERB sich_/PRON (_/PUNCT tamponte_/NOUN )_/PUNCT der_/DET Kuss_/NOUN Klebestreif_/PROPN über_/ADP Wasserschaften_/NOUN Träne_/NOUN und_/CCONJ Meer_/NOUN auch_/ADV Mühlen_/NOUN Fluß_/NOUN Fischerein_/NOUN ,_/PUNCT komm_/VERB herunter_/ADV das_/DET Federchen_/NOUN sträubt_/VERB !_/PUNCT französisch_/ADV die_/DET Gasse_/NOUN kehren_/VERB /_/PUNCT queren_/VERB -_/PUNCT allez_/X !_/PUNCT ,_/PUNCT Kopfsorger_/NOUN Lippenähnlichkeit_/NOUN ,_/PUNCT der_/DET erkaltete_/ADJ Garten_/NOUN ,_/PUNCT verzagte_/ADJ Mund_/NOUN -_/PUNCT hochhackig_/ADV ,_/PUNCT die_/DET klumpigen_/ADJ Halme_/NOUN am_/ADP Schuh_/NOUN ,_/PUNCT vom_/ADP fliedenden_/ADJ Lauf_/NOUN durch_/ADP die_/DET Stoppelfelder_/NOUN ,_/PUNCT von_/ADP nahe_/ADV ,_/PUNCT mit_/ADP gelbem_/ADJ Pigment_/NOUN das_/DET Echo_/NOUN von_/ADP Hundegebell_/NOUN aus_/ADP dem_/DET Tal_/NOUN ,_/PUNCT von_/ADP Handkunst_/PROPN Blicke_/PROPN weichen_/VERB mir_/PRON aus_/ADP ,_/PUNCT Waschzimmerzettel_/PROPN .._/PROPN was_/PRON abfällt_/VERB vom_/ADP Tisch_/NOUN (_/PUNCT \"_/PUNCT wenn_/SCONJ ich_/PRON mit_/ADP Frauen_/NOUN rede_/VERB ,_/PUNCT das_/DET Feld_/NOUN .._/NOUN \"_/PUNCT )_/PUNCT -_/PUNCT (_/PUNCT \"_/PUNCT was_/PRON für_/ADP ein_/DET Feld_/NOUN ?_/PUNCT \"_/PUNCT )_/PUNCT (_/PUNCT \"_/PUNCT Felsstück_/NOUN und_/CCONJ Fest_/NOUN .._/X \"_/PUNCT )_/PUNCT -_/PUNCT (_/PUNCT \"_/PUNCT das_/DET Schwarze_/NOUN hat_/AUX sie_/PRON dir_/PRON abgeschaut_/VERB .._/X \"_/PUNCT )_/PUNCT sitze_/VERB als_/ADP Vogel_/NOUN im_/ADP dürren_/ADJ Feld_/NOUN :_/PUNCT kann_/AUX nicht_/PART mehr_/ADV auffliegen_/VERB\n",
      "        text    pos\n",
      "0        mit    ADP\n",
      "1     weißen    ADJ\n",
      "2  Schwingen   NOUN\n",
      "3         in    ADP\n",
      "4        den    DET\n",
      "5  violetten    ADJ\n",
      "6     Morgen   NOUN\n",
      "7          ,  PUNCT\n",
      "8        die    DET\n",
      "9       Luft   NOUN\n"
     ]
    }
   ],
   "source": [
    "postagging_lg(linegroups, nlp, poem)"
   ]
  },
  {
   "cell_type": "code",
   "execution_count": null,
   "id": "a99538bb",
   "metadata": {},
   "outputs": [],
   "source": []
  },
  {
   "cell_type": "markdown",
   "id": "c6bfedf8",
   "metadata": {},
   "source": [
    "## Modell: de_dep_news_trf"
   ]
  },
  {
   "cell_type": "code",
   "execution_count": 4,
   "id": "e4aa9a30-57ec-40d8-86a0-542e335707a2",
   "metadata": {},
   "outputs": [],
   "source": [
    "nlp = spacy.load(\"de_dep_news_trf\")"
   ]
  },
  {
   "cell_type": "code",
   "execution_count": 5,
   "id": "0886f3d8",
   "metadata": {},
   "outputs": [],
   "source": [
    "linegroups = tree.xpath(\"//t:lg\", namespaces=ns)"
   ]
  },
  {
   "cell_type": "code",
   "execution_count": 6,
   "id": "4fbfd14a",
   "metadata": {},
   "outputs": [],
   "source": [
    "poem = \"wsnmp\""
   ]
  },
  {
   "cell_type": "code",
   "execution_count": 7,
   "id": "4c0e756b",
   "metadata": {},
   "outputs": [],
   "source": [
    "def postagging_trf(linegroups, nlp, poem): \n",
    "    pos_info = [] # Liste für CSV\n",
    "    for lg in linegroups: # Linegroup aus der Liste aller Linegroups\n",
    "        for line in lg: # Line in Linegroup\n",
    "            if line is not None and line.text: #wenn Line einen Text hat\n",
    "                line_text = line.text # Text abrufen\n",
    "                line_text.replace(\"\\n\", \"\").replace(\"\\r\", \"\") # Text normalisieren\n",
    "                line_text = \" \".join(line_text.strip().split())\n",
    "                print(line_text)\n",
    "                doc = nlp(line_text) # doc von Text mit nlp erstellen\n",
    "                \n",
    "                new_line_text = [] # Liste für XML\n",
    "                for token in doc:\n",
    "                    new_token = f\"{token.text}_/{token.pos_}\" # Token_/POS erstellen\n",
    "                    new_line_text.append(new_token) # der Liste für XML hinzufügen\n",
    "                    pos_info.append({\n",
    "                    'text': token.text,\n",
    "                    'pos': token.pos_}) # der Liste für CSV hinzufügen\n",
    "                        \n",
    "                newlinetext = \" \".join(new_line_text) # aus der Liste einen String erstellen\n",
    "                print(newlinetext)\n",
    "        line.text = newlinetext # der Linetext mit dem neuen String ersetzen\n",
    "    \n",
    "    tree.write(f\"output_text+pos_{poem}_trf.xml\", encoding=\"utf-8\", xml_declaration=True) # output xml speichern\n",
    "\n",
    "    pos_info_df = pd.DataFrame(pos_info)\n",
    "    pos_info_df.to_csv(f\"output_text+pos_{poem}_trf.csv\", index=False)\n",
    "    print(pos_info_df.head(10))\n",
    "    "
   ]
  },
  {
   "cell_type": "code",
   "execution_count": 8,
   "id": "f6e7567c-e3a2-4a73-ad5a-c90de03fa8d1",
   "metadata": {},
   "outputs": [
    {
     "name": "stdout",
     "output_type": "stream",
     "text": [
      "mit weißen Schwingen in den violetten Morgen, die Luft voll riecht nach Grießbrei, von im Gegenlicht hinten das Ohrenpaar, horchend und spitz, die Ziegen im Tal, Ziege im Fels sein dein Blick weicht mir aus, dann verflog sich (tamponte) / der Kuss / kein Klebestreifen über Wasserfarbe, komm herunter mich zu nehmen, eigentlich interessieren mich die Bildunterschriften immer mehr als die Bilder kein Widerschein in deinem seinem Gesicht, dein sein Blick weicht wich mir aus, Steinerschule, das Federchen sträubte als - Lippenähnlichkeit, und lässig (\"allez!\") französisch die Gasse kehren / queren allez!, den Kot verlieren schlaksig und mild, den Kot verlieren, der erkaltete Garten, verzagter Mund, hochhackig, die grünen Halme am Schuh, Reste von klumpigem Kot / der Klötze Form, mit gelbem Pigment, von nahe, Kopfsorger, das Echo des Hundegebells im Tal aus dem Tal (Feststück), in meinen unseren letzten Tagen, Waschzimmer (Zettel) was abfällt vom Tisch (\"wenn ich mit einer Frau spreche, das Feld\".) ich sitze als Vogel im Gras Kann nicht mehr auffliegen\n",
      "mit_/ADP weißen_/ADJ Schwingen_/NOUN in_/ADP den_/DET violetten_/ADJ Morgen_/NOUN ,_/PUNCT die_/DET Luft_/NOUN voll_/ADV riecht_/VERB nach_/ADP Grießbrei_/NOUN ,_/PUNCT von_/ADP im_/ADP Gegenlicht_/NOUN hinten_/ADV das_/DET Ohrenpaar_/NOUN ,_/PUNCT horchend_/ADV und_/CCONJ spitz_/ADV ,_/PUNCT die_/DET Ziegen_/NOUN im_/ADP Tal_/NOUN ,_/PUNCT Ziege_/NOUN im_/ADP Fels_/NOUN sein_/DET dein_/DET Blick_/NOUN weicht_/VERB mir_/PRON aus_/ADP ,_/PUNCT dann_/ADV verflog_/VERB sich_/PRON (_/PUNCT tamponte_/NOUN )_/PUNCT /_/PUNCT der_/DET Kuss_/NOUN /_/PUNCT kein_/DET Klebestreifen_/NOUN über_/ADP Wasserfarbe_/NOUN ,_/PUNCT komm_/VERB herunter_/ADV mich_/PRON zu_/PART nehmen_/VERB ,_/PUNCT eigentlich_/ADV interessieren_/VERB mich_/PRON die_/DET Bildunterschriften_/NOUN immer_/ADV mehr_/ADV als_/ADP die_/DET Bilder_/NOUN kein_/DET Widerschein_/NOUN in_/ADP deinem_/DET seinem_/DET Gesicht_/NOUN ,_/PUNCT dein_/DET sein_/DET Blick_/NOUN weicht_/VERB wich_/VERB mir_/PRON aus_/ADP ,_/PUNCT Steinerschule_/NOUN ,_/PUNCT das_/DET Federchen_/NOUN sträubte_/VERB als_/ADP -_/PUNCT Lippenähnlichkeit_/NOUN ,_/PUNCT und_/CCONJ lässig_/ADV (_/PUNCT \"_/PUNCT allez_/X !_/PUNCT \"_/PUNCT )_/PUNCT französisch_/ADV die_/DET Gasse_/NOUN kehren_/VERB /_/PUNCT queren_/VERB allez_/ADV !_/PUNCT ,_/PUNCT den_/DET Kot_/NOUN verlieren_/VERB schlaksig_/ADV und_/CCONJ mild_/ADV ,_/PUNCT den_/DET Kot_/NOUN verlieren_/VERB ,_/PUNCT der_/DET erkaltete_/ADJ Garten_/NOUN ,_/PUNCT verzagter_/ADJ Mund_/NOUN ,_/PUNCT hochhackig_/ADV ,_/PUNCT die_/DET grünen_/ADJ Halme_/NOUN am_/ADP Schuh_/NOUN ,_/PUNCT Reste_/NOUN von_/ADP klumpigem_/ADJ Kot_/NOUN /_/PUNCT der_/DET Klötze_/NOUN Form_/NOUN ,_/PUNCT mit_/ADP gelbem_/ADJ Pigment_/NOUN ,_/PUNCT von_/ADP nahe_/ADV ,_/PUNCT Kopfsorger_/NOUN ,_/PUNCT das_/DET Echo_/NOUN des_/DET Hundegebells_/NOUN im_/ADP Tal_/NOUN aus_/ADP dem_/DET Tal_/NOUN (_/PUNCT Feststück_/NOUN )_/PUNCT ,_/PUNCT in_/ADP meinen_/DET unseren_/DET letzten_/ADJ Tagen_/NOUN ,_/PUNCT Waschzimmer_/NOUN (_/PUNCT Zettel_/NOUN )_/PUNCT was_/PRON abfällt_/VERB vom_/ADP Tisch_/NOUN (_/PUNCT \"_/PUNCT wenn_/SCONJ ich_/PRON mit_/ADP einer_/DET Frau_/NOUN spreche_/VERB ,_/PUNCT das_/DET Feld_/NOUN \"_/PUNCT ._/PUNCT )_/PUNCT ich_/PRON sitze_/VERB als_/ADP Vogel_/NOUN im_/ADP Gras_/NOUN Kann_/AUX nicht_/PART mehr_/ADV auffliegen_/VERB\n",
      "nach Mimmo Paladino mit weißen Schwingen in der violetten Tag Morgen, die Luft riecht nach Hirsebrei, vor mir, von hinten das Ohrenpaar horchend und spitz, Ziege im Tal, dann verflog sich (tamponte) der Kuss, Klebestreifen über Wasserfarbe, komm herunter mich zu nehmen, das Federchen sträubte sträubt, französisch die Gasse kehren / queren (\"allez!\") und Lippenähnlichkeit / schlaksig und lässig mild, den Kot verlieren, der erkaltete Garten / verzagter verzagte Mund, hochhackig, die grünen Halme am Schuh, von nahe, noch Reste von klumpigem Kot, der Klötze Form, mit gelbem Pigment, Kopfsorger, das Echo des Hundegebells im Tal aus dem Tal (Felsstück) Felsstücke in meinem deinem Blick Augen, Waschzimmer (Zettel) was abfällt vom Tisch - (\".. wenn ich mit einer Frau spreche, das Feld ..\") (\"welches Feld?\") sitze als Vogel im Gras kann nicht mehr auffliegen\n",
      "nach_/ADP Mimmo_/PROPN Paladino_/PROPN mit_/ADP weißen_/ADJ Schwingen_/NOUN in_/ADP der_/DET violetten_/ADJ Tag_/NOUN Morgen_/NOUN ,_/PUNCT die_/DET Luft_/NOUN riecht_/VERB nach_/ADP Hirsebrei_/NOUN ,_/PUNCT vor_/ADP mir_/PRON ,_/PUNCT von_/ADP hinten_/ADV das_/DET Ohrenpaar_/NOUN horchend_/ADV und_/CCONJ spitz_/ADV ,_/PUNCT Ziege_/NOUN im_/ADP Tal_/NOUN ,_/PUNCT dann_/ADV verflog_/VERB sich_/PRON (_/PUNCT tamponte_/X )_/PUNCT der_/DET Kuss_/NOUN ,_/PUNCT Klebestreifen_/NOUN über_/ADP Wasserfarbe_/NOUN ,_/PUNCT komm_/VERB herunter_/ADV mich_/PRON zu_/PART nehmen_/VERB ,_/PUNCT das_/DET Federchen_/NOUN sträubte_/VERB sträubt_/VERB ,_/PUNCT französisch_/ADV die_/DET Gasse_/NOUN kehren_/VERB /_/PUNCT queren_/VERB (_/PUNCT \"_/PUNCT allez_/X !_/PUNCT \"_/PUNCT )_/PUNCT und_/CCONJ Lippenähnlichkeit_/NOUN /_/PUNCT schlaksig_/ADV und_/CCONJ lässig_/ADV mild_/ADV ,_/PUNCT den_/DET Kot_/NOUN verlieren_/VERB ,_/PUNCT der_/DET erkaltete_/ADJ Garten_/NOUN /_/PUNCT verzagter_/ADJ verzagte_/ADJ Mund_/NOUN ,_/PUNCT hochhackig_/ADV ,_/PUNCT die_/DET grünen_/ADJ Halme_/NOUN am_/ADP Schuh_/NOUN ,_/PUNCT von_/ADP nahe_/ADV ,_/PUNCT noch_/ADV Reste_/NOUN von_/ADP klumpigem_/ADJ Kot_/NOUN ,_/PUNCT der_/DET Klötze_/NOUN Form_/NOUN ,_/PUNCT mit_/ADP gelbem_/ADJ Pigment_/NOUN ,_/PUNCT Kopfsorger_/NOUN ,_/PUNCT das_/DET Echo_/NOUN des_/DET Hundegebells_/NOUN im_/ADP Tal_/NOUN aus_/ADP dem_/DET Tal_/NOUN (_/PUNCT Felsstück_/NOUN )_/PUNCT Felsstücke_/NOUN in_/ADP meinem_/DET deinem_/ADJ Blick_/NOUN Augen_/NOUN ,_/PUNCT Waschzimmer_/NOUN (_/PUNCT Zettel_/NOUN )_/PUNCT was_/PRON abfällt_/VERB vom_/ADP Tisch_/NOUN -_/PUNCT (_/PUNCT \"_/PUNCT .._/PUNCT wenn_/SCONJ ich_/PRON mit_/ADP einer_/DET Frau_/NOUN spreche_/VERB ,_/PUNCT das_/DET Feld_/NOUN .._/PUNCT \"_/PUNCT )_/PUNCT (_/PUNCT \"_/PUNCT welches_/DET Feld_/NOUN ?_/PUNCT \"_/PUNCT )_/PUNCT sitze_/VERB als_/ADP Vogel_/NOUN im_/ADP Gras_/NOUN kann_/AUX nicht_/PART mehr_/ADV auffliegen_/VERB\n",
      "Wassersachen, nach Mimmo Paladino mit blendenden weißen Schwingen in den violetten Tag, die Luft ins violette Morgenlicht des Tags, die Lüfte riechen voll Hirsebrei, vor mir spitz und horchend das Ohrenpaar von hinten das Ohrenpaar horchend und spitz, Ziege im Tal, dann verflog sich (tamponte) der Kuss, Klebestreifen Klebestreift über Wassersachen Wasserschaften wie Mühlen, Meer und Träne auch Fluß Fischereien, etcetera, komm herunter mich zu nehmen, wie sich das Federchen sträubt! französisch die Gasse kehren / queren (\"allez!\") Kopfsorger und Lippen- ähnlichkeit, der erkaltete Garten, verzagte Mund, hochhackig, die grünen Halme am Schuh, Reste von klumpigem Kot, von nahe, der Klötze Form, mit gelbem Pigment, Kopfsorger, das Echo des Hundegebells aus dem Tal, Handkunst Felsstücke, in deinem dein Blick, (weicht mir aus ..) / Waschzimmer (Zettel) was abfällt vom Tisch - (\".. wenn ich mit einer Frau spreche, das Feld..\") Frauen rede (\"welches Feld..?\") sitze als Vogel im Gras kann nicht mehr auffliegen\n",
      "Wassersachen_/NOUN ,_/PUNCT nach_/ADP Mimmo_/PROPN Paladino_/PROPN mit_/ADP blendenden_/ADJ weißen_/ADJ Schwingen_/NOUN in_/ADP den_/DET violetten_/ADJ Tag_/NOUN ,_/PUNCT die_/DET Luft_/NOUN ins_/ADP violette_/ADJ Morgenlicht_/NOUN des_/DET Tags_/NOUN ,_/PUNCT die_/DET Lüfte_/NOUN riechen_/VERB voll_/ADP Hirsebrei_/NOUN ,_/PUNCT vor_/ADP mir_/PRON spitz_/ADV und_/CCONJ horchend_/ADV das_/DET Ohrenpaar_/NOUN von_/ADP hinten_/ADV das_/DET Ohrenpaar_/NOUN horchend_/ADV und_/CCONJ spitz_/ADV ,_/PUNCT Ziege_/NOUN im_/ADP Tal_/NOUN ,_/PUNCT dann_/ADV verflog_/VERB sich_/PRON (_/PUNCT tamponte_/X )_/PUNCT der_/DET Kuss_/NOUN ,_/PUNCT Klebestreifen_/NOUN Klebestreift_/ADV über_/ADP Wassersachen_/NOUN Wasserschaften_/NOUN wie_/ADP Mühlen_/NOUN ,_/PUNCT Meer_/NOUN und_/CCONJ Träne_/NOUN auch_/ADV Fluß_/NOUN Fischereien_/NOUN ,_/PUNCT etcetera_/ADV ,_/PUNCT komm_/VERB herunter_/ADV mich_/PRON zu_/PART nehmen_/VERB ,_/PUNCT wie_/SCONJ sich_/PRON das_/DET Federchen_/NOUN sträubt_/VERB !_/PUNCT französisch_/ADV die_/DET Gasse_/NOUN kehren_/VERB /_/PUNCT queren_/VERB (_/PUNCT \"_/PUNCT allez_/X !_/PUNCT \"_/PUNCT )_/PUNCT Kopfsorger_/NOUN und_/CCONJ Lippen-_/NOUN ähnlichkeit_/NOUN ,_/PUNCT der_/DET erkaltete_/ADJ Garten_/NOUN ,_/PUNCT verzagte_/ADJ Mund_/NOUN ,_/PUNCT hochhackig_/ADV ,_/PUNCT die_/DET grünen_/ADJ Halme_/NOUN am_/ADP Schuh_/NOUN ,_/PUNCT Reste_/NOUN von_/ADP klumpigem_/ADJ Kot_/NOUN ,_/PUNCT von_/ADP nahe_/ADJ ,_/PUNCT der_/DET Klötze_/NOUN Form_/NOUN ,_/PUNCT mit_/ADP gelbem_/ADJ Pigment_/NOUN ,_/PUNCT Kopfsorger_/NOUN ,_/PUNCT das_/DET Echo_/NOUN des_/DET Hundegebells_/NOUN aus_/ADP dem_/DET Tal_/NOUN ,_/PUNCT Handkunst_/NOUN Felsstücke_/NOUN ,_/PUNCT in_/ADP deinem_/DET dein_/DET Blick_/NOUN ,_/PUNCT (_/PUNCT weicht_/VERB mir_/PRON aus_/ADP .._/PUNCT )_/PUNCT /_/PUNCT Waschzimmer_/NOUN (_/PUNCT Zettel_/NOUN )_/PUNCT was_/PRON abfällt_/VERB vom_/ADP Tisch_/NOUN -_/PUNCT (_/PUNCT \"_/PUNCT .._/PUNCT wenn_/SCONJ ich_/PRON mit_/ADP einer_/DET Frau_/NOUN spreche_/VERB ,_/PUNCT das_/DET Feld_/NOUN .._/PUNCT \"_/PUNCT )_/PUNCT Frauen_/NOUN rede_/VERB (_/PUNCT \"_/PUNCT welches_/DET Feld_/NOUN .._/PUNCT ?_/PUNCT \"_/PUNCT )_/PUNCT sitze_/VERB als_/ADP Vogel_/NOUN im_/ADP Gras_/NOUN kann_/AUX nicht_/PART mehr_/ADV auffliegen_/VERB\n",
      "Wassersachen, nach Mimmo Paladino mit weißen Schwingen ins violette Licht, die Luft riecht nach Hirsebrei spitz und horchend vor mir dein wächsernes Ohrenpaar, Ziege im Tal, dann verflog sich (tamponte) der Kuss, klebestreift über Wasserschaften wie Träne und Meer, auch Mühlen, Fluss, Fischereien, komm herunter, mich zu nehmen: das Federchen sträubt / französisch die Gasse kehren / und queren (\"allez!\") und Kopfsorger, Lippenähnlichkeit, der erkaltete Garten, verzagte Mund / hochhackig, die klumpigen Halme noch am Schuh vom fliehenden Lauf durchs gemähte Feld, von nahe, mit gelbem Pigment, Echo des Hundegebells aus dem Tal, von Handkunst, Blicke weichen mir aus / Waschzimmer (Zettel) was abfällt vom Tisch - (\"..wenn ich mit Frauen rede, das Feld..\") : (\"was für ein Feld?\") : (\"Feststück, das Schwarze hat sie dir abgeschaut ..\") sitze als Vogel im Feld kann nicht mehr auffliegen\n",
      "Wassersachen_/NOUN ,_/PUNCT nach_/ADP Mimmo_/PROPN Paladino_/PROPN mit_/ADP weißen_/ADJ Schwingen_/NOUN ins_/ADP violette_/ADJ Licht_/NOUN ,_/PUNCT die_/DET Luft_/NOUN riecht_/VERB nach_/ADP Hirsebrei_/NOUN spitz_/ADV und_/CCONJ horchend_/ADV vor_/ADP mir_/PRON dein_/DET wächsernes_/ADJ Ohrenpaar_/NOUN ,_/PUNCT Ziege_/NOUN im_/ADP Tal_/NOUN ,_/PUNCT dann_/ADV verflog_/VERB sich_/PRON (_/PUNCT tamponte_/X )_/PUNCT der_/DET Kuss_/NOUN ,_/PUNCT klebestreift_/VERB über_/ADP Wasserschaften_/NOUN wie_/ADP Träne_/NOUN und_/CCONJ Meer_/NOUN ,_/PUNCT auch_/ADV Mühlen_/NOUN ,_/PUNCT Fluss_/NOUN ,_/PUNCT Fischereien_/NOUN ,_/PUNCT komm_/VERB herunter_/ADV ,_/PUNCT mich_/PRON zu_/PART nehmen_/VERB :_/PUNCT das_/DET Federchen_/NOUN sträubt_/VERB /_/PUNCT französisch_/ADV die_/DET Gasse_/NOUN kehren_/VERB /_/PUNCT und_/CCONJ queren_/VERB (_/PUNCT \"_/PUNCT allez_/X !_/PUNCT \"_/PUNCT )_/PUNCT und_/CCONJ Kopfsorger_/NOUN ,_/PUNCT Lippenähnlichkeit_/NOUN ,_/PUNCT der_/DET erkaltete_/ADJ Garten_/NOUN ,_/PUNCT verzagte_/ADJ Mund_/NOUN /_/PUNCT hochhackig_/ADV ,_/PUNCT die_/DET klumpigen_/ADJ Halme_/NOUN noch_/ADV am_/ADP Schuh_/NOUN vom_/ADP fliehenden_/ADJ Lauf_/NOUN durchs_/ADP gemähte_/ADJ Feld_/NOUN ,_/PUNCT von_/ADP nahe_/ADV ,_/PUNCT mit_/ADP gelbem_/ADJ Pigment_/NOUN ,_/PUNCT Echo_/NOUN des_/DET Hundegebells_/NOUN aus_/ADP dem_/DET Tal_/NOUN ,_/PUNCT von_/ADP Handkunst_/NOUN ,_/PUNCT Blicke_/NOUN weichen_/VERB mir_/PRON aus_/ADP /_/PUNCT Waschzimmer_/NOUN (_/PUNCT Zettel_/NOUN )_/PUNCT was_/PRON abfällt_/VERB vom_/ADP Tisch_/NOUN -_/PUNCT (_/PUNCT \"_/PUNCT .._/PUNCT wenn_/SCONJ ich_/PRON mit_/ADP Frauen_/NOUN rede_/VERB ,_/PUNCT das_/DET Feld_/NOUN .._/PUNCT \"_/PUNCT )_/PUNCT :_/PUNCT (_/PUNCT \"_/PUNCT was_/PRON für_/ADP ein_/DET Feld_/NOUN ?_/PUNCT \"_/PUNCT )_/PUNCT :_/PUNCT (_/PUNCT \"_/PUNCT Feststück_/NOUN ,_/PUNCT das_/DET Schwarze_/NOUN hat_/AUX sie_/PRON dir_/PRON abgeschaut_/VERB .._/PUNCT \"_/PUNCT )_/PUNCT sitze_/VERB als_/ADP Vogel_/NOUN im_/ADP Feld_/NOUN kann_/AUX nicht_/PART mehr_/ADV auffliegen_/VERB\n",
      "Wassersachen, nach Mimmo Paladino mit weißen Schwingen ins violette Licht, die Luft riecht nach Hirsebrei - spitz und horchend vor mir dein wächsernes Ohrenpaar, Ziege im Tal, dann verflog sich (tamponte) der Kuss, klebestreift über Wasserschaften wie Träne und Meer, auch Mühlen, Fluss, Fischerein, komm herunter, mich zu nehmen, das Federchen sträubt / französisch die Gasse kehren / und queren: (\"allez!\") und Kopfsorger, Lippenähnlichkeit, der erkaltete Garten, verzagte Mund / hochhackig, die klumpigen Halme noch am Schuh vom fliehenden Lauf durchs gemähte durch den gemähten Acker Feld, von nahe, mit gelbem Pigment, Echo des Hundegebells aus dem Tal, von Handkunst, Blicke weichen mir aus / Waschzimmer (Zettel) / was abfällt vom Tisch - (\"wenn ich mit Frauen rede, das Feld ..\") (\"was für ein Feld?\") (\"Feststück, das Schwarze hat sie dir abgeschaut ..\") sitze als Vogel im Feld kann nicht mehr auffliegen\n",
      "Wassersachen_/NOUN ,_/PUNCT nach_/ADP Mimmo_/PROPN Paladino_/PROPN mit_/ADP weißen_/ADJ Schwingen_/NOUN ins_/ADP violette_/ADJ Licht_/NOUN ,_/PUNCT die_/DET Luft_/NOUN riecht_/VERB nach_/ADP Hirsebrei_/NOUN -_/PUNCT spitz_/ADV und_/CCONJ horchend_/ADV vor_/ADP mir_/PRON dein_/DET wächsernes_/ADJ Ohrenpaar_/NOUN ,_/PUNCT Ziege_/NOUN im_/ADP Tal_/NOUN ,_/PUNCT dann_/ADV verflog_/VERB sich_/PRON (_/PUNCT tamponte_/X )_/PUNCT der_/DET Kuss_/NOUN ,_/PUNCT klebestreift_/VERB über_/ADP Wasserschaften_/NOUN wie_/ADP Träne_/NOUN und_/CCONJ Meer_/NOUN ,_/PUNCT auch_/ADV Mühlen_/NOUN ,_/PUNCT Fluss_/NOUN ,_/PUNCT Fischerein_/NOUN ,_/PUNCT komm_/VERB herunter_/ADV ,_/PUNCT mich_/PRON zu_/PART nehmen_/VERB ,_/PUNCT das_/DET Federchen_/NOUN sträubt_/VERB /_/PUNCT französisch_/ADV die_/DET Gasse_/NOUN kehren_/VERB /_/PUNCT und_/CCONJ queren_/VERB :_/PUNCT (_/PUNCT \"_/PUNCT allez_/X !_/PUNCT \"_/PUNCT )_/PUNCT und_/CCONJ Kopfsorger_/NOUN ,_/PUNCT Lippenähnlichkeit_/NOUN ,_/PUNCT der_/DET erkaltete_/ADJ Garten_/NOUN ,_/PUNCT verzagte_/ADJ Mund_/NOUN /_/PUNCT hochhackig_/ADV ,_/PUNCT die_/DET klumpigen_/ADJ Halme_/NOUN noch_/ADV am_/ADP Schuh_/NOUN vom_/ADP fliehenden_/ADJ Lauf_/NOUN durchs_/ADP gemähte_/ADJ durch_/ADP den_/DET gemähten_/ADJ Acker_/NOUN Feld_/NOUN ,_/PUNCT von_/ADP nahe_/ADV ,_/PUNCT mit_/ADP gelbem_/ADJ Pigment_/NOUN ,_/PUNCT Echo_/NOUN des_/DET Hundegebells_/NOUN aus_/ADP dem_/DET Tal_/NOUN ,_/PUNCT von_/ADP Handkunst_/NOUN ,_/PUNCT Blicke_/NOUN weichen_/VERB mir_/PRON aus_/ADP /_/PUNCT Waschzimmer_/NOUN (_/PUNCT Zettel_/NOUN )_/PUNCT /_/PUNCT was_/PRON abfällt_/VERB vom_/ADP Tisch_/NOUN -_/PUNCT (_/PUNCT \"_/PUNCT wenn_/SCONJ ich_/PRON mit_/ADP Frauen_/NOUN rede_/VERB ,_/PUNCT das_/DET Feld_/NOUN .._/PUNCT \"_/PUNCT )_/PUNCT (_/PUNCT \"_/PUNCT was_/PRON für_/ADP ein_/DET Feld_/NOUN ?_/PUNCT \"_/PUNCT )_/PUNCT (_/PUNCT \"_/PUNCT Feststück_/NOUN ,_/PUNCT das_/DET Schwarze_/NOUN hat_/AUX sie_/PRON dir_/PRON abgeschaut_/VERB .._/PUNCT \"_/PUNCT )_/PUNCT sitze_/VERB als_/ADP Vogel_/NOUN im_/ADP Feld_/NOUN kann_/AUX nicht_/PART mehr_/ADV auffliegen_/VERB\n",
      "Wassersachen, nach Mimmo Paladino mit weißen Schwingen ins violette Licht, die Luft riecht nach Hirsebrei - spitz und horchend vor mir dein wächsernes Ohrenpaar Ziege im Tal, dann verflog sich (tamponte) der Kuss Klebestreif über Wasserschaften Träne und Meer auch Mühlen Fluß Fischerein, komm herunter das Federchen sträubt! französisch die Gasse kehren / queren - allez!, Kopfsorger Lippenähnlichkeit, der erkaltete Garten, verzagte Mund - hochhackig, die klumpigen Halme am Schuh, vom fliedenden Lauf durch die Stoppelfelder, von nahe, mit gelbem Pigment das Echo von Hundegebell aus dem Tal, von Handkunst Blicke weichen mir aus, Waschzimmerzettel .. was abfällt vom Tisch (\"wenn ich mit Frauen rede, das Feld..\") - (\"was für ein Feld?\") (\"Felsstück und Fest ..\") - (\"das Schwarze hat sie dir abgeschaut..\") sitze als Vogel im dürren Feld: kann nicht mehr auffliegen\n",
      "Wassersachen_/NOUN ,_/PUNCT nach_/ADP Mimmo_/PROPN Paladino_/PROPN mit_/ADP weißen_/ADJ Schwingen_/NOUN ins_/ADP violette_/ADJ Licht_/NOUN ,_/PUNCT die_/DET Luft_/NOUN riecht_/VERB nach_/ADP Hirsebrei_/NOUN -_/PUNCT spitz_/ADV und_/CCONJ horchend_/ADV vor_/ADP mir_/PRON dein_/DET wächsernes_/ADJ Ohrenpaar_/NOUN Ziege_/NOUN im_/ADP Tal_/NOUN ,_/PUNCT dann_/ADV verflog_/VERB sich_/PRON (_/PUNCT tamponte_/X )_/PUNCT der_/DET Kuss_/NOUN Klebestreif_/ADV über_/ADP Wasserschaften_/NOUN Träne_/NOUN und_/CCONJ Meer_/NOUN auch_/ADV Mühlen_/NOUN Fluß_/NOUN Fischerein_/NOUN ,_/PUNCT komm_/VERB herunter_/ADV das_/DET Federchen_/NOUN sträubt_/VERB !_/PUNCT französisch_/ADV die_/DET Gasse_/NOUN kehren_/VERB /_/PUNCT queren_/VERB -_/PUNCT allez_/ADV !_/PUNCT ,_/PUNCT Kopfsorger_/NOUN Lippenähnlichkeit_/NOUN ,_/PUNCT der_/DET erkaltete_/ADJ Garten_/NOUN ,_/PUNCT verzagte_/ADJ Mund_/NOUN -_/PUNCT hochhackig_/ADV ,_/PUNCT die_/DET klumpigen_/ADJ Halme_/NOUN am_/ADP Schuh_/NOUN ,_/PUNCT vom_/ADP fliedenden_/ADJ Lauf_/NOUN durch_/ADP die_/DET Stoppelfelder_/NOUN ,_/PUNCT von_/ADP nahe_/ADV ,_/PUNCT mit_/ADP gelbem_/ADJ Pigment_/NOUN das_/DET Echo_/NOUN von_/ADP Hundegebell_/NOUN aus_/ADP dem_/DET Tal_/NOUN ,_/PUNCT von_/ADP Handkunst_/NOUN Blicke_/NOUN weichen_/VERB mir_/PRON aus_/ADP ,_/PUNCT Waschzimmerzettel_/NOUN .._/PUNCT was_/PRON abfällt_/VERB vom_/ADP Tisch_/NOUN (_/PUNCT \"_/PUNCT wenn_/SCONJ ich_/PRON mit_/ADP Frauen_/NOUN rede_/VERB ,_/PUNCT das_/DET Feld_/NOUN .._/PUNCT \"_/PUNCT )_/PUNCT -_/PUNCT (_/PUNCT \"_/PUNCT was_/PRON für_/ADP ein_/DET Feld_/NOUN ?_/PUNCT \"_/PUNCT )_/PUNCT (_/PUNCT \"_/PUNCT Felsstück_/NOUN und_/CCONJ Fest_/NOUN .._/PUNCT \"_/PUNCT )_/PUNCT -_/PUNCT (_/PUNCT \"_/PUNCT das_/DET Schwarze_/NOUN hat_/AUX sie_/PRON dir_/PRON abgeschaut_/VERB .._/PUNCT \"_/PUNCT )_/PUNCT sitze_/VERB als_/ADP Vogel_/NOUN im_/ADP dürren_/ADJ Feld_/NOUN :_/PUNCT kann_/AUX nicht_/PART mehr_/ADV auffliegen_/VERB\n",
      "        text    pos\n",
      "0        mit    ADP\n",
      "1     weißen    ADJ\n",
      "2  Schwingen   NOUN\n",
      "3         in    ADP\n",
      "4        den    DET\n",
      "5  violetten    ADJ\n",
      "6     Morgen   NOUN\n",
      "7          ,  PUNCT\n",
      "8        die    DET\n",
      "9       Luft   NOUN\n"
     ]
    }
   ],
   "source": [
    "postagging_trf(linegroups, nlp, poem)"
   ]
  },
  {
   "cell_type": "code",
   "execution_count": null,
   "id": "ba1f5505-6109-4705-91bc-008c504dbced",
   "metadata": {},
   "outputs": [],
   "source": []
  },
  {
   "cell_type": "code",
   "execution_count": null,
   "id": "fe8d6342-fdd6-4b40-9aa8-03dd560d7cb4",
   "metadata": {},
   "outputs": [],
   "source": []
  },
  {
   "cell_type": "code",
   "execution_count": null,
   "id": "9e111ce0-2343-47de-b1fa-4cced788ffc3",
   "metadata": {},
   "outputs": [],
   "source": []
  },
  {
   "cell_type": "code",
   "execution_count": null,
   "id": "d3b4a65a-cb38-4da0-927e-5bbf7e960693",
   "metadata": {},
   "outputs": [],
   "source": []
  },
  {
   "cell_type": "code",
   "execution_count": null,
   "id": "24eefb9c-cd1d-46d7-88a0-7075345d91a7",
   "metadata": {},
   "outputs": [],
   "source": []
  },
  {
   "cell_type": "code",
   "execution_count": 15,
   "id": "93e0a50f-d656-4c01-9786-bc2842e01a2f",
   "metadata": {},
   "outputs": [],
   "source": [
    "import spacy_udpipe"
   ]
  },
  {
   "cell_type": "code",
   "execution_count": 16,
   "id": "cc13638d-96c9-4b49-ad12-fc6ad86e8c34",
   "metadata": {},
   "outputs": [],
   "source": [
    "#spacy_udpipe.download(\"de-hdt\")"
   ]
  },
  {
   "cell_type": "code",
   "execution_count": 17,
   "id": "a9dd7ecc-92c7-4e6b-83f8-57f1b751d760",
   "metadata": {},
   "outputs": [],
   "source": [
    "nlp = spacy_udpipe.load(\"de-hdt\")"
   ]
  },
  {
   "cell_type": "code",
   "execution_count": 18,
   "id": "0c959234-43b3-490e-a767-aba9c48497d5",
   "metadata": {},
   "outputs": [],
   "source": [
    "tree = etree.parse(\"C:/Users/jO/Desktop/DH_MA_Arbeit/coding/vwdazb/transkribiert_vwdazb.xml\")"
   ]
  },
  {
   "cell_type": "code",
   "execution_count": 19,
   "id": "9898954d",
   "metadata": {},
   "outputs": [],
   "source": [
    "linegroups = tree.xpath(\"//tei:lg\", namespaces={\"tei\": \"http://www.tei-c.org/ns/1.0\"})"
   ]
  },
  {
   "cell_type": "code",
   "execution_count": 20,
   "id": "51391133-34ba-422b-984c-cd922d1ddd82",
   "metadata": {},
   "outputs": [],
   "source": [
    "poem = \"vwdazb\""
   ]
  },
  {
   "cell_type": "code",
   "execution_count": 21,
   "id": "7d75eb78-9a9c-4eb8-b303-6246ad9b7d02",
   "metadata": {},
   "outputs": [],
   "source": [
    "def postagging_udp(linegroups, nlp, poem): \n",
    "    pos_info = [] # Liste für CSV\n",
    "    for lg in linegroups: # Linegroup aus der Liste aller Linegroups\n",
    "        for line in lg: # Line in Linegroup\n",
    "            if line is not None and line.text: #wenn Line einen Text hat\n",
    "                line_text = line.text # Text abrufen\n",
    "                line_text.replace(\"\\n\", \"\").replace(\"\\r\", \"\") # Text normalisieren\n",
    "                line_text = \" \".join(line_text.strip().split())\n",
    "                print(line_text)\n",
    "                doc = nlp(line_text) # doc von Text mit nlp erstellen\n",
    "                \n",
    "                new_line_text = [] # Liste für XML\n",
    "                for token in doc:\n",
    "                    new_token = f\"{token.text}_/{token.pos_}\" # Token_/POS erstellen\n",
    "                    new_line_text.append(new_token) # der Liste für XML hinzufügen\n",
    "                    pos_info.append({\n",
    "                    'text': token.text,\n",
    "                    'pos': token.pos_}) # der Liste für CSV hinzufügen\n",
    "                        \n",
    "                newlinetext = \" \".join(new_line_text) # aus der Liste einen String erstellen\n",
    "                print(newlinetext)\n",
    "        line.text = newlinetext # der Linetext mit dem neuen String ersetzen\n",
    "    \n",
    "    tree.write(f\"output_text+pos_{poem}_udp.xml\", encoding=\"utf-8\", xml_declaration=True) # output xml speichern\n",
    "\n",
    "    pos_info_df = pd.DataFrame(pos_info)\n",
    "    pos_info_df.to_csv(f\"output_text+pos_{poem}_udp.csv\", index=False)\n",
    "    print(pos_info_df.head(10))"
   ]
  },
  {
   "cell_type": "code",
   "execution_count": 22,
   "id": "0d1596b8-72ed-4a37-8720-a54d29417f6a",
   "metadata": {},
   "outputs": [
    {
     "name": "stdout",
     "output_type": "stream",
     "text": [
      "der Körper will sich ja schließen, rufst du, Verdruss und Krankheit als Göttin aus der Maschine (die Zigeunerspielkarten in der Brust, mit der linken Hand 3 mal geteilt Westentasche, ( oder als müssten wir erinnert werden dass wir nicht Götter sondern Menschen sind, die es nötig haben, ihre Gedanken durch die Feder sichtbar zu machen,) die Rosalia sichtbar zu machen,) die Rosalia, bewaldet, wir essen kleine Drachen, den Mond, Asche sein, das Land ist Löwe, und viel Hitze, Pompeji ist verbrannt, nur Kälberleib, Bekröter sogar, Asche sein, jede Pfütze getrunken, (der Dürer) und Überschwemmungen, aus den aufgeschlagenen Karten, Treue, Beständigkeit, schnarrendes Maulhorn, Werktreue, rufe ich, gelesen, Säge des Laubs, Verdruss + Krankheit alles verflochten, aber es ist kein Schatz zugegen mein Gaumen krümmt sich, nämlich das Stativ deiner Beine (deiner Beine) plötzlich eingerastet, unter dem Kinn gelegen, unter der Zunge, verkappte Schläfe (mit Kappe) Oktoberkeule\n",
      "der_/DET Körper_/NOUN will_/AUX sich_/PRON ja_/ADV schließen_/VERB ,_/PUNCT rufst_/ADV du_/PRON ,_/PUNCT Verdruss_/NOUN und_/CCONJ Krankheit_/NOUN als_/CCONJ Göttin_/PROPN aus_/ADP der_/DET Maschine_/NOUN (_/PUNCT die_/DET Zigeunerspielkarten_/NOUN in_/ADP der_/DET Brust_/NOUN ,_/PUNCT mit_/ADP der_/DET linken_/ADJ Hand_/NOUN 3_/NUM mal_/ADV geteilt_/ADJ Westentasche_/NOUN ,_/PUNCT (_/PUNCT oder_/CCONJ als_/CCONJ müssten_/AUX wir_/PRON erinnert_/VERB werden_/AUX dass_/SCONJ wir_/PRON nicht_/PART Götter_/NOUN sondern_/CCONJ Menschen_/NOUN sind_/AUX ,_/PUNCT die_/PRON es_/PRON nötig_/ADJ haben_/AUX ,_/PUNCT ihre_/PRON Gedanken_/NOUN durch_/ADP die_/DET Feder_/NOUN sichtbar_/ADJ zu_/PART machen_/VERB ,_/PUNCT )_/PUNCT die_/DET Rosalia_/PROPN sichtbar_/ADJ zu_/PART machen_/VERB ,_/PUNCT )_/PUNCT die_/DET Rosalia_/PROPN ,_/PUNCT bewaldet_/VERB ,_/PUNCT wir_/PRON essen_/VERB kleine_/ADJ Drachen_/NOUN ,_/PUNCT den_/DET Mond_/NOUN ,_/PUNCT Asche_/NOUN sein_/AUX ,_/PUNCT das_/DET Land_/NOUN ist_/AUX Löwe_/NOUN ,_/PUNCT und_/CCONJ viel_/ADJ Hitze_/NOUN ,_/PUNCT Pompeji_/PROPN ist_/AUX verbrannt_/ADJ ,_/PUNCT nur_/ADV Kälberleib_/PROPN ,_/PUNCT Bekröter_/PROPN sogar_/ADV ,_/PUNCT Asche_/NOUN sein_/AUX ,_/PUNCT jede_/DET Pfütze_/NOUN getrunken_/ADJ ,_/PUNCT (_/PUNCT der_/DET Dürer_/NOUN )_/PUNCT und_/CCONJ Überschwemmungen_/NOUN ,_/PUNCT aus_/ADP den_/DET aufgeschlagenen_/ADJ Karten_/NOUN ,_/PUNCT Treue_/NOUN ,_/PUNCT Beständigkeit_/NOUN ,_/PUNCT schnarrendes_/ADJ Maulhorn_/NOUN ,_/PUNCT Werktreue_/NOUN ,_/PUNCT rufe_/VERB ich_/PRON ,_/PUNCT gelesen_/VERB ,_/PUNCT Säge_/NOUN des_/DET Laubs_/NOUN ,_/PUNCT Verdruss_/NOUN +_/CCONJ Krankheit_/NOUN alles_/PRON verflochten_/VERB ,_/PUNCT aber_/CCONJ es_/PRON ist_/AUX kein_/DET Schatz_/NOUN zugegen_/ADJ mein_/PRON Gaumen_/NOUN krümmt_/VERB sich_/PRON ,_/PUNCT nämlich_/ADV das_/DET Stativ_/NOUN deiner_/PRON Beine_/NOUN (_/PUNCT deiner_/PRON Beine_/NOUN )_/PUNCT plötzlich_/ADJ eingerastet_/ADJ ,_/PUNCT unter_/ADP dem_/DET Kinn_/NOUN gelegen_/VERB ,_/PUNCT unter_/ADP der_/DET Zunge_/NOUN ,_/PUNCT verkappte_/ADJ Schläfe_/NOUN (_/PUNCT mit_/ADP Kappe_/NOUN )_/PUNCT Oktoberkeule_/NOUN\n",
      "Werktreue! der Körper will sich ja schließen rufst du, Verdruss und Krankheit, die Witwe, als Göttin aus der Maschine, die Zigeunerspielkarten aus in der Brusttasche, dreimal geteilt, mit der Linken linken Hand, die Rosalia sichtbar zu machen, bewaldet, wir essen kleine Drachen, den Mond, das Land ist Löwe, viel Hitze, Pompeji, (ist verbrannt), nur Kälberleib, Bekröter sogar, von jeder jede Pfütze getrunken, ( der Dürer ) (und Überschwemmungen), aus den aufgeschlagenen Karten Beständigkeit, Treue, gelesen, schnarrendes Maulhorn, Werktreue, !, rufe ich, Krankheit Verdruss, alles verflochten, aber es ist kein Schatz zugegen, mein Gaumen krümmt sich, das Stativ deiner seiner Beine eingerastet, verkappte Schläfe, mit Kappe, Oktoberkeule - das Stativ deiner Beine eingerastet\n",
      "Werktreue!_/PROPN der_/DET Körper_/NOUN will_/AUX sich_/PRON ja_/ADV schließen_/VERB rufst_/ADV du_/PRON ,_/PUNCT Verdruss_/NOUN und_/CCONJ Krankheit_/NOUN ,_/PUNCT die_/DET Witwe_/NOUN ,_/PUNCT als_/CCONJ Göttin_/NOUN aus_/ADP der_/DET Maschine_/NOUN ,_/PUNCT die_/DET Zigeunerspielkarten_/NOUN aus_/ADP in_/ADP der_/DET Brusttasche_/NOUN ,_/PUNCT dreimal_/ADV geteilt_/VERB ,_/PUNCT mit_/ADP der_/PRON Linken_/NOUN linken_/VERB Hand_/NOUN ,_/PUNCT die_/PRON Rosalia_/PROPN sichtbar_/ADJ zu_/PART machen_/VERB ,_/PUNCT bewaldet_/VERB ,_/PUNCT wir_/PRON essen_/VERB kleine_/ADJ Drachen_/NOUN ,_/PUNCT den_/DET Mond_/NOUN ,_/PUNCT das_/DET Land_/NOUN ist_/AUX Löwe_/NOUN ,_/PUNCT viel_/ADJ Hitze_/NOUN ,_/PUNCT Pompeji_/PROPN ,_/PUNCT (_/PUNCT ist_/AUX verbrannt_/ADJ )_/PUNCT ,_/PUNCT nur_/ADV Kälberleib_/PROPN ,_/PUNCT Bekröter_/PROPN sogar_/ADV ,_/PUNCT von_/ADP jeder_/PRON jede_/DET Pfütze_/NOUN getrunken_/ADJ ,_/PUNCT (_/PUNCT der_/DET Dürer_/NOUN )_/PUNCT (_/PUNCT und_/CCONJ Überschwemmungen_/NOUN )_/PUNCT ,_/PUNCT aus_/ADP den_/DET aufgeschlagenen_/ADJ Karten_/NOUN Beständigkeit_/NOUN ,_/PUNCT Treue_/NOUN ,_/PUNCT gelesen_/VERB ,_/PUNCT schnarrendes_/ADJ Maulhorn_/NOUN ,_/PUNCT Werktreue_/NOUN ,_/PUNCT !_/PUNCT ,_/PUNCT rufe_/VERB ich_/PRON ,_/PUNCT Krankheit_/NOUN Verdruss_/NOUN ,_/PUNCT alles_/PRON verflochten_/VERB ,_/PUNCT aber_/CCONJ es_/PRON ist_/AUX kein_/DET Schatz_/NOUN zugegen_/ADJ ,_/PUNCT mein_/PRON Gaumen_/NOUN krümmt_/VERB sich_/PRON ,_/PUNCT das_/DET Stativ_/NOUN deiner_/PRON seiner_/PRON Beine_/NOUN eingerastet_/ADJ ,_/PUNCT verkappte_/ADJ Schläfe_/NOUN ,_/PUNCT mit_/ADP Kappe_/NOUN ,_/PUNCT Oktoberkeule_/NOUN -_/PUNCT das_/DET Stativ_/NOUN deiner_/PRON Beine_/NOUN eingerastet_/VERB\n",
      "weil das Auge zuerst bricht der Körper will sich ja schließen, Verdruss und Krankheit, die Witwe, Göttin aus der Maschine, die Zigeunerspielkarten Zigeunerkarten plötzlich aus der Brusttasche Tasche gezogen, dreimal abheben abgehoben, linkshändig, die Rosalia sichtbar zu machen, rufst du, bewaldet, wir essen kleine Drachen, den Mond, das Land ist Löwe, viel Hitze, Pompeji, nur Kälberleib, Bekröter sogar, Wahrträume, wie mit vielen Augen von jeder Pfütze getrunken, (der Dürer!) und Überschwemmungen Werktreue? rufe ich aus den aufgeschlagenen Karten Beständigkeit, Treue, gelesen Treue, Beständigkeit, aus den Karten gelesen, schnarrendes Maulhorn, Werktreue! rufe ich, Krankheit, Verdruss alles verflochten, aber es ist kein Schatz zugegen, mein Gaumen krümmt sich, die Vögel picken zuerst die menschlichen Augen das menschliche Auge aus eingerastet ist das längst Stativ deiner Beine, verkappte Schläfe, Asche sein unter dem Kinn unter der Zunge mit Kappe, Oktoberschatten Oktoberkeule, und -schatten - wo die Schatten einander entgegen sind\n",
      "weil_/SCONJ das_/DET Auge_/NOUN zuerst_/ADV bricht_/VERB der_/DET Körper_/NOUN will_/AUX sich_/PRON ja_/ADV schließen_/VERB ,_/PUNCT Verdruss_/NOUN und_/CCONJ Krankheit_/NOUN ,_/PUNCT die_/DET Witwe_/PROPN ,_/PUNCT Göttin_/PROPN aus_/ADP der_/DET Maschine_/NOUN ,_/PUNCT die_/DET Zigeunerspielkarten_/NOUN Zigeunerkarten_/NOUN plötzlich_/ADJ aus_/ADP der_/DET Brusttasche_/NOUN Tasche_/NOUN gezogen_/VERB ,_/PUNCT dreimal_/ADV abheben_/VERB abgehoben_/ADJ ,_/PUNCT linkshändig_/ADJ ,_/PUNCT die_/DET Rosalia_/PROPN sichtbar_/ADJ zu_/PART machen_/VERB ,_/PUNCT rufst_/VERB du_/PRON ,_/PUNCT bewaldet_/VERB ,_/PUNCT wir_/PRON essen_/VERB kleine_/ADJ Drachen_/NOUN ,_/PUNCT den_/DET Mond_/NOUN ,_/PUNCT das_/DET Land_/NOUN ist_/AUX Löwe_/NOUN ,_/PUNCT viel_/ADJ Hitze_/NOUN ,_/PUNCT Pompeji_/PROPN ,_/PUNCT nur_/ADV Kälberleib_/PROPN ,_/PUNCT Bekröter_/PROPN sogar_/ADV ,_/PUNCT Wahrträume_/NOUN ,_/PUNCT wie_/ADV mit_/ADP vielen_/ADJ Augen_/NOUN von_/ADP jeder_/DET Pfütze_/NOUN getrunken_/ADJ ,_/PUNCT (_/PUNCT der_/DET Dürer_/NOUN !_/PUNCT )_/PUNCT und_/CCONJ Überschwemmungen_/NOUN Werktreue_/NOUN ?_/PUNCT rufe_/VERB ich_/PRON aus_/ADP den_/DET aufgeschlagenen_/ADJ Karten_/NOUN Beständigkeit_/NOUN ,_/PUNCT Treue_/NOUN ,_/PUNCT gelesen_/VERB Treue_/NOUN ,_/PUNCT Beständigkeit_/NOUN ,_/PUNCT aus_/ADP den_/DET Karten_/NOUN gelesen_/VERB ,_/PUNCT schnarrendes_/ADJ Maulhorn_/NOUN ,_/PUNCT Werktreue!_/PROPN rufe_/VERB ich_/PRON ,_/PUNCT Krankheit_/NOUN ,_/PUNCT Verdruss_/NOUN alles_/PRON verflochten_/VERB ,_/PUNCT aber_/CCONJ es_/PRON ist_/AUX kein_/DET Schatz_/NOUN zugegen_/ADJ ,_/PUNCT mein_/PRON Gaumen_/NOUN krümmt_/VERB sich_/PRON ,_/PUNCT die_/DET Vögel_/NOUN picken_/VERB zuerst_/ADV die_/DET menschlichen_/ADJ Augen_/NOUN das_/DET menschliche_/ADJ Auge_/NOUN aus_/ADP eingerastet_/VERB ist_/AUX das_/PRON längst_/ADV Stativ_/ADJ deiner_/PRON Beine_/NOUN ,_/PUNCT verkappte_/ADJ Schläfe_/NOUN ,_/PUNCT Asche_/NOUN sein_/PRON unter_/ADP dem_/DET Kinn_/NOUN unter_/ADP der_/DET Zunge_/NOUN mit_/ADP Kappe_/NOUN ,_/PUNCT Oktoberschatten_/NOUN Oktoberkeule_/PROPN ,_/PUNCT und_/CCONJ -schatten_/ADJ -_/PUNCT wo_/ADV die_/DET Schatten_/NOUN einander_/PRON entgegen_/ADP sind_/AUX\n",
      "weil das Auge zuerst bricht der Körper will sich ja schließen, rufst du, Verdruss und Krankheit, die Witwe, Göttin aus der Maschine, die grünen Spielkarten plötzlich aus der Tasche gezogen, gemischt, dreimal abheben! linkshändig! die Rosalia sichtbar zu machen! bewaldet / wir essen bewaldet! wir essen kleine Drachen, den Mond, das Land ist Löwe, viel Hitze, Pompeji, Kälberleib. Bekröter sogar, Wahrträume wie mit vielen Augen von jeder Pfütze getrunken, die Vögel picken zuerst das menschliche Auge aus, alles verflochten Werktreue? rufe ich, Krankheit Verdruss, mein Gaumen krümmt sich, Beständigkeit, Treue aus den Karten gelesen Krankheit, Verdruss alles verflochten, aber es ist kein Schatz zugegen, Beständigkeit Treue, aus den Karten gelesen, Werktreue? rufe ich, aber es ist kein Schatz zugegen, Asche sein, Stativ deiner Beine, alles verflochten, das Stativ deiner Beine / unter dem Kinn unter der Zunge, schnarrendes Maulhorn, Schläfe mit Kappe, verkappte Schläfe Oktoberkeule Oktoberkeule, und -schatten / wo die unsere Schatten einander entgegen sind\n",
      "weil_/SCONJ das_/DET Auge_/NOUN zuerst_/ADV bricht_/VERB der_/DET Körper_/NOUN will_/AUX sich_/PRON ja_/ADV schließen_/VERB ,_/PUNCT rufst_/ADV du_/PRON ,_/PUNCT Verdruss_/NOUN und_/CCONJ Krankheit_/NOUN ,_/PUNCT die_/DET Witwe_/PROPN ,_/PUNCT Göttin_/PROPN aus_/ADP der_/DET Maschine_/NOUN ,_/PUNCT die_/PRON grünen_/ADJ Spielkarten_/NOUN plötzlich_/ADJ aus_/ADP der_/DET Tasche_/NOUN gezogen_/VERB ,_/PUNCT gemischt_/ADJ ,_/PUNCT dreimal_/ADV abheben!_/PROPN linkshändig!_/X die_/DET Rosalia_/PROPN sichtbar_/ADJ zu_/ADP machen!_/PROPN bewaldet_/VERB /_/X wir_/PRON essen_/VERB bewaldet!_/PUNCT wir_/PRON essen_/VERB kleine_/ADJ Drachen_/NOUN ,_/PUNCT den_/DET Mond_/NOUN ,_/PUNCT das_/DET Land_/NOUN ist_/AUX Löwe_/NOUN ,_/PUNCT viel_/ADJ Hitze_/NOUN ,_/PUNCT Pompeji_/PROPN ,_/PUNCT Kälberleib_/PROPN ._/PUNCT Bekröter_/PROPN sogar_/ADV ,_/PUNCT Wahrträume_/NOUN wie_/CCONJ mit_/ADP vielen_/ADJ Augen_/NOUN von_/ADP jeder_/DET Pfütze_/NOUN getrunken_/VERB ,_/PUNCT die_/PRON Vögel_/NOUN picken_/VERB zuerst_/ADV das_/DET menschliche_/ADJ Auge_/NOUN aus_/ADP ,_/PUNCT alles_/DET verflochten_/ADJ Werktreue_/NOUN ?_/PUNCT rufe_/VERB ich_/PRON ,_/PUNCT Krankheit_/NOUN Verdruss_/NOUN ,_/PUNCT mein_/PRON Gaumen_/NOUN krümmt_/VERB sich_/PRON ,_/PUNCT Beständigkeit_/NOUN ,_/PUNCT Treue_/NOUN aus_/ADP den_/DET Karten_/NOUN gelesen_/VERB Krankheit_/NOUN ,_/PUNCT Verdruss_/NOUN alles_/PRON verflochten_/VERB ,_/PUNCT aber_/CCONJ es_/PRON ist_/AUX kein_/DET Schatz_/NOUN zugegen_/ADJ ,_/PUNCT Beständigkeit_/NOUN Treue_/NOUN ,_/PUNCT aus_/ADP den_/DET Karten_/NOUN gelesen_/VERB ,_/PUNCT Werktreue_/NOUN ?_/PUNCT rufe_/VERB ich_/PRON ,_/PUNCT aber_/CCONJ es_/PRON ist_/AUX kein_/DET Schatz_/NOUN zugegen_/ADJ ,_/PUNCT Asche_/NOUN sein_/AUX ,_/PUNCT Stativ_/NOUN deiner_/PRON Beine_/NOUN ,_/PUNCT alles_/PRON verflochten_/VERB ,_/PUNCT das_/DET Stativ_/NOUN deiner_/PRON Beine_/NOUN /_/X unter_/ADP dem_/DET Kinn_/NOUN unter_/ADP der_/DET Zunge_/NOUN ,_/PUNCT schnarrendes_/ADJ Maulhorn_/NOUN ,_/PUNCT Schläfe_/NOUN mit_/ADP Kappe_/NOUN ,_/PUNCT verkappte_/VERB Schläfe_/PROPN Oktoberkeule_/PROPN Oktoberkeule_/PROPN ,_/PUNCT und_/CCONJ -schatten_/NOUN /_/PUNCT wo_/ADV die_/DET unsere_/PRON Schatten_/NOUN einander_/PRON entgegen_/ADP sind_/AUX\n",
      "weil das Auge zuerst bricht der Körper will sich ja schließen, rufst du, Verdruss und Krankheit, die Witwe, Göttin aus der Maschine, die grünen Spielkarten plötzlich aus der Tasche gezogen, gemischt, dreimal abheben! linkshändig! die Rosalia sichtbar machen!, bewaldet / wir essen kleine Drachen, den Mond, das Land ist Löwe, viel Hitze, Pompeji, ein Kälberleib, Bekröter sogar, Wahrträume wie m it vielen Augen von jeder Pfütze getrunken, die Vögel picken zuerst das menschliche Auge aus, mein Gaumen krümmt sich alles verflochten, Krankheit, Verdruss aber es ist kein Schatz zugegen, Beständigkeit, Treue aus den Karten gelesen, Werktreue? rufe ich, unter der Zunge, unter dem Kinn, ein Stativ deiner Beine, Schläfe mit Kappe, Oktoberkeule, und schnarrendes Maulhorn, wo unsere Schatten einander entgegen sind\n",
      "weil_/SCONJ das_/DET Auge_/NOUN zuerst_/ADV bricht_/VERB der_/DET Körper_/NOUN will_/AUX sich_/PRON ja_/ADV schließen_/VERB ,_/PUNCT rufst_/ADV du_/PRON ,_/PUNCT Verdruss_/NOUN und_/CCONJ Krankheit_/NOUN ,_/PUNCT die_/DET Witwe_/PROPN ,_/PUNCT Göttin_/PROPN aus_/ADP der_/DET Maschine_/NOUN ,_/PUNCT die_/PRON grünen_/ADJ Spielkarten_/NOUN plötzlich_/ADJ aus_/ADP der_/DET Tasche_/NOUN gezogen_/VERB ,_/PUNCT gemischt_/ADJ ,_/PUNCT dreimal_/ADV abheben!_/PROPN linkshändig!_/X die_/DET Rosalia_/NOUN sichtbar_/ADJ machen_/VERB !_/PUNCT ,_/PUNCT bewaldet_/VERB /_/X wir_/PRON essen_/ADJ kleine_/ADJ Drachen_/NOUN ,_/PUNCT den_/DET Mond_/NOUN ,_/PUNCT das_/DET Land_/NOUN ist_/AUX Löwe_/NOUN ,_/PUNCT viel_/ADJ Hitze_/NOUN ,_/PUNCT Pompeji_/PROPN ,_/PUNCT ein_/DET Kälberleib_/NOUN ,_/PUNCT Bekröter_/NOUN sogar_/ADV ,_/PUNCT Wahrträume_/NOUN wie_/CCONJ m_/NOUN it_/ADJ vielen_/ADJ Augen_/NOUN von_/ADP jeder_/DET Pfütze_/NOUN getrunken_/ADJ ,_/PUNCT die_/DET Vögel_/NOUN picken_/VERB zuerst_/ADV das_/DET menschliche_/ADJ Auge_/NOUN aus_/ADP ,_/PUNCT mein_/PRON Gaumen_/NOUN krümmt_/VERB sich_/PRON alles_/PRON verflochten_/ADJ ,_/PUNCT Krankheit_/NOUN ,_/PUNCT Verdruss_/NOUN aber_/CCONJ es_/PRON ist_/AUX kein_/DET Schatz_/NOUN zugegen_/ADJ ,_/PUNCT Beständigkeit_/NOUN ,_/PUNCT Treue_/NOUN aus_/ADP den_/DET Karten_/NOUN gelesen_/VERB ,_/PUNCT Werktreue_/NOUN ?_/PUNCT rufe_/VERB ich_/PRON ,_/PUNCT unter_/ADP der_/DET Zunge_/NOUN ,_/PUNCT unter_/ADP dem_/DET Kinn_/NOUN ,_/PUNCT ein_/DET Stativ_/NOUN deiner_/PRON Beine_/NOUN ,_/PUNCT Schläfe_/NOUN mit_/ADP Kappe_/NOUN ,_/PUNCT Oktoberkeule_/NOUN ,_/PUNCT und_/CCONJ schnarrendes_/ADJ Maulhorn_/NOUN ,_/PUNCT wo_/ADV unsere_/PRON Schatten_/NOUN einander_/PRON entgegen_/ADP sind_/AUX\n",
      "weil das Auge zuerst bricht der Körper will sich ja schließen, rufst du, Verdruss und Krankheit, die Witwe, Göttin aus der Maschine, die grünen Spielkarten plötzlich aus der Tasche gezogen, gemischt, dreimal abheben! linkshändig! die Rosalia sichtbar zu machen, bewaldet / wir essen kleine Drachen, den Mond, das Land ist Löwe, viel Hitze, Pompeji, ein Kälberleib, Bekröter sogar, Wahrträume wie mit vielen Augen von jeder Pfütze getrunken, die Vögel picken zuerst das menschliche Auge aus, alles verflochten, Krankheit, Verdruss, mein Gaumen krümmt sich, aber es ist kein Schatz zugegen, Treue, Beständigkeit, aus den Karten gelesen, Werktreue? rufe ich, Stativ Asche sein, Stativ deiner Beine, mein Gaumen krümmt sich, Schläfe mit Kappe unter der Zunge unter dem Kinn, Oktoberkeule, und schnarrendes Maulhorn, wo unsere Schatten einander entgegen sind\n",
      "weil_/SCONJ das_/DET Auge_/NOUN zuerst_/ADV bricht_/VERB der_/DET Körper_/NOUN will_/AUX sich_/PRON ja_/ADV schließen_/VERB ,_/PUNCT rufst_/ADV du_/PRON ,_/PUNCT Verdruss_/NOUN und_/CCONJ Krankheit_/NOUN ,_/PUNCT die_/DET Witwe_/PROPN ,_/PUNCT Göttin_/PROPN aus_/ADP der_/DET Maschine_/NOUN ,_/PUNCT die_/PRON grünen_/ADJ Spielkarten_/NOUN plötzlich_/ADJ aus_/ADP der_/DET Tasche_/NOUN gezogen_/VERB ,_/PUNCT gemischt_/ADJ ,_/PUNCT dreimal_/ADV abheben!_/PROPN linkshändig!_/X die_/DET Rosalia_/PROPN sichtbar_/ADJ zu_/PART machen_/VERB ,_/PUNCT bewaldet_/VERB /_/X wir_/PRON essen_/ADJ kleine_/ADJ Drachen_/NOUN ,_/PUNCT den_/DET Mond_/NOUN ,_/PUNCT das_/DET Land_/NOUN ist_/AUX Löwe_/NOUN ,_/PUNCT viel_/ADJ Hitze_/NOUN ,_/PUNCT Pompeji_/PROPN ,_/PUNCT ein_/DET Kälberleib_/NOUN ,_/PUNCT Bekröter_/NOUN sogar_/ADV ,_/PUNCT Wahrträume_/NOUN wie_/CCONJ mit_/ADP vielen_/ADJ Augen_/NOUN von_/ADP jeder_/DET Pfütze_/NOUN getrunken_/ADJ ,_/PUNCT die_/DET Vögel_/NOUN picken_/VERB zuerst_/ADV das_/DET menschliche_/ADJ Auge_/NOUN aus_/ADP ,_/PUNCT alles_/PRON verflochten_/VERB ,_/PUNCT Krankheit_/NOUN ,_/PUNCT Verdruss_/NOUN ,_/PUNCT mein_/PRON Gaumen_/NOUN krümmt_/VERB sich_/PRON ,_/PUNCT aber_/CCONJ es_/PRON ist_/AUX kein_/DET Schatz_/NOUN zugegen_/ADJ ,_/PUNCT Treue_/NOUN ,_/PUNCT Beständigkeit_/NOUN ,_/PUNCT aus_/ADP den_/DET Karten_/NOUN gelesen_/VERB ,_/PUNCT Werktreue_/NOUN ?_/PUNCT rufe_/VERB ich_/PRON ,_/PUNCT Stativ_/NOUN Asche_/NOUN sein_/AUX ,_/PUNCT Stativ_/NOUN deiner_/PRON Beine_/NOUN ,_/PUNCT mein_/PRON Gaumen_/NOUN krümmt_/VERB sich_/PRON ,_/PUNCT Schläfe_/NOUN mit_/ADP Kappe_/NOUN unter_/ADP der_/DET Zunge_/NOUN unter_/ADP dem_/DET Kinn_/NOUN ,_/PUNCT Oktoberkeule_/NOUN ,_/PUNCT und_/CCONJ schnarrendes_/ADJ Maulhorn_/NOUN ,_/PUNCT wo_/ADV unsere_/PRON Schatten_/NOUN einander_/PRON entgegen_/ADP sind_/AUX\n",
      "weil das Auge zuerst bricht der Körper will sich ja schließen, rufst du, Verdruss und Krankheit, die Witwe, Göttin aus der Maschine, die grünen Zigeunerkarten Spielkarten plötzlich aus der Tasche gezogen, gemischt vermischt, dreimal abheben! linkshändig! die Rosalia sichtbar zu machen (bewaldet) / wir essen kleine Drachen, den Mond, das Land ist Löwe, viel voll Hitze, Pompeji, Kunstwellen ein Kälberleib, Bekröter sogar, Wahrträume wie mit vielen Augen von jeder Pfütze getrunken, die Vögel picken zuerst das menschliche Auge aus, alles verflochten, Krankheit, Verdruss, Säge des Laubs, mein Gaumen krümmt sich, aber es ist kein Schatz zugegen, die Treue, Beständigkeit aus den Karten gelesen, Werktreue? rufe ich, Asche sein, Stativ deiner Beine, Schläfe mit Kappe, unter der Zunge, unter dem Kinn, Oktoberkeule, und dein schnarrend schnarrendes Maulhorn / wo unsere Schatten einander entgegen sind\n",
      "weil_/SCONJ das_/DET Auge_/NOUN zuerst_/ADV bricht_/VERB der_/DET Körper_/NOUN will_/AUX sich_/PRON ja_/ADV schließen_/VERB ,_/PUNCT rufst_/ADV du_/PRON ,_/PUNCT Verdruss_/NOUN und_/CCONJ Krankheit_/NOUN ,_/PUNCT die_/DET Witwe_/PROPN ,_/PUNCT Göttin_/PROPN aus_/ADP der_/DET Maschine_/NOUN ,_/PUNCT die_/PRON grünen_/ADJ Zigeunerkarten_/NOUN Spielkarten_/NOUN plötzlich_/ADJ aus_/ADP der_/DET Tasche_/NOUN gezogen_/VERB ,_/PUNCT gemischt_/ADJ vermischt_/VERB ,_/PUNCT dreimal_/ADV abheben!_/PROPN linkshändig!_/X die_/DET Rosalia_/PROPN sichtbar_/ADJ zu_/PART machen_/VERB (_/PUNCT bewaldet_/VERB )_/PUNCT /_/X wir_/PRON essen_/VERB kleine_/ADJ Drachen_/NOUN ,_/PUNCT den_/DET Mond_/NOUN ,_/PUNCT das_/DET Land_/NOUN ist_/AUX Löwe_/NOUN ,_/PUNCT viel_/ADV voll_/ADJ Hitze_/NOUN ,_/PUNCT Pompeji_/PROPN ,_/PUNCT Kunstwellen_/NOUN ein_/DET Kälberleib_/NOUN ,_/PUNCT Bekröter_/NOUN sogar_/ADV ,_/PUNCT Wahrträume_/NOUN wie_/CCONJ mit_/ADP vielen_/ADJ Augen_/NOUN von_/ADP jeder_/DET Pfütze_/NOUN getrunken_/ADJ ,_/PUNCT die_/DET Vögel_/NOUN picken_/VERB zuerst_/ADV das_/DET menschliche_/ADJ Auge_/NOUN aus_/ADP ,_/PUNCT alles_/PRON verflochten_/VERB ,_/PUNCT Krankheit_/NOUN ,_/PUNCT Verdruss_/NOUN ,_/PUNCT Säge_/NOUN des_/DET Laubs_/NOUN ,_/PUNCT mein_/PRON Gaumen_/NOUN krümmt_/VERB sich_/PRON ,_/PUNCT aber_/CCONJ es_/PRON ist_/AUX kein_/DET Schatz_/NOUN zugegen_/ADJ ,_/PUNCT die_/DET Treue_/NOUN ,_/PUNCT Beständigkeit_/NOUN aus_/ADP den_/DET Karten_/NOUN gelesen_/VERB ,_/PUNCT Werktreue_/NOUN ?_/PUNCT rufe_/VERB ich_/PRON ,_/PUNCT Asche_/NOUN sein_/AUX ,_/PUNCT Stativ_/NOUN deiner_/PRON Beine_/NOUN ,_/PUNCT Schläfe_/NOUN mit_/ADP Kappe_/NOUN ,_/PUNCT unter_/ADP der_/DET Zunge_/NOUN ,_/PUNCT unter_/ADP dem_/DET Kinn_/NOUN ,_/PUNCT Oktoberkeule_/NOUN ,_/PUNCT und_/CCONJ dein_/PRON schnarrend_/ADJ schnarrendes_/ADJ Maulhorn_/X /_/X wo_/ADV unsere_/PRON Schatten_/NOUN einander_/PRON entgegen_/ADP sind_/AUX\n",
      "vielleicht weil das Auge zuerst bricht der Körper will sich ja schließen! rufst du Verdruss und Krankheit der Witwe : Göttin aus der Maschine, die grünen Zigeunerkarten plötzlich aus der Tasche gezogen vermischt, dreimal abheben! linkshändig! die Rosalia sichtbar zu machen (bewaldet), wir essen kleine Drachen den Mond, das Land ist Löwe viel Hitze Pompeji Kunstwellen Kälberleib Bekröter sogar : Wahrträume - wie mit vielen Augen aus jeder Pfütze getrunken, die Vögel picken das menschliche Auge zuerst aus, alles verflochten Krankheit Verdruss Säge des Laubs, mein Gaumen krümmt sich aber es ist kein Schatz zugegen, die Treue Beständigkeit aus den Karten gelesen, Werktreue? rufe ich, Asche werden, Stativ deiner Beine, Schläfe mit Kappe, Oktoberkeule dein schnarrendes Maulhorn ach wo unsere Schatten einander entgegen sind -\n",
      "vielleicht_/ADV weil_/SCONJ das_/DET Auge_/NOUN zuerst_/ADV bricht_/VERB der_/DET Körper_/NOUN will_/AUX sich_/PRON ja_/ADV schließen!_/PROPN rufst_/VERB du_/PRON Verdruss_/NOUN und_/CCONJ Krankheit_/NOUN der_/DET Witwe_/NOUN :_/PUNCT Göttin_/PROPN aus_/ADP der_/DET Maschine_/NOUN ,_/PUNCT die_/PRON grünen_/ADJ Zigeunerkarten_/NOUN plötzlich_/ADJ aus_/ADP der_/DET Tasche_/NOUN gezogen_/ADJ vermischt_/VERB ,_/PUNCT dreimal_/ADV abheben!_/PROPN linkshändig!_/X die_/DET Rosalia_/PROPN sichtbar_/ADJ zu_/PART machen_/VERB (_/PUNCT bewaldet_/VERB )_/PUNCT ,_/PUNCT wir_/PRON essen_/VERB kleine_/ADJ Drachen_/NOUN den_/DET Mond_/NOUN ,_/PUNCT das_/DET Land_/NOUN ist_/AUX Löwe_/NOUN viel_/ADJ Hitze_/NOUN Pompeji_/PROPN Kunstwellen_/ADJ Kälberleib_/NOUN Bekröter_/PROPN sogar_/ADV :_/PUNCT Wahrträume_/NOUN -_/PUNCT wie_/CCONJ mit_/ADP vielen_/ADJ Augen_/NOUN aus_/ADP jeder_/DET Pfütze_/NOUN getrunken_/VERB ,_/PUNCT die_/PRON Vögel_/NOUN picken_/VERB das_/DET menschliche_/ADJ Auge_/NOUN zuerst_/ADV aus_/ADP ,_/PUNCT alles_/DET verflochten_/ADJ Krankheit_/NOUN Verdruss_/PROPN Säge_/NOUN des_/DET Laubs_/NOUN ,_/PUNCT mein_/PRON Gaumen_/NOUN krümmt_/VERB sich_/PRON aber_/ADV es_/PRON ist_/AUX kein_/DET Schatz_/NOUN zugegen_/ADJ ,_/PUNCT die_/DET Treue_/NOUN Beständigkeit_/NOUN aus_/ADP den_/DET Karten_/NOUN gelesen_/VERB ,_/PUNCT Werktreue_/NOUN ?_/PUNCT rufe_/VERB ich_/PRON ,_/PUNCT Asche_/NOUN werden_/AUX ,_/PUNCT Stativ_/NOUN deiner_/PRON Beine_/NOUN ,_/PUNCT Schläfe_/NOUN mit_/ADP Kappe_/NOUN ,_/PUNCT Oktoberkeule_/NOUN dein_/DET schnarrendes_/ADJ Maulhorn_/NOUN ach_/ADV wo_/ADV unsere_/PRON Schatten_/NOUN einander_/PRON entgegen_/ADP sind_/AUX -_/PUNCT\n",
      "        text    pos\n",
      "0        der    DET\n",
      "1     Körper   NOUN\n",
      "2       will    AUX\n",
      "3       sich   PRON\n",
      "4         ja    ADV\n",
      "5  schließen   VERB\n",
      "6          ,  PUNCT\n",
      "7      rufst    ADV\n",
      "8         du   PRON\n",
      "9          ,  PUNCT\n"
     ]
    }
   ],
   "source": [
    "postagging_udp(linegroups, nlp, poem)"
   ]
  },
  {
   "cell_type": "code",
   "execution_count": null,
   "id": "2128f3f5-c0ff-46d1-9526-cdcf26cf5d6d",
   "metadata": {},
   "outputs": [],
   "source": []
  },
  {
   "cell_type": "code",
   "execution_count": null,
   "id": "3bf69f6b-fbda-4ec9-9a89-e54ae4098972",
   "metadata": {},
   "outputs": [],
   "source": []
  },
  {
   "cell_type": "code",
   "execution_count": null,
   "id": "4670b92b-ad45-4701-ba6e-9c765dc7f164",
   "metadata": {},
   "outputs": [],
   "source": []
  },
  {
   "cell_type": "code",
   "execution_count": null,
   "id": "7cb0c307-05f5-41d4-83e7-84291d324edd",
   "metadata": {},
   "outputs": [],
   "source": []
  },
  {
   "cell_type": "code",
   "execution_count": null,
   "id": "72634cf6-6ae1-4a41-9c28-30cd0e5581c0",
   "metadata": {},
   "outputs": [],
   "source": []
  },
  {
   "cell_type": "code",
   "execution_count": null,
   "id": "d156c7e2-3137-458d-981f-c808affa3d21",
   "metadata": {},
   "outputs": [],
   "source": []
  },
  {
   "cell_type": "code",
   "execution_count": null,
   "id": "bb7f93c3-d398-45be-9a1d-a6584ec63828",
   "metadata": {},
   "outputs": [],
   "source": []
  },
  {
   "cell_type": "code",
   "execution_count": null,
   "id": "a15e6a0a",
   "metadata": {},
   "outputs": [],
   "source": []
  },
  {
   "cell_type": "code",
   "execution_count": null,
   "id": "ab69263f",
   "metadata": {},
   "outputs": [],
   "source": []
  }
 ],
 "metadata": {
  "kernelspec": {
   "display_name": "Python 3 (ipykernel)",
   "language": "python",
   "name": "python3"
  },
  "language_info": {
   "codemirror_mode": {
    "name": "ipython",
    "version": 3
   },
   "file_extension": ".py",
   "mimetype": "text/x-python",
   "name": "python",
   "nbconvert_exporter": "python",
   "pygments_lexer": "ipython3",
   "version": "3.11.9"
  }
 },
 "nbformat": 4,
 "nbformat_minor": 5
}
