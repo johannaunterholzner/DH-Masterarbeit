{
 "cells": [
  {
   "cell_type": "code",
   "execution_count": 42,
   "id": "1ac803fe-6332-46ca-bda3-f8374d8efa42",
   "metadata": {},
   "outputs": [],
   "source": [
    "import lxml\n",
    "from lxml import etree\n",
    "import pandas as pd\n",
    "import re\n",
    "import os"
   ]
  },
  {
   "cell_type": "code",
   "execution_count": 2,
   "id": "183b5351-5fed-4b30-8502-9c89d808442f",
   "metadata": {},
   "outputs": [],
   "source": [
    "tree = etree.parse(\"C:/Users/jO/Desktop/DH_MA_Arbeit/coding/extrahiert_vwdazb - Kopie.xml\")"
   ]
  },
  {
   "cell_type": "code",
   "execution_count": 9,
   "id": "5dfec68f-39c8-45cf-89cb-27bd9a9ce026",
   "metadata": {},
   "outputs": [],
   "source": [
    "ns = {\"t\": \"http://www.tei-c.org/ns/1.0\"}\n",
    "xml = \"{http://www.w3.org/XML/1998/namespace}\""
   ]
  },
  {
   "cell_type": "code",
   "execution_count": 51,
   "id": "c0358afc-23c3-4dce-a49b-dcc51bb02ee8",
   "metadata": {},
   "outputs": [],
   "source": [
    "#versuch mit funktion, funktioniert\n",
    "\n",
    "def POStext_tocsv(poem, divs, linegroups):\n",
    "    foldername = f\"{poem}_text_pos_csvs\" # Foldername mit Poemname bestimmen\n",
    "    os.makedirs(f\"C:/Users/jO/Desktop/DH_MA_Arbeit/coding/{foldername}\") # Folder kreiern\n",
    "    for div in divs: # divtype und divid extrahieren\n",
    "        divtype = div.attrib.get('type') \n",
    "        divid = div.attrib.get(f'{xml}id')\n",
    "        if divtype and not divid: # wenn es nur ein divtype gibt und kein divid, sind es extrahierte Textstufen und nicht modellierte Textzeugen\n",
    "            for lg in linegroups: \n",
    "                for line in lg: \n",
    "                    if line is not None and line.text: \n",
    "                        linetext = tree.xpath(f\"//t:div[@type='{divtype}']//t:l/text()\", namespaces=ns) # Text innerhalb der Lines extrahieren\n",
    "                        linetext = \"\".join(linetext)\n",
    "                        linetext = \" \".join(linetext.strip().split())\n",
    "                        token_plus_pos = re.findall(r'\\b(\\w+)_/(\\w+)\\b', linetext) # TOKEN_/POS-Name werden gesucht und gesplitet an dem \"_/\"-Ort\n",
    "                        df = divtype\n",
    "                        df = pd.DataFrame(token_plus_pos, columns=['token', 'pos']) # pro div ein dataframe erstellen\n",
    "                        df.to_csv(f'{foldername}/Token-POS_extrahierte_revision_{divtype}_df.csv', index=False) #diesen dataframe im neu erstellten Ordner als csv speichern\n",
    "                        df.head(10)\n",
    "                    "
   ]
  },
  {
   "cell_type": "code",
   "execution_count": 53,
   "id": "c18106bd-5165-47cd-af2d-9d26768a5016",
   "metadata": {},
   "outputs": [],
   "source": [
    "poem = \"vwdazb\"\n",
    "divs = tree.xpath(\"//t:div[@type='poem' and @xml:id='vielleichtweildasAugezuerstbricht']//t:div\", namespaces=ns)\n",
    "linegroups = tree.xpath(\"//t:lg\", namespaces=ns)\n",
    "POStext_tocsv(poem, divs, linegroups)"
   ]
  },
  {
   "cell_type": "code",
   "execution_count": null,
   "id": "176df6ba-322f-4d26-85f0-e3e965a5bf37",
   "metadata": {},
   "outputs": [],
   "source": []
  },
  {
   "cell_type": "code",
   "execution_count": null,
   "id": "aeac5a92-02e6-4b80-ae45-e039f7154255",
   "metadata": {},
   "outputs": [],
   "source": []
  }
 ],
 "metadata": {
  "kernelspec": {
   "display_name": "Python 3 (ipykernel)",
   "language": "python",
   "name": "python3"
  },
  "language_info": {
   "codemirror_mode": {
    "name": "ipython",
    "version": 3
   },
   "file_extension": ".py",
   "mimetype": "text/x-python",
   "name": "python",
   "nbconvert_exporter": "python",
   "pygments_lexer": "ipython3",
   "version": "3.11.9"
  }
 },
 "nbformat": 4,
 "nbformat_minor": 5
}
