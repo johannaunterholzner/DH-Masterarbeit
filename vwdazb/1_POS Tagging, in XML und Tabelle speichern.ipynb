{
 "cells": [
  {
   "cell_type": "code",
   "execution_count": 1,
   "id": "e5bf74f9",
   "metadata": {},
   "outputs": [],
   "source": [
    "import lxml\n",
    "from lxml import etree\n",
    "import spacy\n",
    "import pandas as pd"
   ]
  },
  {
   "cell_type": "code",
   "execution_count": 21,
   "id": "d5d58c0f",
   "metadata": {},
   "outputs": [],
   "source": [
    "tree = etree.parse(\"C:/Users/jO/Desktop/DH_MA_Arbeit/coding/vwdazb/transkribiert_vwdazb.xml\")"
   ]
  },
  {
   "cell_type": "code",
   "execution_count": 4,
   "id": "12cacc20-fa15-4477-99ec-863a6b1be491",
   "metadata": {},
   "outputs": [],
   "source": [
    "ns = {\"t\":'http://www.tei-c.org/ns/1.0'}\n",
    "xml = \"{http://www.w3.org/XML/1998/namespace}\""
   ]
  },
  {
   "cell_type": "markdown",
   "id": "3a9c8249",
   "metadata": {},
   "source": [
    "# POS-Tagging: Spacy"
   ]
  },
  {
   "cell_type": "markdown",
   "id": "df6dfa5b",
   "metadata": {},
   "source": [
    "German Language Models: https://spacy.io/models/de"
   ]
  },
  {
   "cell_type": "code",
   "execution_count": null,
   "id": "706f21bc-0357-421e-a403-c57af9e70d9f",
   "metadata": {},
   "outputs": [],
   "source": []
  },
  {
   "cell_type": "markdown",
   "id": "0ee1310f-f77e-4645-9e4f-402e5a876ee9",
   "metadata": {},
   "source": [
    "## Modell: \"de_core_news_lg\""
   ]
  },
  {
   "cell_type": "code",
   "execution_count": 17,
   "id": "60733982",
   "metadata": {},
   "outputs": [
    {
     "name": "stdout",
     "output_type": "stream",
     "text": [
      "\u001b[38;5;2m✔ Download and installation successful\u001b[0m\n",
      "You can now load the package via spacy.load('de_core_news_lg')\n",
      "\u001b[38;5;3m⚠ Restart to reload dependencies\u001b[0m\n",
      "If you are in a Jupyter or Colab notebook, you may need to restart Python in\n",
      "order to load all the package's dependencies. You can do this by selecting the\n",
      "'Restart kernel' or 'Restart runtime' option.\n"
     ]
    }
   ],
   "source": [
    "#spacy.cli.download(\"de_core_news_lg\")"
   ]
  },
  {
   "cell_type": "code",
   "execution_count": 3,
   "id": "d1342e03",
   "metadata": {},
   "outputs": [],
   "source": [
    "nlp = spacy.load(\"de_core_news_lg\", disable=[\"ner\"])"
   ]
  },
  {
   "cell_type": "code",
   "execution_count": 22,
   "id": "f49cdcf1",
   "metadata": {},
   "outputs": [],
   "source": [
    "linegroups = tree.xpath(\"//t:lg\", namespaces=ns)"
   ]
  },
  {
   "cell_type": "code",
   "execution_count": 14,
   "id": "541978ff-359a-40cf-bb8c-798ca1d15360",
   "metadata": {},
   "outputs": [],
   "source": [
    "poem = \"vwdazb\""
   ]
  },
  {
   "cell_type": "code",
   "execution_count": 17,
   "id": "f439a5da",
   "metadata": {},
   "outputs": [],
   "source": [
    "def postagging_lg(linegroups, nlp, poem): \n",
    "    pos_info = [] # Liste für CSV\n",
    "    for lg in linegroups: # Linegroup aus der Liste aller Linegroups\n",
    "        for line in lg: # Line in Linegroup\n",
    "            if line is not None and line.text: #wenn Line einen Text hat\n",
    "                line_text = line.text # Text abrufen\n",
    "                line_text.replace(\"\\n\", \"\").replace(\"\\r\", \"\") # Text normalisieren\n",
    "                line_text = \" \".join(line_text.strip().split())\n",
    "                #print(line_text)\n",
    "                doc = nlp(line_text) # doc von Text mit nlp erstellen\n",
    "                \n",
    "                new_line_text = [] # Liste für XML\n",
    "                for token in doc:\n",
    "                    new_token = f\"{token.text}_/{token.pos_}\" # Token_/POS erstellen\n",
    "                    new_line_text.append(new_token) # der Liste für XML hinzufügen\n",
    "                    pos_info.append({\n",
    "                    'text': token.text,\n",
    "                    'pos': token.pos_}) # der Liste für CSV hinzufügen\n",
    "                        \n",
    "                newlinetext = \" \".join(new_line_text) # aus der Liste einen String erstellen\n",
    "                #print(newlinetext)\n",
    "        line.text = newlinetext # der Linetext mit dem neuen String ersetzen\n",
    "    \n",
    "    tree.write(f\"output_text+pos_{poem}_lg.xml\", encoding=\"utf-8\", xml_declaration=True) # output xml speichern\n",
    "\n",
    "    pos_info_df = pd.DataFrame(pos_info)\n",
    "    pos_info_df.to_csv(f\"output_text+pos_{poem}_lg.csv\", index=False)\n",
    "    print(pos_info_df.head(10))\n",
    "    "
   ]
  },
  {
   "cell_type": "code",
   "execution_count": 23,
   "id": "c57ff195",
   "metadata": {},
   "outputs": [
    {
     "name": "stdout",
     "output_type": "stream",
     "text": [
      "der Körper will sich ja schließen, rufst du, Verdruss und Krankheit als Göttin aus der Maschine (die Zigeunerspielkarten in der Brust, mit der linken Hand 3 mal geteilt Westentasche, ( oder als müssten wir erinnert werden dass wir nicht Götter sondern Menschen sind, die es nötig haben, ihre Gedanken durch die Feder sichtbar zu machen,) die Rosalia sichtbar zu machen,) die Rosalia, bewaldet, wir essen kleine Drachen, den Mond, Asche sein, das Land ist Löwe, und viel Hitze, Pompeji ist verbrannt, nur Kälberleib, Bekröter sogar, Asche sein, jede Pfütze getrunken, (der Dürer) und Überschwemmungen, aus den aufgeschlagenen Karten, Treue, Beständigkeit, schnarrendes Maulhorn, Werktreue, rufe ich, gelesen, Säge des Laubs, Verdruss + Krankheit alles verflochten, aber es ist kein Schatz zugegen mein Gaumen krümmt sich, nämlich das Stativ deiner Beine (deiner Beine) plötzlich eingerastet, unter dem Kinn gelegen, unter der Zunge, verkappte Schläfe (mit Kappe) Oktoberkeule\n",
      "der_/DET Körper_/NOUN will_/AUX sich_/PRON ja_/ADV schließen_/VERB ,_/PUNCT rufst_/VERB du_/PRON ,_/PUNCT Verdruss_/NOUN und_/CCONJ Krankheit_/NOUN als_/ADP Göttin_/NOUN aus_/ADP der_/DET Maschine_/NOUN (_/PUNCT die_/DET Zigeunerspielkarten_/NOUN in_/ADP der_/DET Brust_/NOUN ,_/PUNCT mit_/ADP der_/DET linken_/ADJ Hand_/NOUN 3_/NUM mal_/ADV geteilt_/VERB Westentasche_/NOUN ,_/PUNCT (_/PUNCT oder_/CCONJ als_/SCONJ müssten_/AUX wir_/PRON erinnert_/VERB werden_/AUX dass_/SCONJ wir_/PRON nicht_/PART Götter_/NOUN sondern_/CCONJ Menschen_/NOUN sind_/AUX ,_/PUNCT die_/PRON es_/PRON nötig_/ADV haben_/VERB ,_/PUNCT ihre_/DET Gedanken_/NOUN durch_/ADP die_/DET Feder_/NOUN sichtbar_/ADV zu_/PART machen_/VERB ,_/PUNCT )_/PUNCT die_/DET Rosalia_/PROPN sichtbar_/ADV zu_/PART machen_/VERB ,_/PUNCT )_/PUNCT die_/DET Rosalia_/PROPN ,_/PUNCT bewaldet_/VERB ,_/PUNCT wir_/PRON essen_/VERB kleine_/ADJ Drachen_/NOUN ,_/PUNCT den_/DET Mond_/NOUN ,_/PUNCT Asche_/NOUN sein_/AUX ,_/PUNCT das_/DET Land_/NOUN ist_/AUX Löwe_/PROPN ,_/PUNCT und_/CCONJ viel_/DET Hitze_/NOUN ,_/PUNCT Pompeji_/PROPN ist_/AUX verbrannt_/VERB ,_/PUNCT nur_/ADV Kälberleib_/NOUN ,_/PUNCT Bekröter_/NOUN sogar_/ADV ,_/PUNCT Asche_/NOUN sein_/AUX ,_/PUNCT jede_/DET Pfütze_/NOUN getrunken_/VERB ,_/PUNCT (_/PUNCT der_/DET Dürer_/PROPN )_/PUNCT und_/CCONJ Überschwemmungen_/NOUN ,_/PUNCT aus_/ADP den_/DET aufgeschlagenen_/ADJ Karten_/NOUN ,_/PUNCT Treue_/NOUN ,_/PUNCT Beständigkeit_/NOUN ,_/PUNCT schnarrendes_/ADJ Maulhorn_/NOUN ,_/PUNCT Werktreue_/NOUN ,_/PUNCT rufe_/VERB ich_/PRON ,_/PUNCT gelesen_/VERB ,_/PUNCT Säge_/NOUN des_/DET Laubs_/NOUN ,_/PUNCT Verdruss_/NOUN +_/CCONJ Krankheit_/NOUN alles_/PRON verflochten_/ADV ,_/PUNCT aber_/CCONJ es_/PRON ist_/AUX kein_/DET Schatz_/NOUN zugegen_/ADP mein_/DET Gaumen_/NOUN krümmt_/VERB sich_/PRON ,_/PUNCT nämlich_/ADV das_/DET Stativ_/NOUN deiner_/DET Beine_/NOUN (_/PUNCT deiner_/DET Beine_/NOUN )_/PUNCT plötzlich_/ADV eingerastet_/VERB ,_/PUNCT unter_/ADP dem_/DET Kinn_/NOUN gelegen_/VERB ,_/PUNCT unter_/ADP der_/DET Zunge_/NOUN ,_/PUNCT verkappte_/ADJ Schläfe_/NOUN (_/PUNCT mit_/ADP Kappe_/NOUN )_/PUNCT Oktoberkeule_/NOUN\n",
      "Werktreue! der Körper will sich ja schließen rufst du, Verdruss und Krankheit, die Witwe, als Göttin aus der Maschine, die Zigeunerspielkarten aus in der Brusttasche, dreimal geteilt, mit der Linken linken Hand, die Rosalia sichtbar zu machen, bewaldet, wir essen kleine Drachen, den Mond, das Land ist Löwe, viel Hitze, Pompeji, (ist verbrannt), nur Kälberleib, Bekröter sogar, von jeder jede Pfütze getrunken, ( der Dürer ) (und Überschwemmungen), aus den aufgeschlagenen Karten Beständigkeit, Treue, gelesen, schnarrendes Maulhorn, Werktreue, !, rufe ich, Krankheit Verdruss, alles verflochten, aber es ist kein Schatz zugegen, mein Gaumen krümmt sich, das Stativ deiner seiner Beine eingerastet, verkappte Schläfe, mit Kappe, Oktoberkeule - das Stativ deiner Beine eingerastet\n",
      "Werktreue_/NOUN !_/PUNCT der_/DET Körper_/NOUN will_/AUX sich_/PRON ja_/ADV schließen_/VERB rufst_/VERB du_/PRON ,_/PUNCT Verdruss_/NOUN und_/CCONJ Krankheit_/NOUN ,_/PUNCT die_/DET Witwe_/NOUN ,_/PUNCT als_/ADP Göttin_/NOUN aus_/ADP der_/DET Maschine_/NOUN ,_/PUNCT die_/DET Zigeunerspielkarten_/NOUN aus_/ADP in_/ADP der_/DET Brusttasche_/NOUN ,_/PUNCT dreimal_/ADV geteilt_/VERB ,_/PUNCT mit_/ADP der_/DET Linken_/NOUN linken_/ADJ Hand_/NOUN ,_/PUNCT die_/DET Rosalia_/PROPN sichtbar_/ADV zu_/PART machen_/VERB ,_/PUNCT bewaldet_/VERB ,_/PUNCT wir_/PRON essen_/VERB kleine_/ADJ Drachen_/NOUN ,_/PUNCT den_/DET Mond_/NOUN ,_/PUNCT das_/DET Land_/NOUN ist_/AUX Löwe_/PROPN ,_/PUNCT viel_/DET Hitze_/NOUN ,_/PUNCT Pompeji_/PROPN ,_/PUNCT (_/PUNCT ist_/AUX verbrannt_/VERB )_/PUNCT ,_/PUNCT nur_/ADV Kälberleib_/NOUN ,_/PUNCT Bekröter_/NOUN sogar_/ADV ,_/PUNCT von_/ADP jeder_/DET jede_/DET Pfütze_/NOUN getrunken_/VERB ,_/PUNCT (_/PUNCT der_/DET Dürer_/PROPN )_/PUNCT (_/PUNCT und_/CCONJ Überschwemmungen_/NOUN )_/PUNCT ,_/PUNCT aus_/ADP den_/DET aufgeschlagenen_/ADJ Karten_/NOUN Beständigkeit_/NOUN ,_/PUNCT Treue_/NOUN ,_/PUNCT gelesen_/VERB ,_/PUNCT schnarrendes_/ADJ Maulhorn_/NOUN ,_/PUNCT Werktreue_/NOUN ,_/PUNCT !_/PUNCT ,_/PUNCT rufe_/VERB ich_/PRON ,_/PUNCT Krankheit_/NOUN Verdruss_/NOUN ,_/PUNCT alles_/PRON verflochten_/ADV ,_/PUNCT aber_/CCONJ es_/PRON ist_/AUX kein_/DET Schatz_/NOUN zugegen_/ADV ,_/PUNCT mein_/DET Gaumen_/NOUN krümmt_/VERB sich_/PRON ,_/PUNCT das_/DET Stativ_/NOUN deiner_/DET seiner_/DET Beine_/NOUN eingerastet_/VERB ,_/PUNCT verkappte_/ADJ Schläfe_/NOUN ,_/PUNCT mit_/ADP Kappe_/NOUN ,_/PUNCT Oktoberkeule_/PROPN -_/PUNCT das_/DET Stativ_/NOUN deiner_/DET Beine_/NOUN eingerastet_/VERB\n",
      "weil das Auge zuerst bricht der Körper will sich ja schließen, Verdruss und Krankheit, die Witwe, Göttin aus der Maschine, die Zigeunerspielkarten Zigeunerkarten plötzlich aus der Brusttasche Tasche gezogen, dreimal abheben abgehoben, linkshändig, die Rosalia sichtbar zu machen, rufst du, bewaldet, wir essen kleine Drachen, den Mond, das Land ist Löwe, viel Hitze, Pompeji, nur Kälberleib, Bekröter sogar, Wahrträume, wie mit vielen Augen von jeder Pfütze getrunken, (der Dürer!) und Überschwemmungen Werktreue? rufe ich aus den aufgeschlagenen Karten Beständigkeit, Treue, gelesen Treue, Beständigkeit, aus den Karten gelesen, schnarrendes Maulhorn, Werktreue! rufe ich, Krankheit, Verdruss alles verflochten, aber es ist kein Schatz zugegen, mein Gaumen krümmt sich, die Vögel picken zuerst die menschlichen Augen das menschliche Auge aus eingerastet ist das längst Stativ deiner Beine, verkappte Schläfe, Asche sein unter dem Kinn unter der Zunge mit Kappe, Oktoberschatten Oktoberkeule, und -schatten - wo die Schatten einander entgegen sind\n",
      "weil_/SCONJ das_/DET Auge_/NOUN zuerst_/ADV bricht_/VERB der_/DET Körper_/NOUN will_/AUX sich_/PRON ja_/ADV schließen_/VERB ,_/PUNCT Verdruss_/NOUN und_/CCONJ Krankheit_/NOUN ,_/PUNCT die_/DET Witwe_/NOUN ,_/PUNCT Göttin_/NOUN aus_/ADP der_/DET Maschine_/NOUN ,_/PUNCT die_/DET Zigeunerspielkarten_/NOUN Zigeunerkarten_/NOUN plötzlich_/ADV aus_/ADP der_/DET Brusttasche_/NOUN Tasche_/NOUN gezogen_/VERB ,_/PUNCT dreimal_/ADV abheben_/VERB abgehoben_/VERB ,_/PUNCT linkshändig_/ADV ,_/PUNCT die_/DET Rosalia_/PROPN sichtbar_/ADV zu_/PART machen_/VERB ,_/PUNCT rufst_/VERB du_/PRON ,_/PUNCT bewaldet_/VERB ,_/PUNCT wir_/PRON essen_/VERB kleine_/ADJ Drachen_/NOUN ,_/PUNCT den_/DET Mond_/NOUN ,_/PUNCT das_/DET Land_/NOUN ist_/AUX Löwe_/PROPN ,_/PUNCT viel_/DET Hitze_/NOUN ,_/PUNCT Pompeji_/PROPN ,_/PUNCT nur_/ADV Kälberleib_/NOUN ,_/PUNCT Bekröter_/NOUN sogar_/ADV ,_/PUNCT Wahrträume_/NOUN ,_/PUNCT wie_/ADP mit_/ADP vielen_/DET Augen_/NOUN von_/ADP jeder_/DET Pfütze_/NOUN getrunken_/VERB ,_/PUNCT (_/PUNCT der_/DET Dürer_/PROPN !_/PUNCT )_/PUNCT und_/CCONJ Überschwemmungen_/NOUN Werktreue_/NOUN ?_/PUNCT rufe_/VERB ich_/PRON aus_/ADP den_/DET aufgeschlagenen_/ADJ Karten_/NOUN Beständigkeit_/NOUN ,_/PUNCT Treue_/NOUN ,_/PUNCT gelesen_/VERB Treue_/NOUN ,_/PUNCT Beständigkeit_/NOUN ,_/PUNCT aus_/ADP den_/DET Karten_/NOUN gelesen_/VERB ,_/PUNCT schnarrendes_/ADJ Maulhorn_/NOUN ,_/PUNCT Werktreue_/NOUN !_/PUNCT rufe_/VERB ich_/PRON ,_/PUNCT Krankheit_/NOUN ,_/PUNCT Verdruss_/VERB alles_/PRON verflochten_/ADV ,_/PUNCT aber_/CCONJ es_/PRON ist_/AUX kein_/DET Schatz_/NOUN zugegen_/ADV ,_/PUNCT mein_/DET Gaumen_/NOUN krümmt_/VERB sich_/PRON ,_/PUNCT die_/DET Vögel_/NOUN picken_/VERB zuerst_/ADV die_/DET menschlichen_/ADJ Augen_/NOUN das_/DET menschliche_/ADJ Auge_/NOUN aus_/ADP eingerastet_/VERB ist_/AUX das_/PRON längst_/ADV Stativ_/NOUN deiner_/DET Beine_/NOUN ,_/PUNCT verkappte_/ADJ Schläfe_/NOUN ,_/PUNCT Asche_/NOUN sein_/AUX unter_/ADP dem_/DET Kinn_/NOUN unter_/ADP der_/DET Zunge_/NOUN mit_/ADP Kappe_/NOUN ,_/PUNCT Oktoberschatten_/NOUN Oktoberkeule_/NOUN ,_/PUNCT und_/CCONJ -schatten_/NOUN -_/PUNCT wo_/SCONJ die_/DET Schatten_/NOUN einander_/PRON entgegen_/ADP sind_/AUX\n",
      "weil das Auge zuerst bricht der Körper will sich ja schließen, rufst du, Verdruss und Krankheit, die Witwe, Göttin aus der Maschine, die grünen Spielkarten plötzlich aus der Tasche gezogen, gemischt, dreimal abheben! linkshändig! die Rosalia sichtbar zu machen! bewaldet / wir essen bewaldet! wir essen kleine Drachen, den Mond, das Land ist Löwe, viel Hitze, Pompeji, Kälberleib. Bekröter sogar, Wahrträume wie mit vielen Augen von jeder Pfütze getrunken, die Vögel picken zuerst das menschliche Auge aus, alles verflochten Werktreue? rufe ich, Krankheit Verdruss, mein Gaumen krümmt sich, Beständigkeit, Treue aus den Karten gelesen Krankheit, Verdruss alles verflochten, aber es ist kein Schatz zugegen, Beständigkeit Treue, aus den Karten gelesen, Werktreue? rufe ich, aber es ist kein Schatz zugegen, Asche sein, Stativ deiner Beine, alles verflochten, das Stativ deiner Beine / unter dem Kinn unter der Zunge, schnarrendes Maulhorn, Schläfe mit Kappe, verkappte Schläfe Oktoberkeule Oktoberkeule, und -schatten / wo die unsere Schatten einander entgegen sind\n",
      "weil_/SCONJ das_/DET Auge_/NOUN zuerst_/ADV bricht_/VERB der_/DET Körper_/NOUN will_/AUX sich_/PRON ja_/ADV schließen_/VERB ,_/PUNCT rufst_/VERB du_/PRON ,_/PUNCT Verdruss_/NOUN und_/CCONJ Krankheit_/NOUN ,_/PUNCT die_/DET Witwe_/NOUN ,_/PUNCT Göttin_/NOUN aus_/ADP der_/DET Maschine_/NOUN ,_/PUNCT die_/DET grünen_/ADJ Spielkarten_/NOUN plötzlich_/ADV aus_/ADP der_/DET Tasche_/NOUN gezogen_/VERB ,_/PUNCT gemischt_/VERB ,_/PUNCT dreimal_/ADV abheben_/VERB !_/PUNCT linkshändig_/ADV !_/PUNCT die_/DET Rosalia_/PROPN sichtbar_/ADV zu_/PART machen_/VERB !_/PUNCT bewaldet_/ADV /_/PUNCT wir_/PRON essen_/VERB bewaldet_/VERB !_/PUNCT wir_/PRON essen_/VERB kleine_/ADJ Drachen_/NOUN ,_/PUNCT den_/DET Mond_/NOUN ,_/PUNCT das_/DET Land_/NOUN ist_/AUX Löwe_/PROPN ,_/PUNCT viel_/DET Hitze_/NOUN ,_/PUNCT Pompeji_/PROPN ,_/PUNCT Kälberleib_/NOUN ._/PUNCT Bekröter_/NOUN sogar_/ADV ,_/PUNCT Wahrträume_/NOUN wie_/ADP mit_/ADP vielen_/DET Augen_/NOUN von_/ADP jeder_/DET Pfütze_/NOUN getrunken_/VERB ,_/PUNCT die_/DET Vögel_/NOUN picken_/VERB zuerst_/ADV das_/DET menschliche_/ADJ Auge_/NOUN aus_/ADP ,_/PUNCT alles_/PRON verflochten_/ADV Werktreue_/NOUN ?_/PUNCT rufe_/VERB ich_/PRON ,_/PUNCT Krankheit_/NOUN Verdruss_/NOUN ,_/PUNCT mein_/DET Gaumen_/NOUN krümmt_/VERB sich_/PRON ,_/PUNCT Beständigkeit_/NOUN ,_/PUNCT Treue_/NOUN aus_/ADP den_/DET Karten_/NOUN gelesen_/VERB Krankheit_/NOUN ,_/PUNCT Verdruss_/NOUN alles_/PRON verflochten_/ADV ,_/PUNCT aber_/CCONJ es_/PRON ist_/AUX kein_/DET Schatz_/NOUN zugegen_/ADV ,_/PUNCT Beständigkeit_/NOUN Treue_/NOUN ,_/PUNCT aus_/ADP den_/DET Karten_/NOUN gelesen_/VERB ,_/PUNCT Werktreue_/NOUN ?_/PUNCT rufe_/VERB ich_/PRON ,_/PUNCT aber_/CCONJ es_/PRON ist_/AUX kein_/DET Schatz_/NOUN zugegen_/ADV ,_/PUNCT Asche_/NOUN sein_/AUX ,_/PUNCT Stativ_/NOUN deiner_/DET Beine_/NOUN ,_/PUNCT alles_/PRON verflochten_/ADV ,_/PUNCT das_/DET Stativ_/NOUN deiner_/DET Beine_/NOUN /_/PUNCT unter_/ADP dem_/DET Kinn_/NOUN unter_/ADP der_/DET Zunge_/NOUN ,_/PUNCT schnarrendes_/ADJ Maulhorn_/NOUN ,_/PUNCT Schläfe_/NOUN mit_/ADP Kappe_/NOUN ,_/PUNCT verkappte_/ADJ Schläfe_/NOUN Oktoberkeule_/PROPN Oktoberkeule_/PROPN ,_/PUNCT und_/CCONJ -schatten_/NOUN /_/PUNCT wo_/SCONJ die_/DET unsere_/DET Schatten_/NOUN einander_/PRON entgegen_/ADP sind_/AUX\n",
      "weil das Auge zuerst bricht der Körper will sich ja schließen, rufst du, Verdruss und Krankheit, die Witwe, Göttin aus der Maschine, die grünen Spielkarten plötzlich aus der Tasche gezogen, gemischt, dreimal abheben! linkshändig! die Rosalia sichtbar machen!, bewaldet / wir essen kleine Drachen, den Mond, das Land ist Löwe, viel Hitze, Pompeji, ein Kälberleib, Bekröter sogar, Wahrträume wie m it vielen Augen von jeder Pfütze getrunken, die Vögel picken zuerst das menschliche Auge aus, mein Gaumen krümmt sich alles verflochten, Krankheit, Verdruss aber es ist kein Schatz zugegen, Beständigkeit, Treue aus den Karten gelesen, Werktreue? rufe ich, unter der Zunge, unter dem Kinn, ein Stativ deiner Beine, Schläfe mit Kappe, Oktoberkeule, und schnarrendes Maulhorn, wo unsere Schatten einander entgegen sind\n",
      "weil_/SCONJ das_/DET Auge_/NOUN zuerst_/ADV bricht_/VERB der_/DET Körper_/NOUN will_/AUX sich_/PRON ja_/ADV schließen_/VERB ,_/PUNCT rufst_/VERB du_/PRON ,_/PUNCT Verdruss_/NOUN und_/CCONJ Krankheit_/NOUN ,_/PUNCT die_/DET Witwe_/NOUN ,_/PUNCT Göttin_/NOUN aus_/ADP der_/DET Maschine_/NOUN ,_/PUNCT die_/DET grünen_/ADJ Spielkarten_/NOUN plötzlich_/ADV aus_/ADP der_/DET Tasche_/NOUN gezogen_/VERB ,_/PUNCT gemischt_/VERB ,_/PUNCT dreimal_/ADV abheben_/VERB !_/PUNCT linkshändig_/ADV !_/PUNCT die_/DET Rosalia_/PROPN sichtbar_/ADV machen_/VERB !_/PUNCT ,_/PUNCT bewaldet_/VERB /_/PUNCT wir_/PRON essen_/VERB kleine_/ADJ Drachen_/NOUN ,_/PUNCT den_/DET Mond_/NOUN ,_/PUNCT das_/DET Land_/NOUN ist_/AUX Löwe_/PROPN ,_/PUNCT viel_/DET Hitze_/NOUN ,_/PUNCT Pompeji_/PROPN ,_/PUNCT ein_/DET Kälberleib_/NOUN ,_/PUNCT Bekröter_/NOUN sogar_/ADV ,_/PUNCT Wahrträume_/NOUN wie_/ADP m_/X it_/X vielen_/DET Augen_/NOUN von_/ADP jeder_/DET Pfütze_/NOUN getrunken_/VERB ,_/PUNCT die_/DET Vögel_/NOUN picken_/VERB zuerst_/ADV das_/DET menschliche_/ADJ Auge_/NOUN aus_/ADP ,_/PUNCT mein_/DET Gaumen_/NOUN krümmt_/VERB sich_/PRON alles_/PRON verflochten_/ADV ,_/PUNCT Krankheit_/NOUN ,_/PUNCT Verdruss_/NOUN aber_/ADV es_/PRON ist_/AUX kein_/DET Schatz_/NOUN zugegen_/ADV ,_/PUNCT Beständigkeit_/NOUN ,_/PUNCT Treue_/NOUN aus_/ADP den_/DET Karten_/NOUN gelesen_/VERB ,_/PUNCT Werktreue_/NOUN ?_/PUNCT rufe_/VERB ich_/PRON ,_/PUNCT unter_/ADP der_/DET Zunge_/NOUN ,_/PUNCT unter_/ADP dem_/DET Kinn_/NOUN ,_/PUNCT ein_/DET Stativ_/NOUN deiner_/DET Beine_/NOUN ,_/PUNCT Schläfe_/NOUN mit_/ADP Kappe_/NOUN ,_/PUNCT Oktoberkeule_/PROPN ,_/PUNCT und_/CCONJ schnarrendes_/ADJ Maulhorn_/NOUN ,_/PUNCT wo_/SCONJ unsere_/DET Schatten_/NOUN einander_/PRON entgegen_/ADP sind_/AUX\n",
      "weil das Auge zuerst bricht der Körper will sich ja schließen, rufst du, Verdruss und Krankheit, die Witwe, Göttin aus der Maschine, die grünen Spielkarten plötzlich aus der Tasche gezogen, gemischt, dreimal abheben! linkshändig! die Rosalia sichtbar zu machen, bewaldet / wir essen kleine Drachen, den Mond, das Land ist Löwe, viel Hitze, Pompeji, ein Kälberleib, Bekröter sogar, Wahrträume wie mit vielen Augen von jeder Pfütze getrunken, die Vögel picken zuerst das menschliche Auge aus, alles verflochten, Krankheit, Verdruss, mein Gaumen krümmt sich, aber es ist kein Schatz zugegen, Treue, Beständigkeit, aus den Karten gelesen, Werktreue? rufe ich, Stativ Asche sein, Stativ deiner Beine, mein Gaumen krümmt sich, Schläfe mit Kappe unter der Zunge unter dem Kinn, Oktoberkeule, und schnarrendes Maulhorn, wo unsere Schatten einander entgegen sind\n",
      "weil_/SCONJ das_/DET Auge_/NOUN zuerst_/ADV bricht_/VERB der_/DET Körper_/NOUN will_/AUX sich_/PRON ja_/ADV schließen_/VERB ,_/PUNCT rufst_/VERB du_/PRON ,_/PUNCT Verdruss_/NOUN und_/CCONJ Krankheit_/NOUN ,_/PUNCT die_/DET Witwe_/NOUN ,_/PUNCT Göttin_/NOUN aus_/ADP der_/DET Maschine_/NOUN ,_/PUNCT die_/DET grünen_/ADJ Spielkarten_/NOUN plötzlich_/ADV aus_/ADP der_/DET Tasche_/NOUN gezogen_/VERB ,_/PUNCT gemischt_/VERB ,_/PUNCT dreimal_/ADV abheben_/VERB !_/PUNCT linkshändig_/ADV !_/PUNCT die_/DET Rosalia_/PROPN sichtbar_/ADV zu_/PART machen_/VERB ,_/PUNCT bewaldet_/VERB /_/PUNCT wir_/PRON essen_/VERB kleine_/ADJ Drachen_/NOUN ,_/PUNCT den_/DET Mond_/NOUN ,_/PUNCT das_/DET Land_/NOUN ist_/AUX Löwe_/PROPN ,_/PUNCT viel_/DET Hitze_/NOUN ,_/PUNCT Pompeji_/PROPN ,_/PUNCT ein_/DET Kälberleib_/NOUN ,_/PUNCT Bekröter_/NOUN sogar_/ADV ,_/PUNCT Wahrträume_/NOUN wie_/ADP mit_/ADP vielen_/DET Augen_/NOUN von_/ADP jeder_/DET Pfütze_/NOUN getrunken_/VERB ,_/PUNCT die_/DET Vögel_/NOUN picken_/VERB zuerst_/ADV das_/DET menschliche_/ADJ Auge_/NOUN aus_/ADP ,_/PUNCT alles_/PRON verflochten_/ADV ,_/PUNCT Krankheit_/NOUN ,_/PUNCT Verdruss_/NOUN ,_/PUNCT mein_/DET Gaumen_/NOUN krümmt_/VERB sich_/PRON ,_/PUNCT aber_/CCONJ es_/PRON ist_/AUX kein_/DET Schatz_/NOUN zugegen_/ADV ,_/PUNCT Treue_/NOUN ,_/PUNCT Beständigkeit_/NOUN ,_/PUNCT aus_/ADP den_/DET Karten_/NOUN gelesen_/VERB ,_/PUNCT Werktreue_/NOUN ?_/PUNCT rufe_/VERB ich_/PRON ,_/PUNCT Stativ_/NOUN Asche_/NOUN sein_/AUX ,_/PUNCT Stativ_/NOUN deiner_/DET Beine_/NOUN ,_/PUNCT mein_/DET Gaumen_/NOUN krümmt_/VERB sich_/PRON ,_/PUNCT Schläfe_/NOUN mit_/ADP Kappe_/NOUN unter_/ADP der_/DET Zunge_/NOUN unter_/ADP dem_/DET Kinn_/NOUN ,_/PUNCT Oktoberkeule_/NOUN ,_/PUNCT und_/CCONJ schnarrendes_/ADJ Maulhorn_/NOUN ,_/PUNCT wo_/SCONJ unsere_/DET Schatten_/NOUN einander_/PRON entgegen_/ADP sind_/AUX\n",
      "weil das Auge zuerst bricht der Körper will sich ja schließen, rufst du, Verdruss und Krankheit, die Witwe, Göttin aus der Maschine, die grünen Zigeunerkarten Spielkarten plötzlich aus der Tasche gezogen, gemischt vermischt, dreimal abheben! linkshändig! die Rosalia sichtbar zu machen (bewaldet) / wir essen kleine Drachen, den Mond, das Land ist Löwe, viel voll Hitze, Pompeji, Kunstwellen ein Kälberleib, Bekröter sogar, Wahrträume wie mit vielen Augen von jeder Pfütze getrunken, die Vögel picken zuerst das menschliche Auge aus, alles verflochten, Krankheit, Verdruss, Säge des Laubs, mein Gaumen krümmt sich, aber es ist kein Schatz zugegen, die Treue, Beständigkeit aus den Karten gelesen, Werktreue? rufe ich, Asche sein, Stativ deiner Beine, Schläfe mit Kappe, unter der Zunge, unter dem Kinn, Oktoberkeule, und dein schnarrend schnarrendes Maulhorn / wo unsere Schatten einander entgegen sind\n",
      "weil_/SCONJ das_/DET Auge_/NOUN zuerst_/ADV bricht_/VERB der_/DET Körper_/NOUN will_/AUX sich_/PRON ja_/ADV schließen_/VERB ,_/PUNCT rufst_/VERB du_/PRON ,_/PUNCT Verdruss_/NOUN und_/CCONJ Krankheit_/NOUN ,_/PUNCT die_/DET Witwe_/NOUN ,_/PUNCT Göttin_/NOUN aus_/ADP der_/DET Maschine_/NOUN ,_/PUNCT die_/DET grünen_/ADJ Zigeunerkarten_/NOUN Spielkarten_/NOUN plötzlich_/ADV aus_/ADP der_/DET Tasche_/NOUN gezogen_/VERB ,_/PUNCT gemischt_/ADV vermischt_/VERB ,_/PUNCT dreimal_/ADV abheben_/VERB !_/PUNCT linkshändig_/ADV !_/PUNCT die_/DET Rosalia_/PROPN sichtbar_/ADV zu_/PART machen_/VERB (_/PUNCT bewaldet_/ADV )_/PUNCT /_/PUNCT wir_/PRON essen_/VERB kleine_/ADJ Drachen_/NOUN ,_/PUNCT den_/DET Mond_/NOUN ,_/PUNCT das_/DET Land_/NOUN ist_/AUX Löwe_/PROPN ,_/PUNCT viel_/ADV voll_/ADV Hitze_/NOUN ,_/PUNCT Pompeji_/PROPN ,_/PUNCT Kunstwellen_/NOUN ein_/DET Kälberleib_/NOUN ,_/PUNCT Bekröter_/NOUN sogar_/ADV ,_/PUNCT Wahrträume_/NOUN wie_/ADP mit_/ADP vielen_/DET Augen_/NOUN von_/ADP jeder_/DET Pfütze_/NOUN getrunken_/VERB ,_/PUNCT die_/DET Vögel_/NOUN picken_/VERB zuerst_/ADV das_/DET menschliche_/ADJ Auge_/NOUN aus_/ADP ,_/PUNCT alles_/PRON verflochten_/ADV ,_/PUNCT Krankheit_/NOUN ,_/PUNCT Verdruss_/NOUN ,_/PUNCT Säge_/NOUN des_/DET Laubs_/NOUN ,_/PUNCT mein_/DET Gaumen_/NOUN krümmt_/VERB sich_/PRON ,_/PUNCT aber_/CCONJ es_/PRON ist_/AUX kein_/DET Schatz_/NOUN zugegen_/ADV ,_/PUNCT die_/DET Treue_/NOUN ,_/PUNCT Beständigkeit_/NOUN aus_/ADP den_/DET Karten_/NOUN gelesen_/VERB ,_/PUNCT Werktreue_/NOUN ?_/PUNCT rufe_/VERB ich_/PRON ,_/PUNCT Asche_/NOUN sein_/AUX ,_/PUNCT Stativ_/NOUN deiner_/DET Beine_/NOUN ,_/PUNCT Schläfe_/NOUN mit_/ADP Kappe_/NOUN ,_/PUNCT unter_/ADP der_/DET Zunge_/NOUN ,_/PUNCT unter_/ADP dem_/DET Kinn_/NOUN ,_/PUNCT Oktoberkeule_/NOUN ,_/PUNCT und_/CCONJ dein_/DET schnarrend_/ADV schnarrendes_/ADJ Maulhorn_/NOUN /_/PUNCT wo_/SCONJ unsere_/DET Schatten_/NOUN einander_/PRON entgegen_/ADP sind_/AUX\n",
      "vielleicht weil das Auge zuerst bricht der Körper will sich ja schließen! rufst du Verdruss und Krankheit der Witwe : Göttin aus der Maschine, die grünen Zigeunerkarten plötzlich aus der Tasche gezogen vermischt, dreimal abheben! linkshändig! die Rosalia sichtbar zu machen (bewaldet), wir essen kleine Drachen den Mond, das Land ist Löwe viel Hitze Pompeji Kunstwellen Kälberleib Bekröter sogar : Wahrträume - wie mit vielen Augen aus jeder Pfütze getrunken, die Vögel picken das menschliche Auge zuerst aus, alles verflochten Krankheit Verdruss Säge des Laubs, mein Gaumen krümmt sich aber es ist kein Schatz zugegen, die Treue Beständigkeit aus den Karten gelesen, Werktreue? rufe ich, Asche werden, Stativ deiner Beine, Schläfe mit Kappe, Oktoberkeule dein schnarrendes Maulhorn ach wo unsere Schatten einander entgegen sind -\n",
      "vielleicht_/ADV weil_/SCONJ das_/DET Auge_/NOUN zuerst_/ADV bricht_/VERB der_/DET Körper_/NOUN will_/AUX sich_/PRON ja_/ADV schließen_/VERB !_/PUNCT rufst_/VERB du_/PRON Verdruss_/NOUN und_/CCONJ Krankheit_/NOUN der_/DET Witwe_/NOUN :_/PUNCT Göttin_/NOUN aus_/ADP der_/DET Maschine_/NOUN ,_/PUNCT die_/DET grünen_/ADJ Zigeunerkarten_/NOUN plötzlich_/ADV aus_/ADP der_/DET Tasche_/NOUN gezogen_/VERB vermischt_/VERB ,_/PUNCT dreimal_/ADV abheben_/VERB !_/PUNCT linkshändig_/ADV !_/PUNCT die_/DET Rosalia_/PROPN sichtbar_/ADV zu_/PART machen_/VERB (_/PUNCT bewaldet_/VERB )_/PUNCT ,_/PUNCT wir_/PRON essen_/VERB kleine_/ADJ Drachen_/NOUN den_/DET Mond_/NOUN ,_/PUNCT das_/DET Land_/NOUN ist_/AUX Löwe_/PROPN viel_/DET Hitze_/NOUN Pompeji_/PROPN Kunstwellen_/NOUN Kälberleib_/PROPN Bekröter_/NOUN sogar_/ADV :_/PUNCT Wahrträume_/NOUN -_/PUNCT wie_/ADP mit_/ADP vielen_/DET Augen_/NOUN aus_/ADP jeder_/DET Pfütze_/NOUN getrunken_/VERB ,_/PUNCT die_/DET Vögel_/NOUN picken_/VERB das_/DET menschliche_/ADJ Auge_/NOUN zuerst_/ADV aus_/ADP ,_/PUNCT alles_/PRON verflochten_/ADV Krankheit_/NOUN Verdruss_/ADP Säge_/NOUN des_/DET Laubs_/NOUN ,_/PUNCT mein_/DET Gaumen_/NOUN krümmt_/VERB sich_/PRON aber_/ADV es_/PRON ist_/AUX kein_/DET Schatz_/NOUN zugegen_/ADV ,_/PUNCT die_/DET Treue_/NOUN Beständigkeit_/NOUN aus_/ADP den_/DET Karten_/NOUN gelesen_/VERB ,_/PUNCT Werktreue_/NOUN ?_/PUNCT rufe_/VERB ich_/PRON ,_/PUNCT Asche_/NOUN werden_/AUX ,_/PUNCT Stativ_/NOUN deiner_/DET Beine_/NOUN ,_/PUNCT Schläfe_/NOUN mit_/ADP Kappe_/NOUN ,_/PUNCT Oktoberkeule_/PROPN dein_/DET schnarrendes_/ADJ Maulhorn_/NOUN ach_/ADP wo_/ADV unsere_/DET Schatten_/NOUN einander_/PRON entgegen_/ADP sind_/AUX -_/PUNCT\n",
      "        text    pos\n",
      "0        der    DET\n",
      "1     Körper   NOUN\n",
      "2       will    AUX\n",
      "3       sich   PRON\n",
      "4         ja    ADV\n",
      "5  schließen   VERB\n",
      "6          ,  PUNCT\n",
      "7      rufst   VERB\n",
      "8         du   PRON\n",
      "9          ,  PUNCT\n"
     ]
    }
   ],
   "source": [
    "postagging_lg(linegroups, nlp, poem)"
   ]
  },
  {
   "cell_type": "code",
   "execution_count": null,
   "id": "a99538bb",
   "metadata": {},
   "outputs": [],
   "source": []
  },
  {
   "cell_type": "markdown",
   "id": "c6bfedf8",
   "metadata": {},
   "source": [
    "## Modell: de_dep_news_trf"
   ]
  },
  {
   "cell_type": "code",
   "execution_count": 6,
   "id": "ae72babc-04f1-428e-9b70-ec8ca4c3be9c",
   "metadata": {},
   "outputs": [
    {
     "name": "stdout",
     "output_type": "stream",
     "text": [
      "\u001b[38;5;2m✔ Download and installation successful\u001b[0m\n",
      "You can now load the package via spacy.load('de_dep_news_trf')\n",
      "\u001b[38;5;3m⚠ Restart to reload dependencies\u001b[0m\n",
      "If you are in a Jupyter or Colab notebook, you may need to restart Python in\n",
      "order to load all the package's dependencies. You can do this by selecting the\n",
      "'Restart kernel' or 'Restart runtime' option.\n"
     ]
    }
   ],
   "source": [
    "#spacy.cli.download(\"de_dep_news_trf\")"
   ]
  },
  {
   "cell_type": "code",
   "execution_count": 29,
   "id": "3caf93a6-1f15-4999-a9a7-3fc1eb6471ea",
   "metadata": {},
   "outputs": [],
   "source": [
    "tree = etree.parse(\"C:/Users/jO/Desktop/DH_MA_Arbeit/coding/vwdazb/transkribiert_vwdazb.xml\")"
   ]
  },
  {
   "cell_type": "code",
   "execution_count": 24,
   "id": "e4aa9a30-57ec-40d8-86a0-542e335707a2",
   "metadata": {},
   "outputs": [],
   "source": [
    "nlp = spacy.load(\"de_dep_news_trf\")"
   ]
  },
  {
   "cell_type": "code",
   "execution_count": 30,
   "id": "0886f3d8",
   "metadata": {},
   "outputs": [],
   "source": [
    "linegroups = tree.xpath(\"//t:lg\", namespaces=ns)"
   ]
  },
  {
   "cell_type": "code",
   "execution_count": 26,
   "id": "4fbfd14a",
   "metadata": {},
   "outputs": [],
   "source": [
    "poem = \"vwdazb\""
   ]
  },
  {
   "cell_type": "code",
   "execution_count": 27,
   "id": "4c0e756b",
   "metadata": {},
   "outputs": [],
   "source": [
    "def postagging_trf(linegroups, nlp, poem): \n",
    "    pos_info = [] # Liste für CSV\n",
    "    for lg in linegroups: # Linegroup aus der Liste aller Linegroups\n",
    "        for line in lg: # Line in Linegroup\n",
    "            if line is not None and line.text: #wenn Line einen Text hat\n",
    "                line_text = line.text # Text abrufen\n",
    "                line_text.replace(\"\\n\", \"\").replace(\"\\r\", \"\") # Text normalisieren\n",
    "                line_text = \" \".join(line_text.strip().split())\n",
    "                #print(line_text)\n",
    "                doc = nlp(line_text) # doc von Text mit nlp erstellen\n",
    "                \n",
    "                new_line_text = [] # Liste für XML\n",
    "                for token in doc:\n",
    "                    new_token = f\"{token.text}_/{token.pos_}\" # Token_/POS erstellen\n",
    "                    new_line_text.append(new_token) # der Liste für XML hinzufügen\n",
    "                    pos_info.append({\n",
    "                    'text': token.text,\n",
    "                    'pos': token.pos_}) # der Liste für CSV hinzufügen\n",
    "                        \n",
    "                newlinetext = \" \".join(new_line_text) # aus der Liste einen String erstellen\n",
    "                #print(newlinetext)\n",
    "        line.text = newlinetext # der Linetext mit dem neuen String ersetzen\n",
    "    \n",
    "    tree.write(f\"output_text+pos_{poem}_trf.xml\", encoding=\"utf-8\", xml_declaration=True) # output xml speichern\n",
    "\n",
    "    pos_info_df = pd.DataFrame(pos_info)\n",
    "    pos_info_df.to_csv(f\"output_text+pos_{poem}_trf.csv\", index=False)\n",
    "    print(pos_info_df.head(10))\n",
    "    "
   ]
  },
  {
   "cell_type": "code",
   "execution_count": 31,
   "id": "f6e7567c-e3a2-4a73-ad5a-c90de03fa8d1",
   "metadata": {},
   "outputs": [
    {
     "name": "stdout",
     "output_type": "stream",
     "text": [
      "der Körper will sich ja schließen, rufst du, Verdruss und Krankheit als Göttin aus der Maschine (die Zigeunerspielkarten in der Brust, mit der linken Hand 3 mal geteilt Westentasche, ( oder als müssten wir erinnert werden dass wir nicht Götter sondern Menschen sind, die es nötig haben, ihre Gedanken durch die Feder sichtbar zu machen,) die Rosalia sichtbar zu machen,) die Rosalia, bewaldet, wir essen kleine Drachen, den Mond, Asche sein, das Land ist Löwe, und viel Hitze, Pompeji ist verbrannt, nur Kälberleib, Bekröter sogar, Asche sein, jede Pfütze getrunken, (der Dürer) und Überschwemmungen, aus den aufgeschlagenen Karten, Treue, Beständigkeit, schnarrendes Maulhorn, Werktreue, rufe ich, gelesen, Säge des Laubs, Verdruss + Krankheit alles verflochten, aber es ist kein Schatz zugegen mein Gaumen krümmt sich, nämlich das Stativ deiner Beine (deiner Beine) plötzlich eingerastet, unter dem Kinn gelegen, unter der Zunge, verkappte Schläfe (mit Kappe) Oktoberkeule\n",
      "der_/DET Körper_/NOUN will_/AUX sich_/PRON ja_/ADV schließen_/VERB ,_/PUNCT rufst_/VERB du_/PRON ,_/PUNCT Verdruss_/NOUN und_/CCONJ Krankheit_/NOUN als_/ADP Göttin_/NOUN aus_/ADP der_/DET Maschine_/NOUN (_/PUNCT die_/DET Zigeunerspielkarten_/NOUN in_/ADP der_/DET Brust_/NOUN ,_/PUNCT mit_/ADP der_/DET linken_/ADJ Hand_/NOUN 3_/NUM mal_/ADV geteilt_/VERB Westentasche_/NOUN ,_/PUNCT (_/PUNCT oder_/CCONJ als_/SCONJ müssten_/AUX wir_/PRON erinnert_/VERB werden_/AUX dass_/SCONJ wir_/PRON nicht_/PART Götter_/NOUN sondern_/CCONJ Menschen_/NOUN sind_/AUX ,_/PUNCT die_/PRON es_/PRON nötig_/ADV haben_/VERB ,_/PUNCT ihre_/DET Gedanken_/NOUN durch_/ADP die_/DET Feder_/NOUN sichtbar_/ADV zu_/PART machen_/VERB ,_/PUNCT )_/PUNCT die_/DET Rosalia_/PROPN sichtbar_/ADV zu_/PART machen_/VERB ,_/PUNCT )_/PUNCT die_/DET Rosalia_/PROPN ,_/PUNCT bewaldet_/ADV ,_/PUNCT wir_/PRON essen_/VERB kleine_/ADJ Drachen_/NOUN ,_/PUNCT den_/DET Mond_/NOUN ,_/PUNCT Asche_/NOUN sein_/AUX ,_/PUNCT das_/DET Land_/NOUN ist_/AUX Löwe_/NOUN ,_/PUNCT und_/CCONJ viel_/DET Hitze_/NOUN ,_/PUNCT Pompeji_/PROPN ist_/AUX verbrannt_/VERB ,_/PUNCT nur_/ADV Kälberleib_/NOUN ,_/PUNCT Bekröter_/NOUN sogar_/ADV ,_/PUNCT Asche_/NOUN sein_/AUX ,_/PUNCT jede_/DET Pfütze_/NOUN getrunken_/VERB ,_/PUNCT (_/PUNCT der_/DET Dürer_/PROPN )_/PUNCT und_/CCONJ Überschwemmungen_/NOUN ,_/PUNCT aus_/ADP den_/DET aufgeschlagenen_/ADJ Karten_/NOUN ,_/PUNCT Treue_/NOUN ,_/PUNCT Beständigkeit_/NOUN ,_/PUNCT schnarrendes_/ADJ Maulhorn_/NOUN ,_/PUNCT Werktreue_/NOUN ,_/PUNCT rufe_/VERB ich_/PRON ,_/PUNCT gelesen_/VERB ,_/PUNCT Säge_/NOUN des_/DET Laubs_/NOUN ,_/PUNCT Verdruss_/NOUN +_/CCONJ Krankheit_/NOUN alles_/PRON verflochten_/VERB ,_/PUNCT aber_/CCONJ es_/PRON ist_/AUX kein_/DET Schatz_/NOUN zugegen_/VERB mein_/DET Gaumen_/NOUN krümmt_/VERB sich_/PRON ,_/PUNCT nämlich_/ADV das_/DET Stativ_/NOUN deiner_/DET Beine_/NOUN (_/PUNCT deiner_/DET Beine_/NOUN )_/PUNCT plötzlich_/ADV eingerastet_/VERB ,_/PUNCT unter_/ADP dem_/DET Kinn_/NOUN gelegen_/VERB ,_/PUNCT unter_/ADP der_/DET Zunge_/NOUN ,_/PUNCT verkappte_/ADJ Schläfe_/NOUN (_/PUNCT mit_/ADP Kappe_/NOUN )_/PUNCT Oktoberkeule_/NOUN\n",
      "Werktreue! der Körper will sich ja schließen rufst du, Verdruss und Krankheit, die Witwe, als Göttin aus der Maschine, die Zigeunerspielkarten aus in der Brusttasche, dreimal geteilt, mit der Linken linken Hand, die Rosalia sichtbar zu machen, bewaldet, wir essen kleine Drachen, den Mond, das Land ist Löwe, viel Hitze, Pompeji, (ist verbrannt), nur Kälberleib, Bekröter sogar, von jeder jede Pfütze getrunken, ( der Dürer ) (und Überschwemmungen), aus den aufgeschlagenen Karten Beständigkeit, Treue, gelesen, schnarrendes Maulhorn, Werktreue, !, rufe ich, Krankheit Verdruss, alles verflochten, aber es ist kein Schatz zugegen, mein Gaumen krümmt sich, das Stativ deiner seiner Beine eingerastet, verkappte Schläfe, mit Kappe, Oktoberkeule - das Stativ deiner Beine eingerastet\n",
      "Werktreue_/NOUN !_/PUNCT der_/DET Körper_/NOUN will_/AUX sich_/PRON ja_/ADV schließen_/VERB rufst_/VERB du_/PRON ,_/PUNCT Verdruss_/NOUN und_/CCONJ Krankheit_/NOUN ,_/PUNCT die_/DET Witwe_/NOUN ,_/PUNCT als_/ADP Göttin_/NOUN aus_/ADP der_/DET Maschine_/NOUN ,_/PUNCT die_/DET Zigeunerspielkarten_/NOUN aus_/ADP in_/ADP der_/DET Brusttasche_/NOUN ,_/PUNCT dreimal_/ADV geteilt_/VERB ,_/PUNCT mit_/ADP der_/DET Linken_/NOUN linken_/ADJ Hand_/NOUN ,_/PUNCT die_/DET Rosalia_/PROPN sichtbar_/ADV zu_/PART machen_/VERB ,_/PUNCT bewaldet_/ADV ,_/PUNCT wir_/PRON essen_/VERB kleine_/ADJ Drachen_/NOUN ,_/PUNCT den_/DET Mond_/NOUN ,_/PUNCT das_/DET Land_/NOUN ist_/AUX Löwe_/NOUN ,_/PUNCT viel_/DET Hitze_/NOUN ,_/PUNCT Pompeji_/PROPN ,_/PUNCT (_/PUNCT ist_/AUX verbrannt_/VERB )_/PUNCT ,_/PUNCT nur_/ADV Kälberleib_/NOUN ,_/PUNCT Bekröter_/NOUN sogar_/ADV ,_/PUNCT von_/ADP jeder_/PRON jede_/DET Pfütze_/NOUN getrunken_/VERB ,_/PUNCT (_/PUNCT der_/DET Dürer_/PROPN )_/PUNCT (_/PUNCT und_/CCONJ Überschwemmungen_/NOUN )_/PUNCT ,_/PUNCT aus_/ADP den_/DET aufgeschlagenen_/ADJ Karten_/NOUN Beständigkeit_/NOUN ,_/PUNCT Treue_/NOUN ,_/PUNCT gelesen_/VERB ,_/PUNCT schnarrendes_/ADJ Maulhorn_/NOUN ,_/PUNCT Werktreue_/NOUN ,_/PUNCT !_/PUNCT ,_/PUNCT rufe_/VERB ich_/PRON ,_/PUNCT Krankheit_/NOUN Verdruss_/NOUN ,_/PUNCT alles_/PRON verflochten_/VERB ,_/PUNCT aber_/CCONJ es_/PRON ist_/AUX kein_/DET Schatz_/NOUN zugegen_/VERB ,_/PUNCT mein_/DET Gaumen_/NOUN krümmt_/VERB sich_/PRON ,_/PUNCT das_/DET Stativ_/NOUN deiner_/DET seiner_/DET Beine_/NOUN eingerastet_/VERB ,_/PUNCT verkappte_/ADJ Schläfe_/NOUN ,_/PUNCT mit_/ADP Kappe_/NOUN ,_/PUNCT Oktoberkeule_/NOUN -_/PUNCT das_/DET Stativ_/NOUN deiner_/DET Beine_/NOUN eingerastet_/VERB\n",
      "weil das Auge zuerst bricht der Körper will sich ja schließen, Verdruss und Krankheit, die Witwe, Göttin aus der Maschine, die Zigeunerspielkarten Zigeunerkarten plötzlich aus der Brusttasche Tasche gezogen, dreimal abheben abgehoben, linkshändig, die Rosalia sichtbar zu machen, rufst du, bewaldet, wir essen kleine Drachen, den Mond, das Land ist Löwe, viel Hitze, Pompeji, nur Kälberleib, Bekröter sogar, Wahrträume, wie mit vielen Augen von jeder Pfütze getrunken, (der Dürer!) und Überschwemmungen Werktreue? rufe ich aus den aufgeschlagenen Karten Beständigkeit, Treue, gelesen Treue, Beständigkeit, aus den Karten gelesen, schnarrendes Maulhorn, Werktreue! rufe ich, Krankheit, Verdruss alles verflochten, aber es ist kein Schatz zugegen, mein Gaumen krümmt sich, die Vögel picken zuerst die menschlichen Augen das menschliche Auge aus eingerastet ist das längst Stativ deiner Beine, verkappte Schläfe, Asche sein unter dem Kinn unter der Zunge mit Kappe, Oktoberschatten Oktoberkeule, und -schatten - wo die Schatten einander entgegen sind\n",
      "weil_/SCONJ das_/DET Auge_/NOUN zuerst_/ADV bricht_/VERB der_/DET Körper_/NOUN will_/AUX sich_/PRON ja_/ADV schließen_/VERB ,_/PUNCT Verdruss_/NOUN und_/CCONJ Krankheit_/NOUN ,_/PUNCT die_/DET Witwe_/NOUN ,_/PUNCT Göttin_/NOUN aus_/ADP der_/DET Maschine_/NOUN ,_/PUNCT die_/DET Zigeunerspielkarten_/NOUN Zigeunerkarten_/NOUN plötzlich_/ADV aus_/ADP der_/DET Brusttasche_/NOUN Tasche_/NOUN gezogen_/VERB ,_/PUNCT dreimal_/ADV abheben_/VERB abgehoben_/VERB ,_/PUNCT linkshändig_/ADV ,_/PUNCT die_/DET Rosalia_/PROPN sichtbar_/ADV zu_/PART machen_/VERB ,_/PUNCT rufst_/VERB du_/PRON ,_/PUNCT bewaldet_/ADV ,_/PUNCT wir_/PRON essen_/VERB kleine_/ADJ Drachen_/NOUN ,_/PUNCT den_/DET Mond_/NOUN ,_/PUNCT das_/DET Land_/NOUN ist_/AUX Löwe_/NOUN ,_/PUNCT viel_/DET Hitze_/NOUN ,_/PUNCT Pompeji_/PROPN ,_/PUNCT nur_/ADV Kälberleib_/NOUN ,_/PUNCT Bekröter_/NOUN sogar_/ADV ,_/PUNCT Wahrträume_/NOUN ,_/PUNCT wie_/ADP mit_/ADP vielen_/DET Augen_/NOUN von_/ADP jeder_/DET Pfütze_/NOUN getrunken_/VERB ,_/PUNCT (_/PUNCT der_/DET Dürer_/PROPN !_/PUNCT )_/PUNCT und_/CCONJ Überschwemmungen_/NOUN Werktreue_/NOUN ?_/PUNCT rufe_/VERB ich_/PRON aus_/ADP den_/DET aufgeschlagenen_/ADJ Karten_/NOUN Beständigkeit_/NOUN ,_/PUNCT Treue_/NOUN ,_/PUNCT gelesen_/VERB Treue_/NOUN ,_/PUNCT Beständigkeit_/NOUN ,_/PUNCT aus_/ADP den_/DET Karten_/NOUN gelesen_/VERB ,_/PUNCT schnarrendes_/ADJ Maulhorn_/NOUN ,_/PUNCT Werktreue_/NOUN !_/PUNCT rufe_/VERB ich_/PRON ,_/PUNCT Krankheit_/NOUN ,_/PUNCT Verdruss_/NOUN alles_/PRON verflochten_/VERB ,_/PUNCT aber_/CCONJ es_/PRON ist_/AUX kein_/DET Schatz_/NOUN zugegen_/VERB ,_/PUNCT mein_/DET Gaumen_/NOUN krümmt_/VERB sich_/PRON ,_/PUNCT die_/DET Vögel_/NOUN picken_/VERB zuerst_/ADV die_/DET menschlichen_/ADJ Augen_/NOUN das_/DET menschliche_/ADJ Auge_/NOUN aus_/ADP eingerastet_/VERB ist_/AUX das_/DET längst_/ADV Stativ_/NOUN deiner_/DET Beine_/NOUN ,_/PUNCT verkappte_/ADJ Schläfe_/NOUN ,_/PUNCT Asche_/NOUN sein_/AUX unter_/ADP dem_/DET Kinn_/NOUN unter_/ADP der_/DET Zunge_/NOUN mit_/ADP Kappe_/NOUN ,_/PUNCT Oktoberschatten_/NOUN Oktoberkeule_/NOUN ,_/PUNCT und_/CCONJ -schatten_/NOUN -_/PUNCT wo_/SCONJ die_/DET Schatten_/NOUN einander_/PRON entgegen_/ADV sind_/AUX\n",
      "weil das Auge zuerst bricht der Körper will sich ja schließen, rufst du, Verdruss und Krankheit, die Witwe, Göttin aus der Maschine, die grünen Spielkarten plötzlich aus der Tasche gezogen, gemischt, dreimal abheben! linkshändig! die Rosalia sichtbar zu machen! bewaldet / wir essen bewaldet! wir essen kleine Drachen, den Mond, das Land ist Löwe, viel Hitze, Pompeji, Kälberleib. Bekröter sogar, Wahrträume wie mit vielen Augen von jeder Pfütze getrunken, die Vögel picken zuerst das menschliche Auge aus, alles verflochten Werktreue? rufe ich, Krankheit Verdruss, mein Gaumen krümmt sich, Beständigkeit, Treue aus den Karten gelesen Krankheit, Verdruss alles verflochten, aber es ist kein Schatz zugegen, Beständigkeit Treue, aus den Karten gelesen, Werktreue? rufe ich, aber es ist kein Schatz zugegen, Asche sein, Stativ deiner Beine, alles verflochten, das Stativ deiner Beine / unter dem Kinn unter der Zunge, schnarrendes Maulhorn, Schläfe mit Kappe, verkappte Schläfe Oktoberkeule Oktoberkeule, und -schatten / wo die unsere Schatten einander entgegen sind\n",
      "weil_/SCONJ das_/DET Auge_/NOUN zuerst_/ADV bricht_/VERB der_/DET Körper_/NOUN will_/AUX sich_/PRON ja_/ADV schließen_/VERB ,_/PUNCT rufst_/VERB du_/PRON ,_/PUNCT Verdruss_/NOUN und_/CCONJ Krankheit_/NOUN ,_/PUNCT die_/DET Witwe_/NOUN ,_/PUNCT Göttin_/NOUN aus_/ADP der_/DET Maschine_/NOUN ,_/PUNCT die_/DET grünen_/ADJ Spielkarten_/NOUN plötzlich_/ADV aus_/ADP der_/DET Tasche_/NOUN gezogen_/VERB ,_/PUNCT gemischt_/VERB ,_/PUNCT dreimal_/ADV abheben_/VERB !_/PUNCT linkshändig_/ADV !_/PUNCT die_/DET Rosalia_/PROPN sichtbar_/ADV zu_/PART machen_/VERB !_/PUNCT bewaldet_/VERB /_/PUNCT wir_/PRON essen_/VERB bewaldet_/ADV !_/PUNCT wir_/PRON essen_/VERB kleine_/ADJ Drachen_/NOUN ,_/PUNCT den_/DET Mond_/NOUN ,_/PUNCT das_/DET Land_/NOUN ist_/AUX Löwe_/NOUN ,_/PUNCT viel_/DET Hitze_/NOUN ,_/PUNCT Pompeji_/PROPN ,_/PUNCT Kälberleib_/NOUN ._/PUNCT Bekröter_/NOUN sogar_/ADV ,_/PUNCT Wahrträume_/NOUN wie_/ADP mit_/ADP vielen_/DET Augen_/NOUN von_/ADP jeder_/DET Pfütze_/NOUN getrunken_/VERB ,_/PUNCT die_/DET Vögel_/NOUN picken_/VERB zuerst_/ADV das_/DET menschliche_/ADJ Auge_/NOUN aus_/ADP ,_/PUNCT alles_/PRON verflochten_/ADV Werktreue_/NOUN ?_/PUNCT rufe_/VERB ich_/PRON ,_/PUNCT Krankheit_/NOUN Verdruss_/NOUN ,_/PUNCT mein_/DET Gaumen_/NOUN krümmt_/VERB sich_/PRON ,_/PUNCT Beständigkeit_/NOUN ,_/PUNCT Treue_/NOUN aus_/ADP den_/DET Karten_/NOUN gelesen_/VERB Krankheit_/NOUN ,_/PUNCT Verdruss_/NOUN alles_/PRON verflochten_/ADV ,_/PUNCT aber_/CCONJ es_/PRON ist_/AUX kein_/DET Schatz_/NOUN zugegen_/VERB ,_/PUNCT Beständigkeit_/NOUN Treue_/NOUN ,_/PUNCT aus_/ADP den_/DET Karten_/NOUN gelesen_/VERB ,_/PUNCT Werktreue_/NOUN ?_/PUNCT rufe_/VERB ich_/PRON ,_/PUNCT aber_/CCONJ es_/PRON ist_/AUX kein_/DET Schatz_/NOUN zugegen_/VERB ,_/PUNCT Asche_/NOUN sein_/AUX ,_/PUNCT Stativ_/NOUN deiner_/DET Beine_/NOUN ,_/PUNCT alles_/PRON verflochten_/ADV ,_/PUNCT das_/DET Stativ_/NOUN deiner_/DET Beine_/NOUN /_/PUNCT unter_/ADP dem_/DET Kinn_/NOUN unter_/ADP der_/DET Zunge_/NOUN ,_/PUNCT schnarrendes_/ADJ Maulhorn_/NOUN ,_/PUNCT Schläfe_/NOUN mit_/ADP Kappe_/NOUN ,_/PUNCT verkappte_/ADJ Schläfe_/NOUN Oktoberkeule_/NOUN Oktoberkeule_/NOUN ,_/PUNCT und_/CCONJ -schatten_/NOUN /_/PUNCT wo_/SCONJ die_/DET unsere_/DET Schatten_/NOUN einander_/PRON entgegen_/ADP sind_/AUX\n",
      "weil das Auge zuerst bricht der Körper will sich ja schließen, rufst du, Verdruss und Krankheit, die Witwe, Göttin aus der Maschine, die grünen Spielkarten plötzlich aus der Tasche gezogen, gemischt, dreimal abheben! linkshändig! die Rosalia sichtbar machen!, bewaldet / wir essen kleine Drachen, den Mond, das Land ist Löwe, viel Hitze, Pompeji, ein Kälberleib, Bekröter sogar, Wahrträume wie m it vielen Augen von jeder Pfütze getrunken, die Vögel picken zuerst das menschliche Auge aus, mein Gaumen krümmt sich alles verflochten, Krankheit, Verdruss aber es ist kein Schatz zugegen, Beständigkeit, Treue aus den Karten gelesen, Werktreue? rufe ich, unter der Zunge, unter dem Kinn, ein Stativ deiner Beine, Schläfe mit Kappe, Oktoberkeule, und schnarrendes Maulhorn, wo unsere Schatten einander entgegen sind\n",
      "weil_/SCONJ das_/DET Auge_/NOUN zuerst_/ADV bricht_/VERB der_/DET Körper_/NOUN will_/AUX sich_/PRON ja_/ADV schließen_/VERB ,_/PUNCT rufst_/VERB du_/PRON ,_/PUNCT Verdruss_/NOUN und_/CCONJ Krankheit_/NOUN ,_/PUNCT die_/DET Witwe_/NOUN ,_/PUNCT Göttin_/NOUN aus_/ADP der_/DET Maschine_/NOUN ,_/PUNCT die_/DET grünen_/ADJ Spielkarten_/NOUN plötzlich_/ADV aus_/ADP der_/DET Tasche_/NOUN gezogen_/VERB ,_/PUNCT gemischt_/VERB ,_/PUNCT dreimal_/ADV abheben_/VERB !_/PUNCT linkshändig_/ADV !_/PUNCT die_/PRON Rosalia_/PROPN sichtbar_/ADV machen_/VERB !_/PUNCT ,_/PUNCT bewaldet_/VERB /_/PUNCT wir_/PRON essen_/VERB kleine_/ADJ Drachen_/NOUN ,_/PUNCT den_/DET Mond_/NOUN ,_/PUNCT das_/DET Land_/NOUN ist_/AUX Löwe_/NOUN ,_/PUNCT viel_/DET Hitze_/NOUN ,_/PUNCT Pompeji_/PROPN ,_/PUNCT ein_/DET Kälberleib_/NOUN ,_/PUNCT Bekröter_/NOUN sogar_/ADV ,_/PUNCT Wahrträume_/NOUN wie_/ADP m_/X it_/X vielen_/DET Augen_/NOUN von_/ADP jeder_/DET Pfütze_/NOUN getrunken_/VERB ,_/PUNCT die_/DET Vögel_/NOUN picken_/VERB zuerst_/ADV das_/DET menschliche_/ADJ Auge_/NOUN aus_/ADP ,_/PUNCT mein_/DET Gaumen_/NOUN krümmt_/VERB sich_/PRON alles_/PRON verflochten_/ADV ,_/PUNCT Krankheit_/NOUN ,_/PUNCT Verdruss_/NOUN aber_/CCONJ es_/PRON ist_/AUX kein_/DET Schatz_/NOUN zugegen_/VERB ,_/PUNCT Beständigkeit_/NOUN ,_/PUNCT Treue_/NOUN aus_/ADP den_/DET Karten_/NOUN gelesen_/VERB ,_/PUNCT Werktreue_/NOUN ?_/PUNCT rufe_/VERB ich_/PRON ,_/PUNCT unter_/ADP der_/DET Zunge_/NOUN ,_/PUNCT unter_/ADP dem_/DET Kinn_/NOUN ,_/PUNCT ein_/DET Stativ_/NOUN deiner_/DET Beine_/NOUN ,_/PUNCT Schläfe_/NOUN mit_/ADP Kappe_/NOUN ,_/PUNCT Oktoberkeule_/NOUN ,_/PUNCT und_/CCONJ schnarrendes_/ADJ Maulhorn_/NOUN ,_/PUNCT wo_/SCONJ unsere_/DET Schatten_/NOUN einander_/PRON entgegen_/ADP sind_/AUX\n",
      "weil das Auge zuerst bricht der Körper will sich ja schließen, rufst du, Verdruss und Krankheit, die Witwe, Göttin aus der Maschine, die grünen Spielkarten plötzlich aus der Tasche gezogen, gemischt, dreimal abheben! linkshändig! die Rosalia sichtbar zu machen, bewaldet / wir essen kleine Drachen, den Mond, das Land ist Löwe, viel Hitze, Pompeji, ein Kälberleib, Bekröter sogar, Wahrträume wie mit vielen Augen von jeder Pfütze getrunken, die Vögel picken zuerst das menschliche Auge aus, alles verflochten, Krankheit, Verdruss, mein Gaumen krümmt sich, aber es ist kein Schatz zugegen, Treue, Beständigkeit, aus den Karten gelesen, Werktreue? rufe ich, Stativ Asche sein, Stativ deiner Beine, mein Gaumen krümmt sich, Schläfe mit Kappe unter der Zunge unter dem Kinn, Oktoberkeule, und schnarrendes Maulhorn, wo unsere Schatten einander entgegen sind\n",
      "weil_/SCONJ das_/DET Auge_/NOUN zuerst_/ADV bricht_/VERB der_/DET Körper_/NOUN will_/AUX sich_/PRON ja_/ADV schließen_/VERB ,_/PUNCT rufst_/VERB du_/PRON ,_/PUNCT Verdruss_/NOUN und_/CCONJ Krankheit_/NOUN ,_/PUNCT die_/DET Witwe_/NOUN ,_/PUNCT Göttin_/NOUN aus_/ADP der_/DET Maschine_/NOUN ,_/PUNCT die_/DET grünen_/ADJ Spielkarten_/NOUN plötzlich_/ADV aus_/ADP der_/DET Tasche_/NOUN gezogen_/VERB ,_/PUNCT gemischt_/VERB ,_/PUNCT dreimal_/ADV abheben_/VERB !_/PUNCT linkshändig_/ADV !_/PUNCT die_/DET Rosalia_/PROPN sichtbar_/ADV zu_/PART machen_/VERB ,_/PUNCT bewaldet_/VERB /_/PUNCT wir_/PRON essen_/VERB kleine_/ADJ Drachen_/NOUN ,_/PUNCT den_/DET Mond_/NOUN ,_/PUNCT das_/DET Land_/NOUN ist_/AUX Löwe_/NOUN ,_/PUNCT viel_/DET Hitze_/NOUN ,_/PUNCT Pompeji_/PROPN ,_/PUNCT ein_/DET Kälberleib_/NOUN ,_/PUNCT Bekröter_/NOUN sogar_/ADV ,_/PUNCT Wahrträume_/NOUN wie_/ADP mit_/ADP vielen_/DET Augen_/NOUN von_/ADP jeder_/DET Pfütze_/NOUN getrunken_/VERB ,_/PUNCT die_/DET Vögel_/NOUN picken_/VERB zuerst_/ADV das_/DET menschliche_/ADJ Auge_/NOUN aus_/ADP ,_/PUNCT alles_/PRON verflochten_/ADV ,_/PUNCT Krankheit_/NOUN ,_/PUNCT Verdruss_/NOUN ,_/PUNCT mein_/DET Gaumen_/NOUN krümmt_/VERB sich_/PRON ,_/PUNCT aber_/CCONJ es_/PRON ist_/AUX kein_/DET Schatz_/NOUN zugegen_/VERB ,_/PUNCT Treue_/NOUN ,_/PUNCT Beständigkeit_/NOUN ,_/PUNCT aus_/ADP den_/DET Karten_/NOUN gelesen_/VERB ,_/PUNCT Werktreue_/NOUN ?_/PUNCT rufe_/VERB ich_/PRON ,_/PUNCT Stativ_/NOUN Asche_/NOUN sein_/AUX ,_/PUNCT Stativ_/NOUN deiner_/DET Beine_/NOUN ,_/PUNCT mein_/DET Gaumen_/NOUN krümmt_/VERB sich_/PRON ,_/PUNCT Schläfe_/NOUN mit_/ADP Kappe_/NOUN unter_/ADP der_/DET Zunge_/NOUN unter_/ADP dem_/DET Kinn_/NOUN ,_/PUNCT Oktoberkeule_/NOUN ,_/PUNCT und_/CCONJ schnarrendes_/ADJ Maulhorn_/NOUN ,_/PUNCT wo_/SCONJ unsere_/DET Schatten_/NOUN einander_/PRON entgegen_/ADP sind_/AUX\n",
      "weil das Auge zuerst bricht der Körper will sich ja schließen, rufst du, Verdruss und Krankheit, die Witwe, Göttin aus der Maschine, die grünen Zigeunerkarten Spielkarten plötzlich aus der Tasche gezogen, gemischt vermischt, dreimal abheben! linkshändig! die Rosalia sichtbar zu machen (bewaldet) / wir essen kleine Drachen, den Mond, das Land ist Löwe, viel voll Hitze, Pompeji, Kunstwellen ein Kälberleib, Bekröter sogar, Wahrträume wie mit vielen Augen von jeder Pfütze getrunken, die Vögel picken zuerst das menschliche Auge aus, alles verflochten, Krankheit, Verdruss, Säge des Laubs, mein Gaumen krümmt sich, aber es ist kein Schatz zugegen, die Treue, Beständigkeit aus den Karten gelesen, Werktreue? rufe ich, Asche sein, Stativ deiner Beine, Schläfe mit Kappe, unter der Zunge, unter dem Kinn, Oktoberkeule, und dein schnarrend schnarrendes Maulhorn / wo unsere Schatten einander entgegen sind\n",
      "weil_/SCONJ das_/DET Auge_/NOUN zuerst_/ADV bricht_/VERB der_/DET Körper_/NOUN will_/AUX sich_/PRON ja_/ADV schließen_/VERB ,_/PUNCT rufst_/VERB du_/PRON ,_/PUNCT Verdruss_/NOUN und_/CCONJ Krankheit_/NOUN ,_/PUNCT die_/DET Witwe_/NOUN ,_/PUNCT Göttin_/NOUN aus_/ADP der_/DET Maschine_/NOUN ,_/PUNCT die_/DET grünen_/ADJ Zigeunerkarten_/NOUN Spielkarten_/NOUN plötzlich_/ADV aus_/ADP der_/DET Tasche_/NOUN gezogen_/VERB ,_/PUNCT gemischt_/VERB vermischt_/VERB ,_/PUNCT dreimal_/ADV abheben_/VERB !_/PUNCT linkshändig_/ADV !_/PUNCT die_/DET Rosalia_/PROPN sichtbar_/ADV zu_/PART machen_/VERB (_/PUNCT bewaldet_/ADV )_/PUNCT /_/PUNCT wir_/PRON essen_/VERB kleine_/ADJ Drachen_/NOUN ,_/PUNCT den_/DET Mond_/NOUN ,_/PUNCT das_/DET Land_/NOUN ist_/AUX Löwe_/NOUN ,_/PUNCT viel_/ADV voll_/ADP Hitze_/NOUN ,_/PUNCT Pompeji_/PROPN ,_/PUNCT Kunstwellen_/NOUN ein_/DET Kälberleib_/NOUN ,_/PUNCT Bekröter_/NOUN sogar_/ADV ,_/PUNCT Wahrträume_/NOUN wie_/ADP mit_/ADP vielen_/DET Augen_/NOUN von_/ADP jeder_/DET Pfütze_/NOUN getrunken_/VERB ,_/PUNCT die_/DET Vögel_/NOUN picken_/VERB zuerst_/ADV das_/DET menschliche_/ADJ Auge_/NOUN aus_/ADP ,_/PUNCT alles_/PRON verflochten_/ADV ,_/PUNCT Krankheit_/NOUN ,_/PUNCT Verdruss_/NOUN ,_/PUNCT Säge_/NOUN des_/DET Laubs_/NOUN ,_/PUNCT mein_/DET Gaumen_/NOUN krümmt_/VERB sich_/PRON ,_/PUNCT aber_/CCONJ es_/PRON ist_/AUX kein_/DET Schatz_/NOUN zugegen_/VERB ,_/PUNCT die_/DET Treue_/NOUN ,_/PUNCT Beständigkeit_/NOUN aus_/ADP den_/DET Karten_/NOUN gelesen_/VERB ,_/PUNCT Werktreue_/NOUN ?_/PUNCT rufe_/VERB ich_/PRON ,_/PUNCT Asche_/NOUN sein_/AUX ,_/PUNCT Stativ_/NOUN deiner_/DET Beine_/NOUN ,_/PUNCT Schläfe_/NOUN mit_/ADP Kappe_/NOUN ,_/PUNCT unter_/ADP der_/DET Zunge_/NOUN ,_/PUNCT unter_/ADP dem_/DET Kinn_/NOUN ,_/PUNCT Oktoberkeule_/NOUN ,_/PUNCT und_/CCONJ dein_/DET schnarrend_/ADV schnarrendes_/ADJ Maulhorn_/NOUN /_/PUNCT wo_/SCONJ unsere_/DET Schatten_/NOUN einander_/PRON entgegen_/ADP sind_/AUX\n",
      "vielleicht weil das Auge zuerst bricht der Körper will sich ja schließen! rufst du Verdruss und Krankheit der Witwe : Göttin aus der Maschine, die grünen Zigeunerkarten plötzlich aus der Tasche gezogen vermischt, dreimal abheben! linkshändig! die Rosalia sichtbar zu machen (bewaldet), wir essen kleine Drachen den Mond, das Land ist Löwe viel Hitze Pompeji Kunstwellen Kälberleib Bekröter sogar : Wahrträume - wie mit vielen Augen aus jeder Pfütze getrunken, die Vögel picken das menschliche Auge zuerst aus, alles verflochten Krankheit Verdruss Säge des Laubs, mein Gaumen krümmt sich aber es ist kein Schatz zugegen, die Treue Beständigkeit aus den Karten gelesen, Werktreue? rufe ich, Asche werden, Stativ deiner Beine, Schläfe mit Kappe, Oktoberkeule dein schnarrendes Maulhorn ach wo unsere Schatten einander entgegen sind -\n",
      "vielleicht_/ADV weil_/SCONJ das_/DET Auge_/NOUN zuerst_/ADV bricht_/VERB der_/DET Körper_/NOUN will_/AUX sich_/PRON ja_/ADV schließen_/VERB !_/PUNCT rufst_/VERB du_/PRON Verdruss_/NOUN und_/CCONJ Krankheit_/NOUN der_/DET Witwe_/NOUN :_/PUNCT Göttin_/NOUN aus_/ADP der_/DET Maschine_/NOUN ,_/PUNCT die_/DET grünen_/ADJ Zigeunerkarten_/NOUN plötzlich_/ADV aus_/ADP der_/DET Tasche_/NOUN gezogen_/VERB vermischt_/VERB ,_/PUNCT dreimal_/ADV abheben_/VERB !_/PUNCT linkshändig_/ADV !_/PUNCT die_/DET Rosalia_/PROPN sichtbar_/ADV zu_/PART machen_/VERB (_/PUNCT bewaldet_/ADV )_/PUNCT ,_/PUNCT wir_/PRON essen_/VERB kleine_/ADJ Drachen_/NOUN den_/DET Mond_/NOUN ,_/PUNCT das_/DET Land_/NOUN ist_/AUX Löwe_/NOUN viel_/DET Hitze_/NOUN Pompeji_/PROPN Kunstwellen_/NOUN Kälberleib_/NOUN Bekröter_/NOUN sogar_/ADV :_/PUNCT Wahrträume_/NOUN -_/PUNCT wie_/ADP mit_/ADP vielen_/DET Augen_/NOUN aus_/ADP jeder_/DET Pfütze_/NOUN getrunken_/VERB ,_/PUNCT die_/DET Vögel_/NOUN picken_/VERB das_/DET menschliche_/ADJ Auge_/NOUN zuerst_/ADV aus_/ADP ,_/PUNCT alles_/PRON verflochten_/ADV Krankheit_/NOUN Verdruss_/NOUN Säge_/NOUN des_/DET Laubs_/NOUN ,_/PUNCT mein_/DET Gaumen_/NOUN krümmt_/VERB sich_/PRON aber_/CCONJ es_/PRON ist_/AUX kein_/DET Schatz_/NOUN zugegen_/VERB ,_/PUNCT die_/DET Treue_/NOUN Beständigkeit_/NOUN aus_/ADP den_/DET Karten_/NOUN gelesen_/VERB ,_/PUNCT Werktreue_/NOUN ?_/PUNCT rufe_/VERB ich_/PRON ,_/PUNCT Asche_/NOUN werden_/AUX ,_/PUNCT Stativ_/NOUN deiner_/DET Beine_/NOUN ,_/PUNCT Schläfe_/NOUN mit_/ADP Kappe_/NOUN ,_/PUNCT Oktoberkeule_/NOUN dein_/DET schnarrendes_/ADJ Maulhorn_/NOUN ach_/ADP wo_/ADV unsere_/DET Schatten_/NOUN einander_/PRON entgegen_/ADV sind_/AUX -_/PUNCT\n",
      "        text    pos\n",
      "0        der    DET\n",
      "1     Körper   NOUN\n",
      "2       will    AUX\n",
      "3       sich   PRON\n",
      "4         ja    ADV\n",
      "5  schließen   VERB\n",
      "6          ,  PUNCT\n",
      "7      rufst   VERB\n",
      "8         du   PRON\n",
      "9          ,  PUNCT\n"
     ]
    }
   ],
   "source": [
    "postagging_trf(linegroups, nlp, poem)"
   ]
  },
  {
   "cell_type": "code",
   "execution_count": null,
   "id": "ba1f5505-6109-4705-91bc-008c504dbced",
   "metadata": {},
   "outputs": [],
   "source": []
  },
  {
   "cell_type": "code",
   "execution_count": null,
   "id": "fe8d6342-fdd6-4b40-9aa8-03dd560d7cb4",
   "metadata": {},
   "outputs": [],
   "source": []
  },
  {
   "cell_type": "code",
   "execution_count": null,
   "id": "9e111ce0-2343-47de-b1fa-4cced788ffc3",
   "metadata": {},
   "outputs": [],
   "source": []
  },
  {
   "cell_type": "code",
   "execution_count": null,
   "id": "d3b4a65a-cb38-4da0-927e-5bbf7e960693",
   "metadata": {},
   "outputs": [],
   "source": []
  },
  {
   "cell_type": "code",
   "execution_count": null,
   "id": "24eefb9c-cd1d-46d7-88a0-7075345d91a7",
   "metadata": {},
   "outputs": [],
   "source": []
  },
  {
   "cell_type": "markdown",
   "id": "2b6e4996-e6f5-4e54-8999-3e70870d2adb",
   "metadata": {},
   "source": [
    "## Modell: spacy_udpipe \"de-hdt\""
   ]
  },
  {
   "cell_type": "code",
   "execution_count": 32,
   "id": "93e0a50f-d656-4c01-9786-bc2842e01a2f",
   "metadata": {},
   "outputs": [],
   "source": [
    "import spacy_udpipe"
   ]
  },
  {
   "cell_type": "code",
   "execution_count": 17,
   "id": "cc13638d-96c9-4b49-ad12-fc6ad86e8c34",
   "metadata": {},
   "outputs": [
    {
     "name": "stdout",
     "output_type": "stream",
     "text": [
      "Already downloaded a model for the 'de-hdt' language\n"
     ]
    }
   ],
   "source": [
    "#spacy_udpipe.download(\"de-hdt\")"
   ]
  },
  {
   "cell_type": "code",
   "execution_count": 39,
   "id": "a9dd7ecc-92c7-4e6b-83f8-57f1b751d760",
   "metadata": {},
   "outputs": [],
   "source": [
    "nlp = spacy_udpipe.load(\"de-hdt\")"
   ]
  },
  {
   "cell_type": "code",
   "execution_count": 40,
   "id": "0c959234-43b3-490e-a767-aba9c48497d5",
   "metadata": {},
   "outputs": [],
   "source": [
    "tree = etree.parse(\"C:/Users/jO/Desktop/DH_MA_Arbeit/coding/vwdazb/transkribiert_vwdazb.xml\")"
   ]
  },
  {
   "cell_type": "code",
   "execution_count": 41,
   "id": "9898954d",
   "metadata": {},
   "outputs": [],
   "source": [
    "linegroups = tree.xpath(\"//tei:lg\", namespaces={\"tei\": \"http://www.tei-c.org/ns/1.0\"})"
   ]
  },
  {
   "cell_type": "code",
   "execution_count": 42,
   "id": "51391133-34ba-422b-984c-cd922d1ddd82",
   "metadata": {},
   "outputs": [],
   "source": [
    "poem = \"vwdazb\""
   ]
  },
  {
   "cell_type": "code",
   "execution_count": 37,
   "id": "7d75eb78-9a9c-4eb8-b303-6246ad9b7d02",
   "metadata": {},
   "outputs": [],
   "source": [
    "def postagging_udp(linegroups, nlp, poem): \n",
    "    pos_info = [] # Liste für CSV\n",
    "    for lg in linegroups: # Linegroup aus der Liste aller Linegroups\n",
    "        for line in lg: # Line in Linegroup\n",
    "            if line is not None and line.text: #wenn Line einen Text hat\n",
    "                line_text = line.text # Text abrufen\n",
    "                line_text.replace(\"\\n\", \"\").replace(\"\\r\", \"\") # Text normalisieren\n",
    "                line_text = \" \".join(line_text.strip().split())\n",
    "                #print(line_text)\n",
    "                doc = nlp(line_text) # doc von Text mit nlp erstellen\n",
    "                \n",
    "                new_line_text = [] # Liste für XML\n",
    "                for token in doc:\n",
    "                    new_token = f\"{token.text}_/{token.pos_}\" # Token_/POS erstellen\n",
    "                    new_line_text.append(new_token) # der Liste für XML hinzufügen\n",
    "                    pos_info.append({\n",
    "                    'text': token.text,\n",
    "                    'pos': token.pos_}) # der Liste für CSV hinzufügen\n",
    "                        \n",
    "                newlinetext = \" \".join(new_line_text) # aus der Liste einen String erstellen\n",
    "                #print(newlinetext)\n",
    "        line.text = newlinetext # der Linetext mit dem neuen String ersetzen\n",
    "    \n",
    "    tree.write(f\"output_text+pos_{poem}_udp.xml\", encoding=\"utf-8\", xml_declaration=True) # output xml speichern\n",
    "\n",
    "    pos_info_df = pd.DataFrame(pos_info)\n",
    "    pos_info_df.to_csv(f\"output_text+pos_{poem}_udp.csv\", index=False)\n",
    "    print(pos_info_df.head(10))"
   ]
  },
  {
   "cell_type": "code",
   "execution_count": 43,
   "id": "0d1596b8-72ed-4a37-8720-a54d29417f6a",
   "metadata": {},
   "outputs": [
    {
     "name": "stdout",
     "output_type": "stream",
     "text": [
      "der Körper will sich ja schließen, rufst du, Verdruss und Krankheit als Göttin aus der Maschine (die Zigeunerspielkarten in der Brust, mit der linken Hand 3 mal geteilt Westentasche, ( oder als müssten wir erinnert werden dass wir nicht Götter sondern Menschen sind, die es nötig haben, ihre Gedanken durch die Feder sichtbar zu machen,) die Rosalia sichtbar zu machen,) die Rosalia, bewaldet, wir essen kleine Drachen, den Mond, Asche sein, das Land ist Löwe, und viel Hitze, Pompeji ist verbrannt, nur Kälberleib, Bekröter sogar, Asche sein, jede Pfütze getrunken, (der Dürer) und Überschwemmungen, aus den aufgeschlagenen Karten, Treue, Beständigkeit, schnarrendes Maulhorn, Werktreue, rufe ich, gelesen, Säge des Laubs, Verdruss + Krankheit alles verflochten, aber es ist kein Schatz zugegen mein Gaumen krümmt sich, nämlich das Stativ deiner Beine (deiner Beine) plötzlich eingerastet, unter dem Kinn gelegen, unter der Zunge, verkappte Schläfe (mit Kappe) Oktoberkeule\n",
      "der_/DET Körper_/NOUN will_/AUX sich_/PRON ja_/ADV schließen_/VERB ,_/PUNCT rufst_/ADV du_/PRON ,_/PUNCT Verdruss_/NOUN und_/CCONJ Krankheit_/NOUN als_/CCONJ Göttin_/PROPN aus_/ADP der_/DET Maschine_/NOUN (_/PUNCT die_/DET Zigeunerspielkarten_/NOUN in_/ADP der_/DET Brust_/NOUN ,_/PUNCT mit_/ADP der_/DET linken_/ADJ Hand_/NOUN 3_/NUM mal_/ADV geteilt_/ADJ Westentasche_/NOUN ,_/PUNCT (_/PUNCT oder_/CCONJ als_/CCONJ müssten_/AUX wir_/PRON erinnert_/VERB werden_/AUX dass_/SCONJ wir_/PRON nicht_/PART Götter_/NOUN sondern_/CCONJ Menschen_/NOUN sind_/AUX ,_/PUNCT die_/PRON es_/PRON nötig_/ADJ haben_/AUX ,_/PUNCT ihre_/PRON Gedanken_/NOUN durch_/ADP die_/DET Feder_/NOUN sichtbar_/ADJ zu_/PART machen_/VERB ,_/PUNCT )_/PUNCT die_/DET Rosalia_/PROPN sichtbar_/ADJ zu_/PART machen_/VERB ,_/PUNCT )_/PUNCT die_/DET Rosalia_/PROPN ,_/PUNCT bewaldet_/VERB ,_/PUNCT wir_/PRON essen_/VERB kleine_/ADJ Drachen_/NOUN ,_/PUNCT den_/DET Mond_/NOUN ,_/PUNCT Asche_/NOUN sein_/AUX ,_/PUNCT das_/DET Land_/NOUN ist_/AUX Löwe_/NOUN ,_/PUNCT und_/CCONJ viel_/ADJ Hitze_/NOUN ,_/PUNCT Pompeji_/PROPN ist_/AUX verbrannt_/ADJ ,_/PUNCT nur_/ADV Kälberleib_/PROPN ,_/PUNCT Bekröter_/PROPN sogar_/ADV ,_/PUNCT Asche_/NOUN sein_/AUX ,_/PUNCT jede_/DET Pfütze_/NOUN getrunken_/ADJ ,_/PUNCT (_/PUNCT der_/DET Dürer_/NOUN )_/PUNCT und_/CCONJ Überschwemmungen_/NOUN ,_/PUNCT aus_/ADP den_/DET aufgeschlagenen_/ADJ Karten_/NOUN ,_/PUNCT Treue_/NOUN ,_/PUNCT Beständigkeit_/NOUN ,_/PUNCT schnarrendes_/ADJ Maulhorn_/NOUN ,_/PUNCT Werktreue_/NOUN ,_/PUNCT rufe_/VERB ich_/PRON ,_/PUNCT gelesen_/VERB ,_/PUNCT Säge_/NOUN des_/DET Laubs_/NOUN ,_/PUNCT Verdruss_/NOUN +_/CCONJ Krankheit_/NOUN alles_/PRON verflochten_/VERB ,_/PUNCT aber_/CCONJ es_/PRON ist_/AUX kein_/DET Schatz_/NOUN zugegen_/ADJ mein_/PRON Gaumen_/NOUN krümmt_/VERB sich_/PRON ,_/PUNCT nämlich_/ADV das_/DET Stativ_/NOUN deiner_/PRON Beine_/NOUN (_/PUNCT deiner_/PRON Beine_/NOUN )_/PUNCT plötzlich_/ADJ eingerastet_/ADJ ,_/PUNCT unter_/ADP dem_/DET Kinn_/NOUN gelegen_/VERB ,_/PUNCT unter_/ADP der_/DET Zunge_/NOUN ,_/PUNCT verkappte_/ADJ Schläfe_/NOUN (_/PUNCT mit_/ADP Kappe_/NOUN )_/PUNCT Oktoberkeule_/NOUN\n",
      "Werktreue! der Körper will sich ja schließen rufst du, Verdruss und Krankheit, die Witwe, als Göttin aus der Maschine, die Zigeunerspielkarten aus in der Brusttasche, dreimal geteilt, mit der Linken linken Hand, die Rosalia sichtbar zu machen, bewaldet, wir essen kleine Drachen, den Mond, das Land ist Löwe, viel Hitze, Pompeji, (ist verbrannt), nur Kälberleib, Bekröter sogar, von jeder jede Pfütze getrunken, ( der Dürer ) (und Überschwemmungen), aus den aufgeschlagenen Karten Beständigkeit, Treue, gelesen, schnarrendes Maulhorn, Werktreue, !, rufe ich, Krankheit Verdruss, alles verflochten, aber es ist kein Schatz zugegen, mein Gaumen krümmt sich, das Stativ deiner seiner Beine eingerastet, verkappte Schläfe, mit Kappe, Oktoberkeule - das Stativ deiner Beine eingerastet\n",
      "Werktreue!_/PROPN der_/DET Körper_/NOUN will_/AUX sich_/PRON ja_/ADV schließen_/VERB rufst_/ADV du_/PRON ,_/PUNCT Verdruss_/NOUN und_/CCONJ Krankheit_/NOUN ,_/PUNCT die_/DET Witwe_/NOUN ,_/PUNCT als_/CCONJ Göttin_/NOUN aus_/ADP der_/DET Maschine_/NOUN ,_/PUNCT die_/DET Zigeunerspielkarten_/NOUN aus_/ADP in_/ADP der_/DET Brusttasche_/NOUN ,_/PUNCT dreimal_/ADV geteilt_/VERB ,_/PUNCT mit_/ADP der_/PRON Linken_/NOUN linken_/VERB Hand_/NOUN ,_/PUNCT die_/PRON Rosalia_/PROPN sichtbar_/ADJ zu_/PART machen_/VERB ,_/PUNCT bewaldet_/VERB ,_/PUNCT wir_/PRON essen_/VERB kleine_/ADJ Drachen_/NOUN ,_/PUNCT den_/DET Mond_/NOUN ,_/PUNCT das_/DET Land_/NOUN ist_/AUX Löwe_/NOUN ,_/PUNCT viel_/ADJ Hitze_/NOUN ,_/PUNCT Pompeji_/PROPN ,_/PUNCT (_/PUNCT ist_/AUX verbrannt_/ADJ )_/PUNCT ,_/PUNCT nur_/ADV Kälberleib_/PROPN ,_/PUNCT Bekröter_/PROPN sogar_/ADV ,_/PUNCT von_/ADP jeder_/PRON jede_/DET Pfütze_/NOUN getrunken_/ADJ ,_/PUNCT (_/PUNCT der_/DET Dürer_/NOUN )_/PUNCT (_/PUNCT und_/CCONJ Überschwemmungen_/NOUN )_/PUNCT ,_/PUNCT aus_/ADP den_/DET aufgeschlagenen_/ADJ Karten_/NOUN Beständigkeit_/NOUN ,_/PUNCT Treue_/NOUN ,_/PUNCT gelesen_/VERB ,_/PUNCT schnarrendes_/ADJ Maulhorn_/NOUN ,_/PUNCT Werktreue_/NOUN ,_/PUNCT !_/PUNCT ,_/PUNCT rufe_/VERB ich_/PRON ,_/PUNCT Krankheit_/NOUN Verdruss_/NOUN ,_/PUNCT alles_/PRON verflochten_/VERB ,_/PUNCT aber_/CCONJ es_/PRON ist_/AUX kein_/DET Schatz_/NOUN zugegen_/ADJ ,_/PUNCT mein_/PRON Gaumen_/NOUN krümmt_/VERB sich_/PRON ,_/PUNCT das_/DET Stativ_/NOUN deiner_/PRON seiner_/PRON Beine_/NOUN eingerastet_/ADJ ,_/PUNCT verkappte_/ADJ Schläfe_/NOUN ,_/PUNCT mit_/ADP Kappe_/NOUN ,_/PUNCT Oktoberkeule_/NOUN -_/PUNCT das_/DET Stativ_/NOUN deiner_/PRON Beine_/NOUN eingerastet_/VERB\n",
      "weil das Auge zuerst bricht der Körper will sich ja schließen, Verdruss und Krankheit, die Witwe, Göttin aus der Maschine, die Zigeunerspielkarten Zigeunerkarten plötzlich aus der Brusttasche Tasche gezogen, dreimal abheben abgehoben, linkshändig, die Rosalia sichtbar zu machen, rufst du, bewaldet, wir essen kleine Drachen, den Mond, das Land ist Löwe, viel Hitze, Pompeji, nur Kälberleib, Bekröter sogar, Wahrträume, wie mit vielen Augen von jeder Pfütze getrunken, (der Dürer!) und Überschwemmungen Werktreue? rufe ich aus den aufgeschlagenen Karten Beständigkeit, Treue, gelesen Treue, Beständigkeit, aus den Karten gelesen, schnarrendes Maulhorn, Werktreue! rufe ich, Krankheit, Verdruss alles verflochten, aber es ist kein Schatz zugegen, mein Gaumen krümmt sich, die Vögel picken zuerst die menschlichen Augen das menschliche Auge aus eingerastet ist das längst Stativ deiner Beine, verkappte Schläfe, Asche sein unter dem Kinn unter der Zunge mit Kappe, Oktoberschatten Oktoberkeule, und -schatten - wo die Schatten einander entgegen sind\n",
      "weil_/SCONJ das_/DET Auge_/NOUN zuerst_/ADV bricht_/VERB der_/DET Körper_/NOUN will_/AUX sich_/PRON ja_/ADV schließen_/VERB ,_/PUNCT Verdruss_/NOUN und_/CCONJ Krankheit_/NOUN ,_/PUNCT die_/DET Witwe_/PROPN ,_/PUNCT Göttin_/PROPN aus_/ADP der_/DET Maschine_/NOUN ,_/PUNCT die_/DET Zigeunerspielkarten_/NOUN Zigeunerkarten_/NOUN plötzlich_/ADJ aus_/ADP der_/DET Brusttasche_/NOUN Tasche_/NOUN gezogen_/VERB ,_/PUNCT dreimal_/ADV abheben_/VERB abgehoben_/ADJ ,_/PUNCT linkshändig_/ADJ ,_/PUNCT die_/DET Rosalia_/PROPN sichtbar_/ADJ zu_/PART machen_/VERB ,_/PUNCT rufst_/VERB du_/PRON ,_/PUNCT bewaldet_/VERB ,_/PUNCT wir_/PRON essen_/VERB kleine_/ADJ Drachen_/NOUN ,_/PUNCT den_/DET Mond_/NOUN ,_/PUNCT das_/DET Land_/NOUN ist_/AUX Löwe_/NOUN ,_/PUNCT viel_/ADJ Hitze_/NOUN ,_/PUNCT Pompeji_/PROPN ,_/PUNCT nur_/ADV Kälberleib_/PROPN ,_/PUNCT Bekröter_/PROPN sogar_/ADV ,_/PUNCT Wahrträume_/NOUN ,_/PUNCT wie_/ADV mit_/ADP vielen_/ADJ Augen_/NOUN von_/ADP jeder_/DET Pfütze_/NOUN getrunken_/ADJ ,_/PUNCT (_/PUNCT der_/DET Dürer_/NOUN !_/PUNCT )_/PUNCT und_/CCONJ Überschwemmungen_/NOUN Werktreue_/NOUN ?_/PUNCT rufe_/VERB ich_/PRON aus_/ADP den_/DET aufgeschlagenen_/ADJ Karten_/NOUN Beständigkeit_/NOUN ,_/PUNCT Treue_/NOUN ,_/PUNCT gelesen_/VERB Treue_/NOUN ,_/PUNCT Beständigkeit_/NOUN ,_/PUNCT aus_/ADP den_/DET Karten_/NOUN gelesen_/VERB ,_/PUNCT schnarrendes_/ADJ Maulhorn_/NOUN ,_/PUNCT Werktreue!_/PROPN rufe_/VERB ich_/PRON ,_/PUNCT Krankheit_/NOUN ,_/PUNCT Verdruss_/NOUN alles_/PRON verflochten_/VERB ,_/PUNCT aber_/CCONJ es_/PRON ist_/AUX kein_/DET Schatz_/NOUN zugegen_/ADJ ,_/PUNCT mein_/PRON Gaumen_/NOUN krümmt_/VERB sich_/PRON ,_/PUNCT die_/DET Vögel_/NOUN picken_/VERB zuerst_/ADV die_/DET menschlichen_/ADJ Augen_/NOUN das_/DET menschliche_/ADJ Auge_/NOUN aus_/ADP eingerastet_/VERB ist_/AUX das_/PRON längst_/ADV Stativ_/ADJ deiner_/PRON Beine_/NOUN ,_/PUNCT verkappte_/ADJ Schläfe_/NOUN ,_/PUNCT Asche_/NOUN sein_/PRON unter_/ADP dem_/DET Kinn_/NOUN unter_/ADP der_/DET Zunge_/NOUN mit_/ADP Kappe_/NOUN ,_/PUNCT Oktoberschatten_/NOUN Oktoberkeule_/PROPN ,_/PUNCT und_/CCONJ -schatten_/ADJ -_/PUNCT wo_/ADV die_/DET Schatten_/NOUN einander_/PRON entgegen_/ADP sind_/AUX\n",
      "weil das Auge zuerst bricht der Körper will sich ja schließen, rufst du, Verdruss und Krankheit, die Witwe, Göttin aus der Maschine, die grünen Spielkarten plötzlich aus der Tasche gezogen, gemischt, dreimal abheben! linkshändig! die Rosalia sichtbar zu machen! bewaldet / wir essen bewaldet! wir essen kleine Drachen, den Mond, das Land ist Löwe, viel Hitze, Pompeji, Kälberleib. Bekröter sogar, Wahrträume wie mit vielen Augen von jeder Pfütze getrunken, die Vögel picken zuerst das menschliche Auge aus, alles verflochten Werktreue? rufe ich, Krankheit Verdruss, mein Gaumen krümmt sich, Beständigkeit, Treue aus den Karten gelesen Krankheit, Verdruss alles verflochten, aber es ist kein Schatz zugegen, Beständigkeit Treue, aus den Karten gelesen, Werktreue? rufe ich, aber es ist kein Schatz zugegen, Asche sein, Stativ deiner Beine, alles verflochten, das Stativ deiner Beine / unter dem Kinn unter der Zunge, schnarrendes Maulhorn, Schläfe mit Kappe, verkappte Schläfe Oktoberkeule Oktoberkeule, und -schatten / wo die unsere Schatten einander entgegen sind\n",
      "weil_/SCONJ das_/DET Auge_/NOUN zuerst_/ADV bricht_/VERB der_/DET Körper_/NOUN will_/AUX sich_/PRON ja_/ADV schließen_/VERB ,_/PUNCT rufst_/ADV du_/PRON ,_/PUNCT Verdruss_/NOUN und_/CCONJ Krankheit_/NOUN ,_/PUNCT die_/DET Witwe_/PROPN ,_/PUNCT Göttin_/PROPN aus_/ADP der_/DET Maschine_/NOUN ,_/PUNCT die_/PRON grünen_/ADJ Spielkarten_/NOUN plötzlich_/ADJ aus_/ADP der_/DET Tasche_/NOUN gezogen_/VERB ,_/PUNCT gemischt_/ADJ ,_/PUNCT dreimal_/ADV abheben!_/PROPN linkshändig!_/X die_/DET Rosalia_/PROPN sichtbar_/ADJ zu_/ADP machen!_/PROPN bewaldet_/VERB /_/X wir_/PRON essen_/VERB bewaldet!_/PUNCT wir_/PRON essen_/VERB kleine_/ADJ Drachen_/NOUN ,_/PUNCT den_/DET Mond_/NOUN ,_/PUNCT das_/DET Land_/NOUN ist_/AUX Löwe_/NOUN ,_/PUNCT viel_/ADJ Hitze_/NOUN ,_/PUNCT Pompeji_/PROPN ,_/PUNCT Kälberleib_/PROPN ._/PUNCT Bekröter_/PROPN sogar_/ADV ,_/PUNCT Wahrträume_/NOUN wie_/CCONJ mit_/ADP vielen_/ADJ Augen_/NOUN von_/ADP jeder_/DET Pfütze_/NOUN getrunken_/VERB ,_/PUNCT die_/PRON Vögel_/NOUN picken_/VERB zuerst_/ADV das_/DET menschliche_/ADJ Auge_/NOUN aus_/ADP ,_/PUNCT alles_/DET verflochten_/ADJ Werktreue_/NOUN ?_/PUNCT rufe_/VERB ich_/PRON ,_/PUNCT Krankheit_/NOUN Verdruss_/NOUN ,_/PUNCT mein_/PRON Gaumen_/NOUN krümmt_/VERB sich_/PRON ,_/PUNCT Beständigkeit_/NOUN ,_/PUNCT Treue_/NOUN aus_/ADP den_/DET Karten_/NOUN gelesen_/VERB Krankheit_/NOUN ,_/PUNCT Verdruss_/NOUN alles_/PRON verflochten_/VERB ,_/PUNCT aber_/CCONJ es_/PRON ist_/AUX kein_/DET Schatz_/NOUN zugegen_/ADJ ,_/PUNCT Beständigkeit_/NOUN Treue_/NOUN ,_/PUNCT aus_/ADP den_/DET Karten_/NOUN gelesen_/VERB ,_/PUNCT Werktreue_/NOUN ?_/PUNCT rufe_/VERB ich_/PRON ,_/PUNCT aber_/CCONJ es_/PRON ist_/AUX kein_/DET Schatz_/NOUN zugegen_/ADJ ,_/PUNCT Asche_/NOUN sein_/AUX ,_/PUNCT Stativ_/NOUN deiner_/PRON Beine_/NOUN ,_/PUNCT alles_/PRON verflochten_/VERB ,_/PUNCT das_/DET Stativ_/NOUN deiner_/PRON Beine_/NOUN /_/X unter_/ADP dem_/DET Kinn_/NOUN unter_/ADP der_/DET Zunge_/NOUN ,_/PUNCT schnarrendes_/ADJ Maulhorn_/NOUN ,_/PUNCT Schläfe_/NOUN mit_/ADP Kappe_/NOUN ,_/PUNCT verkappte_/VERB Schläfe_/PROPN Oktoberkeule_/PROPN Oktoberkeule_/PROPN ,_/PUNCT und_/CCONJ -schatten_/NOUN /_/PUNCT wo_/ADV die_/DET unsere_/PRON Schatten_/NOUN einander_/PRON entgegen_/ADP sind_/AUX\n",
      "weil das Auge zuerst bricht der Körper will sich ja schließen, rufst du, Verdruss und Krankheit, die Witwe, Göttin aus der Maschine, die grünen Spielkarten plötzlich aus der Tasche gezogen, gemischt, dreimal abheben! linkshändig! die Rosalia sichtbar machen!, bewaldet / wir essen kleine Drachen, den Mond, das Land ist Löwe, viel Hitze, Pompeji, ein Kälberleib, Bekröter sogar, Wahrträume wie m it vielen Augen von jeder Pfütze getrunken, die Vögel picken zuerst das menschliche Auge aus, mein Gaumen krümmt sich alles verflochten, Krankheit, Verdruss aber es ist kein Schatz zugegen, Beständigkeit, Treue aus den Karten gelesen, Werktreue? rufe ich, unter der Zunge, unter dem Kinn, ein Stativ deiner Beine, Schläfe mit Kappe, Oktoberkeule, und schnarrendes Maulhorn, wo unsere Schatten einander entgegen sind\n",
      "weil_/SCONJ das_/DET Auge_/NOUN zuerst_/ADV bricht_/VERB der_/DET Körper_/NOUN will_/AUX sich_/PRON ja_/ADV schließen_/VERB ,_/PUNCT rufst_/ADV du_/PRON ,_/PUNCT Verdruss_/NOUN und_/CCONJ Krankheit_/NOUN ,_/PUNCT die_/DET Witwe_/PROPN ,_/PUNCT Göttin_/PROPN aus_/ADP der_/DET Maschine_/NOUN ,_/PUNCT die_/PRON grünen_/ADJ Spielkarten_/NOUN plötzlich_/ADJ aus_/ADP der_/DET Tasche_/NOUN gezogen_/VERB ,_/PUNCT gemischt_/ADJ ,_/PUNCT dreimal_/ADV abheben!_/PROPN linkshändig!_/X die_/DET Rosalia_/NOUN sichtbar_/ADJ machen_/VERB !_/PUNCT ,_/PUNCT bewaldet_/VERB /_/X wir_/PRON essen_/ADJ kleine_/ADJ Drachen_/NOUN ,_/PUNCT den_/DET Mond_/NOUN ,_/PUNCT das_/DET Land_/NOUN ist_/AUX Löwe_/NOUN ,_/PUNCT viel_/ADJ Hitze_/NOUN ,_/PUNCT Pompeji_/PROPN ,_/PUNCT ein_/DET Kälberleib_/NOUN ,_/PUNCT Bekröter_/NOUN sogar_/ADV ,_/PUNCT Wahrträume_/NOUN wie_/CCONJ m_/NOUN it_/ADJ vielen_/ADJ Augen_/NOUN von_/ADP jeder_/DET Pfütze_/NOUN getrunken_/ADJ ,_/PUNCT die_/DET Vögel_/NOUN picken_/VERB zuerst_/ADV das_/DET menschliche_/ADJ Auge_/NOUN aus_/ADP ,_/PUNCT mein_/PRON Gaumen_/NOUN krümmt_/VERB sich_/PRON alles_/PRON verflochten_/ADJ ,_/PUNCT Krankheit_/NOUN ,_/PUNCT Verdruss_/NOUN aber_/CCONJ es_/PRON ist_/AUX kein_/DET Schatz_/NOUN zugegen_/ADJ ,_/PUNCT Beständigkeit_/NOUN ,_/PUNCT Treue_/NOUN aus_/ADP den_/DET Karten_/NOUN gelesen_/VERB ,_/PUNCT Werktreue_/NOUN ?_/PUNCT rufe_/VERB ich_/PRON ,_/PUNCT unter_/ADP der_/DET Zunge_/NOUN ,_/PUNCT unter_/ADP dem_/DET Kinn_/NOUN ,_/PUNCT ein_/DET Stativ_/NOUN deiner_/PRON Beine_/NOUN ,_/PUNCT Schläfe_/NOUN mit_/ADP Kappe_/NOUN ,_/PUNCT Oktoberkeule_/NOUN ,_/PUNCT und_/CCONJ schnarrendes_/ADJ Maulhorn_/NOUN ,_/PUNCT wo_/ADV unsere_/PRON Schatten_/NOUN einander_/PRON entgegen_/ADP sind_/AUX\n",
      "weil das Auge zuerst bricht der Körper will sich ja schließen, rufst du, Verdruss und Krankheit, die Witwe, Göttin aus der Maschine, die grünen Spielkarten plötzlich aus der Tasche gezogen, gemischt, dreimal abheben! linkshändig! die Rosalia sichtbar zu machen, bewaldet / wir essen kleine Drachen, den Mond, das Land ist Löwe, viel Hitze, Pompeji, ein Kälberleib, Bekröter sogar, Wahrträume wie mit vielen Augen von jeder Pfütze getrunken, die Vögel picken zuerst das menschliche Auge aus, alles verflochten, Krankheit, Verdruss, mein Gaumen krümmt sich, aber es ist kein Schatz zugegen, Treue, Beständigkeit, aus den Karten gelesen, Werktreue? rufe ich, Stativ Asche sein, Stativ deiner Beine, mein Gaumen krümmt sich, Schläfe mit Kappe unter der Zunge unter dem Kinn, Oktoberkeule, und schnarrendes Maulhorn, wo unsere Schatten einander entgegen sind\n",
      "weil_/SCONJ das_/DET Auge_/NOUN zuerst_/ADV bricht_/VERB der_/DET Körper_/NOUN will_/AUX sich_/PRON ja_/ADV schließen_/VERB ,_/PUNCT rufst_/ADV du_/PRON ,_/PUNCT Verdruss_/NOUN und_/CCONJ Krankheit_/NOUN ,_/PUNCT die_/DET Witwe_/PROPN ,_/PUNCT Göttin_/PROPN aus_/ADP der_/DET Maschine_/NOUN ,_/PUNCT die_/PRON grünen_/ADJ Spielkarten_/NOUN plötzlich_/ADJ aus_/ADP der_/DET Tasche_/NOUN gezogen_/VERB ,_/PUNCT gemischt_/ADJ ,_/PUNCT dreimal_/ADV abheben!_/PROPN linkshändig!_/X die_/DET Rosalia_/PROPN sichtbar_/ADJ zu_/PART machen_/VERB ,_/PUNCT bewaldet_/VERB /_/X wir_/PRON essen_/ADJ kleine_/ADJ Drachen_/NOUN ,_/PUNCT den_/DET Mond_/NOUN ,_/PUNCT das_/DET Land_/NOUN ist_/AUX Löwe_/NOUN ,_/PUNCT viel_/ADJ Hitze_/NOUN ,_/PUNCT Pompeji_/PROPN ,_/PUNCT ein_/DET Kälberleib_/NOUN ,_/PUNCT Bekröter_/NOUN sogar_/ADV ,_/PUNCT Wahrträume_/NOUN wie_/CCONJ mit_/ADP vielen_/ADJ Augen_/NOUN von_/ADP jeder_/DET Pfütze_/NOUN getrunken_/ADJ ,_/PUNCT die_/DET Vögel_/NOUN picken_/VERB zuerst_/ADV das_/DET menschliche_/ADJ Auge_/NOUN aus_/ADP ,_/PUNCT alles_/PRON verflochten_/VERB ,_/PUNCT Krankheit_/NOUN ,_/PUNCT Verdruss_/NOUN ,_/PUNCT mein_/PRON Gaumen_/NOUN krümmt_/VERB sich_/PRON ,_/PUNCT aber_/CCONJ es_/PRON ist_/AUX kein_/DET Schatz_/NOUN zugegen_/ADJ ,_/PUNCT Treue_/NOUN ,_/PUNCT Beständigkeit_/NOUN ,_/PUNCT aus_/ADP den_/DET Karten_/NOUN gelesen_/VERB ,_/PUNCT Werktreue_/NOUN ?_/PUNCT rufe_/VERB ich_/PRON ,_/PUNCT Stativ_/NOUN Asche_/NOUN sein_/AUX ,_/PUNCT Stativ_/NOUN deiner_/PRON Beine_/NOUN ,_/PUNCT mein_/PRON Gaumen_/NOUN krümmt_/VERB sich_/PRON ,_/PUNCT Schläfe_/NOUN mit_/ADP Kappe_/NOUN unter_/ADP der_/DET Zunge_/NOUN unter_/ADP dem_/DET Kinn_/NOUN ,_/PUNCT Oktoberkeule_/NOUN ,_/PUNCT und_/CCONJ schnarrendes_/ADJ Maulhorn_/NOUN ,_/PUNCT wo_/ADV unsere_/PRON Schatten_/NOUN einander_/PRON entgegen_/ADP sind_/AUX\n",
      "weil das Auge zuerst bricht der Körper will sich ja schließen, rufst du, Verdruss und Krankheit, die Witwe, Göttin aus der Maschine, die grünen Zigeunerkarten Spielkarten plötzlich aus der Tasche gezogen, gemischt vermischt, dreimal abheben! linkshändig! die Rosalia sichtbar zu machen (bewaldet) / wir essen kleine Drachen, den Mond, das Land ist Löwe, viel voll Hitze, Pompeji, Kunstwellen ein Kälberleib, Bekröter sogar, Wahrträume wie mit vielen Augen von jeder Pfütze getrunken, die Vögel picken zuerst das menschliche Auge aus, alles verflochten, Krankheit, Verdruss, Säge des Laubs, mein Gaumen krümmt sich, aber es ist kein Schatz zugegen, die Treue, Beständigkeit aus den Karten gelesen, Werktreue? rufe ich, Asche sein, Stativ deiner Beine, Schläfe mit Kappe, unter der Zunge, unter dem Kinn, Oktoberkeule, und dein schnarrend schnarrendes Maulhorn / wo unsere Schatten einander entgegen sind\n",
      "weil_/SCONJ das_/DET Auge_/NOUN zuerst_/ADV bricht_/VERB der_/DET Körper_/NOUN will_/AUX sich_/PRON ja_/ADV schließen_/VERB ,_/PUNCT rufst_/ADV du_/PRON ,_/PUNCT Verdruss_/NOUN und_/CCONJ Krankheit_/NOUN ,_/PUNCT die_/DET Witwe_/PROPN ,_/PUNCT Göttin_/PROPN aus_/ADP der_/DET Maschine_/NOUN ,_/PUNCT die_/PRON grünen_/ADJ Zigeunerkarten_/NOUN Spielkarten_/NOUN plötzlich_/ADJ aus_/ADP der_/DET Tasche_/NOUN gezogen_/VERB ,_/PUNCT gemischt_/ADJ vermischt_/VERB ,_/PUNCT dreimal_/ADV abheben!_/PROPN linkshändig!_/X die_/DET Rosalia_/PROPN sichtbar_/ADJ zu_/PART machen_/VERB (_/PUNCT bewaldet_/VERB )_/PUNCT /_/X wir_/PRON essen_/VERB kleine_/ADJ Drachen_/NOUN ,_/PUNCT den_/DET Mond_/NOUN ,_/PUNCT das_/DET Land_/NOUN ist_/AUX Löwe_/NOUN ,_/PUNCT viel_/ADV voll_/ADJ Hitze_/NOUN ,_/PUNCT Pompeji_/PROPN ,_/PUNCT Kunstwellen_/NOUN ein_/DET Kälberleib_/NOUN ,_/PUNCT Bekröter_/NOUN sogar_/ADV ,_/PUNCT Wahrträume_/NOUN wie_/CCONJ mit_/ADP vielen_/ADJ Augen_/NOUN von_/ADP jeder_/DET Pfütze_/NOUN getrunken_/ADJ ,_/PUNCT die_/DET Vögel_/NOUN picken_/VERB zuerst_/ADV das_/DET menschliche_/ADJ Auge_/NOUN aus_/ADP ,_/PUNCT alles_/PRON verflochten_/VERB ,_/PUNCT Krankheit_/NOUN ,_/PUNCT Verdruss_/NOUN ,_/PUNCT Säge_/NOUN des_/DET Laubs_/NOUN ,_/PUNCT mein_/PRON Gaumen_/NOUN krümmt_/VERB sich_/PRON ,_/PUNCT aber_/CCONJ es_/PRON ist_/AUX kein_/DET Schatz_/NOUN zugegen_/ADJ ,_/PUNCT die_/DET Treue_/NOUN ,_/PUNCT Beständigkeit_/NOUN aus_/ADP den_/DET Karten_/NOUN gelesen_/VERB ,_/PUNCT Werktreue_/NOUN ?_/PUNCT rufe_/VERB ich_/PRON ,_/PUNCT Asche_/NOUN sein_/AUX ,_/PUNCT Stativ_/NOUN deiner_/PRON Beine_/NOUN ,_/PUNCT Schläfe_/NOUN mit_/ADP Kappe_/NOUN ,_/PUNCT unter_/ADP der_/DET Zunge_/NOUN ,_/PUNCT unter_/ADP dem_/DET Kinn_/NOUN ,_/PUNCT Oktoberkeule_/NOUN ,_/PUNCT und_/CCONJ dein_/PRON schnarrend_/ADJ schnarrendes_/ADJ Maulhorn_/X /_/X wo_/ADV unsere_/PRON Schatten_/NOUN einander_/PRON entgegen_/ADP sind_/AUX\n",
      "vielleicht weil das Auge zuerst bricht der Körper will sich ja schließen! rufst du Verdruss und Krankheit der Witwe : Göttin aus der Maschine, die grünen Zigeunerkarten plötzlich aus der Tasche gezogen vermischt, dreimal abheben! linkshändig! die Rosalia sichtbar zu machen (bewaldet), wir essen kleine Drachen den Mond, das Land ist Löwe viel Hitze Pompeji Kunstwellen Kälberleib Bekröter sogar : Wahrträume - wie mit vielen Augen aus jeder Pfütze getrunken, die Vögel picken das menschliche Auge zuerst aus, alles verflochten Krankheit Verdruss Säge des Laubs, mein Gaumen krümmt sich aber es ist kein Schatz zugegen, die Treue Beständigkeit aus den Karten gelesen, Werktreue? rufe ich, Asche werden, Stativ deiner Beine, Schläfe mit Kappe, Oktoberkeule dein schnarrendes Maulhorn ach wo unsere Schatten einander entgegen sind -\n",
      "vielleicht_/ADV weil_/SCONJ das_/DET Auge_/NOUN zuerst_/ADV bricht_/VERB der_/DET Körper_/NOUN will_/AUX sich_/PRON ja_/ADV schließen!_/PROPN rufst_/VERB du_/PRON Verdruss_/NOUN und_/CCONJ Krankheit_/NOUN der_/DET Witwe_/NOUN :_/PUNCT Göttin_/PROPN aus_/ADP der_/DET Maschine_/NOUN ,_/PUNCT die_/PRON grünen_/ADJ Zigeunerkarten_/NOUN plötzlich_/ADJ aus_/ADP der_/DET Tasche_/NOUN gezogen_/ADJ vermischt_/VERB ,_/PUNCT dreimal_/ADV abheben!_/PROPN linkshändig!_/X die_/DET Rosalia_/PROPN sichtbar_/ADJ zu_/PART machen_/VERB (_/PUNCT bewaldet_/VERB )_/PUNCT ,_/PUNCT wir_/PRON essen_/VERB kleine_/ADJ Drachen_/NOUN den_/DET Mond_/NOUN ,_/PUNCT das_/DET Land_/NOUN ist_/AUX Löwe_/NOUN viel_/ADJ Hitze_/NOUN Pompeji_/PROPN Kunstwellen_/ADJ Kälberleib_/NOUN Bekröter_/PROPN sogar_/ADV :_/PUNCT Wahrträume_/NOUN -_/PUNCT wie_/CCONJ mit_/ADP vielen_/ADJ Augen_/NOUN aus_/ADP jeder_/DET Pfütze_/NOUN getrunken_/VERB ,_/PUNCT die_/PRON Vögel_/NOUN picken_/VERB das_/DET menschliche_/ADJ Auge_/NOUN zuerst_/ADV aus_/ADP ,_/PUNCT alles_/DET verflochten_/ADJ Krankheit_/NOUN Verdruss_/PROPN Säge_/NOUN des_/DET Laubs_/NOUN ,_/PUNCT mein_/PRON Gaumen_/NOUN krümmt_/VERB sich_/PRON aber_/ADV es_/PRON ist_/AUX kein_/DET Schatz_/NOUN zugegen_/ADJ ,_/PUNCT die_/DET Treue_/NOUN Beständigkeit_/NOUN aus_/ADP den_/DET Karten_/NOUN gelesen_/VERB ,_/PUNCT Werktreue_/NOUN ?_/PUNCT rufe_/VERB ich_/PRON ,_/PUNCT Asche_/NOUN werden_/AUX ,_/PUNCT Stativ_/NOUN deiner_/PRON Beine_/NOUN ,_/PUNCT Schläfe_/NOUN mit_/ADP Kappe_/NOUN ,_/PUNCT Oktoberkeule_/NOUN dein_/DET schnarrendes_/ADJ Maulhorn_/NOUN ach_/ADV wo_/ADV unsere_/PRON Schatten_/NOUN einander_/PRON entgegen_/ADP sind_/AUX -_/PUNCT\n",
      "        text    pos\n",
      "0        der    DET\n",
      "1     Körper   NOUN\n",
      "2       will    AUX\n",
      "3       sich   PRON\n",
      "4         ja    ADV\n",
      "5  schließen   VERB\n",
      "6          ,  PUNCT\n",
      "7      rufst    ADV\n",
      "8         du   PRON\n",
      "9          ,  PUNCT\n"
     ]
    }
   ],
   "source": [
    "postagging_udp(linegroups, nlp, poem)"
   ]
  },
  {
   "cell_type": "code",
   "execution_count": null,
   "id": "2128f3f5-c0ff-46d1-9526-cdcf26cf5d6d",
   "metadata": {},
   "outputs": [],
   "source": []
  },
  {
   "cell_type": "code",
   "execution_count": null,
   "id": "3bf69f6b-fbda-4ec9-9a89-e54ae4098972",
   "metadata": {},
   "outputs": [],
   "source": []
  },
  {
   "cell_type": "code",
   "execution_count": null,
   "id": "4670b92b-ad45-4701-ba6e-9c765dc7f164",
   "metadata": {},
   "outputs": [],
   "source": []
  },
  {
   "cell_type": "code",
   "execution_count": null,
   "id": "7cb0c307-05f5-41d4-83e7-84291d324edd",
   "metadata": {},
   "outputs": [],
   "source": []
  },
  {
   "cell_type": "code",
   "execution_count": null,
   "id": "72634cf6-6ae1-4a41-9c28-30cd0e5581c0",
   "metadata": {},
   "outputs": [],
   "source": []
  },
  {
   "cell_type": "code",
   "execution_count": null,
   "id": "d156c7e2-3137-458d-981f-c808affa3d21",
   "metadata": {},
   "outputs": [],
   "source": []
  },
  {
   "cell_type": "code",
   "execution_count": null,
   "id": "bb7f93c3-d398-45be-9a1d-a6584ec63828",
   "metadata": {},
   "outputs": [],
   "source": []
  },
  {
   "cell_type": "code",
   "execution_count": null,
   "id": "a15e6a0a",
   "metadata": {},
   "outputs": [],
   "source": []
  },
  {
   "cell_type": "code",
   "execution_count": null,
   "id": "ab69263f",
   "metadata": {},
   "outputs": [],
   "source": []
  }
 ],
 "metadata": {
  "kernelspec": {
   "display_name": "Python 3 (ipykernel)",
   "language": "python",
   "name": "python3"
  },
  "language_info": {
   "codemirror_mode": {
    "name": "ipython",
    "version": 3
   },
   "file_extension": ".py",
   "mimetype": "text/x-python",
   "name": "python",
   "nbconvert_exporter": "python",
   "pygments_lexer": "ipython3",
   "version": "3.11.9"
  }
 },
 "nbformat": 4,
 "nbformat_minor": 5
}
