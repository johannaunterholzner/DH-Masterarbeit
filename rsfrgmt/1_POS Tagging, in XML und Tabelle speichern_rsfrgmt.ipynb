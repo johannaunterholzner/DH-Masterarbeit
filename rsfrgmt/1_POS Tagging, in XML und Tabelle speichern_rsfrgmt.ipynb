{
 "cells": [
  {
   "cell_type": "code",
   "execution_count": 1,
   "id": "e5bf74f9",
   "metadata": {},
   "outputs": [],
   "source": [
    "import lxml\n",
    "from lxml import etree\n",
    "import spacy\n",
    "import pandas as pd"
   ]
  },
  {
   "cell_type": "code",
   "execution_count": 2,
   "id": "d5d58c0f",
   "metadata": {},
   "outputs": [],
   "source": [
    "tree = etree.parse(\"C:/Users/jO/Desktop/DH_MA_Arbeit/coding/rsfrgmt/transkribiert_rsfrgmt.xml\")"
   ]
  },
  {
   "cell_type": "code",
   "execution_count": 3,
   "id": "12cacc20-fa15-4477-99ec-863a6b1be491",
   "metadata": {},
   "outputs": [],
   "source": [
    "ns = {\"t\":'http://www.tei-c.org/ns/1.0'}\n",
    "xml = \"{http://www.w3.org/XML/1998/namespace}\""
   ]
  },
  {
   "cell_type": "markdown",
   "id": "3a9c8249",
   "metadata": {},
   "source": [
    "# POS-Tagging: Spacy"
   ]
  },
  {
   "cell_type": "markdown",
   "id": "df6dfa5b",
   "metadata": {},
   "source": [
    "German Language Models: https://spacy.io/models/de"
   ]
  },
  {
   "cell_type": "markdown",
   "id": "c6bfedf8",
   "metadata": {},
   "source": [
    "## Modell: de_dep_news_trf"
   ]
  },
  {
   "cell_type": "code",
   "execution_count": 4,
   "id": "e4aa9a30-57ec-40d8-86a0-542e335707a2",
   "metadata": {},
   "outputs": [],
   "source": [
    "nlp = spacy.load(\"de_dep_news_trf\")"
   ]
  },
  {
   "cell_type": "code",
   "execution_count": 5,
   "id": "0886f3d8",
   "metadata": {},
   "outputs": [],
   "source": [
    "linegroups = tree.xpath(\"//t:lg\", namespaces=ns)"
   ]
  },
  {
   "cell_type": "code",
   "execution_count": 6,
   "id": "4fbfd14a",
   "metadata": {},
   "outputs": [],
   "source": [
    "poem = \"rsfrgmt\""
   ]
  },
  {
   "cell_type": "code",
   "execution_count": 7,
   "id": "4c0e756b",
   "metadata": {},
   "outputs": [],
   "source": [
    "def postagging_trf(linegroups, nlp, poem): \n",
    "    pos_info = [] # Liste für CSV\n",
    "    for lg in linegroups: # Linegroup aus der Liste aller Linegroups\n",
    "        for line in lg: # Line in Linegroup\n",
    "            if line is not None and line.text: #wenn Line einen Text hat\n",
    "                line_text = line.text # Text abrufen\n",
    "                line_text.replace(\"\\n\", \"\").replace(\"\\r\", \"\") # Text normalisieren\n",
    "                line_text = \" \".join(line_text.strip().split())\n",
    "               # print(line_text)\n",
    "                doc = nlp(line_text) # doc von Text mit nlp erstellen\n",
    "                \n",
    "                new_line_text = [] # Liste für XML\n",
    "                for token in doc:\n",
    "                    new_token = f\"{token.text}_/{token.pos_}\" # Token_/POS erstellen\n",
    "                    new_line_text.append(new_token) # der Liste für XML hinzufügen\n",
    "                    pos_info.append({\n",
    "                    'text': token.text,\n",
    "                    'pos': token.pos_}) # der Liste für CSV hinzufügen\n",
    "                        \n",
    "                newlinetext = \" \".join(new_line_text) # aus der Liste einen String erstellen\n",
    "               # print(newlinetext)\n",
    "        line.text = newlinetext # der Linetext mit dem neuen String ersetzen\n",
    "    \n",
    "    tree.write(f\"output_text+pos_{poem}_trf.xml\", encoding=\"utf-8\", xml_declaration=True) # output xml speichern\n",
    "\n",
    "    pos_info_df = pd.DataFrame(pos_info)\n",
    "    pos_info_df.to_csv(f\"output_text+pos_{poem}_trf.csv\", index=False)\n",
    "    print(pos_info_df.head(10))\n",
    "    "
   ]
  },
  {
   "cell_type": "code",
   "execution_count": 8,
   "id": "f6e7567c-e3a2-4a73-ad5a-c90de03fa8d1",
   "metadata": {},
   "outputs": [
    {
     "name": "stdout",
     "output_type": "stream",
     "text": [
      "            text    pos\n",
      "0  Rosenfragment   NOUN\n",
      "1            mit    ADP\n",
      "2      Farbstich   NOUN\n",
      "3              ,  PUNCT\n",
      "4      magisches    ADJ\n",
      "5           Werk   NOUN\n",
      "6              ,  PUNCT\n",
      "7         Stühle   NOUN\n",
      "8       beiseite    ADV\n",
      "9      geschoben   VERB\n"
     ]
    }
   ],
   "source": [
    "postagging_trf(linegroups, nlp, poem)"
   ]
  },
  {
   "cell_type": "code",
   "execution_count": null,
   "id": "ba1f5505-6109-4705-91bc-008c504dbced",
   "metadata": {},
   "outputs": [],
   "source": []
  },
  {
   "cell_type": "code",
   "execution_count": null,
   "id": "fe8d6342-fdd6-4b40-9aa8-03dd560d7cb4",
   "metadata": {},
   "outputs": [],
   "source": []
  },
  {
   "cell_type": "code",
   "execution_count": null,
   "id": "9e111ce0-2343-47de-b1fa-4cced788ffc3",
   "metadata": {},
   "outputs": [],
   "source": []
  },
  {
   "cell_type": "code",
   "execution_count": null,
   "id": "d3b4a65a-cb38-4da0-927e-5bbf7e960693",
   "metadata": {},
   "outputs": [],
   "source": []
  }
 ],
 "metadata": {
  "kernelspec": {
   "display_name": "Python 3 (ipykernel)",
   "language": "python",
   "name": "python3"
  },
  "language_info": {
   "codemirror_mode": {
    "name": "ipython",
    "version": 3
   },
   "file_extension": ".py",
   "mimetype": "text/x-python",
   "name": "python",
   "nbconvert_exporter": "python",
   "pygments_lexer": "ipython3",
   "version": "3.11.9"
  }
 },
 "nbformat": 4,
 "nbformat_minor": 5
}
