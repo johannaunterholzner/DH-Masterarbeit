{
 "cells": [
  {
   "cell_type": "code",
   "execution_count": 1,
   "id": "e5bf74f9",
   "metadata": {},
   "outputs": [],
   "source": [
    "import lxml\n",
    "from lxml import etree\n",
    "import spacy\n",
    "import pandas as pd"
   ]
  },
  {
   "cell_type": "code",
   "execution_count": 2,
   "id": "d5d58c0f",
   "metadata": {},
   "outputs": [],
   "source": [
    "tree = etree.parse(\"C:/Users/jO/Desktop/DH_MA_Arbeit/coding/transkribiert_ohne-unclear-_vielleichtweil.xml\")"
   ]
  },
  {
   "cell_type": "code",
   "execution_count": 32,
   "id": "5927e4f7",
   "metadata": {
    "scrolled": true
   },
   "outputs": [
    {
     "name": "stdout",
     "output_type": "stream",
     "text": [
      "\n",
      "                     \n",
      "                          der körper will sich ja \n",
      "                            schließen, rufst du, \n",
      "                            verdruss und krankheit \n",
      "                            als göttin aus der maschine \n",
      "                            (die zigeunerspielkarten in der Brust, auf die\n",
      "                            Finger mit der linken Hand 3 mal geteilt\n",
      "                            westentasche, ( oder als müssten wir erinnert werden dass wir nicht\n",
      "                            götter sondern menschen sind, die es nötig haben, die ihre gedanken\n",
      "                            durch die feder sichtbar zu machen,) die rosalia sichtbar zu machen,)\n",
      "                            die rosalia, bewaldet, wir essen kleine drachen, den mond, asche sein,\n",
      "                            das land ist löwe, und viel hitze, pompeji\n",
      "                            ist verbrannt, nur kälberleib, bekröter sogar, asche sein, jede\n",
      "                            pfütze getrunken, (der dürer) und überschwemmungen, aus den\n",
      "                            aufgeschlagenen karten, treue, Beständigkeit, schnarrendes maulhorn,\n",
      "                            werktreue, rufe ich, gelesen, säge des laubs, verdruss + Krankheit\n",
      "                            alles verflochten, aber es ist kein schatz zugegen mein gaumen krümmt\n",
      "                            sich, nämlich das stativ deiner Beine (deiner beine) plötzlich\n",
      "                            eingerastet, eingerastet, unter dem kinn gelegen, unter der zunge,\n",
      "                            verkappte schläfe (mit kappe) oktoberkeule  \n",
      "                     \n",
      "                 \n",
      "                     \n",
      "                         \n",
      "                            Werktreue!\n",
      "                            der Körper\n",
      "                            will sich ja schließen\n",
      "                            rufst du, Verdruss\n",
      "                            und Krankheit, die Witwe,\n",
      "                            als Göttin aus der Maschine, die\n",
      "                            Zigeunerspielkarten\n",
      "                            aus in der Brusttasche, dreimal\n",
      "                            geteilt, mit der Linken linken\n",
      "                            Hand, die Rosalia\n",
      "                            sichtbar zu machen, bewaldet, wir\n",
      "                            essen kleine Drachen, den\n",
      "                            Mond, das Land ist Löwe,\n",
      "                            viel Hitze, Pompeji,\n",
      "                            (ist verbrannt), nur Kälberleib, Bekröter sogar, von jeder jede\n",
      "                            Pfütze getrunken, ( der\n",
      "                            Dürer ) (und Überschwemmungen), aus\n",
      "                            den aufgeschlagenen\n",
      "                            Karten Beständigkeit, Treue,\n",
      "                            gelesen, schnarrendes\n",
      "                            Maulhorn, Werktreue, !,\n",
      "                            rufe ich, Krankheit\n",
      "                            Verdruss, alles verflochten, aber es ist kein Schatz\n",
      "                            zugegen, mein Gaumen krümmt sich,\n",
      "                            das Stativ deiner seiner Beine\n",
      "                            eingerastet, verkappte\n",
      "                            Schläfe, mit Kappe, Oktoberkeule -\n",
      "                            das Stativ deiner Beine eingerastet\n",
      "                         \n",
      "                     \n",
      "                 \n",
      "                     \n",
      "                          weil das Auge zuerst bricht der Körper will sich ja schließen, Verdruss\n",
      "                            und Krankheit, die Witwe, Göttin aus der Maschine, die\n",
      "                            Zigeunerspielkarten Zigeunerkarten plötzlich aus der Brusttasche Tasche\n",
      "                            gezogen, dreimal abheben abgehoben,\n",
      "                            linkshändig, die Rosalia sichtbar zu machen, rufst du, bewaldet, wir\n",
      "                            essen kleine Drachen, den Mond, das Land ist Löwe, viel\n",
      "                            Hitze, Pompeji, nur Kälberleib, Bekröter sogar, Wahrträume, wie mit\n",
      "                            vielen Augen von jeder Pfütze getrunken, (der Dürer!) und Überschwemmungen Werktreue? rufe ich aus den aufgeschlagenen Karten\n",
      "                            Beständigkeit, Treue, gelesen Treue, Beständigkeit, aus den Karten\n",
      "                            gelesen, schnarrendes Maulhorn, Werktreue rufe ich, Krankheit, Verdruss\n",
      "                            alles verflochten, aber es ist kein Schatz zugegen, mein Gaumen krümmt\n",
      "                            sich, die Vögel picken zuerst die aus\n",
      "                            eingerastet ist das längst Stativ deiner Beine, verkappte Schläfe, Asche\n",
      "                            sein unter dem Kinn unter der Zunge mit Kappe, Oktoberschatten Oktoberkeule, und\n",
      "                            -schatten - wo die Schatten einander entgegen sind\n",
      "                         \n",
      "                     \n",
      "                 \n",
      "                     \n",
      "                          weil das Auge zuerst bricht der Körper will sich ja schließen, rufst du,\n",
      "                            Verdruss und Krankheit, die Witwe, Göttin aus der Maschine, die grünen\n",
      "                            Spielkarten plötzlich aus der Tasche gezogen, gemischt, dreimal abheben!\n",
      "                            linkshändig! die Rosalia sichtbar zu machen! bewaldet! wir essen\n",
      "                            bewaldet! wir essen kleine Drachen, den Mond, das Land ist Löwe, viel\n",
      "                            Hitze, Pompeji, Kälberleib. Bekröter sogar, Wahrträume wie mit\n",
      "                            vielen Augen von jeder Pfütze getrunken, die Vögel picken zuerst das\n",
      "                            menschliche Auge aus, alles verflochten Werktreue? rufe ich, Krankheit\n",
      "                            Verdruss, mein Gaumen krümmt sich, Beständigkeit, Treue aus den Karten\n",
      "                            gelesen Krankheit, Verdruss alles verflochten, aber es ist kein Schatz\n",
      "                            zugegen, Beständigkeit Treue, aus den Karten gelesen, Werktreue? rufe ich, aber es ist kein Schatz zugegen, Asche sein, Stativ\n",
      "                            deiner Beine, alles verflochten, das Stativ deiner Beine / unter dem\n",
      "                            Kinn unter der Zunge, schnarrendes Maulhorn, Schläfe mit Kappe,\n",
      "                            verkappte Schläfe Oktoberkeule Oktober keule, und -schatten / wo die unsere\n",
      "                            Schatten einander entgegen sind\n",
      "                         \n",
      "                     \n",
      "                 \n",
      "                     \n",
      "                          weil das Auge zuerst bricht der Körper will sich ja schließen, rufst du,\n",
      "                            Verdruss und Krankheit, die Witwe, Göttin aus der Maschine, die grünen\n",
      "                            Spielkarten plötzlich aus der Tasche gezogen, gemischt, dreimal abheben!\n",
      "                            linkshändig! die Rosalia sichtbar machen!, bewaldet / wir essen kleine\n",
      "                            Drachen, den Mond, das Land ist Löwe, viel Hitze, Pompeji, ein Kälberleib, Bekröter sogar, Wahrträume wie mit vielen Augen von jeder Pfütze\n",
      "                            getrunken, die Vögel picken zuerst das menschliche Auge aus, mein Gaumen\n",
      "                            sich alles verflochten, Krankheit, Verdruss aber es\n",
      "                            ist kein Schatz zugegen, Beständigkeit, Treue aus den Karten gelesen,\n",
      "                            Werktreue? rufe ich, unter der Zunge, unter dem Kinn, ein Stativ\n",
      "                            deiner Beine, Schläfe mit Kappe, Oktoberkeule, und schnarrendes\n",
      "                            Maulhorn, wo unsere Schatten einander entgegen sind  \n",
      "                     \n",
      "                 \n",
      "                     \n",
      "                         \n",
      "                            weil das Auge zuerst bricht\n",
      "                            der Körper will\n",
      "                            sich ja schließen, rufst du, Verdruss\n",
      "                            und Krankheit, die Witwe,\n",
      "                            Göttin aus der Maschine, die grünen\n",
      "                            Spielkarten plötzlich\n",
      "                            aus der Tasche gezogen, gemischt, dreimal abheben! linkshändig! die Rosalia\n",
      "                            sichtbar zu machen, bewaldet / wir essen\n",
      "                            kleine Drachen, den Mond,\n",
      "                            das Land ist Löwe,\n",
      "                            viel Hitze, Pompeji, ein Kälberleib, Bekröter sogar, Wahrträume\n",
      "                            wie mit vielen\n",
      "                            Augen von jeder\n",
      "                            Pfütze getrunken, die Vögel\n",
      "                            picken zuerst das menschliche\n",
      "                            Auge aus, alles\n",
      "                            verflochten, Krankheit, Verdruss,\n",
      "                            mein Gaumen krümmt sich, aber es ist\n",
      "                            kein Schatz zugegen, Treue,\n",
      "                            Beständigkeit, aus den Karten gelesen, Werktreue?\n",
      "                            rufe ich, Stativ Asche sein, Stativ Asche sein, Stativ\n",
      "                            deiner Beine, mein Gaumen\n",
      "                            krümmt sich, Schläfe mit Kappe unter der Zunge unter dem Kinn, Oktoberkeule, und schnarrendes Maulhorn, wo unsere Schatten einander entgegen\n",
      "                            sind\n",
      "                         \n",
      "                     \n",
      "                 \n",
      "                     \n",
      "                         \n",
      "                            weil das Auge zuerst bricht\n",
      "                            der Körper will\n",
      "                            sich ja schließen, rufst du, Verdruss\n",
      "                            und Krankheit, die Witwe,\n",
      "                            Göttin aus der Maschine, die grünen\n",
      "                            Zigeunerkarten Spielkarten plötzlich\n",
      "                            aus der Tasche gezogen, gemischt vermischt, dreimal abheben! linkshändig! die Rosalia\n",
      "                            sichtbar zu machen (bewaldet) / wir essen\n",
      "                            kleine Drachen, den Mond,\n",
      "                            das Land ist Löwe,\n",
      "                            viel voll Hitze, Pompeji, Kunstwellen ein Kälberleib, Bekröter sogar, Wahrträume\n",
      "                            wie mit vielen Augen von jeder\n",
      "                            Pfütze getrunken, die Vögel\n",
      "                            picken zuerst das menschliche\n",
      "                            Auge aus, alles\n",
      "                            verflochten, Krankheit, Verdruss, Säge des Laubs,\n",
      "                            mein Gaumen krümmt sich, aber es ist\n",
      "                            kein Schatz zugegen, die Treue,\n",
      "                            Beständigkeit aus den Karten gelesen, Werktreue? rufe ich, Asche sein, Stativ\n",
      "                            deiner Beine, Schläfe\n",
      "                            mit Kappe, unter der Zunge, unter\n",
      "                            dem Kinn, Oktoberkeule, und dein schnarrend schnarrendes\n",
      "                            Maulhorn / wo unsere\n",
      "                            Schatten einander entgegen sind\n",
      "                         \n",
      "                     \n",
      "                \n"
     ]
    }
   ],
   "source": [
    "# text aus allen tags innerhalb des div-tags; namespaces: tei\n",
    "poems = tree.xpath(\"//tei:div[@type='witness']/descendant-or-self::text()\", namespaces={\"tei\": \"http://www.tei-c.org/ns/1.0\"})\n",
    "\n",
    "#poems_titles = tree.xpath(\"//div[@type='poem']/@xml:id\", namespaces={\"tei\": \"http://www.tei-c.org/ns/1.0\"})\n",
    "\n",
    "poem_text = \" \".join(poems)\n",
    "print(poem_text)\n",
    "\n"
   ]
  },
  {
   "cell_type": "markdown",
   "id": "3a9c8249",
   "metadata": {},
   "source": [
    "# Spacy"
   ]
  },
  {
   "cell_type": "markdown",
   "id": "13873611",
   "metadata": {},
   "source": [
    "## Parts-of-Speech"
   ]
  },
  {
   "cell_type": "markdown",
   "id": "df6dfa5b",
   "metadata": {},
   "source": [
    "German Language Models: https://spacy.io/models/de"
   ]
  },
  {
   "cell_type": "code",
   "execution_count": 61,
   "id": "65f2ce96",
   "metadata": {},
   "outputs": [
    {
     "name": "stdout",
     "output_type": "stream",
     "text": [
      "\u001b[38;5;2m✔ Download and installation successful\u001b[0m\n",
      "You can now load the package via spacy.load('de_core_news_lg')\n",
      "\u001b[38;5;3m⚠ Restart to reload dependencies\u001b[0m\n",
      "If you are in a Jupyter or Colab notebook, you may need to restart Python in\n",
      "order to load all the package's dependencies. You can do this by selecting the\n",
      "'Restart kernel' or 'Restart runtime' option.\n"
     ]
    }
   ],
   "source": [
    "#spacy.cli.download(\"de_core_news_lg\")"
   ]
  },
  {
   "cell_type": "markdown",
   "id": "eb124ad0",
   "metadata": {
    "jp-MarkdownHeadingCollapsed": true
   },
   "source": [
    "#### mit sm = small"
   ]
  },
  {
   "cell_type": "code",
   "execution_count": 25,
   "id": "8e033b59",
   "metadata": {},
   "outputs": [],
   "source": [
    "nlp = spacy.load(\"de_core_news_sm\", disable=[\"ner\"])"
   ]
  },
  {
   "cell_type": "code",
   "execution_count": 28,
   "id": "2e29d825",
   "metadata": {},
   "outputs": [],
   "source": [
    "tree = etree.parse(\"C:/Users/jO/Desktop/DH_MA_Arbeit/coding/transkribiert_ohne-unclear-_vielleichtweil.xml\")\n",
    "linegroups = tree.xpath(\"//tei:lg\", namespaces={\"tei\": \"http://www.tei-c.org/ns/1.0\"})"
   ]
  },
  {
   "cell_type": "markdown",
   "id": "d4c34f07",
   "metadata": {},
   "source": [
    "##### auf Text in line-tags zugreifen, taggen und mit Tags (_/) zurück in line-tags geben, neues output-xml speichern "
   ]
  },
  {
   "cell_type": "code",
   "execution_count": 29,
   "id": "375e223b",
   "metadata": {},
   "outputs": [
    {
     "name": "stdout",
     "output_type": "stream",
     "text": [
      "der körper will sich ja schließen, rufst du, verdruss und krankheit als göttin aus der maschine (die zigeunerspielkarten in der Brust, auf die Finger mit der linken Hand 3 mal geteilt westentasche, ( oder als müssten wir erinnert werden dass wir nicht götter sondern menschen sind, die es nötig haben, die ihre gedanken durch die feder sichtbar zu machen,) die rosalia sichtbar zu machen,) die rosalia, bewaldet, wir essen kleine drachen, den mond, asche sein, das land ist löwe, und viel hitze, pompeji ist verbrannt, nur kälberleib, bekröter sogar, asche sein, jede pfütze getrunken, (der dürer) und überschwemmungen, aus den aufgeschlagenen karten, treue, Beständigkeit, schnarrendes maulhorn, werktreue, rufe ich, gelesen, säge des laubs, verdruss + Krankheit alles verflochten, aber es ist kein schatz zugegen mein gaumen krümmt sich, nämlich das stativ deiner Beine (deiner beine) plötzlich eingerastet, eingerastet, unter dem kinn gelegen, unter der zunge, verkappte schläfe (mit kappe) oktoberkeule\n",
      "['der_/DET', 'körper_/NOUN', 'will_/AUX', 'sich_/PRON', 'ja_/ADV', 'schließen_/VERB', ',_/PUNCT', 'rufst_/VERB', 'du_/PRON', ',_/PUNCT', 'verdruss_/ADV', 'und_/CCONJ', 'krankheit_/NOUN', 'als_/ADP', 'göttin_/NOUN', 'aus_/ADP', 'der_/DET', 'maschine_/NOUN', '(_/PUNCT', 'die_/DET', 'zigeunerspielkarten_/NOUN', 'in_/ADP', 'der_/DET', 'Brust_/NOUN', ',_/PUNCT', 'auf_/ADP', 'die_/DET', 'Finger_/NOUN', 'mit_/ADP', 'der_/DET', 'linken_/ADJ', 'Hand_/NOUN', '3_/NUM', 'mal_/ADV', 'geteilt_/VERB', 'westentasche_/VERB', ',_/PUNCT', '(_/PUNCT', 'oder_/CCONJ', 'als_/ADP', 'müssten_/VERB', 'wir_/PRON', 'erinnert_/VERB', 'werden_/AUX', 'dass_/SCONJ', 'wir_/PRON', 'nicht_/PART', 'götter_/ADJ', 'sondern_/CCONJ', 'menschen_/NOUN', 'sind_/AUX', ',_/PUNCT', 'die_/PRON', 'es_/PRON', 'nötig_/ADV', 'haben_/VERB', ',_/PUNCT', 'die_/PRON', 'ihre_/DET', 'gedanken_/NOUN', 'durch_/ADP', 'die_/DET', 'feder_/NOUN', 'sichtbar_/ADV', 'zu_/PART', 'machen_/VERB', ',_/PUNCT', ')_/PUNCT', 'die_/DET', 'rosalia_/NOUN', 'sichtbar_/ADV', 'zu_/PART', 'machen_/VERB', ',_/PUNCT', ')_/PUNCT', 'die_/DET', 'rosalia_/NOUN', ',_/PUNCT', 'bewaldet_/VERB', ',_/PUNCT', 'wir_/PRON', 'essen_/VERB', 'kleine_/ADJ', 'drachen_/NOUN', ',_/PUNCT', 'den_/DET', 'mond_/NOUN', ',_/PUNCT', 'asche_/NOUN', 'sein_/AUX', ',_/PUNCT', 'das_/DET', 'land_/NOUN', 'ist_/AUX', 'löwe_/NOUN', ',_/PUNCT', 'und_/CCONJ', 'viel_/DET', 'hitze_/VERB', ',_/PUNCT', 'pompeji_/NOUN', 'ist_/AUX', 'verbrannt_/VERB', ',_/PUNCT', 'nur_/ADV', 'kälberleib_/ADV', ',_/PUNCT', 'bekröter_/NOUN', 'sogar_/ADV', ',_/PUNCT', 'asche_/NOUN', 'sein_/AUX', ',_/PUNCT', 'jede_/DET', 'pfütze_/NOUN', 'getrunken_/VERB', ',_/PUNCT', '(_/PUNCT', 'der_/DET', 'dürer_/NOUN', ')_/PUNCT', 'und_/CCONJ', 'überschwemmungen_/VERB', ',_/PUNCT', 'aus_/ADP', 'den_/DET', 'aufgeschlagenen_/ADJ', 'karten_/NOUN', ',_/PUNCT', 'treue_/ADJ', ',_/PUNCT', 'Beständigkeit_/NOUN', ',_/PUNCT', 'schnarrendes_/ADJ', 'maulhorn_/NOUN', ',_/PUNCT', 'werktreue_/NOUN', ',_/PUNCT', 'rufe_/VERB', 'ich_/PRON', ',_/PUNCT', 'gelesen_/VERB', ',_/PUNCT', 'säge_/NOUN', 'des_/DET', 'laubs_/NOUN', ',_/PUNCT', 'verdruss_/ADV', '+_/CCONJ', 'Krankheit_/NOUN', 'alles_/PRON', 'verflochten_/ADV', ',_/PUNCT', 'aber_/CCONJ', 'es_/PRON', 'ist_/AUX', 'kein_/DET', 'schatz_/NOUN', 'zugegen_/VERB', 'mein_/DET', 'gaumen_/NOUN', 'krümmt_/VERB', 'sich_/PRON', ',_/PUNCT', 'nämlich_/ADV', 'das_/DET', 'stativ_/ADV', 'deiner_/ADJ', 'Beine_/NOUN', '(_/PUNCT', 'deiner_/ADJ', 'beine_/NOUN', ')_/PUNCT', 'plötzlich_/ADV', 'eingerastet_/VERB', ',_/PUNCT', 'eingerastet_/VERB', ',_/PUNCT', 'unter_/ADP', 'dem_/DET', 'kinn_/NOUN', 'gelegen_/VERB', ',_/PUNCT', 'unter_/ADP', 'der_/DET', 'zunge_/NOUN', ',_/PUNCT', 'verkappte_/ADJ', 'schläfe_/NOUN', '(_/PUNCT', 'mit_/ADP', 'kappe_/NOUN', ')_/PUNCT', 'oktoberkeule_/NOUN']\n",
      "der_/DET körper_/NOUN will_/AUX sich_/PRON ja_/ADV schließen_/VERB ,_/PUNCT rufst_/VERB du_/PRON ,_/PUNCT verdruss_/ADV und_/CCONJ krankheit_/NOUN als_/ADP göttin_/NOUN aus_/ADP der_/DET maschine_/NOUN (_/PUNCT die_/DET zigeunerspielkarten_/NOUN in_/ADP der_/DET Brust_/NOUN ,_/PUNCT auf_/ADP die_/DET Finger_/NOUN mit_/ADP der_/DET linken_/ADJ Hand_/NOUN 3_/NUM mal_/ADV geteilt_/VERB westentasche_/VERB ,_/PUNCT (_/PUNCT oder_/CCONJ als_/ADP müssten_/VERB wir_/PRON erinnert_/VERB werden_/AUX dass_/SCONJ wir_/PRON nicht_/PART götter_/ADJ sondern_/CCONJ menschen_/NOUN sind_/AUX ,_/PUNCT die_/PRON es_/PRON nötig_/ADV haben_/VERB ,_/PUNCT die_/PRON ihre_/DET gedanken_/NOUN durch_/ADP die_/DET feder_/NOUN sichtbar_/ADV zu_/PART machen_/VERB ,_/PUNCT )_/PUNCT die_/DET rosalia_/NOUN sichtbar_/ADV zu_/PART machen_/VERB ,_/PUNCT )_/PUNCT die_/DET rosalia_/NOUN ,_/PUNCT bewaldet_/VERB ,_/PUNCT wir_/PRON essen_/VERB kleine_/ADJ drachen_/NOUN ,_/PUNCT den_/DET mond_/NOUN ,_/PUNCT asche_/NOUN sein_/AUX ,_/PUNCT das_/DET land_/NOUN ist_/AUX löwe_/NOUN ,_/PUNCT und_/CCONJ viel_/DET hitze_/VERB ,_/PUNCT pompeji_/NOUN ist_/AUX verbrannt_/VERB ,_/PUNCT nur_/ADV kälberleib_/ADV ,_/PUNCT bekröter_/NOUN sogar_/ADV ,_/PUNCT asche_/NOUN sein_/AUX ,_/PUNCT jede_/DET pfütze_/NOUN getrunken_/VERB ,_/PUNCT (_/PUNCT der_/DET dürer_/NOUN )_/PUNCT und_/CCONJ überschwemmungen_/VERB ,_/PUNCT aus_/ADP den_/DET aufgeschlagenen_/ADJ karten_/NOUN ,_/PUNCT treue_/ADJ ,_/PUNCT Beständigkeit_/NOUN ,_/PUNCT schnarrendes_/ADJ maulhorn_/NOUN ,_/PUNCT werktreue_/NOUN ,_/PUNCT rufe_/VERB ich_/PRON ,_/PUNCT gelesen_/VERB ,_/PUNCT säge_/NOUN des_/DET laubs_/NOUN ,_/PUNCT verdruss_/ADV +_/CCONJ Krankheit_/NOUN alles_/PRON verflochten_/ADV ,_/PUNCT aber_/CCONJ es_/PRON ist_/AUX kein_/DET schatz_/NOUN zugegen_/VERB mein_/DET gaumen_/NOUN krümmt_/VERB sich_/PRON ,_/PUNCT nämlich_/ADV das_/DET stativ_/ADV deiner_/ADJ Beine_/NOUN (_/PUNCT deiner_/ADJ beine_/NOUN )_/PUNCT plötzlich_/ADV eingerastet_/VERB ,_/PUNCT eingerastet_/VERB ,_/PUNCT unter_/ADP dem_/DET kinn_/NOUN gelegen_/VERB ,_/PUNCT unter_/ADP der_/DET zunge_/NOUN ,_/PUNCT verkappte_/ADJ schläfe_/NOUN (_/PUNCT mit_/ADP kappe_/NOUN )_/PUNCT oktoberkeule_/NOUN\n",
      "Werktreue! der Körper will sich ja schließen rufst du, Verdruss und Krankheit, die Witwe, als Göttin aus der Maschine, die Zigeunerspielkarten aus in der Brusttasche, dreimal geteilt, mit der Linken linken Hand, die Rosalia sichtbar zu machen, bewaldet, wir essen kleine Drachen, den Mond, das Land ist Löwe, viel Hitze, Pompeji, (ist verbrannt), nur Kälberleib, Bekröter sogar, von jeder jede Pfütze getrunken, ( der Dürer ) (und Überschwemmungen), aus den aufgeschlagenen Karten Beständigkeit, Treue, gelesen, schnarrendes Maulhorn, Werktreue, !, rufe ich, Krankheit Verdruss, alles verflochten, aber es ist kein Schatz zugegen, mein Gaumen krümmt sich, das Stativ deiner seiner Beine eingerastet, verkappte Schläfe, mit Kappe, Oktoberkeule - das Stativ deiner Beine eingerastet\n",
      "['Werktreue_/NOUN', '!_/PUNCT', 'der_/DET', 'Körper_/NOUN', 'will_/AUX', 'sich_/PRON', 'ja_/ADV', 'schließen_/VERB', 'rufst_/PROPN', 'du_/PRON', ',_/PUNCT', 'Verdruss_/PROPN', 'und_/CCONJ', 'Krankheit_/NOUN', ',_/PUNCT', 'die_/DET', 'Witwe_/NOUN', ',_/PUNCT', 'als_/ADP', 'Göttin_/NOUN', 'aus_/ADP', 'der_/DET', 'Maschine_/NOUN', ',_/PUNCT', 'die_/DET', 'Zigeunerspielkarten_/NOUN', 'aus_/ADP', 'in_/ADP', 'der_/DET', 'Brusttasche_/NOUN', ',_/PUNCT', 'dreimal_/ADV', 'geteilt_/VERB', ',_/PUNCT', 'mit_/ADP', 'der_/DET', 'Linken_/NOUN', 'linken_/ADJ', 'Hand_/NOUN', ',_/PUNCT', 'die_/DET', 'Rosalia_/NOUN', 'sichtbar_/ADV', 'zu_/PART', 'machen_/VERB', ',_/PUNCT', 'bewaldet_/VERB', ',_/PUNCT', 'wir_/PRON', 'essen_/VERB', 'kleine_/ADJ', 'Drachen_/NOUN', ',_/PUNCT', 'den_/DET', 'Mond_/NOUN', ',_/PUNCT', 'das_/DET', 'Land_/NOUN', 'ist_/AUX', 'Löwe_/PROPN', ',_/PUNCT', 'viel_/DET', 'Hitze_/NOUN', ',_/PUNCT', 'Pompeji_/NOUN', ',_/PUNCT', '(_/PUNCT', 'ist_/AUX', 'verbrannt_/VERB', ')_/PUNCT', ',_/PUNCT', 'nur_/ADV', 'Kälberleib_/NOUN', ',_/PUNCT', 'Bekröter_/NOUN', 'sogar_/ADV', ',_/PUNCT', 'von_/ADP', 'jeder_/PRON', 'jede_/DET', 'Pfütze_/NOUN', 'getrunken_/VERB', ',_/PUNCT', '(_/PUNCT', 'der_/DET', 'Dürer_/NOUN', ')_/PUNCT', '(_/PUNCT', 'und_/CCONJ', 'Überschwemmungen_/NOUN', ')_/PUNCT', ',_/PUNCT', 'aus_/ADP', 'den_/DET', 'aufgeschlagenen_/ADJ', 'Karten_/NOUN', 'Beständigkeit_/NOUN', ',_/PUNCT', 'Treue_/NOUN', ',_/PUNCT', 'gelesen_/VERB', ',_/PUNCT', 'schnarrendes_/ADJ', 'Maulhorn_/NOUN', ',_/PUNCT', 'Werktreue_/NOUN', ',_/PUNCT', '!_/PUNCT', ',_/PUNCT', 'rufe_/VERB', 'ich_/PRON', ',_/PUNCT', 'Krankheit_/NOUN', 'Verdruss_/PROPN', ',_/PUNCT', 'alles_/PRON', 'verflochten_/ADV', ',_/PUNCT', 'aber_/CCONJ', 'es_/PRON', 'ist_/AUX', 'kein_/DET', 'Schatz_/NOUN', 'zugegen_/VERB', ',_/PUNCT', 'mein_/DET', 'Gaumen_/NOUN', 'krümmt_/VERB', 'sich_/PRON', ',_/PUNCT', 'das_/DET', 'Stativ_/NOUN', 'deiner_/DET', 'seiner_/DET', 'Beine_/NOUN', 'eingerastet_/VERB', ',_/PUNCT', 'verkappte_/ADJ', 'Schläfe_/NOUN', ',_/PUNCT', 'mit_/ADP', 'Kappe_/NOUN', ',_/PUNCT', 'Oktoberkeule_/NOUN', '-_/PUNCT', 'das_/DET', 'Stativ_/NOUN', 'deiner_/DET', 'Beine_/NOUN', 'eingerastet_/VERB']\n",
      "Werktreue_/NOUN !_/PUNCT der_/DET Körper_/NOUN will_/AUX sich_/PRON ja_/ADV schließen_/VERB rufst_/PROPN du_/PRON ,_/PUNCT Verdruss_/PROPN und_/CCONJ Krankheit_/NOUN ,_/PUNCT die_/DET Witwe_/NOUN ,_/PUNCT als_/ADP Göttin_/NOUN aus_/ADP der_/DET Maschine_/NOUN ,_/PUNCT die_/DET Zigeunerspielkarten_/NOUN aus_/ADP in_/ADP der_/DET Brusttasche_/NOUN ,_/PUNCT dreimal_/ADV geteilt_/VERB ,_/PUNCT mit_/ADP der_/DET Linken_/NOUN linken_/ADJ Hand_/NOUN ,_/PUNCT die_/DET Rosalia_/NOUN sichtbar_/ADV zu_/PART machen_/VERB ,_/PUNCT bewaldet_/VERB ,_/PUNCT wir_/PRON essen_/VERB kleine_/ADJ Drachen_/NOUN ,_/PUNCT den_/DET Mond_/NOUN ,_/PUNCT das_/DET Land_/NOUN ist_/AUX Löwe_/PROPN ,_/PUNCT viel_/DET Hitze_/NOUN ,_/PUNCT Pompeji_/NOUN ,_/PUNCT (_/PUNCT ist_/AUX verbrannt_/VERB )_/PUNCT ,_/PUNCT nur_/ADV Kälberleib_/NOUN ,_/PUNCT Bekröter_/NOUN sogar_/ADV ,_/PUNCT von_/ADP jeder_/PRON jede_/DET Pfütze_/NOUN getrunken_/VERB ,_/PUNCT (_/PUNCT der_/DET Dürer_/NOUN )_/PUNCT (_/PUNCT und_/CCONJ Überschwemmungen_/NOUN )_/PUNCT ,_/PUNCT aus_/ADP den_/DET aufgeschlagenen_/ADJ Karten_/NOUN Beständigkeit_/NOUN ,_/PUNCT Treue_/NOUN ,_/PUNCT gelesen_/VERB ,_/PUNCT schnarrendes_/ADJ Maulhorn_/NOUN ,_/PUNCT Werktreue_/NOUN ,_/PUNCT !_/PUNCT ,_/PUNCT rufe_/VERB ich_/PRON ,_/PUNCT Krankheit_/NOUN Verdruss_/PROPN ,_/PUNCT alles_/PRON verflochten_/ADV ,_/PUNCT aber_/CCONJ es_/PRON ist_/AUX kein_/DET Schatz_/NOUN zugegen_/VERB ,_/PUNCT mein_/DET Gaumen_/NOUN krümmt_/VERB sich_/PRON ,_/PUNCT das_/DET Stativ_/NOUN deiner_/DET seiner_/DET Beine_/NOUN eingerastet_/VERB ,_/PUNCT verkappte_/ADJ Schläfe_/NOUN ,_/PUNCT mit_/ADP Kappe_/NOUN ,_/PUNCT Oktoberkeule_/NOUN -_/PUNCT das_/DET Stativ_/NOUN deiner_/DET Beine_/NOUN eingerastet_/VERB\n",
      "weil das Auge zuerst bricht der Körper will sich ja schließen, Verdruss und Krankheit, die Witwe, Göttin aus der Maschine, die Zigeunerspielkarten Zigeunerkarten plötzlich aus der Brusttasche Tasche gezogen, dreimal abheben abgehoben, linkshändig, die Rosalia sichtbar zu machen, rufst du, bewaldet, wir essen kleine Drachen, den Mond, das Land ist Löwe, viel Hitze, Pompeji, nur Kälberleib, Bekröter sogar, Wahrträume, wie mit vielen Augen von jeder Pfütze getrunken, (der Dürer!) und Überschwemmungen Werktreue? rufe ich aus den aufgeschlagenen Karten Beständigkeit, Treue, gelesen Treue, Beständigkeit, aus den Karten gelesen, schnarrendes Maulhorn, Werktreue rufe ich, Krankheit, Verdruss alles verflochten, aber es ist kein Schatz zugegen, mein Gaumen krümmt sich, die Vögel picken zuerst die aus eingerastet ist das längst Stativ deiner Beine, verkappte Schläfe, Asche sein unter dem Kinn unter der Zunge mit Kappe, Oktoberschatten Oktoberkeule, und -schatten - wo die Schatten einander entgegen sind\n",
      "['weil_/SCONJ', 'das_/DET', 'Auge_/NOUN', 'zuerst_/ADV', 'bricht_/VERB', 'der_/DET', 'Körper_/NOUN', 'will_/AUX', 'sich_/PRON', 'ja_/ADV', 'schließen_/VERB', ',_/PUNCT', 'Verdruss_/PROPN', 'und_/CCONJ', 'Krankheit_/NOUN', ',_/PUNCT', 'die_/DET', 'Witwe_/NOUN', ',_/PUNCT', 'Göttin_/NOUN', 'aus_/ADP', 'der_/DET', 'Maschine_/NOUN', ',_/PUNCT', 'die_/DET', 'Zigeunerspielkarten_/NOUN', 'Zigeunerkarten_/NOUN', 'plötzlich_/ADV', 'aus_/ADP', 'der_/DET', 'Brusttasche_/NOUN', 'Tasche_/NOUN', 'gezogen_/VERB', ',_/PUNCT', 'dreimal_/ADV', 'abheben_/ADV', 'abgehoben_/VERB', ',_/PUNCT', 'linkshändig_/ADV', ',_/PUNCT', 'die_/DET', 'Rosalia_/NOUN', 'sichtbar_/ADV', 'zu_/PART', 'machen_/VERB', ',_/PUNCT', 'rufst_/VERB', 'du_/PRON', ',_/PUNCT', 'bewaldet_/VERB', ',_/PUNCT', 'wir_/PRON', 'essen_/VERB', 'kleine_/ADJ', 'Drachen_/NOUN', ',_/PUNCT', 'den_/DET', 'Mond_/NOUN', ',_/PUNCT', 'das_/DET', 'Land_/NOUN', 'ist_/AUX', 'Löwe_/PROPN', ',_/PUNCT', 'viel_/DET', 'Hitze_/NOUN', ',_/PUNCT', 'Pompeji_/NOUN', ',_/PUNCT', 'nur_/ADV', 'Kälberleib_/NOUN', ',_/PUNCT', 'Bekröter_/NOUN', 'sogar_/ADV', ',_/PUNCT', 'Wahrträume_/NOUN', ',_/PUNCT', 'wie_/ADP', 'mit_/ADP', 'vielen_/DET', 'Augen_/NOUN', 'von_/ADP', 'jeder_/DET', 'Pfütze_/NOUN', 'getrunken_/VERB', ',_/PUNCT', '(_/PUNCT', 'der_/DET', 'Dürer_/NOUN', '!_/PUNCT', ')_/PUNCT', 'und_/CCONJ', 'Überschwemmungen_/NOUN', 'Werktreue_/NOUN', '?_/PUNCT', 'rufe_/VERB', 'ich_/PRON', 'aus_/ADP', 'den_/DET', 'aufgeschlagenen_/ADJ', 'Karten_/NOUN', 'Beständigkeit_/NOUN', ',_/PUNCT', 'Treue_/NOUN', ',_/PUNCT', 'gelesen_/VERB', 'Treue_/NOUN', ',_/PUNCT', 'Beständigkeit_/NOUN', ',_/PUNCT', 'aus_/ADP', 'den_/DET', 'Karten_/NOUN', 'gelesen_/VERB', ',_/PUNCT', 'schnarrendes_/ADJ', 'Maulhorn_/NOUN', ',_/PUNCT', 'Werktreue_/NOUN', 'rufe_/VERB', 'ich_/PRON', ',_/PUNCT', 'Krankheit_/NOUN', ',_/PUNCT', 'Verdruss_/PROPN', 'alles_/PRON', 'verflochten_/ADV', ',_/PUNCT', 'aber_/CCONJ', 'es_/PRON', 'ist_/AUX', 'kein_/DET', 'Schatz_/NOUN', 'zugegen_/VERB', ',_/PUNCT', 'mein_/DET', 'Gaumen_/NOUN', 'krümmt_/VERB', 'sich_/PRON', ',_/PUNCT', 'die_/DET', 'Vögel_/NOUN', 'picken_/VERB', 'zuerst_/ADV', 'die_/DET', 'aus_/ADP', 'eingerastet_/VERB', 'ist_/AUX', 'das_/PRON', 'längst_/ADV', 'Stativ_/NOUN', 'deiner_/DET', 'Beine_/NOUN', ',_/PUNCT', 'verkappte_/ADJ', 'Schläfe_/NOUN', ',_/PUNCT', 'Asche_/NOUN', 'sein_/DET', 'unter_/ADP', 'dem_/DET', 'Kinn_/NOUN', 'unter_/ADP', 'der_/DET', 'Zunge_/NOUN', 'mit_/ADP', 'Kappe_/NOUN', ',_/PUNCT', 'Oktoberschatten_/ADJ', 'Oktoberkeule_/NOUN', ',_/PUNCT', 'und_/CCONJ', '-schatten_/NOUN', '-_/PUNCT', 'wo_/SCONJ', 'die_/DET', 'Schatten_/NOUN', 'einander_/PRON', 'entgegen_/ADP', 'sind_/AUX']\n",
      "weil_/SCONJ das_/DET Auge_/NOUN zuerst_/ADV bricht_/VERB der_/DET Körper_/NOUN will_/AUX sich_/PRON ja_/ADV schließen_/VERB ,_/PUNCT Verdruss_/PROPN und_/CCONJ Krankheit_/NOUN ,_/PUNCT die_/DET Witwe_/NOUN ,_/PUNCT Göttin_/NOUN aus_/ADP der_/DET Maschine_/NOUN ,_/PUNCT die_/DET Zigeunerspielkarten_/NOUN Zigeunerkarten_/NOUN plötzlich_/ADV aus_/ADP der_/DET Brusttasche_/NOUN Tasche_/NOUN gezogen_/VERB ,_/PUNCT dreimal_/ADV abheben_/ADV abgehoben_/VERB ,_/PUNCT linkshändig_/ADV ,_/PUNCT die_/DET Rosalia_/NOUN sichtbar_/ADV zu_/PART machen_/VERB ,_/PUNCT rufst_/VERB du_/PRON ,_/PUNCT bewaldet_/VERB ,_/PUNCT wir_/PRON essen_/VERB kleine_/ADJ Drachen_/NOUN ,_/PUNCT den_/DET Mond_/NOUN ,_/PUNCT das_/DET Land_/NOUN ist_/AUX Löwe_/PROPN ,_/PUNCT viel_/DET Hitze_/NOUN ,_/PUNCT Pompeji_/NOUN ,_/PUNCT nur_/ADV Kälberleib_/NOUN ,_/PUNCT Bekröter_/NOUN sogar_/ADV ,_/PUNCT Wahrträume_/NOUN ,_/PUNCT wie_/ADP mit_/ADP vielen_/DET Augen_/NOUN von_/ADP jeder_/DET Pfütze_/NOUN getrunken_/VERB ,_/PUNCT (_/PUNCT der_/DET Dürer_/NOUN !_/PUNCT )_/PUNCT und_/CCONJ Überschwemmungen_/NOUN Werktreue_/NOUN ?_/PUNCT rufe_/VERB ich_/PRON aus_/ADP den_/DET aufgeschlagenen_/ADJ Karten_/NOUN Beständigkeit_/NOUN ,_/PUNCT Treue_/NOUN ,_/PUNCT gelesen_/VERB Treue_/NOUN ,_/PUNCT Beständigkeit_/NOUN ,_/PUNCT aus_/ADP den_/DET Karten_/NOUN gelesen_/VERB ,_/PUNCT schnarrendes_/ADJ Maulhorn_/NOUN ,_/PUNCT Werktreue_/NOUN rufe_/VERB ich_/PRON ,_/PUNCT Krankheit_/NOUN ,_/PUNCT Verdruss_/PROPN alles_/PRON verflochten_/ADV ,_/PUNCT aber_/CCONJ es_/PRON ist_/AUX kein_/DET Schatz_/NOUN zugegen_/VERB ,_/PUNCT mein_/DET Gaumen_/NOUN krümmt_/VERB sich_/PRON ,_/PUNCT die_/DET Vögel_/NOUN picken_/VERB zuerst_/ADV die_/DET aus_/ADP eingerastet_/VERB ist_/AUX das_/PRON längst_/ADV Stativ_/NOUN deiner_/DET Beine_/NOUN ,_/PUNCT verkappte_/ADJ Schläfe_/NOUN ,_/PUNCT Asche_/NOUN sein_/DET unter_/ADP dem_/DET Kinn_/NOUN unter_/ADP der_/DET Zunge_/NOUN mit_/ADP Kappe_/NOUN ,_/PUNCT Oktoberschatten_/ADJ Oktoberkeule_/NOUN ,_/PUNCT und_/CCONJ -schatten_/NOUN -_/PUNCT wo_/SCONJ die_/DET Schatten_/NOUN einander_/PRON entgegen_/ADP sind_/AUX\n",
      "weil das Auge zuerst bricht der Körper will sich ja schließen, rufst du, Verdruss und Krankheit, die Witwe, Göttin aus der Maschine, die grünen Spielkarten plötzlich aus der Tasche gezogen, gemischt, dreimal abheben! linkshändig! die Rosalia sichtbar zu machen! bewaldet! wir essen bewaldet! wir essen kleine Drachen, den Mond, das Land ist Löwe, viel Hitze, Pompeji, Kälberleib. Bekröter sogar, Wahrträume wie mit vielen Augen von jeder Pfütze getrunken, die Vögel picken zuerst das menschliche Auge aus, alles verflochten Werktreue? rufe ich, Krankheit Verdruss, mein Gaumen krümmt sich, Beständigkeit, Treue aus den Karten gelesen Krankheit, Verdruss alles verflochten, aber es ist kein Schatz zugegen, Beständigkeit Treue, aus den Karten gelesen, Werktreue? rufe ich, aber es ist kein Schatz zugegen, Asche sein, Stativ deiner Beine, alles verflochten, das Stativ deiner Beine / unter dem Kinn unter der Zunge, schnarrendes Maulhorn, Schläfe mit Kappe, verkappte Schläfe Oktoberkeule Oktober keule, und -schatten / wo die unsere Schatten einander entgegen sind\n",
      "['weil_/SCONJ', 'das_/DET', 'Auge_/NOUN', 'zuerst_/ADV', 'bricht_/VERB', 'der_/DET', 'Körper_/NOUN', 'will_/AUX', 'sich_/PRON', 'ja_/ADV', 'schließen_/VERB', ',_/PUNCT', 'rufst_/VERB', 'du_/PRON', ',_/PUNCT', 'Verdruss_/PROPN', 'und_/CCONJ', 'Krankheit_/NOUN', ',_/PUNCT', 'die_/DET', 'Witwe_/NOUN', ',_/PUNCT', 'Göttin_/NOUN', 'aus_/ADP', 'der_/DET', 'Maschine_/NOUN', ',_/PUNCT', 'die_/DET', 'grünen_/ADJ', 'Spielkarten_/NOUN', 'plötzlich_/ADV', 'aus_/ADP', 'der_/DET', 'Tasche_/NOUN', 'gezogen_/VERB', ',_/PUNCT', 'gemischt_/VERB', ',_/PUNCT', 'dreimal_/ADV', 'abheben_/VERB', '!_/PUNCT', 'linkshändig_/ADV', '!_/PUNCT', 'die_/DET', 'Rosalia_/NOUN', 'sichtbar_/ADV', 'zu_/PART', 'machen_/VERB', '!_/PUNCT', 'bewaldet_/VERB', '!_/PUNCT', 'wir_/PRON', 'essen_/VERB', 'bewaldet_/VERB', '!_/PUNCT', 'wir_/PRON', 'essen_/VERB', 'kleine_/ADJ', 'Drachen_/NOUN', ',_/PUNCT', 'den_/DET', 'Mond_/NOUN', ',_/PUNCT', 'das_/DET', 'Land_/NOUN', 'ist_/AUX', 'Löwe_/PROPN', ',_/PUNCT', 'viel_/DET', 'Hitze_/NOUN', ',_/PUNCT', 'Pompeji_/NOUN', ',_/PUNCT', 'Kälberleib_/NOUN', '._/PUNCT', 'Bekröter_/NOUN', 'sogar_/ADV', ',_/PUNCT', 'Wahrträume_/NOUN', 'wie_/ADP', 'mit_/ADP', 'vielen_/DET', 'Augen_/NOUN', 'von_/ADP', 'jeder_/DET', 'Pfütze_/NOUN', 'getrunken_/VERB', ',_/PUNCT', 'die_/DET', 'Vögel_/NOUN', 'picken_/VERB', 'zuerst_/ADV', 'das_/DET', 'menschliche_/ADJ', 'Auge_/NOUN', 'aus_/ADP', ',_/PUNCT', 'alles_/DET', 'verflochten_/ADJ', 'Werktreue_/NOUN', '?_/PUNCT', 'rufe_/VERB', 'ich_/PRON', ',_/PUNCT', 'Krankheit_/NOUN', 'Verdruss_/PROPN', ',_/PUNCT', 'mein_/DET', 'Gaumen_/NOUN', 'krümmt_/VERB', 'sich_/PRON', ',_/PUNCT', 'Beständigkeit_/NOUN', ',_/PUNCT', 'Treue_/NOUN', 'aus_/ADP', 'den_/DET', 'Karten_/NOUN', 'gelesen_/VERB', 'Krankheit_/NOUN', ',_/PUNCT', 'Verdruss_/PROPN', 'alles_/PRON', 'verflochten_/ADV', ',_/PUNCT', 'aber_/CCONJ', 'es_/PRON', 'ist_/AUX', 'kein_/DET', 'Schatz_/NOUN', 'zugegen_/VERB', ',_/PUNCT', 'Beständigkeit_/NOUN', 'Treue_/NOUN', ',_/PUNCT', 'aus_/ADP', 'den_/DET', 'Karten_/NOUN', 'gelesen_/VERB', ',_/PUNCT', 'Werktreue_/NOUN', '?_/PUNCT', 'rufe_/VERB', 'ich_/PRON', ',_/PUNCT', 'aber_/CCONJ', 'es_/PRON', 'ist_/AUX', 'kein_/DET', 'Schatz_/NOUN', 'zugegen_/VERB', ',_/PUNCT', 'Asche_/NOUN', 'sein_/AUX', ',_/PUNCT', 'Stativ_/NOUN', 'deiner_/DET', 'Beine_/NOUN', ',_/PUNCT', 'alles_/PRON', 'verflochten_/ADV', ',_/PUNCT', 'das_/DET', 'Stativ_/NOUN', 'deiner_/DET', 'Beine_/NOUN', '/_/PUNCT', 'unter_/ADP', 'dem_/DET', 'Kinn_/NOUN', 'unter_/ADP', 'der_/DET', 'Zunge_/NOUN', ',_/PUNCT', 'schnarrendes_/ADJ', 'Maulhorn_/NOUN', ',_/PUNCT', 'Schläfe_/NOUN', 'mit_/ADP', 'Kappe_/NOUN', ',_/PUNCT', 'verkappte_/ADJ', 'Schläfe_/NOUN', 'Oktoberkeule_/NOUN', 'Oktober_/NOUN', 'keule_/VERB', ',_/PUNCT', 'und_/CCONJ', '-schatten_/NOUN', '/_/PUNCT', 'wo_/SCONJ', 'die_/DET', 'unsere_/DET', 'Schatten_/NOUN', 'einander_/PRON', 'entgegen_/ADP', 'sind_/AUX']\n",
      "weil_/SCONJ das_/DET Auge_/NOUN zuerst_/ADV bricht_/VERB der_/DET Körper_/NOUN will_/AUX sich_/PRON ja_/ADV schließen_/VERB ,_/PUNCT rufst_/VERB du_/PRON ,_/PUNCT Verdruss_/PROPN und_/CCONJ Krankheit_/NOUN ,_/PUNCT die_/DET Witwe_/NOUN ,_/PUNCT Göttin_/NOUN aus_/ADP der_/DET Maschine_/NOUN ,_/PUNCT die_/DET grünen_/ADJ Spielkarten_/NOUN plötzlich_/ADV aus_/ADP der_/DET Tasche_/NOUN gezogen_/VERB ,_/PUNCT gemischt_/VERB ,_/PUNCT dreimal_/ADV abheben_/VERB !_/PUNCT linkshändig_/ADV !_/PUNCT die_/DET Rosalia_/NOUN sichtbar_/ADV zu_/PART machen_/VERB !_/PUNCT bewaldet_/VERB !_/PUNCT wir_/PRON essen_/VERB bewaldet_/VERB !_/PUNCT wir_/PRON essen_/VERB kleine_/ADJ Drachen_/NOUN ,_/PUNCT den_/DET Mond_/NOUN ,_/PUNCT das_/DET Land_/NOUN ist_/AUX Löwe_/PROPN ,_/PUNCT viel_/DET Hitze_/NOUN ,_/PUNCT Pompeji_/NOUN ,_/PUNCT Kälberleib_/NOUN ._/PUNCT Bekröter_/NOUN sogar_/ADV ,_/PUNCT Wahrträume_/NOUN wie_/ADP mit_/ADP vielen_/DET Augen_/NOUN von_/ADP jeder_/DET Pfütze_/NOUN getrunken_/VERB ,_/PUNCT die_/DET Vögel_/NOUN picken_/VERB zuerst_/ADV das_/DET menschliche_/ADJ Auge_/NOUN aus_/ADP ,_/PUNCT alles_/DET verflochten_/ADJ Werktreue_/NOUN ?_/PUNCT rufe_/VERB ich_/PRON ,_/PUNCT Krankheit_/NOUN Verdruss_/PROPN ,_/PUNCT mein_/DET Gaumen_/NOUN krümmt_/VERB sich_/PRON ,_/PUNCT Beständigkeit_/NOUN ,_/PUNCT Treue_/NOUN aus_/ADP den_/DET Karten_/NOUN gelesen_/VERB Krankheit_/NOUN ,_/PUNCT Verdruss_/PROPN alles_/PRON verflochten_/ADV ,_/PUNCT aber_/CCONJ es_/PRON ist_/AUX kein_/DET Schatz_/NOUN zugegen_/VERB ,_/PUNCT Beständigkeit_/NOUN Treue_/NOUN ,_/PUNCT aus_/ADP den_/DET Karten_/NOUN gelesen_/VERB ,_/PUNCT Werktreue_/NOUN ?_/PUNCT rufe_/VERB ich_/PRON ,_/PUNCT aber_/CCONJ es_/PRON ist_/AUX kein_/DET Schatz_/NOUN zugegen_/VERB ,_/PUNCT Asche_/NOUN sein_/AUX ,_/PUNCT Stativ_/NOUN deiner_/DET Beine_/NOUN ,_/PUNCT alles_/PRON verflochten_/ADV ,_/PUNCT das_/DET Stativ_/NOUN deiner_/DET Beine_/NOUN /_/PUNCT unter_/ADP dem_/DET Kinn_/NOUN unter_/ADP der_/DET Zunge_/NOUN ,_/PUNCT schnarrendes_/ADJ Maulhorn_/NOUN ,_/PUNCT Schläfe_/NOUN mit_/ADP Kappe_/NOUN ,_/PUNCT verkappte_/ADJ Schläfe_/NOUN Oktoberkeule_/NOUN Oktober_/NOUN keule_/VERB ,_/PUNCT und_/CCONJ -schatten_/NOUN /_/PUNCT wo_/SCONJ die_/DET unsere_/DET Schatten_/NOUN einander_/PRON entgegen_/ADP sind_/AUX\n",
      "weil das Auge zuerst bricht der Körper will sich ja schließen, rufst du, Verdruss und Krankheit, die Witwe, Göttin aus der Maschine, die grünen Spielkarten plötzlich aus der Tasche gezogen, gemischt, dreimal abheben! linkshändig! die Rosalia sichtbar machen!, bewaldet / wir essen kleine Drachen, den Mond, das Land ist Löwe, viel Hitze, Pompeji, ein Kälberleib, Bekröter sogar, Wahrträume wie mit vielen Augen von jeder Pfütze getrunken, die Vögel picken zuerst das menschliche Auge aus, mein Gaumen sich alles verflochten, Krankheit, Verdruss aber es ist kein Schatz zugegen, Beständigkeit, Treue aus den Karten gelesen, Werktreue? rufe ich, unter der Zunge, unter dem Kinn, ein Stativ deiner Beine, Schläfe mit Kappe, Oktoberkeule, und schnarrendes Maulhorn, wo unsere Schatten einander entgegen sind\n",
      "['weil_/SCONJ', 'das_/DET', 'Auge_/NOUN', 'zuerst_/ADV', 'bricht_/VERB', 'der_/DET', 'Körper_/NOUN', 'will_/AUX', 'sich_/PRON', 'ja_/ADV', 'schließen_/VERB', ',_/PUNCT', 'rufst_/VERB', 'du_/PRON', ',_/PUNCT', 'Verdruss_/PROPN', 'und_/CCONJ', 'Krankheit_/NOUN', ',_/PUNCT', 'die_/DET', 'Witwe_/NOUN', ',_/PUNCT', 'Göttin_/NOUN', 'aus_/ADP', 'der_/DET', 'Maschine_/NOUN', ',_/PUNCT', 'die_/DET', 'grünen_/ADJ', 'Spielkarten_/NOUN', 'plötzlich_/ADV', 'aus_/ADP', 'der_/DET', 'Tasche_/NOUN', 'gezogen_/VERB', ',_/PUNCT', 'gemischt_/VERB', ',_/PUNCT', 'dreimal_/ADV', 'abheben_/VERB', '!_/PUNCT', 'linkshändig_/ADV', '!_/PUNCT', 'die_/DET', 'Rosalia_/NOUN', 'sichtbar_/ADV', 'machen_/VERB', '!_/PUNCT', ',_/PUNCT', 'bewaldet_/VERB', '/_/PUNCT', 'wir_/PRON', 'essen_/VERB', 'kleine_/ADJ', 'Drachen_/NOUN', ',_/PUNCT', 'den_/DET', 'Mond_/NOUN', ',_/PUNCT', 'das_/DET', 'Land_/NOUN', 'ist_/AUX', 'Löwe_/PROPN', ',_/PUNCT', 'viel_/DET', 'Hitze_/NOUN', ',_/PUNCT', 'Pompeji_/NOUN', ',_/PUNCT', 'ein_/DET', 'Kälberleib_/NOUN', ',_/PUNCT', 'Bekröter_/NOUN', 'sogar_/ADV', ',_/PUNCT', 'Wahrträume_/NOUN', 'wie_/ADP', 'mit_/ADP', 'vielen_/DET', 'Augen_/NOUN', 'von_/ADP', 'jeder_/DET', 'Pfütze_/NOUN', 'getrunken_/VERB', ',_/PUNCT', 'die_/DET', 'Vögel_/NOUN', 'picken_/VERB', 'zuerst_/ADV', 'das_/DET', 'menschliche_/ADJ', 'Auge_/NOUN', 'aus_/ADP', ',_/PUNCT', 'mein_/DET', 'Gaumen_/NOUN', 'sich_/PRON', 'alles_/PRON', 'verflochten_/ADV', ',_/PUNCT', 'Krankheit_/NOUN', ',_/PUNCT', 'Verdruss_/PROPN', 'aber_/CCONJ', 'es_/PRON', 'ist_/AUX', 'kein_/DET', 'Schatz_/NOUN', 'zugegen_/VERB', ',_/PUNCT', 'Beständigkeit_/NOUN', ',_/PUNCT', 'Treue_/NOUN', 'aus_/ADP', 'den_/DET', 'Karten_/NOUN', 'gelesen_/VERB', ',_/PUNCT', 'Werktreue_/NOUN', '?_/PUNCT', 'rufe_/VERB', 'ich_/PRON', ',_/PUNCT', 'unter_/ADP', 'der_/DET', 'Zunge_/NOUN', ',_/PUNCT', 'unter_/ADP', 'dem_/DET', 'Kinn_/NOUN', ',_/PUNCT', 'ein_/DET', 'Stativ_/NOUN', 'deiner_/ADJ', 'Beine_/NOUN', ',_/PUNCT', 'Schläfe_/NOUN', 'mit_/ADP', 'Kappe_/NOUN', ',_/PUNCT', 'Oktoberkeule_/NOUN', ',_/PUNCT', 'und_/CCONJ', 'schnarrendes_/ADJ', 'Maulhorn_/NOUN', ',_/PUNCT', 'wo_/SCONJ', 'unsere_/DET', 'Schatten_/NOUN', 'einander_/PRON', 'entgegen_/ADP', 'sind_/AUX']\n",
      "weil_/SCONJ das_/DET Auge_/NOUN zuerst_/ADV bricht_/VERB der_/DET Körper_/NOUN will_/AUX sich_/PRON ja_/ADV schließen_/VERB ,_/PUNCT rufst_/VERB du_/PRON ,_/PUNCT Verdruss_/PROPN und_/CCONJ Krankheit_/NOUN ,_/PUNCT die_/DET Witwe_/NOUN ,_/PUNCT Göttin_/NOUN aus_/ADP der_/DET Maschine_/NOUN ,_/PUNCT die_/DET grünen_/ADJ Spielkarten_/NOUN plötzlich_/ADV aus_/ADP der_/DET Tasche_/NOUN gezogen_/VERB ,_/PUNCT gemischt_/VERB ,_/PUNCT dreimal_/ADV abheben_/VERB !_/PUNCT linkshändig_/ADV !_/PUNCT die_/DET Rosalia_/NOUN sichtbar_/ADV machen_/VERB !_/PUNCT ,_/PUNCT bewaldet_/VERB /_/PUNCT wir_/PRON essen_/VERB kleine_/ADJ Drachen_/NOUN ,_/PUNCT den_/DET Mond_/NOUN ,_/PUNCT das_/DET Land_/NOUN ist_/AUX Löwe_/PROPN ,_/PUNCT viel_/DET Hitze_/NOUN ,_/PUNCT Pompeji_/NOUN ,_/PUNCT ein_/DET Kälberleib_/NOUN ,_/PUNCT Bekröter_/NOUN sogar_/ADV ,_/PUNCT Wahrträume_/NOUN wie_/ADP mit_/ADP vielen_/DET Augen_/NOUN von_/ADP jeder_/DET Pfütze_/NOUN getrunken_/VERB ,_/PUNCT die_/DET Vögel_/NOUN picken_/VERB zuerst_/ADV das_/DET menschliche_/ADJ Auge_/NOUN aus_/ADP ,_/PUNCT mein_/DET Gaumen_/NOUN sich_/PRON alles_/PRON verflochten_/ADV ,_/PUNCT Krankheit_/NOUN ,_/PUNCT Verdruss_/PROPN aber_/CCONJ es_/PRON ist_/AUX kein_/DET Schatz_/NOUN zugegen_/VERB ,_/PUNCT Beständigkeit_/NOUN ,_/PUNCT Treue_/NOUN aus_/ADP den_/DET Karten_/NOUN gelesen_/VERB ,_/PUNCT Werktreue_/NOUN ?_/PUNCT rufe_/VERB ich_/PRON ,_/PUNCT unter_/ADP der_/DET Zunge_/NOUN ,_/PUNCT unter_/ADP dem_/DET Kinn_/NOUN ,_/PUNCT ein_/DET Stativ_/NOUN deiner_/ADJ Beine_/NOUN ,_/PUNCT Schläfe_/NOUN mit_/ADP Kappe_/NOUN ,_/PUNCT Oktoberkeule_/NOUN ,_/PUNCT und_/CCONJ schnarrendes_/ADJ Maulhorn_/NOUN ,_/PUNCT wo_/SCONJ unsere_/DET Schatten_/NOUN einander_/PRON entgegen_/ADP sind_/AUX\n",
      "weil das Auge zuerst bricht der Körper will sich ja schließen, rufst du, Verdruss und Krankheit, die Witwe, Göttin aus der Maschine, die grünen Spielkarten plötzlich aus der Tasche gezogen, gemischt, dreimal abheben! linkshändig! die Rosalia sichtbar zu machen, bewaldet / wir essen kleine Drachen, den Mond, das Land ist Löwe, viel Hitze, Pompeji, ein Kälberleib, Bekröter sogar, Wahrträume wie mit vielen Augen von jeder Pfütze getrunken, die Vögel picken zuerst das menschliche Auge aus, alles verflochten, Krankheit, Verdruss, mein Gaumen krümmt sich, aber es ist kein Schatz zugegen, Treue, Beständigkeit, aus den Karten gelesen, Werktreue? rufe ich, Stativ Asche sein, Stativ Asche sein, Stativ deiner Beine, mein Gaumen krümmt sich, Schläfe mit Kappe unter der Zunge unter dem Kinn, Oktoberkeule, und schnarrendes Maulhorn, wo unsere Schatten einander entgegen sind\n",
      "['weil_/SCONJ', 'das_/DET', 'Auge_/NOUN', 'zuerst_/ADV', 'bricht_/VERB', 'der_/DET', 'Körper_/NOUN', 'will_/AUX', 'sich_/PRON', 'ja_/ADV', 'schließen_/VERB', ',_/PUNCT', 'rufst_/VERB', 'du_/PRON', ',_/PUNCT', 'Verdruss_/PROPN', 'und_/CCONJ', 'Krankheit_/NOUN', ',_/PUNCT', 'die_/DET', 'Witwe_/NOUN', ',_/PUNCT', 'Göttin_/NOUN', 'aus_/ADP', 'der_/DET', 'Maschine_/NOUN', ',_/PUNCT', 'die_/DET', 'grünen_/ADJ', 'Spielkarten_/NOUN', 'plötzlich_/ADV', 'aus_/ADP', 'der_/DET', 'Tasche_/NOUN', 'gezogen_/VERB', ',_/PUNCT', 'gemischt_/VERB', ',_/PUNCT', 'dreimal_/ADV', 'abheben_/VERB', '!_/PUNCT', 'linkshändig_/ADV', '!_/PUNCT', 'die_/DET', 'Rosalia_/NOUN', 'sichtbar_/ADV', 'zu_/PART', 'machen_/VERB', ',_/PUNCT', 'bewaldet_/VERB', '/_/PUNCT', 'wir_/PRON', 'essen_/VERB', 'kleine_/ADJ', 'Drachen_/NOUN', ',_/PUNCT', 'den_/DET', 'Mond_/NOUN', ',_/PUNCT', 'das_/DET', 'Land_/NOUN', 'ist_/AUX', 'Löwe_/PROPN', ',_/PUNCT', 'viel_/DET', 'Hitze_/NOUN', ',_/PUNCT', 'Pompeji_/NOUN', ',_/PUNCT', 'ein_/DET', 'Kälberleib_/NOUN', ',_/PUNCT', 'Bekröter_/NOUN', 'sogar_/ADV', ',_/PUNCT', 'Wahrträume_/NOUN', 'wie_/ADP', 'mit_/ADP', 'vielen_/DET', 'Augen_/NOUN', 'von_/ADP', 'jeder_/DET', 'Pfütze_/NOUN', 'getrunken_/VERB', ',_/PUNCT', 'die_/DET', 'Vögel_/NOUN', 'picken_/VERB', 'zuerst_/ADV', 'das_/DET', 'menschliche_/ADJ', 'Auge_/NOUN', 'aus_/ADP', ',_/PUNCT', 'alles_/PRON', 'verflochten_/ADV', ',_/PUNCT', 'Krankheit_/NOUN', ',_/PUNCT', 'Verdruss_/PROPN', ',_/PUNCT', 'mein_/DET', 'Gaumen_/NOUN', 'krümmt_/VERB', 'sich_/PRON', ',_/PUNCT', 'aber_/CCONJ', 'es_/PRON', 'ist_/AUX', 'kein_/DET', 'Schatz_/NOUN', 'zugegen_/VERB', ',_/PUNCT', 'Treue_/NOUN', ',_/PUNCT', 'Beständigkeit_/NOUN', ',_/PUNCT', 'aus_/ADP', 'den_/DET', 'Karten_/NOUN', 'gelesen_/VERB', ',_/PUNCT', 'Werktreue_/NOUN', '?_/PUNCT', 'rufe_/VERB', 'ich_/PRON', ',_/PUNCT', 'Stativ_/PROPN', 'Asche_/PROPN', 'sein_/AUX', ',_/PUNCT', 'Stativ_/PROPN', 'Asche_/PROPN', 'sein_/AUX', ',_/PUNCT', 'Stativ_/NOUN', 'deiner_/DET', 'Beine_/NOUN', ',_/PUNCT', 'mein_/DET', 'Gaumen_/NOUN', 'krümmt_/VERB', 'sich_/PRON', ',_/PUNCT', 'Schläfe_/NOUN', 'mit_/ADP', 'Kappe_/NOUN', 'unter_/ADP', 'der_/DET', 'Zunge_/NOUN', 'unter_/ADP', 'dem_/DET', 'Kinn_/NOUN', ',_/PUNCT', 'Oktoberkeule_/NOUN', ',_/PUNCT', 'und_/CCONJ', 'schnarrendes_/ADJ', 'Maulhorn_/NOUN', ',_/PUNCT', 'wo_/SCONJ', 'unsere_/DET', 'Schatten_/NOUN', 'einander_/PRON', 'entgegen_/ADP', 'sind_/AUX']\n",
      "weil_/SCONJ das_/DET Auge_/NOUN zuerst_/ADV bricht_/VERB der_/DET Körper_/NOUN will_/AUX sich_/PRON ja_/ADV schließen_/VERB ,_/PUNCT rufst_/VERB du_/PRON ,_/PUNCT Verdruss_/PROPN und_/CCONJ Krankheit_/NOUN ,_/PUNCT die_/DET Witwe_/NOUN ,_/PUNCT Göttin_/NOUN aus_/ADP der_/DET Maschine_/NOUN ,_/PUNCT die_/DET grünen_/ADJ Spielkarten_/NOUN plötzlich_/ADV aus_/ADP der_/DET Tasche_/NOUN gezogen_/VERB ,_/PUNCT gemischt_/VERB ,_/PUNCT dreimal_/ADV abheben_/VERB !_/PUNCT linkshändig_/ADV !_/PUNCT die_/DET Rosalia_/NOUN sichtbar_/ADV zu_/PART machen_/VERB ,_/PUNCT bewaldet_/VERB /_/PUNCT wir_/PRON essen_/VERB kleine_/ADJ Drachen_/NOUN ,_/PUNCT den_/DET Mond_/NOUN ,_/PUNCT das_/DET Land_/NOUN ist_/AUX Löwe_/PROPN ,_/PUNCT viel_/DET Hitze_/NOUN ,_/PUNCT Pompeji_/NOUN ,_/PUNCT ein_/DET Kälberleib_/NOUN ,_/PUNCT Bekröter_/NOUN sogar_/ADV ,_/PUNCT Wahrträume_/NOUN wie_/ADP mit_/ADP vielen_/DET Augen_/NOUN von_/ADP jeder_/DET Pfütze_/NOUN getrunken_/VERB ,_/PUNCT die_/DET Vögel_/NOUN picken_/VERB zuerst_/ADV das_/DET menschliche_/ADJ Auge_/NOUN aus_/ADP ,_/PUNCT alles_/PRON verflochten_/ADV ,_/PUNCT Krankheit_/NOUN ,_/PUNCT Verdruss_/PROPN ,_/PUNCT mein_/DET Gaumen_/NOUN krümmt_/VERB sich_/PRON ,_/PUNCT aber_/CCONJ es_/PRON ist_/AUX kein_/DET Schatz_/NOUN zugegen_/VERB ,_/PUNCT Treue_/NOUN ,_/PUNCT Beständigkeit_/NOUN ,_/PUNCT aus_/ADP den_/DET Karten_/NOUN gelesen_/VERB ,_/PUNCT Werktreue_/NOUN ?_/PUNCT rufe_/VERB ich_/PRON ,_/PUNCT Stativ_/PROPN Asche_/PROPN sein_/AUX ,_/PUNCT Stativ_/PROPN Asche_/PROPN sein_/AUX ,_/PUNCT Stativ_/NOUN deiner_/DET Beine_/NOUN ,_/PUNCT mein_/DET Gaumen_/NOUN krümmt_/VERB sich_/PRON ,_/PUNCT Schläfe_/NOUN mit_/ADP Kappe_/NOUN unter_/ADP der_/DET Zunge_/NOUN unter_/ADP dem_/DET Kinn_/NOUN ,_/PUNCT Oktoberkeule_/NOUN ,_/PUNCT und_/CCONJ schnarrendes_/ADJ Maulhorn_/NOUN ,_/PUNCT wo_/SCONJ unsere_/DET Schatten_/NOUN einander_/PRON entgegen_/ADP sind_/AUX\n",
      "weil das Auge zuerst bricht der Körper will sich ja schließen, rufst du, Verdruss und Krankheit, die Witwe, Göttin aus der Maschine, die grünen Zigeunerkarten Spielkarten plötzlich aus der Tasche gezogen, gemischt vermischt, dreimal abheben! linkshändig! die Rosalia sichtbar zu machen (bewaldet) / wir essen kleine Drachen, den Mond, das Land ist Löwe, viel voll Hitze, Pompeji, Kunstwellen ein Kälberleib, Bekröter sogar, Wahrträume wie mit vielen Augen von jeder Pfütze getrunken, die Vögel picken zuerst das menschliche Auge aus, alles verflochten, Krankheit, Verdruss, Säge des Laubs, mein Gaumen krümmt sich, aber es ist kein Schatz zugegen, die Treue, Beständigkeit aus den Karten gelesen, Werktreue? rufe ich, Asche sein, Stativ deiner Beine, Schläfe mit Kappe, unter der Zunge, unter dem Kinn, Oktoberkeule, und dein schnarrend schnarrendes Maulhorn / wo unsere Schatten einander entgegen sind\n",
      "['weil_/SCONJ', 'das_/DET', 'Auge_/NOUN', 'zuerst_/ADV', 'bricht_/VERB', 'der_/DET', 'Körper_/NOUN', 'will_/AUX', 'sich_/PRON', 'ja_/ADV', 'schließen_/VERB', ',_/PUNCT', 'rufst_/VERB', 'du_/PRON', ',_/PUNCT', 'Verdruss_/PROPN', 'und_/CCONJ', 'Krankheit_/NOUN', ',_/PUNCT', 'die_/DET', 'Witwe_/NOUN', ',_/PUNCT', 'Göttin_/NOUN', 'aus_/ADP', 'der_/DET', 'Maschine_/NOUN', ',_/PUNCT', 'die_/DET', 'grünen_/ADJ', 'Zigeunerkarten_/NOUN', 'Spielkarten_/NOUN', 'plötzlich_/ADV', 'aus_/ADP', 'der_/DET', 'Tasche_/NOUN', 'gezogen_/VERB', ',_/PUNCT', 'gemischt_/VERB', 'vermischt_/VERB', ',_/PUNCT', 'dreimal_/ADV', 'abheben_/VERB', '!_/PUNCT', 'linkshändig_/ADV', '!_/PUNCT', 'die_/DET', 'Rosalia_/NOUN', 'sichtbar_/ADV', 'zu_/PART', 'machen_/VERB', '(_/PUNCT', 'bewaldet_/VERB', ')_/PUNCT', '/_/PUNCT', 'wir_/PRON', 'essen_/VERB', 'kleine_/ADJ', 'Drachen_/NOUN', ',_/PUNCT', 'den_/DET', 'Mond_/NOUN', ',_/PUNCT', 'das_/DET', 'Land_/NOUN', 'ist_/AUX', 'Löwe_/PROPN', ',_/PUNCT', 'viel_/ADV', 'voll_/ADV', 'Hitze_/NOUN', ',_/PUNCT', 'Pompeji_/NOUN', ',_/PUNCT', 'Kunstwellen_/NOUN', 'ein_/DET', 'Kälberleib_/NOUN', ',_/PUNCT', 'Bekröter_/NOUN', 'sogar_/ADV', ',_/PUNCT', 'Wahrträume_/NOUN', 'wie_/ADP', 'mit_/ADP', 'vielen_/DET', 'Augen_/NOUN', 'von_/ADP', 'jeder_/DET', 'Pfütze_/NOUN', 'getrunken_/VERB', ',_/PUNCT', 'die_/DET', 'Vögel_/NOUN', 'picken_/VERB', 'zuerst_/ADV', 'das_/DET', 'menschliche_/ADJ', 'Auge_/NOUN', 'aus_/ADP', ',_/PUNCT', 'alles_/PRON', 'verflochten_/ADV', ',_/PUNCT', 'Krankheit_/NOUN', ',_/PUNCT', 'Verdruss_/PROPN', ',_/PUNCT', 'Säge_/NOUN', 'des_/DET', 'Laubs_/NOUN', ',_/PUNCT', 'mein_/DET', 'Gaumen_/NOUN', 'krümmt_/VERB', 'sich_/PRON', ',_/PUNCT', 'aber_/CCONJ', 'es_/PRON', 'ist_/AUX', 'kein_/DET', 'Schatz_/NOUN', 'zugegen_/VERB', ',_/PUNCT', 'die_/DET', 'Treue_/NOUN', ',_/PUNCT', 'Beständigkeit_/NOUN', 'aus_/ADP', 'den_/DET', 'Karten_/NOUN', 'gelesen_/VERB', ',_/PUNCT', 'Werktreue_/NOUN', '?_/PUNCT', 'rufe_/VERB', 'ich_/PRON', ',_/PUNCT', 'Asche_/NOUN', 'sein_/AUX', ',_/PUNCT', 'Stativ_/NOUN', 'deiner_/DET', 'Beine_/NOUN', ',_/PUNCT', 'Schläfe_/NOUN', 'mit_/ADP', 'Kappe_/NOUN', ',_/PUNCT', 'unter_/ADP', 'der_/DET', 'Zunge_/NOUN', ',_/PUNCT', 'unter_/ADP', 'dem_/DET', 'Kinn_/NOUN', ',_/PUNCT', 'Oktoberkeule_/NOUN', ',_/PUNCT', 'und_/CCONJ', 'dein_/DET', 'schnarrend_/ADV', 'schnarrendes_/ADJ', 'Maulhorn_/NOUN', '/_/PUNCT', 'wo_/SCONJ', 'unsere_/DET', 'Schatten_/NOUN', 'einander_/PRON', 'entgegen_/ADP', 'sind_/AUX']\n",
      "weil_/SCONJ das_/DET Auge_/NOUN zuerst_/ADV bricht_/VERB der_/DET Körper_/NOUN will_/AUX sich_/PRON ja_/ADV schließen_/VERB ,_/PUNCT rufst_/VERB du_/PRON ,_/PUNCT Verdruss_/PROPN und_/CCONJ Krankheit_/NOUN ,_/PUNCT die_/DET Witwe_/NOUN ,_/PUNCT Göttin_/NOUN aus_/ADP der_/DET Maschine_/NOUN ,_/PUNCT die_/DET grünen_/ADJ Zigeunerkarten_/NOUN Spielkarten_/NOUN plötzlich_/ADV aus_/ADP der_/DET Tasche_/NOUN gezogen_/VERB ,_/PUNCT gemischt_/VERB vermischt_/VERB ,_/PUNCT dreimal_/ADV abheben_/VERB !_/PUNCT linkshändig_/ADV !_/PUNCT die_/DET Rosalia_/NOUN sichtbar_/ADV zu_/PART machen_/VERB (_/PUNCT bewaldet_/VERB )_/PUNCT /_/PUNCT wir_/PRON essen_/VERB kleine_/ADJ Drachen_/NOUN ,_/PUNCT den_/DET Mond_/NOUN ,_/PUNCT das_/DET Land_/NOUN ist_/AUX Löwe_/PROPN ,_/PUNCT viel_/ADV voll_/ADV Hitze_/NOUN ,_/PUNCT Pompeji_/NOUN ,_/PUNCT Kunstwellen_/NOUN ein_/DET Kälberleib_/NOUN ,_/PUNCT Bekröter_/NOUN sogar_/ADV ,_/PUNCT Wahrträume_/NOUN wie_/ADP mit_/ADP vielen_/DET Augen_/NOUN von_/ADP jeder_/DET Pfütze_/NOUN getrunken_/VERB ,_/PUNCT die_/DET Vögel_/NOUN picken_/VERB zuerst_/ADV das_/DET menschliche_/ADJ Auge_/NOUN aus_/ADP ,_/PUNCT alles_/PRON verflochten_/ADV ,_/PUNCT Krankheit_/NOUN ,_/PUNCT Verdruss_/PROPN ,_/PUNCT Säge_/NOUN des_/DET Laubs_/NOUN ,_/PUNCT mein_/DET Gaumen_/NOUN krümmt_/VERB sich_/PRON ,_/PUNCT aber_/CCONJ es_/PRON ist_/AUX kein_/DET Schatz_/NOUN zugegen_/VERB ,_/PUNCT die_/DET Treue_/NOUN ,_/PUNCT Beständigkeit_/NOUN aus_/ADP den_/DET Karten_/NOUN gelesen_/VERB ,_/PUNCT Werktreue_/NOUN ?_/PUNCT rufe_/VERB ich_/PRON ,_/PUNCT Asche_/NOUN sein_/AUX ,_/PUNCT Stativ_/NOUN deiner_/DET Beine_/NOUN ,_/PUNCT Schläfe_/NOUN mit_/ADP Kappe_/NOUN ,_/PUNCT unter_/ADP der_/DET Zunge_/NOUN ,_/PUNCT unter_/ADP dem_/DET Kinn_/NOUN ,_/PUNCT Oktoberkeule_/NOUN ,_/PUNCT und_/CCONJ dein_/DET schnarrend_/ADV schnarrendes_/ADJ Maulhorn_/NOUN /_/PUNCT wo_/SCONJ unsere_/DET Schatten_/NOUN einander_/PRON entgegen_/ADP sind_/AUX\n",
      "vielleicht weil das Auge zuerst bricht der Körper will sich ja schließen! rufst du Verdruss und Krankheit der Witwe : Göttin aus der Maschine, die grünen Zigeunerkarten plötzlich aus der Tasche gezogen vermischt, dreimal abheben! linkshändig! die Rosalia sichtbar zu machen (bewaldet), wir essen kleine Drachen den Mond, das Land ist Löwe viel Hitze Pompeji Kunstwellen Kälberleib Bekröter sogar : Wahrträume - wie mit vielen Augen aus jeder Pfütze getrunken, die Vögel picken das menschliche Auge zuerst aus, alles verflochten Krankheit Verdruss Säge des Laubs, mein Gaumen krümmt sich aber es ist kein Schatz zugegen, die Treue Beständigkeit aus den Karten gelesen, Werktreue? rufe ich, Asche werden, Stativ deiner Beine, Schläfe mit Kappe, Oktoberkeule dein schnarrendes Maulhorn ach wo unsere Schatten einander entgegen sind -\n",
      "['vielleicht_/ADV', 'weil_/SCONJ', 'das_/DET', 'Auge_/NOUN', 'zuerst_/ADV', 'bricht_/VERB', 'der_/DET', 'Körper_/NOUN', 'will_/AUX', 'sich_/PRON', 'ja_/ADV', 'schließen_/VERB', '!_/PUNCT', 'rufst_/X', 'du_/PRON', 'Verdruss_/PROPN', 'und_/CCONJ', 'Krankheit_/NOUN', 'der_/DET', 'Witwe_/NOUN', ':_/PUNCT', 'Göttin_/NOUN', 'aus_/ADP', 'der_/DET', 'Maschine_/NOUN', ',_/PUNCT', 'die_/DET', 'grünen_/ADJ', 'Zigeunerkarten_/NOUN', 'plötzlich_/ADV', 'aus_/ADP', 'der_/DET', 'Tasche_/NOUN', 'gezogen_/VERB', 'vermischt_/VERB', ',_/PUNCT', 'dreimal_/ADV', 'abheben_/VERB', '!_/PUNCT', 'linkshändig_/ADV', '!_/PUNCT', 'die_/DET', 'Rosalia_/NOUN', 'sichtbar_/ADV', 'zu_/PART', 'machen_/VERB', '(_/PUNCT', 'bewaldet_/VERB', ')_/PUNCT', ',_/PUNCT', 'wir_/PRON', 'essen_/VERB', 'kleine_/ADJ', 'Drachen_/NOUN', 'den_/DET', 'Mond_/NOUN', ',_/PUNCT', 'das_/DET', 'Land_/NOUN', 'ist_/AUX', 'Löwe_/PROPN', 'viel_/DET', 'Hitze_/NOUN', 'Pompeji_/PROPN', 'Kunstwellen_/PROPN', 'Kälberleib_/PROPN', 'Bekröter_/NOUN', 'sogar_/ADV', ':_/PUNCT', 'Wahrträume_/NOUN', '-_/PUNCT', 'wie_/ADP', 'mit_/ADP', 'vielen_/DET', 'Augen_/NOUN', 'aus_/ADP', 'jeder_/DET', 'Pfütze_/NOUN', 'getrunken_/VERB', ',_/PUNCT', 'die_/DET', 'Vögel_/NOUN', 'picken_/VERB', 'das_/DET', 'menschliche_/ADJ', 'Auge_/NOUN', 'zuerst_/ADV', 'aus_/ADP', ',_/PUNCT', 'alles_/DET', 'verflochten_/ADJ', 'Krankheit_/NOUN', 'Verdruss_/PROPN', 'Säge_/NOUN', 'des_/DET', 'Laubs_/NOUN', ',_/PUNCT', 'mein_/DET', 'Gaumen_/NOUN', 'krümmt_/VERB', 'sich_/PRON', 'aber_/ADV', 'es_/PRON', 'ist_/AUX', 'kein_/DET', 'Schatz_/NOUN', 'zugegen_/VERB', ',_/PUNCT', 'die_/DET', 'Treue_/ADJ', 'Beständigkeit_/NOUN', 'aus_/ADP', 'den_/DET', 'Karten_/NOUN', 'gelesen_/VERB', ',_/PUNCT', 'Werktreue_/NOUN', '?_/PUNCT', 'rufe_/VERB', 'ich_/PRON', ',_/PUNCT', 'Asche_/NOUN', 'werden_/AUX', ',_/PUNCT', 'Stativ_/ADV', 'deiner_/DET', 'Beine_/NOUN', ',_/PUNCT', 'Schläfe_/NOUN', 'mit_/ADP', 'Kappe_/NOUN', ',_/PUNCT', 'Oktoberkeule_/NOUN', 'dein_/DET', 'schnarrendes_/ADJ', 'Maulhorn_/NOUN', 'ach_/ADP', 'wo_/SCONJ', 'unsere_/DET', 'Schatten_/NOUN', 'einander_/PRON', 'entgegen_/ADP', 'sind_/AUX', '-_/PUNCT']\n",
      "vielleicht_/ADV weil_/SCONJ das_/DET Auge_/NOUN zuerst_/ADV bricht_/VERB der_/DET Körper_/NOUN will_/AUX sich_/PRON ja_/ADV schließen_/VERB !_/PUNCT rufst_/X du_/PRON Verdruss_/PROPN und_/CCONJ Krankheit_/NOUN der_/DET Witwe_/NOUN :_/PUNCT Göttin_/NOUN aus_/ADP der_/DET Maschine_/NOUN ,_/PUNCT die_/DET grünen_/ADJ Zigeunerkarten_/NOUN plötzlich_/ADV aus_/ADP der_/DET Tasche_/NOUN gezogen_/VERB vermischt_/VERB ,_/PUNCT dreimal_/ADV abheben_/VERB !_/PUNCT linkshändig_/ADV !_/PUNCT die_/DET Rosalia_/NOUN sichtbar_/ADV zu_/PART machen_/VERB (_/PUNCT bewaldet_/VERB )_/PUNCT ,_/PUNCT wir_/PRON essen_/VERB kleine_/ADJ Drachen_/NOUN den_/DET Mond_/NOUN ,_/PUNCT das_/DET Land_/NOUN ist_/AUX Löwe_/PROPN viel_/DET Hitze_/NOUN Pompeji_/PROPN Kunstwellen_/PROPN Kälberleib_/PROPN Bekröter_/NOUN sogar_/ADV :_/PUNCT Wahrträume_/NOUN -_/PUNCT wie_/ADP mit_/ADP vielen_/DET Augen_/NOUN aus_/ADP jeder_/DET Pfütze_/NOUN getrunken_/VERB ,_/PUNCT die_/DET Vögel_/NOUN picken_/VERB das_/DET menschliche_/ADJ Auge_/NOUN zuerst_/ADV aus_/ADP ,_/PUNCT alles_/DET verflochten_/ADJ Krankheit_/NOUN Verdruss_/PROPN Säge_/NOUN des_/DET Laubs_/NOUN ,_/PUNCT mein_/DET Gaumen_/NOUN krümmt_/VERB sich_/PRON aber_/ADV es_/PRON ist_/AUX kein_/DET Schatz_/NOUN zugegen_/VERB ,_/PUNCT die_/DET Treue_/ADJ Beständigkeit_/NOUN aus_/ADP den_/DET Karten_/NOUN gelesen_/VERB ,_/PUNCT Werktreue_/NOUN ?_/PUNCT rufe_/VERB ich_/PRON ,_/PUNCT Asche_/NOUN werden_/AUX ,_/PUNCT Stativ_/ADV deiner_/DET Beine_/NOUN ,_/PUNCT Schläfe_/NOUN mit_/ADP Kappe_/NOUN ,_/PUNCT Oktoberkeule_/NOUN dein_/DET schnarrendes_/ADJ Maulhorn_/NOUN ach_/ADP wo_/SCONJ unsere_/DET Schatten_/NOUN einander_/PRON entgegen_/ADP sind_/AUX -_/PUNCT\n"
     ]
    }
   ],
   "source": [
    "\n",
    "for lg in linegroups: \n",
    "    for line in lg:\n",
    "        if line is not None and line.text:\n",
    "            line_text = line.text\n",
    "            line_text.replace(\"\\n\", \"\").replace(\"\\r\", \"\")\n",
    "            line_text = \" \".join(line_text.strip().split())\n",
    "            print(line_text)\n",
    "            doc = nlp(line_text)\n",
    "            \n",
    "        #    line.clear()\n",
    "         #   print(line.text)\n",
    "            \n",
    "            new_line_text = []\n",
    "            for token in doc:\n",
    "                new_token = f\"{token.text}_/{token.pos_}\"\n",
    "                new_line_text.append(new_token)\n",
    "            \n",
    "            print(new_line_text)        \n",
    "            newlinetext = \" \".join(new_line_text)\n",
    "            print(newlinetext)\n",
    "    line.text = newlinetext\n",
    "    \n",
    "    \n",
    "tree.write(\"output_pos_vwdazb_sm.xml\", encoding=\"utf-8\", xml_declaration=True)"
   ]
  },
  {
   "cell_type": "markdown",
   "id": "9a6cbc11",
   "metadata": {},
   "source": [
    "##### als Tabelle speichern"
   ]
  },
  {
   "cell_type": "code",
   "execution_count": 13,
   "id": "9d8fee91",
   "metadata": {},
   "outputs": [
    {
     "data": {
      "text/html": [
       "<div>\n",
       "<style scoped>\n",
       "    .dataframe tbody tr th:only-of-type {\n",
       "        vertical-align: middle;\n",
       "    }\n",
       "\n",
       "    .dataframe tbody tr th {\n",
       "        vertical-align: top;\n",
       "    }\n",
       "\n",
       "    .dataframe thead th {\n",
       "        text-align: right;\n",
       "    }\n",
       "</style>\n",
       "<table border=\"1\" class=\"dataframe\">\n",
       "  <thead>\n",
       "    <tr style=\"text-align: right;\">\n",
       "      <th></th>\n",
       "      <th>text</th>\n",
       "      <th>pos</th>\n",
       "    </tr>\n",
       "  </thead>\n",
       "  <tbody>\n",
       "    <tr>\n",
       "      <th>0</th>\n",
       "      <td>der</td>\n",
       "      <td>DET</td>\n",
       "    </tr>\n",
       "    <tr>\n",
       "      <th>1</th>\n",
       "      <td>körper</td>\n",
       "      <td>NOUN</td>\n",
       "    </tr>\n",
       "    <tr>\n",
       "      <th>2</th>\n",
       "      <td>will</td>\n",
       "      <td>AUX</td>\n",
       "    </tr>\n",
       "    <tr>\n",
       "      <th>3</th>\n",
       "      <td>sich</td>\n",
       "      <td>PRON</td>\n",
       "    </tr>\n",
       "    <tr>\n",
       "      <th>4</th>\n",
       "      <td>ja</td>\n",
       "      <td>ADV</td>\n",
       "    </tr>\n",
       "    <tr>\n",
       "      <th>5</th>\n",
       "      <td>schließen</td>\n",
       "      <td>VERB</td>\n",
       "    </tr>\n",
       "    <tr>\n",
       "      <th>6</th>\n",
       "      <td>,</td>\n",
       "      <td>PUNCT</td>\n",
       "    </tr>\n",
       "    <tr>\n",
       "      <th>7</th>\n",
       "      <td>rufst</td>\n",
       "      <td>VERB</td>\n",
       "    </tr>\n",
       "    <tr>\n",
       "      <th>8</th>\n",
       "      <td>du</td>\n",
       "      <td>PRON</td>\n",
       "    </tr>\n",
       "    <tr>\n",
       "      <th>9</th>\n",
       "      <td>,</td>\n",
       "      <td>PUNCT</td>\n",
       "    </tr>\n",
       "  </tbody>\n",
       "</table>\n",
       "</div>"
      ],
      "text/plain": [
       "        text    pos\n",
       "0        der    DET\n",
       "1     körper   NOUN\n",
       "2       will    AUX\n",
       "3       sich   PRON\n",
       "4         ja    ADV\n",
       "5  schließen   VERB\n",
       "6          ,  PUNCT\n",
       "7      rufst   VERB\n",
       "8         du   PRON\n",
       "9          ,  PUNCT"
      ]
     },
     "execution_count": 13,
     "metadata": {},
     "output_type": "execute_result"
    }
   ],
   "source": [
    "tree = etree.parse(\"C:/Users/jO/Desktop/DH_MA_Arbeit/coding/transkribiert_ohne-unclear-_vielleichtweil.xml\")\n",
    "linegroups = tree.xpath(\"//tei:lg\", namespaces={\"tei\": \"http://www.tei-c.org/ns/1.0\"})\n",
    "pos_info = []\n",
    "for lg in linegroups: \n",
    "    for line in lg:\n",
    "        if line is not None and line.text:\n",
    "            line_text = line.text\n",
    "            line_text.replace(\"\\n\", \"\").replace(\"\\r\", \"\")\n",
    "            line_text = \" \".join(line_text.strip().split())\n",
    "        #    print(line_text)\n",
    "            doc = nlp(line_text)\n",
    "            for token in doc:\n",
    "                pos_info.append({\n",
    "                    'text': token.text,\n",
    "                    'pos': token.pos_})\n",
    "\n",
    "\n",
    "pos_info_df = pd.DataFrame(pos_info)\n",
    "pos_info_df.to_csv('pos_info_vwdazb_sm.csv', index=False)\n",
    "pos_info_df.head(10)"
   ]
  },
  {
   "cell_type": "code",
   "execution_count": 14,
   "id": "f9a6cead",
   "metadata": {},
   "outputs": [
    {
     "data": {
      "text/plain": [
       "1352"
      ]
     },
     "execution_count": 14,
     "metadata": {},
     "output_type": "execute_result"
    }
   ],
   "source": [
    "len(pos_info_df)"
   ]
  },
  {
   "cell_type": "code",
   "execution_count": null,
   "id": "4467b0e2",
   "metadata": {},
   "outputs": [],
   "source": []
  },
  {
   "cell_type": "code",
   "execution_count": null,
   "id": "91a12559-00fc-432e-9074-a4d43e48b16e",
   "metadata": {},
   "outputs": [],
   "source": []
  },
  {
   "cell_type": "code",
   "execution_count": null,
   "id": "706f21bc-0357-421e-a403-c57af9e70d9f",
   "metadata": {},
   "outputs": [],
   "source": []
  },
  {
   "cell_type": "markdown",
   "id": "0ee1310f-f77e-4645-9e4f-402e5a876ee9",
   "metadata": {},
   "source": [
    "#### mit lg"
   ]
  },
  {
   "cell_type": "code",
   "execution_count": 17,
   "id": "60733982",
   "metadata": {},
   "outputs": [
    {
     "name": "stdout",
     "output_type": "stream",
     "text": [
      "\u001b[38;5;2m✔ Download and installation successful\u001b[0m\n",
      "You can now load the package via spacy.load('de_core_news_lg')\n",
      "\u001b[38;5;3m⚠ Restart to reload dependencies\u001b[0m\n",
      "If you are in a Jupyter or Colab notebook, you may need to restart Python in\n",
      "order to load all the package's dependencies. You can do this by selecting the\n",
      "'Restart kernel' or 'Restart runtime' option.\n"
     ]
    }
   ],
   "source": [
    "spacy.cli.download(\"de_core_news_lg\")"
   ]
  },
  {
   "cell_type": "code",
   "execution_count": 3,
   "id": "d1342e03",
   "metadata": {},
   "outputs": [],
   "source": [
    "nlp = spacy.load(\"de_core_news_lg\", disable=[\"ner\"])"
   ]
  },
  {
   "cell_type": "code",
   "execution_count": 4,
   "id": "f49cdcf1",
   "metadata": {},
   "outputs": [],
   "source": [
    "tree = etree.parse(\"C:/Users/jO/Desktop/DH_MA_Arbeit/coding/transkribiert_ohne-unclear-_vielleichtweil.xml\")\n",
    "linegroups = tree.xpath(\"//tei:lg\", namespaces={\"tei\": \"http://www.tei-c.org/ns/1.0\"})"
   ]
  },
  {
   "cell_type": "code",
   "execution_count": 5,
   "id": "f439a5da",
   "metadata": {},
   "outputs": [
    {
     "name": "stdout",
     "output_type": "stream",
     "text": [
      "der Körper will sich ja schließen, rufst du, Verdruss und Krankheit als Göttin aus der Maschine (die Zigeunerspielkarten in der Brust, auf die Finger mit der linken Hand 3 mal geteilt Westentasche, ( oder als müssten wir erinnert werden dass wir nicht Götter sondern Menschen sind, die es nötig haben, die ihre Gedanken durch die Feder sichtbar zu machen,) die Rosalia sichtbar zu machen,) die Rosalia, bewaldet, wir essen kleine Drachen, den Mond, Asche sein, das Land ist Löwe, und viel Hitze, Pompeji ist verbrannt, nur Kälberleib, Bekröter sogar, Asche sein, jede Pfütze getrunken, (der Dürer) und Überschwemmungen, aus den aufgeschlagenen Karten, Treue, Beständigkeit, schnarrendes Maulhorn, Werktreue, rufe ich, gelesen, Säge des Laubs, Verdruss + Krankheit alles verflochten, aber es ist kein Schatz zugegen mein Gaumen krümmt sich, nämlich das Stativ deiner Beine (deiner Beine) plötzlich eingerastet, eingerastet, unter dem Kinn gelegen, unter der Zunge, verkappte Schläfe (mit Kappe) Oktoberkeule\n",
      "['der_/DET', 'Körper_/NOUN', 'will_/AUX', 'sich_/PRON', 'ja_/ADV', 'schließen_/VERB', ',_/PUNCT', 'rufst_/VERB', 'du_/PRON', ',_/PUNCT', 'Verdruss_/NOUN', 'und_/CCONJ', 'Krankheit_/NOUN', 'als_/ADP', 'Göttin_/NOUN', 'aus_/ADP', 'der_/DET', 'Maschine_/NOUN', '(_/PUNCT', 'die_/DET', 'Zigeunerspielkarten_/NOUN', 'in_/ADP', 'der_/DET', 'Brust_/NOUN', ',_/PUNCT', 'auf_/ADP', 'die_/DET', 'Finger_/NOUN', 'mit_/ADP', 'der_/DET', 'linken_/ADJ', 'Hand_/NOUN', '3_/NUM', 'mal_/ADV', 'geteilt_/VERB', 'Westentasche_/NOUN', ',_/PUNCT', '(_/PUNCT', 'oder_/CCONJ', 'als_/SCONJ', 'müssten_/AUX', 'wir_/PRON', 'erinnert_/VERB', 'werden_/AUX', 'dass_/SCONJ', 'wir_/PRON', 'nicht_/PART', 'Götter_/NOUN', 'sondern_/CCONJ', 'Menschen_/NOUN', 'sind_/AUX', ',_/PUNCT', 'die_/PRON', 'es_/PRON', 'nötig_/ADV', 'haben_/VERB', ',_/PUNCT', 'die_/PRON', 'ihre_/DET', 'Gedanken_/NOUN', 'durch_/ADP', 'die_/DET', 'Feder_/NOUN', 'sichtbar_/ADV', 'zu_/PART', 'machen_/VERB', ',_/PUNCT', ')_/PUNCT', 'die_/DET', 'Rosalia_/PROPN', 'sichtbar_/ADV', 'zu_/PART', 'machen_/VERB', ',_/PUNCT', ')_/PUNCT', 'die_/DET', 'Rosalia_/PROPN', ',_/PUNCT', 'bewaldet_/VERB', ',_/PUNCT', 'wir_/PRON', 'essen_/VERB', 'kleine_/ADJ', 'Drachen_/NOUN', ',_/PUNCT', 'den_/DET', 'Mond_/NOUN', ',_/PUNCT', 'Asche_/NOUN', 'sein_/AUX', ',_/PUNCT', 'das_/DET', 'Land_/NOUN', 'ist_/AUX', 'Löwe_/PROPN', ',_/PUNCT', 'und_/CCONJ', 'viel_/DET', 'Hitze_/NOUN', ',_/PUNCT', 'Pompeji_/PROPN', 'ist_/AUX', 'verbrannt_/VERB', ',_/PUNCT', 'nur_/ADV', 'Kälberleib_/NOUN', ',_/PUNCT', 'Bekröter_/NOUN', 'sogar_/ADV', ',_/PUNCT', 'Asche_/NOUN', 'sein_/AUX', ',_/PUNCT', 'jede_/DET', 'Pfütze_/NOUN', 'getrunken_/VERB', ',_/PUNCT', '(_/PUNCT', 'der_/DET', 'Dürer_/PROPN', ')_/PUNCT', 'und_/CCONJ', 'Überschwemmungen_/NOUN', ',_/PUNCT', 'aus_/ADP', 'den_/DET', 'aufgeschlagenen_/ADJ', 'Karten_/NOUN', ',_/PUNCT', 'Treue_/NOUN', ',_/PUNCT', 'Beständigkeit_/NOUN', ',_/PUNCT', 'schnarrendes_/ADJ', 'Maulhorn_/NOUN', ',_/PUNCT', 'Werktreue_/NOUN', ',_/PUNCT', 'rufe_/VERB', 'ich_/PRON', ',_/PUNCT', 'gelesen_/VERB', ',_/PUNCT', 'Säge_/NOUN', 'des_/DET', 'Laubs_/NOUN', ',_/PUNCT', 'Verdruss_/NOUN', '+_/CCONJ', 'Krankheit_/NOUN', 'alles_/PRON', 'verflochten_/ADV', ',_/PUNCT', 'aber_/CCONJ', 'es_/PRON', 'ist_/AUX', 'kein_/DET', 'Schatz_/NOUN', 'zugegen_/ADP', 'mein_/DET', 'Gaumen_/NOUN', 'krümmt_/VERB', 'sich_/PRON', ',_/PUNCT', 'nämlich_/ADV', 'das_/DET', 'Stativ_/NOUN', 'deiner_/DET', 'Beine_/NOUN', '(_/PUNCT', 'deiner_/DET', 'Beine_/NOUN', ')_/PUNCT', 'plötzlich_/ADV', 'eingerastet_/VERB', ',_/PUNCT', 'eingerastet_/VERB', ',_/PUNCT', 'unter_/ADP', 'dem_/DET', 'Kinn_/NOUN', 'gelegen_/VERB', ',_/PUNCT', 'unter_/ADP', 'der_/DET', 'Zunge_/NOUN', ',_/PUNCT', 'verkappte_/ADJ', 'Schläfe_/NOUN', '(_/PUNCT', 'mit_/ADP', 'Kappe_/NOUN', ')_/PUNCT', 'Oktoberkeule_/NOUN']\n",
      "der_/DET Körper_/NOUN will_/AUX sich_/PRON ja_/ADV schließen_/VERB ,_/PUNCT rufst_/VERB du_/PRON ,_/PUNCT Verdruss_/NOUN und_/CCONJ Krankheit_/NOUN als_/ADP Göttin_/NOUN aus_/ADP der_/DET Maschine_/NOUN (_/PUNCT die_/DET Zigeunerspielkarten_/NOUN in_/ADP der_/DET Brust_/NOUN ,_/PUNCT auf_/ADP die_/DET Finger_/NOUN mit_/ADP der_/DET linken_/ADJ Hand_/NOUN 3_/NUM mal_/ADV geteilt_/VERB Westentasche_/NOUN ,_/PUNCT (_/PUNCT oder_/CCONJ als_/SCONJ müssten_/AUX wir_/PRON erinnert_/VERB werden_/AUX dass_/SCONJ wir_/PRON nicht_/PART Götter_/NOUN sondern_/CCONJ Menschen_/NOUN sind_/AUX ,_/PUNCT die_/PRON es_/PRON nötig_/ADV haben_/VERB ,_/PUNCT die_/PRON ihre_/DET Gedanken_/NOUN durch_/ADP die_/DET Feder_/NOUN sichtbar_/ADV zu_/PART machen_/VERB ,_/PUNCT )_/PUNCT die_/DET Rosalia_/PROPN sichtbar_/ADV zu_/PART machen_/VERB ,_/PUNCT )_/PUNCT die_/DET Rosalia_/PROPN ,_/PUNCT bewaldet_/VERB ,_/PUNCT wir_/PRON essen_/VERB kleine_/ADJ Drachen_/NOUN ,_/PUNCT den_/DET Mond_/NOUN ,_/PUNCT Asche_/NOUN sein_/AUX ,_/PUNCT das_/DET Land_/NOUN ist_/AUX Löwe_/PROPN ,_/PUNCT und_/CCONJ viel_/DET Hitze_/NOUN ,_/PUNCT Pompeji_/PROPN ist_/AUX verbrannt_/VERB ,_/PUNCT nur_/ADV Kälberleib_/NOUN ,_/PUNCT Bekröter_/NOUN sogar_/ADV ,_/PUNCT Asche_/NOUN sein_/AUX ,_/PUNCT jede_/DET Pfütze_/NOUN getrunken_/VERB ,_/PUNCT (_/PUNCT der_/DET Dürer_/PROPN )_/PUNCT und_/CCONJ Überschwemmungen_/NOUN ,_/PUNCT aus_/ADP den_/DET aufgeschlagenen_/ADJ Karten_/NOUN ,_/PUNCT Treue_/NOUN ,_/PUNCT Beständigkeit_/NOUN ,_/PUNCT schnarrendes_/ADJ Maulhorn_/NOUN ,_/PUNCT Werktreue_/NOUN ,_/PUNCT rufe_/VERB ich_/PRON ,_/PUNCT gelesen_/VERB ,_/PUNCT Säge_/NOUN des_/DET Laubs_/NOUN ,_/PUNCT Verdruss_/NOUN +_/CCONJ Krankheit_/NOUN alles_/PRON verflochten_/ADV ,_/PUNCT aber_/CCONJ es_/PRON ist_/AUX kein_/DET Schatz_/NOUN zugegen_/ADP mein_/DET Gaumen_/NOUN krümmt_/VERB sich_/PRON ,_/PUNCT nämlich_/ADV das_/DET Stativ_/NOUN deiner_/DET Beine_/NOUN (_/PUNCT deiner_/DET Beine_/NOUN )_/PUNCT plötzlich_/ADV eingerastet_/VERB ,_/PUNCT eingerastet_/VERB ,_/PUNCT unter_/ADP dem_/DET Kinn_/NOUN gelegen_/VERB ,_/PUNCT unter_/ADP der_/DET Zunge_/NOUN ,_/PUNCT verkappte_/ADJ Schläfe_/NOUN (_/PUNCT mit_/ADP Kappe_/NOUN )_/PUNCT Oktoberkeule_/NOUN\n",
      "Werktreue! der Körper will sich ja schließen rufst du, Verdruss und Krankheit, die Witwe, als Göttin aus der Maschine, die Zigeunerspielkarten aus in der Brusttasche, dreimal geteilt, mit der Linken linken Hand, die Rosalia sichtbar zu machen, bewaldet, wir essen kleine Drachen, den Mond, das Land ist Löwe, viel Hitze, Pompeji, (ist verbrannt), nur Kälberleib, Bekröter sogar, von jeder jede Pfütze getrunken, ( der Dürer ) (und Überschwemmungen), aus den aufgeschlagenen Karten Beständigkeit, Treue, gelesen, schnarrendes Maulhorn, Werktreue, !, rufe ich, Krankheit Verdruss, alles verflochten, aber es ist kein Schatz zugegen, mein Gaumen krümmt sich, das Stativ deiner seiner Beine eingerastet, verkappte Schläfe, mit Kappe, Oktoberkeule - das Stativ deiner Beine eingerastet\n",
      "['Werktreue_/NOUN', '!_/PUNCT', 'der_/DET', 'Körper_/NOUN', 'will_/AUX', 'sich_/PRON', 'ja_/ADV', 'schließen_/VERB', 'rufst_/VERB', 'du_/PRON', ',_/PUNCT', 'Verdruss_/NOUN', 'und_/CCONJ', 'Krankheit_/NOUN', ',_/PUNCT', 'die_/DET', 'Witwe_/NOUN', ',_/PUNCT', 'als_/ADP', 'Göttin_/NOUN', 'aus_/ADP', 'der_/DET', 'Maschine_/NOUN', ',_/PUNCT', 'die_/DET', 'Zigeunerspielkarten_/NOUN', 'aus_/ADP', 'in_/ADP', 'der_/DET', 'Brusttasche_/NOUN', ',_/PUNCT', 'dreimal_/ADV', 'geteilt_/VERB', ',_/PUNCT', 'mit_/ADP', 'der_/DET', 'Linken_/NOUN', 'linken_/ADJ', 'Hand_/NOUN', ',_/PUNCT', 'die_/DET', 'Rosalia_/PROPN', 'sichtbar_/ADV', 'zu_/PART', 'machen_/VERB', ',_/PUNCT', 'bewaldet_/VERB', ',_/PUNCT', 'wir_/PRON', 'essen_/VERB', 'kleine_/ADJ', 'Drachen_/NOUN', ',_/PUNCT', 'den_/DET', 'Mond_/NOUN', ',_/PUNCT', 'das_/DET', 'Land_/NOUN', 'ist_/AUX', 'Löwe_/PROPN', ',_/PUNCT', 'viel_/DET', 'Hitze_/NOUN', ',_/PUNCT', 'Pompeji_/PROPN', ',_/PUNCT', '(_/PUNCT', 'ist_/AUX', 'verbrannt_/VERB', ')_/PUNCT', ',_/PUNCT', 'nur_/ADV', 'Kälberleib_/NOUN', ',_/PUNCT', 'Bekröter_/NOUN', 'sogar_/ADV', ',_/PUNCT', 'von_/ADP', 'jeder_/DET', 'jede_/DET', 'Pfütze_/NOUN', 'getrunken_/VERB', ',_/PUNCT', '(_/PUNCT', 'der_/DET', 'Dürer_/PROPN', ')_/PUNCT', '(_/PUNCT', 'und_/CCONJ', 'Überschwemmungen_/NOUN', ')_/PUNCT', ',_/PUNCT', 'aus_/ADP', 'den_/DET', 'aufgeschlagenen_/ADJ', 'Karten_/NOUN', 'Beständigkeit_/NOUN', ',_/PUNCT', 'Treue_/NOUN', ',_/PUNCT', 'gelesen_/VERB', ',_/PUNCT', 'schnarrendes_/ADJ', 'Maulhorn_/NOUN', ',_/PUNCT', 'Werktreue_/NOUN', ',_/PUNCT', '!_/PUNCT', ',_/PUNCT', 'rufe_/VERB', 'ich_/PRON', ',_/PUNCT', 'Krankheit_/NOUN', 'Verdruss_/NOUN', ',_/PUNCT', 'alles_/PRON', 'verflochten_/ADV', ',_/PUNCT', 'aber_/CCONJ', 'es_/PRON', 'ist_/AUX', 'kein_/DET', 'Schatz_/NOUN', 'zugegen_/ADV', ',_/PUNCT', 'mein_/DET', 'Gaumen_/NOUN', 'krümmt_/VERB', 'sich_/PRON', ',_/PUNCT', 'das_/DET', 'Stativ_/NOUN', 'deiner_/DET', 'seiner_/DET', 'Beine_/NOUN', 'eingerastet_/VERB', ',_/PUNCT', 'verkappte_/ADJ', 'Schläfe_/NOUN', ',_/PUNCT', 'mit_/ADP', 'Kappe_/NOUN', ',_/PUNCT', 'Oktoberkeule_/PROPN', '-_/PUNCT', 'das_/DET', 'Stativ_/NOUN', 'deiner_/DET', 'Beine_/NOUN', 'eingerastet_/VERB']\n",
      "Werktreue_/NOUN !_/PUNCT der_/DET Körper_/NOUN will_/AUX sich_/PRON ja_/ADV schließen_/VERB rufst_/VERB du_/PRON ,_/PUNCT Verdruss_/NOUN und_/CCONJ Krankheit_/NOUN ,_/PUNCT die_/DET Witwe_/NOUN ,_/PUNCT als_/ADP Göttin_/NOUN aus_/ADP der_/DET Maschine_/NOUN ,_/PUNCT die_/DET Zigeunerspielkarten_/NOUN aus_/ADP in_/ADP der_/DET Brusttasche_/NOUN ,_/PUNCT dreimal_/ADV geteilt_/VERB ,_/PUNCT mit_/ADP der_/DET Linken_/NOUN linken_/ADJ Hand_/NOUN ,_/PUNCT die_/DET Rosalia_/PROPN sichtbar_/ADV zu_/PART machen_/VERB ,_/PUNCT bewaldet_/VERB ,_/PUNCT wir_/PRON essen_/VERB kleine_/ADJ Drachen_/NOUN ,_/PUNCT den_/DET Mond_/NOUN ,_/PUNCT das_/DET Land_/NOUN ist_/AUX Löwe_/PROPN ,_/PUNCT viel_/DET Hitze_/NOUN ,_/PUNCT Pompeji_/PROPN ,_/PUNCT (_/PUNCT ist_/AUX verbrannt_/VERB )_/PUNCT ,_/PUNCT nur_/ADV Kälberleib_/NOUN ,_/PUNCT Bekröter_/NOUN sogar_/ADV ,_/PUNCT von_/ADP jeder_/DET jede_/DET Pfütze_/NOUN getrunken_/VERB ,_/PUNCT (_/PUNCT der_/DET Dürer_/PROPN )_/PUNCT (_/PUNCT und_/CCONJ Überschwemmungen_/NOUN )_/PUNCT ,_/PUNCT aus_/ADP den_/DET aufgeschlagenen_/ADJ Karten_/NOUN Beständigkeit_/NOUN ,_/PUNCT Treue_/NOUN ,_/PUNCT gelesen_/VERB ,_/PUNCT schnarrendes_/ADJ Maulhorn_/NOUN ,_/PUNCT Werktreue_/NOUN ,_/PUNCT !_/PUNCT ,_/PUNCT rufe_/VERB ich_/PRON ,_/PUNCT Krankheit_/NOUN Verdruss_/NOUN ,_/PUNCT alles_/PRON verflochten_/ADV ,_/PUNCT aber_/CCONJ es_/PRON ist_/AUX kein_/DET Schatz_/NOUN zugegen_/ADV ,_/PUNCT mein_/DET Gaumen_/NOUN krümmt_/VERB sich_/PRON ,_/PUNCT das_/DET Stativ_/NOUN deiner_/DET seiner_/DET Beine_/NOUN eingerastet_/VERB ,_/PUNCT verkappte_/ADJ Schläfe_/NOUN ,_/PUNCT mit_/ADP Kappe_/NOUN ,_/PUNCT Oktoberkeule_/PROPN -_/PUNCT das_/DET Stativ_/NOUN deiner_/DET Beine_/NOUN eingerastet_/VERB\n",
      "weil das Auge zuerst bricht der Körper will sich ja schließen, Verdruss und Krankheit, die Witwe, Göttin aus der Maschine, die Zigeunerspielkarten Zigeunerkarten plötzlich aus der Brusttasche Tasche gezogen, dreimal abheben abgehoben, linkshändig, die Rosalia sichtbar zu machen, rufst du, bewaldet, wir essen kleine Drachen, den Mond, das Land ist Löwe, viel Hitze, Pompeji, nur Kälberleib, Bekröter sogar, Wahrträume, wie mit vielen Augen von jeder Pfütze getrunken, (der Dürer!) und Überschwemmungen Werktreue? rufe ich aus den aufgeschlagenen Karten Beständigkeit, Treue, gelesen Treue, Beständigkeit, aus den Karten gelesen, schnarrendes Maulhorn, Werktreue rufe ich, Krankheit, Verdruss alles verflochten, aber es ist kein Schatz zugegen, mein Gaumen krümmt sich, die Vögel picken zuerst die menschlichen Augen aus eingerastet ist das längst Stativ deiner Beine, verkappte Schläfe, Asche sein unter dem Kinn unter der Zunge mit Kappe, Oktoberschatten Oktoberkeule, und -schatten - wo die Schatten einander entgegen sind\n",
      "['weil_/SCONJ', 'das_/DET', 'Auge_/NOUN', 'zuerst_/ADV', 'bricht_/VERB', 'der_/DET', 'Körper_/NOUN', 'will_/AUX', 'sich_/PRON', 'ja_/ADV', 'schließen_/VERB', ',_/PUNCT', 'Verdruss_/NOUN', 'und_/CCONJ', 'Krankheit_/NOUN', ',_/PUNCT', 'die_/DET', 'Witwe_/NOUN', ',_/PUNCT', 'Göttin_/NOUN', 'aus_/ADP', 'der_/DET', 'Maschine_/NOUN', ',_/PUNCT', 'die_/DET', 'Zigeunerspielkarten_/NOUN', 'Zigeunerkarten_/NOUN', 'plötzlich_/ADV', 'aus_/ADP', 'der_/DET', 'Brusttasche_/NOUN', 'Tasche_/NOUN', 'gezogen_/VERB', ',_/PUNCT', 'dreimal_/ADV', 'abheben_/VERB', 'abgehoben_/VERB', ',_/PUNCT', 'linkshändig_/ADV', ',_/PUNCT', 'die_/DET', 'Rosalia_/PROPN', 'sichtbar_/ADV', 'zu_/PART', 'machen_/VERB', ',_/PUNCT', 'rufst_/VERB', 'du_/PRON', ',_/PUNCT', 'bewaldet_/VERB', ',_/PUNCT', 'wir_/PRON', 'essen_/VERB', 'kleine_/ADJ', 'Drachen_/NOUN', ',_/PUNCT', 'den_/DET', 'Mond_/NOUN', ',_/PUNCT', 'das_/DET', 'Land_/NOUN', 'ist_/AUX', 'Löwe_/PROPN', ',_/PUNCT', 'viel_/DET', 'Hitze_/NOUN', ',_/PUNCT', 'Pompeji_/PROPN', ',_/PUNCT', 'nur_/ADV', 'Kälberleib_/NOUN', ',_/PUNCT', 'Bekröter_/NOUN', 'sogar_/ADV', ',_/PUNCT', 'Wahrträume_/NOUN', ',_/PUNCT', 'wie_/ADP', 'mit_/ADP', 'vielen_/DET', 'Augen_/NOUN', 'von_/ADP', 'jeder_/DET', 'Pfütze_/NOUN', 'getrunken_/VERB', ',_/PUNCT', '(_/PUNCT', 'der_/DET', 'Dürer_/PROPN', '!_/PUNCT', ')_/PUNCT', 'und_/CCONJ', 'Überschwemmungen_/NOUN', 'Werktreue_/NOUN', '?_/PUNCT', 'rufe_/VERB', 'ich_/PRON', 'aus_/ADP', 'den_/DET', 'aufgeschlagenen_/ADJ', 'Karten_/NOUN', 'Beständigkeit_/NOUN', ',_/PUNCT', 'Treue_/NOUN', ',_/PUNCT', 'gelesen_/VERB', 'Treue_/NOUN', ',_/PUNCT', 'Beständigkeit_/NOUN', ',_/PUNCT', 'aus_/ADP', 'den_/DET', 'Karten_/NOUN', 'gelesen_/VERB', ',_/PUNCT', 'schnarrendes_/ADJ', 'Maulhorn_/NOUN', ',_/PUNCT', 'Werktreue_/NOUN', 'rufe_/VERB', 'ich_/PRON', ',_/PUNCT', 'Krankheit_/NOUN', ',_/PUNCT', 'Verdruss_/VERB', 'alles_/PRON', 'verflochten_/ADV', ',_/PUNCT', 'aber_/CCONJ', 'es_/PRON', 'ist_/AUX', 'kein_/DET', 'Schatz_/NOUN', 'zugegen_/ADV', ',_/PUNCT', 'mein_/DET', 'Gaumen_/NOUN', 'krümmt_/VERB', 'sich_/PRON', ',_/PUNCT', 'die_/DET', 'Vögel_/NOUN', 'picken_/VERB', 'zuerst_/ADV', 'die_/DET', 'menschlichen_/ADJ', 'Augen_/NOUN', 'aus_/ADP', 'eingerastet_/VERB', 'ist_/AUX', 'das_/PRON', 'längst_/ADV', 'Stativ_/NOUN', 'deiner_/DET', 'Beine_/NOUN', ',_/PUNCT', 'verkappte_/ADJ', 'Schläfe_/NOUN', ',_/PUNCT', 'Asche_/NOUN', 'sein_/AUX', 'unter_/ADP', 'dem_/DET', 'Kinn_/NOUN', 'unter_/ADP', 'der_/DET', 'Zunge_/NOUN', 'mit_/ADP', 'Kappe_/NOUN', ',_/PUNCT', 'Oktoberschatten_/NOUN', 'Oktoberkeule_/NOUN', ',_/PUNCT', 'und_/CCONJ', '-schatten_/NOUN', '-_/PUNCT', 'wo_/SCONJ', 'die_/DET', 'Schatten_/NOUN', 'einander_/PRON', 'entgegen_/ADP', 'sind_/AUX']\n",
      "weil_/SCONJ das_/DET Auge_/NOUN zuerst_/ADV bricht_/VERB der_/DET Körper_/NOUN will_/AUX sich_/PRON ja_/ADV schließen_/VERB ,_/PUNCT Verdruss_/NOUN und_/CCONJ Krankheit_/NOUN ,_/PUNCT die_/DET Witwe_/NOUN ,_/PUNCT Göttin_/NOUN aus_/ADP der_/DET Maschine_/NOUN ,_/PUNCT die_/DET Zigeunerspielkarten_/NOUN Zigeunerkarten_/NOUN plötzlich_/ADV aus_/ADP der_/DET Brusttasche_/NOUN Tasche_/NOUN gezogen_/VERB ,_/PUNCT dreimal_/ADV abheben_/VERB abgehoben_/VERB ,_/PUNCT linkshändig_/ADV ,_/PUNCT die_/DET Rosalia_/PROPN sichtbar_/ADV zu_/PART machen_/VERB ,_/PUNCT rufst_/VERB du_/PRON ,_/PUNCT bewaldet_/VERB ,_/PUNCT wir_/PRON essen_/VERB kleine_/ADJ Drachen_/NOUN ,_/PUNCT den_/DET Mond_/NOUN ,_/PUNCT das_/DET Land_/NOUN ist_/AUX Löwe_/PROPN ,_/PUNCT viel_/DET Hitze_/NOUN ,_/PUNCT Pompeji_/PROPN ,_/PUNCT nur_/ADV Kälberleib_/NOUN ,_/PUNCT Bekröter_/NOUN sogar_/ADV ,_/PUNCT Wahrträume_/NOUN ,_/PUNCT wie_/ADP mit_/ADP vielen_/DET Augen_/NOUN von_/ADP jeder_/DET Pfütze_/NOUN getrunken_/VERB ,_/PUNCT (_/PUNCT der_/DET Dürer_/PROPN !_/PUNCT )_/PUNCT und_/CCONJ Überschwemmungen_/NOUN Werktreue_/NOUN ?_/PUNCT rufe_/VERB ich_/PRON aus_/ADP den_/DET aufgeschlagenen_/ADJ Karten_/NOUN Beständigkeit_/NOUN ,_/PUNCT Treue_/NOUN ,_/PUNCT gelesen_/VERB Treue_/NOUN ,_/PUNCT Beständigkeit_/NOUN ,_/PUNCT aus_/ADP den_/DET Karten_/NOUN gelesen_/VERB ,_/PUNCT schnarrendes_/ADJ Maulhorn_/NOUN ,_/PUNCT Werktreue_/NOUN rufe_/VERB ich_/PRON ,_/PUNCT Krankheit_/NOUN ,_/PUNCT Verdruss_/VERB alles_/PRON verflochten_/ADV ,_/PUNCT aber_/CCONJ es_/PRON ist_/AUX kein_/DET Schatz_/NOUN zugegen_/ADV ,_/PUNCT mein_/DET Gaumen_/NOUN krümmt_/VERB sich_/PRON ,_/PUNCT die_/DET Vögel_/NOUN picken_/VERB zuerst_/ADV die_/DET menschlichen_/ADJ Augen_/NOUN aus_/ADP eingerastet_/VERB ist_/AUX das_/PRON längst_/ADV Stativ_/NOUN deiner_/DET Beine_/NOUN ,_/PUNCT verkappte_/ADJ Schläfe_/NOUN ,_/PUNCT Asche_/NOUN sein_/AUX unter_/ADP dem_/DET Kinn_/NOUN unter_/ADP der_/DET Zunge_/NOUN mit_/ADP Kappe_/NOUN ,_/PUNCT Oktoberschatten_/NOUN Oktoberkeule_/NOUN ,_/PUNCT und_/CCONJ -schatten_/NOUN -_/PUNCT wo_/SCONJ die_/DET Schatten_/NOUN einander_/PRON entgegen_/ADP sind_/AUX\n",
      "weil das Auge zuerst bricht der Körper will sich ja schließen, rufst du, Verdruss und Krankheit, die Witwe, Göttin aus der Maschine, die grünen Spielkarten plötzlich aus der Tasche gezogen, gemischt, dreimal abheben! linkshändig! die Rosalia sichtbar zu machen! bewaldet! wir essen bewaldet! wir essen kleine Drachen, den Mond, das Land ist Löwe, viel Hitze, Pompeji, Kälberleib. Bekröter sogar, Wahrträume wie mit vielen Augen von jeder Pfütze getrunken, die Vögel picken zuerst das menschliche Auge aus, alles verflochten Werktreue? rufe ich, Krankheit Verdruss, mein Gaumen krümmt sich, Beständigkeit, Treue aus den Karten gelesen Krankheit, Verdruss alles verflochten, aber es ist kein Schatz zugegen, Beständigkeit Treue, aus den Karten gelesen, Werktreue? rufe ich, aber es ist kein Schatz zugegen, Asche sein, Stativ deiner Beine, alles verflochten, das Stativ deiner Beine / unter dem Kinn unter der Zunge, schnarrendes Maulhorn, Schläfe mit Kappe, verkappte Schläfe Oktoberkeule Oktober keule, und -schatten / wo die unsere Schatten einander entgegen sind\n",
      "['weil_/SCONJ', 'das_/DET', 'Auge_/NOUN', 'zuerst_/ADV', 'bricht_/VERB', 'der_/DET', 'Körper_/NOUN', 'will_/AUX', 'sich_/PRON', 'ja_/ADV', 'schließen_/VERB', ',_/PUNCT', 'rufst_/VERB', 'du_/PRON', ',_/PUNCT', 'Verdruss_/NOUN', 'und_/CCONJ', 'Krankheit_/NOUN', ',_/PUNCT', 'die_/DET', 'Witwe_/NOUN', ',_/PUNCT', 'Göttin_/NOUN', 'aus_/ADP', 'der_/DET', 'Maschine_/NOUN', ',_/PUNCT', 'die_/DET', 'grünen_/ADJ', 'Spielkarten_/NOUN', 'plötzlich_/ADV', 'aus_/ADP', 'der_/DET', 'Tasche_/NOUN', 'gezogen_/VERB', ',_/PUNCT', 'gemischt_/VERB', ',_/PUNCT', 'dreimal_/ADV', 'abheben_/VERB', '!_/PUNCT', 'linkshändig_/ADV', '!_/PUNCT', 'die_/DET', 'Rosalia_/PROPN', 'sichtbar_/ADV', 'zu_/PART', 'machen_/VERB', '!_/PUNCT', 'bewaldet_/VERB', '!_/PUNCT', 'wir_/PRON', 'essen_/VERB', 'bewaldet_/VERB', '!_/PUNCT', 'wir_/PRON', 'essen_/VERB', 'kleine_/ADJ', 'Drachen_/NOUN', ',_/PUNCT', 'den_/DET', 'Mond_/NOUN', ',_/PUNCT', 'das_/DET', 'Land_/NOUN', 'ist_/AUX', 'Löwe_/PROPN', ',_/PUNCT', 'viel_/DET', 'Hitze_/NOUN', ',_/PUNCT', 'Pompeji_/PROPN', ',_/PUNCT', 'Kälberleib_/NOUN', '._/PUNCT', 'Bekröter_/NOUN', 'sogar_/ADV', ',_/PUNCT', 'Wahrträume_/NOUN', 'wie_/ADP', 'mit_/ADP', 'vielen_/DET', 'Augen_/NOUN', 'von_/ADP', 'jeder_/DET', 'Pfütze_/NOUN', 'getrunken_/VERB', ',_/PUNCT', 'die_/DET', 'Vögel_/NOUN', 'picken_/VERB', 'zuerst_/ADV', 'das_/DET', 'menschliche_/ADJ', 'Auge_/NOUN', 'aus_/ADP', ',_/PUNCT', 'alles_/PRON', 'verflochten_/ADV', 'Werktreue_/NOUN', '?_/PUNCT', 'rufe_/VERB', 'ich_/PRON', ',_/PUNCT', 'Krankheit_/NOUN', 'Verdruss_/NOUN', ',_/PUNCT', 'mein_/DET', 'Gaumen_/NOUN', 'krümmt_/VERB', 'sich_/PRON', ',_/PUNCT', 'Beständigkeit_/NOUN', ',_/PUNCT', 'Treue_/NOUN', 'aus_/ADP', 'den_/DET', 'Karten_/NOUN', 'gelesen_/VERB', 'Krankheit_/NOUN', ',_/PUNCT', 'Verdruss_/NOUN', 'alles_/PRON', 'verflochten_/ADV', ',_/PUNCT', 'aber_/CCONJ', 'es_/PRON', 'ist_/AUX', 'kein_/DET', 'Schatz_/NOUN', 'zugegen_/ADV', ',_/PUNCT', 'Beständigkeit_/NOUN', 'Treue_/NOUN', ',_/PUNCT', 'aus_/ADP', 'den_/DET', 'Karten_/NOUN', 'gelesen_/VERB', ',_/PUNCT', 'Werktreue_/NOUN', '?_/PUNCT', 'rufe_/VERB', 'ich_/PRON', ',_/PUNCT', 'aber_/CCONJ', 'es_/PRON', 'ist_/AUX', 'kein_/DET', 'Schatz_/NOUN', 'zugegen_/ADV', ',_/PUNCT', 'Asche_/NOUN', 'sein_/AUX', ',_/PUNCT', 'Stativ_/NOUN', 'deiner_/DET', 'Beine_/NOUN', ',_/PUNCT', 'alles_/PRON', 'verflochten_/ADV', ',_/PUNCT', 'das_/DET', 'Stativ_/NOUN', 'deiner_/DET', 'Beine_/NOUN', '/_/PUNCT', 'unter_/ADP', 'dem_/DET', 'Kinn_/NOUN', 'unter_/ADP', 'der_/DET', 'Zunge_/NOUN', ',_/PUNCT', 'schnarrendes_/ADJ', 'Maulhorn_/NOUN', ',_/PUNCT', 'Schläfe_/NOUN', 'mit_/ADP', 'Kappe_/NOUN', ',_/PUNCT', 'verkappte_/ADJ', 'Schläfe_/NOUN', 'Oktoberkeule_/NOUN', 'Oktober_/NOUN', 'keule_/NOUN', ',_/PUNCT', 'und_/CCONJ', '-schatten_/NOUN', '/_/PUNCT', 'wo_/SCONJ', 'die_/DET', 'unsere_/DET', 'Schatten_/NOUN', 'einander_/PRON', 'entgegen_/ADP', 'sind_/AUX']\n",
      "weil_/SCONJ das_/DET Auge_/NOUN zuerst_/ADV bricht_/VERB der_/DET Körper_/NOUN will_/AUX sich_/PRON ja_/ADV schließen_/VERB ,_/PUNCT rufst_/VERB du_/PRON ,_/PUNCT Verdruss_/NOUN und_/CCONJ Krankheit_/NOUN ,_/PUNCT die_/DET Witwe_/NOUN ,_/PUNCT Göttin_/NOUN aus_/ADP der_/DET Maschine_/NOUN ,_/PUNCT die_/DET grünen_/ADJ Spielkarten_/NOUN plötzlich_/ADV aus_/ADP der_/DET Tasche_/NOUN gezogen_/VERB ,_/PUNCT gemischt_/VERB ,_/PUNCT dreimal_/ADV abheben_/VERB !_/PUNCT linkshändig_/ADV !_/PUNCT die_/DET Rosalia_/PROPN sichtbar_/ADV zu_/PART machen_/VERB !_/PUNCT bewaldet_/VERB !_/PUNCT wir_/PRON essen_/VERB bewaldet_/VERB !_/PUNCT wir_/PRON essen_/VERB kleine_/ADJ Drachen_/NOUN ,_/PUNCT den_/DET Mond_/NOUN ,_/PUNCT das_/DET Land_/NOUN ist_/AUX Löwe_/PROPN ,_/PUNCT viel_/DET Hitze_/NOUN ,_/PUNCT Pompeji_/PROPN ,_/PUNCT Kälberleib_/NOUN ._/PUNCT Bekröter_/NOUN sogar_/ADV ,_/PUNCT Wahrträume_/NOUN wie_/ADP mit_/ADP vielen_/DET Augen_/NOUN von_/ADP jeder_/DET Pfütze_/NOUN getrunken_/VERB ,_/PUNCT die_/DET Vögel_/NOUN picken_/VERB zuerst_/ADV das_/DET menschliche_/ADJ Auge_/NOUN aus_/ADP ,_/PUNCT alles_/PRON verflochten_/ADV Werktreue_/NOUN ?_/PUNCT rufe_/VERB ich_/PRON ,_/PUNCT Krankheit_/NOUN Verdruss_/NOUN ,_/PUNCT mein_/DET Gaumen_/NOUN krümmt_/VERB sich_/PRON ,_/PUNCT Beständigkeit_/NOUN ,_/PUNCT Treue_/NOUN aus_/ADP den_/DET Karten_/NOUN gelesen_/VERB Krankheit_/NOUN ,_/PUNCT Verdruss_/NOUN alles_/PRON verflochten_/ADV ,_/PUNCT aber_/CCONJ es_/PRON ist_/AUX kein_/DET Schatz_/NOUN zugegen_/ADV ,_/PUNCT Beständigkeit_/NOUN Treue_/NOUN ,_/PUNCT aus_/ADP den_/DET Karten_/NOUN gelesen_/VERB ,_/PUNCT Werktreue_/NOUN ?_/PUNCT rufe_/VERB ich_/PRON ,_/PUNCT aber_/CCONJ es_/PRON ist_/AUX kein_/DET Schatz_/NOUN zugegen_/ADV ,_/PUNCT Asche_/NOUN sein_/AUX ,_/PUNCT Stativ_/NOUN deiner_/DET Beine_/NOUN ,_/PUNCT alles_/PRON verflochten_/ADV ,_/PUNCT das_/DET Stativ_/NOUN deiner_/DET Beine_/NOUN /_/PUNCT unter_/ADP dem_/DET Kinn_/NOUN unter_/ADP der_/DET Zunge_/NOUN ,_/PUNCT schnarrendes_/ADJ Maulhorn_/NOUN ,_/PUNCT Schläfe_/NOUN mit_/ADP Kappe_/NOUN ,_/PUNCT verkappte_/ADJ Schläfe_/NOUN Oktoberkeule_/NOUN Oktober_/NOUN keule_/NOUN ,_/PUNCT und_/CCONJ -schatten_/NOUN /_/PUNCT wo_/SCONJ die_/DET unsere_/DET Schatten_/NOUN einander_/PRON entgegen_/ADP sind_/AUX\n",
      "weil das Auge zuerst bricht der Körper will sich ja schließen, rufst du, Verdruss und Krankheit, die Witwe, Göttin aus der Maschine, die grünen Spielkarten plötzlich aus der Tasche gezogen, gemischt, dreimal abheben! linkshändig! die Rosalia sichtbar machen!, bewaldet / wir essen kleine Drachen, den Mond, das Land ist Löwe, viel Hitze, Pompeji, ein Kälberleib, Bekröter sogar, Wahrträume wie mit vielen Augen von jeder Pfütze getrunken, die Vögel picken zuerst das menschliche Auge aus, mein Gaumen sich alles verflochten, Krankheit, Verdruss aber es ist kein Schatz zugegen, Beständigkeit, Treue aus den Karten gelesen, Werktreue? rufe ich, unter der Zunge, unter dem Kinn, ein Stativ deiner Beine, Schläfe mit Kappe, Oktoberkeule, und schnarrendes Maulhorn, wo unsere Schatten einander entgegen sind\n",
      "['weil_/SCONJ', 'das_/DET', 'Auge_/NOUN', 'zuerst_/ADV', 'bricht_/VERB', 'der_/DET', 'Körper_/NOUN', 'will_/AUX', 'sich_/PRON', 'ja_/ADV', 'schließen_/VERB', ',_/PUNCT', 'rufst_/VERB', 'du_/PRON', ',_/PUNCT', 'Verdruss_/NOUN', 'und_/CCONJ', 'Krankheit_/NOUN', ',_/PUNCT', 'die_/DET', 'Witwe_/NOUN', ',_/PUNCT', 'Göttin_/NOUN', 'aus_/ADP', 'der_/DET', 'Maschine_/NOUN', ',_/PUNCT', 'die_/DET', 'grünen_/ADJ', 'Spielkarten_/NOUN', 'plötzlich_/ADV', 'aus_/ADP', 'der_/DET', 'Tasche_/NOUN', 'gezogen_/VERB', ',_/PUNCT', 'gemischt_/VERB', ',_/PUNCT', 'dreimal_/ADV', 'abheben_/VERB', '!_/PUNCT', 'linkshändig_/ADV', '!_/PUNCT', 'die_/DET', 'Rosalia_/PROPN', 'sichtbar_/ADV', 'machen_/VERB', '!_/PUNCT', ',_/PUNCT', 'bewaldet_/VERB', '/_/PUNCT', 'wir_/PRON', 'essen_/VERB', 'kleine_/ADJ', 'Drachen_/NOUN', ',_/PUNCT', 'den_/DET', 'Mond_/NOUN', ',_/PUNCT', 'das_/DET', 'Land_/NOUN', 'ist_/AUX', 'Löwe_/PROPN', ',_/PUNCT', 'viel_/DET', 'Hitze_/NOUN', ',_/PUNCT', 'Pompeji_/PROPN', ',_/PUNCT', 'ein_/DET', 'Kälberleib_/NOUN', ',_/PUNCT', 'Bekröter_/NOUN', 'sogar_/ADV', ',_/PUNCT', 'Wahrträume_/NOUN', 'wie_/ADP', 'mit_/ADP', 'vielen_/DET', 'Augen_/NOUN', 'von_/ADP', 'jeder_/DET', 'Pfütze_/NOUN', 'getrunken_/VERB', ',_/PUNCT', 'die_/DET', 'Vögel_/NOUN', 'picken_/VERB', 'zuerst_/ADV', 'das_/DET', 'menschliche_/ADJ', 'Auge_/NOUN', 'aus_/ADP', ',_/PUNCT', 'mein_/DET', 'Gaumen_/NOUN', 'sich_/PRON', 'alles_/PRON', 'verflochten_/ADV', ',_/PUNCT', 'Krankheit_/NOUN', ',_/PUNCT', 'Verdruss_/NOUN', 'aber_/ADV', 'es_/PRON', 'ist_/AUX', 'kein_/DET', 'Schatz_/NOUN', 'zugegen_/ADV', ',_/PUNCT', 'Beständigkeit_/NOUN', ',_/PUNCT', 'Treue_/NOUN', 'aus_/ADP', 'den_/DET', 'Karten_/NOUN', 'gelesen_/VERB', ',_/PUNCT', 'Werktreue_/NOUN', '?_/PUNCT', 'rufe_/VERB', 'ich_/PRON', ',_/PUNCT', 'unter_/ADP', 'der_/DET', 'Zunge_/NOUN', ',_/PUNCT', 'unter_/ADP', 'dem_/DET', 'Kinn_/NOUN', ',_/PUNCT', 'ein_/DET', 'Stativ_/NOUN', 'deiner_/DET', 'Beine_/NOUN', ',_/PUNCT', 'Schläfe_/NOUN', 'mit_/ADP', 'Kappe_/NOUN', ',_/PUNCT', 'Oktoberkeule_/PROPN', ',_/PUNCT', 'und_/CCONJ', 'schnarrendes_/ADJ', 'Maulhorn_/NOUN', ',_/PUNCT', 'wo_/SCONJ', 'unsere_/DET', 'Schatten_/NOUN', 'einander_/PRON', 'entgegen_/ADP', 'sind_/AUX']\n",
      "weil_/SCONJ das_/DET Auge_/NOUN zuerst_/ADV bricht_/VERB der_/DET Körper_/NOUN will_/AUX sich_/PRON ja_/ADV schließen_/VERB ,_/PUNCT rufst_/VERB du_/PRON ,_/PUNCT Verdruss_/NOUN und_/CCONJ Krankheit_/NOUN ,_/PUNCT die_/DET Witwe_/NOUN ,_/PUNCT Göttin_/NOUN aus_/ADP der_/DET Maschine_/NOUN ,_/PUNCT die_/DET grünen_/ADJ Spielkarten_/NOUN plötzlich_/ADV aus_/ADP der_/DET Tasche_/NOUN gezogen_/VERB ,_/PUNCT gemischt_/VERB ,_/PUNCT dreimal_/ADV abheben_/VERB !_/PUNCT linkshändig_/ADV !_/PUNCT die_/DET Rosalia_/PROPN sichtbar_/ADV machen_/VERB !_/PUNCT ,_/PUNCT bewaldet_/VERB /_/PUNCT wir_/PRON essen_/VERB kleine_/ADJ Drachen_/NOUN ,_/PUNCT den_/DET Mond_/NOUN ,_/PUNCT das_/DET Land_/NOUN ist_/AUX Löwe_/PROPN ,_/PUNCT viel_/DET Hitze_/NOUN ,_/PUNCT Pompeji_/PROPN ,_/PUNCT ein_/DET Kälberleib_/NOUN ,_/PUNCT Bekröter_/NOUN sogar_/ADV ,_/PUNCT Wahrträume_/NOUN wie_/ADP mit_/ADP vielen_/DET Augen_/NOUN von_/ADP jeder_/DET Pfütze_/NOUN getrunken_/VERB ,_/PUNCT die_/DET Vögel_/NOUN picken_/VERB zuerst_/ADV das_/DET menschliche_/ADJ Auge_/NOUN aus_/ADP ,_/PUNCT mein_/DET Gaumen_/NOUN sich_/PRON alles_/PRON verflochten_/ADV ,_/PUNCT Krankheit_/NOUN ,_/PUNCT Verdruss_/NOUN aber_/ADV es_/PRON ist_/AUX kein_/DET Schatz_/NOUN zugegen_/ADV ,_/PUNCT Beständigkeit_/NOUN ,_/PUNCT Treue_/NOUN aus_/ADP den_/DET Karten_/NOUN gelesen_/VERB ,_/PUNCT Werktreue_/NOUN ?_/PUNCT rufe_/VERB ich_/PRON ,_/PUNCT unter_/ADP der_/DET Zunge_/NOUN ,_/PUNCT unter_/ADP dem_/DET Kinn_/NOUN ,_/PUNCT ein_/DET Stativ_/NOUN deiner_/DET Beine_/NOUN ,_/PUNCT Schläfe_/NOUN mit_/ADP Kappe_/NOUN ,_/PUNCT Oktoberkeule_/PROPN ,_/PUNCT und_/CCONJ schnarrendes_/ADJ Maulhorn_/NOUN ,_/PUNCT wo_/SCONJ unsere_/DET Schatten_/NOUN einander_/PRON entgegen_/ADP sind_/AUX\n",
      "weil das Auge zuerst bricht der Körper will sich ja schließen, rufst du, Verdruss und Krankheit, die Witwe, Göttin aus der Maschine, die grünen Spielkarten plötzlich aus der Tasche gezogen, gemischt, dreimal abheben! linkshändig! die Rosalia sichtbar zu machen, bewaldet / wir essen kleine Drachen, den Mond, das Land ist Löwe, viel Hitze, Pompeji, ein Kälberleib, Bekröter sogar, Wahrträume wie mit vielen Augen von jeder Pfütze getrunken, die Vögel picken zuerst das menschliche Auge aus, alles verflochten, Krankheit, Verdruss, mein Gaumen krümmt sich, aber es ist kein Schatz zugegen, Treue, Beständigkeit, aus den Karten gelesen, Werktreue? rufe ich, Stativ Asche sein, Stativ Asche sein, Stativ deiner Beine, mein Gaumen krümmt sich, Schläfe mit Kappe unter der Zunge unter dem Kinn, Oktoberkeule, und schnarrendes Maulhorn, wo unsere Schatten einander entgegen sind\n",
      "['weil_/SCONJ', 'das_/DET', 'Auge_/NOUN', 'zuerst_/ADV', 'bricht_/VERB', 'der_/DET', 'Körper_/NOUN', 'will_/AUX', 'sich_/PRON', 'ja_/ADV', 'schließen_/VERB', ',_/PUNCT', 'rufst_/VERB', 'du_/PRON', ',_/PUNCT', 'Verdruss_/NOUN', 'und_/CCONJ', 'Krankheit_/NOUN', ',_/PUNCT', 'die_/DET', 'Witwe_/NOUN', ',_/PUNCT', 'Göttin_/NOUN', 'aus_/ADP', 'der_/DET', 'Maschine_/NOUN', ',_/PUNCT', 'die_/DET', 'grünen_/ADJ', 'Spielkarten_/NOUN', 'plötzlich_/ADV', 'aus_/ADP', 'der_/DET', 'Tasche_/NOUN', 'gezogen_/VERB', ',_/PUNCT', 'gemischt_/VERB', ',_/PUNCT', 'dreimal_/ADV', 'abheben_/VERB', '!_/PUNCT', 'linkshändig_/ADV', '!_/PUNCT', 'die_/DET', 'Rosalia_/PROPN', 'sichtbar_/ADV', 'zu_/PART', 'machen_/VERB', ',_/PUNCT', 'bewaldet_/VERB', '/_/PUNCT', 'wir_/PRON', 'essen_/VERB', 'kleine_/ADJ', 'Drachen_/NOUN', ',_/PUNCT', 'den_/DET', 'Mond_/NOUN', ',_/PUNCT', 'das_/DET', 'Land_/NOUN', 'ist_/AUX', 'Löwe_/PROPN', ',_/PUNCT', 'viel_/DET', 'Hitze_/NOUN', ',_/PUNCT', 'Pompeji_/PROPN', ',_/PUNCT', 'ein_/DET', 'Kälberleib_/NOUN', ',_/PUNCT', 'Bekröter_/NOUN', 'sogar_/ADV', ',_/PUNCT', 'Wahrträume_/NOUN', 'wie_/ADP', 'mit_/ADP', 'vielen_/DET', 'Augen_/NOUN', 'von_/ADP', 'jeder_/DET', 'Pfütze_/NOUN', 'getrunken_/VERB', ',_/PUNCT', 'die_/DET', 'Vögel_/NOUN', 'picken_/VERB', 'zuerst_/ADV', 'das_/DET', 'menschliche_/ADJ', 'Auge_/NOUN', 'aus_/ADP', ',_/PUNCT', 'alles_/PRON', 'verflochten_/ADV', ',_/PUNCT', 'Krankheit_/NOUN', ',_/PUNCT', 'Verdruss_/NOUN', ',_/PUNCT', 'mein_/DET', 'Gaumen_/NOUN', 'krümmt_/VERB', 'sich_/PRON', ',_/PUNCT', 'aber_/CCONJ', 'es_/PRON', 'ist_/AUX', 'kein_/DET', 'Schatz_/NOUN', 'zugegen_/ADV', ',_/PUNCT', 'Treue_/NOUN', ',_/PUNCT', 'Beständigkeit_/NOUN', ',_/PUNCT', 'aus_/ADP', 'den_/DET', 'Karten_/NOUN', 'gelesen_/VERB', ',_/PUNCT', 'Werktreue_/NOUN', '?_/PUNCT', 'rufe_/VERB', 'ich_/PRON', ',_/PUNCT', 'Stativ_/NOUN', 'Asche_/NOUN', 'sein_/AUX', ',_/PUNCT', 'Stativ_/NOUN', 'Asche_/NOUN', 'sein_/AUX', ',_/PUNCT', 'Stativ_/NOUN', 'deiner_/DET', 'Beine_/NOUN', ',_/PUNCT', 'mein_/DET', 'Gaumen_/NOUN', 'krümmt_/VERB', 'sich_/PRON', ',_/PUNCT', 'Schläfe_/NOUN', 'mit_/ADP', 'Kappe_/NOUN', 'unter_/ADP', 'der_/DET', 'Zunge_/NOUN', 'unter_/ADP', 'dem_/DET', 'Kinn_/NOUN', ',_/PUNCT', 'Oktoberkeule_/NOUN', ',_/PUNCT', 'und_/CCONJ', 'schnarrendes_/ADJ', 'Maulhorn_/NOUN', ',_/PUNCT', 'wo_/SCONJ', 'unsere_/DET', 'Schatten_/NOUN', 'einander_/PRON', 'entgegen_/ADP', 'sind_/AUX']\n",
      "weil_/SCONJ das_/DET Auge_/NOUN zuerst_/ADV bricht_/VERB der_/DET Körper_/NOUN will_/AUX sich_/PRON ja_/ADV schließen_/VERB ,_/PUNCT rufst_/VERB du_/PRON ,_/PUNCT Verdruss_/NOUN und_/CCONJ Krankheit_/NOUN ,_/PUNCT die_/DET Witwe_/NOUN ,_/PUNCT Göttin_/NOUN aus_/ADP der_/DET Maschine_/NOUN ,_/PUNCT die_/DET grünen_/ADJ Spielkarten_/NOUN plötzlich_/ADV aus_/ADP der_/DET Tasche_/NOUN gezogen_/VERB ,_/PUNCT gemischt_/VERB ,_/PUNCT dreimal_/ADV abheben_/VERB !_/PUNCT linkshändig_/ADV !_/PUNCT die_/DET Rosalia_/PROPN sichtbar_/ADV zu_/PART machen_/VERB ,_/PUNCT bewaldet_/VERB /_/PUNCT wir_/PRON essen_/VERB kleine_/ADJ Drachen_/NOUN ,_/PUNCT den_/DET Mond_/NOUN ,_/PUNCT das_/DET Land_/NOUN ist_/AUX Löwe_/PROPN ,_/PUNCT viel_/DET Hitze_/NOUN ,_/PUNCT Pompeji_/PROPN ,_/PUNCT ein_/DET Kälberleib_/NOUN ,_/PUNCT Bekröter_/NOUN sogar_/ADV ,_/PUNCT Wahrträume_/NOUN wie_/ADP mit_/ADP vielen_/DET Augen_/NOUN von_/ADP jeder_/DET Pfütze_/NOUN getrunken_/VERB ,_/PUNCT die_/DET Vögel_/NOUN picken_/VERB zuerst_/ADV das_/DET menschliche_/ADJ Auge_/NOUN aus_/ADP ,_/PUNCT alles_/PRON verflochten_/ADV ,_/PUNCT Krankheit_/NOUN ,_/PUNCT Verdruss_/NOUN ,_/PUNCT mein_/DET Gaumen_/NOUN krümmt_/VERB sich_/PRON ,_/PUNCT aber_/CCONJ es_/PRON ist_/AUX kein_/DET Schatz_/NOUN zugegen_/ADV ,_/PUNCT Treue_/NOUN ,_/PUNCT Beständigkeit_/NOUN ,_/PUNCT aus_/ADP den_/DET Karten_/NOUN gelesen_/VERB ,_/PUNCT Werktreue_/NOUN ?_/PUNCT rufe_/VERB ich_/PRON ,_/PUNCT Stativ_/NOUN Asche_/NOUN sein_/AUX ,_/PUNCT Stativ_/NOUN Asche_/NOUN sein_/AUX ,_/PUNCT Stativ_/NOUN deiner_/DET Beine_/NOUN ,_/PUNCT mein_/DET Gaumen_/NOUN krümmt_/VERB sich_/PRON ,_/PUNCT Schläfe_/NOUN mit_/ADP Kappe_/NOUN unter_/ADP der_/DET Zunge_/NOUN unter_/ADP dem_/DET Kinn_/NOUN ,_/PUNCT Oktoberkeule_/NOUN ,_/PUNCT und_/CCONJ schnarrendes_/ADJ Maulhorn_/NOUN ,_/PUNCT wo_/SCONJ unsere_/DET Schatten_/NOUN einander_/PRON entgegen_/ADP sind_/AUX\n",
      "weil das Auge zuerst bricht der Körper will sich ja schließen, rufst du, Verdruss und Krankheit, die Witwe, Göttin aus der Maschine, die grünen Zigeunerkarten Spielkarten plötzlich aus der Tasche gezogen, gemischt vermischt, dreimal abheben! linkshändig! die Rosalia sichtbar zu machen (bewaldet) / wir essen kleine Drachen, den Mond, das Land ist Löwe, viel voll Hitze, Pompeji, Kunstwellen ein Kälberleib, Bekröter sogar, Wahrträume wie mit vielen Augen von jeder Pfütze getrunken, die Vögel picken zuerst das menschliche Auge aus, alles verflochten, Krankheit, Verdruss, Säge des Laubs, mein Gaumen krümmt sich, aber es ist kein Schatz zugegen, die Treue, Beständigkeit aus den Karten gelesen, Werktreue? rufe ich, Asche sein, Stativ deiner Beine, Schläfe mit Kappe, unter der Zunge, unter dem Kinn, Oktoberkeule, und dein schnarrend schnarrendes Maulhorn / wo unsere Schatten einander entgegen sind\n",
      "['weil_/SCONJ', 'das_/DET', 'Auge_/NOUN', 'zuerst_/ADV', 'bricht_/VERB', 'der_/DET', 'Körper_/NOUN', 'will_/AUX', 'sich_/PRON', 'ja_/ADV', 'schließen_/VERB', ',_/PUNCT', 'rufst_/VERB', 'du_/PRON', ',_/PUNCT', 'Verdruss_/NOUN', 'und_/CCONJ', 'Krankheit_/NOUN', ',_/PUNCT', 'die_/DET', 'Witwe_/NOUN', ',_/PUNCT', 'Göttin_/NOUN', 'aus_/ADP', 'der_/DET', 'Maschine_/NOUN', ',_/PUNCT', 'die_/DET', 'grünen_/ADJ', 'Zigeunerkarten_/NOUN', 'Spielkarten_/NOUN', 'plötzlich_/ADV', 'aus_/ADP', 'der_/DET', 'Tasche_/NOUN', 'gezogen_/VERB', ',_/PUNCT', 'gemischt_/ADV', 'vermischt_/VERB', ',_/PUNCT', 'dreimal_/ADV', 'abheben_/VERB', '!_/PUNCT', 'linkshändig_/ADV', '!_/PUNCT', 'die_/DET', 'Rosalia_/PROPN', 'sichtbar_/ADV', 'zu_/PART', 'machen_/VERB', '(_/PUNCT', 'bewaldet_/ADV', ')_/PUNCT', '/_/PUNCT', 'wir_/PRON', 'essen_/VERB', 'kleine_/ADJ', 'Drachen_/NOUN', ',_/PUNCT', 'den_/DET', 'Mond_/NOUN', ',_/PUNCT', 'das_/DET', 'Land_/NOUN', 'ist_/AUX', 'Löwe_/PROPN', ',_/PUNCT', 'viel_/ADV', 'voll_/ADV', 'Hitze_/NOUN', ',_/PUNCT', 'Pompeji_/PROPN', ',_/PUNCT', 'Kunstwellen_/NOUN', 'ein_/DET', 'Kälberleib_/NOUN', ',_/PUNCT', 'Bekröter_/NOUN', 'sogar_/ADV', ',_/PUNCT', 'Wahrträume_/NOUN', 'wie_/ADP', 'mit_/ADP', 'vielen_/DET', 'Augen_/NOUN', 'von_/ADP', 'jeder_/DET', 'Pfütze_/NOUN', 'getrunken_/VERB', ',_/PUNCT', 'die_/DET', 'Vögel_/NOUN', 'picken_/VERB', 'zuerst_/ADV', 'das_/DET', 'menschliche_/ADJ', 'Auge_/NOUN', 'aus_/ADP', ',_/PUNCT', 'alles_/PRON', 'verflochten_/ADV', ',_/PUNCT', 'Krankheit_/NOUN', ',_/PUNCT', 'Verdruss_/NOUN', ',_/PUNCT', 'Säge_/NOUN', 'des_/DET', 'Laubs_/NOUN', ',_/PUNCT', 'mein_/DET', 'Gaumen_/NOUN', 'krümmt_/VERB', 'sich_/PRON', ',_/PUNCT', 'aber_/CCONJ', 'es_/PRON', 'ist_/AUX', 'kein_/DET', 'Schatz_/NOUN', 'zugegen_/ADV', ',_/PUNCT', 'die_/DET', 'Treue_/NOUN', ',_/PUNCT', 'Beständigkeit_/NOUN', 'aus_/ADP', 'den_/DET', 'Karten_/NOUN', 'gelesen_/VERB', ',_/PUNCT', 'Werktreue_/NOUN', '?_/PUNCT', 'rufe_/VERB', 'ich_/PRON', ',_/PUNCT', 'Asche_/NOUN', 'sein_/AUX', ',_/PUNCT', 'Stativ_/NOUN', 'deiner_/DET', 'Beine_/NOUN', ',_/PUNCT', 'Schläfe_/NOUN', 'mit_/ADP', 'Kappe_/NOUN', ',_/PUNCT', 'unter_/ADP', 'der_/DET', 'Zunge_/NOUN', ',_/PUNCT', 'unter_/ADP', 'dem_/DET', 'Kinn_/NOUN', ',_/PUNCT', 'Oktoberkeule_/NOUN', ',_/PUNCT', 'und_/CCONJ', 'dein_/DET', 'schnarrend_/ADV', 'schnarrendes_/ADJ', 'Maulhorn_/NOUN', '/_/PUNCT', 'wo_/SCONJ', 'unsere_/DET', 'Schatten_/NOUN', 'einander_/PRON', 'entgegen_/ADP', 'sind_/AUX']\n",
      "weil_/SCONJ das_/DET Auge_/NOUN zuerst_/ADV bricht_/VERB der_/DET Körper_/NOUN will_/AUX sich_/PRON ja_/ADV schließen_/VERB ,_/PUNCT rufst_/VERB du_/PRON ,_/PUNCT Verdruss_/NOUN und_/CCONJ Krankheit_/NOUN ,_/PUNCT die_/DET Witwe_/NOUN ,_/PUNCT Göttin_/NOUN aus_/ADP der_/DET Maschine_/NOUN ,_/PUNCT die_/DET grünen_/ADJ Zigeunerkarten_/NOUN Spielkarten_/NOUN plötzlich_/ADV aus_/ADP der_/DET Tasche_/NOUN gezogen_/VERB ,_/PUNCT gemischt_/ADV vermischt_/VERB ,_/PUNCT dreimal_/ADV abheben_/VERB !_/PUNCT linkshändig_/ADV !_/PUNCT die_/DET Rosalia_/PROPN sichtbar_/ADV zu_/PART machen_/VERB (_/PUNCT bewaldet_/ADV )_/PUNCT /_/PUNCT wir_/PRON essen_/VERB kleine_/ADJ Drachen_/NOUN ,_/PUNCT den_/DET Mond_/NOUN ,_/PUNCT das_/DET Land_/NOUN ist_/AUX Löwe_/PROPN ,_/PUNCT viel_/ADV voll_/ADV Hitze_/NOUN ,_/PUNCT Pompeji_/PROPN ,_/PUNCT Kunstwellen_/NOUN ein_/DET Kälberleib_/NOUN ,_/PUNCT Bekröter_/NOUN sogar_/ADV ,_/PUNCT Wahrträume_/NOUN wie_/ADP mit_/ADP vielen_/DET Augen_/NOUN von_/ADP jeder_/DET Pfütze_/NOUN getrunken_/VERB ,_/PUNCT die_/DET Vögel_/NOUN picken_/VERB zuerst_/ADV das_/DET menschliche_/ADJ Auge_/NOUN aus_/ADP ,_/PUNCT alles_/PRON verflochten_/ADV ,_/PUNCT Krankheit_/NOUN ,_/PUNCT Verdruss_/NOUN ,_/PUNCT Säge_/NOUN des_/DET Laubs_/NOUN ,_/PUNCT mein_/DET Gaumen_/NOUN krümmt_/VERB sich_/PRON ,_/PUNCT aber_/CCONJ es_/PRON ist_/AUX kein_/DET Schatz_/NOUN zugegen_/ADV ,_/PUNCT die_/DET Treue_/NOUN ,_/PUNCT Beständigkeit_/NOUN aus_/ADP den_/DET Karten_/NOUN gelesen_/VERB ,_/PUNCT Werktreue_/NOUN ?_/PUNCT rufe_/VERB ich_/PRON ,_/PUNCT Asche_/NOUN sein_/AUX ,_/PUNCT Stativ_/NOUN deiner_/DET Beine_/NOUN ,_/PUNCT Schläfe_/NOUN mit_/ADP Kappe_/NOUN ,_/PUNCT unter_/ADP der_/DET Zunge_/NOUN ,_/PUNCT unter_/ADP dem_/DET Kinn_/NOUN ,_/PUNCT Oktoberkeule_/NOUN ,_/PUNCT und_/CCONJ dein_/DET schnarrend_/ADV schnarrendes_/ADJ Maulhorn_/NOUN /_/PUNCT wo_/SCONJ unsere_/DET Schatten_/NOUN einander_/PRON entgegen_/ADP sind_/AUX\n",
      "vielleicht weil das Auge zuerst bricht der Körper will sich ja schließen! rufst du Verdruss und Krankheit der Witwe : Göttin aus der Maschine, die grünen Zigeunerkarten plötzlich aus der Tasche gezogen vermischt, dreimal abheben! linkshändig! die Rosalia sichtbar zu machen (bewaldet), wir essen kleine Drachen den Mond, das Land ist Löwe viel Hitze Pompeji Kunstwellen Kälberleib Bekröter sogar : Wahrträume - wie mit vielen Augen aus jeder Pfütze getrunken, die Vögel picken das menschliche Auge zuerst aus, alles verflochten Krankheit Verdruss Säge des Laubs, mein Gaumen krümmt sich aber es ist kein Schatz zugegen, die Treue Beständigkeit aus den Karten gelesen, Werktreue? rufe ich, Asche werden, Stativ deiner Beine, Schläfe mit Kappe, Oktoberkeule dein schnarrendes Maulhorn ach wo unsere Schatten einander entgegen sind -\n",
      "['vielleicht_/ADV', 'weil_/SCONJ', 'das_/DET', 'Auge_/NOUN', 'zuerst_/ADV', 'bricht_/VERB', 'der_/DET', 'Körper_/NOUN', 'will_/AUX', 'sich_/PRON', 'ja_/ADV', 'schließen_/VERB', '!_/PUNCT', 'rufst_/VERB', 'du_/PRON', 'Verdruss_/NOUN', 'und_/CCONJ', 'Krankheit_/NOUN', 'der_/DET', 'Witwe_/NOUN', ':_/PUNCT', 'Göttin_/NOUN', 'aus_/ADP', 'der_/DET', 'Maschine_/NOUN', ',_/PUNCT', 'die_/DET', 'grünen_/ADJ', 'Zigeunerkarten_/NOUN', 'plötzlich_/ADV', 'aus_/ADP', 'der_/DET', 'Tasche_/NOUN', 'gezogen_/VERB', 'vermischt_/VERB', ',_/PUNCT', 'dreimal_/ADV', 'abheben_/VERB', '!_/PUNCT', 'linkshändig_/ADV', '!_/PUNCT', 'die_/DET', 'Rosalia_/PROPN', 'sichtbar_/ADV', 'zu_/PART', 'machen_/VERB', '(_/PUNCT', 'bewaldet_/VERB', ')_/PUNCT', ',_/PUNCT', 'wir_/PRON', 'essen_/VERB', 'kleine_/ADJ', 'Drachen_/NOUN', 'den_/DET', 'Mond_/NOUN', ',_/PUNCT', 'das_/DET', 'Land_/NOUN', 'ist_/AUX', 'Löwe_/PROPN', 'viel_/DET', 'Hitze_/NOUN', 'Pompeji_/PROPN', 'Kunstwellen_/NOUN', 'Kälberleib_/PROPN', 'Bekröter_/NOUN', 'sogar_/ADV', ':_/PUNCT', 'Wahrträume_/NOUN', '-_/PUNCT', 'wie_/ADP', 'mit_/ADP', 'vielen_/DET', 'Augen_/NOUN', 'aus_/ADP', 'jeder_/DET', 'Pfütze_/NOUN', 'getrunken_/VERB', ',_/PUNCT', 'die_/DET', 'Vögel_/NOUN', 'picken_/VERB', 'das_/DET', 'menschliche_/ADJ', 'Auge_/NOUN', 'zuerst_/ADV', 'aus_/ADP', ',_/PUNCT', 'alles_/PRON', 'verflochten_/ADV', 'Krankheit_/NOUN', 'Verdruss_/ADP', 'Säge_/NOUN', 'des_/DET', 'Laubs_/NOUN', ',_/PUNCT', 'mein_/DET', 'Gaumen_/NOUN', 'krümmt_/VERB', 'sich_/PRON', 'aber_/ADV', 'es_/PRON', 'ist_/AUX', 'kein_/DET', 'Schatz_/NOUN', 'zugegen_/ADV', ',_/PUNCT', 'die_/DET', 'Treue_/NOUN', 'Beständigkeit_/NOUN', 'aus_/ADP', 'den_/DET', 'Karten_/NOUN', 'gelesen_/VERB', ',_/PUNCT', 'Werktreue_/NOUN', '?_/PUNCT', 'rufe_/VERB', 'ich_/PRON', ',_/PUNCT', 'Asche_/NOUN', 'werden_/AUX', ',_/PUNCT', 'Stativ_/NOUN', 'deiner_/DET', 'Beine_/NOUN', ',_/PUNCT', 'Schläfe_/NOUN', 'mit_/ADP', 'Kappe_/NOUN', ',_/PUNCT', 'Oktoberkeule_/PROPN', 'dein_/DET', 'schnarrendes_/ADJ', 'Maulhorn_/NOUN', 'ach_/ADP', 'wo_/ADV', 'unsere_/DET', 'Schatten_/NOUN', 'einander_/PRON', 'entgegen_/ADP', 'sind_/AUX', '-_/PUNCT']\n",
      "vielleicht_/ADV weil_/SCONJ das_/DET Auge_/NOUN zuerst_/ADV bricht_/VERB der_/DET Körper_/NOUN will_/AUX sich_/PRON ja_/ADV schließen_/VERB !_/PUNCT rufst_/VERB du_/PRON Verdruss_/NOUN und_/CCONJ Krankheit_/NOUN der_/DET Witwe_/NOUN :_/PUNCT Göttin_/NOUN aus_/ADP der_/DET Maschine_/NOUN ,_/PUNCT die_/DET grünen_/ADJ Zigeunerkarten_/NOUN plötzlich_/ADV aus_/ADP der_/DET Tasche_/NOUN gezogen_/VERB vermischt_/VERB ,_/PUNCT dreimal_/ADV abheben_/VERB !_/PUNCT linkshändig_/ADV !_/PUNCT die_/DET Rosalia_/PROPN sichtbar_/ADV zu_/PART machen_/VERB (_/PUNCT bewaldet_/VERB )_/PUNCT ,_/PUNCT wir_/PRON essen_/VERB kleine_/ADJ Drachen_/NOUN den_/DET Mond_/NOUN ,_/PUNCT das_/DET Land_/NOUN ist_/AUX Löwe_/PROPN viel_/DET Hitze_/NOUN Pompeji_/PROPN Kunstwellen_/NOUN Kälberleib_/PROPN Bekröter_/NOUN sogar_/ADV :_/PUNCT Wahrträume_/NOUN -_/PUNCT wie_/ADP mit_/ADP vielen_/DET Augen_/NOUN aus_/ADP jeder_/DET Pfütze_/NOUN getrunken_/VERB ,_/PUNCT die_/DET Vögel_/NOUN picken_/VERB das_/DET menschliche_/ADJ Auge_/NOUN zuerst_/ADV aus_/ADP ,_/PUNCT alles_/PRON verflochten_/ADV Krankheit_/NOUN Verdruss_/ADP Säge_/NOUN des_/DET Laubs_/NOUN ,_/PUNCT mein_/DET Gaumen_/NOUN krümmt_/VERB sich_/PRON aber_/ADV es_/PRON ist_/AUX kein_/DET Schatz_/NOUN zugegen_/ADV ,_/PUNCT die_/DET Treue_/NOUN Beständigkeit_/NOUN aus_/ADP den_/DET Karten_/NOUN gelesen_/VERB ,_/PUNCT Werktreue_/NOUN ?_/PUNCT rufe_/VERB ich_/PRON ,_/PUNCT Asche_/NOUN werden_/AUX ,_/PUNCT Stativ_/NOUN deiner_/DET Beine_/NOUN ,_/PUNCT Schläfe_/NOUN mit_/ADP Kappe_/NOUN ,_/PUNCT Oktoberkeule_/PROPN dein_/DET schnarrendes_/ADJ Maulhorn_/NOUN ach_/ADP wo_/ADV unsere_/DET Schatten_/NOUN einander_/PRON entgegen_/ADP sind_/AUX -_/PUNCT\n"
     ]
    }
   ],
   "source": [
    "\n",
    "for lg in linegroups: \n",
    "    for line in lg:\n",
    "        if line is not None and line.text:\n",
    "            line_text = line.text\n",
    "            line_text.replace(\"\\n\", \"\").replace(\"\\r\", \"\")\n",
    "            line_text = \" \".join(line_text.strip().split())\n",
    "            print(line_text)\n",
    "            doc = nlp(line_text)\n",
    "            \n",
    "            \n",
    "            new_line_text = []\n",
    "            for token in doc:\n",
    "                new_token = f\"{token.text}_/{token.pos_}\"\n",
    "                new_line_text.append(new_token)\n",
    "            \n",
    "            print(new_line_text)        \n",
    "            newlinetext = \" \".join(new_line_text)\n",
    "            print(newlinetext)\n",
    "    line.text = newlinetext\n",
    "    \n",
    "tree.write(\"output_pos_vwdazb_lg.xml\", encoding=\"utf-8\", xml_declaration=True)"
   ]
  },
  {
   "cell_type": "code",
   "execution_count": null,
   "id": "c57ff195",
   "metadata": {},
   "outputs": [],
   "source": []
  },
  {
   "cell_type": "markdown",
   "id": "65402f0c",
   "metadata": {},
   "source": [
    "##### als Tabelle speichern"
   ]
  },
  {
   "cell_type": "code",
   "execution_count": 6,
   "id": "e2ba2326",
   "metadata": {},
   "outputs": [
    {
     "data": {
      "text/html": [
       "<div>\n",
       "<style scoped>\n",
       "    .dataframe tbody tr th:only-of-type {\n",
       "        vertical-align: middle;\n",
       "    }\n",
       "\n",
       "    .dataframe tbody tr th {\n",
       "        vertical-align: top;\n",
       "    }\n",
       "\n",
       "    .dataframe thead th {\n",
       "        text-align: right;\n",
       "    }\n",
       "</style>\n",
       "<table border=\"1\" class=\"dataframe\">\n",
       "  <thead>\n",
       "    <tr style=\"text-align: right;\">\n",
       "      <th></th>\n",
       "      <th>text</th>\n",
       "      <th>pos</th>\n",
       "    </tr>\n",
       "  </thead>\n",
       "  <tbody>\n",
       "    <tr>\n",
       "      <th>0</th>\n",
       "      <td>der</td>\n",
       "      <td>DET</td>\n",
       "    </tr>\n",
       "    <tr>\n",
       "      <th>1</th>\n",
       "      <td>Körper</td>\n",
       "      <td>NOUN</td>\n",
       "    </tr>\n",
       "    <tr>\n",
       "      <th>2</th>\n",
       "      <td>will</td>\n",
       "      <td>AUX</td>\n",
       "    </tr>\n",
       "    <tr>\n",
       "      <th>3</th>\n",
       "      <td>sich</td>\n",
       "      <td>PRON</td>\n",
       "    </tr>\n",
       "    <tr>\n",
       "      <th>4</th>\n",
       "      <td>ja</td>\n",
       "      <td>ADV</td>\n",
       "    </tr>\n",
       "    <tr>\n",
       "      <th>5</th>\n",
       "      <td>schließen</td>\n",
       "      <td>VERB</td>\n",
       "    </tr>\n",
       "    <tr>\n",
       "      <th>6</th>\n",
       "      <td>,</td>\n",
       "      <td>PUNCT</td>\n",
       "    </tr>\n",
       "    <tr>\n",
       "      <th>7</th>\n",
       "      <td>rufst</td>\n",
       "      <td>VERB</td>\n",
       "    </tr>\n",
       "    <tr>\n",
       "      <th>8</th>\n",
       "      <td>du</td>\n",
       "      <td>PRON</td>\n",
       "    </tr>\n",
       "    <tr>\n",
       "      <th>9</th>\n",
       "      <td>,</td>\n",
       "      <td>PUNCT</td>\n",
       "    </tr>\n",
       "  </tbody>\n",
       "</table>\n",
       "</div>"
      ],
      "text/plain": [
       "        text    pos\n",
       "0        der    DET\n",
       "1     Körper   NOUN\n",
       "2       will    AUX\n",
       "3       sich   PRON\n",
       "4         ja    ADV\n",
       "5  schließen   VERB\n",
       "6          ,  PUNCT\n",
       "7      rufst   VERB\n",
       "8         du   PRON\n",
       "9          ,  PUNCT"
      ]
     },
     "execution_count": 6,
     "metadata": {},
     "output_type": "execute_result"
    }
   ],
   "source": [
    "tree = etree.parse(\"C:/Users/jO/Desktop/DH_MA_Arbeit/coding/transkribiert_ohne-unclear-_vielleichtweil.xml\")\n",
    "linegroups = tree.xpath(\"//tei:lg\", namespaces={\"tei\": \"http://www.tei-c.org/ns/1.0\"})\n",
    "pos_info = []\n",
    "for lg in linegroups: \n",
    "    for line in lg:\n",
    "        if line is not None and line.text:\n",
    "            line_text = line.text\n",
    "            line_text.replace(\"\\n\", \"\").replace(\"\\r\", \"\")\n",
    "            line_text = \" \".join(line_text.strip().split())\n",
    "        #    print(line_text)\n",
    "            doc = nlp(line_text)\n",
    "            for token in doc:\n",
    "                pos_info.append({\n",
    "                    'text': token.text,\n",
    "                    'pos': token.pos_})\n",
    "\n",
    "\n",
    "pos_info_df = pd.DataFrame(pos_info)\n",
    "pos_info_df.to_csv('pos_info_vwdazb_lg.csv', index=False)\n",
    "pos_info_df.head(10)"
   ]
  },
  {
   "cell_type": "code",
   "execution_count": null,
   "id": "a99538bb",
   "metadata": {},
   "outputs": [],
   "source": []
  },
  {
   "cell_type": "markdown",
   "id": "c6bfedf8",
   "metadata": {},
   "source": [
    "### mit de_dep_news_trf"
   ]
  },
  {
   "cell_type": "code",
   "execution_count": 6,
   "id": "ae72babc-04f1-428e-9b70-ec8ca4c3be9c",
   "metadata": {},
   "outputs": [
    {
     "name": "stdout",
     "output_type": "stream",
     "text": [
      "\u001b[38;5;2m✔ Download and installation successful\u001b[0m\n",
      "You can now load the package via spacy.load('de_dep_news_trf')\n",
      "\u001b[38;5;3m⚠ Restart to reload dependencies\u001b[0m\n",
      "If you are in a Jupyter or Colab notebook, you may need to restart Python in\n",
      "order to load all the package's dependencies. You can do this by selecting the\n",
      "'Restart kernel' or 'Restart runtime' option.\n"
     ]
    }
   ],
   "source": [
    "#spacy.cli.download(\"de_dep_news_trf\")"
   ]
  },
  {
   "cell_type": "code",
   "execution_count": 7,
   "id": "e4aa9a30-57ec-40d8-86a0-542e335707a2",
   "metadata": {},
   "outputs": [],
   "source": [
    "nlp = spacy.load(\"de_dep_news_trf\")"
   ]
  },
  {
   "cell_type": "code",
   "execution_count": 8,
   "id": "0886f3d8",
   "metadata": {},
   "outputs": [],
   "source": [
    "tree = etree.parse(\"C:/Users/jO/Desktop/DH_MA_Arbeit/coding/transkribiert_ohne-unclear-_vielleichtweil.xml\")\n",
    "linegroups = tree.xpath(\"//tei:lg\", namespaces={\"tei\": \"http://www.tei-c.org/ns/1.0\"})"
   ]
  },
  {
   "cell_type": "code",
   "execution_count": 9,
   "id": "18ee0ac9",
   "metadata": {
    "scrolled": true
   },
   "outputs": [
    {
     "name": "stdout",
     "output_type": "stream",
     "text": [
      "der Körper will sich ja schließen, rufst du, Verdruss und Krankheit als Göttin aus der Maschine (die Zigeunerspielkarten in der Brust, auf die Finger mit der linken Hand 3 mal geteilt Westentasche, ( oder als müssten wir erinnert werden dass wir nicht Götter sondern Menschen sind, die es nötig haben, die ihre Gedanken durch die Feder sichtbar zu machen,) die Rosalia sichtbar zu machen,) die Rosalia, bewaldet, wir essen kleine Drachen, den Mond, Asche sein, das Land ist Löwe, und viel Hitze, Pompeji ist verbrannt, nur Kälberleib, Bekröter sogar, Asche sein, jede Pfütze getrunken, (der Dürer) und Überschwemmungen, aus den aufgeschlagenen Karten, Treue, Beständigkeit, schnarrendes Maulhorn, Werktreue, rufe ich, gelesen, Säge des Laubs, Verdruss + Krankheit alles verflochten, aber es ist kein Schatz zugegen mein Gaumen krümmt sich, nämlich das Stativ deiner Beine (deiner Beine) plötzlich eingerastet, eingerastet, unter dem Kinn gelegen, unter der Zunge, verkappte Schläfe (mit Kappe) Oktoberkeule\n",
      "['der_/DET', 'Körper_/NOUN', 'will_/AUX', 'sich_/PRON', 'ja_/ADV', 'schließen_/VERB', ',_/PUNCT', 'rufst_/VERB', 'du_/PRON', ',_/PUNCT', 'Verdruss_/NOUN', 'und_/CCONJ', 'Krankheit_/NOUN', 'als_/ADP', 'Göttin_/NOUN', 'aus_/ADP', 'der_/DET', 'Maschine_/NOUN', '(_/PUNCT', 'die_/DET', 'Zigeunerspielkarten_/NOUN', 'in_/ADP', 'der_/DET', 'Brust_/NOUN', ',_/PUNCT', 'auf_/ADP', 'die_/DET', 'Finger_/NOUN', 'mit_/ADP', 'der_/DET', 'linken_/ADJ', 'Hand_/NOUN', '3_/NUM', 'mal_/ADV', 'geteilt_/VERB', 'Westentasche_/NOUN', ',_/PUNCT', '(_/PUNCT', 'oder_/CCONJ', 'als_/SCONJ', 'müssten_/AUX', 'wir_/PRON', 'erinnert_/VERB', 'werden_/AUX', 'dass_/SCONJ', 'wir_/PRON', 'nicht_/PART', 'Götter_/NOUN', 'sondern_/CCONJ', 'Menschen_/NOUN', 'sind_/AUX', ',_/PUNCT', 'die_/PRON', 'es_/PRON', 'nötig_/ADV', 'haben_/VERB', ',_/PUNCT', 'die_/DET', 'ihre_/DET', 'Gedanken_/NOUN', 'durch_/ADP', 'die_/DET', 'Feder_/NOUN', 'sichtbar_/ADV', 'zu_/PART', 'machen_/VERB', ',_/PUNCT', ')_/PUNCT', 'die_/DET', 'Rosalia_/PROPN', 'sichtbar_/ADV', 'zu_/PART', 'machen_/VERB', ',_/PUNCT', ')_/PUNCT', 'die_/DET', 'Rosalia_/PROPN', ',_/PUNCT', 'bewaldet_/ADV', ',_/PUNCT', 'wir_/PRON', 'essen_/VERB', 'kleine_/ADJ', 'Drachen_/NOUN', ',_/PUNCT', 'den_/DET', 'Mond_/NOUN', ',_/PUNCT', 'Asche_/NOUN', 'sein_/AUX', ',_/PUNCT', 'das_/DET', 'Land_/NOUN', 'ist_/AUX', 'Löwe_/NOUN', ',_/PUNCT', 'und_/CCONJ', 'viel_/DET', 'Hitze_/NOUN', ',_/PUNCT', 'Pompeji_/PROPN', 'ist_/AUX', 'verbrannt_/VERB', ',_/PUNCT', 'nur_/ADV', 'Kälberleib_/NOUN', ',_/PUNCT', 'Bekröter_/NOUN', 'sogar_/ADV', ',_/PUNCT', 'Asche_/NOUN', 'sein_/AUX', ',_/PUNCT', 'jede_/DET', 'Pfütze_/NOUN', 'getrunken_/VERB', ',_/PUNCT', '(_/PUNCT', 'der_/DET', 'Dürer_/PROPN', ')_/PUNCT', 'und_/CCONJ', 'Überschwemmungen_/NOUN', ',_/PUNCT', 'aus_/ADP', 'den_/DET', 'aufgeschlagenen_/ADJ', 'Karten_/NOUN', ',_/PUNCT', 'Treue_/NOUN', ',_/PUNCT', 'Beständigkeit_/NOUN', ',_/PUNCT', 'schnarrendes_/ADJ', 'Maulhorn_/NOUN', ',_/PUNCT', 'Werktreue_/NOUN', ',_/PUNCT', 'rufe_/VERB', 'ich_/PRON', ',_/PUNCT', 'gelesen_/VERB', ',_/PUNCT', 'Säge_/NOUN', 'des_/DET', 'Laubs_/NOUN', ',_/PUNCT', 'Verdruss_/NOUN', '+_/CCONJ', 'Krankheit_/NOUN', 'alles_/PRON', 'verflochten_/VERB', ',_/PUNCT', 'aber_/CCONJ', 'es_/PRON', 'ist_/AUX', 'kein_/DET', 'Schatz_/NOUN', 'zugegen_/VERB', 'mein_/DET', 'Gaumen_/NOUN', 'krümmt_/VERB', 'sich_/PRON', ',_/PUNCT', 'nämlich_/ADV', 'das_/DET', 'Stativ_/NOUN', 'deiner_/DET', 'Beine_/NOUN', '(_/PUNCT', 'deiner_/DET', 'Beine_/NOUN', ')_/PUNCT', 'plötzlich_/ADV', 'eingerastet_/VERB', ',_/PUNCT', 'eingerastet_/VERB', ',_/PUNCT', 'unter_/ADP', 'dem_/DET', 'Kinn_/NOUN', 'gelegen_/VERB', ',_/PUNCT', 'unter_/ADP', 'der_/DET', 'Zunge_/NOUN', ',_/PUNCT', 'verkappte_/ADJ', 'Schläfe_/NOUN', '(_/PUNCT', 'mit_/ADP', 'Kappe_/NOUN', ')_/PUNCT', 'Oktoberkeule_/NOUN']\n",
      "der_/DET Körper_/NOUN will_/AUX sich_/PRON ja_/ADV schließen_/VERB ,_/PUNCT rufst_/VERB du_/PRON ,_/PUNCT Verdruss_/NOUN und_/CCONJ Krankheit_/NOUN als_/ADP Göttin_/NOUN aus_/ADP der_/DET Maschine_/NOUN (_/PUNCT die_/DET Zigeunerspielkarten_/NOUN in_/ADP der_/DET Brust_/NOUN ,_/PUNCT auf_/ADP die_/DET Finger_/NOUN mit_/ADP der_/DET linken_/ADJ Hand_/NOUN 3_/NUM mal_/ADV geteilt_/VERB Westentasche_/NOUN ,_/PUNCT (_/PUNCT oder_/CCONJ als_/SCONJ müssten_/AUX wir_/PRON erinnert_/VERB werden_/AUX dass_/SCONJ wir_/PRON nicht_/PART Götter_/NOUN sondern_/CCONJ Menschen_/NOUN sind_/AUX ,_/PUNCT die_/PRON es_/PRON nötig_/ADV haben_/VERB ,_/PUNCT die_/DET ihre_/DET Gedanken_/NOUN durch_/ADP die_/DET Feder_/NOUN sichtbar_/ADV zu_/PART machen_/VERB ,_/PUNCT )_/PUNCT die_/DET Rosalia_/PROPN sichtbar_/ADV zu_/PART machen_/VERB ,_/PUNCT )_/PUNCT die_/DET Rosalia_/PROPN ,_/PUNCT bewaldet_/ADV ,_/PUNCT wir_/PRON essen_/VERB kleine_/ADJ Drachen_/NOUN ,_/PUNCT den_/DET Mond_/NOUN ,_/PUNCT Asche_/NOUN sein_/AUX ,_/PUNCT das_/DET Land_/NOUN ist_/AUX Löwe_/NOUN ,_/PUNCT und_/CCONJ viel_/DET Hitze_/NOUN ,_/PUNCT Pompeji_/PROPN ist_/AUX verbrannt_/VERB ,_/PUNCT nur_/ADV Kälberleib_/NOUN ,_/PUNCT Bekröter_/NOUN sogar_/ADV ,_/PUNCT Asche_/NOUN sein_/AUX ,_/PUNCT jede_/DET Pfütze_/NOUN getrunken_/VERB ,_/PUNCT (_/PUNCT der_/DET Dürer_/PROPN )_/PUNCT und_/CCONJ Überschwemmungen_/NOUN ,_/PUNCT aus_/ADP den_/DET aufgeschlagenen_/ADJ Karten_/NOUN ,_/PUNCT Treue_/NOUN ,_/PUNCT Beständigkeit_/NOUN ,_/PUNCT schnarrendes_/ADJ Maulhorn_/NOUN ,_/PUNCT Werktreue_/NOUN ,_/PUNCT rufe_/VERB ich_/PRON ,_/PUNCT gelesen_/VERB ,_/PUNCT Säge_/NOUN des_/DET Laubs_/NOUN ,_/PUNCT Verdruss_/NOUN +_/CCONJ Krankheit_/NOUN alles_/PRON verflochten_/VERB ,_/PUNCT aber_/CCONJ es_/PRON ist_/AUX kein_/DET Schatz_/NOUN zugegen_/VERB mein_/DET Gaumen_/NOUN krümmt_/VERB sich_/PRON ,_/PUNCT nämlich_/ADV das_/DET Stativ_/NOUN deiner_/DET Beine_/NOUN (_/PUNCT deiner_/DET Beine_/NOUN )_/PUNCT plötzlich_/ADV eingerastet_/VERB ,_/PUNCT eingerastet_/VERB ,_/PUNCT unter_/ADP dem_/DET Kinn_/NOUN gelegen_/VERB ,_/PUNCT unter_/ADP der_/DET Zunge_/NOUN ,_/PUNCT verkappte_/ADJ Schläfe_/NOUN (_/PUNCT mit_/ADP Kappe_/NOUN )_/PUNCT Oktoberkeule_/NOUN\n",
      "Werktreue! der Körper will sich ja schließen rufst du, Verdruss und Krankheit, die Witwe, als Göttin aus der Maschine, die Zigeunerspielkarten aus in der Brusttasche, dreimal geteilt, mit der Linken linken Hand, die Rosalia sichtbar zu machen, bewaldet, wir essen kleine Drachen, den Mond, das Land ist Löwe, viel Hitze, Pompeji, (ist verbrannt), nur Kälberleib, Bekröter sogar, von jeder jede Pfütze getrunken, ( der Dürer ) (und Überschwemmungen), aus den aufgeschlagenen Karten Beständigkeit, Treue, gelesen, schnarrendes Maulhorn, Werktreue, !, rufe ich, Krankheit Verdruss, alles verflochten, aber es ist kein Schatz zugegen, mein Gaumen krümmt sich, das Stativ deiner seiner Beine eingerastet, verkappte Schläfe, mit Kappe, Oktoberkeule - das Stativ deiner Beine eingerastet\n",
      "['Werktreue_/NOUN', '!_/PUNCT', 'der_/DET', 'Körper_/NOUN', 'will_/AUX', 'sich_/PRON', 'ja_/ADV', 'schließen_/VERB', 'rufst_/VERB', 'du_/PRON', ',_/PUNCT', 'Verdruss_/NOUN', 'und_/CCONJ', 'Krankheit_/NOUN', ',_/PUNCT', 'die_/DET', 'Witwe_/NOUN', ',_/PUNCT', 'als_/ADP', 'Göttin_/NOUN', 'aus_/ADP', 'der_/DET', 'Maschine_/NOUN', ',_/PUNCT', 'die_/DET', 'Zigeunerspielkarten_/NOUN', 'aus_/ADP', 'in_/ADP', 'der_/DET', 'Brusttasche_/NOUN', ',_/PUNCT', 'dreimal_/ADV', 'geteilt_/VERB', ',_/PUNCT', 'mit_/ADP', 'der_/DET', 'Linken_/NOUN', 'linken_/ADJ', 'Hand_/NOUN', ',_/PUNCT', 'die_/DET', 'Rosalia_/PROPN', 'sichtbar_/ADV', 'zu_/PART', 'machen_/VERB', ',_/PUNCT', 'bewaldet_/ADV', ',_/PUNCT', 'wir_/PRON', 'essen_/VERB', 'kleine_/ADJ', 'Drachen_/NOUN', ',_/PUNCT', 'den_/DET', 'Mond_/NOUN', ',_/PUNCT', 'das_/DET', 'Land_/NOUN', 'ist_/AUX', 'Löwe_/NOUN', ',_/PUNCT', 'viel_/DET', 'Hitze_/NOUN', ',_/PUNCT', 'Pompeji_/PROPN', ',_/PUNCT', '(_/PUNCT', 'ist_/AUX', 'verbrannt_/VERB', ')_/PUNCT', ',_/PUNCT', 'nur_/ADV', 'Kälberleib_/NOUN', ',_/PUNCT', 'Bekröter_/NOUN', 'sogar_/ADV', ',_/PUNCT', 'von_/ADP', 'jeder_/PRON', 'jede_/DET', 'Pfütze_/NOUN', 'getrunken_/VERB', ',_/PUNCT', '(_/PUNCT', 'der_/DET', 'Dürer_/PROPN', ')_/PUNCT', '(_/PUNCT', 'und_/CCONJ', 'Überschwemmungen_/NOUN', ')_/PUNCT', ',_/PUNCT', 'aus_/ADP', 'den_/DET', 'aufgeschlagenen_/ADJ', 'Karten_/NOUN', 'Beständigkeit_/NOUN', ',_/PUNCT', 'Treue_/NOUN', ',_/PUNCT', 'gelesen_/VERB', ',_/PUNCT', 'schnarrendes_/ADJ', 'Maulhorn_/NOUN', ',_/PUNCT', 'Werktreue_/NOUN', ',_/PUNCT', '!_/PUNCT', ',_/PUNCT', 'rufe_/VERB', 'ich_/PRON', ',_/PUNCT', 'Krankheit_/NOUN', 'Verdruss_/NOUN', ',_/PUNCT', 'alles_/PRON', 'verflochten_/VERB', ',_/PUNCT', 'aber_/CCONJ', 'es_/PRON', 'ist_/AUX', 'kein_/DET', 'Schatz_/NOUN', 'zugegen_/VERB', ',_/PUNCT', 'mein_/DET', 'Gaumen_/NOUN', 'krümmt_/VERB', 'sich_/PRON', ',_/PUNCT', 'das_/DET', 'Stativ_/NOUN', 'deiner_/DET', 'seiner_/DET', 'Beine_/NOUN', 'eingerastet_/VERB', ',_/PUNCT', 'verkappte_/ADJ', 'Schläfe_/NOUN', ',_/PUNCT', 'mit_/ADP', 'Kappe_/NOUN', ',_/PUNCT', 'Oktoberkeule_/NOUN', '-_/PUNCT', 'das_/DET', 'Stativ_/NOUN', 'deiner_/DET', 'Beine_/NOUN', 'eingerastet_/VERB']\n",
      "Werktreue_/NOUN !_/PUNCT der_/DET Körper_/NOUN will_/AUX sich_/PRON ja_/ADV schließen_/VERB rufst_/VERB du_/PRON ,_/PUNCT Verdruss_/NOUN und_/CCONJ Krankheit_/NOUN ,_/PUNCT die_/DET Witwe_/NOUN ,_/PUNCT als_/ADP Göttin_/NOUN aus_/ADP der_/DET Maschine_/NOUN ,_/PUNCT die_/DET Zigeunerspielkarten_/NOUN aus_/ADP in_/ADP der_/DET Brusttasche_/NOUN ,_/PUNCT dreimal_/ADV geteilt_/VERB ,_/PUNCT mit_/ADP der_/DET Linken_/NOUN linken_/ADJ Hand_/NOUN ,_/PUNCT die_/DET Rosalia_/PROPN sichtbar_/ADV zu_/PART machen_/VERB ,_/PUNCT bewaldet_/ADV ,_/PUNCT wir_/PRON essen_/VERB kleine_/ADJ Drachen_/NOUN ,_/PUNCT den_/DET Mond_/NOUN ,_/PUNCT das_/DET Land_/NOUN ist_/AUX Löwe_/NOUN ,_/PUNCT viel_/DET Hitze_/NOUN ,_/PUNCT Pompeji_/PROPN ,_/PUNCT (_/PUNCT ist_/AUX verbrannt_/VERB )_/PUNCT ,_/PUNCT nur_/ADV Kälberleib_/NOUN ,_/PUNCT Bekröter_/NOUN sogar_/ADV ,_/PUNCT von_/ADP jeder_/PRON jede_/DET Pfütze_/NOUN getrunken_/VERB ,_/PUNCT (_/PUNCT der_/DET Dürer_/PROPN )_/PUNCT (_/PUNCT und_/CCONJ Überschwemmungen_/NOUN )_/PUNCT ,_/PUNCT aus_/ADP den_/DET aufgeschlagenen_/ADJ Karten_/NOUN Beständigkeit_/NOUN ,_/PUNCT Treue_/NOUN ,_/PUNCT gelesen_/VERB ,_/PUNCT schnarrendes_/ADJ Maulhorn_/NOUN ,_/PUNCT Werktreue_/NOUN ,_/PUNCT !_/PUNCT ,_/PUNCT rufe_/VERB ich_/PRON ,_/PUNCT Krankheit_/NOUN Verdruss_/NOUN ,_/PUNCT alles_/PRON verflochten_/VERB ,_/PUNCT aber_/CCONJ es_/PRON ist_/AUX kein_/DET Schatz_/NOUN zugegen_/VERB ,_/PUNCT mein_/DET Gaumen_/NOUN krümmt_/VERB sich_/PRON ,_/PUNCT das_/DET Stativ_/NOUN deiner_/DET seiner_/DET Beine_/NOUN eingerastet_/VERB ,_/PUNCT verkappte_/ADJ Schläfe_/NOUN ,_/PUNCT mit_/ADP Kappe_/NOUN ,_/PUNCT Oktoberkeule_/NOUN -_/PUNCT das_/DET Stativ_/NOUN deiner_/DET Beine_/NOUN eingerastet_/VERB\n",
      "weil das Auge zuerst bricht der Körper will sich ja schließen, Verdruss und Krankheit, die Witwe, Göttin aus der Maschine, die Zigeunerspielkarten Zigeunerkarten plötzlich aus der Brusttasche Tasche gezogen, dreimal abheben abgehoben, linkshändig, die Rosalia sichtbar zu machen, rufst du, bewaldet, wir essen kleine Drachen, den Mond, das Land ist Löwe, viel Hitze, Pompeji, nur Kälberleib, Bekröter sogar, Wahrträume, wie mit vielen Augen von jeder Pfütze getrunken, (der Dürer!) und Überschwemmungen Werktreue? rufe ich aus den aufgeschlagenen Karten Beständigkeit, Treue, gelesen Treue, Beständigkeit, aus den Karten gelesen, schnarrendes Maulhorn, Werktreue rufe ich, Krankheit, Verdruss alles verflochten, aber es ist kein Schatz zugegen, mein Gaumen krümmt sich, die Vögel picken zuerst die menschlichen Augen aus eingerastet ist das längst Stativ deiner Beine, verkappte Schläfe, Asche sein unter dem Kinn unter der Zunge mit Kappe, Oktoberschatten Oktoberkeule, und -schatten - wo die Schatten einander entgegen sind\n",
      "['weil_/SCONJ', 'das_/DET', 'Auge_/NOUN', 'zuerst_/ADV', 'bricht_/VERB', 'der_/DET', 'Körper_/NOUN', 'will_/AUX', 'sich_/PRON', 'ja_/ADV', 'schließen_/VERB', ',_/PUNCT', 'Verdruss_/NOUN', 'und_/CCONJ', 'Krankheit_/NOUN', ',_/PUNCT', 'die_/DET', 'Witwe_/NOUN', ',_/PUNCT', 'Göttin_/NOUN', 'aus_/ADP', 'der_/DET', 'Maschine_/NOUN', ',_/PUNCT', 'die_/DET', 'Zigeunerspielkarten_/NOUN', 'Zigeunerkarten_/NOUN', 'plötzlich_/ADV', 'aus_/ADP', 'der_/DET', 'Brusttasche_/NOUN', 'Tasche_/NOUN', 'gezogen_/VERB', ',_/PUNCT', 'dreimal_/ADV', 'abheben_/VERB', 'abgehoben_/VERB', ',_/PUNCT', 'linkshändig_/ADV', ',_/PUNCT', 'die_/DET', 'Rosalia_/PROPN', 'sichtbar_/ADV', 'zu_/PART', 'machen_/VERB', ',_/PUNCT', 'rufst_/VERB', 'du_/PRON', ',_/PUNCT', 'bewaldet_/ADV', ',_/PUNCT', 'wir_/PRON', 'essen_/VERB', 'kleine_/ADJ', 'Drachen_/NOUN', ',_/PUNCT', 'den_/DET', 'Mond_/NOUN', ',_/PUNCT', 'das_/DET', 'Land_/NOUN', 'ist_/AUX', 'Löwe_/NOUN', ',_/PUNCT', 'viel_/DET', 'Hitze_/NOUN', ',_/PUNCT', 'Pompeji_/PROPN', ',_/PUNCT', 'nur_/ADV', 'Kälberleib_/NOUN', ',_/PUNCT', 'Bekröter_/NOUN', 'sogar_/ADV', ',_/PUNCT', 'Wahrträume_/NOUN', ',_/PUNCT', 'wie_/ADP', 'mit_/ADP', 'vielen_/DET', 'Augen_/NOUN', 'von_/ADP', 'jeder_/DET', 'Pfütze_/NOUN', 'getrunken_/VERB', ',_/PUNCT', '(_/PUNCT', 'der_/DET', 'Dürer_/PROPN', '!_/PUNCT', ')_/PUNCT', 'und_/CCONJ', 'Überschwemmungen_/NOUN', 'Werktreue_/NOUN', '?_/PUNCT', 'rufe_/VERB', 'ich_/PRON', 'aus_/ADP', 'den_/DET', 'aufgeschlagenen_/ADJ', 'Karten_/NOUN', 'Beständigkeit_/NOUN', ',_/PUNCT', 'Treue_/NOUN', ',_/PUNCT', 'gelesen_/VERB', 'Treue_/NOUN', ',_/PUNCT', 'Beständigkeit_/NOUN', ',_/PUNCT', 'aus_/ADP', 'den_/DET', 'Karten_/NOUN', 'gelesen_/VERB', ',_/PUNCT', 'schnarrendes_/ADJ', 'Maulhorn_/NOUN', ',_/PUNCT', 'Werktreue_/NOUN', 'rufe_/VERB', 'ich_/PRON', ',_/PUNCT', 'Krankheit_/NOUN', ',_/PUNCT', 'Verdruss_/NOUN', 'alles_/PRON', 'verflochten_/VERB', ',_/PUNCT', 'aber_/CCONJ', 'es_/PRON', 'ist_/AUX', 'kein_/DET', 'Schatz_/NOUN', 'zugegen_/VERB', ',_/PUNCT', 'mein_/DET', 'Gaumen_/NOUN', 'krümmt_/VERB', 'sich_/PRON', ',_/PUNCT', 'die_/DET', 'Vögel_/NOUN', 'picken_/VERB', 'zuerst_/ADV', 'die_/DET', 'menschlichen_/ADJ', 'Augen_/NOUN', 'aus_/ADP', 'eingerastet_/VERB', 'ist_/AUX', 'das_/DET', 'längst_/ADV', 'Stativ_/NOUN', 'deiner_/DET', 'Beine_/NOUN', ',_/PUNCT', 'verkappte_/ADJ', 'Schläfe_/NOUN', ',_/PUNCT', 'Asche_/NOUN', 'sein_/AUX', 'unter_/ADP', 'dem_/DET', 'Kinn_/NOUN', 'unter_/ADP', 'der_/DET', 'Zunge_/NOUN', 'mit_/ADP', 'Kappe_/NOUN', ',_/PUNCT', 'Oktoberschatten_/NOUN', 'Oktoberkeule_/NOUN', ',_/PUNCT', 'und_/CCONJ', '-schatten_/NOUN', '-_/PUNCT', 'wo_/SCONJ', 'die_/DET', 'Schatten_/NOUN', 'einander_/PRON', 'entgegen_/ADP', 'sind_/AUX']\n",
      "weil_/SCONJ das_/DET Auge_/NOUN zuerst_/ADV bricht_/VERB der_/DET Körper_/NOUN will_/AUX sich_/PRON ja_/ADV schließen_/VERB ,_/PUNCT Verdruss_/NOUN und_/CCONJ Krankheit_/NOUN ,_/PUNCT die_/DET Witwe_/NOUN ,_/PUNCT Göttin_/NOUN aus_/ADP der_/DET Maschine_/NOUN ,_/PUNCT die_/DET Zigeunerspielkarten_/NOUN Zigeunerkarten_/NOUN plötzlich_/ADV aus_/ADP der_/DET Brusttasche_/NOUN Tasche_/NOUN gezogen_/VERB ,_/PUNCT dreimal_/ADV abheben_/VERB abgehoben_/VERB ,_/PUNCT linkshändig_/ADV ,_/PUNCT die_/DET Rosalia_/PROPN sichtbar_/ADV zu_/PART machen_/VERB ,_/PUNCT rufst_/VERB du_/PRON ,_/PUNCT bewaldet_/ADV ,_/PUNCT wir_/PRON essen_/VERB kleine_/ADJ Drachen_/NOUN ,_/PUNCT den_/DET Mond_/NOUN ,_/PUNCT das_/DET Land_/NOUN ist_/AUX Löwe_/NOUN ,_/PUNCT viel_/DET Hitze_/NOUN ,_/PUNCT Pompeji_/PROPN ,_/PUNCT nur_/ADV Kälberleib_/NOUN ,_/PUNCT Bekröter_/NOUN sogar_/ADV ,_/PUNCT Wahrträume_/NOUN ,_/PUNCT wie_/ADP mit_/ADP vielen_/DET Augen_/NOUN von_/ADP jeder_/DET Pfütze_/NOUN getrunken_/VERB ,_/PUNCT (_/PUNCT der_/DET Dürer_/PROPN !_/PUNCT )_/PUNCT und_/CCONJ Überschwemmungen_/NOUN Werktreue_/NOUN ?_/PUNCT rufe_/VERB ich_/PRON aus_/ADP den_/DET aufgeschlagenen_/ADJ Karten_/NOUN Beständigkeit_/NOUN ,_/PUNCT Treue_/NOUN ,_/PUNCT gelesen_/VERB Treue_/NOUN ,_/PUNCT Beständigkeit_/NOUN ,_/PUNCT aus_/ADP den_/DET Karten_/NOUN gelesen_/VERB ,_/PUNCT schnarrendes_/ADJ Maulhorn_/NOUN ,_/PUNCT Werktreue_/NOUN rufe_/VERB ich_/PRON ,_/PUNCT Krankheit_/NOUN ,_/PUNCT Verdruss_/NOUN alles_/PRON verflochten_/VERB ,_/PUNCT aber_/CCONJ es_/PRON ist_/AUX kein_/DET Schatz_/NOUN zugegen_/VERB ,_/PUNCT mein_/DET Gaumen_/NOUN krümmt_/VERB sich_/PRON ,_/PUNCT die_/DET Vögel_/NOUN picken_/VERB zuerst_/ADV die_/DET menschlichen_/ADJ Augen_/NOUN aus_/ADP eingerastet_/VERB ist_/AUX das_/DET längst_/ADV Stativ_/NOUN deiner_/DET Beine_/NOUN ,_/PUNCT verkappte_/ADJ Schläfe_/NOUN ,_/PUNCT Asche_/NOUN sein_/AUX unter_/ADP dem_/DET Kinn_/NOUN unter_/ADP der_/DET Zunge_/NOUN mit_/ADP Kappe_/NOUN ,_/PUNCT Oktoberschatten_/NOUN Oktoberkeule_/NOUN ,_/PUNCT und_/CCONJ -schatten_/NOUN -_/PUNCT wo_/SCONJ die_/DET Schatten_/NOUN einander_/PRON entgegen_/ADP sind_/AUX\n",
      "weil das Auge zuerst bricht der Körper will sich ja schließen, rufst du, Verdruss und Krankheit, die Witwe, Göttin aus der Maschine, die grünen Spielkarten plötzlich aus der Tasche gezogen, gemischt, dreimal abheben! linkshändig! die Rosalia sichtbar zu machen! bewaldet! wir essen bewaldet! wir essen kleine Drachen, den Mond, das Land ist Löwe, viel Hitze, Pompeji, Kälberleib. Bekröter sogar, Wahrträume wie mit vielen Augen von jeder Pfütze getrunken, die Vögel picken zuerst das menschliche Auge aus, alles verflochten Werktreue? rufe ich, Krankheit Verdruss, mein Gaumen krümmt sich, Beständigkeit, Treue aus den Karten gelesen Krankheit, Verdruss alles verflochten, aber es ist kein Schatz zugegen, Beständigkeit Treue, aus den Karten gelesen, Werktreue? rufe ich, aber es ist kein Schatz zugegen, Asche sein, Stativ deiner Beine, alles verflochten, das Stativ deiner Beine / unter dem Kinn unter der Zunge, schnarrendes Maulhorn, Schläfe mit Kappe, verkappte Schläfe Oktoberkeule Oktober keule, und -schatten / wo die unsere Schatten einander entgegen sind\n",
      "['weil_/SCONJ', 'das_/DET', 'Auge_/NOUN', 'zuerst_/ADV', 'bricht_/VERB', 'der_/DET', 'Körper_/NOUN', 'will_/AUX', 'sich_/PRON', 'ja_/ADV', 'schließen_/VERB', ',_/PUNCT', 'rufst_/VERB', 'du_/PRON', ',_/PUNCT', 'Verdruss_/NOUN', 'und_/CCONJ', 'Krankheit_/NOUN', ',_/PUNCT', 'die_/DET', 'Witwe_/NOUN', ',_/PUNCT', 'Göttin_/NOUN', 'aus_/ADP', 'der_/DET', 'Maschine_/NOUN', ',_/PUNCT', 'die_/DET', 'grünen_/ADJ', 'Spielkarten_/NOUN', 'plötzlich_/ADV', 'aus_/ADP', 'der_/DET', 'Tasche_/NOUN', 'gezogen_/VERB', ',_/PUNCT', 'gemischt_/VERB', ',_/PUNCT', 'dreimal_/ADV', 'abheben_/VERB', '!_/PUNCT', 'linkshändig_/ADV', '!_/PUNCT', 'die_/DET', 'Rosalia_/PROPN', 'sichtbar_/ADV', 'zu_/PART', 'machen_/VERB', '!_/PUNCT', 'bewaldet_/VERB', '!_/PUNCT', 'wir_/PRON', 'essen_/VERB', 'bewaldet_/ADV', '!_/PUNCT', 'wir_/PRON', 'essen_/VERB', 'kleine_/ADJ', 'Drachen_/NOUN', ',_/PUNCT', 'den_/DET', 'Mond_/NOUN', ',_/PUNCT', 'das_/DET', 'Land_/NOUN', 'ist_/AUX', 'Löwe_/NOUN', ',_/PUNCT', 'viel_/DET', 'Hitze_/NOUN', ',_/PUNCT', 'Pompeji_/PROPN', ',_/PUNCT', 'Kälberleib_/NOUN', '._/PUNCT', 'Bekröter_/NOUN', 'sogar_/ADV', ',_/PUNCT', 'Wahrträume_/NOUN', 'wie_/ADP', 'mit_/ADP', 'vielen_/DET', 'Augen_/NOUN', 'von_/ADP', 'jeder_/DET', 'Pfütze_/NOUN', 'getrunken_/VERB', ',_/PUNCT', 'die_/DET', 'Vögel_/NOUN', 'picken_/VERB', 'zuerst_/ADV', 'das_/DET', 'menschliche_/ADJ', 'Auge_/NOUN', 'aus_/ADP', ',_/PUNCT', 'alles_/PRON', 'verflochten_/ADV', 'Werktreue_/NOUN', '?_/PUNCT', 'rufe_/VERB', 'ich_/PRON', ',_/PUNCT', 'Krankheit_/NOUN', 'Verdruss_/NOUN', ',_/PUNCT', 'mein_/DET', 'Gaumen_/NOUN', 'krümmt_/VERB', 'sich_/PRON', ',_/PUNCT', 'Beständigkeit_/NOUN', ',_/PUNCT', 'Treue_/NOUN', 'aus_/ADP', 'den_/DET', 'Karten_/NOUN', 'gelesen_/VERB', 'Krankheit_/NOUN', ',_/PUNCT', 'Verdruss_/NOUN', 'alles_/PRON', 'verflochten_/ADV', ',_/PUNCT', 'aber_/CCONJ', 'es_/PRON', 'ist_/AUX', 'kein_/DET', 'Schatz_/NOUN', 'zugegen_/VERB', ',_/PUNCT', 'Beständigkeit_/NOUN', 'Treue_/NOUN', ',_/PUNCT', 'aus_/ADP', 'den_/DET', 'Karten_/NOUN', 'gelesen_/VERB', ',_/PUNCT', 'Werktreue_/NOUN', '?_/PUNCT', 'rufe_/VERB', 'ich_/PRON', ',_/PUNCT', 'aber_/CCONJ', 'es_/PRON', 'ist_/AUX', 'kein_/DET', 'Schatz_/NOUN', 'zugegen_/VERB', ',_/PUNCT', 'Asche_/NOUN', 'sein_/AUX', ',_/PUNCT', 'Stativ_/NOUN', 'deiner_/DET', 'Beine_/NOUN', ',_/PUNCT', 'alles_/PRON', 'verflochten_/ADV', ',_/PUNCT', 'das_/DET', 'Stativ_/NOUN', 'deiner_/DET', 'Beine_/NOUN', '/_/PUNCT', 'unter_/ADP', 'dem_/DET', 'Kinn_/NOUN', 'unter_/ADP', 'der_/DET', 'Zunge_/NOUN', ',_/PUNCT', 'schnarrendes_/ADJ', 'Maulhorn_/NOUN', ',_/PUNCT', 'Schläfe_/NOUN', 'mit_/ADP', 'Kappe_/NOUN', ',_/PUNCT', 'verkappte_/ADJ', 'Schläfe_/NOUN', 'Oktoberkeule_/NOUN', 'Oktober_/NOUN', 'keule_/NOUN', ',_/PUNCT', 'und_/CCONJ', '-schatten_/VERB', '/_/PUNCT', 'wo_/SCONJ', 'die_/DET', 'unsere_/DET', 'Schatten_/NOUN', 'einander_/PRON', 'entgegen_/ADP', 'sind_/AUX']\n",
      "weil_/SCONJ das_/DET Auge_/NOUN zuerst_/ADV bricht_/VERB der_/DET Körper_/NOUN will_/AUX sich_/PRON ja_/ADV schließen_/VERB ,_/PUNCT rufst_/VERB du_/PRON ,_/PUNCT Verdruss_/NOUN und_/CCONJ Krankheit_/NOUN ,_/PUNCT die_/DET Witwe_/NOUN ,_/PUNCT Göttin_/NOUN aus_/ADP der_/DET Maschine_/NOUN ,_/PUNCT die_/DET grünen_/ADJ Spielkarten_/NOUN plötzlich_/ADV aus_/ADP der_/DET Tasche_/NOUN gezogen_/VERB ,_/PUNCT gemischt_/VERB ,_/PUNCT dreimal_/ADV abheben_/VERB !_/PUNCT linkshändig_/ADV !_/PUNCT die_/DET Rosalia_/PROPN sichtbar_/ADV zu_/PART machen_/VERB !_/PUNCT bewaldet_/VERB !_/PUNCT wir_/PRON essen_/VERB bewaldet_/ADV !_/PUNCT wir_/PRON essen_/VERB kleine_/ADJ Drachen_/NOUN ,_/PUNCT den_/DET Mond_/NOUN ,_/PUNCT das_/DET Land_/NOUN ist_/AUX Löwe_/NOUN ,_/PUNCT viel_/DET Hitze_/NOUN ,_/PUNCT Pompeji_/PROPN ,_/PUNCT Kälberleib_/NOUN ._/PUNCT Bekröter_/NOUN sogar_/ADV ,_/PUNCT Wahrträume_/NOUN wie_/ADP mit_/ADP vielen_/DET Augen_/NOUN von_/ADP jeder_/DET Pfütze_/NOUN getrunken_/VERB ,_/PUNCT die_/DET Vögel_/NOUN picken_/VERB zuerst_/ADV das_/DET menschliche_/ADJ Auge_/NOUN aus_/ADP ,_/PUNCT alles_/PRON verflochten_/ADV Werktreue_/NOUN ?_/PUNCT rufe_/VERB ich_/PRON ,_/PUNCT Krankheit_/NOUN Verdruss_/NOUN ,_/PUNCT mein_/DET Gaumen_/NOUN krümmt_/VERB sich_/PRON ,_/PUNCT Beständigkeit_/NOUN ,_/PUNCT Treue_/NOUN aus_/ADP den_/DET Karten_/NOUN gelesen_/VERB Krankheit_/NOUN ,_/PUNCT Verdruss_/NOUN alles_/PRON verflochten_/ADV ,_/PUNCT aber_/CCONJ es_/PRON ist_/AUX kein_/DET Schatz_/NOUN zugegen_/VERB ,_/PUNCT Beständigkeit_/NOUN Treue_/NOUN ,_/PUNCT aus_/ADP den_/DET Karten_/NOUN gelesen_/VERB ,_/PUNCT Werktreue_/NOUN ?_/PUNCT rufe_/VERB ich_/PRON ,_/PUNCT aber_/CCONJ es_/PRON ist_/AUX kein_/DET Schatz_/NOUN zugegen_/VERB ,_/PUNCT Asche_/NOUN sein_/AUX ,_/PUNCT Stativ_/NOUN deiner_/DET Beine_/NOUN ,_/PUNCT alles_/PRON verflochten_/ADV ,_/PUNCT das_/DET Stativ_/NOUN deiner_/DET Beine_/NOUN /_/PUNCT unter_/ADP dem_/DET Kinn_/NOUN unter_/ADP der_/DET Zunge_/NOUN ,_/PUNCT schnarrendes_/ADJ Maulhorn_/NOUN ,_/PUNCT Schläfe_/NOUN mit_/ADP Kappe_/NOUN ,_/PUNCT verkappte_/ADJ Schläfe_/NOUN Oktoberkeule_/NOUN Oktober_/NOUN keule_/NOUN ,_/PUNCT und_/CCONJ -schatten_/VERB /_/PUNCT wo_/SCONJ die_/DET unsere_/DET Schatten_/NOUN einander_/PRON entgegen_/ADP sind_/AUX\n",
      "weil das Auge zuerst bricht der Körper will sich ja schließen, rufst du, Verdruss und Krankheit, die Witwe, Göttin aus der Maschine, die grünen Spielkarten plötzlich aus der Tasche gezogen, gemischt, dreimal abheben! linkshändig! die Rosalia sichtbar machen!, bewaldet / wir essen kleine Drachen, den Mond, das Land ist Löwe, viel Hitze, Pompeji, ein Kälberleib, Bekröter sogar, Wahrträume wie mit vielen Augen von jeder Pfütze getrunken, die Vögel picken zuerst das menschliche Auge aus, mein Gaumen sich alles verflochten, Krankheit, Verdruss aber es ist kein Schatz zugegen, Beständigkeit, Treue aus den Karten gelesen, Werktreue? rufe ich, unter der Zunge, unter dem Kinn, ein Stativ deiner Beine, Schläfe mit Kappe, Oktoberkeule, und schnarrendes Maulhorn, wo unsere Schatten einander entgegen sind\n",
      "['weil_/SCONJ', 'das_/DET', 'Auge_/NOUN', 'zuerst_/ADV', 'bricht_/VERB', 'der_/DET', 'Körper_/NOUN', 'will_/AUX', 'sich_/PRON', 'ja_/ADV', 'schließen_/VERB', ',_/PUNCT', 'rufst_/VERB', 'du_/PRON', ',_/PUNCT', 'Verdruss_/NOUN', 'und_/CCONJ', 'Krankheit_/NOUN', ',_/PUNCT', 'die_/DET', 'Witwe_/NOUN', ',_/PUNCT', 'Göttin_/NOUN', 'aus_/ADP', 'der_/DET', 'Maschine_/NOUN', ',_/PUNCT', 'die_/DET', 'grünen_/ADJ', 'Spielkarten_/NOUN', 'plötzlich_/ADV', 'aus_/ADP', 'der_/DET', 'Tasche_/NOUN', 'gezogen_/VERB', ',_/PUNCT', 'gemischt_/VERB', ',_/PUNCT', 'dreimal_/ADV', 'abheben_/VERB', '!_/PUNCT', 'linkshändig_/ADV', '!_/PUNCT', 'die_/PRON', 'Rosalia_/PROPN', 'sichtbar_/ADV', 'machen_/VERB', '!_/PUNCT', ',_/PUNCT', 'bewaldet_/VERB', '/_/PUNCT', 'wir_/PRON', 'essen_/VERB', 'kleine_/ADJ', 'Drachen_/NOUN', ',_/PUNCT', 'den_/DET', 'Mond_/NOUN', ',_/PUNCT', 'das_/DET', 'Land_/NOUN', 'ist_/AUX', 'Löwe_/NOUN', ',_/PUNCT', 'viel_/DET', 'Hitze_/NOUN', ',_/PUNCT', 'Pompeji_/PROPN', ',_/PUNCT', 'ein_/DET', 'Kälberleib_/NOUN', ',_/PUNCT', 'Bekröter_/NOUN', 'sogar_/ADV', ',_/PUNCT', 'Wahrträume_/NOUN', 'wie_/ADP', 'mit_/ADP', 'vielen_/DET', 'Augen_/NOUN', 'von_/ADP', 'jeder_/DET', 'Pfütze_/NOUN', 'getrunken_/VERB', ',_/PUNCT', 'die_/DET', 'Vögel_/NOUN', 'picken_/VERB', 'zuerst_/ADV', 'das_/DET', 'menschliche_/ADJ', 'Auge_/NOUN', 'aus_/ADP', ',_/PUNCT', 'mein_/DET', 'Gaumen_/NOUN', 'sich_/PRON', 'alles_/PRON', 'verflochten_/ADV', ',_/PUNCT', 'Krankheit_/NOUN', ',_/PUNCT', 'Verdruss_/NOUN', 'aber_/ADV', 'es_/PRON', 'ist_/AUX', 'kein_/DET', 'Schatz_/NOUN', 'zugegen_/VERB', ',_/PUNCT', 'Beständigkeit_/NOUN', ',_/PUNCT', 'Treue_/NOUN', 'aus_/ADP', 'den_/DET', 'Karten_/NOUN', 'gelesen_/VERB', ',_/PUNCT', 'Werktreue_/NOUN', '?_/PUNCT', 'rufe_/VERB', 'ich_/PRON', ',_/PUNCT', 'unter_/ADP', 'der_/DET', 'Zunge_/NOUN', ',_/PUNCT', 'unter_/ADP', 'dem_/DET', 'Kinn_/NOUN', ',_/PUNCT', 'ein_/DET', 'Stativ_/NOUN', 'deiner_/DET', 'Beine_/NOUN', ',_/PUNCT', 'Schläfe_/NOUN', 'mit_/ADP', 'Kappe_/NOUN', ',_/PUNCT', 'Oktoberkeule_/NOUN', ',_/PUNCT', 'und_/CCONJ', 'schnarrendes_/ADJ', 'Maulhorn_/NOUN', ',_/PUNCT', 'wo_/SCONJ', 'unsere_/DET', 'Schatten_/NOUN', 'einander_/PRON', 'entgegen_/ADP', 'sind_/AUX']\n",
      "weil_/SCONJ das_/DET Auge_/NOUN zuerst_/ADV bricht_/VERB der_/DET Körper_/NOUN will_/AUX sich_/PRON ja_/ADV schließen_/VERB ,_/PUNCT rufst_/VERB du_/PRON ,_/PUNCT Verdruss_/NOUN und_/CCONJ Krankheit_/NOUN ,_/PUNCT die_/DET Witwe_/NOUN ,_/PUNCT Göttin_/NOUN aus_/ADP der_/DET Maschine_/NOUN ,_/PUNCT die_/DET grünen_/ADJ Spielkarten_/NOUN plötzlich_/ADV aus_/ADP der_/DET Tasche_/NOUN gezogen_/VERB ,_/PUNCT gemischt_/VERB ,_/PUNCT dreimal_/ADV abheben_/VERB !_/PUNCT linkshändig_/ADV !_/PUNCT die_/PRON Rosalia_/PROPN sichtbar_/ADV machen_/VERB !_/PUNCT ,_/PUNCT bewaldet_/VERB /_/PUNCT wir_/PRON essen_/VERB kleine_/ADJ Drachen_/NOUN ,_/PUNCT den_/DET Mond_/NOUN ,_/PUNCT das_/DET Land_/NOUN ist_/AUX Löwe_/NOUN ,_/PUNCT viel_/DET Hitze_/NOUN ,_/PUNCT Pompeji_/PROPN ,_/PUNCT ein_/DET Kälberleib_/NOUN ,_/PUNCT Bekröter_/NOUN sogar_/ADV ,_/PUNCT Wahrträume_/NOUN wie_/ADP mit_/ADP vielen_/DET Augen_/NOUN von_/ADP jeder_/DET Pfütze_/NOUN getrunken_/VERB ,_/PUNCT die_/DET Vögel_/NOUN picken_/VERB zuerst_/ADV das_/DET menschliche_/ADJ Auge_/NOUN aus_/ADP ,_/PUNCT mein_/DET Gaumen_/NOUN sich_/PRON alles_/PRON verflochten_/ADV ,_/PUNCT Krankheit_/NOUN ,_/PUNCT Verdruss_/NOUN aber_/ADV es_/PRON ist_/AUX kein_/DET Schatz_/NOUN zugegen_/VERB ,_/PUNCT Beständigkeit_/NOUN ,_/PUNCT Treue_/NOUN aus_/ADP den_/DET Karten_/NOUN gelesen_/VERB ,_/PUNCT Werktreue_/NOUN ?_/PUNCT rufe_/VERB ich_/PRON ,_/PUNCT unter_/ADP der_/DET Zunge_/NOUN ,_/PUNCT unter_/ADP dem_/DET Kinn_/NOUN ,_/PUNCT ein_/DET Stativ_/NOUN deiner_/DET Beine_/NOUN ,_/PUNCT Schläfe_/NOUN mit_/ADP Kappe_/NOUN ,_/PUNCT Oktoberkeule_/NOUN ,_/PUNCT und_/CCONJ schnarrendes_/ADJ Maulhorn_/NOUN ,_/PUNCT wo_/SCONJ unsere_/DET Schatten_/NOUN einander_/PRON entgegen_/ADP sind_/AUX\n",
      "weil das Auge zuerst bricht der Körper will sich ja schließen, rufst du, Verdruss und Krankheit, die Witwe, Göttin aus der Maschine, die grünen Spielkarten plötzlich aus der Tasche gezogen, gemischt, dreimal abheben! linkshändig! die Rosalia sichtbar zu machen, bewaldet / wir essen kleine Drachen, den Mond, das Land ist Löwe, viel Hitze, Pompeji, ein Kälberleib, Bekröter sogar, Wahrträume wie mit vielen Augen von jeder Pfütze getrunken, die Vögel picken zuerst das menschliche Auge aus, alles verflochten, Krankheit, Verdruss, mein Gaumen krümmt sich, aber es ist kein Schatz zugegen, Treue, Beständigkeit, aus den Karten gelesen, Werktreue? rufe ich, Stativ Asche sein, Stativ Asche sein, Stativ deiner Beine, mein Gaumen krümmt sich, Schläfe mit Kappe unter der Zunge unter dem Kinn, Oktoberkeule, und schnarrendes Maulhorn, wo unsere Schatten einander entgegen sind\n",
      "['weil_/SCONJ', 'das_/DET', 'Auge_/NOUN', 'zuerst_/ADV', 'bricht_/VERB', 'der_/DET', 'Körper_/NOUN', 'will_/AUX', 'sich_/PRON', 'ja_/ADV', 'schließen_/VERB', ',_/PUNCT', 'rufst_/VERB', 'du_/PRON', ',_/PUNCT', 'Verdruss_/NOUN', 'und_/CCONJ', 'Krankheit_/NOUN', ',_/PUNCT', 'die_/DET', 'Witwe_/NOUN', ',_/PUNCT', 'Göttin_/NOUN', 'aus_/ADP', 'der_/DET', 'Maschine_/NOUN', ',_/PUNCT', 'die_/DET', 'grünen_/ADJ', 'Spielkarten_/NOUN', 'plötzlich_/ADV', 'aus_/ADP', 'der_/DET', 'Tasche_/NOUN', 'gezogen_/VERB', ',_/PUNCT', 'gemischt_/VERB', ',_/PUNCT', 'dreimal_/ADV', 'abheben_/VERB', '!_/PUNCT', 'linkshändig_/ADV', '!_/PUNCT', 'die_/DET', 'Rosalia_/PROPN', 'sichtbar_/ADV', 'zu_/PART', 'machen_/VERB', ',_/PUNCT', 'bewaldet_/VERB', '/_/PUNCT', 'wir_/PRON', 'essen_/VERB', 'kleine_/ADJ', 'Drachen_/NOUN', ',_/PUNCT', 'den_/DET', 'Mond_/NOUN', ',_/PUNCT', 'das_/DET', 'Land_/NOUN', 'ist_/AUX', 'Löwe_/NOUN', ',_/PUNCT', 'viel_/DET', 'Hitze_/NOUN', ',_/PUNCT', 'Pompeji_/PROPN', ',_/PUNCT', 'ein_/DET', 'Kälberleib_/NOUN', ',_/PUNCT', 'Bekröter_/NOUN', 'sogar_/ADV', ',_/PUNCT', 'Wahrträume_/NOUN', 'wie_/ADP', 'mit_/ADP', 'vielen_/DET', 'Augen_/NOUN', 'von_/ADP', 'jeder_/DET', 'Pfütze_/NOUN', 'getrunken_/VERB', ',_/PUNCT', 'die_/DET', 'Vögel_/NOUN', 'picken_/VERB', 'zuerst_/ADV', 'das_/DET', 'menschliche_/ADJ', 'Auge_/NOUN', 'aus_/ADP', ',_/PUNCT', 'alles_/PRON', 'verflochten_/ADV', ',_/PUNCT', 'Krankheit_/NOUN', ',_/PUNCT', 'Verdruss_/NOUN', ',_/PUNCT', 'mein_/DET', 'Gaumen_/NOUN', 'krümmt_/VERB', 'sich_/PRON', ',_/PUNCT', 'aber_/CCONJ', 'es_/PRON', 'ist_/AUX', 'kein_/DET', 'Schatz_/NOUN', 'zugegen_/VERB', ',_/PUNCT', 'Treue_/NOUN', ',_/PUNCT', 'Beständigkeit_/NOUN', ',_/PUNCT', 'aus_/ADP', 'den_/DET', 'Karten_/NOUN', 'gelesen_/VERB', ',_/PUNCT', 'Werktreue_/NOUN', '?_/PUNCT', 'rufe_/VERB', 'ich_/PRON', ',_/PUNCT', 'Stativ_/NOUN', 'Asche_/NOUN', 'sein_/AUX', ',_/PUNCT', 'Stativ_/NOUN', 'Asche_/NOUN', 'sein_/AUX', ',_/PUNCT', 'Stativ_/NOUN', 'deiner_/DET', 'Beine_/NOUN', ',_/PUNCT', 'mein_/DET', 'Gaumen_/NOUN', 'krümmt_/VERB', 'sich_/PRON', ',_/PUNCT', 'Schläfe_/NOUN', 'mit_/ADP', 'Kappe_/NOUN', 'unter_/ADP', 'der_/DET', 'Zunge_/NOUN', 'unter_/ADP', 'dem_/DET', 'Kinn_/NOUN', ',_/PUNCT', 'Oktoberkeule_/NOUN', ',_/PUNCT', 'und_/CCONJ', 'schnarrendes_/ADJ', 'Maulhorn_/NOUN', ',_/PUNCT', 'wo_/SCONJ', 'unsere_/DET', 'Schatten_/NOUN', 'einander_/PRON', 'entgegen_/ADV', 'sind_/AUX']\n",
      "weil_/SCONJ das_/DET Auge_/NOUN zuerst_/ADV bricht_/VERB der_/DET Körper_/NOUN will_/AUX sich_/PRON ja_/ADV schließen_/VERB ,_/PUNCT rufst_/VERB du_/PRON ,_/PUNCT Verdruss_/NOUN und_/CCONJ Krankheit_/NOUN ,_/PUNCT die_/DET Witwe_/NOUN ,_/PUNCT Göttin_/NOUN aus_/ADP der_/DET Maschine_/NOUN ,_/PUNCT die_/DET grünen_/ADJ Spielkarten_/NOUN plötzlich_/ADV aus_/ADP der_/DET Tasche_/NOUN gezogen_/VERB ,_/PUNCT gemischt_/VERB ,_/PUNCT dreimal_/ADV abheben_/VERB !_/PUNCT linkshändig_/ADV !_/PUNCT die_/DET Rosalia_/PROPN sichtbar_/ADV zu_/PART machen_/VERB ,_/PUNCT bewaldet_/VERB /_/PUNCT wir_/PRON essen_/VERB kleine_/ADJ Drachen_/NOUN ,_/PUNCT den_/DET Mond_/NOUN ,_/PUNCT das_/DET Land_/NOUN ist_/AUX Löwe_/NOUN ,_/PUNCT viel_/DET Hitze_/NOUN ,_/PUNCT Pompeji_/PROPN ,_/PUNCT ein_/DET Kälberleib_/NOUN ,_/PUNCT Bekröter_/NOUN sogar_/ADV ,_/PUNCT Wahrträume_/NOUN wie_/ADP mit_/ADP vielen_/DET Augen_/NOUN von_/ADP jeder_/DET Pfütze_/NOUN getrunken_/VERB ,_/PUNCT die_/DET Vögel_/NOUN picken_/VERB zuerst_/ADV das_/DET menschliche_/ADJ Auge_/NOUN aus_/ADP ,_/PUNCT alles_/PRON verflochten_/ADV ,_/PUNCT Krankheit_/NOUN ,_/PUNCT Verdruss_/NOUN ,_/PUNCT mein_/DET Gaumen_/NOUN krümmt_/VERB sich_/PRON ,_/PUNCT aber_/CCONJ es_/PRON ist_/AUX kein_/DET Schatz_/NOUN zugegen_/VERB ,_/PUNCT Treue_/NOUN ,_/PUNCT Beständigkeit_/NOUN ,_/PUNCT aus_/ADP den_/DET Karten_/NOUN gelesen_/VERB ,_/PUNCT Werktreue_/NOUN ?_/PUNCT rufe_/VERB ich_/PRON ,_/PUNCT Stativ_/NOUN Asche_/NOUN sein_/AUX ,_/PUNCT Stativ_/NOUN Asche_/NOUN sein_/AUX ,_/PUNCT Stativ_/NOUN deiner_/DET Beine_/NOUN ,_/PUNCT mein_/DET Gaumen_/NOUN krümmt_/VERB sich_/PRON ,_/PUNCT Schläfe_/NOUN mit_/ADP Kappe_/NOUN unter_/ADP der_/DET Zunge_/NOUN unter_/ADP dem_/DET Kinn_/NOUN ,_/PUNCT Oktoberkeule_/NOUN ,_/PUNCT und_/CCONJ schnarrendes_/ADJ Maulhorn_/NOUN ,_/PUNCT wo_/SCONJ unsere_/DET Schatten_/NOUN einander_/PRON entgegen_/ADV sind_/AUX\n",
      "weil das Auge zuerst bricht der Körper will sich ja schließen, rufst du, Verdruss und Krankheit, die Witwe, Göttin aus der Maschine, die grünen Zigeunerkarten Spielkarten plötzlich aus der Tasche gezogen, gemischt vermischt, dreimal abheben! linkshändig! die Rosalia sichtbar zu machen (bewaldet) / wir essen kleine Drachen, den Mond, das Land ist Löwe, viel voll Hitze, Pompeji, Kunstwellen ein Kälberleib, Bekröter sogar, Wahrträume wie mit vielen Augen von jeder Pfütze getrunken, die Vögel picken zuerst das menschliche Auge aus, alles verflochten, Krankheit, Verdruss, Säge des Laubs, mein Gaumen krümmt sich, aber es ist kein Schatz zugegen, die Treue, Beständigkeit aus den Karten gelesen, Werktreue? rufe ich, Asche sein, Stativ deiner Beine, Schläfe mit Kappe, unter der Zunge, unter dem Kinn, Oktoberkeule, und dein schnarrend schnarrendes Maulhorn / wo unsere Schatten einander entgegen sind\n",
      "['weil_/SCONJ', 'das_/DET', 'Auge_/NOUN', 'zuerst_/ADV', 'bricht_/VERB', 'der_/DET', 'Körper_/NOUN', 'will_/AUX', 'sich_/PRON', 'ja_/ADV', 'schließen_/VERB', ',_/PUNCT', 'rufst_/VERB', 'du_/PRON', ',_/PUNCT', 'Verdruss_/NOUN', 'und_/CCONJ', 'Krankheit_/NOUN', ',_/PUNCT', 'die_/DET', 'Witwe_/NOUN', ',_/PUNCT', 'Göttin_/NOUN', 'aus_/ADP', 'der_/DET', 'Maschine_/NOUN', ',_/PUNCT', 'die_/DET', 'grünen_/ADJ', 'Zigeunerkarten_/NOUN', 'Spielkarten_/NOUN', 'plötzlich_/ADV', 'aus_/ADP', 'der_/DET', 'Tasche_/NOUN', 'gezogen_/VERB', ',_/PUNCT', 'gemischt_/VERB', 'vermischt_/VERB', ',_/PUNCT', 'dreimal_/ADV', 'abheben_/VERB', '!_/PUNCT', 'linkshändig_/ADV', '!_/PUNCT', 'die_/DET', 'Rosalia_/PROPN', 'sichtbar_/ADV', 'zu_/PART', 'machen_/VERB', '(_/PUNCT', 'bewaldet_/ADV', ')_/PUNCT', '/_/PUNCT', 'wir_/PRON', 'essen_/VERB', 'kleine_/ADJ', 'Drachen_/NOUN', ',_/PUNCT', 'den_/DET', 'Mond_/NOUN', ',_/PUNCT', 'das_/DET', 'Land_/NOUN', 'ist_/AUX', 'Löwe_/NOUN', ',_/PUNCT', 'viel_/ADV', 'voll_/ADP', 'Hitze_/NOUN', ',_/PUNCT', 'Pompeji_/PROPN', ',_/PUNCT', 'Kunstwellen_/NOUN', 'ein_/DET', 'Kälberleib_/NOUN', ',_/PUNCT', 'Bekröter_/NOUN', 'sogar_/ADV', ',_/PUNCT', 'Wahrträume_/NOUN', 'wie_/ADP', 'mit_/ADP', 'vielen_/DET', 'Augen_/NOUN', 'von_/ADP', 'jeder_/DET', 'Pfütze_/NOUN', 'getrunken_/VERB', ',_/PUNCT', 'die_/DET', 'Vögel_/NOUN', 'picken_/VERB', 'zuerst_/ADV', 'das_/DET', 'menschliche_/ADJ', 'Auge_/NOUN', 'aus_/ADP', ',_/PUNCT', 'alles_/PRON', 'verflochten_/ADV', ',_/PUNCT', 'Krankheit_/NOUN', ',_/PUNCT', 'Verdruss_/NOUN', ',_/PUNCT', 'Säge_/NOUN', 'des_/DET', 'Laubs_/NOUN', ',_/PUNCT', 'mein_/DET', 'Gaumen_/NOUN', 'krümmt_/VERB', 'sich_/PRON', ',_/PUNCT', 'aber_/CCONJ', 'es_/PRON', 'ist_/AUX', 'kein_/DET', 'Schatz_/NOUN', 'zugegen_/VERB', ',_/PUNCT', 'die_/DET', 'Treue_/NOUN', ',_/PUNCT', 'Beständigkeit_/NOUN', 'aus_/ADP', 'den_/DET', 'Karten_/NOUN', 'gelesen_/VERB', ',_/PUNCT', 'Werktreue_/NOUN', '?_/PUNCT', 'rufe_/VERB', 'ich_/PRON', ',_/PUNCT', 'Asche_/NOUN', 'sein_/AUX', ',_/PUNCT', 'Stativ_/NOUN', 'deiner_/DET', 'Beine_/NOUN', ',_/PUNCT', 'Schläfe_/NOUN', 'mit_/ADP', 'Kappe_/NOUN', ',_/PUNCT', 'unter_/ADP', 'der_/DET', 'Zunge_/NOUN', ',_/PUNCT', 'unter_/ADP', 'dem_/DET', 'Kinn_/NOUN', ',_/PUNCT', 'Oktoberkeule_/NOUN', ',_/PUNCT', 'und_/CCONJ', 'dein_/DET', 'schnarrend_/ADV', 'schnarrendes_/ADJ', 'Maulhorn_/NOUN', '/_/PUNCT', 'wo_/SCONJ', 'unsere_/DET', 'Schatten_/NOUN', 'einander_/PRON', 'entgegen_/ADP', 'sind_/AUX']\n",
      "weil_/SCONJ das_/DET Auge_/NOUN zuerst_/ADV bricht_/VERB der_/DET Körper_/NOUN will_/AUX sich_/PRON ja_/ADV schließen_/VERB ,_/PUNCT rufst_/VERB du_/PRON ,_/PUNCT Verdruss_/NOUN und_/CCONJ Krankheit_/NOUN ,_/PUNCT die_/DET Witwe_/NOUN ,_/PUNCT Göttin_/NOUN aus_/ADP der_/DET Maschine_/NOUN ,_/PUNCT die_/DET grünen_/ADJ Zigeunerkarten_/NOUN Spielkarten_/NOUN plötzlich_/ADV aus_/ADP der_/DET Tasche_/NOUN gezogen_/VERB ,_/PUNCT gemischt_/VERB vermischt_/VERB ,_/PUNCT dreimal_/ADV abheben_/VERB !_/PUNCT linkshändig_/ADV !_/PUNCT die_/DET Rosalia_/PROPN sichtbar_/ADV zu_/PART machen_/VERB (_/PUNCT bewaldet_/ADV )_/PUNCT /_/PUNCT wir_/PRON essen_/VERB kleine_/ADJ Drachen_/NOUN ,_/PUNCT den_/DET Mond_/NOUN ,_/PUNCT das_/DET Land_/NOUN ist_/AUX Löwe_/NOUN ,_/PUNCT viel_/ADV voll_/ADP Hitze_/NOUN ,_/PUNCT Pompeji_/PROPN ,_/PUNCT Kunstwellen_/NOUN ein_/DET Kälberleib_/NOUN ,_/PUNCT Bekröter_/NOUN sogar_/ADV ,_/PUNCT Wahrträume_/NOUN wie_/ADP mit_/ADP vielen_/DET Augen_/NOUN von_/ADP jeder_/DET Pfütze_/NOUN getrunken_/VERB ,_/PUNCT die_/DET Vögel_/NOUN picken_/VERB zuerst_/ADV das_/DET menschliche_/ADJ Auge_/NOUN aus_/ADP ,_/PUNCT alles_/PRON verflochten_/ADV ,_/PUNCT Krankheit_/NOUN ,_/PUNCT Verdruss_/NOUN ,_/PUNCT Säge_/NOUN des_/DET Laubs_/NOUN ,_/PUNCT mein_/DET Gaumen_/NOUN krümmt_/VERB sich_/PRON ,_/PUNCT aber_/CCONJ es_/PRON ist_/AUX kein_/DET Schatz_/NOUN zugegen_/VERB ,_/PUNCT die_/DET Treue_/NOUN ,_/PUNCT Beständigkeit_/NOUN aus_/ADP den_/DET Karten_/NOUN gelesen_/VERB ,_/PUNCT Werktreue_/NOUN ?_/PUNCT rufe_/VERB ich_/PRON ,_/PUNCT Asche_/NOUN sein_/AUX ,_/PUNCT Stativ_/NOUN deiner_/DET Beine_/NOUN ,_/PUNCT Schläfe_/NOUN mit_/ADP Kappe_/NOUN ,_/PUNCT unter_/ADP der_/DET Zunge_/NOUN ,_/PUNCT unter_/ADP dem_/DET Kinn_/NOUN ,_/PUNCT Oktoberkeule_/NOUN ,_/PUNCT und_/CCONJ dein_/DET schnarrend_/ADV schnarrendes_/ADJ Maulhorn_/NOUN /_/PUNCT wo_/SCONJ unsere_/DET Schatten_/NOUN einander_/PRON entgegen_/ADP sind_/AUX\n",
      "vielleicht weil das Auge zuerst bricht der Körper will sich ja schließen! rufst du Verdruss und Krankheit der Witwe : Göttin aus der Maschine, die grünen Zigeunerkarten plötzlich aus der Tasche gezogen vermischt, dreimal abheben! linkshändig! die Rosalia sichtbar zu machen (bewaldet), wir essen kleine Drachen den Mond, das Land ist Löwe viel Hitze Pompeji Kunstwellen Kälberleib Bekröter sogar : Wahrträume - wie mit vielen Augen aus jeder Pfütze getrunken, die Vögel picken das menschliche Auge zuerst aus, alles verflochten Krankheit Verdruss Säge des Laubs, mein Gaumen krümmt sich aber es ist kein Schatz zugegen, die Treue Beständigkeit aus den Karten gelesen, Werktreue? rufe ich, Asche werden, Stativ deiner Beine, Schläfe mit Kappe, Oktoberkeule dein schnarrendes Maulhorn ach wo unsere Schatten einander entgegen sind -\n",
      "['vielleicht_/ADV', 'weil_/SCONJ', 'das_/DET', 'Auge_/NOUN', 'zuerst_/ADV', 'bricht_/VERB', 'der_/DET', 'Körper_/NOUN', 'will_/AUX', 'sich_/PRON', 'ja_/ADV', 'schließen_/VERB', '!_/PUNCT', 'rufst_/VERB', 'du_/PRON', 'Verdruss_/NOUN', 'und_/CCONJ', 'Krankheit_/NOUN', 'der_/DET', 'Witwe_/NOUN', ':_/PUNCT', 'Göttin_/NOUN', 'aus_/ADP', 'der_/DET', 'Maschine_/NOUN', ',_/PUNCT', 'die_/DET', 'grünen_/ADJ', 'Zigeunerkarten_/NOUN', 'plötzlich_/ADV', 'aus_/ADP', 'der_/DET', 'Tasche_/NOUN', 'gezogen_/VERB', 'vermischt_/VERB', ',_/PUNCT', 'dreimal_/ADV', 'abheben_/VERB', '!_/PUNCT', 'linkshändig_/ADV', '!_/PUNCT', 'die_/DET', 'Rosalia_/PROPN', 'sichtbar_/ADV', 'zu_/PART', 'machen_/VERB', '(_/PUNCT', 'bewaldet_/ADV', ')_/PUNCT', ',_/PUNCT', 'wir_/PRON', 'essen_/VERB', 'kleine_/ADJ', 'Drachen_/NOUN', 'den_/DET', 'Mond_/NOUN', ',_/PUNCT', 'das_/DET', 'Land_/NOUN', 'ist_/AUX', 'Löwe_/NOUN', 'viel_/DET', 'Hitze_/NOUN', 'Pompeji_/PROPN', 'Kunstwellen_/NOUN', 'Kälberleib_/NOUN', 'Bekröter_/NOUN', 'sogar_/ADV', ':_/PUNCT', 'Wahrträume_/NOUN', '-_/PUNCT', 'wie_/ADP', 'mit_/ADP', 'vielen_/DET', 'Augen_/NOUN', 'aus_/ADP', 'jeder_/DET', 'Pfütze_/NOUN', 'getrunken_/VERB', ',_/PUNCT', 'die_/DET', 'Vögel_/NOUN', 'picken_/VERB', 'das_/DET', 'menschliche_/ADJ', 'Auge_/NOUN', 'zuerst_/ADV', 'aus_/ADP', ',_/PUNCT', 'alles_/PRON', 'verflochten_/ADV', 'Krankheit_/NOUN', 'Verdruss_/NOUN', 'Säge_/NOUN', 'des_/DET', 'Laubs_/NOUN', ',_/PUNCT', 'mein_/DET', 'Gaumen_/NOUN', 'krümmt_/VERB', 'sich_/PRON', 'aber_/CCONJ', 'es_/PRON', 'ist_/AUX', 'kein_/DET', 'Schatz_/NOUN', 'zugegen_/VERB', ',_/PUNCT', 'die_/DET', 'Treue_/NOUN', 'Beständigkeit_/NOUN', 'aus_/ADP', 'den_/DET', 'Karten_/NOUN', 'gelesen_/VERB', ',_/PUNCT', 'Werktreue_/NOUN', '?_/PUNCT', 'rufe_/VERB', 'ich_/PRON', ',_/PUNCT', 'Asche_/NOUN', 'werden_/AUX', ',_/PUNCT', 'Stativ_/NOUN', 'deiner_/DET', 'Beine_/NOUN', ',_/PUNCT', 'Schläfe_/NOUN', 'mit_/ADP', 'Kappe_/NOUN', ',_/PUNCT', 'Oktoberkeule_/NOUN', 'dein_/DET', 'schnarrendes_/ADJ', 'Maulhorn_/NOUN', 'ach_/ADP', 'wo_/ADV', 'unsere_/DET', 'Schatten_/NOUN', 'einander_/PRON', 'entgegen_/ADV', 'sind_/AUX', '-_/PUNCT']\n",
      "vielleicht_/ADV weil_/SCONJ das_/DET Auge_/NOUN zuerst_/ADV bricht_/VERB der_/DET Körper_/NOUN will_/AUX sich_/PRON ja_/ADV schließen_/VERB !_/PUNCT rufst_/VERB du_/PRON Verdruss_/NOUN und_/CCONJ Krankheit_/NOUN der_/DET Witwe_/NOUN :_/PUNCT Göttin_/NOUN aus_/ADP der_/DET Maschine_/NOUN ,_/PUNCT die_/DET grünen_/ADJ Zigeunerkarten_/NOUN plötzlich_/ADV aus_/ADP der_/DET Tasche_/NOUN gezogen_/VERB vermischt_/VERB ,_/PUNCT dreimal_/ADV abheben_/VERB !_/PUNCT linkshändig_/ADV !_/PUNCT die_/DET Rosalia_/PROPN sichtbar_/ADV zu_/PART machen_/VERB (_/PUNCT bewaldet_/ADV )_/PUNCT ,_/PUNCT wir_/PRON essen_/VERB kleine_/ADJ Drachen_/NOUN den_/DET Mond_/NOUN ,_/PUNCT das_/DET Land_/NOUN ist_/AUX Löwe_/NOUN viel_/DET Hitze_/NOUN Pompeji_/PROPN Kunstwellen_/NOUN Kälberleib_/NOUN Bekröter_/NOUN sogar_/ADV :_/PUNCT Wahrträume_/NOUN -_/PUNCT wie_/ADP mit_/ADP vielen_/DET Augen_/NOUN aus_/ADP jeder_/DET Pfütze_/NOUN getrunken_/VERB ,_/PUNCT die_/DET Vögel_/NOUN picken_/VERB das_/DET menschliche_/ADJ Auge_/NOUN zuerst_/ADV aus_/ADP ,_/PUNCT alles_/PRON verflochten_/ADV Krankheit_/NOUN Verdruss_/NOUN Säge_/NOUN des_/DET Laubs_/NOUN ,_/PUNCT mein_/DET Gaumen_/NOUN krümmt_/VERB sich_/PRON aber_/CCONJ es_/PRON ist_/AUX kein_/DET Schatz_/NOUN zugegen_/VERB ,_/PUNCT die_/DET Treue_/NOUN Beständigkeit_/NOUN aus_/ADP den_/DET Karten_/NOUN gelesen_/VERB ,_/PUNCT Werktreue_/NOUN ?_/PUNCT rufe_/VERB ich_/PRON ,_/PUNCT Asche_/NOUN werden_/AUX ,_/PUNCT Stativ_/NOUN deiner_/DET Beine_/NOUN ,_/PUNCT Schläfe_/NOUN mit_/ADP Kappe_/NOUN ,_/PUNCT Oktoberkeule_/NOUN dein_/DET schnarrendes_/ADJ Maulhorn_/NOUN ach_/ADP wo_/ADV unsere_/DET Schatten_/NOUN einander_/PRON entgegen_/ADV sind_/AUX -_/PUNCT\n"
     ]
    }
   ],
   "source": [
    "\n",
    "for lg in linegroups: \n",
    "    for line in lg:\n",
    "        if line is not None and line.text:\n",
    "            line_text = line.text\n",
    "            line_text.replace(\"\\n\", \"\").replace(\"\\r\", \"\")\n",
    "            line_text = \" \".join(line_text.strip().split())\n",
    "            print(line_text)\n",
    "            doc = nlp(line_text)\n",
    "            \n",
    "            \n",
    "            new_line_text = []\n",
    "            for token in doc:\n",
    "                new_token = f\"{token.text}_/{token.pos_}\"\n",
    "                new_line_text.append(new_token)\n",
    "            \n",
    "            print(new_line_text)        \n",
    "            newlinetext = \" \".join(new_line_text)\n",
    "            print(newlinetext)\n",
    "    line.text = newlinetext\n",
    "    \n",
    "tree.write(\"output_pos_vwdazb_trf.xml\", encoding=\"utf-8\", xml_declaration=True)"
   ]
  },
  {
   "cell_type": "markdown",
   "id": "06e22c63-5a98-4190-add5-933ab17eee8f",
   "metadata": {},
   "source": [
    "##### als Tabelle speichern"
   ]
  },
  {
   "cell_type": "code",
   "execution_count": 10,
   "id": "7dea684d-2f8d-45d9-90c5-965bfaa3e9ca",
   "metadata": {},
   "outputs": [
    {
     "data": {
      "text/html": [
       "<div>\n",
       "<style scoped>\n",
       "    .dataframe tbody tr th:only-of-type {\n",
       "        vertical-align: middle;\n",
       "    }\n",
       "\n",
       "    .dataframe tbody tr th {\n",
       "        vertical-align: top;\n",
       "    }\n",
       "\n",
       "    .dataframe thead th {\n",
       "        text-align: right;\n",
       "    }\n",
       "</style>\n",
       "<table border=\"1\" class=\"dataframe\">\n",
       "  <thead>\n",
       "    <tr style=\"text-align: right;\">\n",
       "      <th></th>\n",
       "      <th>text</th>\n",
       "      <th>pos</th>\n",
       "    </tr>\n",
       "  </thead>\n",
       "  <tbody>\n",
       "    <tr>\n",
       "      <th>0</th>\n",
       "      <td>der</td>\n",
       "      <td>DET</td>\n",
       "    </tr>\n",
       "    <tr>\n",
       "      <th>1</th>\n",
       "      <td>Körper</td>\n",
       "      <td>NOUN</td>\n",
       "    </tr>\n",
       "    <tr>\n",
       "      <th>2</th>\n",
       "      <td>will</td>\n",
       "      <td>AUX</td>\n",
       "    </tr>\n",
       "    <tr>\n",
       "      <th>3</th>\n",
       "      <td>sich</td>\n",
       "      <td>PRON</td>\n",
       "    </tr>\n",
       "    <tr>\n",
       "      <th>4</th>\n",
       "      <td>ja</td>\n",
       "      <td>ADV</td>\n",
       "    </tr>\n",
       "    <tr>\n",
       "      <th>5</th>\n",
       "      <td>schließen</td>\n",
       "      <td>VERB</td>\n",
       "    </tr>\n",
       "    <tr>\n",
       "      <th>6</th>\n",
       "      <td>,</td>\n",
       "      <td>PUNCT</td>\n",
       "    </tr>\n",
       "    <tr>\n",
       "      <th>7</th>\n",
       "      <td>rufst</td>\n",
       "      <td>VERB</td>\n",
       "    </tr>\n",
       "    <tr>\n",
       "      <th>8</th>\n",
       "      <td>du</td>\n",
       "      <td>PRON</td>\n",
       "    </tr>\n",
       "    <tr>\n",
       "      <th>9</th>\n",
       "      <td>,</td>\n",
       "      <td>PUNCT</td>\n",
       "    </tr>\n",
       "  </tbody>\n",
       "</table>\n",
       "</div>"
      ],
      "text/plain": [
       "        text    pos\n",
       "0        der    DET\n",
       "1     Körper   NOUN\n",
       "2       will    AUX\n",
       "3       sich   PRON\n",
       "4         ja    ADV\n",
       "5  schließen   VERB\n",
       "6          ,  PUNCT\n",
       "7      rufst   VERB\n",
       "8         du   PRON\n",
       "9          ,  PUNCT"
      ]
     },
     "execution_count": 10,
     "metadata": {},
     "output_type": "execute_result"
    }
   ],
   "source": [
    "tree = etree.parse(\"C:/Users/jO/Desktop/DH_MA_Arbeit/coding/transkribiert_ohne-unclear-_vielleichtweil.xml\")\n",
    "linegroups = tree.xpath(\"//tei:lg\", namespaces={\"tei\": \"http://www.tei-c.org/ns/1.0\"})\n",
    "pos_info = []\n",
    "for lg in linegroups: \n",
    "    for line in lg:\n",
    "        if line is not None and line.text:\n",
    "            line_text = line.text\n",
    "            line_text.replace(\"\\n\", \"\").replace(\"\\r\", \"\")\n",
    "            line_text = \" \".join(line_text.strip().split())\n",
    "        #    print(line_text)\n",
    "            doc = nlp(line_text)\n",
    "            for token in doc:\n",
    "                pos_info.append({\n",
    "                    'text': token.text,\n",
    "                    'pos': token.pos_})\n",
    "\n",
    "\n",
    "pos_info_df = pd.DataFrame(pos_info)\n",
    "pos_info_df.to_csv('pos_info_vwdazb_trf.csv', index=False)\n",
    "pos_info_df.head(10)"
   ]
  },
  {
   "cell_type": "code",
   "execution_count": null,
   "id": "4868fcbd-62c3-43e0-98b4-6cf266587209",
   "metadata": {},
   "outputs": [],
   "source": []
  },
  {
   "cell_type": "markdown",
   "id": "18499568",
   "metadata": {},
   "source": [
    "#### Morphologie"
   ]
  },
  {
   "cell_type": "code",
   "execution_count": 7,
   "id": "e335984a-8f11-44f5-96c0-10887946b0be",
   "metadata": {
    "scrolled": true
   },
   "outputs": [],
   "source": [
    "nlp = spacy.load(\"de_dep_news_trf\")"
   ]
  },
  {
   "cell_type": "code",
   "execution_count": 8,
   "id": "7f0848e6-3303-48f5-985c-0ae81573c741",
   "metadata": {},
   "outputs": [],
   "source": [
    "tree = etree.parse(\"C:/Users/jO/Desktop/DH_MA_Arbeit/coding/transkribiert_ohne-unclear-_vielleichtweil.xml\")\n",
    "linegroups = tree.xpath(\"//tei:lg\", namespaces={\"tei\": \"http://www.tei-c.org/ns/1.0\"})"
   ]
  },
  {
   "cell_type": "code",
   "execution_count": 9,
   "id": "5dec59aa",
   "metadata": {
    "scrolled": true
   },
   "outputs": [
    {
     "name": "stdout",
     "output_type": "stream",
     "text": [
      "der Körper will sich ja schließen, rufst du, Verdruss und Krankheit als Göttin aus der Maschine (die Zigeunerspielkarten in der Brust, auf die Finger mit der linken Hand 3 mal geteilt Westentasche, ( oder als müssten wir erinnert werden dass wir nicht Götter sondern Menschen sind, die es nötig haben, die ihre Gedanken durch die Feder sichtbar zu machen,) die Rosalia sichtbar zu machen,) die Rosalia, bewaldet, wir essen kleine Drachen, den Mond, Asche sein, das Land ist Löwe, und viel Hitze, Pompeji ist verbrannt, nur Kälberleib, Bekröter sogar, Asche sein, jede Pfütze getrunken, (der Dürer) und Überschwemmungen, aus den aufgeschlagenen Karten, Treue, Beständigkeit, schnarrendes Maulhorn, Werktreue, rufe ich, gelesen, Säge des Laubs, Verdruss + Krankheit alles verflochten, aber es ist kein Schatz zugegen mein Gaumen krümmt sich, nämlich das Stativ deiner Beine (deiner Beine) plötzlich eingerastet, eingerastet, unter dem Kinn gelegen, unter der Zunge, verkappte Schläfe (mit Kappe) Oktoberkeule\n",
      "['der_/Case=Nom|Definite=Def|Gender=Masc|Number=Sing|PronType=Art', 'Körper_/Case=Nom|Gender=Masc|Number=Sing', 'will_/Mood=Ind|Number=Sing|Person=3|Tense=Pres|VerbForm=Fin', 'sich_/Case=Acc|Number=Sing|Person=3|PronType=Prs|Reflex=Yes', 'ja_/', 'schließen_/VerbForm=Inf', ',_/', 'rufst_/Mood=Ind|Number=Sing|Person=2|Tense=Pres|VerbForm=Fin', 'du_/Case=Nom|Number=Sing|Person=2|PronType=Prs', ',_/', 'Verdruss_/Case=Acc|Gender=Masc|Number=Sing', 'und_/', 'Krankheit_/Case=Nom|Gender=Fem|Number=Sing', 'als_/', 'Göttin_/Case=Nom|Gender=Fem|Number=Sing', 'aus_/', 'der_/Case=Dat|Definite=Def|Gender=Fem|Number=Sing|PronType=Art', 'Maschine_/Case=Dat|Gender=Fem|Number=Sing', '(_/', 'die_/Case=Acc|Definite=Def|Gender=Fem|Number=Plur|PronType=Art', 'Zigeunerspielkarten_/Case=Acc|Gender=Fem|Number=Plur', 'in_/', 'der_/Case=Dat|Definite=Def|Gender=Fem|Number=Sing|PronType=Art', 'Brust_/Case=Dat|Gender=Fem|Number=Sing', ',_/', 'auf_/', 'die_/Case=Acc|Definite=Def|Gender=Masc|Number=Plur|PronType=Art', 'Finger_/Case=Acc|Gender=Masc|Number=Plur', 'mit_/', 'der_/Case=Dat|Definite=Def|Gender=Fem|Number=Sing|PronType=Art', 'linken_/Case=Dat|Degree=Pos|Gender=Fem|Number=Sing', 'Hand_/Case=Dat|Gender=Fem|Number=Sing', '3_/', 'mal_/', 'geteilt_/VerbForm=Part', 'Westentasche_/Case=Nom|Gender=Fem|Number=Sing', ',_/', '(_/', 'oder_/', 'als_/', 'müssten_/Mood=Sub|Number=Plur|Person=1|Tense=Past|VerbForm=Fin', 'wir_/Case=Nom|Number=Plur|Person=1|PronType=Prs', 'erinnert_/VerbForm=Part', 'werden_/VerbForm=Inf', 'dass_/', 'wir_/Case=Nom|Number=Plur|Person=1|PronType=Prs', 'nicht_/', 'Götter_/Case=Nom|Gender=Masc|Number=Plur', 'sondern_/', 'Menschen_/Case=Nom|Gender=Masc|Number=Plur', 'sind_/Mood=Ind|Number=Plur|Person=1|Tense=Pres|VerbForm=Fin', ',_/', 'die_/Case=Nom|Gender=Masc|Number=Plur|PronType=Rel', 'es_/Case=Acc|Gender=Neut|Number=Sing|Person=3|PronType=Prs', 'nötig_/Degree=Pos', 'haben_/Mood=Ind|Number=Plur|Person=1|Tense=Pres|VerbForm=Fin', ',_/', 'die_/Case=Acc|Definite=Def|Gender=Masc|Number=Plur|PronType=Art', 'ihre_/Case=Acc|Gender=Masc|Number=Plur|Poss=Yes|PronType=Prs', 'Gedanken_/Case=Acc|Gender=Masc|Number=Plur', 'durch_/', 'die_/Case=Acc|Definite=Def|Gender=Fem|Number=Sing|PronType=Art', 'Feder_/Case=Acc|Gender=Fem|Number=Sing', 'sichtbar_/Degree=Pos', 'zu_/', 'machen_/VerbForm=Inf', ',_/', ')_/', 'die_/Case=Acc|Definite=Def|Gender=Fem|Number=Sing|PronType=Art', 'Rosalia_/Case=Acc|Gender=Fem|Number=Sing', 'sichtbar_/Degree=Pos', 'zu_/', 'machen_/VerbForm=Inf', ',_/', ')_/', 'die_/Case=Nom|Definite=Def|Gender=Fem|Number=Sing|PronType=Art', 'Rosalia_/Case=Nom|Gender=Fem|Number=Sing', ',_/', 'bewaldet_/Degree=Pos', ',_/', 'wir_/Case=Nom|Number=Plur|Person=1|PronType=Prs', 'essen_/Mood=Ind|Number=Plur|Person=1|Tense=Pres|VerbForm=Fin', 'kleine_/Case=Acc|Degree=Pos|Gender=Masc|Number=Plur', 'Drachen_/Case=Acc|Gender=Masc|Number=Plur', ',_/', 'den_/Case=Acc|Definite=Def|Gender=Masc|Number=Sing|PronType=Art', 'Mond_/Case=Acc|Gender=Masc|Number=Sing', ',_/', 'Asche_/Case=Acc|Gender=Fem|Number=Sing', 'sein_/VerbForm=Inf', ',_/', 'das_/Case=Nom|Definite=Def|Gender=Neut|Number=Sing|PronType=Art', 'Land_/Case=Nom|Gender=Neut|Number=Sing', 'ist_/Mood=Ind|Number=Sing|Person=3|Tense=Pres|VerbForm=Fin', 'Löwe_/Case=Nom|Gender=Masc|Number=Sing', ',_/', 'und_/', 'viel_/PronType=Ind', 'Hitze_/Case=Nom|Gender=Fem|Number=Sing', ',_/', 'Pompeji_/Case=Nom|Gender=Neut|Number=Sing', 'ist_/Mood=Ind|Number=Sing|Person=3|Tense=Pres|VerbForm=Fin', 'verbrannt_/VerbForm=Part', ',_/', 'nur_/', 'Kälberleib_/Case=Nom|Gender=Masc|Number=Sing', ',_/', 'Bekröter_/Case=Nom|Gender=Masc|Number=Sing', 'sogar_/', ',_/', 'Asche_/Case=Nom|Gender=Fem|Number=Sing', 'sein_/VerbForm=Inf', ',_/', 'jede_/Case=Nom|Gender=Fem|Number=Sing|PronType=Ind', 'Pfütze_/Case=Acc|Gender=Masc|Number=Plur', 'getrunken_/VerbForm=Part', ',_/', '(_/', 'der_/Case=Nom|Definite=Def|Gender=Masc|Number=Sing|PronType=Art', 'Dürer_/Case=Nom|Gender=Masc|Number=Sing', ')_/', 'und_/', 'Überschwemmungen_/Case=Dat|Gender=Fem|Number=Plur', ',_/', 'aus_/', 'den_/Case=Dat|Definite=Def|Gender=Fem|Number=Plur|PronType=Art', 'aufgeschlagenen_/Case=Dat|Degree=Pos|Gender=Fem|Number=Plur', 'Karten_/Case=Dat|Gender=Fem|Number=Plur', ',_/', 'Treue_/Case=Dat|Gender=Fem|Number=Sing', ',_/', 'Beständigkeit_/Case=Dat|Gender=Fem|Number=Sing', ',_/', 'schnarrendes_/Case=Nom|Degree=Pos|Gender=Neut|Number=Sing', 'Maulhorn_/Case=Nom|Gender=Neut|Number=Sing', ',_/', 'Werktreue_/Case=Dat|Gender=Fem|Number=Sing', ',_/', 'rufe_/Mood=Ind|Number=Sing|Person=1|Tense=Pres|VerbForm=Fin', 'ich_/Case=Nom|Number=Sing|Person=1|PronType=Prs', ',_/', 'gelesen_/VerbForm=Part', ',_/', 'Säge_/Case=Acc|Gender=Fem|Number=Sing', 'des_/Case=Gen|Definite=Def|Gender=Neut|Number=Sing|PronType=Art', 'Laubs_/Case=Gen|Gender=Neut|Number=Sing', ',_/', 'Verdruss_/Case=Nom|Gender=Masc|Number=Sing', '+_/', 'Krankheit_/Case=Acc|Gender=Fem|Number=Sing', 'alles_/Case=Acc|Gender=Neut|Number=Sing|PronType=Ind', 'verflochten_/VerbForm=Part', ',_/', 'aber_/', 'es_/Case=Nom|Gender=Neut|Number=Sing|Person=3|PronType=Prs', 'ist_/Mood=Ind|Number=Sing|Person=3|Tense=Pres|VerbForm=Fin', 'kein_/Case=Nom|Gender=Masc|Number=Sing|PronType=Ind', 'Schatz_/Case=Nom|Gender=Masc|Number=Sing', 'zugegen_/VerbForm=Part', 'mein_/Case=Nom|Gender=Masc|Number=Sing|Poss=Yes|PronType=Prs', 'Gaumen_/Case=Nom|Gender=Masc|Number=Sing', 'krümmt_/Mood=Ind|Number=Sing|Person=3|Tense=Pres|VerbForm=Fin', 'sich_/Case=Acc|Number=Sing|Person=3|PronType=Prs|Reflex=Yes', ',_/', 'nämlich_/', 'das_/Case=Acc|Definite=Def|Gender=Neut|Number=Sing|PronType=Art', 'Stativ_/Case=Acc|Gender=Neut|Number=Sing', 'deiner_/Case=Gen|Gender=Neut|Number=Plur|Poss=Yes|PronType=Prs', 'Beine_/Case=Gen|Gender=Neut|Number=Plur', '(_/', 'deiner_/Case=Gen|Gender=Neut|Number=Plur|Poss=Yes|PronType=Prs', 'Beine_/Case=Gen|Gender=Neut|Number=Plur', ')_/', 'plötzlich_/Degree=Pos', 'eingerastet_/VerbForm=Part', ',_/', 'eingerastet_/VerbForm=Part', ',_/', 'unter_/', 'dem_/Case=Dat|Definite=Def|Gender=Neut|Number=Sing|PronType=Art', 'Kinn_/Case=Dat|Gender=Neut|Number=Sing', 'gelegen_/VerbForm=Part', ',_/', 'unter_/', 'der_/Case=Dat|Definite=Def|Gender=Fem|Number=Sing|PronType=Art', 'Zunge_/Case=Dat|Gender=Fem|Number=Sing', ',_/', 'verkappte_/Case=Nom|Degree=Pos|Gender=Masc|Number=Plur', 'Schläfe_/Case=Nom|Gender=Masc|Number=Plur', '(_/', 'mit_/', 'Kappe_/Case=Dat|Gender=Fem|Number=Sing', ')_/', 'Oktoberkeule_/Case=Nom|Gender=Fem|Number=Sing']\n",
      "der_/Case=Nom|Definite=Def|Gender=Masc|Number=Sing|PronType=Art Körper_/Case=Nom|Gender=Masc|Number=Sing will_/Mood=Ind|Number=Sing|Person=3|Tense=Pres|VerbForm=Fin sich_/Case=Acc|Number=Sing|Person=3|PronType=Prs|Reflex=Yes ja_/ schließen_/VerbForm=Inf ,_/ rufst_/Mood=Ind|Number=Sing|Person=2|Tense=Pres|VerbForm=Fin du_/Case=Nom|Number=Sing|Person=2|PronType=Prs ,_/ Verdruss_/Case=Acc|Gender=Masc|Number=Sing und_/ Krankheit_/Case=Nom|Gender=Fem|Number=Sing als_/ Göttin_/Case=Nom|Gender=Fem|Number=Sing aus_/ der_/Case=Dat|Definite=Def|Gender=Fem|Number=Sing|PronType=Art Maschine_/Case=Dat|Gender=Fem|Number=Sing (_/ die_/Case=Acc|Definite=Def|Gender=Fem|Number=Plur|PronType=Art Zigeunerspielkarten_/Case=Acc|Gender=Fem|Number=Plur in_/ der_/Case=Dat|Definite=Def|Gender=Fem|Number=Sing|PronType=Art Brust_/Case=Dat|Gender=Fem|Number=Sing ,_/ auf_/ die_/Case=Acc|Definite=Def|Gender=Masc|Number=Plur|PronType=Art Finger_/Case=Acc|Gender=Masc|Number=Plur mit_/ der_/Case=Dat|Definite=Def|Gender=Fem|Number=Sing|PronType=Art linken_/Case=Dat|Degree=Pos|Gender=Fem|Number=Sing Hand_/Case=Dat|Gender=Fem|Number=Sing 3_/ mal_/ geteilt_/VerbForm=Part Westentasche_/Case=Nom|Gender=Fem|Number=Sing ,_/ (_/ oder_/ als_/ müssten_/Mood=Sub|Number=Plur|Person=1|Tense=Past|VerbForm=Fin wir_/Case=Nom|Number=Plur|Person=1|PronType=Prs erinnert_/VerbForm=Part werden_/VerbForm=Inf dass_/ wir_/Case=Nom|Number=Plur|Person=1|PronType=Prs nicht_/ Götter_/Case=Nom|Gender=Masc|Number=Plur sondern_/ Menschen_/Case=Nom|Gender=Masc|Number=Plur sind_/Mood=Ind|Number=Plur|Person=1|Tense=Pres|VerbForm=Fin ,_/ die_/Case=Nom|Gender=Masc|Number=Plur|PronType=Rel es_/Case=Acc|Gender=Neut|Number=Sing|Person=3|PronType=Prs nötig_/Degree=Pos haben_/Mood=Ind|Number=Plur|Person=1|Tense=Pres|VerbForm=Fin ,_/ die_/Case=Acc|Definite=Def|Gender=Masc|Number=Plur|PronType=Art ihre_/Case=Acc|Gender=Masc|Number=Plur|Poss=Yes|PronType=Prs Gedanken_/Case=Acc|Gender=Masc|Number=Plur durch_/ die_/Case=Acc|Definite=Def|Gender=Fem|Number=Sing|PronType=Art Feder_/Case=Acc|Gender=Fem|Number=Sing sichtbar_/Degree=Pos zu_/ machen_/VerbForm=Inf ,_/ )_/ die_/Case=Acc|Definite=Def|Gender=Fem|Number=Sing|PronType=Art Rosalia_/Case=Acc|Gender=Fem|Number=Sing sichtbar_/Degree=Pos zu_/ machen_/VerbForm=Inf ,_/ )_/ die_/Case=Nom|Definite=Def|Gender=Fem|Number=Sing|PronType=Art Rosalia_/Case=Nom|Gender=Fem|Number=Sing ,_/ bewaldet_/Degree=Pos ,_/ wir_/Case=Nom|Number=Plur|Person=1|PronType=Prs essen_/Mood=Ind|Number=Plur|Person=1|Tense=Pres|VerbForm=Fin kleine_/Case=Acc|Degree=Pos|Gender=Masc|Number=Plur Drachen_/Case=Acc|Gender=Masc|Number=Plur ,_/ den_/Case=Acc|Definite=Def|Gender=Masc|Number=Sing|PronType=Art Mond_/Case=Acc|Gender=Masc|Number=Sing ,_/ Asche_/Case=Acc|Gender=Fem|Number=Sing sein_/VerbForm=Inf ,_/ das_/Case=Nom|Definite=Def|Gender=Neut|Number=Sing|PronType=Art Land_/Case=Nom|Gender=Neut|Number=Sing ist_/Mood=Ind|Number=Sing|Person=3|Tense=Pres|VerbForm=Fin Löwe_/Case=Nom|Gender=Masc|Number=Sing ,_/ und_/ viel_/PronType=Ind Hitze_/Case=Nom|Gender=Fem|Number=Sing ,_/ Pompeji_/Case=Nom|Gender=Neut|Number=Sing ist_/Mood=Ind|Number=Sing|Person=3|Tense=Pres|VerbForm=Fin verbrannt_/VerbForm=Part ,_/ nur_/ Kälberleib_/Case=Nom|Gender=Masc|Number=Sing ,_/ Bekröter_/Case=Nom|Gender=Masc|Number=Sing sogar_/ ,_/ Asche_/Case=Nom|Gender=Fem|Number=Sing sein_/VerbForm=Inf ,_/ jede_/Case=Nom|Gender=Fem|Number=Sing|PronType=Ind Pfütze_/Case=Acc|Gender=Masc|Number=Plur getrunken_/VerbForm=Part ,_/ (_/ der_/Case=Nom|Definite=Def|Gender=Masc|Number=Sing|PronType=Art Dürer_/Case=Nom|Gender=Masc|Number=Sing )_/ und_/ Überschwemmungen_/Case=Dat|Gender=Fem|Number=Plur ,_/ aus_/ den_/Case=Dat|Definite=Def|Gender=Fem|Number=Plur|PronType=Art aufgeschlagenen_/Case=Dat|Degree=Pos|Gender=Fem|Number=Plur Karten_/Case=Dat|Gender=Fem|Number=Plur ,_/ Treue_/Case=Dat|Gender=Fem|Number=Sing ,_/ Beständigkeit_/Case=Dat|Gender=Fem|Number=Sing ,_/ schnarrendes_/Case=Nom|Degree=Pos|Gender=Neut|Number=Sing Maulhorn_/Case=Nom|Gender=Neut|Number=Sing ,_/ Werktreue_/Case=Dat|Gender=Fem|Number=Sing ,_/ rufe_/Mood=Ind|Number=Sing|Person=1|Tense=Pres|VerbForm=Fin ich_/Case=Nom|Number=Sing|Person=1|PronType=Prs ,_/ gelesen_/VerbForm=Part ,_/ Säge_/Case=Acc|Gender=Fem|Number=Sing des_/Case=Gen|Definite=Def|Gender=Neut|Number=Sing|PronType=Art Laubs_/Case=Gen|Gender=Neut|Number=Sing ,_/ Verdruss_/Case=Nom|Gender=Masc|Number=Sing +_/ Krankheit_/Case=Acc|Gender=Fem|Number=Sing alles_/Case=Acc|Gender=Neut|Number=Sing|PronType=Ind verflochten_/VerbForm=Part ,_/ aber_/ es_/Case=Nom|Gender=Neut|Number=Sing|Person=3|PronType=Prs ist_/Mood=Ind|Number=Sing|Person=3|Tense=Pres|VerbForm=Fin kein_/Case=Nom|Gender=Masc|Number=Sing|PronType=Ind Schatz_/Case=Nom|Gender=Masc|Number=Sing zugegen_/VerbForm=Part mein_/Case=Nom|Gender=Masc|Number=Sing|Poss=Yes|PronType=Prs Gaumen_/Case=Nom|Gender=Masc|Number=Sing krümmt_/Mood=Ind|Number=Sing|Person=3|Tense=Pres|VerbForm=Fin sich_/Case=Acc|Number=Sing|Person=3|PronType=Prs|Reflex=Yes ,_/ nämlich_/ das_/Case=Acc|Definite=Def|Gender=Neut|Number=Sing|PronType=Art Stativ_/Case=Acc|Gender=Neut|Number=Sing deiner_/Case=Gen|Gender=Neut|Number=Plur|Poss=Yes|PronType=Prs Beine_/Case=Gen|Gender=Neut|Number=Plur (_/ deiner_/Case=Gen|Gender=Neut|Number=Plur|Poss=Yes|PronType=Prs Beine_/Case=Gen|Gender=Neut|Number=Plur )_/ plötzlich_/Degree=Pos eingerastet_/VerbForm=Part ,_/ eingerastet_/VerbForm=Part ,_/ unter_/ dem_/Case=Dat|Definite=Def|Gender=Neut|Number=Sing|PronType=Art Kinn_/Case=Dat|Gender=Neut|Number=Sing gelegen_/VerbForm=Part ,_/ unter_/ der_/Case=Dat|Definite=Def|Gender=Fem|Number=Sing|PronType=Art Zunge_/Case=Dat|Gender=Fem|Number=Sing ,_/ verkappte_/Case=Nom|Degree=Pos|Gender=Masc|Number=Plur Schläfe_/Case=Nom|Gender=Masc|Number=Plur (_/ mit_/ Kappe_/Case=Dat|Gender=Fem|Number=Sing )_/ Oktoberkeule_/Case=Nom|Gender=Fem|Number=Sing\n",
      "Werktreue! der Körper will sich ja schließen rufst du, Verdruss und Krankheit, die Witwe, als Göttin aus der Maschine, die Zigeunerspielkarten aus in der Brusttasche, dreimal geteilt, mit der Linken linken Hand, die Rosalia sichtbar zu machen, bewaldet, wir essen kleine Drachen, den Mond, das Land ist Löwe, viel Hitze, Pompeji, (ist verbrannt), nur Kälberleib, Bekröter sogar, von jeder jede Pfütze getrunken, ( der Dürer ) (und Überschwemmungen), aus den aufgeschlagenen Karten Beständigkeit, Treue, gelesen, schnarrendes Maulhorn, Werktreue, !, rufe ich, Krankheit Verdruss, alles verflochten, aber es ist kein Schatz zugegen, mein Gaumen krümmt sich, das Stativ deiner seiner Beine eingerastet, verkappte Schläfe, mit Kappe, Oktoberkeule - das Stativ deiner Beine eingerastet\n",
      "['Werktreue_/Case=Nom|Gender=Fem|Number=Sing', '!_/', 'der_/Case=Nom|Definite=Def|Gender=Masc|Number=Sing|PronType=Art', 'Körper_/Case=Nom|Gender=Masc|Number=Sing', 'will_/Mood=Ind|Number=Sing|Person=3|Tense=Pres|VerbForm=Fin', 'sich_/Case=Acc|Number=Sing|Person=3|PronType=Prs|Reflex=Yes', 'ja_/', 'schließen_/VerbForm=Inf', 'rufst_/Mood=Ind|Number=Sing|Person=2|Tense=Pres|VerbForm=Fin', 'du_/Case=Nom|Number=Sing|Person=2|PronType=Prs', ',_/', 'Verdruss_/Case=Nom|Gender=Masc|Number=Sing', 'und_/', 'Krankheit_/Case=Nom|Gender=Fem|Number=Sing', ',_/', 'die_/Case=Nom|Definite=Def|Gender=Fem|Number=Sing|PronType=Art', 'Witwe_/Case=Nom|Gender=Fem|Number=Sing', ',_/', 'als_/', 'Göttin_/Case=Nom|Gender=Fem|Number=Sing', 'aus_/', 'der_/Case=Dat|Definite=Def|Gender=Fem|Number=Sing|PronType=Art', 'Maschine_/Case=Dat|Gender=Fem|Number=Sing', ',_/', 'die_/Case=Acc|Definite=Def|Gender=Fem|Number=Plur|PronType=Art', 'Zigeunerspielkarten_/Case=Acc|Gender=Fem|Number=Plur', 'aus_/', 'in_/', 'der_/Case=Dat|Definite=Def|Gender=Fem|Number=Sing|PronType=Art', 'Brusttasche_/Case=Dat|Gender=Fem|Number=Sing', ',_/', 'dreimal_/', 'geteilt_/VerbForm=Part', ',_/', 'mit_/', 'der_/Case=Dat|Definite=Def|Gender=Fem|Number=Sing|PronType=Art', 'Linken_/Case=Dat|Gender=Fem|Number=Sing', 'linken_/Case=Dat|Degree=Pos|Gender=Fem|Number=Sing', 'Hand_/Case=Dat|Gender=Fem|Number=Sing', ',_/', 'die_/Case=Acc|Definite=Def|Gender=Fem|Number=Sing|PronType=Art', 'Rosalia_/Case=Acc|Gender=Fem|Number=Sing', 'sichtbar_/Degree=Pos', 'zu_/', 'machen_/VerbForm=Inf', ',_/', 'bewaldet_/Degree=Pos', ',_/', 'wir_/Case=Nom|Number=Plur|Person=1|PronType=Prs', 'essen_/Mood=Ind|Number=Plur|Person=1|Tense=Pres|VerbForm=Fin', 'kleine_/Case=Acc|Degree=Pos|Gender=Masc|Number=Plur', 'Drachen_/Case=Acc|Gender=Masc|Number=Plur', ',_/', 'den_/Case=Acc|Definite=Def|Gender=Masc|Number=Sing|PronType=Art', 'Mond_/Case=Acc|Gender=Masc|Number=Sing', ',_/', 'das_/Case=Nom|Definite=Def|Gender=Neut|Number=Sing|PronType=Art', 'Land_/Case=Nom|Gender=Neut|Number=Sing', 'ist_/Mood=Ind|Number=Sing|Person=3|Tense=Pres|VerbForm=Fin', 'Löwe_/Case=Nom|Gender=Masc|Number=Sing', ',_/', 'viel_/PronType=Ind', 'Hitze_/Case=Nom|Gender=Fem|Number=Sing', ',_/', 'Pompeji_/Case=Nom|Gender=Neut|Number=Sing', ',_/', '(_/', 'ist_/Mood=Ind|Number=Sing|Person=3|Tense=Pres|VerbForm=Fin', 'verbrannt_/VerbForm=Part', ')_/', ',_/', 'nur_/', 'Kälberleib_/Case=Nom|Gender=Masc|Number=Sing', ',_/', 'Bekröter_/Case=Nom|Gender=Masc|Number=Sing', 'sogar_/', ',_/', 'von_/', 'jeder_/Case=Dat|Gender=Fem|Number=Sing|PronType=Ind', 'jede_/Case=Acc|Gender=Fem|Number=Sing|PronType=Ind', 'Pfütze_/Case=Acc|Gender=Fem|Number=Sing', 'getrunken_/VerbForm=Part', ',_/', '(_/', 'der_/Case=Nom|Definite=Def|Gender=Masc|Number=Sing|PronType=Art', 'Dürer_/Case=Nom|Gender=Masc|Number=Sing', ')_/', '(_/', 'und_/', 'Überschwemmungen_/Case=Nom|Gender=Fem|Number=Plur', ')_/', ',_/', 'aus_/', 'den_/Case=Dat|Definite=Def|Gender=Fem|Number=Plur|PronType=Art', 'aufgeschlagenen_/Case=Dat|Degree=Pos|Gender=Fem|Number=Plur', 'Karten_/Case=Dat|Gender=Fem|Number=Plur', 'Beständigkeit_/Case=Nom|Gender=Fem|Number=Sing', ',_/', 'Treue_/Case=Nom|Gender=Fem|Number=Sing', ',_/', 'gelesen_/VerbForm=Part', ',_/', 'schnarrendes_/Case=Nom|Degree=Pos|Gender=Neut|Number=Sing', 'Maulhorn_/Case=Nom|Gender=Neut|Number=Sing', ',_/', 'Werktreue_/Case=Nom|Gender=Fem|Number=Sing', ',_/', '!_/', ',_/', 'rufe_/Mood=Ind|Number=Sing|Person=1|Tense=Pres|VerbForm=Fin', 'ich_/Case=Nom|Number=Sing|Person=1|PronType=Prs', ',_/', 'Krankheit_/Case=Nom|Gender=Fem|Number=Sing', 'Verdruss_/Case=Nom|Gender=Masc|Number=Sing', ',_/', 'alles_/Case=Acc|Gender=Neut|Number=Sing|PronType=Ind', 'verflochten_/VerbForm=Part', ',_/', 'aber_/', 'es_/Case=Nom|Gender=Neut|Number=Sing|Person=3|PronType=Prs', 'ist_/Mood=Ind|Number=Sing|Person=3|Tense=Pres|VerbForm=Fin', 'kein_/Case=Nom|Gender=Masc|Number=Sing|PronType=Ind', 'Schatz_/Case=Nom|Gender=Masc|Number=Sing', 'zugegen_/VerbForm=Part', ',_/', 'mein_/Case=Nom|Gender=Masc|Number=Sing|Poss=Yes|PronType=Prs', 'Gaumen_/Case=Nom|Gender=Masc|Number=Sing', 'krümmt_/Mood=Ind|Number=Sing|Person=3|Tense=Pres|VerbForm=Fin', 'sich_/Case=Acc|Number=Sing|Person=3|PronType=Prs|Reflex=Yes', ',_/', 'das_/Case=Nom|Definite=Def|Gender=Neut|Number=Sing|PronType=Art', 'Stativ_/Case=Acc|Gender=Neut|Number=Sing', 'deiner_/Case=Gen|Gender=Neut|Number=Plur|Poss=Yes|PronType=Prs', 'seiner_/Case=Gen|Gender=Neut|Number=Plur|Poss=Yes|PronType=Prs', 'Beine_/Case=Gen|Gender=Neut|Number=Plur', 'eingerastet_/VerbForm=Part', ',_/', 'verkappte_/Case=Acc|Degree=Pos|Gender=Masc|Number=Plur', 'Schläfe_/Case=Acc|Gender=Masc|Number=Plur', ',_/', 'mit_/', 'Kappe_/Case=Dat|Gender=Fem|Number=Sing', ',_/', 'Oktoberkeule_/Case=Dat|Gender=Fem|Number=Sing', '-_/', 'das_/Case=Nom|Definite=Def|Gender=Neut|Number=Sing|PronType=Art', 'Stativ_/Case=Acc|Gender=Neut|Number=Sing', 'deiner_/Case=Gen|Gender=Neut|Number=Plur|Poss=Yes|PronType=Prs', 'Beine_/Case=Gen|Gender=Neut|Number=Plur', 'eingerastet_/VerbForm=Part']\n",
      "Werktreue_/Case=Nom|Gender=Fem|Number=Sing !_/ der_/Case=Nom|Definite=Def|Gender=Masc|Number=Sing|PronType=Art Körper_/Case=Nom|Gender=Masc|Number=Sing will_/Mood=Ind|Number=Sing|Person=3|Tense=Pres|VerbForm=Fin sich_/Case=Acc|Number=Sing|Person=3|PronType=Prs|Reflex=Yes ja_/ schließen_/VerbForm=Inf rufst_/Mood=Ind|Number=Sing|Person=2|Tense=Pres|VerbForm=Fin du_/Case=Nom|Number=Sing|Person=2|PronType=Prs ,_/ Verdruss_/Case=Nom|Gender=Masc|Number=Sing und_/ Krankheit_/Case=Nom|Gender=Fem|Number=Sing ,_/ die_/Case=Nom|Definite=Def|Gender=Fem|Number=Sing|PronType=Art Witwe_/Case=Nom|Gender=Fem|Number=Sing ,_/ als_/ Göttin_/Case=Nom|Gender=Fem|Number=Sing aus_/ der_/Case=Dat|Definite=Def|Gender=Fem|Number=Sing|PronType=Art Maschine_/Case=Dat|Gender=Fem|Number=Sing ,_/ die_/Case=Acc|Definite=Def|Gender=Fem|Number=Plur|PronType=Art Zigeunerspielkarten_/Case=Acc|Gender=Fem|Number=Plur aus_/ in_/ der_/Case=Dat|Definite=Def|Gender=Fem|Number=Sing|PronType=Art Brusttasche_/Case=Dat|Gender=Fem|Number=Sing ,_/ dreimal_/ geteilt_/VerbForm=Part ,_/ mit_/ der_/Case=Dat|Definite=Def|Gender=Fem|Number=Sing|PronType=Art Linken_/Case=Dat|Gender=Fem|Number=Sing linken_/Case=Dat|Degree=Pos|Gender=Fem|Number=Sing Hand_/Case=Dat|Gender=Fem|Number=Sing ,_/ die_/Case=Acc|Definite=Def|Gender=Fem|Number=Sing|PronType=Art Rosalia_/Case=Acc|Gender=Fem|Number=Sing sichtbar_/Degree=Pos zu_/ machen_/VerbForm=Inf ,_/ bewaldet_/Degree=Pos ,_/ wir_/Case=Nom|Number=Plur|Person=1|PronType=Prs essen_/Mood=Ind|Number=Plur|Person=1|Tense=Pres|VerbForm=Fin kleine_/Case=Acc|Degree=Pos|Gender=Masc|Number=Plur Drachen_/Case=Acc|Gender=Masc|Number=Plur ,_/ den_/Case=Acc|Definite=Def|Gender=Masc|Number=Sing|PronType=Art Mond_/Case=Acc|Gender=Masc|Number=Sing ,_/ das_/Case=Nom|Definite=Def|Gender=Neut|Number=Sing|PronType=Art Land_/Case=Nom|Gender=Neut|Number=Sing ist_/Mood=Ind|Number=Sing|Person=3|Tense=Pres|VerbForm=Fin Löwe_/Case=Nom|Gender=Masc|Number=Sing ,_/ viel_/PronType=Ind Hitze_/Case=Nom|Gender=Fem|Number=Sing ,_/ Pompeji_/Case=Nom|Gender=Neut|Number=Sing ,_/ (_/ ist_/Mood=Ind|Number=Sing|Person=3|Tense=Pres|VerbForm=Fin verbrannt_/VerbForm=Part )_/ ,_/ nur_/ Kälberleib_/Case=Nom|Gender=Masc|Number=Sing ,_/ Bekröter_/Case=Nom|Gender=Masc|Number=Sing sogar_/ ,_/ von_/ jeder_/Case=Dat|Gender=Fem|Number=Sing|PronType=Ind jede_/Case=Acc|Gender=Fem|Number=Sing|PronType=Ind Pfütze_/Case=Acc|Gender=Fem|Number=Sing getrunken_/VerbForm=Part ,_/ (_/ der_/Case=Nom|Definite=Def|Gender=Masc|Number=Sing|PronType=Art Dürer_/Case=Nom|Gender=Masc|Number=Sing )_/ (_/ und_/ Überschwemmungen_/Case=Nom|Gender=Fem|Number=Plur )_/ ,_/ aus_/ den_/Case=Dat|Definite=Def|Gender=Fem|Number=Plur|PronType=Art aufgeschlagenen_/Case=Dat|Degree=Pos|Gender=Fem|Number=Plur Karten_/Case=Dat|Gender=Fem|Number=Plur Beständigkeit_/Case=Nom|Gender=Fem|Number=Sing ,_/ Treue_/Case=Nom|Gender=Fem|Number=Sing ,_/ gelesen_/VerbForm=Part ,_/ schnarrendes_/Case=Nom|Degree=Pos|Gender=Neut|Number=Sing Maulhorn_/Case=Nom|Gender=Neut|Number=Sing ,_/ Werktreue_/Case=Nom|Gender=Fem|Number=Sing ,_/ !_/ ,_/ rufe_/Mood=Ind|Number=Sing|Person=1|Tense=Pres|VerbForm=Fin ich_/Case=Nom|Number=Sing|Person=1|PronType=Prs ,_/ Krankheit_/Case=Nom|Gender=Fem|Number=Sing Verdruss_/Case=Nom|Gender=Masc|Number=Sing ,_/ alles_/Case=Acc|Gender=Neut|Number=Sing|PronType=Ind verflochten_/VerbForm=Part ,_/ aber_/ es_/Case=Nom|Gender=Neut|Number=Sing|Person=3|PronType=Prs ist_/Mood=Ind|Number=Sing|Person=3|Tense=Pres|VerbForm=Fin kein_/Case=Nom|Gender=Masc|Number=Sing|PronType=Ind Schatz_/Case=Nom|Gender=Masc|Number=Sing zugegen_/VerbForm=Part ,_/ mein_/Case=Nom|Gender=Masc|Number=Sing|Poss=Yes|PronType=Prs Gaumen_/Case=Nom|Gender=Masc|Number=Sing krümmt_/Mood=Ind|Number=Sing|Person=3|Tense=Pres|VerbForm=Fin sich_/Case=Acc|Number=Sing|Person=3|PronType=Prs|Reflex=Yes ,_/ das_/Case=Nom|Definite=Def|Gender=Neut|Number=Sing|PronType=Art Stativ_/Case=Acc|Gender=Neut|Number=Sing deiner_/Case=Gen|Gender=Neut|Number=Plur|Poss=Yes|PronType=Prs seiner_/Case=Gen|Gender=Neut|Number=Plur|Poss=Yes|PronType=Prs Beine_/Case=Gen|Gender=Neut|Number=Plur eingerastet_/VerbForm=Part ,_/ verkappte_/Case=Acc|Degree=Pos|Gender=Masc|Number=Plur Schläfe_/Case=Acc|Gender=Masc|Number=Plur ,_/ mit_/ Kappe_/Case=Dat|Gender=Fem|Number=Sing ,_/ Oktoberkeule_/Case=Dat|Gender=Fem|Number=Sing -_/ das_/Case=Nom|Definite=Def|Gender=Neut|Number=Sing|PronType=Art Stativ_/Case=Acc|Gender=Neut|Number=Sing deiner_/Case=Gen|Gender=Neut|Number=Plur|Poss=Yes|PronType=Prs Beine_/Case=Gen|Gender=Neut|Number=Plur eingerastet_/VerbForm=Part\n",
      "weil das Auge zuerst bricht der Körper will sich ja schließen, Verdruss und Krankheit, die Witwe, Göttin aus der Maschine, die Zigeunerspielkarten Zigeunerkarten plötzlich aus der Brusttasche Tasche gezogen, dreimal abheben abgehoben, linkshändig, die Rosalia sichtbar zu machen, rufst du, bewaldet, wir essen kleine Drachen, den Mond, das Land ist Löwe, viel Hitze, Pompeji, nur Kälberleib, Bekröter sogar, Wahrträume, wie mit vielen Augen von jeder Pfütze getrunken, (der Dürer!) und Überschwemmungen Werktreue? rufe ich aus den aufgeschlagenen Karten Beständigkeit, Treue, gelesen Treue, Beständigkeit, aus den Karten gelesen, schnarrendes Maulhorn, Werktreue rufe ich, Krankheit, Verdruss alles verflochten, aber es ist kein Schatz zugegen, mein Gaumen krümmt sich, die Vögel picken zuerst die aus eingerastet ist das längst Stativ deiner Beine, verkappte Schläfe, Asche sein unter dem Kinn unter der Zunge mit Kappe, Oktoberschatten Oktoberkeule, und -schatten - wo die Schatten einander entgegen sind\n",
      "['weil_/', 'das_/Case=Nom|Definite=Def|Gender=Neut|Number=Sing|PronType=Art', 'Auge_/Case=Nom|Gender=Neut|Number=Sing', 'zuerst_/', 'bricht_/Mood=Ind|Number=Sing|Person=3|Tense=Pres|VerbForm=Fin', 'der_/Case=Nom|Definite=Def|Gender=Masc|Number=Sing|PronType=Art', 'Körper_/Case=Nom|Gender=Masc|Number=Sing', 'will_/Mood=Ind|Number=Sing|Person=3|Tense=Pres|VerbForm=Fin', 'sich_/Case=Acc|Number=Sing|Person=3|PronType=Prs|Reflex=Yes', 'ja_/', 'schließen_/VerbForm=Inf', ',_/', 'Verdruss_/Case=Nom|Gender=Masc|Number=Sing', 'und_/', 'Krankheit_/Case=Nom|Gender=Fem|Number=Sing', ',_/', 'die_/Case=Nom|Definite=Def|Gender=Fem|Number=Sing|PronType=Art', 'Witwe_/Case=Nom|Gender=Fem|Number=Sing', ',_/', 'Göttin_/Case=Nom|Gender=Fem|Number=Sing', 'aus_/', 'der_/Case=Dat|Definite=Def|Gender=Fem|Number=Sing|PronType=Art', 'Maschine_/Case=Dat|Gender=Fem|Number=Sing', ',_/', 'die_/Case=Nom|Definite=Def|Gender=Fem|Number=Plur|PronType=Art', 'Zigeunerspielkarten_/Case=Nom|Gender=Fem|Number=Plur', 'Zigeunerkarten_/Case=Acc|Gender=Fem|Number=Plur', 'plötzlich_/Degree=Pos', 'aus_/', 'der_/Case=Dat|Definite=Def|Gender=Fem|Number=Sing|PronType=Art', 'Brusttasche_/Case=Dat|Gender=Fem|Number=Sing', 'Tasche_/Case=Nom|Gender=Fem|Number=Sing', 'gezogen_/VerbForm=Part', ',_/', 'dreimal_/', 'abheben_/VerbForm=Inf', 'abgehoben_/VerbForm=Part', ',_/', 'linkshändig_/Degree=Pos', ',_/', 'die_/Case=Acc|Definite=Def|Gender=Fem|Number=Sing|PronType=Art', 'Rosalia_/Case=Acc|Gender=Fem|Number=Sing', 'sichtbar_/Degree=Pos', 'zu_/', 'machen_/VerbForm=Inf', ',_/', 'rufst_/Mood=Ind|Number=Sing|Person=2|Tense=Pres|VerbForm=Fin', 'du_/Case=Nom|Number=Sing|Person=2|PronType=Prs', ',_/', 'bewaldet_/Degree=Pos', ',_/', 'wir_/Case=Nom|Number=Plur|Person=1|PronType=Prs', 'essen_/Mood=Ind|Number=Plur|Person=1|Tense=Pres|VerbForm=Fin', 'kleine_/Case=Acc|Degree=Pos|Gender=Masc|Number=Plur', 'Drachen_/Case=Acc|Gender=Masc|Number=Plur', ',_/', 'den_/Case=Acc|Definite=Def|Gender=Masc|Number=Sing|PronType=Art', 'Mond_/Case=Acc|Gender=Masc|Number=Sing', ',_/', 'das_/Case=Nom|Definite=Def|Gender=Neut|Number=Sing|PronType=Art', 'Land_/Case=Nom|Gender=Neut|Number=Sing', 'ist_/Mood=Ind|Number=Sing|Person=3|Tense=Pres|VerbForm=Fin', 'Löwe_/Case=Nom|Gender=Masc|Number=Sing', ',_/', 'viel_/PronType=Ind', 'Hitze_/Case=Nom|Gender=Fem|Number=Sing', ',_/', 'Pompeji_/Case=Nom|Gender=Neut|Number=Sing', ',_/', 'nur_/', 'Kälberleib_/Case=Nom|Gender=Masc|Number=Sing', ',_/', 'Bekröter_/Case=Nom|Gender=Masc|Number=Sing', 'sogar_/', ',_/', 'Wahrträume_/Case=Acc|Gender=Masc|Number=Plur', ',_/', 'wie_/', 'mit_/', 'vielen_/Case=Dat|Gender=Neut|Number=Plur|PronType=Ind', 'Augen_/Case=Dat|Gender=Neut|Number=Plur', 'von_/', 'jeder_/Case=Dat|Gender=Fem|Number=Sing|PronType=Ind', 'Pfütze_/Case=Dat|Gender=Fem|Number=Sing', 'getrunken_/VerbForm=Part', ',_/', '(_/', 'der_/Case=Nom|Definite=Def|Gender=Masc|Number=Sing|PronType=Art', 'Dürer_/Case=Nom|Gender=Masc|Number=Sing', '!_/', ')_/', 'und_/', 'Überschwemmungen_/Case=Dat|Gender=Fem|Number=Plur', 'Werktreue_/Case=Nom|Gender=Fem|Number=Sing', '?_/', 'rufe_/Mood=Ind|Number=Sing|Person=1|Tense=Pres|VerbForm=Fin', 'ich_/Case=Nom|Number=Sing|Person=1|PronType=Prs', 'aus_/', 'den_/Case=Dat|Definite=Def|Gender=Fem|Number=Plur|PronType=Art', 'aufgeschlagenen_/Case=Dat|Degree=Pos|Gender=Fem|Number=Plur', 'Karten_/Case=Dat|Gender=Fem|Number=Plur', 'Beständigkeit_/Case=Nom|Gender=Fem|Number=Sing', ',_/', 'Treue_/Case=Nom|Gender=Fem|Number=Sing', ',_/', 'gelesen_/VerbForm=Part', 'Treue_/Case=Nom|Gender=Fem|Number=Sing', ',_/', 'Beständigkeit_/Case=Nom|Gender=Fem|Number=Sing', ',_/', 'aus_/', 'den_/Case=Dat|Definite=Def|Gender=Fem|Number=Plur|PronType=Art', 'Karten_/Case=Dat|Gender=Fem|Number=Plur', 'gelesen_/VerbForm=Part', ',_/', 'schnarrendes_/Case=Nom|Degree=Pos|Gender=Neut|Number=Sing', 'Maulhorn_/Case=Nom|Gender=Neut|Number=Sing', ',_/', 'Werktreue_/Case=Acc|Gender=Fem|Number=Sing', 'rufe_/Mood=Ind|Number=Sing|Person=1|Tense=Pres|VerbForm=Fin', 'ich_/Case=Nom|Number=Sing|Person=1|PronType=Prs', ',_/', 'Krankheit_/Case=Nom|Gender=Fem|Number=Sing', ',_/', 'Verdruss_/Case=Nom|Gender=Masc|Number=Sing', 'alles_/Case=Nom|Gender=Neut|Number=Sing|PronType=Ind', 'verflochten_/VerbForm=Part', ',_/', 'aber_/', 'es_/Case=Nom|Gender=Neut|Number=Sing|Person=3|PronType=Prs', 'ist_/Mood=Ind|Number=Sing|Person=3|Tense=Pres|VerbForm=Fin', 'kein_/Case=Nom|Gender=Masc|Number=Sing|PronType=Ind', 'Schatz_/Case=Nom|Gender=Masc|Number=Sing', 'zugegen_/VerbForm=Part', ',_/', 'mein_/Case=Nom|Gender=Masc|Number=Sing|Poss=Yes|PronType=Prs', 'Gaumen_/Case=Nom|Gender=Masc|Number=Sing', 'krümmt_/Mood=Ind|Number=Sing|Person=3|Tense=Pres|VerbForm=Fin', 'sich_/Case=Acc|Number=Sing|Person=3|PronType=Prs|Reflex=Yes', ',_/', 'die_/Case=Nom|Definite=Def|Gender=Masc|Number=Plur|PronType=Art', 'Vögel_/Case=Nom|Gender=Masc|Number=Plur', 'picken_/Mood=Ind|Number=Plur|Person=3|Tense=Pres|VerbForm=Fin', 'zuerst_/', 'die_/Case=Acc|Number=Plur|PronType=Dem', 'aus_/', 'eingerastet_/VerbForm=Part', 'ist_/Mood=Ind|Number=Sing|Person=3|Tense=Pres|VerbForm=Fin', 'das_/Case=Nom|Definite=Def|Gender=Neut|Number=Sing|PronType=Art', 'längst_/', 'Stativ_/Case=Nom|Gender=Neut|Number=Sing', 'deiner_/Case=Gen|Gender=Neut|Number=Plur|Poss=Yes|PronType=Prs', 'Beine_/Case=Gen|Gender=Neut|Number=Plur', ',_/', 'verkappte_/Case=Nom|Degree=Pos|Gender=Masc|Number=Plur', 'Schläfe_/Case=Nom|Gender=Masc|Number=Plur', ',_/', 'Asche_/Case=Nom|Gender=Fem|Number=Sing', 'sein_/VerbForm=Inf', 'unter_/', 'dem_/Case=Dat|Definite=Def|Gender=Neut|Number=Sing|PronType=Art', 'Kinn_/Case=Dat|Gender=Neut|Number=Sing', 'unter_/', 'der_/Case=Dat|Definite=Def|Gender=Fem|Number=Sing|PronType=Art', 'Zunge_/Case=Dat|Gender=Fem|Number=Sing', 'mit_/', 'Kappe_/Case=Dat|Gender=Fem|Number=Sing', ',_/', 'Oktoberschatten_/Case=Nom|Gender=Fem|Number=Plur', 'Oktoberkeule_/Case=Nom|Gender=Fem|Number=Sing', ',_/', 'und_/', '-schatten_/Case=Dat|Gender=Fem|Number=Plur', '-_/', 'wo_/PronType=Int', 'die_/Case=Nom|Definite=Def|Gender=Masc|Number=Plur|PronType=Art', 'Schatten_/Case=Nom|Gender=Masc|Number=Plur', 'einander_/Case=Dat|Number=Plur|Person=3|PronType=Prs|Reflex=Yes', 'entgegen_/', 'sind_/Mood=Ind|Number=Plur|Person=3|Tense=Pres|VerbForm=Fin']\n",
      "weil_/ das_/Case=Nom|Definite=Def|Gender=Neut|Number=Sing|PronType=Art Auge_/Case=Nom|Gender=Neut|Number=Sing zuerst_/ bricht_/Mood=Ind|Number=Sing|Person=3|Tense=Pres|VerbForm=Fin der_/Case=Nom|Definite=Def|Gender=Masc|Number=Sing|PronType=Art Körper_/Case=Nom|Gender=Masc|Number=Sing will_/Mood=Ind|Number=Sing|Person=3|Tense=Pres|VerbForm=Fin sich_/Case=Acc|Number=Sing|Person=3|PronType=Prs|Reflex=Yes ja_/ schließen_/VerbForm=Inf ,_/ Verdruss_/Case=Nom|Gender=Masc|Number=Sing und_/ Krankheit_/Case=Nom|Gender=Fem|Number=Sing ,_/ die_/Case=Nom|Definite=Def|Gender=Fem|Number=Sing|PronType=Art Witwe_/Case=Nom|Gender=Fem|Number=Sing ,_/ Göttin_/Case=Nom|Gender=Fem|Number=Sing aus_/ der_/Case=Dat|Definite=Def|Gender=Fem|Number=Sing|PronType=Art Maschine_/Case=Dat|Gender=Fem|Number=Sing ,_/ die_/Case=Nom|Definite=Def|Gender=Fem|Number=Plur|PronType=Art Zigeunerspielkarten_/Case=Nom|Gender=Fem|Number=Plur Zigeunerkarten_/Case=Acc|Gender=Fem|Number=Plur plötzlich_/Degree=Pos aus_/ der_/Case=Dat|Definite=Def|Gender=Fem|Number=Sing|PronType=Art Brusttasche_/Case=Dat|Gender=Fem|Number=Sing Tasche_/Case=Nom|Gender=Fem|Number=Sing gezogen_/VerbForm=Part ,_/ dreimal_/ abheben_/VerbForm=Inf abgehoben_/VerbForm=Part ,_/ linkshändig_/Degree=Pos ,_/ die_/Case=Acc|Definite=Def|Gender=Fem|Number=Sing|PronType=Art Rosalia_/Case=Acc|Gender=Fem|Number=Sing sichtbar_/Degree=Pos zu_/ machen_/VerbForm=Inf ,_/ rufst_/Mood=Ind|Number=Sing|Person=2|Tense=Pres|VerbForm=Fin du_/Case=Nom|Number=Sing|Person=2|PronType=Prs ,_/ bewaldet_/Degree=Pos ,_/ wir_/Case=Nom|Number=Plur|Person=1|PronType=Prs essen_/Mood=Ind|Number=Plur|Person=1|Tense=Pres|VerbForm=Fin kleine_/Case=Acc|Degree=Pos|Gender=Masc|Number=Plur Drachen_/Case=Acc|Gender=Masc|Number=Plur ,_/ den_/Case=Acc|Definite=Def|Gender=Masc|Number=Sing|PronType=Art Mond_/Case=Acc|Gender=Masc|Number=Sing ,_/ das_/Case=Nom|Definite=Def|Gender=Neut|Number=Sing|PronType=Art Land_/Case=Nom|Gender=Neut|Number=Sing ist_/Mood=Ind|Number=Sing|Person=3|Tense=Pres|VerbForm=Fin Löwe_/Case=Nom|Gender=Masc|Number=Sing ,_/ viel_/PronType=Ind Hitze_/Case=Nom|Gender=Fem|Number=Sing ,_/ Pompeji_/Case=Nom|Gender=Neut|Number=Sing ,_/ nur_/ Kälberleib_/Case=Nom|Gender=Masc|Number=Sing ,_/ Bekröter_/Case=Nom|Gender=Masc|Number=Sing sogar_/ ,_/ Wahrträume_/Case=Acc|Gender=Masc|Number=Plur ,_/ wie_/ mit_/ vielen_/Case=Dat|Gender=Neut|Number=Plur|PronType=Ind Augen_/Case=Dat|Gender=Neut|Number=Plur von_/ jeder_/Case=Dat|Gender=Fem|Number=Sing|PronType=Ind Pfütze_/Case=Dat|Gender=Fem|Number=Sing getrunken_/VerbForm=Part ,_/ (_/ der_/Case=Nom|Definite=Def|Gender=Masc|Number=Sing|PronType=Art Dürer_/Case=Nom|Gender=Masc|Number=Sing !_/ )_/ und_/ Überschwemmungen_/Case=Dat|Gender=Fem|Number=Plur Werktreue_/Case=Nom|Gender=Fem|Number=Sing ?_/ rufe_/Mood=Ind|Number=Sing|Person=1|Tense=Pres|VerbForm=Fin ich_/Case=Nom|Number=Sing|Person=1|PronType=Prs aus_/ den_/Case=Dat|Definite=Def|Gender=Fem|Number=Plur|PronType=Art aufgeschlagenen_/Case=Dat|Degree=Pos|Gender=Fem|Number=Plur Karten_/Case=Dat|Gender=Fem|Number=Plur Beständigkeit_/Case=Nom|Gender=Fem|Number=Sing ,_/ Treue_/Case=Nom|Gender=Fem|Number=Sing ,_/ gelesen_/VerbForm=Part Treue_/Case=Nom|Gender=Fem|Number=Sing ,_/ Beständigkeit_/Case=Nom|Gender=Fem|Number=Sing ,_/ aus_/ den_/Case=Dat|Definite=Def|Gender=Fem|Number=Plur|PronType=Art Karten_/Case=Dat|Gender=Fem|Number=Plur gelesen_/VerbForm=Part ,_/ schnarrendes_/Case=Nom|Degree=Pos|Gender=Neut|Number=Sing Maulhorn_/Case=Nom|Gender=Neut|Number=Sing ,_/ Werktreue_/Case=Acc|Gender=Fem|Number=Sing rufe_/Mood=Ind|Number=Sing|Person=1|Tense=Pres|VerbForm=Fin ich_/Case=Nom|Number=Sing|Person=1|PronType=Prs ,_/ Krankheit_/Case=Nom|Gender=Fem|Number=Sing ,_/ Verdruss_/Case=Nom|Gender=Masc|Number=Sing alles_/Case=Nom|Gender=Neut|Number=Sing|PronType=Ind verflochten_/VerbForm=Part ,_/ aber_/ es_/Case=Nom|Gender=Neut|Number=Sing|Person=3|PronType=Prs ist_/Mood=Ind|Number=Sing|Person=3|Tense=Pres|VerbForm=Fin kein_/Case=Nom|Gender=Masc|Number=Sing|PronType=Ind Schatz_/Case=Nom|Gender=Masc|Number=Sing zugegen_/VerbForm=Part ,_/ mein_/Case=Nom|Gender=Masc|Number=Sing|Poss=Yes|PronType=Prs Gaumen_/Case=Nom|Gender=Masc|Number=Sing krümmt_/Mood=Ind|Number=Sing|Person=3|Tense=Pres|VerbForm=Fin sich_/Case=Acc|Number=Sing|Person=3|PronType=Prs|Reflex=Yes ,_/ die_/Case=Nom|Definite=Def|Gender=Masc|Number=Plur|PronType=Art Vögel_/Case=Nom|Gender=Masc|Number=Plur picken_/Mood=Ind|Number=Plur|Person=3|Tense=Pres|VerbForm=Fin zuerst_/ die_/Case=Acc|Number=Plur|PronType=Dem aus_/ eingerastet_/VerbForm=Part ist_/Mood=Ind|Number=Sing|Person=3|Tense=Pres|VerbForm=Fin das_/Case=Nom|Definite=Def|Gender=Neut|Number=Sing|PronType=Art längst_/ Stativ_/Case=Nom|Gender=Neut|Number=Sing deiner_/Case=Gen|Gender=Neut|Number=Plur|Poss=Yes|PronType=Prs Beine_/Case=Gen|Gender=Neut|Number=Plur ,_/ verkappte_/Case=Nom|Degree=Pos|Gender=Masc|Number=Plur Schläfe_/Case=Nom|Gender=Masc|Number=Plur ,_/ Asche_/Case=Nom|Gender=Fem|Number=Sing sein_/VerbForm=Inf unter_/ dem_/Case=Dat|Definite=Def|Gender=Neut|Number=Sing|PronType=Art Kinn_/Case=Dat|Gender=Neut|Number=Sing unter_/ der_/Case=Dat|Definite=Def|Gender=Fem|Number=Sing|PronType=Art Zunge_/Case=Dat|Gender=Fem|Number=Sing mit_/ Kappe_/Case=Dat|Gender=Fem|Number=Sing ,_/ Oktoberschatten_/Case=Nom|Gender=Fem|Number=Plur Oktoberkeule_/Case=Nom|Gender=Fem|Number=Sing ,_/ und_/ -schatten_/Case=Dat|Gender=Fem|Number=Plur -_/ wo_/PronType=Int die_/Case=Nom|Definite=Def|Gender=Masc|Number=Plur|PronType=Art Schatten_/Case=Nom|Gender=Masc|Number=Plur einander_/Case=Dat|Number=Plur|Person=3|PronType=Prs|Reflex=Yes entgegen_/ sind_/Mood=Ind|Number=Plur|Person=3|Tense=Pres|VerbForm=Fin\n",
      "weil das Auge zuerst bricht der Körper will sich ja schließen, rufst du, Verdruss und Krankheit, die Witwe, Göttin aus der Maschine, die grünen Spielkarten plötzlich aus der Tasche gezogen, gemischt, dreimal abheben! linkshändig! die Rosalia sichtbar zu machen! bewaldet! wir essen bewaldet! wir essen kleine Drachen, den Mond, das Land ist Löwe, viel Hitze, Pompeji, Kälberleib. Bekröter sogar, Wahrträume wie mit vielen Augen von jeder Pfütze getrunken, die Vögel picken zuerst das menschliche Auge aus, alles verflochten Werktreue? rufe ich, Krankheit Verdruss, mein Gaumen krümmt sich, Beständigkeit, Treue aus den Karten gelesen Krankheit, Verdruss alles verflochten, aber es ist kein Schatz zugegen, Beständigkeit Treue, aus den Karten gelesen, Werktreue? rufe ich, aber es ist kein Schatz zugegen, Asche sein, Stativ deiner Beine, alles verflochten, das Stativ deiner Beine / unter dem Kinn unter der Zunge, schnarrendes Maulhorn, Schläfe mit Kappe, verkappte Schläfe Oktoberkeule Oktober keule, und -schatten / wo die unsere Schatten einander entgegen sind\n",
      "['weil_/', 'das_/Case=Nom|Definite=Def|Gender=Neut|Number=Sing|PronType=Art', 'Auge_/Case=Nom|Gender=Neut|Number=Sing', 'zuerst_/', 'bricht_/Mood=Ind|Number=Sing|Person=3|Tense=Pres|VerbForm=Fin', 'der_/Case=Nom|Definite=Def|Gender=Masc|Number=Sing|PronType=Art', 'Körper_/Case=Nom|Gender=Masc|Number=Sing', 'will_/Mood=Ind|Number=Sing|Person=3|Tense=Pres|VerbForm=Fin', 'sich_/Case=Acc|Number=Sing|Person=3|PronType=Prs|Reflex=Yes', 'ja_/', 'schließen_/VerbForm=Inf', ',_/', 'rufst_/Mood=Ind|Number=Sing|Person=2|Tense=Pres|VerbForm=Fin', 'du_/Case=Nom|Number=Sing|Person=2|PronType=Prs', ',_/', 'Verdruss_/Case=Nom|Gender=Masc|Number=Sing', 'und_/', 'Krankheit_/Case=Nom|Gender=Fem|Number=Sing', ',_/', 'die_/Case=Nom|Definite=Def|Gender=Fem|Number=Sing|PronType=Art', 'Witwe_/Case=Nom|Gender=Fem|Number=Sing', ',_/', 'Göttin_/Case=Nom|Gender=Fem|Number=Sing', 'aus_/', 'der_/Case=Dat|Definite=Def|Gender=Fem|Number=Sing|PronType=Art', 'Maschine_/Case=Dat|Gender=Fem|Number=Sing', ',_/', 'die_/Case=Acc|Definite=Def|Gender=Fem|Number=Plur|PronType=Art', 'grünen_/Case=Acc|Degree=Pos|Gender=Fem|Number=Plur', 'Spielkarten_/Case=Acc|Gender=Fem|Number=Plur', 'plötzlich_/Degree=Pos', 'aus_/', 'der_/Case=Dat|Definite=Def|Gender=Fem|Number=Sing|PronType=Art', 'Tasche_/Case=Dat|Gender=Fem|Number=Sing', 'gezogen_/VerbForm=Part', ',_/', 'gemischt_/VerbForm=Part', ',_/', 'dreimal_/', 'abheben_/VerbForm=Inf', '!_/', 'linkshändig_/Degree=Pos', '!_/', 'die_/Case=Acc|Definite=Def|Gender=Fem|Number=Sing|PronType=Art', 'Rosalia_/Case=Acc|Gender=Fem|Number=Sing', 'sichtbar_/Degree=Pos', 'zu_/', 'machen_/VerbForm=Inf', '!_/', 'bewaldet_/VerbForm=Part', '!_/', 'wir_/Case=Nom|Number=Plur|Person=1|PronType=Prs', 'essen_/Mood=Ind|Number=Plur|Person=1|Tense=Pres|VerbForm=Fin', 'bewaldet_/Degree=Pos', '!_/', 'wir_/Case=Nom|Number=Plur|Person=1|PronType=Prs', 'essen_/Mood=Ind|Number=Plur|Person=1|Tense=Pres|VerbForm=Fin', 'kleine_/Case=Acc|Degree=Pos|Gender=Masc|Number=Plur', 'Drachen_/Case=Acc|Gender=Masc|Number=Plur', ',_/', 'den_/Case=Acc|Definite=Def|Gender=Masc|Number=Sing|PronType=Art', 'Mond_/Case=Acc|Gender=Masc|Number=Sing', ',_/', 'das_/Case=Nom|Definite=Def|Gender=Neut|Number=Sing|PronType=Art', 'Land_/Case=Nom|Gender=Neut|Number=Sing', 'ist_/Mood=Ind|Number=Sing|Person=3|Tense=Pres|VerbForm=Fin', 'Löwe_/Case=Nom|Gender=Masc|Number=Sing', ',_/', 'viel_/PronType=Ind', 'Hitze_/Case=Nom|Gender=Fem|Number=Sing', ',_/', 'Pompeji_/Case=Nom|Gender=Neut|Number=Sing', ',_/', 'Kälberleib_/Case=Nom|Gender=Masc|Number=Sing', '._/', 'Bekröter_/Case=Nom|Gender=Masc|Number=Plur', 'sogar_/', ',_/', 'Wahrträume_/Case=Nom|Gender=Masc|Number=Plur', 'wie_/', 'mit_/', 'vielen_/Case=Dat|Gender=Neut|Number=Plur|PronType=Ind', 'Augen_/Case=Dat|Gender=Neut|Number=Plur', 'von_/', 'jeder_/Case=Dat|Gender=Fem|Number=Sing|PronType=Ind', 'Pfütze_/Case=Dat|Gender=Fem|Number=Sing', 'getrunken_/VerbForm=Part', ',_/', 'die_/Case=Nom|Definite=Def|Gender=Masc|Number=Plur|PronType=Art', 'Vögel_/Case=Nom|Gender=Masc|Number=Plur', 'picken_/Mood=Ind|Number=Plur|Person=3|Tense=Pres|VerbForm=Fin', 'zuerst_/', 'das_/Case=Acc|Definite=Def|Gender=Neut|Number=Sing|PronType=Art', 'menschliche_/Case=Acc|Degree=Pos|Gender=Neut|Number=Sing', 'Auge_/Case=Acc|Gender=Neut|Number=Sing', 'aus_/', ',_/', 'alles_/Case=Nom|Gender=Neut|Number=Sing|PronType=Ind', 'verflochten_/Degree=Pos', 'Werktreue_/Case=Gen|Gender=Fem|Number=Sing', '?_/', 'rufe_/Mood=Ind|Number=Sing|Person=1|Tense=Pres|VerbForm=Fin', 'ich_/Case=Nom|Number=Sing|Person=1|PronType=Prs', ',_/', 'Krankheit_/Case=Nom|Gender=Fem|Number=Sing', 'Verdruss_/Case=Nom|Gender=Masc|Number=Sing', ',_/', 'mein_/Case=Nom|Gender=Masc|Number=Sing|Poss=Yes|PronType=Prs', 'Gaumen_/Case=Nom|Gender=Masc|Number=Sing', 'krümmt_/Mood=Ind|Number=Sing|Person=3|Tense=Pres|VerbForm=Fin', 'sich_/Case=Acc|Number=Sing|Person=3|PronType=Prs|Reflex=Yes', ',_/', 'Beständigkeit_/Case=Nom|Gender=Fem|Number=Sing', ',_/', 'Treue_/Case=Nom|Gender=Fem|Number=Sing', 'aus_/', 'den_/Case=Dat|Definite=Def|Gender=Fem|Number=Plur|PronType=Art', 'Karten_/Case=Dat|Gender=Fem|Number=Plur', 'gelesen_/VerbForm=Part', 'Krankheit_/Case=Nom|Gender=Fem|Number=Sing', ',_/', 'Verdruss_/Case=Nom|Gender=Masc|Number=Sing', 'alles_/Case=Nom|Gender=Neut|Number=Sing|PronType=Ind', 'verflochten_/Degree=Pos', ',_/', 'aber_/', 'es_/Case=Nom|Gender=Neut|Number=Sing|Person=3|PronType=Prs', 'ist_/Mood=Ind|Number=Sing|Person=3|Tense=Pres|VerbForm=Fin', 'kein_/Case=Nom|Gender=Masc|Number=Sing|PronType=Ind', 'Schatz_/Case=Nom|Gender=Masc|Number=Sing', 'zugegen_/VerbForm=Part', ',_/', 'Beständigkeit_/Case=Nom|Gender=Fem|Number=Sing', 'Treue_/Case=Nom|Gender=Fem|Number=Sing', ',_/', 'aus_/', 'den_/Case=Dat|Definite=Def|Gender=Fem|Number=Plur|PronType=Art', 'Karten_/Case=Dat|Gender=Fem|Number=Plur', 'gelesen_/VerbForm=Part', ',_/', 'Werktreue_/Case=Nom|Gender=Fem|Number=Sing', '?_/', 'rufe_/Mood=Ind|Number=Sing|Person=1|Tense=Pres|VerbForm=Fin', 'ich_/Case=Nom|Number=Sing|Person=1|PronType=Prs', ',_/', 'aber_/', 'es_/Case=Nom|Gender=Neut|Number=Sing|Person=3|PronType=Prs', 'ist_/Mood=Ind|Number=Sing|Person=3|Tense=Pres|VerbForm=Fin', 'kein_/Case=Nom|Gender=Masc|Number=Sing|PronType=Ind', 'Schatz_/Case=Nom|Gender=Masc|Number=Sing', 'zugegen_/VerbForm=Part', ',_/', 'Asche_/Case=Nom|Gender=Fem|Number=Sing', 'sein_/VerbForm=Inf', ',_/', 'Stativ_/Case=Nom|Gender=Neut|Number=Sing', 'deiner_/Case=Gen|Gender=Neut|Number=Plur|Poss=Yes|PronType=Prs', 'Beine_/Case=Gen|Gender=Neut|Number=Plur', ',_/', 'alles_/Case=Nom|Gender=Neut|Number=Sing|PronType=Ind', 'verflochten_/Degree=Pos', ',_/', 'das_/Case=Nom|Definite=Def|Gender=Neut|Number=Sing|PronType=Art', 'Stativ_/Case=Nom|Gender=Neut|Number=Sing', 'deiner_/Case=Gen|Gender=Neut|Number=Plur|Poss=Yes|PronType=Prs', 'Beine_/Case=Gen|Gender=Neut|Number=Plur', '/_/', 'unter_/', 'dem_/Case=Dat|Definite=Def|Gender=Neut|Number=Sing|PronType=Art', 'Kinn_/Case=Dat|Gender=Neut|Number=Sing', 'unter_/', 'der_/Case=Dat|Definite=Def|Gender=Fem|Number=Sing|PronType=Art', 'Zunge_/Case=Dat|Gender=Fem|Number=Sing', ',_/', 'schnarrendes_/Case=Nom|Degree=Pos|Gender=Neut|Number=Sing', 'Maulhorn_/Case=Nom|Gender=Neut|Number=Sing', ',_/', 'Schläfe_/Case=Nom|Gender=Masc|Number=Plur', 'mit_/', 'Kappe_/Case=Dat|Gender=Fem|Number=Sing', ',_/', 'verkappte_/Case=Nom|Degree=Pos|Gender=Masc|Number=Plur', 'Schläfe_/Case=Nom|Gender=Masc|Number=Plur', 'Oktoberkeule_/Case=Nom|Gender=Fem|Number=Sing', 'Oktober_/Case=Nom|Gender=Masc|Number=Sing', 'keule_/Case=Nom|Gender=Neut|Number=Plur', ',_/', 'und_/', '-schatten_/VerbForm=Inf', '/_/', 'wo_/PronType=Int', 'die_/Case=Nom|Definite=Def|Gender=Masc|Number=Plur|PronType=Art', 'unsere_/Case=Nom|Gender=Masc|Number=Plur|Poss=Yes|PronType=Prs', 'Schatten_/Case=Nom|Gender=Masc|Number=Plur', 'einander_/Case=Dat|Number=Plur|Person=3|PronType=Prs|Reflex=Yes', 'entgegen_/', 'sind_/Mood=Ind|Number=Plur|Person=3|Tense=Pres|VerbForm=Fin']\n",
      "weil_/ das_/Case=Nom|Definite=Def|Gender=Neut|Number=Sing|PronType=Art Auge_/Case=Nom|Gender=Neut|Number=Sing zuerst_/ bricht_/Mood=Ind|Number=Sing|Person=3|Tense=Pres|VerbForm=Fin der_/Case=Nom|Definite=Def|Gender=Masc|Number=Sing|PronType=Art Körper_/Case=Nom|Gender=Masc|Number=Sing will_/Mood=Ind|Number=Sing|Person=3|Tense=Pres|VerbForm=Fin sich_/Case=Acc|Number=Sing|Person=3|PronType=Prs|Reflex=Yes ja_/ schließen_/VerbForm=Inf ,_/ rufst_/Mood=Ind|Number=Sing|Person=2|Tense=Pres|VerbForm=Fin du_/Case=Nom|Number=Sing|Person=2|PronType=Prs ,_/ Verdruss_/Case=Nom|Gender=Masc|Number=Sing und_/ Krankheit_/Case=Nom|Gender=Fem|Number=Sing ,_/ die_/Case=Nom|Definite=Def|Gender=Fem|Number=Sing|PronType=Art Witwe_/Case=Nom|Gender=Fem|Number=Sing ,_/ Göttin_/Case=Nom|Gender=Fem|Number=Sing aus_/ der_/Case=Dat|Definite=Def|Gender=Fem|Number=Sing|PronType=Art Maschine_/Case=Dat|Gender=Fem|Number=Sing ,_/ die_/Case=Acc|Definite=Def|Gender=Fem|Number=Plur|PronType=Art grünen_/Case=Acc|Degree=Pos|Gender=Fem|Number=Plur Spielkarten_/Case=Acc|Gender=Fem|Number=Plur plötzlich_/Degree=Pos aus_/ der_/Case=Dat|Definite=Def|Gender=Fem|Number=Sing|PronType=Art Tasche_/Case=Dat|Gender=Fem|Number=Sing gezogen_/VerbForm=Part ,_/ gemischt_/VerbForm=Part ,_/ dreimal_/ abheben_/VerbForm=Inf !_/ linkshändig_/Degree=Pos !_/ die_/Case=Acc|Definite=Def|Gender=Fem|Number=Sing|PronType=Art Rosalia_/Case=Acc|Gender=Fem|Number=Sing sichtbar_/Degree=Pos zu_/ machen_/VerbForm=Inf !_/ bewaldet_/VerbForm=Part !_/ wir_/Case=Nom|Number=Plur|Person=1|PronType=Prs essen_/Mood=Ind|Number=Plur|Person=1|Tense=Pres|VerbForm=Fin bewaldet_/Degree=Pos !_/ wir_/Case=Nom|Number=Plur|Person=1|PronType=Prs essen_/Mood=Ind|Number=Plur|Person=1|Tense=Pres|VerbForm=Fin kleine_/Case=Acc|Degree=Pos|Gender=Masc|Number=Plur Drachen_/Case=Acc|Gender=Masc|Number=Plur ,_/ den_/Case=Acc|Definite=Def|Gender=Masc|Number=Sing|PronType=Art Mond_/Case=Acc|Gender=Masc|Number=Sing ,_/ das_/Case=Nom|Definite=Def|Gender=Neut|Number=Sing|PronType=Art Land_/Case=Nom|Gender=Neut|Number=Sing ist_/Mood=Ind|Number=Sing|Person=3|Tense=Pres|VerbForm=Fin Löwe_/Case=Nom|Gender=Masc|Number=Sing ,_/ viel_/PronType=Ind Hitze_/Case=Nom|Gender=Fem|Number=Sing ,_/ Pompeji_/Case=Nom|Gender=Neut|Number=Sing ,_/ Kälberleib_/Case=Nom|Gender=Masc|Number=Sing ._/ Bekröter_/Case=Nom|Gender=Masc|Number=Plur sogar_/ ,_/ Wahrträume_/Case=Nom|Gender=Masc|Number=Plur wie_/ mit_/ vielen_/Case=Dat|Gender=Neut|Number=Plur|PronType=Ind Augen_/Case=Dat|Gender=Neut|Number=Plur von_/ jeder_/Case=Dat|Gender=Fem|Number=Sing|PronType=Ind Pfütze_/Case=Dat|Gender=Fem|Number=Sing getrunken_/VerbForm=Part ,_/ die_/Case=Nom|Definite=Def|Gender=Masc|Number=Plur|PronType=Art Vögel_/Case=Nom|Gender=Masc|Number=Plur picken_/Mood=Ind|Number=Plur|Person=3|Tense=Pres|VerbForm=Fin zuerst_/ das_/Case=Acc|Definite=Def|Gender=Neut|Number=Sing|PronType=Art menschliche_/Case=Acc|Degree=Pos|Gender=Neut|Number=Sing Auge_/Case=Acc|Gender=Neut|Number=Sing aus_/ ,_/ alles_/Case=Nom|Gender=Neut|Number=Sing|PronType=Ind verflochten_/Degree=Pos Werktreue_/Case=Gen|Gender=Fem|Number=Sing ?_/ rufe_/Mood=Ind|Number=Sing|Person=1|Tense=Pres|VerbForm=Fin ich_/Case=Nom|Number=Sing|Person=1|PronType=Prs ,_/ Krankheit_/Case=Nom|Gender=Fem|Number=Sing Verdruss_/Case=Nom|Gender=Masc|Number=Sing ,_/ mein_/Case=Nom|Gender=Masc|Number=Sing|Poss=Yes|PronType=Prs Gaumen_/Case=Nom|Gender=Masc|Number=Sing krümmt_/Mood=Ind|Number=Sing|Person=3|Tense=Pres|VerbForm=Fin sich_/Case=Acc|Number=Sing|Person=3|PronType=Prs|Reflex=Yes ,_/ Beständigkeit_/Case=Nom|Gender=Fem|Number=Sing ,_/ Treue_/Case=Nom|Gender=Fem|Number=Sing aus_/ den_/Case=Dat|Definite=Def|Gender=Fem|Number=Plur|PronType=Art Karten_/Case=Dat|Gender=Fem|Number=Plur gelesen_/VerbForm=Part Krankheit_/Case=Nom|Gender=Fem|Number=Sing ,_/ Verdruss_/Case=Nom|Gender=Masc|Number=Sing alles_/Case=Nom|Gender=Neut|Number=Sing|PronType=Ind verflochten_/Degree=Pos ,_/ aber_/ es_/Case=Nom|Gender=Neut|Number=Sing|Person=3|PronType=Prs ist_/Mood=Ind|Number=Sing|Person=3|Tense=Pres|VerbForm=Fin kein_/Case=Nom|Gender=Masc|Number=Sing|PronType=Ind Schatz_/Case=Nom|Gender=Masc|Number=Sing zugegen_/VerbForm=Part ,_/ Beständigkeit_/Case=Nom|Gender=Fem|Number=Sing Treue_/Case=Nom|Gender=Fem|Number=Sing ,_/ aus_/ den_/Case=Dat|Definite=Def|Gender=Fem|Number=Plur|PronType=Art Karten_/Case=Dat|Gender=Fem|Number=Plur gelesen_/VerbForm=Part ,_/ Werktreue_/Case=Nom|Gender=Fem|Number=Sing ?_/ rufe_/Mood=Ind|Number=Sing|Person=1|Tense=Pres|VerbForm=Fin ich_/Case=Nom|Number=Sing|Person=1|PronType=Prs ,_/ aber_/ es_/Case=Nom|Gender=Neut|Number=Sing|Person=3|PronType=Prs ist_/Mood=Ind|Number=Sing|Person=3|Tense=Pres|VerbForm=Fin kein_/Case=Nom|Gender=Masc|Number=Sing|PronType=Ind Schatz_/Case=Nom|Gender=Masc|Number=Sing zugegen_/VerbForm=Part ,_/ Asche_/Case=Nom|Gender=Fem|Number=Sing sein_/VerbForm=Inf ,_/ Stativ_/Case=Nom|Gender=Neut|Number=Sing deiner_/Case=Gen|Gender=Neut|Number=Plur|Poss=Yes|PronType=Prs Beine_/Case=Gen|Gender=Neut|Number=Plur ,_/ alles_/Case=Nom|Gender=Neut|Number=Sing|PronType=Ind verflochten_/Degree=Pos ,_/ das_/Case=Nom|Definite=Def|Gender=Neut|Number=Sing|PronType=Art Stativ_/Case=Nom|Gender=Neut|Number=Sing deiner_/Case=Gen|Gender=Neut|Number=Plur|Poss=Yes|PronType=Prs Beine_/Case=Gen|Gender=Neut|Number=Plur /_/ unter_/ dem_/Case=Dat|Definite=Def|Gender=Neut|Number=Sing|PronType=Art Kinn_/Case=Dat|Gender=Neut|Number=Sing unter_/ der_/Case=Dat|Definite=Def|Gender=Fem|Number=Sing|PronType=Art Zunge_/Case=Dat|Gender=Fem|Number=Sing ,_/ schnarrendes_/Case=Nom|Degree=Pos|Gender=Neut|Number=Sing Maulhorn_/Case=Nom|Gender=Neut|Number=Sing ,_/ Schläfe_/Case=Nom|Gender=Masc|Number=Plur mit_/ Kappe_/Case=Dat|Gender=Fem|Number=Sing ,_/ verkappte_/Case=Nom|Degree=Pos|Gender=Masc|Number=Plur Schläfe_/Case=Nom|Gender=Masc|Number=Plur Oktoberkeule_/Case=Nom|Gender=Fem|Number=Sing Oktober_/Case=Nom|Gender=Masc|Number=Sing keule_/Case=Nom|Gender=Neut|Number=Plur ,_/ und_/ -schatten_/VerbForm=Inf /_/ wo_/PronType=Int die_/Case=Nom|Definite=Def|Gender=Masc|Number=Plur|PronType=Art unsere_/Case=Nom|Gender=Masc|Number=Plur|Poss=Yes|PronType=Prs Schatten_/Case=Nom|Gender=Masc|Number=Plur einander_/Case=Dat|Number=Plur|Person=3|PronType=Prs|Reflex=Yes entgegen_/ sind_/Mood=Ind|Number=Plur|Person=3|Tense=Pres|VerbForm=Fin\n",
      "weil das Auge zuerst bricht der Körper will sich ja schließen, rufst du, Verdruss und Krankheit, die Witwe, Göttin aus der Maschine, die grünen Spielkarten plötzlich aus der Tasche gezogen, gemischt, dreimal abheben! linkshändig! die Rosalia sichtbar machen!, bewaldet / wir essen kleine Drachen, den Mond, das Land ist Löwe, viel Hitze, Pompeji, ein Kälberleib, Bekröter sogar, Wahrträume wie mit vielen Augen von jeder Pfütze getrunken, die Vögel picken zuerst das menschliche Auge aus, mein Gaumen sich alles verflochten, Krankheit, Verdruss aber es ist kein Schatz zugegen, Beständigkeit, Treue aus den Karten gelesen, Werktreue? rufe ich, unter der Zunge, unter dem Kinn, ein Stativ deiner Beine, Schläfe mit Kappe, Oktoberkeule, und schnarrendes Maulhorn, wo unsere Schatten einander entgegen sind\n",
      "['weil_/', 'das_/Case=Nom|Definite=Def|Gender=Neut|Number=Sing|PronType=Art', 'Auge_/Case=Nom|Gender=Neut|Number=Sing', 'zuerst_/', 'bricht_/Mood=Ind|Number=Sing|Person=3|Tense=Pres|VerbForm=Fin', 'der_/Case=Nom|Definite=Def|Gender=Masc|Number=Sing|PronType=Art', 'Körper_/Case=Nom|Gender=Masc|Number=Sing', 'will_/Mood=Ind|Number=Sing|Person=3|Tense=Pres|VerbForm=Fin', 'sich_/Case=Acc|Number=Sing|Person=3|PronType=Prs|Reflex=Yes', 'ja_/', 'schließen_/VerbForm=Inf', ',_/', 'rufst_/Mood=Ind|Number=Sing|Person=2|Tense=Pres|VerbForm=Fin', 'du_/Case=Nom|Number=Sing|Person=2|PronType=Prs', ',_/', 'Verdruss_/Case=Nom|Gender=Masc|Number=Sing', 'und_/', 'Krankheit_/Case=Nom|Gender=Fem|Number=Sing', ',_/', 'die_/Case=Nom|Definite=Def|Gender=Fem|Number=Sing|PronType=Art', 'Witwe_/Case=Nom|Gender=Fem|Number=Sing', ',_/', 'Göttin_/Case=Nom|Gender=Fem|Number=Sing', 'aus_/', 'der_/Case=Dat|Definite=Def|Gender=Fem|Number=Sing|PronType=Art', 'Maschine_/Case=Dat|Gender=Fem|Number=Sing', ',_/', 'die_/Case=Acc|Definite=Def|Gender=Fem|Number=Plur|PronType=Art', 'grünen_/Case=Acc|Degree=Pos|Gender=Fem|Number=Plur', 'Spielkarten_/Case=Acc|Gender=Fem|Number=Plur', 'plötzlich_/Degree=Pos', 'aus_/', 'der_/Case=Dat|Definite=Def|Gender=Fem|Number=Sing|PronType=Art', 'Tasche_/Case=Dat|Gender=Fem|Number=Sing', 'gezogen_/VerbForm=Part', ',_/', 'gemischt_/VerbForm=Part', ',_/', 'dreimal_/', 'abheben_/VerbForm=Inf', '!_/', 'linkshändig_/Degree=Pos', '!_/', 'die_/Case=Acc|Gender=Fem|Number=Sing|PronType=Rel', 'Rosalia_/Case=Acc|Gender=Fem|Number=Sing', 'sichtbar_/Degree=Pos', 'machen_/Mood=Ind|Number=Plur|Person=3|Tense=Pres|VerbForm=Fin', '!_/', ',_/', 'bewaldet_/VerbForm=Part', '/_/', 'wir_/Case=Nom|Number=Plur|Person=1|PronType=Prs', 'essen_/Mood=Ind|Number=Plur|Person=1|Tense=Pres|VerbForm=Fin', 'kleine_/Case=Acc|Degree=Pos|Gender=Masc|Number=Plur', 'Drachen_/Case=Acc|Gender=Masc|Number=Plur', ',_/', 'den_/Case=Acc|Definite=Def|Gender=Masc|Number=Sing|PronType=Art', 'Mond_/Case=Acc|Gender=Masc|Number=Sing', ',_/', 'das_/Case=Nom|Definite=Def|Gender=Neut|Number=Sing|PronType=Art', 'Land_/Case=Nom|Gender=Neut|Number=Sing', 'ist_/Mood=Ind|Number=Sing|Person=3|Tense=Pres|VerbForm=Fin', 'Löwe_/Case=Nom|Gender=Masc|Number=Sing', ',_/', 'viel_/PronType=Ind', 'Hitze_/Case=Nom|Gender=Fem|Number=Sing', ',_/', 'Pompeji_/Case=Nom|Gender=Neut|Number=Sing', ',_/', 'ein_/Case=Nom|Definite=Ind|Gender=Masc|Number=Sing|PronType=Art', 'Kälberleib_/Case=Nom|Gender=Masc|Number=Sing', ',_/', 'Bekröter_/Case=Nom|Gender=Masc|Number=Sing', 'sogar_/', ',_/', 'Wahrträume_/Case=Nom|Gender=Masc|Number=Plur', 'wie_/', 'mit_/', 'vielen_/Case=Dat|Gender=Neut|Number=Plur|PronType=Ind', 'Augen_/Case=Dat|Gender=Neut|Number=Plur', 'von_/', 'jeder_/Case=Dat|Gender=Fem|Number=Sing|PronType=Ind', 'Pfütze_/Case=Dat|Gender=Fem|Number=Sing', 'getrunken_/VerbForm=Part', ',_/', 'die_/Case=Nom|Definite=Def|Gender=Masc|Number=Plur|PronType=Art', 'Vögel_/Case=Nom|Gender=Masc|Number=Plur', 'picken_/Mood=Ind|Number=Plur|Person=3|Tense=Pres|VerbForm=Fin', 'zuerst_/', 'das_/Case=Acc|Definite=Def|Gender=Neut|Number=Sing|PronType=Art', 'menschliche_/Case=Acc|Degree=Pos|Gender=Neut|Number=Sing', 'Auge_/Case=Acc|Gender=Neut|Number=Sing', 'aus_/', ',_/', 'mein_/Case=Nom|Gender=Masc|Number=Sing|Poss=Yes|PronType=Prs', 'Gaumen_/Case=Nom|Gender=Masc|Number=Sing', 'sich_/Case=Dat|Number=Plur|Person=3|PronType=Prs|Reflex=Yes', 'alles_/Case=Acc|Gender=Neut|Number=Sing|PronType=Ind', 'verflochten_/Degree=Pos', ',_/', 'Krankheit_/Case=Nom|Gender=Fem|Number=Sing', ',_/', 'Verdruss_/Case=Nom|Gender=Masc|Number=Sing', 'aber_/', 'es_/Case=Nom|Gender=Neut|Number=Sing|Person=3|PronType=Prs', 'ist_/Mood=Ind|Number=Sing|Person=3|Tense=Pres|VerbForm=Fin', 'kein_/Case=Nom|Gender=Masc|Number=Sing|PronType=Ind', 'Schatz_/Case=Nom|Gender=Masc|Number=Sing', 'zugegen_/VerbForm=Inf', ',_/', 'Beständigkeit_/Case=Nom|Gender=Fem|Number=Sing', ',_/', 'Treue_/Case=Acc|Gender=Fem|Number=Sing', 'aus_/', 'den_/Case=Dat|Definite=Def|Gender=Fem|Number=Plur|PronType=Art', 'Karten_/Case=Dat|Gender=Fem|Number=Plur', 'gelesen_/VerbForm=Part', ',_/', 'Werktreue_/Case=Acc|Gender=Fem|Number=Sing', '?_/', 'rufe_/Mood=Ind|Number=Sing|Person=1|Tense=Pres|VerbForm=Fin', 'ich_/Case=Nom|Number=Sing|Person=1|PronType=Prs', ',_/', 'unter_/', 'der_/Case=Dat|Definite=Def|Gender=Fem|Number=Sing|PronType=Art', 'Zunge_/Case=Dat|Gender=Fem|Number=Sing', ',_/', 'unter_/', 'dem_/Case=Dat|Definite=Def|Gender=Neut|Number=Sing|PronType=Art', 'Kinn_/Case=Dat|Gender=Neut|Number=Sing', ',_/', 'ein_/Case=Acc|Definite=Ind|Gender=Neut|Number=Sing|PronType=Art', 'Stativ_/Case=Acc|Gender=Neut|Number=Sing', 'deiner_/Case=Gen|Gender=Neut|Number=Plur|Poss=Yes|PronType=Prs', 'Beine_/Case=Gen|Gender=Neut|Number=Plur', ',_/', 'Schläfe_/Case=Acc|Gender=Masc|Number=Plur', 'mit_/', 'Kappe_/Case=Dat|Gender=Fem|Number=Sing', ',_/', 'Oktoberkeule_/Case=Nom|Gender=Fem|Number=Sing', ',_/', 'und_/', 'schnarrendes_/Case=Acc|Degree=Pos|Gender=Neut|Number=Sing', 'Maulhorn_/Case=Acc|Gender=Neut|Number=Sing', ',_/', 'wo_/PronType=Int', 'unsere_/Case=Nom|Gender=Masc|Number=Plur|Poss=Yes|PronType=Prs', 'Schatten_/Case=Nom|Gender=Masc|Number=Plur', 'einander_/Case=Dat|Number=Plur|Person=3|PronType=Prs|Reflex=Yes', 'entgegen_/', 'sind_/Mood=Ind|Number=Plur|Person=3|Tense=Pres|VerbForm=Fin']\n",
      "weil_/ das_/Case=Nom|Definite=Def|Gender=Neut|Number=Sing|PronType=Art Auge_/Case=Nom|Gender=Neut|Number=Sing zuerst_/ bricht_/Mood=Ind|Number=Sing|Person=3|Tense=Pres|VerbForm=Fin der_/Case=Nom|Definite=Def|Gender=Masc|Number=Sing|PronType=Art Körper_/Case=Nom|Gender=Masc|Number=Sing will_/Mood=Ind|Number=Sing|Person=3|Tense=Pres|VerbForm=Fin sich_/Case=Acc|Number=Sing|Person=3|PronType=Prs|Reflex=Yes ja_/ schließen_/VerbForm=Inf ,_/ rufst_/Mood=Ind|Number=Sing|Person=2|Tense=Pres|VerbForm=Fin du_/Case=Nom|Number=Sing|Person=2|PronType=Prs ,_/ Verdruss_/Case=Nom|Gender=Masc|Number=Sing und_/ Krankheit_/Case=Nom|Gender=Fem|Number=Sing ,_/ die_/Case=Nom|Definite=Def|Gender=Fem|Number=Sing|PronType=Art Witwe_/Case=Nom|Gender=Fem|Number=Sing ,_/ Göttin_/Case=Nom|Gender=Fem|Number=Sing aus_/ der_/Case=Dat|Definite=Def|Gender=Fem|Number=Sing|PronType=Art Maschine_/Case=Dat|Gender=Fem|Number=Sing ,_/ die_/Case=Acc|Definite=Def|Gender=Fem|Number=Plur|PronType=Art grünen_/Case=Acc|Degree=Pos|Gender=Fem|Number=Plur Spielkarten_/Case=Acc|Gender=Fem|Number=Plur plötzlich_/Degree=Pos aus_/ der_/Case=Dat|Definite=Def|Gender=Fem|Number=Sing|PronType=Art Tasche_/Case=Dat|Gender=Fem|Number=Sing gezogen_/VerbForm=Part ,_/ gemischt_/VerbForm=Part ,_/ dreimal_/ abheben_/VerbForm=Inf !_/ linkshändig_/Degree=Pos !_/ die_/Case=Acc|Gender=Fem|Number=Sing|PronType=Rel Rosalia_/Case=Acc|Gender=Fem|Number=Sing sichtbar_/Degree=Pos machen_/Mood=Ind|Number=Plur|Person=3|Tense=Pres|VerbForm=Fin !_/ ,_/ bewaldet_/VerbForm=Part /_/ wir_/Case=Nom|Number=Plur|Person=1|PronType=Prs essen_/Mood=Ind|Number=Plur|Person=1|Tense=Pres|VerbForm=Fin kleine_/Case=Acc|Degree=Pos|Gender=Masc|Number=Plur Drachen_/Case=Acc|Gender=Masc|Number=Plur ,_/ den_/Case=Acc|Definite=Def|Gender=Masc|Number=Sing|PronType=Art Mond_/Case=Acc|Gender=Masc|Number=Sing ,_/ das_/Case=Nom|Definite=Def|Gender=Neut|Number=Sing|PronType=Art Land_/Case=Nom|Gender=Neut|Number=Sing ist_/Mood=Ind|Number=Sing|Person=3|Tense=Pres|VerbForm=Fin Löwe_/Case=Nom|Gender=Masc|Number=Sing ,_/ viel_/PronType=Ind Hitze_/Case=Nom|Gender=Fem|Number=Sing ,_/ Pompeji_/Case=Nom|Gender=Neut|Number=Sing ,_/ ein_/Case=Nom|Definite=Ind|Gender=Masc|Number=Sing|PronType=Art Kälberleib_/Case=Nom|Gender=Masc|Number=Sing ,_/ Bekröter_/Case=Nom|Gender=Masc|Number=Sing sogar_/ ,_/ Wahrträume_/Case=Nom|Gender=Masc|Number=Plur wie_/ mit_/ vielen_/Case=Dat|Gender=Neut|Number=Plur|PronType=Ind Augen_/Case=Dat|Gender=Neut|Number=Plur von_/ jeder_/Case=Dat|Gender=Fem|Number=Sing|PronType=Ind Pfütze_/Case=Dat|Gender=Fem|Number=Sing getrunken_/VerbForm=Part ,_/ die_/Case=Nom|Definite=Def|Gender=Masc|Number=Plur|PronType=Art Vögel_/Case=Nom|Gender=Masc|Number=Plur picken_/Mood=Ind|Number=Plur|Person=3|Tense=Pres|VerbForm=Fin zuerst_/ das_/Case=Acc|Definite=Def|Gender=Neut|Number=Sing|PronType=Art menschliche_/Case=Acc|Degree=Pos|Gender=Neut|Number=Sing Auge_/Case=Acc|Gender=Neut|Number=Sing aus_/ ,_/ mein_/Case=Nom|Gender=Masc|Number=Sing|Poss=Yes|PronType=Prs Gaumen_/Case=Nom|Gender=Masc|Number=Sing sich_/Case=Dat|Number=Plur|Person=3|PronType=Prs|Reflex=Yes alles_/Case=Acc|Gender=Neut|Number=Sing|PronType=Ind verflochten_/Degree=Pos ,_/ Krankheit_/Case=Nom|Gender=Fem|Number=Sing ,_/ Verdruss_/Case=Nom|Gender=Masc|Number=Sing aber_/ es_/Case=Nom|Gender=Neut|Number=Sing|Person=3|PronType=Prs ist_/Mood=Ind|Number=Sing|Person=3|Tense=Pres|VerbForm=Fin kein_/Case=Nom|Gender=Masc|Number=Sing|PronType=Ind Schatz_/Case=Nom|Gender=Masc|Number=Sing zugegen_/VerbForm=Inf ,_/ Beständigkeit_/Case=Nom|Gender=Fem|Number=Sing ,_/ Treue_/Case=Acc|Gender=Fem|Number=Sing aus_/ den_/Case=Dat|Definite=Def|Gender=Fem|Number=Plur|PronType=Art Karten_/Case=Dat|Gender=Fem|Number=Plur gelesen_/VerbForm=Part ,_/ Werktreue_/Case=Acc|Gender=Fem|Number=Sing ?_/ rufe_/Mood=Ind|Number=Sing|Person=1|Tense=Pres|VerbForm=Fin ich_/Case=Nom|Number=Sing|Person=1|PronType=Prs ,_/ unter_/ der_/Case=Dat|Definite=Def|Gender=Fem|Number=Sing|PronType=Art Zunge_/Case=Dat|Gender=Fem|Number=Sing ,_/ unter_/ dem_/Case=Dat|Definite=Def|Gender=Neut|Number=Sing|PronType=Art Kinn_/Case=Dat|Gender=Neut|Number=Sing ,_/ ein_/Case=Acc|Definite=Ind|Gender=Neut|Number=Sing|PronType=Art Stativ_/Case=Acc|Gender=Neut|Number=Sing deiner_/Case=Gen|Gender=Neut|Number=Plur|Poss=Yes|PronType=Prs Beine_/Case=Gen|Gender=Neut|Number=Plur ,_/ Schläfe_/Case=Acc|Gender=Masc|Number=Plur mit_/ Kappe_/Case=Dat|Gender=Fem|Number=Sing ,_/ Oktoberkeule_/Case=Nom|Gender=Fem|Number=Sing ,_/ und_/ schnarrendes_/Case=Acc|Degree=Pos|Gender=Neut|Number=Sing Maulhorn_/Case=Acc|Gender=Neut|Number=Sing ,_/ wo_/PronType=Int unsere_/Case=Nom|Gender=Masc|Number=Plur|Poss=Yes|PronType=Prs Schatten_/Case=Nom|Gender=Masc|Number=Plur einander_/Case=Dat|Number=Plur|Person=3|PronType=Prs|Reflex=Yes entgegen_/ sind_/Mood=Ind|Number=Plur|Person=3|Tense=Pres|VerbForm=Fin\n",
      "weil das Auge zuerst bricht der Körper will sich ja schließen, rufst du, Verdruss und Krankheit, die Witwe, Göttin aus der Maschine, die grünen Spielkarten plötzlich aus der Tasche gezogen, gemischt, dreimal abheben! linkshändig! die Rosalia sichtbar zu machen, bewaldet / wir essen kleine Drachen, den Mond, das Land ist Löwe, viel Hitze, Pompeji, ein Kälberleib, Bekröter sogar, Wahrträume wie mit vielen Augen von jeder Pfütze getrunken, die Vögel picken zuerst das menschliche Auge aus, alles verflochten, Krankheit, Verdruss, mein Gaumen krümmt sich, aber es ist kein Schatz zugegen, Treue, Beständigkeit, aus den Karten gelesen, Werktreue? rufe ich, Stativ Asche sein, Stativ Asche sein, Stativ deiner Beine, mein Gaumen krümmt sich, Schläfe mit Kappe unter der Zunge unter dem Kinn, Oktoberkeule, und schnarrendes Maulhorn, wo unsere Schatten einander entgegen sind\n",
      "['weil_/', 'das_/Case=Nom|Definite=Def|Gender=Neut|Number=Sing|PronType=Art', 'Auge_/Case=Nom|Gender=Neut|Number=Sing', 'zuerst_/', 'bricht_/Mood=Ind|Number=Sing|Person=3|Tense=Pres|VerbForm=Fin', 'der_/Case=Nom|Definite=Def|Gender=Masc|Number=Sing|PronType=Art', 'Körper_/Case=Nom|Gender=Masc|Number=Sing', 'will_/Mood=Ind|Number=Sing|Person=3|Tense=Pres|VerbForm=Fin', 'sich_/Case=Acc|Number=Sing|Person=3|PronType=Prs|Reflex=Yes', 'ja_/', 'schließen_/VerbForm=Inf', ',_/', 'rufst_/Mood=Ind|Number=Sing|Person=2|Tense=Pres|VerbForm=Fin', 'du_/Case=Nom|Number=Sing|Person=2|PronType=Prs', ',_/', 'Verdruss_/Case=Nom|Gender=Masc|Number=Sing', 'und_/', 'Krankheit_/Case=Nom|Gender=Fem|Number=Sing', ',_/', 'die_/Case=Nom|Definite=Def|Gender=Fem|Number=Sing|PronType=Art', 'Witwe_/Case=Nom|Gender=Fem|Number=Sing', ',_/', 'Göttin_/Case=Nom|Gender=Fem|Number=Sing', 'aus_/', 'der_/Case=Dat|Definite=Def|Gender=Fem|Number=Sing|PronType=Art', 'Maschine_/Case=Dat|Gender=Fem|Number=Sing', ',_/', 'die_/Case=Acc|Definite=Def|Gender=Fem|Number=Plur|PronType=Art', 'grünen_/Case=Acc|Degree=Pos|Gender=Fem|Number=Plur', 'Spielkarten_/Case=Acc|Gender=Fem|Number=Plur', 'plötzlich_/Degree=Pos', 'aus_/', 'der_/Case=Dat|Definite=Def|Gender=Fem|Number=Sing|PronType=Art', 'Tasche_/Case=Dat|Gender=Fem|Number=Sing', 'gezogen_/VerbForm=Part', ',_/', 'gemischt_/VerbForm=Part', ',_/', 'dreimal_/', 'abheben_/VerbForm=Inf', '!_/', 'linkshändig_/Degree=Pos', '!_/', 'die_/Case=Acc|Definite=Def|Gender=Fem|Number=Sing|PronType=Art', 'Rosalia_/Case=Acc|Gender=Fem|Number=Sing', 'sichtbar_/Degree=Pos', 'zu_/', 'machen_/VerbForm=Inf', ',_/', 'bewaldet_/VerbForm=Part', '/_/', 'wir_/Case=Nom|Number=Plur|Person=1|PronType=Prs', 'essen_/Mood=Ind|Number=Plur|Person=1|Tense=Pres|VerbForm=Fin', 'kleine_/Case=Acc|Degree=Pos|Gender=Masc|Number=Plur', 'Drachen_/Case=Acc|Gender=Masc|Number=Plur', ',_/', 'den_/Case=Acc|Definite=Def|Gender=Masc|Number=Sing|PronType=Art', 'Mond_/Case=Acc|Gender=Masc|Number=Sing', ',_/', 'das_/Case=Nom|Definite=Def|Gender=Neut|Number=Sing|PronType=Art', 'Land_/Case=Nom|Gender=Neut|Number=Sing', 'ist_/Mood=Ind|Number=Sing|Person=3|Tense=Pres|VerbForm=Fin', 'Löwe_/Case=Nom|Gender=Masc|Number=Sing', ',_/', 'viel_/PronType=Ind', 'Hitze_/Case=Nom|Gender=Fem|Number=Sing', ',_/', 'Pompeji_/Case=Nom|Gender=Neut|Number=Sing', ',_/', 'ein_/Case=Nom|Definite=Ind|Gender=Masc|Number=Sing|PronType=Art', 'Kälberleib_/Case=Nom|Gender=Masc|Number=Sing', ',_/', 'Bekröter_/Case=Nom|Gender=Masc|Number=Sing', 'sogar_/', ',_/', 'Wahrträume_/Case=Acc|Gender=Masc|Number=Plur', 'wie_/', 'mit_/', 'vielen_/Case=Dat|Gender=Neut|Number=Plur|PronType=Ind', 'Augen_/Case=Dat|Gender=Neut|Number=Plur', 'von_/', 'jeder_/Case=Dat|Gender=Fem|Number=Sing|PronType=Ind', 'Pfütze_/Case=Dat|Gender=Fem|Number=Sing', 'getrunken_/VerbForm=Part', ',_/', 'die_/Case=Nom|Definite=Def|Gender=Masc|Number=Plur|PronType=Art', 'Vögel_/Case=Nom|Gender=Masc|Number=Plur', 'picken_/Mood=Ind|Number=Plur|Person=3|Tense=Pres|VerbForm=Fin', 'zuerst_/', 'das_/Case=Acc|Definite=Def|Gender=Neut|Number=Sing|PronType=Art', 'menschliche_/Case=Acc|Degree=Pos|Gender=Neut|Number=Sing', 'Auge_/Case=Acc|Gender=Neut|Number=Sing', 'aus_/', ',_/', 'alles_/Case=Nom|Gender=Neut|Number=Sing|PronType=Ind', 'verflochten_/Degree=Pos', ',_/', 'Krankheit_/Case=Nom|Gender=Fem|Number=Sing', ',_/', 'Verdruss_/Case=Nom|Gender=Masc|Number=Sing', ',_/', 'mein_/Case=Nom|Gender=Masc|Number=Sing|Poss=Yes|PronType=Prs', 'Gaumen_/Case=Nom|Gender=Masc|Number=Sing', 'krümmt_/Mood=Ind|Number=Sing|Person=3|Tense=Pres|VerbForm=Fin', 'sich_/Case=Acc|Number=Sing|Person=3|PronType=Prs|Reflex=Yes', ',_/', 'aber_/', 'es_/Case=Nom|Gender=Neut|Number=Sing|Person=3|PronType=Prs', 'ist_/Mood=Ind|Number=Sing|Person=3|Tense=Pres|VerbForm=Fin', 'kein_/Case=Nom|Gender=Masc|Number=Sing|PronType=Ind', 'Schatz_/Case=Nom|Gender=Masc|Number=Sing', 'zugegen_/VerbForm=Part', ',_/', 'Treue_/Case=Nom|Gender=Fem|Number=Sing', ',_/', 'Beständigkeit_/Case=Nom|Gender=Fem|Number=Sing', ',_/', 'aus_/', 'den_/Case=Dat|Definite=Def|Gender=Fem|Number=Plur|PronType=Art', 'Karten_/Case=Dat|Gender=Fem|Number=Plur', 'gelesen_/VerbForm=Part', ',_/', 'Werktreue_/Case=Nom|Gender=Fem|Number=Sing', '?_/', 'rufe_/Mood=Ind|Number=Sing|Person=1|Tense=Pres|VerbForm=Fin', 'ich_/Case=Nom|Number=Sing|Person=1|PronType=Prs', ',_/', 'Stativ_/Case=Nom|Gender=Neut|Number=Sing', 'Asche_/Case=Nom|Gender=Fem|Number=Sing', 'sein_/VerbForm=Inf', ',_/', 'Stativ_/Case=Nom|Gender=Neut|Number=Sing', 'Asche_/Case=Nom|Gender=Fem|Number=Sing', 'sein_/VerbForm=Inf', ',_/', 'Stativ_/Case=Nom|Gender=Neut|Number=Sing', 'deiner_/Case=Gen|Gender=Neut|Number=Plur|Poss=Yes|PronType=Prs', 'Beine_/Case=Gen|Gender=Neut|Number=Plur', ',_/', 'mein_/Case=Nom|Gender=Masc|Number=Sing|Poss=Yes|PronType=Prs', 'Gaumen_/Case=Nom|Gender=Masc|Number=Sing', 'krümmt_/Mood=Ind|Number=Sing|Person=3|Tense=Pres|VerbForm=Fin', 'sich_/Case=Acc|Number=Sing|Person=3|PronType=Prs|Reflex=Yes', ',_/', 'Schläfe_/Case=Nom|Gender=Masc|Number=Plur', 'mit_/', 'Kappe_/Case=Dat|Gender=Fem|Number=Sing', 'unter_/', 'der_/Case=Dat|Definite=Def|Gender=Fem|Number=Sing|PronType=Art', 'Zunge_/Case=Dat|Gender=Fem|Number=Sing', 'unter_/', 'dem_/Case=Dat|Definite=Def|Gender=Neut|Number=Sing|PronType=Art', 'Kinn_/Case=Dat|Gender=Neut|Number=Sing', ',_/', 'Oktoberkeule_/Case=Nom|Gender=Fem|Number=Sing', ',_/', 'und_/', 'schnarrendes_/Case=Nom|Degree=Pos|Gender=Neut|Number=Sing', 'Maulhorn_/Case=Nom|Gender=Neut|Number=Sing', ',_/', 'wo_/PronType=Int', 'unsere_/Case=Nom|Gender=Masc|Number=Plur|Poss=Yes|PronType=Prs', 'Schatten_/Case=Nom|Gender=Masc|Number=Plur', 'einander_/Case=Dat|Number=Plur|Person=3|PronType=Prs|Reflex=Yes', 'entgegen_/', 'sind_/Mood=Ind|Number=Plur|Person=3|Tense=Pres|VerbForm=Fin']\n",
      "weil_/ das_/Case=Nom|Definite=Def|Gender=Neut|Number=Sing|PronType=Art Auge_/Case=Nom|Gender=Neut|Number=Sing zuerst_/ bricht_/Mood=Ind|Number=Sing|Person=3|Tense=Pres|VerbForm=Fin der_/Case=Nom|Definite=Def|Gender=Masc|Number=Sing|PronType=Art Körper_/Case=Nom|Gender=Masc|Number=Sing will_/Mood=Ind|Number=Sing|Person=3|Tense=Pres|VerbForm=Fin sich_/Case=Acc|Number=Sing|Person=3|PronType=Prs|Reflex=Yes ja_/ schließen_/VerbForm=Inf ,_/ rufst_/Mood=Ind|Number=Sing|Person=2|Tense=Pres|VerbForm=Fin du_/Case=Nom|Number=Sing|Person=2|PronType=Prs ,_/ Verdruss_/Case=Nom|Gender=Masc|Number=Sing und_/ Krankheit_/Case=Nom|Gender=Fem|Number=Sing ,_/ die_/Case=Nom|Definite=Def|Gender=Fem|Number=Sing|PronType=Art Witwe_/Case=Nom|Gender=Fem|Number=Sing ,_/ Göttin_/Case=Nom|Gender=Fem|Number=Sing aus_/ der_/Case=Dat|Definite=Def|Gender=Fem|Number=Sing|PronType=Art Maschine_/Case=Dat|Gender=Fem|Number=Sing ,_/ die_/Case=Acc|Definite=Def|Gender=Fem|Number=Plur|PronType=Art grünen_/Case=Acc|Degree=Pos|Gender=Fem|Number=Plur Spielkarten_/Case=Acc|Gender=Fem|Number=Plur plötzlich_/Degree=Pos aus_/ der_/Case=Dat|Definite=Def|Gender=Fem|Number=Sing|PronType=Art Tasche_/Case=Dat|Gender=Fem|Number=Sing gezogen_/VerbForm=Part ,_/ gemischt_/VerbForm=Part ,_/ dreimal_/ abheben_/VerbForm=Inf !_/ linkshändig_/Degree=Pos !_/ die_/Case=Acc|Definite=Def|Gender=Fem|Number=Sing|PronType=Art Rosalia_/Case=Acc|Gender=Fem|Number=Sing sichtbar_/Degree=Pos zu_/ machen_/VerbForm=Inf ,_/ bewaldet_/VerbForm=Part /_/ wir_/Case=Nom|Number=Plur|Person=1|PronType=Prs essen_/Mood=Ind|Number=Plur|Person=1|Tense=Pres|VerbForm=Fin kleine_/Case=Acc|Degree=Pos|Gender=Masc|Number=Plur Drachen_/Case=Acc|Gender=Masc|Number=Plur ,_/ den_/Case=Acc|Definite=Def|Gender=Masc|Number=Sing|PronType=Art Mond_/Case=Acc|Gender=Masc|Number=Sing ,_/ das_/Case=Nom|Definite=Def|Gender=Neut|Number=Sing|PronType=Art Land_/Case=Nom|Gender=Neut|Number=Sing ist_/Mood=Ind|Number=Sing|Person=3|Tense=Pres|VerbForm=Fin Löwe_/Case=Nom|Gender=Masc|Number=Sing ,_/ viel_/PronType=Ind Hitze_/Case=Nom|Gender=Fem|Number=Sing ,_/ Pompeji_/Case=Nom|Gender=Neut|Number=Sing ,_/ ein_/Case=Nom|Definite=Ind|Gender=Masc|Number=Sing|PronType=Art Kälberleib_/Case=Nom|Gender=Masc|Number=Sing ,_/ Bekröter_/Case=Nom|Gender=Masc|Number=Sing sogar_/ ,_/ Wahrträume_/Case=Acc|Gender=Masc|Number=Plur wie_/ mit_/ vielen_/Case=Dat|Gender=Neut|Number=Plur|PronType=Ind Augen_/Case=Dat|Gender=Neut|Number=Plur von_/ jeder_/Case=Dat|Gender=Fem|Number=Sing|PronType=Ind Pfütze_/Case=Dat|Gender=Fem|Number=Sing getrunken_/VerbForm=Part ,_/ die_/Case=Nom|Definite=Def|Gender=Masc|Number=Plur|PronType=Art Vögel_/Case=Nom|Gender=Masc|Number=Plur picken_/Mood=Ind|Number=Plur|Person=3|Tense=Pres|VerbForm=Fin zuerst_/ das_/Case=Acc|Definite=Def|Gender=Neut|Number=Sing|PronType=Art menschliche_/Case=Acc|Degree=Pos|Gender=Neut|Number=Sing Auge_/Case=Acc|Gender=Neut|Number=Sing aus_/ ,_/ alles_/Case=Nom|Gender=Neut|Number=Sing|PronType=Ind verflochten_/Degree=Pos ,_/ Krankheit_/Case=Nom|Gender=Fem|Number=Sing ,_/ Verdruss_/Case=Nom|Gender=Masc|Number=Sing ,_/ mein_/Case=Nom|Gender=Masc|Number=Sing|Poss=Yes|PronType=Prs Gaumen_/Case=Nom|Gender=Masc|Number=Sing krümmt_/Mood=Ind|Number=Sing|Person=3|Tense=Pres|VerbForm=Fin sich_/Case=Acc|Number=Sing|Person=3|PronType=Prs|Reflex=Yes ,_/ aber_/ es_/Case=Nom|Gender=Neut|Number=Sing|Person=3|PronType=Prs ist_/Mood=Ind|Number=Sing|Person=3|Tense=Pres|VerbForm=Fin kein_/Case=Nom|Gender=Masc|Number=Sing|PronType=Ind Schatz_/Case=Nom|Gender=Masc|Number=Sing zugegen_/VerbForm=Part ,_/ Treue_/Case=Nom|Gender=Fem|Number=Sing ,_/ Beständigkeit_/Case=Nom|Gender=Fem|Number=Sing ,_/ aus_/ den_/Case=Dat|Definite=Def|Gender=Fem|Number=Plur|PronType=Art Karten_/Case=Dat|Gender=Fem|Number=Plur gelesen_/VerbForm=Part ,_/ Werktreue_/Case=Nom|Gender=Fem|Number=Sing ?_/ rufe_/Mood=Ind|Number=Sing|Person=1|Tense=Pres|VerbForm=Fin ich_/Case=Nom|Number=Sing|Person=1|PronType=Prs ,_/ Stativ_/Case=Nom|Gender=Neut|Number=Sing Asche_/Case=Nom|Gender=Fem|Number=Sing sein_/VerbForm=Inf ,_/ Stativ_/Case=Nom|Gender=Neut|Number=Sing Asche_/Case=Nom|Gender=Fem|Number=Sing sein_/VerbForm=Inf ,_/ Stativ_/Case=Nom|Gender=Neut|Number=Sing deiner_/Case=Gen|Gender=Neut|Number=Plur|Poss=Yes|PronType=Prs Beine_/Case=Gen|Gender=Neut|Number=Plur ,_/ mein_/Case=Nom|Gender=Masc|Number=Sing|Poss=Yes|PronType=Prs Gaumen_/Case=Nom|Gender=Masc|Number=Sing krümmt_/Mood=Ind|Number=Sing|Person=3|Tense=Pres|VerbForm=Fin sich_/Case=Acc|Number=Sing|Person=3|PronType=Prs|Reflex=Yes ,_/ Schläfe_/Case=Nom|Gender=Masc|Number=Plur mit_/ Kappe_/Case=Dat|Gender=Fem|Number=Sing unter_/ der_/Case=Dat|Definite=Def|Gender=Fem|Number=Sing|PronType=Art Zunge_/Case=Dat|Gender=Fem|Number=Sing unter_/ dem_/Case=Dat|Definite=Def|Gender=Neut|Number=Sing|PronType=Art Kinn_/Case=Dat|Gender=Neut|Number=Sing ,_/ Oktoberkeule_/Case=Nom|Gender=Fem|Number=Sing ,_/ und_/ schnarrendes_/Case=Nom|Degree=Pos|Gender=Neut|Number=Sing Maulhorn_/Case=Nom|Gender=Neut|Number=Sing ,_/ wo_/PronType=Int unsere_/Case=Nom|Gender=Masc|Number=Plur|Poss=Yes|PronType=Prs Schatten_/Case=Nom|Gender=Masc|Number=Plur einander_/Case=Dat|Number=Plur|Person=3|PronType=Prs|Reflex=Yes entgegen_/ sind_/Mood=Ind|Number=Plur|Person=3|Tense=Pres|VerbForm=Fin\n",
      "weil das Auge zuerst bricht der Körper will sich ja schließen, rufst du, Verdruss und Krankheit, die Witwe, Göttin aus der Maschine, die grünen Zigeunerkarten Spielkarten plötzlich aus der Tasche gezogen, gemischt vermischt, dreimal abheben! linkshändig! die Rosalia sichtbar zu machen (bewaldet) / wir essen kleine Drachen, den Mond, das Land ist Löwe, viel voll Hitze, Pompeji, Kunstwellen ein Kälberleib, Bekröter sogar, Wahrträume wie mit vielen Augen von jeder Pfütze getrunken, die Vögel picken zuerst das menschliche Auge aus, alles verflochten, Krankheit, Verdruss, Säge des Laubs, mein Gaumen krümmt sich, aber es ist kein Schatz zugegen, die Treue, Beständigkeit aus den Karten gelesen, Werktreue? rufe ich, Asche sein, Stativ deiner Beine, Schläfe mit Kappe, unter der Zunge, unter dem Kinn, Oktoberkeule, und dein schnarrend schnarrendes Maulhorn / wo unsere Schatten einander entgegen sind\n",
      "['weil_/', 'das_/Case=Nom|Definite=Def|Gender=Neut|Number=Sing|PronType=Art', 'Auge_/Case=Nom|Gender=Neut|Number=Sing', 'zuerst_/', 'bricht_/Mood=Ind|Number=Sing|Person=3|Tense=Pres|VerbForm=Fin', 'der_/Case=Nom|Definite=Def|Gender=Masc|Number=Sing|PronType=Art', 'Körper_/Case=Nom|Gender=Masc|Number=Sing', 'will_/Mood=Ind|Number=Sing|Person=3|Tense=Pres|VerbForm=Fin', 'sich_/Case=Acc|Number=Sing|Person=3|PronType=Prs|Reflex=Yes', 'ja_/', 'schließen_/VerbForm=Inf', ',_/', 'rufst_/Mood=Ind|Number=Sing|Person=2|Tense=Pres|VerbForm=Fin', 'du_/Case=Nom|Number=Sing|Person=2|PronType=Prs', ',_/', 'Verdruss_/Case=Nom|Gender=Masc|Number=Sing', 'und_/', 'Krankheit_/Case=Nom|Gender=Fem|Number=Sing', ',_/', 'die_/Case=Nom|Definite=Def|Gender=Fem|Number=Sing|PronType=Art', 'Witwe_/Case=Nom|Gender=Fem|Number=Sing', ',_/', 'Göttin_/Case=Nom|Gender=Fem|Number=Sing', 'aus_/', 'der_/Case=Dat|Definite=Def|Gender=Fem|Number=Sing|PronType=Art', 'Maschine_/Case=Dat|Gender=Fem|Number=Sing', ',_/', 'die_/Case=Acc|Definite=Def|Gender=Fem|Number=Plur|PronType=Art', 'grünen_/Case=Acc|Degree=Pos|Gender=Fem|Number=Plur', 'Zigeunerkarten_/Case=Acc|Gender=Fem|Number=Plur', 'Spielkarten_/Case=Acc|Gender=Fem|Number=Plur', 'plötzlich_/Degree=Pos', 'aus_/', 'der_/Case=Dat|Definite=Def|Gender=Fem|Number=Sing|PronType=Art', 'Tasche_/Case=Dat|Gender=Fem|Number=Sing', 'gezogen_/VerbForm=Part', ',_/', 'gemischt_/VerbForm=Part', 'vermischt_/VerbForm=Part', ',_/', 'dreimal_/', 'abheben_/VerbForm=Inf', '!_/', 'linkshändig_/Degree=Pos', '!_/', 'die_/Case=Acc|Definite=Def|Gender=Fem|Number=Sing|PronType=Art', 'Rosalia_/Case=Acc|Gender=Fem|Number=Sing', 'sichtbar_/Degree=Pos', 'zu_/', 'machen_/VerbForm=Inf', '(_/', 'bewaldet_/Degree=Pos', ')_/', '/_/', 'wir_/Case=Nom|Number=Plur|Person=1|PronType=Prs', 'essen_/Mood=Ind|Number=Plur|Person=1|Tense=Pres|VerbForm=Fin', 'kleine_/Case=Acc|Degree=Pos|Gender=Masc|Number=Plur', 'Drachen_/Case=Acc|Gender=Masc|Number=Plur', ',_/', 'den_/Case=Acc|Definite=Def|Gender=Masc|Number=Sing|PronType=Art', 'Mond_/Case=Acc|Gender=Masc|Number=Sing', ',_/', 'das_/Case=Nom|Definite=Def|Gender=Neut|Number=Sing|PronType=Art', 'Land_/Case=Nom|Gender=Neut|Number=Sing', 'ist_/Mood=Ind|Number=Sing|Person=3|Tense=Pres|VerbForm=Fin', 'Löwe_/Case=Nom|Gender=Masc|Number=Sing', ',_/', 'viel_/', 'voll_/', 'Hitze_/Case=Gen|Gender=Fem|Number=Sing', ',_/', 'Pompeji_/Case=Nom|Gender=Neut|Number=Sing', ',_/', 'Kunstwellen_/Case=Nom|Gender=Fem|Number=Plur', 'ein_/Case=Nom|Definite=Ind|Gender=Masc|Number=Sing|PronType=Art', 'Kälberleib_/Case=Nom|Gender=Masc|Number=Sing', ',_/', 'Bekröter_/Case=Nom|Gender=Masc|Number=Sing', 'sogar_/', ',_/', 'Wahrträume_/Case=Nom|Gender=Masc|Number=Plur', 'wie_/', 'mit_/', 'vielen_/Case=Dat|Gender=Neut|Number=Plur|PronType=Ind', 'Augen_/Case=Dat|Gender=Neut|Number=Plur', 'von_/', 'jeder_/Case=Dat|Gender=Fem|Number=Sing|PronType=Ind', 'Pfütze_/Case=Dat|Gender=Fem|Number=Sing', 'getrunken_/VerbForm=Part', ',_/', 'die_/Case=Nom|Definite=Def|Gender=Masc|Number=Plur|PronType=Art', 'Vögel_/Case=Nom|Gender=Masc|Number=Plur', 'picken_/Mood=Ind|Number=Plur|Person=3|Tense=Pres|VerbForm=Fin', 'zuerst_/', 'das_/Case=Acc|Definite=Def|Gender=Neut|Number=Sing|PronType=Art', 'menschliche_/Case=Acc|Degree=Pos|Gender=Neut|Number=Sing', 'Auge_/Case=Acc|Gender=Neut|Number=Sing', 'aus_/', ',_/', 'alles_/Case=Nom|Gender=Neut|Number=Sing|PronType=Ind', 'verflochten_/Degree=Pos', ',_/', 'Krankheit_/Case=Nom|Gender=Fem|Number=Sing', ',_/', 'Verdruss_/Case=Nom|Gender=Masc|Number=Sing', ',_/', 'Säge_/Case=Nom|Gender=Fem|Number=Sing', 'des_/Case=Gen|Definite=Def|Gender=Neut|Number=Sing|PronType=Art', 'Laubs_/Case=Gen|Gender=Neut|Number=Sing', ',_/', 'mein_/Case=Nom|Gender=Masc|Number=Sing|Poss=Yes|PronType=Prs', 'Gaumen_/Case=Nom|Gender=Masc|Number=Sing', 'krümmt_/Mood=Ind|Number=Sing|Person=3|Tense=Pres|VerbForm=Fin', 'sich_/Case=Acc|Number=Sing|Person=3|PronType=Prs|Reflex=Yes', ',_/', 'aber_/', 'es_/Case=Nom|Gender=Neut|Number=Sing|Person=3|PronType=Prs', 'ist_/Mood=Ind|Number=Sing|Person=3|Tense=Pres|VerbForm=Fin', 'kein_/Case=Nom|Gender=Masc|Number=Sing|PronType=Ind', 'Schatz_/Case=Nom|Gender=Masc|Number=Sing', 'zugegen_/VerbForm=Part', ',_/', 'die_/Case=Nom|Definite=Def|Gender=Fem|Number=Sing|PronType=Art', 'Treue_/Case=Nom|Gender=Fem|Number=Sing', ',_/', 'Beständigkeit_/Case=Nom|Gender=Fem|Number=Sing', 'aus_/', 'den_/Case=Dat|Definite=Def|Gender=Fem|Number=Plur|PronType=Art', 'Karten_/Case=Dat|Gender=Fem|Number=Plur', 'gelesen_/VerbForm=Part', ',_/', 'Werktreue_/Case=Nom|Gender=Fem|Number=Sing', '?_/', 'rufe_/Mood=Ind|Number=Sing|Person=1|Tense=Pres|VerbForm=Fin', 'ich_/Case=Nom|Number=Sing|Person=1|PronType=Prs', ',_/', 'Asche_/Case=Nom|Gender=Fem|Number=Sing', 'sein_/VerbForm=Inf', ',_/', 'Stativ_/Case=Nom|Gender=Neut|Number=Sing', 'deiner_/Case=Gen|Gender=Neut|Number=Plur|Poss=Yes|PronType=Prs', 'Beine_/Case=Gen|Gender=Neut|Number=Plur', ',_/', 'Schläfe_/Case=Acc|Gender=Masc|Number=Plur', 'mit_/', 'Kappe_/Case=Dat|Gender=Fem|Number=Sing', ',_/', 'unter_/', 'der_/Case=Dat|Definite=Def|Gender=Fem|Number=Sing|PronType=Art', 'Zunge_/Case=Dat|Gender=Fem|Number=Sing', ',_/', 'unter_/', 'dem_/Case=Dat|Definite=Def|Gender=Neut|Number=Sing|PronType=Art', 'Kinn_/Case=Dat|Gender=Neut|Number=Sing', ',_/', 'Oktoberkeule_/Case=Nom|Gender=Fem|Number=Sing', ',_/', 'und_/', 'dein_/Case=Acc|Gender=Neut|Number=Sing|Poss=Yes|PronType=Prs', 'schnarrend_/Degree=Pos', 'schnarrendes_/Case=Nom|Degree=Pos|Gender=Neut|Number=Sing', 'Maulhorn_/Case=Acc|Gender=Neut|Number=Sing', '/_/', 'wo_/PronType=Int', 'unsere_/Case=Nom|Gender=Masc|Number=Plur|Poss=Yes|PronType=Prs', 'Schatten_/Case=Nom|Gender=Masc|Number=Plur', 'einander_/Case=Dat|Number=Plur|Person=3|PronType=Prs|Reflex=Yes', 'entgegen_/', 'sind_/Mood=Ind|Number=Plur|Person=3|Tense=Pres|VerbForm=Fin']\n",
      "weil_/ das_/Case=Nom|Definite=Def|Gender=Neut|Number=Sing|PronType=Art Auge_/Case=Nom|Gender=Neut|Number=Sing zuerst_/ bricht_/Mood=Ind|Number=Sing|Person=3|Tense=Pres|VerbForm=Fin der_/Case=Nom|Definite=Def|Gender=Masc|Number=Sing|PronType=Art Körper_/Case=Nom|Gender=Masc|Number=Sing will_/Mood=Ind|Number=Sing|Person=3|Tense=Pres|VerbForm=Fin sich_/Case=Acc|Number=Sing|Person=3|PronType=Prs|Reflex=Yes ja_/ schließen_/VerbForm=Inf ,_/ rufst_/Mood=Ind|Number=Sing|Person=2|Tense=Pres|VerbForm=Fin du_/Case=Nom|Number=Sing|Person=2|PronType=Prs ,_/ Verdruss_/Case=Nom|Gender=Masc|Number=Sing und_/ Krankheit_/Case=Nom|Gender=Fem|Number=Sing ,_/ die_/Case=Nom|Definite=Def|Gender=Fem|Number=Sing|PronType=Art Witwe_/Case=Nom|Gender=Fem|Number=Sing ,_/ Göttin_/Case=Nom|Gender=Fem|Number=Sing aus_/ der_/Case=Dat|Definite=Def|Gender=Fem|Number=Sing|PronType=Art Maschine_/Case=Dat|Gender=Fem|Number=Sing ,_/ die_/Case=Acc|Definite=Def|Gender=Fem|Number=Plur|PronType=Art grünen_/Case=Acc|Degree=Pos|Gender=Fem|Number=Plur Zigeunerkarten_/Case=Acc|Gender=Fem|Number=Plur Spielkarten_/Case=Acc|Gender=Fem|Number=Plur plötzlich_/Degree=Pos aus_/ der_/Case=Dat|Definite=Def|Gender=Fem|Number=Sing|PronType=Art Tasche_/Case=Dat|Gender=Fem|Number=Sing gezogen_/VerbForm=Part ,_/ gemischt_/VerbForm=Part vermischt_/VerbForm=Part ,_/ dreimal_/ abheben_/VerbForm=Inf !_/ linkshändig_/Degree=Pos !_/ die_/Case=Acc|Definite=Def|Gender=Fem|Number=Sing|PronType=Art Rosalia_/Case=Acc|Gender=Fem|Number=Sing sichtbar_/Degree=Pos zu_/ machen_/VerbForm=Inf (_/ bewaldet_/Degree=Pos )_/ /_/ wir_/Case=Nom|Number=Plur|Person=1|PronType=Prs essen_/Mood=Ind|Number=Plur|Person=1|Tense=Pres|VerbForm=Fin kleine_/Case=Acc|Degree=Pos|Gender=Masc|Number=Plur Drachen_/Case=Acc|Gender=Masc|Number=Plur ,_/ den_/Case=Acc|Definite=Def|Gender=Masc|Number=Sing|PronType=Art Mond_/Case=Acc|Gender=Masc|Number=Sing ,_/ das_/Case=Nom|Definite=Def|Gender=Neut|Number=Sing|PronType=Art Land_/Case=Nom|Gender=Neut|Number=Sing ist_/Mood=Ind|Number=Sing|Person=3|Tense=Pres|VerbForm=Fin Löwe_/Case=Nom|Gender=Masc|Number=Sing ,_/ viel_/ voll_/ Hitze_/Case=Gen|Gender=Fem|Number=Sing ,_/ Pompeji_/Case=Nom|Gender=Neut|Number=Sing ,_/ Kunstwellen_/Case=Nom|Gender=Fem|Number=Plur ein_/Case=Nom|Definite=Ind|Gender=Masc|Number=Sing|PronType=Art Kälberleib_/Case=Nom|Gender=Masc|Number=Sing ,_/ Bekröter_/Case=Nom|Gender=Masc|Number=Sing sogar_/ ,_/ Wahrträume_/Case=Nom|Gender=Masc|Number=Plur wie_/ mit_/ vielen_/Case=Dat|Gender=Neut|Number=Plur|PronType=Ind Augen_/Case=Dat|Gender=Neut|Number=Plur von_/ jeder_/Case=Dat|Gender=Fem|Number=Sing|PronType=Ind Pfütze_/Case=Dat|Gender=Fem|Number=Sing getrunken_/VerbForm=Part ,_/ die_/Case=Nom|Definite=Def|Gender=Masc|Number=Plur|PronType=Art Vögel_/Case=Nom|Gender=Masc|Number=Plur picken_/Mood=Ind|Number=Plur|Person=3|Tense=Pres|VerbForm=Fin zuerst_/ das_/Case=Acc|Definite=Def|Gender=Neut|Number=Sing|PronType=Art menschliche_/Case=Acc|Degree=Pos|Gender=Neut|Number=Sing Auge_/Case=Acc|Gender=Neut|Number=Sing aus_/ ,_/ alles_/Case=Nom|Gender=Neut|Number=Sing|PronType=Ind verflochten_/Degree=Pos ,_/ Krankheit_/Case=Nom|Gender=Fem|Number=Sing ,_/ Verdruss_/Case=Nom|Gender=Masc|Number=Sing ,_/ Säge_/Case=Nom|Gender=Fem|Number=Sing des_/Case=Gen|Definite=Def|Gender=Neut|Number=Sing|PronType=Art Laubs_/Case=Gen|Gender=Neut|Number=Sing ,_/ mein_/Case=Nom|Gender=Masc|Number=Sing|Poss=Yes|PronType=Prs Gaumen_/Case=Nom|Gender=Masc|Number=Sing krümmt_/Mood=Ind|Number=Sing|Person=3|Tense=Pres|VerbForm=Fin sich_/Case=Acc|Number=Sing|Person=3|PronType=Prs|Reflex=Yes ,_/ aber_/ es_/Case=Nom|Gender=Neut|Number=Sing|Person=3|PronType=Prs ist_/Mood=Ind|Number=Sing|Person=3|Tense=Pres|VerbForm=Fin kein_/Case=Nom|Gender=Masc|Number=Sing|PronType=Ind Schatz_/Case=Nom|Gender=Masc|Number=Sing zugegen_/VerbForm=Part ,_/ die_/Case=Nom|Definite=Def|Gender=Fem|Number=Sing|PronType=Art Treue_/Case=Nom|Gender=Fem|Number=Sing ,_/ Beständigkeit_/Case=Nom|Gender=Fem|Number=Sing aus_/ den_/Case=Dat|Definite=Def|Gender=Fem|Number=Plur|PronType=Art Karten_/Case=Dat|Gender=Fem|Number=Plur gelesen_/VerbForm=Part ,_/ Werktreue_/Case=Nom|Gender=Fem|Number=Sing ?_/ rufe_/Mood=Ind|Number=Sing|Person=1|Tense=Pres|VerbForm=Fin ich_/Case=Nom|Number=Sing|Person=1|PronType=Prs ,_/ Asche_/Case=Nom|Gender=Fem|Number=Sing sein_/VerbForm=Inf ,_/ Stativ_/Case=Nom|Gender=Neut|Number=Sing deiner_/Case=Gen|Gender=Neut|Number=Plur|Poss=Yes|PronType=Prs Beine_/Case=Gen|Gender=Neut|Number=Plur ,_/ Schläfe_/Case=Acc|Gender=Masc|Number=Plur mit_/ Kappe_/Case=Dat|Gender=Fem|Number=Sing ,_/ unter_/ der_/Case=Dat|Definite=Def|Gender=Fem|Number=Sing|PronType=Art Zunge_/Case=Dat|Gender=Fem|Number=Sing ,_/ unter_/ dem_/Case=Dat|Definite=Def|Gender=Neut|Number=Sing|PronType=Art Kinn_/Case=Dat|Gender=Neut|Number=Sing ,_/ Oktoberkeule_/Case=Nom|Gender=Fem|Number=Sing ,_/ und_/ dein_/Case=Acc|Gender=Neut|Number=Sing|Poss=Yes|PronType=Prs schnarrend_/Degree=Pos schnarrendes_/Case=Nom|Degree=Pos|Gender=Neut|Number=Sing Maulhorn_/Case=Acc|Gender=Neut|Number=Sing /_/ wo_/PronType=Int unsere_/Case=Nom|Gender=Masc|Number=Plur|Poss=Yes|PronType=Prs Schatten_/Case=Nom|Gender=Masc|Number=Plur einander_/Case=Dat|Number=Plur|Person=3|PronType=Prs|Reflex=Yes entgegen_/ sind_/Mood=Ind|Number=Plur|Person=3|Tense=Pres|VerbForm=Fin\n",
      "vielleicht weil das Auge zuerst bricht der Körper will sich ja schließen! rufst du Verdruss und Krankheit der Witwe : Göttin aus der Maschine, die grünen Zigeunerkarten plötzlich aus der Tasche gezogen vermischt, dreimal abheben! linkshändig! die Rosalia sichtbar zu machen (bewaldet), wir essen kleine Drachen den Mond, das Land ist Löwe viel Hitze Pompeji Kunstwellen Kälberleib Bekröter sogar : Wahrträume - wie mit vielen Augen aus jeder Pfütze getrunken, die Vögel picken das menschliche Auge zuerst aus, alles verflochten Krankheit Verdruss Säge des Laubs, mein Gaumen krümmt sich aber es ist kein Schatz zugegen, die Treue Beständigkeit aus den Karten gelesen, Werktreue? rufe ich, Asche werden, Stativ deiner Beine, Schläfe mit Kappe, Oktoberkeule dein schnarrendes Maulhorn ach wo unsere Schatten einander entgegen sind -\n",
      "['vielleicht_/', 'weil_/', 'das_/Case=Nom|Definite=Def|Gender=Neut|Number=Sing|PronType=Art', 'Auge_/Case=Nom|Gender=Neut|Number=Sing', 'zuerst_/', 'bricht_/Mood=Ind|Number=Sing|Person=3|Tense=Pres|VerbForm=Fin', 'der_/Case=Nom|Definite=Def|Gender=Masc|Number=Sing|PronType=Art', 'Körper_/Case=Nom|Gender=Masc|Number=Sing', 'will_/Mood=Ind|Number=Sing|Person=3|Tense=Pres|VerbForm=Fin', 'sich_/Case=Acc|Number=Sing|Person=3|PronType=Prs|Reflex=Yes', 'ja_/', 'schließen_/VerbForm=Inf', '!_/', 'rufst_/Mood=Ind|Number=Sing|Person=2|Tense=Pres|VerbForm=Fin', 'du_/Case=Nom|Number=Sing|Person=2|PronType=Prs', 'Verdruss_/Case=Acc|Gender=Masc|Number=Sing', 'und_/', 'Krankheit_/Case=Acc|Gender=Fem|Number=Sing', 'der_/Case=Gen|Definite=Def|Gender=Fem|Number=Sing|PronType=Art', 'Witwe_/Case=Gen|Gender=Fem|Number=Sing', ':_/', 'Göttin_/Case=Nom|Gender=Fem|Number=Sing', 'aus_/', 'der_/Case=Dat|Definite=Def|Gender=Fem|Number=Sing|PronType=Art', 'Maschine_/Case=Dat|Gender=Fem|Number=Sing', ',_/', 'die_/Case=Acc|Definite=Def|Gender=Fem|Number=Plur|PronType=Art', 'grünen_/Case=Acc|Degree=Pos|Gender=Fem|Number=Plur', 'Zigeunerkarten_/Case=Acc|Gender=Fem|Number=Plur', 'plötzlich_/Degree=Pos', 'aus_/', 'der_/Case=Dat|Definite=Def|Gender=Fem|Number=Sing|PronType=Art', 'Tasche_/Case=Dat|Gender=Fem|Number=Sing', 'gezogen_/VerbForm=Part', 'vermischt_/VerbForm=Part', ',_/', 'dreimal_/', 'abheben_/VerbForm=Inf', '!_/', 'linkshändig_/Degree=Pos', '!_/', 'die_/Case=Acc|Definite=Def|Gender=Fem|Number=Sing|PronType=Art', 'Rosalia_/Case=Acc|Gender=Fem|Number=Sing', 'sichtbar_/Degree=Pos', 'zu_/', 'machen_/VerbForm=Inf', '(_/', 'bewaldet_/Degree=Pos', ')_/', ',_/', 'wir_/Case=Nom|Number=Plur|Person=1|PronType=Prs', 'essen_/Mood=Ind|Number=Plur|Person=1|Tense=Pres|VerbForm=Fin', 'kleine_/Case=Acc|Degree=Pos|Gender=Masc|Number=Plur', 'Drachen_/Case=Acc|Gender=Masc|Number=Plur', 'den_/Case=Acc|Definite=Def|Gender=Masc|Number=Sing|PronType=Art', 'Mond_/Case=Acc|Gender=Masc|Number=Sing', ',_/', 'das_/Case=Nom|Definite=Def|Gender=Neut|Number=Sing|PronType=Art', 'Land_/Case=Nom|Gender=Neut|Number=Sing', 'ist_/Mood=Ind|Number=Sing|Person=3|Tense=Pres|VerbForm=Fin', 'Löwe_/Case=Nom|Gender=Masc|Number=Sing', 'viel_/PronType=Ind', 'Hitze_/Case=Nom|Gender=Fem|Number=Sing', 'Pompeji_/Case=Nom|Gender=Neut|Number=Sing', 'Kunstwellen_/Case=Nom|Gender=Fem|Number=Plur', 'Kälberleib_/Case=Nom|Gender=Masc|Number=Sing', 'Bekröter_/Case=Nom|Gender=Masc|Number=Plur', 'sogar_/', ':_/', 'Wahrträume_/Case=Nom|Gender=Masc|Number=Plur', '-_/', 'wie_/', 'mit_/', 'vielen_/Case=Dat|Gender=Neut|Number=Plur|PronType=Ind', 'Augen_/Case=Dat|Gender=Neut|Number=Plur', 'aus_/', 'jeder_/Case=Dat|Gender=Fem|Number=Sing|PronType=Ind', 'Pfütze_/Case=Dat|Gender=Fem|Number=Sing', 'getrunken_/VerbForm=Part', ',_/', 'die_/Case=Nom|Definite=Def|Gender=Masc|Number=Plur|PronType=Art', 'Vögel_/Case=Nom|Gender=Masc|Number=Plur', 'picken_/Mood=Ind|Number=Plur|Person=3|Tense=Pres|VerbForm=Fin', 'das_/Case=Acc|Definite=Def|Gender=Neut|Number=Sing|PronType=Art', 'menschliche_/Case=Acc|Degree=Pos|Gender=Neut|Number=Sing', 'Auge_/Case=Acc|Gender=Neut|Number=Sing', 'zuerst_/', 'aus_/', ',_/', 'alles_/Case=Nom|Gender=Neut|Number=Sing|PronType=Ind', 'verflochten_/Degree=Pos', 'Krankheit_/Case=Nom|Gender=Fem|Number=Sing', 'Verdruss_/Case=Nom|Gender=Masc|Number=Sing', 'Säge_/Case=Nom|Gender=Fem|Number=Sing', 'des_/Case=Gen|Definite=Def|Gender=Neut|Number=Sing|PronType=Art', 'Laubs_/Case=Gen|Gender=Neut|Number=Sing', ',_/', 'mein_/Case=Nom|Gender=Masc|Number=Sing|Poss=Yes|PronType=Prs', 'Gaumen_/Case=Nom|Gender=Masc|Number=Sing', 'krümmt_/Mood=Ind|Number=Sing|Person=3|Tense=Pres|VerbForm=Fin', 'sich_/Case=Acc|Number=Sing|Person=3|PronType=Prs|Reflex=Yes', 'aber_/', 'es_/Case=Nom|Gender=Neut|Number=Sing|Person=3|PronType=Prs', 'ist_/Mood=Ind|Number=Sing|Person=3|Tense=Pres|VerbForm=Fin', 'kein_/Case=Nom|Gender=Masc|Number=Sing|PronType=Ind', 'Schatz_/Case=Nom|Gender=Masc|Number=Sing', 'zugegen_/VerbForm=Part', ',_/', 'die_/Case=Acc|Definite=Def|Gender=Fem|Number=Sing|PronType=Art', 'Treue_/Case=Acc|Gender=Fem|Number=Sing', 'Beständigkeit_/Case=Nom|Gender=Fem|Number=Sing', 'aus_/', 'den_/Case=Dat|Definite=Def|Gender=Fem|Number=Plur|PronType=Art', 'Karten_/Case=Dat|Gender=Fem|Number=Plur', 'gelesen_/VerbForm=Part', ',_/', 'Werktreue_/Case=Acc|Gender=Fem|Number=Sing', '?_/', 'rufe_/Mood=Ind|Number=Sing|Person=1|Tense=Pres|VerbForm=Fin', 'ich_/Case=Nom|Number=Sing|Person=1|PronType=Prs', ',_/', 'Asche_/Case=Nom|Gender=Fem|Number=Sing', 'werden_/VerbForm=Inf', ',_/', 'Stativ_/Case=Nom|Gender=Neut|Number=Sing', 'deiner_/Case=Gen|Gender=Neut|Number=Plur|Poss=Yes|PronType=Prs', 'Beine_/Case=Gen|Gender=Neut|Number=Plur', ',_/', 'Schläfe_/Case=Nom|Gender=Masc|Number=Plur', 'mit_/', 'Kappe_/Case=Dat|Gender=Fem|Number=Sing', ',_/', 'Oktoberkeule_/Case=Nom|Gender=Fem|Number=Sing', 'dein_/Case=Acc|Gender=Neut|Number=Sing|Poss=Yes|PronType=Prs', 'schnarrendes_/Case=Nom|Degree=Pos|Gender=Neut|Number=Sing', 'Maulhorn_/Case=Nom|Gender=Neut|Number=Sing', 'ach_/', 'wo_/PronType=Int', 'unsere_/Case=Nom|Gender=Masc|Number=Plur|Poss=Yes|PronType=Prs', 'Schatten_/Case=Nom|Gender=Masc|Number=Plur', 'einander_/Case=Dat|Number=Plur|Person=3|PronType=Prs|Reflex=Yes', 'entgegen_/', 'sind_/Mood=Ind|Number=Plur|Person=3|Tense=Pres|VerbForm=Fin', '-_/']\n",
      "vielleicht_/ weil_/ das_/Case=Nom|Definite=Def|Gender=Neut|Number=Sing|PronType=Art Auge_/Case=Nom|Gender=Neut|Number=Sing zuerst_/ bricht_/Mood=Ind|Number=Sing|Person=3|Tense=Pres|VerbForm=Fin der_/Case=Nom|Definite=Def|Gender=Masc|Number=Sing|PronType=Art Körper_/Case=Nom|Gender=Masc|Number=Sing will_/Mood=Ind|Number=Sing|Person=3|Tense=Pres|VerbForm=Fin sich_/Case=Acc|Number=Sing|Person=3|PronType=Prs|Reflex=Yes ja_/ schließen_/VerbForm=Inf !_/ rufst_/Mood=Ind|Number=Sing|Person=2|Tense=Pres|VerbForm=Fin du_/Case=Nom|Number=Sing|Person=2|PronType=Prs Verdruss_/Case=Acc|Gender=Masc|Number=Sing und_/ Krankheit_/Case=Acc|Gender=Fem|Number=Sing der_/Case=Gen|Definite=Def|Gender=Fem|Number=Sing|PronType=Art Witwe_/Case=Gen|Gender=Fem|Number=Sing :_/ Göttin_/Case=Nom|Gender=Fem|Number=Sing aus_/ der_/Case=Dat|Definite=Def|Gender=Fem|Number=Sing|PronType=Art Maschine_/Case=Dat|Gender=Fem|Number=Sing ,_/ die_/Case=Acc|Definite=Def|Gender=Fem|Number=Plur|PronType=Art grünen_/Case=Acc|Degree=Pos|Gender=Fem|Number=Plur Zigeunerkarten_/Case=Acc|Gender=Fem|Number=Plur plötzlich_/Degree=Pos aus_/ der_/Case=Dat|Definite=Def|Gender=Fem|Number=Sing|PronType=Art Tasche_/Case=Dat|Gender=Fem|Number=Sing gezogen_/VerbForm=Part vermischt_/VerbForm=Part ,_/ dreimal_/ abheben_/VerbForm=Inf !_/ linkshändig_/Degree=Pos !_/ die_/Case=Acc|Definite=Def|Gender=Fem|Number=Sing|PronType=Art Rosalia_/Case=Acc|Gender=Fem|Number=Sing sichtbar_/Degree=Pos zu_/ machen_/VerbForm=Inf (_/ bewaldet_/Degree=Pos )_/ ,_/ wir_/Case=Nom|Number=Plur|Person=1|PronType=Prs essen_/Mood=Ind|Number=Plur|Person=1|Tense=Pres|VerbForm=Fin kleine_/Case=Acc|Degree=Pos|Gender=Masc|Number=Plur Drachen_/Case=Acc|Gender=Masc|Number=Plur den_/Case=Acc|Definite=Def|Gender=Masc|Number=Sing|PronType=Art Mond_/Case=Acc|Gender=Masc|Number=Sing ,_/ das_/Case=Nom|Definite=Def|Gender=Neut|Number=Sing|PronType=Art Land_/Case=Nom|Gender=Neut|Number=Sing ist_/Mood=Ind|Number=Sing|Person=3|Tense=Pres|VerbForm=Fin Löwe_/Case=Nom|Gender=Masc|Number=Sing viel_/PronType=Ind Hitze_/Case=Nom|Gender=Fem|Number=Sing Pompeji_/Case=Nom|Gender=Neut|Number=Sing Kunstwellen_/Case=Nom|Gender=Fem|Number=Plur Kälberleib_/Case=Nom|Gender=Masc|Number=Sing Bekröter_/Case=Nom|Gender=Masc|Number=Plur sogar_/ :_/ Wahrträume_/Case=Nom|Gender=Masc|Number=Plur -_/ wie_/ mit_/ vielen_/Case=Dat|Gender=Neut|Number=Plur|PronType=Ind Augen_/Case=Dat|Gender=Neut|Number=Plur aus_/ jeder_/Case=Dat|Gender=Fem|Number=Sing|PronType=Ind Pfütze_/Case=Dat|Gender=Fem|Number=Sing getrunken_/VerbForm=Part ,_/ die_/Case=Nom|Definite=Def|Gender=Masc|Number=Plur|PronType=Art Vögel_/Case=Nom|Gender=Masc|Number=Plur picken_/Mood=Ind|Number=Plur|Person=3|Tense=Pres|VerbForm=Fin das_/Case=Acc|Definite=Def|Gender=Neut|Number=Sing|PronType=Art menschliche_/Case=Acc|Degree=Pos|Gender=Neut|Number=Sing Auge_/Case=Acc|Gender=Neut|Number=Sing zuerst_/ aus_/ ,_/ alles_/Case=Nom|Gender=Neut|Number=Sing|PronType=Ind verflochten_/Degree=Pos Krankheit_/Case=Nom|Gender=Fem|Number=Sing Verdruss_/Case=Nom|Gender=Masc|Number=Sing Säge_/Case=Nom|Gender=Fem|Number=Sing des_/Case=Gen|Definite=Def|Gender=Neut|Number=Sing|PronType=Art Laubs_/Case=Gen|Gender=Neut|Number=Sing ,_/ mein_/Case=Nom|Gender=Masc|Number=Sing|Poss=Yes|PronType=Prs Gaumen_/Case=Nom|Gender=Masc|Number=Sing krümmt_/Mood=Ind|Number=Sing|Person=3|Tense=Pres|VerbForm=Fin sich_/Case=Acc|Number=Sing|Person=3|PronType=Prs|Reflex=Yes aber_/ es_/Case=Nom|Gender=Neut|Number=Sing|Person=3|PronType=Prs ist_/Mood=Ind|Number=Sing|Person=3|Tense=Pres|VerbForm=Fin kein_/Case=Nom|Gender=Masc|Number=Sing|PronType=Ind Schatz_/Case=Nom|Gender=Masc|Number=Sing zugegen_/VerbForm=Part ,_/ die_/Case=Acc|Definite=Def|Gender=Fem|Number=Sing|PronType=Art Treue_/Case=Acc|Gender=Fem|Number=Sing Beständigkeit_/Case=Nom|Gender=Fem|Number=Sing aus_/ den_/Case=Dat|Definite=Def|Gender=Fem|Number=Plur|PronType=Art Karten_/Case=Dat|Gender=Fem|Number=Plur gelesen_/VerbForm=Part ,_/ Werktreue_/Case=Acc|Gender=Fem|Number=Sing ?_/ rufe_/Mood=Ind|Number=Sing|Person=1|Tense=Pres|VerbForm=Fin ich_/Case=Nom|Number=Sing|Person=1|PronType=Prs ,_/ Asche_/Case=Nom|Gender=Fem|Number=Sing werden_/VerbForm=Inf ,_/ Stativ_/Case=Nom|Gender=Neut|Number=Sing deiner_/Case=Gen|Gender=Neut|Number=Plur|Poss=Yes|PronType=Prs Beine_/Case=Gen|Gender=Neut|Number=Plur ,_/ Schläfe_/Case=Nom|Gender=Masc|Number=Plur mit_/ Kappe_/Case=Dat|Gender=Fem|Number=Sing ,_/ Oktoberkeule_/Case=Nom|Gender=Fem|Number=Sing dein_/Case=Acc|Gender=Neut|Number=Sing|Poss=Yes|PronType=Prs schnarrendes_/Case=Nom|Degree=Pos|Gender=Neut|Number=Sing Maulhorn_/Case=Nom|Gender=Neut|Number=Sing ach_/ wo_/PronType=Int unsere_/Case=Nom|Gender=Masc|Number=Plur|Poss=Yes|PronType=Prs Schatten_/Case=Nom|Gender=Masc|Number=Plur einander_/Case=Dat|Number=Plur|Person=3|PronType=Prs|Reflex=Yes entgegen_/ sind_/Mood=Ind|Number=Plur|Person=3|Tense=Pres|VerbForm=Fin -_/\n"
     ]
    }
   ],
   "source": [
    "for lg in linegroups: \n",
    "    for line in lg:\n",
    "        if line is not None and line.text:\n",
    "            line_text = line.text\n",
    "            line_text.replace(\"\\n\", \"\").replace(\"\\r\", \"\")\n",
    "            line_text = \" \".join(line_text.strip().split())\n",
    "            print(line_text)\n",
    "            doc = nlp(line_text)\n",
    "            \n",
    "            new_line_text = []\n",
    "            for token in doc:\n",
    "                new_token = f\"{token.text}_/{token.morph}\"\n",
    "                new_line_text.append(new_token)\n",
    "            \n",
    "            print(new_line_text)        \n",
    "            newlinetext = \" \".join(new_line_text)\n",
    "            print(newlinetext)\n",
    "    line.text = newlinetext\n",
    "    \n",
    "tree.write(\"output_morph_vwdazb_trf.xml\", encoding=\"utf-8\", xml_declaration=True)"
   ]
  },
  {
   "cell_type": "markdown",
   "id": "8a490b13-a6de-4624-bc5b-61fd4f4f6c69",
   "metadata": {},
   "source": [
    "##### als Tabelle speichern"
   ]
  },
  {
   "cell_type": "code",
   "execution_count": 11,
   "id": "5fe04cd0",
   "metadata": {
    "scrolled": true
   },
   "outputs": [
    {
     "data": {
      "text/html": [
       "<div>\n",
       "<style scoped>\n",
       "    .dataframe tbody tr th:only-of-type {\n",
       "        vertical-align: middle;\n",
       "    }\n",
       "\n",
       "    .dataframe tbody tr th {\n",
       "        vertical-align: top;\n",
       "    }\n",
       "\n",
       "    .dataframe thead th {\n",
       "        text-align: right;\n",
       "    }\n",
       "</style>\n",
       "<table border=\"1\" class=\"dataframe\">\n",
       "  <thead>\n",
       "    <tr style=\"text-align: right;\">\n",
       "      <th></th>\n",
       "      <th>text</th>\n",
       "      <th>pos</th>\n",
       "    </tr>\n",
       "  </thead>\n",
       "  <tbody>\n",
       "    <tr>\n",
       "      <th>0</th>\n",
       "      <td>der</td>\n",
       "      <td>(Case=Nom, Definite=Def, Gender=Masc, Number=S...</td>\n",
       "    </tr>\n",
       "    <tr>\n",
       "      <th>1</th>\n",
       "      <td>Körper</td>\n",
       "      <td>(Case=Nom, Gender=Masc, Number=Sing)</td>\n",
       "    </tr>\n",
       "    <tr>\n",
       "      <th>2</th>\n",
       "      <td>will</td>\n",
       "      <td>(Mood=Ind, Number=Sing, Person=3, Tense=Pres, ...</td>\n",
       "    </tr>\n",
       "    <tr>\n",
       "      <th>3</th>\n",
       "      <td>sich</td>\n",
       "      <td>(Case=Acc, Number=Sing, Person=3, PronType=Prs...</td>\n",
       "    </tr>\n",
       "    <tr>\n",
       "      <th>4</th>\n",
       "      <td>ja</td>\n",
       "      <td>()</td>\n",
       "    </tr>\n",
       "    <tr>\n",
       "      <th>5</th>\n",
       "      <td>schließen</td>\n",
       "      <td>(VerbForm=Inf)</td>\n",
       "    </tr>\n",
       "    <tr>\n",
       "      <th>6</th>\n",
       "      <td>,</td>\n",
       "      <td>()</td>\n",
       "    </tr>\n",
       "    <tr>\n",
       "      <th>7</th>\n",
       "      <td>rufst</td>\n",
       "      <td>(Mood=Ind, Number=Sing, Person=2, Tense=Pres, ...</td>\n",
       "    </tr>\n",
       "    <tr>\n",
       "      <th>8</th>\n",
       "      <td>du</td>\n",
       "      <td>(Case=Nom, Number=Sing, Person=2, PronType=Prs)</td>\n",
       "    </tr>\n",
       "    <tr>\n",
       "      <th>9</th>\n",
       "      <td>,</td>\n",
       "      <td>()</td>\n",
       "    </tr>\n",
       "  </tbody>\n",
       "</table>\n",
       "</div>"
      ],
      "text/plain": [
       "        text                                                pos\n",
       "0        der  (Case=Nom, Definite=Def, Gender=Masc, Number=S...\n",
       "1     Körper               (Case=Nom, Gender=Masc, Number=Sing)\n",
       "2       will  (Mood=Ind, Number=Sing, Person=3, Tense=Pres, ...\n",
       "3       sich  (Case=Acc, Number=Sing, Person=3, PronType=Prs...\n",
       "4         ja                                                 ()\n",
       "5  schließen                                     (VerbForm=Inf)\n",
       "6          ,                                                 ()\n",
       "7      rufst  (Mood=Ind, Number=Sing, Person=2, Tense=Pres, ...\n",
       "8         du    (Case=Nom, Number=Sing, Person=2, PronType=Prs)\n",
       "9          ,                                                 ()"
      ]
     },
     "execution_count": 11,
     "metadata": {},
     "output_type": "execute_result"
    }
   ],
   "source": [
    "tree = etree.parse(\"C:/Users/jO/Desktop/DH_MA_Arbeit/coding/transkribiert_ohne-unclear-_vielleichtweil.xml\")\n",
    "linegroups = tree.xpath(\"//tei:lg\", namespaces={\"tei\": \"http://www.tei-c.org/ns/1.0\"})\n",
    "pos_info = []\n",
    "for lg in linegroups: \n",
    "    for line in lg:\n",
    "        if line is not None and line.text:\n",
    "            line_text = line.text\n",
    "            line_text.replace(\"\\n\", \"\").replace(\"\\r\", \"\")\n",
    "            line_text = \" \".join(line_text.strip().split())\n",
    "        #    print(line_text)\n",
    "            doc = nlp(line_text)\n",
    "            for token in doc:\n",
    "                pos_info.append({\n",
    "                    'text': token.text,\n",
    "                    'pos': token.morph})\n",
    "\n",
    "\n",
    "pos_info_df = pd.DataFrame(pos_info)\n",
    "pos_info_df.to_csv('morph_info_vwdazb_trf.csv', index=False)\n",
    "pos_info_df.head(10)"
   ]
  },
  {
   "cell_type": "code",
   "execution_count": null,
   "id": "ada0baeb",
   "metadata": {},
   "outputs": [],
   "source": []
  },
  {
   "cell_type": "code",
   "execution_count": null,
   "id": "a998e231",
   "metadata": {},
   "outputs": [],
   "source": []
  },
  {
   "cell_type": "code",
   "execution_count": null,
   "id": "bc0657cd",
   "metadata": {},
   "outputs": [],
   "source": []
  },
  {
   "cell_type": "code",
   "execution_count": null,
   "id": "24eefb9c-cd1d-46d7-88a0-7075345d91a7",
   "metadata": {},
   "outputs": [],
   "source": []
  },
  {
   "cell_type": "markdown",
   "id": "2b6e4996-e6f5-4e54-8999-3e70870d2adb",
   "metadata": {},
   "source": [
    "#### mit udpipe"
   ]
  },
  {
   "cell_type": "code",
   "execution_count": 11,
   "id": "93e0a50f-d656-4c01-9786-bc2842e01a2f",
   "metadata": {},
   "outputs": [],
   "source": [
    "import spacy_udpipe"
   ]
  },
  {
   "cell_type": "markdown",
   "id": "4015b191-4e2e-4cbf-b5c2-6d2d719fe1e8",
   "metadata": {},
   "source": [
    "##### mit \"de\""
   ]
  },
  {
   "cell_type": "code",
   "execution_count": 12,
   "id": "e77a708a-5cde-419d-b585-87701ead1859",
   "metadata": {},
   "outputs": [
    {
     "name": "stdout",
     "output_type": "stream",
     "text": [
      "Already downloaded a model for the 'de' language\n"
     ]
    }
   ],
   "source": [
    "#spacy_udpipe.download(\"de\")"
   ]
  },
  {
   "cell_type": "code",
   "execution_count": 13,
   "id": "a9dd7ecc-92c7-4e6b-83f8-57f1b751d760",
   "metadata": {},
   "outputs": [],
   "source": [
    "nlp = spacy_udpipe.load(\"de\")"
   ]
  },
  {
   "cell_type": "code",
   "execution_count": 14,
   "id": "9898954d",
   "metadata": {},
   "outputs": [],
   "source": [
    "tree = etree.parse(\"C:/Users/jO/Desktop/DH_MA_Arbeit/coding/transkribiert_ohne-unclear-_vielleichtweil.xml\")\n",
    "linegroups = tree.xpath(\"//tei:lg\", namespaces={\"tei\": \"http://www.tei-c.org/ns/1.0\"})"
   ]
  },
  {
   "cell_type": "code",
   "execution_count": 21,
   "id": "10d19eff-7550-4bfb-b2c3-e47ac57252aa",
   "metadata": {
    "scrolled": true
   },
   "outputs": [
    {
     "name": "stdout",
     "output_type": "stream",
     "text": [
      "der_/DET Körper_/NOUN will_/AUX sich_/PRON ja_/ADV schließen_/VERB ,_/PUNCT rufst_/ADV du_/PRON ,_/PUNCT Verdruss_/NOUN und_/CCONJ Krankheit_/NOUN als_/CCONJ Göttin_/PROPN aus_/ADP der_/DET Maschine_/NOUN (_/PUNCT die_/DET Zigeunerspielkarten_/NOUN in_/ADP der_/DET Brust_/NOUN ,_/PUNCT auf_/ADP die_/DET Finger_/NOUN mit_/ADP der_/DET linken_/ADJ Hand_/NOUN 3_/NUM mal_/ADV geteilt_/ADJ Westentasche_/NOUN ,_/PUNCT (_/PUNCT oder_/CCONJ als_/CCONJ müssten_/AUX wir_/PRON erinnert_/VERB werden_/AUX dass_/SCONJ wir_/PRON nicht_/PART Götter_/NOUN sondern_/CCONJ Menschen_/NOUN sind_/AUX ,_/PUNCT die_/PRON es_/PRON nötig_/ADJ haben_/AUX ,_/PUNCT die_/PRON ihre_/PRON Gedanken_/NOUN durch_/ADP die_/DET Feder_/NOUN sichtbar_/ADJ zu_/PART machen_/VERB ,_/PUNCT )_/PUNCT die_/DET Rosalia_/PROPN sichtbar_/ADJ zu_/PART machen_/VERB ,_/PUNCT )_/PUNCT die_/DET Rosalia_/PROPN ,_/PUNCT bewaldet_/VERB ,_/PUNCT wir_/PRON essen_/VERB kleine_/ADJ Drachen_/NOUN ,_/PUNCT den_/DET Mond_/NOUN ,_/PUNCT Asche_/NOUN sein_/AUX ,_/PUNCT das_/DET Land_/NOUN ist_/AUX Löwe_/NOUN ,_/PUNCT und_/CCONJ viel_/ADJ Hitze_/NOUN ,_/PUNCT Pompeji_/PROPN ist_/AUX verbrannt_/ADJ ,_/PUNCT nur_/ADV Kälberleib_/PROPN ,_/PUNCT Bekröter_/PROPN sogar_/ADV ,_/PUNCT Asche_/NOUN sein_/AUX ,_/PUNCT jede_/DET Pfütze_/NOUN getrunken_/ADJ ,_/PUNCT (_/PUNCT der_/DET Dürer_/NOUN )_/PUNCT und_/CCONJ Überschwemmungen_/NOUN ,_/PUNCT aus_/ADP den_/DET aufgeschlagenen_/ADJ Karten_/NOUN ,_/PUNCT Treue_/NOUN ,_/PUNCT Beständigkeit_/NOUN ,_/PUNCT schnarrendes_/ADJ Maulhorn_/NOUN ,_/PUNCT Werktreue_/NOUN ,_/PUNCT rufe_/VERB ich_/PRON ,_/PUNCT gelesen_/VERB ,_/PUNCT Säge_/NOUN des_/DET Laubs_/NOUN ,_/PUNCT Verdruss_/NOUN +_/CCONJ Krankheit_/NOUN alles_/PRON verflochten_/VERB ,_/PUNCT aber_/CCONJ es_/PRON ist_/AUX kein_/DET Schatz_/NOUN zugegen_/ADJ mein_/PRON Gaumen_/NOUN krümmt_/VERB sich_/PRON ,_/PUNCT nämlich_/ADV das_/DET Stativ_/NOUN deiner_/PRON Beine_/NOUN (_/PUNCT deiner_/PRON Beine_/NOUN )_/PUNCT plötzlich_/ADJ eingerastet_/ADJ ,_/PUNCT eingerastet_/ADJ ,_/PUNCT unter_/ADP dem_/DET Kinn_/NOUN gelegen_/VERB ,_/PUNCT unter_/ADP der_/DET Zunge_/NOUN ,_/PUNCT verkappte_/ADJ Schläfe_/NOUN (_/PUNCT mit_/ADP Kappe_/NOUN )_/PUNCT Oktoberkeule_/NOUN\n",
      "['der_/DET_/PROPN', 'Körper_/NOUN_/PROPN', 'will_/AUX_/X', 'sich_/PRON_/X', 'ja_/ADV_/X', 'schließen_/VERB_/X', ',_/PUNCT', '_/PUNCT_/PROPN', 'rufst_/ADV_/PROPN', 'du_/PRON_/PROPN', ',_/PUNCT', '_/PUNCT_/PROPN', 'Verdruss_/NOUN_/PROPN', 'und_/CCONJ_/PROPN', 'Krankheit_/NOUN_/PROPN', 'als_/CCONJ_/PROPN', 'Göttin_/PROPN_/PROPN', 'aus_/ADP_/PROPN', 'der_/DET_/PROPN', 'Maschine_/NOUN_/PROPN', '(_/PUNCT', '_/PUNCT_/PROPN', 'die_/DET_/PROPN', 'Zigeunerspielkarten_/NOUN_/PROPN', 'in_/ADP_/PROPN', 'der_/DET_/PROPN', 'Brust_/NOUN_/PROPN', ',_/PUNCT', '_/PUNCT_/PROPN', 'auf_/ADP_/PROPN', 'die_/DET_/PROPN', 'Finger_/NOUN_/PROPN', 'mit_/ADP_/PROPN', 'der_/DET_/PROPN', 'linken_/ADJ_/X', 'Hand_/NOUN_/X', '3_/NUM_/X', 'mal_/ADV_/PROPN', 'geteilt_/ADJ_/PROPN', 'Westentasche_/NOUN_/PROPN', ',_/PUNCT', '_/PUNCT_/PROPN', '(_/PUNCT', '_/PUNCT_/X', 'oder_/CCONJ_/X', 'als_/CCONJ_/X', 'müssten_/AUX_/X', 'wir_/PRON_/X', 'erinnert_/VERB_/X', 'werden_/AUX_/X', 'dass_/SCONJ_/X', 'wir_/PRON_/X', 'nicht_/PART_/X', 'Götter_/NOUN_/X', 'sondern_/CCONJ_/X', 'Menschen_/NOUN_/X', 'sind_/AUX_/X', ',_/PUNCT', '_/PUNCT_/PROPN', 'die_/PRON_/PROPN', 'es_/PRON_/PROPN', 'nötig_/ADJ_/PROPN', 'haben_/AUX_/PROPN', ',_/PUNCT', '_/PUNCT_/PROPN', 'die_/PRON_/PROPN', 'ihre_/PRON_/PROPN', 'Gedanken_/NOUN_/PROPN', 'durch_/ADP_/PROPN', 'die_/DET_/PROPN', 'Feder_/NOUN_/PROPN', 'sichtbar_/ADJ_/PROPN', 'zu_/PART_/PROPN', 'machen_/VERB_/PROPN', ',_/PUNCT', '_/PUNCT_/PROPN', ')_/PUNCT_/PROPN', 'die_/DET_/PROPN', 'Rosalia_/PROPN_/PROPN', 'sichtbar_/ADJ_/PROPN', 'zu_/PART_/PROPN', 'machen_/VERB_/PROPN', ',_/PUNCT', '_/PUNCT_/PROPN', ')_/PUNCT_/PROPN', 'die_/DET_/PROPN', 'Rosalia_/PROPN_/PROPN', ',_/PUNCT', '_/PUNCT_/PROPN', 'bewaldet_/VERB_/PROPN', ',_/PUNCT', '_/PUNCT_/PROPN', 'wir_/PRON_/PROPN', 'essen_/VERB_/PROPN', 'kleine_/ADJ_/PROPN', 'Drachen_/NOUN_/PROPN', ',_/PUNCT', '_/PUNCT_/PROPN', 'den_/DET_/PROPN', 'Mond_/NOUN_/PROPN', ',_/PUNCT', '_/PUNCT_/PROPN', 'Asche_/NOUN_/PROPN', 'sein_/AUX_/X', ',_/PUNCT', '_/PUNCT_/PROPN', 'das_/DET_/PROPN', 'Land_/NOUN_/PROPN', 'ist_/AUX_/PROPN', 'Löwe_/NOUN_/PROPN', ',_/PUNCT', '_/PUNCT_/PROPN', 'und_/CCONJ_/PROPN', 'viel_/ADJ_/PROPN', 'Hitze_/NOUN_/PROPN', ',_/PUNCT', '_/PUNCT_/PROPN', 'Pompeji_/PROPN_/PROPN', 'ist_/AUX_/PROPN', 'verbrannt_/ADJ_/PROPN', ',_/PUNCT', '_/PUNCT_/PROPN', 'nur_/ADV_/PROPN', 'Kälberleib_/PROPN_/PROPN', ',_/PUNCT', '_/PUNCT_/PROPN', 'Bekröter_/PROPN_/PROPN', 'sogar_/ADV_/PROPN', ',_/PUNCT', '_/PUNCT_/PROPN', 'Asche_/NOUN_/PROPN', 'sein_/AUX_/X', ',_/PUNCT', '_/PUNCT_/PROPN', 'jede_/DET_/PROPN', 'Pfütze_/NOUN_/PROPN', 'getrunken_/ADJ_/PROPN', ',_/PUNCT', '_/PUNCT_/PROPN', '(_/PUNCT', '_/PUNCT_/PROPN', 'der_/DET_/PROPN', 'Dürer_/NOUN_/PROPN', ')_/PUNCT_/PROPN', 'und_/CCONJ_/PROPN', 'Überschwemmungen_/NOUN_/PROPN', ',_/PUNCT', '_/PUNCT_/PROPN', 'aus_/ADP_/PROPN', 'den_/DET_/PROPN', 'aufgeschlagenen_/ADJ_/PROPN', 'Karten_/NOUN_/PROPN', ',_/PUNCT', '_/PUNCT_/PROPN', 'Treue_/NOUN_/PROPN', ',_/PUNCT', '_/PUNCT_/PROPN', 'Beständigkeit_/NOUN_/PROPN', ',_/PUNCT', '_/PUNCT_/PROPN', 'schnarrendes_/ADJ_/PROPN', 'Maulhorn_/NOUN_/PROPN', ',_/PUNCT', '_/PUNCT_/PROPN', 'Werktreue_/NOUN_/PROPN', ',_/PUNCT', '_/PUNCT_/PROPN', 'rufe_/VERB_/PROPN', 'ich_/PRON_/PROPN', ',_/PUNCT', '_/PUNCT_/PROPN', 'gelesen_/VERB_/PROPN', ',_/PUNCT', '_/PUNCT_/PROPN', 'Säge_/NOUN_/PROPN', 'des_/DET_/PROPN', 'Laubs_/NOUN_/PROPN', ',_/PUNCT', '_/PUNCT_/PROPN', 'Verdruss_/NOUN_/PROPN', '+_/CCONJ_/PROPN', 'Krankheit_/NOUN_/PROPN', 'alles_/PRON_/PROPN', 'verflochten_/VERB_/PROPN', ',_/PUNCT', '_/PUNCT_/PROPN', 'aber_/CCONJ_/PROPN', 'es_/PRON_/PROPN', 'ist_/AUX_/PROPN', 'kein_/DET_/PROPN', 'Schatz_/NOUN_/PROPN', 'zugegen_/ADJ_/PROPN', 'mein_/PRON_/PROPN', 'Gaumen_/NOUN_/PROPN', 'krümmt_/VERB_/PROPN', 'sich_/PRON_/PROPN', ',_/PUNCT', '_/PUNCT_/PROPN', 'nämlich_/ADV_/PROPN', 'das_/DET_/PROPN', 'Stativ_/NOUN_/PROPN', 'deiner_/PRON_/PROPN', 'Beine_/NOUN_/PROPN', '(_/PUNCT', '_/PUNCT_/PROPN', 'deiner_/PRON_/PROPN', 'Beine_/NOUN_/PROPN', ')_/PUNCT_/PROPN', 'plötzlich_/ADJ_/PROPN', 'eingerastet_/ADJ_/PROPN', ',_/PUNCT', '_/PUNCT_/PROPN', 'eingerastet_/ADJ_/PROPN', ',_/PUNCT', '_/PUNCT_/PROPN', 'unter_/ADP_/PROPN', 'dem_/DET_/PROPN', 'Kinn_/NOUN_/PROPN', 'gelegen_/VERB_/PROPN', ',_/PUNCT', '_/PUNCT_/PROPN', 'unter_/ADP_/PROPN', 'der_/DET_/PROPN', 'Zunge_/NOUN_/PROPN', ',_/PUNCT', '_/PUNCT_/PROPN', 'verkappte_/ADJ_/PROPN', 'Schläfe_/NOUN_/PROPN', '(_/PUNCT', '_/PUNCT_/PROPN', 'mit_/ADP_/PROPN', 'Kappe_/NOUN_/PROPN', ')_/PUNCT_/PROPN', 'Oktoberkeule_/NOUN_/PROPN']\n",
      "der_/DET_/PROPN Körper_/NOUN_/PROPN will_/AUX_/X sich_/PRON_/X ja_/ADV_/X schließen_/VERB_/X ,_/PUNCT _/PUNCT_/PROPN rufst_/ADV_/PROPN du_/PRON_/PROPN ,_/PUNCT _/PUNCT_/PROPN Verdruss_/NOUN_/PROPN und_/CCONJ_/PROPN Krankheit_/NOUN_/PROPN als_/CCONJ_/PROPN Göttin_/PROPN_/PROPN aus_/ADP_/PROPN der_/DET_/PROPN Maschine_/NOUN_/PROPN (_/PUNCT _/PUNCT_/PROPN die_/DET_/PROPN Zigeunerspielkarten_/NOUN_/PROPN in_/ADP_/PROPN der_/DET_/PROPN Brust_/NOUN_/PROPN ,_/PUNCT _/PUNCT_/PROPN auf_/ADP_/PROPN die_/DET_/PROPN Finger_/NOUN_/PROPN mit_/ADP_/PROPN der_/DET_/PROPN linken_/ADJ_/X Hand_/NOUN_/X 3_/NUM_/X mal_/ADV_/PROPN geteilt_/ADJ_/PROPN Westentasche_/NOUN_/PROPN ,_/PUNCT _/PUNCT_/PROPN (_/PUNCT _/PUNCT_/X oder_/CCONJ_/X als_/CCONJ_/X müssten_/AUX_/X wir_/PRON_/X erinnert_/VERB_/X werden_/AUX_/X dass_/SCONJ_/X wir_/PRON_/X nicht_/PART_/X Götter_/NOUN_/X sondern_/CCONJ_/X Menschen_/NOUN_/X sind_/AUX_/X ,_/PUNCT _/PUNCT_/PROPN die_/PRON_/PROPN es_/PRON_/PROPN nötig_/ADJ_/PROPN haben_/AUX_/PROPN ,_/PUNCT _/PUNCT_/PROPN die_/PRON_/PROPN ihre_/PRON_/PROPN Gedanken_/NOUN_/PROPN durch_/ADP_/PROPN die_/DET_/PROPN Feder_/NOUN_/PROPN sichtbar_/ADJ_/PROPN zu_/PART_/PROPN machen_/VERB_/PROPN ,_/PUNCT _/PUNCT_/PROPN )_/PUNCT_/PROPN die_/DET_/PROPN Rosalia_/PROPN_/PROPN sichtbar_/ADJ_/PROPN zu_/PART_/PROPN machen_/VERB_/PROPN ,_/PUNCT _/PUNCT_/PROPN )_/PUNCT_/PROPN die_/DET_/PROPN Rosalia_/PROPN_/PROPN ,_/PUNCT _/PUNCT_/PROPN bewaldet_/VERB_/PROPN ,_/PUNCT _/PUNCT_/PROPN wir_/PRON_/PROPN essen_/VERB_/PROPN kleine_/ADJ_/PROPN Drachen_/NOUN_/PROPN ,_/PUNCT _/PUNCT_/PROPN den_/DET_/PROPN Mond_/NOUN_/PROPN ,_/PUNCT _/PUNCT_/PROPN Asche_/NOUN_/PROPN sein_/AUX_/X ,_/PUNCT _/PUNCT_/PROPN das_/DET_/PROPN Land_/NOUN_/PROPN ist_/AUX_/PROPN Löwe_/NOUN_/PROPN ,_/PUNCT _/PUNCT_/PROPN und_/CCONJ_/PROPN viel_/ADJ_/PROPN Hitze_/NOUN_/PROPN ,_/PUNCT _/PUNCT_/PROPN Pompeji_/PROPN_/PROPN ist_/AUX_/PROPN verbrannt_/ADJ_/PROPN ,_/PUNCT _/PUNCT_/PROPN nur_/ADV_/PROPN Kälberleib_/PROPN_/PROPN ,_/PUNCT _/PUNCT_/PROPN Bekröter_/PROPN_/PROPN sogar_/ADV_/PROPN ,_/PUNCT _/PUNCT_/PROPN Asche_/NOUN_/PROPN sein_/AUX_/X ,_/PUNCT _/PUNCT_/PROPN jede_/DET_/PROPN Pfütze_/NOUN_/PROPN getrunken_/ADJ_/PROPN ,_/PUNCT _/PUNCT_/PROPN (_/PUNCT _/PUNCT_/PROPN der_/DET_/PROPN Dürer_/NOUN_/PROPN )_/PUNCT_/PROPN und_/CCONJ_/PROPN Überschwemmungen_/NOUN_/PROPN ,_/PUNCT _/PUNCT_/PROPN aus_/ADP_/PROPN den_/DET_/PROPN aufgeschlagenen_/ADJ_/PROPN Karten_/NOUN_/PROPN ,_/PUNCT _/PUNCT_/PROPN Treue_/NOUN_/PROPN ,_/PUNCT _/PUNCT_/PROPN Beständigkeit_/NOUN_/PROPN ,_/PUNCT _/PUNCT_/PROPN schnarrendes_/ADJ_/PROPN Maulhorn_/NOUN_/PROPN ,_/PUNCT _/PUNCT_/PROPN Werktreue_/NOUN_/PROPN ,_/PUNCT _/PUNCT_/PROPN rufe_/VERB_/PROPN ich_/PRON_/PROPN ,_/PUNCT _/PUNCT_/PROPN gelesen_/VERB_/PROPN ,_/PUNCT _/PUNCT_/PROPN Säge_/NOUN_/PROPN des_/DET_/PROPN Laubs_/NOUN_/PROPN ,_/PUNCT _/PUNCT_/PROPN Verdruss_/NOUN_/PROPN +_/CCONJ_/PROPN Krankheit_/NOUN_/PROPN alles_/PRON_/PROPN verflochten_/VERB_/PROPN ,_/PUNCT _/PUNCT_/PROPN aber_/CCONJ_/PROPN es_/PRON_/PROPN ist_/AUX_/PROPN kein_/DET_/PROPN Schatz_/NOUN_/PROPN zugegen_/ADJ_/PROPN mein_/PRON_/PROPN Gaumen_/NOUN_/PROPN krümmt_/VERB_/PROPN sich_/PRON_/PROPN ,_/PUNCT _/PUNCT_/PROPN nämlich_/ADV_/PROPN das_/DET_/PROPN Stativ_/NOUN_/PROPN deiner_/PRON_/PROPN Beine_/NOUN_/PROPN (_/PUNCT _/PUNCT_/PROPN deiner_/PRON_/PROPN Beine_/NOUN_/PROPN )_/PUNCT_/PROPN plötzlich_/ADJ_/PROPN eingerastet_/ADJ_/PROPN ,_/PUNCT _/PUNCT_/PROPN eingerastet_/ADJ_/PROPN ,_/PUNCT _/PUNCT_/PROPN unter_/ADP_/PROPN dem_/DET_/PROPN Kinn_/NOUN_/PROPN gelegen_/VERB_/PROPN ,_/PUNCT _/PUNCT_/PROPN unter_/ADP_/PROPN der_/DET_/PROPN Zunge_/NOUN_/PROPN ,_/PUNCT _/PUNCT_/PROPN verkappte_/ADJ_/PROPN Schläfe_/NOUN_/PROPN (_/PUNCT _/PUNCT_/PROPN mit_/ADP_/PROPN Kappe_/NOUN_/PROPN )_/PUNCT_/PROPN Oktoberkeule_/NOUN_/PROPN\n",
      "Werktreue!_/PROPN der_/DET Körper_/NOUN will_/AUX sich_/PRON ja_/ADV schließen_/VERB rufst_/ADV du_/PRON ,_/PUNCT Verdruss_/NOUN und_/CCONJ Krankheit_/NOUN ,_/PUNCT die_/DET Witwe_/NOUN ,_/PUNCT als_/CCONJ Göttin_/NOUN aus_/ADP der_/DET Maschine_/NOUN ,_/PUNCT die_/DET Zigeunerspielkarten_/NOUN aus_/ADP in_/ADP der_/DET Brusttasche_/NOUN ,_/PUNCT dreimal_/ADV geteilt_/VERB ,_/PUNCT mit_/ADP der_/PRON Linken_/NOUN linken_/VERB Hand_/NOUN ,_/PUNCT die_/PRON Rosalia_/PROPN sichtbar_/ADJ zu_/PART machen_/VERB ,_/PUNCT bewaldet_/VERB ,_/PUNCT wir_/PRON essen_/VERB kleine_/ADJ Drachen_/NOUN ,_/PUNCT den_/DET Mond_/NOUN ,_/PUNCT das_/DET Land_/NOUN ist_/AUX Löwe_/NOUN ,_/PUNCT viel_/ADJ Hitze_/NOUN ,_/PUNCT Pompeji_/PROPN ,_/PUNCT (_/PUNCT ist_/AUX verbrannt_/ADJ )_/PUNCT ,_/PUNCT nur_/ADV Kälberleib_/PROPN ,_/PUNCT Bekröter_/PROPN sogar_/ADV ,_/PUNCT von_/ADP jeder_/PRON jede_/DET Pfütze_/NOUN getrunken_/ADJ ,_/PUNCT (_/PUNCT der_/DET Dürer_/NOUN )_/PUNCT (_/PUNCT und_/CCONJ Überschwemmungen_/NOUN )_/PUNCT ,_/PUNCT aus_/ADP den_/DET aufgeschlagenen_/ADJ Karten_/NOUN Beständigkeit_/NOUN ,_/PUNCT Treue_/NOUN ,_/PUNCT gelesen_/VERB ,_/PUNCT schnarrendes_/ADJ Maulhorn_/NOUN ,_/PUNCT Werktreue_/NOUN ,_/PUNCT !_/PUNCT ,_/PUNCT rufe_/VERB ich_/PRON ,_/PUNCT Krankheit_/NOUN Verdruss_/NOUN ,_/PUNCT alles_/PRON verflochten_/VERB ,_/PUNCT aber_/CCONJ es_/PRON ist_/AUX kein_/DET Schatz_/NOUN zugegen_/ADJ ,_/PUNCT mein_/PRON Gaumen_/NOUN krümmt_/VERB sich_/PRON ,_/PUNCT das_/DET Stativ_/NOUN deiner_/PRON seiner_/PRON Beine_/NOUN eingerastet_/ADJ ,_/PUNCT verkappte_/ADJ Schläfe_/NOUN ,_/PUNCT mit_/ADP Kappe_/NOUN ,_/PUNCT Oktoberkeule_/NOUN -_/PUNCT das_/DET Stativ_/NOUN deiner_/PRON Beine_/NOUN eingerastet_/VERB\n",
      "['Werktreue!_/PROPN_/PROPN', 'der_/DET_/PROPN', 'Körper_/NOUN_/PROPN', 'will_/AUX_/X', 'sich_/PRON_/X', 'ja_/ADV_/X', 'schließen_/VERB_/X', 'rufst_/ADV_/PROPN', 'du_/PRON_/PROPN', ',_/PUNCT', '_/PUNCT_/PROPN', 'Verdruss_/NOUN_/PROPN', 'und_/CCONJ_/PROPN', 'Krankheit_/NOUN_/PROPN', ',_/PUNCT', '_/PUNCT_/PROPN', 'die_/DET_/PROPN', 'Witwe_/NOUN_/PROPN', ',_/PUNCT', '_/PUNCT_/PROPN', 'als_/CCONJ_/PROPN', 'Göttin_/NOUN_/PROPN', 'aus_/ADP_/PROPN', 'der_/DET_/PROPN', 'Maschine_/NOUN_/PROPN', ',_/PUNCT', '_/PUNCT_/PROPN', 'die_/DET_/PROPN', 'Zigeunerspielkarten_/NOUN_/PROPN', 'aus_/ADP_/PROPN', 'in_/ADP_/PROPN', 'der_/DET_/PROPN', 'Brusttasche_/NOUN_/PROPN', ',_/PUNCT', '_/PUNCT_/PROPN', 'dreimal_/ADV_/PROPN', 'geteilt_/VERB_/PROPN', ',_/PUNCT', '_/PUNCT_/PROPN', 'mit_/ADP_/PROPN', 'der_/PRON_/PROPN', 'Linken_/NOUN_/PROPN', 'linken_/VERB_/PROPN', 'Hand_/NOUN_/PROPN', ',_/PUNCT', '_/PUNCT_/PROPN', 'die_/PRON_/PROPN', 'Rosalia_/PROPN_/PROPN', 'sichtbar_/ADJ_/PROPN', 'zu_/PART_/PROPN', 'machen_/VERB_/PROPN', ',_/PUNCT', '_/PUNCT_/PROPN', 'bewaldet_/VERB_/PROPN', ',_/PUNCT', '_/PUNCT_/PROPN', 'wir_/PRON_/PROPN', 'essen_/VERB_/PROPN', 'kleine_/ADJ_/PROPN', 'Drachen_/NOUN_/PROPN', ',_/PUNCT', '_/PUNCT_/PROPN', 'den_/DET_/PROPN', 'Mond_/NOUN_/PROPN', ',_/PUNCT', '_/PUNCT_/PROPN', 'das_/DET_/PROPN', 'Land_/NOUN_/PROPN', 'ist_/AUX_/PROPN', 'Löwe_/NOUN_/PROPN', ',_/PUNCT', '_/PUNCT_/PROPN', 'viel_/ADJ_/PROPN', 'Hitze_/NOUN_/PROPN', ',_/PUNCT', '_/PUNCT_/PROPN', 'Pompeji_/PROPN_/PROPN', ',_/PUNCT', '_/PUNCT_/PROPN', '(_/PUNCT', '_/PUNCT_/PROPN', 'ist_/AUX_/PROPN', 'verbrannt_/ADJ_/PROPN', ')_/PUNCT_/PROPN', ',_/PUNCT', '_/PUNCT_/PROPN', 'nur_/ADV_/PROPN', 'Kälberleib_/PROPN_/PROPN', ',_/PUNCT', '_/PUNCT_/PROPN', 'Bekröter_/PROPN_/PROPN', 'sogar_/ADV_/PROPN', ',_/PUNCT', '_/PUNCT_/PROPN', 'von_/ADP_/PROPN', 'jeder_/PRON_/PROPN', 'jede_/DET_/PROPN', 'Pfütze_/NOUN_/PROPN', 'getrunken_/ADJ_/PROPN', ',_/PUNCT', '_/PUNCT_/PROPN', '(_/PUNCT', '_/PUNCT_/PROPN', 'der_/DET_/PROPN', 'Dürer_/NOUN_/PROPN', ')_/PUNCT_/PROPN', '(_/PUNCT', '_/PUNCT_/PROPN', 'und_/CCONJ_/PROPN', 'Überschwemmungen_/NOUN_/PROPN', ')_/PUNCT_/PROPN', ',_/PUNCT', '_/PUNCT_/PROPN', 'aus_/ADP_/PROPN', 'den_/DET_/PROPN', 'aufgeschlagenen_/ADJ_/PROPN', 'Karten_/NOUN_/PROPN', 'Beständigkeit_/NOUN_/PROPN', ',_/PUNCT', '_/PUNCT_/PROPN', 'Treue_/NOUN_/PROPN', ',_/PUNCT', '_/PUNCT_/PROPN', 'gelesen_/VERB_/PROPN', ',_/PUNCT', '_/PUNCT_/PROPN', 'schnarrendes_/ADJ_/PROPN', 'Maulhorn_/NOUN_/PROPN', ',_/PUNCT', '_/PUNCT_/PROPN', 'Werktreue_/NOUN_/PROPN', ',_/PUNCT', '_/PUNCT_/PROPN', '!_/PUNCT_/PROPN', ',_/PUNCT', '_/PUNCT_/PROPN', 'rufe_/VERB_/PROPN', 'ich_/PRON_/PROPN', ',_/PUNCT', '_/PUNCT_/PROPN', 'Krankheit_/NOUN_/PROPN', 'Verdruss_/NOUN_/PROPN', ',_/PUNCT', '_/PUNCT_/PROPN', 'alles_/PRON_/PROPN', 'verflochten_/VERB_/PROPN', ',_/PUNCT', '_/PUNCT_/PROPN', 'aber_/CCONJ_/PROPN', 'es_/PRON_/PROPN', 'ist_/AUX_/PROPN', 'kein_/DET_/PROPN', 'Schatz_/NOUN_/PROPN', 'zugegen_/ADJ_/PROPN', ',_/PUNCT', '_/PUNCT_/PROPN', 'mein_/PRON_/PROPN', 'Gaumen_/NOUN_/PROPN', 'krümmt_/VERB_/PROPN', 'sich_/PRON_/PROPN', ',_/PUNCT', '_/PUNCT_/PROPN', 'das_/DET_/PROPN', 'Stativ_/NOUN_/PROPN', 'deiner_/PRON_/PROPN', 'seiner_/PRON_/PROPN', 'Beine_/NOUN_/PROPN', 'eingerastet_/ADJ_/PROPN', ',_/PUNCT', '_/PUNCT_/PROPN', 'verkappte_/ADJ_/PROPN', 'Schläfe_/NOUN_/PROPN', ',_/PUNCT', '_/PUNCT_/PROPN', 'mit_/ADP_/PROPN', 'Kappe_/NOUN_/PROPN', ',_/PUNCT', '_/PUNCT_/PROPN', 'Oktoberkeule_/NOUN_/PROPN', '-_/PUNCT', '_/PUNCT_/PROPN', 'das_/DET_/PROPN', 'Stativ_/NOUN_/PROPN', 'deiner_/PRON_/PROPN', 'Beine_/NOUN_/PROPN', 'eingerastet_/VERB_/PROPN']\n",
      "Werktreue!_/PROPN_/PROPN der_/DET_/PROPN Körper_/NOUN_/PROPN will_/AUX_/X sich_/PRON_/X ja_/ADV_/X schließen_/VERB_/X rufst_/ADV_/PROPN du_/PRON_/PROPN ,_/PUNCT _/PUNCT_/PROPN Verdruss_/NOUN_/PROPN und_/CCONJ_/PROPN Krankheit_/NOUN_/PROPN ,_/PUNCT _/PUNCT_/PROPN die_/DET_/PROPN Witwe_/NOUN_/PROPN ,_/PUNCT _/PUNCT_/PROPN als_/CCONJ_/PROPN Göttin_/NOUN_/PROPN aus_/ADP_/PROPN der_/DET_/PROPN Maschine_/NOUN_/PROPN ,_/PUNCT _/PUNCT_/PROPN die_/DET_/PROPN Zigeunerspielkarten_/NOUN_/PROPN aus_/ADP_/PROPN in_/ADP_/PROPN der_/DET_/PROPN Brusttasche_/NOUN_/PROPN ,_/PUNCT _/PUNCT_/PROPN dreimal_/ADV_/PROPN geteilt_/VERB_/PROPN ,_/PUNCT _/PUNCT_/PROPN mit_/ADP_/PROPN der_/PRON_/PROPN Linken_/NOUN_/PROPN linken_/VERB_/PROPN Hand_/NOUN_/PROPN ,_/PUNCT _/PUNCT_/PROPN die_/PRON_/PROPN Rosalia_/PROPN_/PROPN sichtbar_/ADJ_/PROPN zu_/PART_/PROPN machen_/VERB_/PROPN ,_/PUNCT _/PUNCT_/PROPN bewaldet_/VERB_/PROPN ,_/PUNCT _/PUNCT_/PROPN wir_/PRON_/PROPN essen_/VERB_/PROPN kleine_/ADJ_/PROPN Drachen_/NOUN_/PROPN ,_/PUNCT _/PUNCT_/PROPN den_/DET_/PROPN Mond_/NOUN_/PROPN ,_/PUNCT _/PUNCT_/PROPN das_/DET_/PROPN Land_/NOUN_/PROPN ist_/AUX_/PROPN Löwe_/NOUN_/PROPN ,_/PUNCT _/PUNCT_/PROPN viel_/ADJ_/PROPN Hitze_/NOUN_/PROPN ,_/PUNCT _/PUNCT_/PROPN Pompeji_/PROPN_/PROPN ,_/PUNCT _/PUNCT_/PROPN (_/PUNCT _/PUNCT_/PROPN ist_/AUX_/PROPN verbrannt_/ADJ_/PROPN )_/PUNCT_/PROPN ,_/PUNCT _/PUNCT_/PROPN nur_/ADV_/PROPN Kälberleib_/PROPN_/PROPN ,_/PUNCT _/PUNCT_/PROPN Bekröter_/PROPN_/PROPN sogar_/ADV_/PROPN ,_/PUNCT _/PUNCT_/PROPN von_/ADP_/PROPN jeder_/PRON_/PROPN jede_/DET_/PROPN Pfütze_/NOUN_/PROPN getrunken_/ADJ_/PROPN ,_/PUNCT _/PUNCT_/PROPN (_/PUNCT _/PUNCT_/PROPN der_/DET_/PROPN Dürer_/NOUN_/PROPN )_/PUNCT_/PROPN (_/PUNCT _/PUNCT_/PROPN und_/CCONJ_/PROPN Überschwemmungen_/NOUN_/PROPN )_/PUNCT_/PROPN ,_/PUNCT _/PUNCT_/PROPN aus_/ADP_/PROPN den_/DET_/PROPN aufgeschlagenen_/ADJ_/PROPN Karten_/NOUN_/PROPN Beständigkeit_/NOUN_/PROPN ,_/PUNCT _/PUNCT_/PROPN Treue_/NOUN_/PROPN ,_/PUNCT _/PUNCT_/PROPN gelesen_/VERB_/PROPN ,_/PUNCT _/PUNCT_/PROPN schnarrendes_/ADJ_/PROPN Maulhorn_/NOUN_/PROPN ,_/PUNCT _/PUNCT_/PROPN Werktreue_/NOUN_/PROPN ,_/PUNCT _/PUNCT_/PROPN !_/PUNCT_/PROPN ,_/PUNCT _/PUNCT_/PROPN rufe_/VERB_/PROPN ich_/PRON_/PROPN ,_/PUNCT _/PUNCT_/PROPN Krankheit_/NOUN_/PROPN Verdruss_/NOUN_/PROPN ,_/PUNCT _/PUNCT_/PROPN alles_/PRON_/PROPN verflochten_/VERB_/PROPN ,_/PUNCT _/PUNCT_/PROPN aber_/CCONJ_/PROPN es_/PRON_/PROPN ist_/AUX_/PROPN kein_/DET_/PROPN Schatz_/NOUN_/PROPN zugegen_/ADJ_/PROPN ,_/PUNCT _/PUNCT_/PROPN mein_/PRON_/PROPN Gaumen_/NOUN_/PROPN krümmt_/VERB_/PROPN sich_/PRON_/PROPN ,_/PUNCT _/PUNCT_/PROPN das_/DET_/PROPN Stativ_/NOUN_/PROPN deiner_/PRON_/PROPN seiner_/PRON_/PROPN Beine_/NOUN_/PROPN eingerastet_/ADJ_/PROPN ,_/PUNCT _/PUNCT_/PROPN verkappte_/ADJ_/PROPN Schläfe_/NOUN_/PROPN ,_/PUNCT _/PUNCT_/PROPN mit_/ADP_/PROPN Kappe_/NOUN_/PROPN ,_/PUNCT _/PUNCT_/PROPN Oktoberkeule_/NOUN_/PROPN -_/PUNCT _/PUNCT_/PROPN das_/DET_/PROPN Stativ_/NOUN_/PROPN deiner_/PRON_/PROPN Beine_/NOUN_/PROPN eingerastet_/VERB_/PROPN\n",
      "weil_/SCONJ das_/DET Auge_/NOUN zuerst_/ADV bricht_/VERB der_/DET Körper_/NOUN will_/AUX sich_/PRON ja_/ADV schließen_/VERB ,_/PUNCT Verdruss_/NOUN und_/CCONJ Krankheit_/NOUN ,_/PUNCT die_/DET Witwe_/PROPN ,_/PUNCT Göttin_/PROPN aus_/ADP der_/DET Maschine_/NOUN ,_/PUNCT die_/DET Zigeunerspielkarten_/NOUN Zigeunerkarten_/NOUN plötzlich_/ADJ aus_/ADP der_/DET Brusttasche_/NOUN Tasche_/NOUN gezogen_/VERB ,_/PUNCT dreimal_/ADV abheben_/VERB abgehoben_/ADJ ,_/PUNCT linkshändig_/ADJ ,_/PUNCT die_/DET Rosalia_/PROPN sichtbar_/ADJ zu_/PART machen_/VERB ,_/PUNCT rufst_/VERB du_/PRON ,_/PUNCT bewaldet_/VERB ,_/PUNCT wir_/PRON essen_/VERB kleine_/ADJ Drachen_/NOUN ,_/PUNCT den_/DET Mond_/NOUN ,_/PUNCT das_/DET Land_/NOUN ist_/AUX Löwe_/NOUN ,_/PUNCT viel_/ADJ Hitze_/NOUN ,_/PUNCT Pompeji_/PROPN ,_/PUNCT nur_/ADV Kälberleib_/PROPN ,_/PUNCT Bekröter_/PROPN sogar_/ADV ,_/PUNCT Wahrträume_/NOUN ,_/PUNCT wie_/ADV mit_/ADP vielen_/ADJ Augen_/NOUN von_/ADP jeder_/DET Pfütze_/NOUN getrunken_/ADJ ,_/PUNCT (_/PUNCT der_/DET Dürer_/NOUN !_/PUNCT )_/PUNCT und_/CCONJ Überschwemmungen_/NOUN Werktreue_/NOUN ?_/PUNCT rufe_/VERB ich_/PRON aus_/ADP den_/DET aufgeschlagenen_/ADJ Karten_/NOUN Beständigkeit_/NOUN ,_/PUNCT Treue_/NOUN ,_/PUNCT gelesen_/VERB Treue_/NOUN ,_/PUNCT Beständigkeit_/NOUN ,_/PUNCT aus_/ADP den_/DET Karten_/NOUN gelesen_/VERB ,_/PUNCT schnarrendes_/ADJ Maulhorn_/NOUN ,_/PUNCT Werktreue_/NOUN rufe_/VERB ich_/PRON ,_/PUNCT Krankheit_/NOUN ,_/PUNCT Verdruss_/NOUN alles_/PRON verflochten_/VERB ,_/PUNCT aber_/CCONJ es_/PRON ist_/AUX kein_/DET Schatz_/NOUN zugegen_/ADJ ,_/PUNCT mein_/PRON Gaumen_/NOUN krümmt_/VERB sich_/PRON ,_/PUNCT die_/DET Vögel_/NOUN picken_/VERB zuerst_/ADV die_/DET menschlichen_/ADJ Augen_/NOUN aus_/ADP eingerastet_/VERB ist_/AUX das_/PRON längst_/ADV Stativ_/ADJ deiner_/PRON Beine_/NOUN ,_/PUNCT verkappte_/ADJ Schläfe_/NOUN ,_/PUNCT Asche_/NOUN sein_/PRON unter_/ADP dem_/DET Kinn_/NOUN unter_/ADP der_/DET Zunge_/NOUN mit_/ADP Kappe_/NOUN ,_/PUNCT Oktoberschatten_/NOUN Oktoberkeule_/PROPN ,_/PUNCT und_/CCONJ -schatten_/ADJ -_/PUNCT wo_/ADV die_/DET Schatten_/NOUN einander_/PRON entgegen_/ADP sind_/AUX\n",
      "['weil_/SCONJ_/PROPN', 'das_/DET_/PROPN', 'Auge_/NOUN_/PROPN', 'zuerst_/ADV_/PROPN', 'bricht_/VERB_/PROPN', 'der_/DET_/PROPN', 'Körper_/NOUN_/PROPN', 'will_/AUX_/X', 'sich_/PRON_/X', 'ja_/ADV_/X', 'schließen_/VERB_/X', ',_/PUNCT', '_/PUNCT_/PROPN', 'Verdruss_/NOUN_/PROPN', 'und_/CCONJ_/PROPN', 'Krankheit_/NOUN_/PROPN', ',_/PUNCT', '_/PUNCT_/PROPN', 'die_/DET_/PROPN', 'Witwe_/PROPN_/PROPN', ',_/PUNCT', '_/PUNCT_/PROPN', 'Göttin_/PROPN_/PROPN', 'aus_/ADP_/PROPN', 'der_/DET_/PROPN', 'Maschine_/NOUN_/PROPN', ',_/PUNCT', '_/PUNCT_/PROPN', 'die_/DET_/PROPN', 'Zigeunerspielkarten_/NOUN_/PROPN', 'Zigeunerkarten_/NOUN_/PROPN', 'plötzlich_/ADJ_/PROPN', 'aus_/ADP_/PROPN', 'der_/DET_/PROPN', 'Brusttasche_/NOUN_/PROPN', 'Tasche_/NOUN_/PROPN', 'gezogen_/VERB_/PROPN', ',_/PUNCT', '_/PUNCT_/PROPN', 'dreimal_/ADV_/PROPN', 'abheben_/VERB_/PROPN', 'abgehoben_/ADJ_/PROPN', ',_/PUNCT', '_/PUNCT_/PROPN', 'linkshändig_/ADJ_/PROPN', ',_/PUNCT', '_/PUNCT_/PROPN', 'die_/DET_/PROPN', 'Rosalia_/PROPN_/PROPN', 'sichtbar_/ADJ_/PROPN', 'zu_/PART_/PROPN', 'machen_/VERB_/PROPN', ',_/PUNCT', '_/PUNCT_/PROPN', 'rufst_/VERB_/PROPN', 'du_/PRON_/PROPN', ',_/PUNCT', '_/PUNCT_/PROPN', 'bewaldet_/VERB_/PROPN', ',_/PUNCT', '_/PUNCT_/PROPN', 'wir_/PRON_/PROPN', 'essen_/VERB_/PROPN', 'kleine_/ADJ_/PROPN', 'Drachen_/NOUN_/PROPN', ',_/PUNCT', '_/PUNCT_/PROPN', 'den_/DET_/PROPN', 'Mond_/NOUN_/PROPN', ',_/PUNCT', '_/PUNCT_/PROPN', 'das_/DET_/PROPN', 'Land_/NOUN_/PROPN', 'ist_/AUX_/PROPN', 'Löwe_/NOUN_/PROPN', ',_/PUNCT', '_/PUNCT_/PROPN', 'viel_/ADJ_/PROPN', 'Hitze_/NOUN_/PROPN', ',_/PUNCT', '_/PUNCT_/PROPN', 'Pompeji_/PROPN_/PROPN', ',_/PUNCT', '_/PUNCT_/PROPN', 'nur_/ADV_/PROPN', 'Kälberleib_/PROPN_/PROPN', ',_/PUNCT', '_/PUNCT_/PROPN', 'Bekröter_/PROPN_/PROPN', 'sogar_/ADV_/PROPN', ',_/PUNCT', '_/PUNCT_/PROPN', 'Wahrträume_/NOUN_/PROPN', ',_/PUNCT', '_/PUNCT_/PROPN', 'wie_/ADV_/PROPN', 'mit_/ADP_/PROPN', 'vielen_/ADJ_/PROPN', 'Augen_/NOUN_/PROPN', 'von_/ADP_/PROPN', 'jeder_/DET_/PROPN', 'Pfütze_/NOUN_/PROPN', 'getrunken_/ADJ_/PROPN', ',_/PUNCT', '_/PUNCT_/PROPN', '(_/PUNCT', '_/PUNCT_/PROPN', 'der_/DET_/PROPN', 'Dürer_/NOUN_/PROPN', '!_/PUNCT_/PROPN', ')_/PUNCT_/PROPN', 'und_/CCONJ_/PROPN', 'Überschwemmungen_/NOUN_/PROPN', 'Werktreue_/NOUN_/PROPN', '?_/PUNCT_/PROPN', 'rufe_/VERB_/PROPN', 'ich_/PRON_/PROPN', 'aus_/ADP_/PROPN', 'den_/DET_/PROPN', 'aufgeschlagenen_/ADJ_/PROPN', 'Karten_/NOUN_/PROPN', 'Beständigkeit_/NOUN_/PROPN', ',_/PUNCT', '_/PUNCT_/PROPN', 'Treue_/NOUN_/PROPN', ',_/PUNCT', '_/PUNCT_/PROPN', 'gelesen_/VERB_/PROPN', 'Treue_/NOUN_/PROPN', ',_/PUNCT', '_/PUNCT_/PROPN', 'Beständigkeit_/NOUN_/PROPN', ',_/PUNCT', '_/PUNCT_/PROPN', 'aus_/ADP_/PROPN', 'den_/DET_/PROPN', 'Karten_/NOUN_/PROPN', 'gelesen_/VERB_/PROPN', ',_/PUNCT', '_/PUNCT_/PROPN', 'schnarrendes_/ADJ_/PROPN', 'Maulhorn_/NOUN_/PROPN', ',_/PUNCT', '_/PUNCT_/PROPN', 'Werktreue_/NOUN_/PROPN', 'rufe_/VERB_/PROPN', 'ich_/PRON_/PROPN', ',_/PUNCT', '_/PUNCT_/PROPN', 'Krankheit_/NOUN_/PROPN', ',_/PUNCT', '_/PUNCT_/PROPN', 'Verdruss_/NOUN_/PROPN', 'alles_/PRON_/PROPN', 'verflochten_/VERB_/PROPN', ',_/PUNCT', '_/PUNCT_/PROPN', 'aber_/CCONJ_/PROPN', 'es_/PRON_/PROPN', 'ist_/AUX_/PROPN', 'kein_/DET_/PROPN', 'Schatz_/NOUN_/PROPN', 'zugegen_/ADJ_/PROPN', ',_/PUNCT', '_/PUNCT_/PROPN', 'mein_/PRON_/PROPN', 'Gaumen_/NOUN_/PROPN', 'krümmt_/VERB_/PROPN', 'sich_/PRON_/PROPN', ',_/PUNCT', '_/PUNCT_/PROPN', 'die_/DET_/PROPN', 'Vögel_/NOUN_/PROPN', 'picken_/VERB_/PROPN', 'zuerst_/ADV_/PROPN', 'die_/DET_/PROPN', 'menschlichen_/ADJ_/PROPN', 'Augen_/NOUN_/X', 'aus_/ADP_/X', 'eingerastet_/VERB_/X', 'ist_/AUX_/X', 'das_/PRON_/X', 'längst_/ADV_/X', 'Stativ_/ADJ_/X', 'deiner_/PRON_/PROPN', 'Beine_/NOUN_/PROPN', ',_/PUNCT', '_/PUNCT_/PROPN', 'verkappte_/ADJ_/PROPN', 'Schläfe_/NOUN_/PROPN', ',_/PUNCT', '_/PUNCT_/PROPN', 'Asche_/NOUN_/PROPN', 'sein_/PRON_/PROPN', 'unter_/ADP_/PROPN', 'dem_/DET_/PROPN', 'Kinn_/NOUN_/PROPN', 'unter_/ADP_/PROPN', 'der_/DET_/PROPN', 'Zunge_/NOUN_/PROPN', 'mit_/ADP_/PROPN', 'Kappe_/NOUN_/PROPN', ',_/PUNCT', '_/PUNCT_/PROPN', 'Oktoberschatten_/NOUN_/PROPN', 'Oktoberkeule_/PROPN_/PROPN', ',_/PUNCT', '_/PUNCT_/PROPN', 'und_/CCONJ_/PROPN', '-_/PUNCT', 'schatten_/ADJ_/PROPN', '-_/PUNCT', '_/PUNCT_/PROPN', 'wo_/ADV_/PROPN', 'die_/DET_/PROPN', 'Schatten_/NOUN_/PROPN', 'einander_/PRON_/PROPN', 'entgegen_/ADP_/PROPN', 'sind_/AUX_/PROPN']\n",
      "weil_/SCONJ_/PROPN das_/DET_/PROPN Auge_/NOUN_/PROPN zuerst_/ADV_/PROPN bricht_/VERB_/PROPN der_/DET_/PROPN Körper_/NOUN_/PROPN will_/AUX_/X sich_/PRON_/X ja_/ADV_/X schließen_/VERB_/X ,_/PUNCT _/PUNCT_/PROPN Verdruss_/NOUN_/PROPN und_/CCONJ_/PROPN Krankheit_/NOUN_/PROPN ,_/PUNCT _/PUNCT_/PROPN die_/DET_/PROPN Witwe_/PROPN_/PROPN ,_/PUNCT _/PUNCT_/PROPN Göttin_/PROPN_/PROPN aus_/ADP_/PROPN der_/DET_/PROPN Maschine_/NOUN_/PROPN ,_/PUNCT _/PUNCT_/PROPN die_/DET_/PROPN Zigeunerspielkarten_/NOUN_/PROPN Zigeunerkarten_/NOUN_/PROPN plötzlich_/ADJ_/PROPN aus_/ADP_/PROPN der_/DET_/PROPN Brusttasche_/NOUN_/PROPN Tasche_/NOUN_/PROPN gezogen_/VERB_/PROPN ,_/PUNCT _/PUNCT_/PROPN dreimal_/ADV_/PROPN abheben_/VERB_/PROPN abgehoben_/ADJ_/PROPN ,_/PUNCT _/PUNCT_/PROPN linkshändig_/ADJ_/PROPN ,_/PUNCT _/PUNCT_/PROPN die_/DET_/PROPN Rosalia_/PROPN_/PROPN sichtbar_/ADJ_/PROPN zu_/PART_/PROPN machen_/VERB_/PROPN ,_/PUNCT _/PUNCT_/PROPN rufst_/VERB_/PROPN du_/PRON_/PROPN ,_/PUNCT _/PUNCT_/PROPN bewaldet_/VERB_/PROPN ,_/PUNCT _/PUNCT_/PROPN wir_/PRON_/PROPN essen_/VERB_/PROPN kleine_/ADJ_/PROPN Drachen_/NOUN_/PROPN ,_/PUNCT _/PUNCT_/PROPN den_/DET_/PROPN Mond_/NOUN_/PROPN ,_/PUNCT _/PUNCT_/PROPN das_/DET_/PROPN Land_/NOUN_/PROPN ist_/AUX_/PROPN Löwe_/NOUN_/PROPN ,_/PUNCT _/PUNCT_/PROPN viel_/ADJ_/PROPN Hitze_/NOUN_/PROPN ,_/PUNCT _/PUNCT_/PROPN Pompeji_/PROPN_/PROPN ,_/PUNCT _/PUNCT_/PROPN nur_/ADV_/PROPN Kälberleib_/PROPN_/PROPN ,_/PUNCT _/PUNCT_/PROPN Bekröter_/PROPN_/PROPN sogar_/ADV_/PROPN ,_/PUNCT _/PUNCT_/PROPN Wahrträume_/NOUN_/PROPN ,_/PUNCT _/PUNCT_/PROPN wie_/ADV_/PROPN mit_/ADP_/PROPN vielen_/ADJ_/PROPN Augen_/NOUN_/PROPN von_/ADP_/PROPN jeder_/DET_/PROPN Pfütze_/NOUN_/PROPN getrunken_/ADJ_/PROPN ,_/PUNCT _/PUNCT_/PROPN (_/PUNCT _/PUNCT_/PROPN der_/DET_/PROPN Dürer_/NOUN_/PROPN !_/PUNCT_/PROPN )_/PUNCT_/PROPN und_/CCONJ_/PROPN Überschwemmungen_/NOUN_/PROPN Werktreue_/NOUN_/PROPN ?_/PUNCT_/PROPN rufe_/VERB_/PROPN ich_/PRON_/PROPN aus_/ADP_/PROPN den_/DET_/PROPN aufgeschlagenen_/ADJ_/PROPN Karten_/NOUN_/PROPN Beständigkeit_/NOUN_/PROPN ,_/PUNCT _/PUNCT_/PROPN Treue_/NOUN_/PROPN ,_/PUNCT _/PUNCT_/PROPN gelesen_/VERB_/PROPN Treue_/NOUN_/PROPN ,_/PUNCT _/PUNCT_/PROPN Beständigkeit_/NOUN_/PROPN ,_/PUNCT _/PUNCT_/PROPN aus_/ADP_/PROPN den_/DET_/PROPN Karten_/NOUN_/PROPN gelesen_/VERB_/PROPN ,_/PUNCT _/PUNCT_/PROPN schnarrendes_/ADJ_/PROPN Maulhorn_/NOUN_/PROPN ,_/PUNCT _/PUNCT_/PROPN Werktreue_/NOUN_/PROPN rufe_/VERB_/PROPN ich_/PRON_/PROPN ,_/PUNCT _/PUNCT_/PROPN Krankheit_/NOUN_/PROPN ,_/PUNCT _/PUNCT_/PROPN Verdruss_/NOUN_/PROPN alles_/PRON_/PROPN verflochten_/VERB_/PROPN ,_/PUNCT _/PUNCT_/PROPN aber_/CCONJ_/PROPN es_/PRON_/PROPN ist_/AUX_/PROPN kein_/DET_/PROPN Schatz_/NOUN_/PROPN zugegen_/ADJ_/PROPN ,_/PUNCT _/PUNCT_/PROPN mein_/PRON_/PROPN Gaumen_/NOUN_/PROPN krümmt_/VERB_/PROPN sich_/PRON_/PROPN ,_/PUNCT _/PUNCT_/PROPN die_/DET_/PROPN Vögel_/NOUN_/PROPN picken_/VERB_/PROPN zuerst_/ADV_/PROPN die_/DET_/PROPN menschlichen_/ADJ_/PROPN Augen_/NOUN_/X aus_/ADP_/X eingerastet_/VERB_/X ist_/AUX_/X das_/PRON_/X längst_/ADV_/X Stativ_/ADJ_/X deiner_/PRON_/PROPN Beine_/NOUN_/PROPN ,_/PUNCT _/PUNCT_/PROPN verkappte_/ADJ_/PROPN Schläfe_/NOUN_/PROPN ,_/PUNCT _/PUNCT_/PROPN Asche_/NOUN_/PROPN sein_/PRON_/PROPN unter_/ADP_/PROPN dem_/DET_/PROPN Kinn_/NOUN_/PROPN unter_/ADP_/PROPN der_/DET_/PROPN Zunge_/NOUN_/PROPN mit_/ADP_/PROPN Kappe_/NOUN_/PROPN ,_/PUNCT _/PUNCT_/PROPN Oktoberschatten_/NOUN_/PROPN Oktoberkeule_/PROPN_/PROPN ,_/PUNCT _/PUNCT_/PROPN und_/CCONJ_/PROPN -_/PUNCT schatten_/ADJ_/PROPN -_/PUNCT _/PUNCT_/PROPN wo_/ADV_/PROPN die_/DET_/PROPN Schatten_/NOUN_/PROPN einander_/PRON_/PROPN entgegen_/ADP_/PROPN sind_/AUX_/PROPN\n",
      "weil_/SCONJ das_/DET Auge_/NOUN zuerst_/ADV bricht_/VERB der_/DET Körper_/NOUN will_/AUX sich_/PRON ja_/ADV schließen_/VERB ,_/PUNCT rufst_/ADV du_/PRON ,_/PUNCT Verdruss_/NOUN und_/CCONJ Krankheit_/NOUN ,_/PUNCT die_/DET Witwe_/PROPN ,_/PUNCT Göttin_/PROPN aus_/ADP der_/DET Maschine_/NOUN ,_/PUNCT die_/PRON grünen_/ADJ Spielkarten_/NOUN plötzlich_/ADJ aus_/ADP der_/DET Tasche_/NOUN gezogen_/VERB ,_/PUNCT gemischt_/ADJ ,_/PUNCT dreimal_/ADV abheben!_/PROPN linkshändig!_/X die_/DET Rosalia_/PROPN sichtbar_/ADJ zu_/ADP machen!_/X bewaldet!_/X wir_/X essen_/VERB bewaldet!_/PUNCT wir_/PRON essen_/VERB kleine_/ADJ Drachen_/NOUN ,_/PUNCT den_/DET Mond_/NOUN ,_/PUNCT das_/DET Land_/NOUN ist_/AUX Löwe_/NOUN ,_/PUNCT viel_/ADJ Hitze_/NOUN ,_/PUNCT Pompeji_/PROPN ,_/PUNCT Kälberleib_/PROPN ._/PUNCT Bekröter_/PROPN sogar_/ADV ,_/PUNCT Wahrträume_/NOUN wie_/CCONJ mit_/ADP vielen_/ADJ Augen_/NOUN von_/ADP jeder_/DET Pfütze_/NOUN getrunken_/VERB ,_/PUNCT die_/PRON Vögel_/NOUN picken_/VERB zuerst_/ADV das_/DET menschliche_/ADJ Auge_/NOUN aus_/ADP ,_/PUNCT alles_/DET verflochten_/ADJ Werktreue_/NOUN ?_/PUNCT rufe_/VERB ich_/PRON ,_/PUNCT Krankheit_/NOUN Verdruss_/NOUN ,_/PUNCT mein_/PRON Gaumen_/NOUN krümmt_/VERB sich_/PRON ,_/PUNCT Beständigkeit_/NOUN ,_/PUNCT Treue_/NOUN aus_/ADP den_/DET Karten_/NOUN gelesen_/VERB Krankheit_/NOUN ,_/PUNCT Verdruss_/NOUN alles_/PRON verflochten_/VERB ,_/PUNCT aber_/CCONJ es_/PRON ist_/AUX kein_/DET Schatz_/NOUN zugegen_/ADJ ,_/PUNCT Beständigkeit_/NOUN Treue_/NOUN ,_/PUNCT aus_/ADP den_/DET Karten_/NOUN gelesen_/VERB ,_/PUNCT Werktreue_/NOUN ?_/PUNCT rufe_/VERB ich_/PRON ,_/PUNCT aber_/CCONJ es_/PRON ist_/AUX kein_/DET Schatz_/NOUN zugegen_/ADJ ,_/PUNCT Asche_/NOUN sein_/AUX ,_/PUNCT Stativ_/NOUN deiner_/PRON Beine_/NOUN ,_/PUNCT alles_/PRON verflochten_/VERB ,_/PUNCT das_/DET Stativ_/NOUN deiner_/PRON Beine_/NOUN /_/X unter_/ADP dem_/DET Kinn_/NOUN unter_/ADP der_/DET Zunge_/NOUN ,_/PUNCT schnarrendes_/ADJ Maulhorn_/NOUN ,_/PUNCT Schläfe_/NOUN mit_/ADP Kappe_/NOUN ,_/PUNCT verkappte_/VERB Schläfe_/PROPN Oktoberkeule_/PROPN Oktober_/NOUN keule_/X ,_/PUNCT und_/CCONJ -schatten_/NOUN /_/PUNCT wo_/ADV die_/DET unsere_/PRON Schatten_/NOUN einander_/PRON entgegen_/ADP sind_/AUX\n",
      "['weil_/SCONJ_/PROPN', 'das_/DET_/PROPN', 'Auge_/NOUN_/PROPN', 'zuerst_/ADV_/PROPN', 'bricht_/VERB_/PROPN', 'der_/DET_/PROPN', 'Körper_/NOUN_/PROPN', 'will_/AUX_/X', 'sich_/PRON_/X', 'ja_/ADV_/X', 'schließen_/VERB_/X', ',_/PUNCT', '_/PUNCT_/PROPN', 'rufst_/ADV_/PROPN', 'du_/PRON_/PROPN', ',_/PUNCT', '_/PUNCT_/PROPN', 'Verdruss_/NOUN_/PROPN', 'und_/CCONJ_/PROPN', 'Krankheit_/NOUN_/PROPN', ',_/PUNCT', '_/PUNCT_/PROPN', 'die_/DET_/PROPN', 'Witwe_/PROPN_/PROPN', ',_/PUNCT', '_/PUNCT_/PROPN', 'Göttin_/PROPN_/PROPN', 'aus_/ADP_/PROPN', 'der_/DET_/PROPN', 'Maschine_/NOUN_/PROPN', ',_/PUNCT', '_/PUNCT_/PROPN', 'die_/PRON_/PROPN', 'grünen_/ADJ_/PROPN', 'Spielkarten_/NOUN_/PROPN', 'plötzlich_/ADJ_/PROPN', 'aus_/ADP_/PROPN', 'der_/DET_/PROPN', 'Tasche_/NOUN_/PROPN', 'gezogen_/VERB_/PROPN', ',_/PUNCT', '_/PUNCT_/PROPN', 'gemischt_/ADJ_/PROPN', ',_/PUNCT', '_/PUNCT_/PROPN', 'dreimal_/ADV_/PROPN', 'abheben!_/PROPN_/X', 'linkshändig!_/X_/X', 'die_/DET_/X', 'Rosalia_/PROPN_/X', 'sichtbar_/ADJ_/X', 'zu_/ADP_/X', 'machen!_/X_/X', 'bewaldet!_/X_/X', 'wir_/X_/X', 'essen_/VERB_/X', 'bewaldet!_/PUNCT_/X', 'wir_/PRON_/X', 'essen_/VERB_/PROPN', 'kleine_/ADJ_/PROPN', 'Drachen_/NOUN_/PROPN', ',_/PUNCT', '_/PUNCT_/PROPN', 'den_/DET_/PROPN', 'Mond_/NOUN_/PROPN', ',_/PUNCT', '_/PUNCT_/PROPN', 'das_/DET_/PROPN', 'Land_/NOUN_/PROPN', 'ist_/AUX_/PROPN', 'Löwe_/NOUN_/PROPN', ',_/PUNCT', '_/PUNCT_/PROPN', 'viel_/ADJ_/PROPN', 'Hitze_/NOUN_/PROPN', ',_/PUNCT', '_/PUNCT_/PROPN', 'Pompeji_/PROPN_/PROPN', ',_/PUNCT', '_/PUNCT_/PROPN', 'Kälberleib_/PROPN_/PROPN', '._/PUNCT_/PROPN', 'Bekröter_/PROPN_/PROPN', 'sogar_/ADV_/PROPN', ',_/PUNCT', '_/PUNCT_/PROPN', 'Wahrträume_/NOUN_/PROPN', 'wie_/CCONJ_/PROPN', 'mit_/ADP_/PROPN', 'vielen_/ADJ_/PROPN', 'Augen_/NOUN_/PROPN', 'von_/ADP_/PROPN', 'jeder_/DET_/PROPN', 'Pfütze_/NOUN_/PROPN', 'getrunken_/VERB_/PROPN', ',_/PUNCT', '_/PUNCT_/PROPN', 'die_/PRON_/PROPN', 'Vögel_/NOUN_/PROPN', 'picken_/VERB_/PROPN', 'zuerst_/ADV_/PROPN', 'das_/DET_/PROPN', 'menschliche_/ADJ_/PROPN', 'Auge_/NOUN_/PROPN', 'aus_/ADP_/PROPN', ',_/PUNCT', '_/PUNCT_/PROPN', 'alles_/DET_/PROPN', 'verflochten_/ADJ_/PROPN', 'Werktreue_/NOUN_/PROPN', '?_/PUNCT_/PROPN', 'rufe_/VERB_/PROPN', 'ich_/PRON_/PROPN', ',_/PUNCT', '_/PUNCT_/PROPN', 'Krankheit_/NOUN_/PROPN', 'Verdruss_/NOUN_/PROPN', ',_/PUNCT', '_/PUNCT_/PROPN', 'mein_/PRON_/PROPN', 'Gaumen_/NOUN_/PROPN', 'krümmt_/VERB_/PROPN', 'sich_/PRON_/PROPN', ',_/PUNCT', '_/PUNCT_/PROPN', 'Beständigkeit_/NOUN_/PROPN', ',_/PUNCT', '_/PUNCT_/PROPN', 'Treue_/NOUN_/PROPN', 'aus_/ADP_/PROPN', 'den_/DET_/PROPN', 'Karten_/NOUN_/PROPN', 'gelesen_/VERB_/PROPN', 'Krankheit_/NOUN_/PROPN', ',_/PUNCT', '_/PUNCT_/PROPN', 'Verdruss_/NOUN_/PROPN', 'alles_/PRON_/PROPN', 'verflochten_/VERB_/PROPN', ',_/PUNCT', '_/PUNCT_/PROPN', 'aber_/CCONJ_/PROPN', 'es_/PRON_/PROPN', 'ist_/AUX_/PROPN', 'kein_/DET_/PROPN', 'Schatz_/NOUN_/PROPN', 'zugegen_/ADJ_/PROPN', ',_/PUNCT', '_/PUNCT_/PROPN', 'Beständigkeit_/NOUN_/PROPN', 'Treue_/NOUN_/PROPN', ',_/PUNCT', '_/PUNCT_/PROPN', 'aus_/ADP_/PROPN', 'den_/DET_/PROPN', 'Karten_/NOUN_/PROPN', 'gelesen_/VERB_/PROPN', ',_/PUNCT', '_/PUNCT_/PROPN', 'Werktreue_/NOUN_/PROPN', '?_/PUNCT_/PROPN', 'rufe_/VERB_/PROPN', 'ich_/PRON_/PROPN', ',_/PUNCT', '_/PUNCT_/PROPN', 'aber_/CCONJ_/PROPN', 'es_/PRON_/PROPN', 'ist_/AUX_/PROPN', 'kein_/DET_/PROPN', 'Schatz_/NOUN_/PROPN', 'zugegen_/ADJ_/PROPN', ',_/PUNCT', '_/PUNCT_/PROPN', 'Asche_/NOUN_/PROPN', 'sein_/AUX_/X', ',_/PUNCT', '_/PUNCT_/PROPN', 'Stativ_/NOUN_/PROPN', 'deiner_/PRON_/PROPN', 'Beine_/NOUN_/PROPN', ',_/PUNCT', '_/PUNCT_/PROPN', 'alles_/PRON_/PROPN', 'verflochten_/VERB_/PROPN', ',_/PUNCT', '_/PUNCT_/PROPN', 'das_/DET_/PROPN', 'Stativ_/NOUN_/X', 'deiner_/PRON_/X', 'Beine_/NOUN_/X', '/_/X_/X', 'unter_/ADP_/X', 'dem_/DET_/PROPN', 'Kinn_/NOUN_/PROPN', 'unter_/ADP_/PROPN', 'der_/DET_/PROPN', 'Zunge_/NOUN_/PROPN', ',_/PUNCT', '_/PUNCT_/PROPN', 'schnarrendes_/ADJ_/PROPN', 'Maulhorn_/NOUN_/PROPN', ',_/PUNCT', '_/PUNCT_/PROPN', 'Schläfe_/NOUN_/PROPN', 'mit_/ADP_/PROPN', 'Kappe_/NOUN_/PROPN', ',_/PUNCT', '_/PUNCT_/PROPN', 'verkappte_/VERB_/PROPN', 'Schläfe_/PROPN_/PROPN', 'Oktoberkeule_/PROPN_/PROPN', 'Oktober_/NOUN_/PROPN', 'keule_/X_/PROPN', ',_/PUNCT', '_/PUNCT_/PROPN', 'und_/CCONJ_/PROPN', '-_/PUNCT', 'schatten_/NOUN_/X', '/_/PUNCT_/X', 'wo_/ADV_/X', 'die_/DET_/PROPN', 'unsere_/PRON_/X', 'Schatten_/NOUN_/PROPN', 'einander_/PRON_/X', 'entgegen_/ADP_/X', 'sind_/AUX_/X']\n",
      "weil_/SCONJ_/PROPN das_/DET_/PROPN Auge_/NOUN_/PROPN zuerst_/ADV_/PROPN bricht_/VERB_/PROPN der_/DET_/PROPN Körper_/NOUN_/PROPN will_/AUX_/X sich_/PRON_/X ja_/ADV_/X schließen_/VERB_/X ,_/PUNCT _/PUNCT_/PROPN rufst_/ADV_/PROPN du_/PRON_/PROPN ,_/PUNCT _/PUNCT_/PROPN Verdruss_/NOUN_/PROPN und_/CCONJ_/PROPN Krankheit_/NOUN_/PROPN ,_/PUNCT _/PUNCT_/PROPN die_/DET_/PROPN Witwe_/PROPN_/PROPN ,_/PUNCT _/PUNCT_/PROPN Göttin_/PROPN_/PROPN aus_/ADP_/PROPN der_/DET_/PROPN Maschine_/NOUN_/PROPN ,_/PUNCT _/PUNCT_/PROPN die_/PRON_/PROPN grünen_/ADJ_/PROPN Spielkarten_/NOUN_/PROPN plötzlich_/ADJ_/PROPN aus_/ADP_/PROPN der_/DET_/PROPN Tasche_/NOUN_/PROPN gezogen_/VERB_/PROPN ,_/PUNCT _/PUNCT_/PROPN gemischt_/ADJ_/PROPN ,_/PUNCT _/PUNCT_/PROPN dreimal_/ADV_/PROPN abheben!_/PROPN_/X linkshändig!_/X_/X die_/DET_/X Rosalia_/PROPN_/X sichtbar_/ADJ_/X zu_/ADP_/X machen!_/X_/X bewaldet!_/X_/X wir_/X_/X essen_/VERB_/X bewaldet!_/PUNCT_/X wir_/PRON_/X essen_/VERB_/PROPN kleine_/ADJ_/PROPN Drachen_/NOUN_/PROPN ,_/PUNCT _/PUNCT_/PROPN den_/DET_/PROPN Mond_/NOUN_/PROPN ,_/PUNCT _/PUNCT_/PROPN das_/DET_/PROPN Land_/NOUN_/PROPN ist_/AUX_/PROPN Löwe_/NOUN_/PROPN ,_/PUNCT _/PUNCT_/PROPN viel_/ADJ_/PROPN Hitze_/NOUN_/PROPN ,_/PUNCT _/PUNCT_/PROPN Pompeji_/PROPN_/PROPN ,_/PUNCT _/PUNCT_/PROPN Kälberleib_/PROPN_/PROPN ._/PUNCT_/PROPN Bekröter_/PROPN_/PROPN sogar_/ADV_/PROPN ,_/PUNCT _/PUNCT_/PROPN Wahrträume_/NOUN_/PROPN wie_/CCONJ_/PROPN mit_/ADP_/PROPN vielen_/ADJ_/PROPN Augen_/NOUN_/PROPN von_/ADP_/PROPN jeder_/DET_/PROPN Pfütze_/NOUN_/PROPN getrunken_/VERB_/PROPN ,_/PUNCT _/PUNCT_/PROPN die_/PRON_/PROPN Vögel_/NOUN_/PROPN picken_/VERB_/PROPN zuerst_/ADV_/PROPN das_/DET_/PROPN menschliche_/ADJ_/PROPN Auge_/NOUN_/PROPN aus_/ADP_/PROPN ,_/PUNCT _/PUNCT_/PROPN alles_/DET_/PROPN verflochten_/ADJ_/PROPN Werktreue_/NOUN_/PROPN ?_/PUNCT_/PROPN rufe_/VERB_/PROPN ich_/PRON_/PROPN ,_/PUNCT _/PUNCT_/PROPN Krankheit_/NOUN_/PROPN Verdruss_/NOUN_/PROPN ,_/PUNCT _/PUNCT_/PROPN mein_/PRON_/PROPN Gaumen_/NOUN_/PROPN krümmt_/VERB_/PROPN sich_/PRON_/PROPN ,_/PUNCT _/PUNCT_/PROPN Beständigkeit_/NOUN_/PROPN ,_/PUNCT _/PUNCT_/PROPN Treue_/NOUN_/PROPN aus_/ADP_/PROPN den_/DET_/PROPN Karten_/NOUN_/PROPN gelesen_/VERB_/PROPN Krankheit_/NOUN_/PROPN ,_/PUNCT _/PUNCT_/PROPN Verdruss_/NOUN_/PROPN alles_/PRON_/PROPN verflochten_/VERB_/PROPN ,_/PUNCT _/PUNCT_/PROPN aber_/CCONJ_/PROPN es_/PRON_/PROPN ist_/AUX_/PROPN kein_/DET_/PROPN Schatz_/NOUN_/PROPN zugegen_/ADJ_/PROPN ,_/PUNCT _/PUNCT_/PROPN Beständigkeit_/NOUN_/PROPN Treue_/NOUN_/PROPN ,_/PUNCT _/PUNCT_/PROPN aus_/ADP_/PROPN den_/DET_/PROPN Karten_/NOUN_/PROPN gelesen_/VERB_/PROPN ,_/PUNCT _/PUNCT_/PROPN Werktreue_/NOUN_/PROPN ?_/PUNCT_/PROPN rufe_/VERB_/PROPN ich_/PRON_/PROPN ,_/PUNCT _/PUNCT_/PROPN aber_/CCONJ_/PROPN es_/PRON_/PROPN ist_/AUX_/PROPN kein_/DET_/PROPN Schatz_/NOUN_/PROPN zugegen_/ADJ_/PROPN ,_/PUNCT _/PUNCT_/PROPN Asche_/NOUN_/PROPN sein_/AUX_/X ,_/PUNCT _/PUNCT_/PROPN Stativ_/NOUN_/PROPN deiner_/PRON_/PROPN Beine_/NOUN_/PROPN ,_/PUNCT _/PUNCT_/PROPN alles_/PRON_/PROPN verflochten_/VERB_/PROPN ,_/PUNCT _/PUNCT_/PROPN das_/DET_/PROPN Stativ_/NOUN_/X deiner_/PRON_/X Beine_/NOUN_/X /_/X_/X unter_/ADP_/X dem_/DET_/PROPN Kinn_/NOUN_/PROPN unter_/ADP_/PROPN der_/DET_/PROPN Zunge_/NOUN_/PROPN ,_/PUNCT _/PUNCT_/PROPN schnarrendes_/ADJ_/PROPN Maulhorn_/NOUN_/PROPN ,_/PUNCT _/PUNCT_/PROPN Schläfe_/NOUN_/PROPN mit_/ADP_/PROPN Kappe_/NOUN_/PROPN ,_/PUNCT _/PUNCT_/PROPN verkappte_/VERB_/PROPN Schläfe_/PROPN_/PROPN Oktoberkeule_/PROPN_/PROPN Oktober_/NOUN_/PROPN keule_/X_/PROPN ,_/PUNCT _/PUNCT_/PROPN und_/CCONJ_/PROPN -_/PUNCT schatten_/NOUN_/X /_/PUNCT_/X wo_/ADV_/X die_/DET_/PROPN unsere_/PRON_/X Schatten_/NOUN_/PROPN einander_/PRON_/X entgegen_/ADP_/X sind_/AUX_/X\n",
      "weil_/SCONJ das_/DET Auge_/NOUN zuerst_/ADV bricht_/VERB der_/DET Körper_/NOUN will_/AUX sich_/PRON ja_/ADV schließen_/VERB ,_/PUNCT rufst_/ADV du_/PRON ,_/PUNCT Verdruss_/NOUN und_/CCONJ Krankheit_/NOUN ,_/PUNCT die_/DET Witwe_/PROPN ,_/PUNCT Göttin_/PROPN aus_/ADP der_/DET Maschine_/NOUN ,_/PUNCT die_/PRON grünen_/ADJ Spielkarten_/NOUN plötzlich_/ADJ aus_/ADP der_/DET Tasche_/NOUN gezogen_/VERB ,_/PUNCT gemischt_/ADJ ,_/PUNCT dreimal_/ADV abheben!_/PROPN linkshändig!_/X die_/DET Rosalia_/NOUN sichtbar_/ADJ machen_/VERB !_/PUNCT ,_/PUNCT bewaldet_/VERB /_/X wir_/PRON essen_/ADJ kleine_/ADJ Drachen_/NOUN ,_/PUNCT den_/DET Mond_/NOUN ,_/PUNCT das_/DET Land_/NOUN ist_/AUX Löwe_/NOUN ,_/PUNCT viel_/ADJ Hitze_/NOUN ,_/PUNCT Pompeji_/PROPN ,_/PUNCT ein_/DET Kälberleib_/NOUN ,_/PUNCT Bekröter_/NOUN sogar_/ADV ,_/PUNCT Wahrträume_/NOUN wie_/CCONJ mit_/ADP vielen_/ADJ Augen_/NOUN von_/ADP jeder_/DET Pfütze_/NOUN getrunken_/ADJ ,_/PUNCT die_/DET Vögel_/NOUN picken_/VERB zuerst_/ADV das_/DET menschliche_/ADJ Auge_/NOUN aus_/ADP ,_/PUNCT mein_/PRON Gaumen_/NOUN sich_/PRON alles_/PRON verflochten_/VERB ,_/PUNCT Krankheit_/NOUN ,_/PUNCT Verdruss_/NOUN aber_/CCONJ es_/PRON ist_/AUX kein_/DET Schatz_/NOUN zugegen_/ADJ ,_/PUNCT Beständigkeit_/NOUN ,_/PUNCT Treue_/NOUN aus_/ADP den_/DET Karten_/NOUN gelesen_/VERB ,_/PUNCT Werktreue_/NOUN ?_/PUNCT rufe_/VERB ich_/PRON ,_/PUNCT unter_/ADP der_/DET Zunge_/NOUN ,_/PUNCT unter_/ADP dem_/DET Kinn_/NOUN ,_/PUNCT ein_/DET Stativ_/NOUN deiner_/PRON Beine_/NOUN ,_/PUNCT Schläfe_/NOUN mit_/ADP Kappe_/NOUN ,_/PUNCT Oktoberkeule_/NOUN ,_/PUNCT und_/CCONJ schnarrendes_/ADJ Maulhorn_/NOUN ,_/PUNCT wo_/ADV unsere_/PRON Schatten_/NOUN einander_/PRON entgegen_/ADP sind_/AUX\n",
      "['weil_/SCONJ_/PROPN', 'das_/DET_/PROPN', 'Auge_/NOUN_/PROPN', 'zuerst_/ADV_/PROPN', 'bricht_/VERB_/PROPN', 'der_/DET_/PROPN', 'Körper_/NOUN_/PROPN', 'will_/AUX_/X', 'sich_/PRON_/X', 'ja_/ADV_/X', 'schließen_/VERB_/X', ',_/PUNCT', '_/PUNCT_/PROPN', 'rufst_/ADV_/PROPN', 'du_/PRON_/PROPN', ',_/PUNCT', '_/PUNCT_/PROPN', 'Verdruss_/NOUN_/PROPN', 'und_/CCONJ_/PROPN', 'Krankheit_/NOUN_/PROPN', ',_/PUNCT', '_/PUNCT_/PROPN', 'die_/DET_/PROPN', 'Witwe_/PROPN_/PROPN', ',_/PUNCT', '_/PUNCT_/PROPN', 'Göttin_/PROPN_/PROPN', 'aus_/ADP_/PROPN', 'der_/DET_/PROPN', 'Maschine_/NOUN_/PROPN', ',_/PUNCT', '_/PUNCT_/PROPN', 'die_/PRON_/PROPN', 'grünen_/ADJ_/PROPN', 'Spielkarten_/NOUN_/PROPN', 'plötzlich_/ADJ_/PROPN', 'aus_/ADP_/PROPN', 'der_/DET_/PROPN', 'Tasche_/NOUN_/PROPN', 'gezogen_/VERB_/PROPN', ',_/PUNCT', '_/PUNCT_/PROPN', 'gemischt_/ADJ_/PROPN', ',_/PUNCT', '_/PUNCT_/PROPN', 'dreimal_/ADV_/PROPN', 'abheben!_/PROPN_/X', 'linkshändig!_/X_/X', 'die_/DET_/PROPN', 'Rosalia_/NOUN_/PROPN', 'sichtbar_/ADJ_/PROPN', 'machen_/VERB_/PROPN', '!_/PUNCT_/PROPN', ',_/PUNCT', '_/PUNCT_/PROPN', 'bewaldet_/VERB_/X', '/_/X_/X', 'wir_/PRON_/X', 'essen_/ADJ_/PROPN', 'kleine_/ADJ_/PROPN', 'Drachen_/NOUN_/PROPN', ',_/PUNCT', '_/PUNCT_/PROPN', 'den_/DET_/PROPN', 'Mond_/NOUN_/PROPN', ',_/PUNCT', '_/PUNCT_/PROPN', 'das_/DET_/PROPN', 'Land_/NOUN_/PROPN', 'ist_/AUX_/PROPN', 'Löwe_/NOUN_/PROPN', ',_/PUNCT', '_/PUNCT_/PROPN', 'viel_/ADJ_/PROPN', 'Hitze_/NOUN_/PROPN', ',_/PUNCT', '_/PUNCT_/PROPN', 'Pompeji_/PROPN_/PROPN', ',_/PUNCT', '_/PUNCT_/PROPN', 'ein_/DET_/PROPN', 'Kälberleib_/NOUN_/PROPN', ',_/PUNCT', '_/PUNCT_/PROPN', 'Bekröter_/NOUN_/PROPN', 'sogar_/ADV_/PROPN', ',_/PUNCT', '_/PUNCT_/PROPN', 'Wahrträume_/NOUN_/PROPN', 'wie_/CCONJ_/PROPN', 'mit_/ADP_/PROPN', 'vielen_/ADJ_/PROPN', 'Augen_/NOUN_/PROPN', 'von_/ADP_/PROPN', 'jeder_/DET_/PROPN', 'Pfütze_/NOUN_/PROPN', 'getrunken_/ADJ_/PROPN', ',_/PUNCT', '_/PUNCT_/PROPN', 'die_/DET_/PROPN', 'Vögel_/NOUN_/PROPN', 'picken_/VERB_/PROPN', 'zuerst_/ADV_/PROPN', 'das_/DET_/PROPN', 'menschliche_/ADJ_/PROPN', 'Auge_/NOUN_/PROPN', 'aus_/ADP_/PROPN', ',_/PUNCT', '_/PUNCT_/PROPN', 'mein_/PRON_/PROPN', 'Gaumen_/NOUN_/PROPN', 'sich_/PRON_/PROPN', 'alles_/PRON_/PROPN', 'verflochten_/VERB_/PROPN', ',_/PUNCT', '_/PUNCT_/PROPN', 'Krankheit_/NOUN_/PROPN', ',_/PUNCT', '_/PUNCT_/PROPN', 'Verdruss_/NOUN_/PROPN', 'aber_/CCONJ_/PROPN', 'es_/PRON_/PROPN', 'ist_/AUX_/PROPN', 'kein_/DET_/PROPN', 'Schatz_/NOUN_/PROPN', 'zugegen_/ADJ_/PROPN', ',_/PUNCT', '_/PUNCT_/PROPN', 'Beständigkeit_/NOUN_/PROPN', ',_/PUNCT', '_/PUNCT_/PROPN', 'Treue_/NOUN_/PROPN', 'aus_/ADP_/PROPN', 'den_/DET_/PROPN', 'Karten_/NOUN_/PROPN', 'gelesen_/VERB_/PROPN', ',_/PUNCT', '_/PUNCT_/PROPN', 'Werktreue_/NOUN_/PROPN', '?_/PUNCT_/PROPN', 'rufe_/VERB_/PROPN', 'ich_/PRON_/PROPN', ',_/PUNCT', '_/PUNCT_/PROPN', 'unter_/ADP_/PROPN', 'der_/DET_/PROPN', 'Zunge_/NOUN_/PROPN', ',_/PUNCT', '_/PUNCT_/PROPN', 'unter_/ADP_/PROPN', 'dem_/DET_/PROPN', 'Kinn_/NOUN_/PROPN', ',_/PUNCT', '_/PUNCT_/PROPN', 'ein_/DET_/PROPN', 'Stativ_/NOUN_/PROPN', 'deiner_/PRON_/PROPN', 'Beine_/NOUN_/PROPN', ',_/PUNCT', '_/PUNCT_/PROPN', 'Schläfe_/NOUN_/PROPN', 'mit_/ADP_/PROPN', 'Kappe_/NOUN_/PROPN', ',_/PUNCT', '_/PUNCT_/PROPN', 'Oktoberkeule_/NOUN_/PROPN', ',_/PUNCT', '_/PUNCT_/PROPN', 'und_/CCONJ_/PROPN', 'schnarrendes_/ADJ_/PROPN', 'Maulhorn_/NOUN_/PROPN', ',_/PUNCT', '_/PUNCT_/PROPN', 'wo_/ADV_/X', 'unsere_/PRON_/X', 'Schatten_/NOUN_/X', 'einander_/PRON_/X', 'entgegen_/ADP_/X', 'sind_/AUX_/X']\n",
      "weil_/SCONJ_/PROPN das_/DET_/PROPN Auge_/NOUN_/PROPN zuerst_/ADV_/PROPN bricht_/VERB_/PROPN der_/DET_/PROPN Körper_/NOUN_/PROPN will_/AUX_/X sich_/PRON_/X ja_/ADV_/X schließen_/VERB_/X ,_/PUNCT _/PUNCT_/PROPN rufst_/ADV_/PROPN du_/PRON_/PROPN ,_/PUNCT _/PUNCT_/PROPN Verdruss_/NOUN_/PROPN und_/CCONJ_/PROPN Krankheit_/NOUN_/PROPN ,_/PUNCT _/PUNCT_/PROPN die_/DET_/PROPN Witwe_/PROPN_/PROPN ,_/PUNCT _/PUNCT_/PROPN Göttin_/PROPN_/PROPN aus_/ADP_/PROPN der_/DET_/PROPN Maschine_/NOUN_/PROPN ,_/PUNCT _/PUNCT_/PROPN die_/PRON_/PROPN grünen_/ADJ_/PROPN Spielkarten_/NOUN_/PROPN plötzlich_/ADJ_/PROPN aus_/ADP_/PROPN der_/DET_/PROPN Tasche_/NOUN_/PROPN gezogen_/VERB_/PROPN ,_/PUNCT _/PUNCT_/PROPN gemischt_/ADJ_/PROPN ,_/PUNCT _/PUNCT_/PROPN dreimal_/ADV_/PROPN abheben!_/PROPN_/X linkshändig!_/X_/X die_/DET_/PROPN Rosalia_/NOUN_/PROPN sichtbar_/ADJ_/PROPN machen_/VERB_/PROPN !_/PUNCT_/PROPN ,_/PUNCT _/PUNCT_/PROPN bewaldet_/VERB_/X /_/X_/X wir_/PRON_/X essen_/ADJ_/PROPN kleine_/ADJ_/PROPN Drachen_/NOUN_/PROPN ,_/PUNCT _/PUNCT_/PROPN den_/DET_/PROPN Mond_/NOUN_/PROPN ,_/PUNCT _/PUNCT_/PROPN das_/DET_/PROPN Land_/NOUN_/PROPN ist_/AUX_/PROPN Löwe_/NOUN_/PROPN ,_/PUNCT _/PUNCT_/PROPN viel_/ADJ_/PROPN Hitze_/NOUN_/PROPN ,_/PUNCT _/PUNCT_/PROPN Pompeji_/PROPN_/PROPN ,_/PUNCT _/PUNCT_/PROPN ein_/DET_/PROPN Kälberleib_/NOUN_/PROPN ,_/PUNCT _/PUNCT_/PROPN Bekröter_/NOUN_/PROPN sogar_/ADV_/PROPN ,_/PUNCT _/PUNCT_/PROPN Wahrträume_/NOUN_/PROPN wie_/CCONJ_/PROPN mit_/ADP_/PROPN vielen_/ADJ_/PROPN Augen_/NOUN_/PROPN von_/ADP_/PROPN jeder_/DET_/PROPN Pfütze_/NOUN_/PROPN getrunken_/ADJ_/PROPN ,_/PUNCT _/PUNCT_/PROPN die_/DET_/PROPN Vögel_/NOUN_/PROPN picken_/VERB_/PROPN zuerst_/ADV_/PROPN das_/DET_/PROPN menschliche_/ADJ_/PROPN Auge_/NOUN_/PROPN aus_/ADP_/PROPN ,_/PUNCT _/PUNCT_/PROPN mein_/PRON_/PROPN Gaumen_/NOUN_/PROPN sich_/PRON_/PROPN alles_/PRON_/PROPN verflochten_/VERB_/PROPN ,_/PUNCT _/PUNCT_/PROPN Krankheit_/NOUN_/PROPN ,_/PUNCT _/PUNCT_/PROPN Verdruss_/NOUN_/PROPN aber_/CCONJ_/PROPN es_/PRON_/PROPN ist_/AUX_/PROPN kein_/DET_/PROPN Schatz_/NOUN_/PROPN zugegen_/ADJ_/PROPN ,_/PUNCT _/PUNCT_/PROPN Beständigkeit_/NOUN_/PROPN ,_/PUNCT _/PUNCT_/PROPN Treue_/NOUN_/PROPN aus_/ADP_/PROPN den_/DET_/PROPN Karten_/NOUN_/PROPN gelesen_/VERB_/PROPN ,_/PUNCT _/PUNCT_/PROPN Werktreue_/NOUN_/PROPN ?_/PUNCT_/PROPN rufe_/VERB_/PROPN ich_/PRON_/PROPN ,_/PUNCT _/PUNCT_/PROPN unter_/ADP_/PROPN der_/DET_/PROPN Zunge_/NOUN_/PROPN ,_/PUNCT _/PUNCT_/PROPN unter_/ADP_/PROPN dem_/DET_/PROPN Kinn_/NOUN_/PROPN ,_/PUNCT _/PUNCT_/PROPN ein_/DET_/PROPN Stativ_/NOUN_/PROPN deiner_/PRON_/PROPN Beine_/NOUN_/PROPN ,_/PUNCT _/PUNCT_/PROPN Schläfe_/NOUN_/PROPN mit_/ADP_/PROPN Kappe_/NOUN_/PROPN ,_/PUNCT _/PUNCT_/PROPN Oktoberkeule_/NOUN_/PROPN ,_/PUNCT _/PUNCT_/PROPN und_/CCONJ_/PROPN schnarrendes_/ADJ_/PROPN Maulhorn_/NOUN_/PROPN ,_/PUNCT _/PUNCT_/PROPN wo_/ADV_/X unsere_/PRON_/X Schatten_/NOUN_/X einander_/PRON_/X entgegen_/ADP_/X sind_/AUX_/X\n",
      "weil_/SCONJ das_/DET Auge_/NOUN zuerst_/ADV bricht_/VERB der_/DET Körper_/NOUN will_/AUX sich_/PRON ja_/ADV schließen_/VERB ,_/PUNCT rufst_/ADV du_/PRON ,_/PUNCT Verdruss_/NOUN und_/CCONJ Krankheit_/NOUN ,_/PUNCT die_/DET Witwe_/PROPN ,_/PUNCT Göttin_/PROPN aus_/ADP der_/DET Maschine_/NOUN ,_/PUNCT die_/PRON grünen_/ADJ Spielkarten_/NOUN plötzlich_/ADJ aus_/ADP der_/DET Tasche_/NOUN gezogen_/VERB ,_/PUNCT gemischt_/ADJ ,_/PUNCT dreimal_/ADV abheben!_/PROPN linkshändig!_/X die_/DET Rosalia_/PROPN sichtbar_/ADJ zu_/PART machen_/VERB ,_/PUNCT bewaldet_/VERB /_/X wir_/PRON essen_/ADJ kleine_/ADJ Drachen_/NOUN ,_/PUNCT den_/DET Mond_/NOUN ,_/PUNCT das_/DET Land_/NOUN ist_/AUX Löwe_/NOUN ,_/PUNCT viel_/ADJ Hitze_/NOUN ,_/PUNCT Pompeji_/PROPN ,_/PUNCT ein_/DET Kälberleib_/NOUN ,_/PUNCT Bekröter_/NOUN sogar_/ADV ,_/PUNCT Wahrträume_/NOUN wie_/CCONJ mit_/ADP vielen_/ADJ Augen_/NOUN von_/ADP jeder_/DET Pfütze_/NOUN getrunken_/ADJ ,_/PUNCT die_/DET Vögel_/NOUN picken_/VERB zuerst_/ADV das_/DET menschliche_/ADJ Auge_/NOUN aus_/ADP ,_/PUNCT alles_/PRON verflochten_/VERB ,_/PUNCT Krankheit_/NOUN ,_/PUNCT Verdruss_/NOUN ,_/PUNCT mein_/PRON Gaumen_/NOUN krümmt_/VERB sich_/PRON ,_/PUNCT aber_/CCONJ es_/PRON ist_/AUX kein_/DET Schatz_/NOUN zugegen_/ADJ ,_/PUNCT Treue_/NOUN ,_/PUNCT Beständigkeit_/NOUN ,_/PUNCT aus_/ADP den_/DET Karten_/NOUN gelesen_/VERB ,_/PUNCT Werktreue_/NOUN ?_/PUNCT rufe_/VERB ich_/PRON ,_/PUNCT Stativ_/NOUN Asche_/NOUN sein_/AUX ,_/PUNCT Stativ_/NOUN Asche_/NOUN sein_/AUX ,_/PUNCT Stativ_/NOUN deiner_/PRON Beine_/NOUN ,_/PUNCT mein_/PRON Gaumen_/NOUN krümmt_/VERB sich_/PRON ,_/PUNCT Schläfe_/NOUN mit_/ADP Kappe_/NOUN unter_/ADP der_/DET Zunge_/NOUN unter_/ADP dem_/DET Kinn_/NOUN ,_/PUNCT Oktoberkeule_/NOUN ,_/PUNCT und_/CCONJ schnarrendes_/ADJ Maulhorn_/NOUN ,_/PUNCT wo_/ADV unsere_/PRON Schatten_/NOUN einander_/PRON entgegen_/ADP sind_/AUX\n",
      "['weil_/SCONJ_/PROPN', 'das_/DET_/PROPN', 'Auge_/NOUN_/PROPN', 'zuerst_/ADV_/PROPN', 'bricht_/VERB_/PROPN', 'der_/DET_/PROPN', 'Körper_/NOUN_/PROPN', 'will_/AUX_/X', 'sich_/PRON_/X', 'ja_/ADV_/X', 'schließen_/VERB_/X', ',_/PUNCT', '_/PUNCT_/PROPN', 'rufst_/ADV_/PROPN', 'du_/PRON_/PROPN', ',_/PUNCT', '_/PUNCT_/PROPN', 'Verdruss_/NOUN_/PROPN', 'und_/CCONJ_/PROPN', 'Krankheit_/NOUN_/PROPN', ',_/PUNCT', '_/PUNCT_/PROPN', 'die_/DET_/PROPN', 'Witwe_/PROPN_/PROPN', ',_/PUNCT', '_/PUNCT_/PROPN', 'Göttin_/PROPN_/PROPN', 'aus_/ADP_/PROPN', 'der_/DET_/PROPN', 'Maschine_/NOUN_/PROPN', ',_/PUNCT', '_/PUNCT_/PROPN', 'die_/PRON_/PROPN', 'grünen_/ADJ_/PROPN', 'Spielkarten_/NOUN_/PROPN', 'plötzlich_/ADJ_/PROPN', 'aus_/ADP_/PROPN', 'der_/DET_/PROPN', 'Tasche_/NOUN_/PROPN', 'gezogen_/VERB_/PROPN', ',_/PUNCT', '_/PUNCT_/PROPN', 'gemischt_/ADJ_/PROPN', ',_/PUNCT', '_/PUNCT_/PROPN', 'dreimal_/ADV_/PROPN', 'abheben!_/PROPN_/X', 'linkshändig!_/X_/X', 'die_/DET_/PROPN', 'Rosalia_/PROPN_/PROPN', 'sichtbar_/ADJ_/PROPN', 'zu_/PART_/PROPN', 'machen_/VERB_/PROPN', ',_/PUNCT', '_/PUNCT_/PROPN', 'bewaldet_/VERB_/X', '/_/X_/X', 'wir_/PRON_/X', 'essen_/ADJ_/PROPN', 'kleine_/ADJ_/PROPN', 'Drachen_/NOUN_/PROPN', ',_/PUNCT', '_/PUNCT_/PROPN', 'den_/DET_/PROPN', 'Mond_/NOUN_/PROPN', ',_/PUNCT', '_/PUNCT_/PROPN', 'das_/DET_/PROPN', 'Land_/NOUN_/PROPN', 'ist_/AUX_/PROPN', 'Löwe_/NOUN_/PROPN', ',_/PUNCT', '_/PUNCT_/PROPN', 'viel_/ADJ_/PROPN', 'Hitze_/NOUN_/PROPN', ',_/PUNCT', '_/PUNCT_/PROPN', 'Pompeji_/PROPN_/PROPN', ',_/PUNCT', '_/PUNCT_/PROPN', 'ein_/DET_/PROPN', 'Kälberleib_/NOUN_/PROPN', ',_/PUNCT', '_/PUNCT_/PROPN', 'Bekröter_/NOUN_/PROPN', 'sogar_/ADV_/PROPN', ',_/PUNCT', '_/PUNCT_/PROPN', 'Wahrträume_/NOUN_/PROPN', 'wie_/CCONJ_/PROPN', 'mit_/ADP_/PROPN', 'vielen_/ADJ_/PROPN', 'Augen_/NOUN_/PROPN', 'von_/ADP_/PROPN', 'jeder_/DET_/PROPN', 'Pfütze_/NOUN_/PROPN', 'getrunken_/ADJ_/PROPN', ',_/PUNCT', '_/PUNCT_/PROPN', 'die_/DET_/PROPN', 'Vögel_/NOUN_/PROPN', 'picken_/VERB_/PROPN', 'zuerst_/ADV_/PROPN', 'das_/DET_/PROPN', 'menschliche_/ADJ_/PROPN', 'Auge_/NOUN_/PROPN', 'aus_/ADP_/PROPN', ',_/PUNCT', '_/PUNCT_/PROPN', 'alles_/PRON_/PROPN', 'verflochten_/VERB_/PROPN', ',_/PUNCT', '_/PUNCT_/PROPN', 'Krankheit_/NOUN_/PROPN', ',_/PUNCT', '_/PUNCT_/PROPN', 'Verdruss_/NOUN_/PROPN', ',_/PUNCT', '_/PUNCT_/PROPN', 'mein_/PRON_/PROPN', 'Gaumen_/NOUN_/PROPN', 'krümmt_/VERB_/PROPN', 'sich_/PRON_/PROPN', ',_/PUNCT', '_/PUNCT_/PROPN', 'aber_/CCONJ_/PROPN', 'es_/PRON_/PROPN', 'ist_/AUX_/PROPN', 'kein_/DET_/PROPN', 'Schatz_/NOUN_/PROPN', 'zugegen_/ADJ_/PROPN', ',_/PUNCT', '_/PUNCT_/PROPN', 'Treue_/NOUN_/PROPN', ',_/PUNCT', '_/PUNCT_/PROPN', 'Beständigkeit_/NOUN_/PROPN', ',_/PUNCT', '_/PUNCT_/PROPN', 'aus_/ADP_/PROPN', 'den_/DET_/PROPN', 'Karten_/NOUN_/PROPN', 'gelesen_/VERB_/PROPN', ',_/PUNCT', '_/PUNCT_/PROPN', 'Werktreue_/NOUN_/PROPN', '?_/PUNCT_/PROPN', 'rufe_/VERB_/PROPN', 'ich_/PRON_/PROPN', ',_/PUNCT', '_/PUNCT_/PROPN', 'Stativ_/NOUN_/PROPN', 'Asche_/NOUN_/PROPN', 'sein_/AUX_/X', ',_/PUNCT', '_/PUNCT_/PROPN', 'Stativ_/NOUN_/PROPN', 'Asche_/NOUN_/PROPN', 'sein_/AUX_/X', ',_/PUNCT', '_/PUNCT_/PROPN', 'Stativ_/NOUN_/PROPN', 'deiner_/PRON_/PROPN', 'Beine_/NOUN_/PROPN', ',_/PUNCT', '_/PUNCT_/PROPN', 'mein_/PRON_/PROPN', 'Gaumen_/NOUN_/PROPN', 'krümmt_/VERB_/PROPN', 'sich_/PRON_/PROPN', ',_/PUNCT', '_/PUNCT_/PROPN', 'Schläfe_/NOUN_/PROPN', 'mit_/ADP_/PROPN', 'Kappe_/NOUN_/PROPN', 'unter_/ADP_/PROPN', 'der_/DET_/PROPN', 'Zunge_/NOUN_/PROPN', 'unter_/ADP_/PROPN', 'dem_/DET_/PROPN', 'Kinn_/NOUN_/PROPN', ',_/PUNCT', '_/PUNCT_/PROPN', 'Oktoberkeule_/NOUN_/PROPN', ',_/PUNCT', '_/PUNCT_/PROPN', 'und_/CCONJ_/PROPN', 'schnarrendes_/ADJ_/PROPN', 'Maulhorn_/NOUN_/PROPN', ',_/PUNCT', '_/PUNCT_/PROPN', 'wo_/ADV_/X', 'unsere_/PRON_/X', 'Schatten_/NOUN_/X', 'einander_/PRON_/X', 'entgegen_/ADP_/X', 'sind_/AUX_/X']\n",
      "weil_/SCONJ_/PROPN das_/DET_/PROPN Auge_/NOUN_/PROPN zuerst_/ADV_/PROPN bricht_/VERB_/PROPN der_/DET_/PROPN Körper_/NOUN_/PROPN will_/AUX_/X sich_/PRON_/X ja_/ADV_/X schließen_/VERB_/X ,_/PUNCT _/PUNCT_/PROPN rufst_/ADV_/PROPN du_/PRON_/PROPN ,_/PUNCT _/PUNCT_/PROPN Verdruss_/NOUN_/PROPN und_/CCONJ_/PROPN Krankheit_/NOUN_/PROPN ,_/PUNCT _/PUNCT_/PROPN die_/DET_/PROPN Witwe_/PROPN_/PROPN ,_/PUNCT _/PUNCT_/PROPN Göttin_/PROPN_/PROPN aus_/ADP_/PROPN der_/DET_/PROPN Maschine_/NOUN_/PROPN ,_/PUNCT _/PUNCT_/PROPN die_/PRON_/PROPN grünen_/ADJ_/PROPN Spielkarten_/NOUN_/PROPN plötzlich_/ADJ_/PROPN aus_/ADP_/PROPN der_/DET_/PROPN Tasche_/NOUN_/PROPN gezogen_/VERB_/PROPN ,_/PUNCT _/PUNCT_/PROPN gemischt_/ADJ_/PROPN ,_/PUNCT _/PUNCT_/PROPN dreimal_/ADV_/PROPN abheben!_/PROPN_/X linkshändig!_/X_/X die_/DET_/PROPN Rosalia_/PROPN_/PROPN sichtbar_/ADJ_/PROPN zu_/PART_/PROPN machen_/VERB_/PROPN ,_/PUNCT _/PUNCT_/PROPN bewaldet_/VERB_/X /_/X_/X wir_/PRON_/X essen_/ADJ_/PROPN kleine_/ADJ_/PROPN Drachen_/NOUN_/PROPN ,_/PUNCT _/PUNCT_/PROPN den_/DET_/PROPN Mond_/NOUN_/PROPN ,_/PUNCT _/PUNCT_/PROPN das_/DET_/PROPN Land_/NOUN_/PROPN ist_/AUX_/PROPN Löwe_/NOUN_/PROPN ,_/PUNCT _/PUNCT_/PROPN viel_/ADJ_/PROPN Hitze_/NOUN_/PROPN ,_/PUNCT _/PUNCT_/PROPN Pompeji_/PROPN_/PROPN ,_/PUNCT _/PUNCT_/PROPN ein_/DET_/PROPN Kälberleib_/NOUN_/PROPN ,_/PUNCT _/PUNCT_/PROPN Bekröter_/NOUN_/PROPN sogar_/ADV_/PROPN ,_/PUNCT _/PUNCT_/PROPN Wahrträume_/NOUN_/PROPN wie_/CCONJ_/PROPN mit_/ADP_/PROPN vielen_/ADJ_/PROPN Augen_/NOUN_/PROPN von_/ADP_/PROPN jeder_/DET_/PROPN Pfütze_/NOUN_/PROPN getrunken_/ADJ_/PROPN ,_/PUNCT _/PUNCT_/PROPN die_/DET_/PROPN Vögel_/NOUN_/PROPN picken_/VERB_/PROPN zuerst_/ADV_/PROPN das_/DET_/PROPN menschliche_/ADJ_/PROPN Auge_/NOUN_/PROPN aus_/ADP_/PROPN ,_/PUNCT _/PUNCT_/PROPN alles_/PRON_/PROPN verflochten_/VERB_/PROPN ,_/PUNCT _/PUNCT_/PROPN Krankheit_/NOUN_/PROPN ,_/PUNCT _/PUNCT_/PROPN Verdruss_/NOUN_/PROPN ,_/PUNCT _/PUNCT_/PROPN mein_/PRON_/PROPN Gaumen_/NOUN_/PROPN krümmt_/VERB_/PROPN sich_/PRON_/PROPN ,_/PUNCT _/PUNCT_/PROPN aber_/CCONJ_/PROPN es_/PRON_/PROPN ist_/AUX_/PROPN kein_/DET_/PROPN Schatz_/NOUN_/PROPN zugegen_/ADJ_/PROPN ,_/PUNCT _/PUNCT_/PROPN Treue_/NOUN_/PROPN ,_/PUNCT _/PUNCT_/PROPN Beständigkeit_/NOUN_/PROPN ,_/PUNCT _/PUNCT_/PROPN aus_/ADP_/PROPN den_/DET_/PROPN Karten_/NOUN_/PROPN gelesen_/VERB_/PROPN ,_/PUNCT _/PUNCT_/PROPN Werktreue_/NOUN_/PROPN ?_/PUNCT_/PROPN rufe_/VERB_/PROPN ich_/PRON_/PROPN ,_/PUNCT _/PUNCT_/PROPN Stativ_/NOUN_/PROPN Asche_/NOUN_/PROPN sein_/AUX_/X ,_/PUNCT _/PUNCT_/PROPN Stativ_/NOUN_/PROPN Asche_/NOUN_/PROPN sein_/AUX_/X ,_/PUNCT _/PUNCT_/PROPN Stativ_/NOUN_/PROPN deiner_/PRON_/PROPN Beine_/NOUN_/PROPN ,_/PUNCT _/PUNCT_/PROPN mein_/PRON_/PROPN Gaumen_/NOUN_/PROPN krümmt_/VERB_/PROPN sich_/PRON_/PROPN ,_/PUNCT _/PUNCT_/PROPN Schläfe_/NOUN_/PROPN mit_/ADP_/PROPN Kappe_/NOUN_/PROPN unter_/ADP_/PROPN der_/DET_/PROPN Zunge_/NOUN_/PROPN unter_/ADP_/PROPN dem_/DET_/PROPN Kinn_/NOUN_/PROPN ,_/PUNCT _/PUNCT_/PROPN Oktoberkeule_/NOUN_/PROPN ,_/PUNCT _/PUNCT_/PROPN und_/CCONJ_/PROPN schnarrendes_/ADJ_/PROPN Maulhorn_/NOUN_/PROPN ,_/PUNCT _/PUNCT_/PROPN wo_/ADV_/X unsere_/PRON_/X Schatten_/NOUN_/X einander_/PRON_/X entgegen_/ADP_/X sind_/AUX_/X\n",
      "weil_/SCONJ das_/DET Auge_/NOUN zuerst_/ADV bricht_/VERB der_/DET Körper_/NOUN will_/AUX sich_/PRON ja_/ADV schließen_/VERB ,_/PUNCT rufst_/ADV du_/PRON ,_/PUNCT Verdruss_/NOUN und_/CCONJ Krankheit_/NOUN ,_/PUNCT die_/DET Witwe_/PROPN ,_/PUNCT Göttin_/PROPN aus_/ADP der_/DET Maschine_/NOUN ,_/PUNCT die_/PRON grünen_/ADJ Zigeunerkarten_/NOUN Spielkarten_/NOUN plötzlich_/ADJ aus_/ADP der_/DET Tasche_/NOUN gezogen_/VERB ,_/PUNCT gemischt_/ADJ vermischt_/VERB ,_/PUNCT dreimal_/ADV abheben!_/PROPN linkshändig!_/X die_/DET Rosalia_/PROPN sichtbar_/ADJ zu_/PART machen_/VERB (_/PUNCT bewaldet_/VERB )_/PUNCT /_/X wir_/PRON essen_/VERB kleine_/ADJ Drachen_/NOUN ,_/PUNCT den_/DET Mond_/NOUN ,_/PUNCT das_/DET Land_/NOUN ist_/AUX Löwe_/NOUN ,_/PUNCT viel_/ADV voll_/ADJ Hitze_/NOUN ,_/PUNCT Pompeji_/PROPN ,_/PUNCT Kunstwellen_/NOUN ein_/DET Kälberleib_/NOUN ,_/PUNCT Bekröter_/NOUN sogar_/ADV ,_/PUNCT Wahrträume_/NOUN wie_/CCONJ mit_/ADP vielen_/ADJ Augen_/NOUN von_/ADP jeder_/DET Pfütze_/NOUN getrunken_/ADJ ,_/PUNCT die_/DET Vögel_/NOUN picken_/VERB zuerst_/ADV das_/DET menschliche_/ADJ Auge_/NOUN aus_/ADP ,_/PUNCT alles_/PRON verflochten_/VERB ,_/PUNCT Krankheit_/NOUN ,_/PUNCT Verdruss_/NOUN ,_/PUNCT Säge_/NOUN des_/DET Laubs_/NOUN ,_/PUNCT mein_/PRON Gaumen_/NOUN krümmt_/VERB sich_/PRON ,_/PUNCT aber_/CCONJ es_/PRON ist_/AUX kein_/DET Schatz_/NOUN zugegen_/ADJ ,_/PUNCT die_/DET Treue_/NOUN ,_/PUNCT Beständigkeit_/NOUN aus_/ADP den_/DET Karten_/NOUN gelesen_/VERB ,_/PUNCT Werktreue_/NOUN ?_/PUNCT rufe_/VERB ich_/PRON ,_/PUNCT Asche_/NOUN sein_/AUX ,_/PUNCT Stativ_/NOUN deiner_/PRON Beine_/NOUN ,_/PUNCT Schläfe_/NOUN mit_/ADP Kappe_/NOUN ,_/PUNCT unter_/ADP der_/DET Zunge_/NOUN ,_/PUNCT unter_/ADP dem_/DET Kinn_/NOUN ,_/PUNCT Oktoberkeule_/NOUN ,_/PUNCT und_/CCONJ dein_/PRON schnarrend_/ADJ schnarrendes_/ADJ Maulhorn_/X /_/X wo_/ADV unsere_/PRON Schatten_/NOUN einander_/PRON entgegen_/ADP sind_/AUX\n",
      "['weil_/SCONJ_/PROPN', 'das_/DET_/PROPN', 'Auge_/NOUN_/PROPN', 'zuerst_/ADV_/PROPN', 'bricht_/VERB_/PROPN', 'der_/DET_/PROPN', 'Körper_/NOUN_/PROPN', 'will_/AUX_/X', 'sich_/PRON_/X', 'ja_/ADV_/X', 'schließen_/VERB_/X', ',_/PUNCT', '_/PUNCT_/PROPN', 'rufst_/ADV_/PROPN', 'du_/PRON_/PROPN', ',_/PUNCT', '_/PUNCT_/PROPN', 'Verdruss_/NOUN_/PROPN', 'und_/CCONJ_/PROPN', 'Krankheit_/NOUN_/PROPN', ',_/PUNCT', '_/PUNCT_/PROPN', 'die_/DET_/PROPN', 'Witwe_/PROPN_/PROPN', ',_/PUNCT', '_/PUNCT_/PROPN', 'Göttin_/PROPN_/PROPN', 'aus_/ADP_/PROPN', 'der_/DET_/PROPN', 'Maschine_/NOUN_/PROPN', ',_/PUNCT', '_/PUNCT_/PROPN', 'die_/PRON_/PROPN', 'grünen_/ADJ_/PROPN', 'Zigeunerkarten_/NOUN_/PROPN', 'Spielkarten_/NOUN_/PROPN', 'plötzlich_/ADJ_/PROPN', 'aus_/ADP_/PROPN', 'der_/DET_/PROPN', 'Tasche_/NOUN_/PROPN', 'gezogen_/VERB_/PROPN', ',_/PUNCT', '_/PUNCT_/PROPN', 'gemischt_/ADJ_/PROPN', 'vermischt_/VERB_/PROPN', ',_/PUNCT', '_/PUNCT_/PROPN', 'dreimal_/ADV_/PROPN', 'abheben!_/PROPN_/X', 'linkshändig!_/X_/X', 'die_/DET_/PROPN', 'Rosalia_/PROPN_/PROPN', 'sichtbar_/ADJ_/PROPN', 'zu_/PART_/PROPN', 'machen_/VERB_/PROPN', '(_/PUNCT', '_/PUNCT_/X', 'bewaldet_/VERB_/X', ')_/PUNCT_/X', '/_/X_/X', 'wir_/PRON_/X', 'essen_/VERB_/PROPN', 'kleine_/ADJ_/PROPN', 'Drachen_/NOUN_/PROPN', ',_/PUNCT', '_/PUNCT_/PROPN', 'den_/DET_/PROPN', 'Mond_/NOUN_/PROPN', ',_/PUNCT', '_/PUNCT_/PROPN', 'das_/DET_/PROPN', 'Land_/NOUN_/PROPN', 'ist_/AUX_/PROPN', 'Löwe_/NOUN_/PROPN', ',_/PUNCT', '_/PUNCT_/PROPN', 'viel_/ADV_/PROPN', 'voll_/ADJ_/PROPN', 'Hitze_/NOUN_/PROPN', ',_/PUNCT', '_/PUNCT_/PROPN', 'Pompeji_/PROPN_/PROPN', ',_/PUNCT', '_/PUNCT_/PROPN', 'Kunstwellen_/NOUN_/PROPN', 'ein_/DET_/PROPN', 'Kälberleib_/NOUN_/PROPN', ',_/PUNCT', '_/PUNCT_/PROPN', 'Bekröter_/NOUN_/PROPN', 'sogar_/ADV_/PROPN', ',_/PUNCT', '_/PUNCT_/PROPN', 'Wahrträume_/NOUN_/PROPN', 'wie_/CCONJ_/PROPN', 'mit_/ADP_/PROPN', 'vielen_/ADJ_/PROPN', 'Augen_/NOUN_/PROPN', 'von_/ADP_/PROPN', 'jeder_/DET_/PROPN', 'Pfütze_/NOUN_/PROPN', 'getrunken_/ADJ_/PROPN', ',_/PUNCT', '_/PUNCT_/PROPN', 'die_/DET_/PROPN', 'Vögel_/NOUN_/PROPN', 'picken_/VERB_/PROPN', 'zuerst_/ADV_/PROPN', 'das_/DET_/PROPN', 'menschliche_/ADJ_/PROPN', 'Auge_/NOUN_/PROPN', 'aus_/ADP_/PROPN', ',_/PUNCT', '_/PUNCT_/PROPN', 'alles_/PRON_/PROPN', 'verflochten_/VERB_/PROPN', ',_/PUNCT', '_/PUNCT_/PROPN', 'Krankheit_/NOUN_/PROPN', ',_/PUNCT', '_/PUNCT_/PROPN', 'Verdruss_/NOUN_/PROPN', ',_/PUNCT', '_/PUNCT_/PROPN', 'Säge_/NOUN_/PROPN', 'des_/DET_/PROPN', 'Laubs_/NOUN_/PROPN', ',_/PUNCT', '_/PUNCT_/PROPN', 'mein_/PRON_/PROPN', 'Gaumen_/NOUN_/PROPN', 'krümmt_/VERB_/PROPN', 'sich_/PRON_/PROPN', ',_/PUNCT', '_/PUNCT_/PROPN', 'aber_/CCONJ_/PROPN', 'es_/PRON_/PROPN', 'ist_/AUX_/PROPN', 'kein_/DET_/PROPN', 'Schatz_/NOUN_/PROPN', 'zugegen_/ADJ_/PROPN', ',_/PUNCT', '_/PUNCT_/PROPN', 'die_/DET_/PROPN', 'Treue_/NOUN_/PROPN', ',_/PUNCT', '_/PUNCT_/PROPN', 'Beständigkeit_/NOUN_/PROPN', 'aus_/ADP_/PROPN', 'den_/DET_/PROPN', 'Karten_/NOUN_/PROPN', 'gelesen_/VERB_/PROPN', ',_/PUNCT', '_/PUNCT_/PROPN', 'Werktreue_/NOUN_/PROPN', '?_/PUNCT_/PROPN', 'rufe_/VERB_/PROPN', 'ich_/PRON_/PROPN', ',_/PUNCT', '_/PUNCT_/PROPN', 'Asche_/NOUN_/PROPN', 'sein_/AUX_/X', ',_/PUNCT', '_/PUNCT_/PROPN', 'Stativ_/NOUN_/PROPN', 'deiner_/PRON_/PROPN', 'Beine_/NOUN_/PROPN', ',_/PUNCT', '_/PUNCT_/PROPN', 'Schläfe_/NOUN_/PROPN', 'mit_/ADP_/PROPN', 'Kappe_/NOUN_/PROPN', ',_/PUNCT', '_/PUNCT_/PROPN', 'unter_/ADP_/PROPN', 'der_/DET_/PROPN', 'Zunge_/NOUN_/PROPN', ',_/PUNCT', '_/PUNCT_/PROPN', 'unter_/ADP_/PROPN', 'dem_/DET_/PROPN', 'Kinn_/NOUN_/PROPN', ',_/PUNCT', '_/PUNCT_/PROPN', 'Oktoberkeule_/NOUN_/PROPN', ',_/PUNCT', '_/PUNCT_/PROPN', 'und_/CCONJ_/X', 'dein_/PRON_/X', 'schnarrend_/ADJ_/X', 'schnarrendes_/ADJ_/X', 'Maulhorn_/X_/X', '/_/X_/X', 'wo_/ADV_/X', 'unsere_/PRON_/X', 'Schatten_/NOUN_/X', 'einander_/PRON_/X', 'entgegen_/ADP_/X', 'sind_/AUX_/X']\n",
      "weil_/SCONJ_/PROPN das_/DET_/PROPN Auge_/NOUN_/PROPN zuerst_/ADV_/PROPN bricht_/VERB_/PROPN der_/DET_/PROPN Körper_/NOUN_/PROPN will_/AUX_/X sich_/PRON_/X ja_/ADV_/X schließen_/VERB_/X ,_/PUNCT _/PUNCT_/PROPN rufst_/ADV_/PROPN du_/PRON_/PROPN ,_/PUNCT _/PUNCT_/PROPN Verdruss_/NOUN_/PROPN und_/CCONJ_/PROPN Krankheit_/NOUN_/PROPN ,_/PUNCT _/PUNCT_/PROPN die_/DET_/PROPN Witwe_/PROPN_/PROPN ,_/PUNCT _/PUNCT_/PROPN Göttin_/PROPN_/PROPN aus_/ADP_/PROPN der_/DET_/PROPN Maschine_/NOUN_/PROPN ,_/PUNCT _/PUNCT_/PROPN die_/PRON_/PROPN grünen_/ADJ_/PROPN Zigeunerkarten_/NOUN_/PROPN Spielkarten_/NOUN_/PROPN plötzlich_/ADJ_/PROPN aus_/ADP_/PROPN der_/DET_/PROPN Tasche_/NOUN_/PROPN gezogen_/VERB_/PROPN ,_/PUNCT _/PUNCT_/PROPN gemischt_/ADJ_/PROPN vermischt_/VERB_/PROPN ,_/PUNCT _/PUNCT_/PROPN dreimal_/ADV_/PROPN abheben!_/PROPN_/X linkshändig!_/X_/X die_/DET_/PROPN Rosalia_/PROPN_/PROPN sichtbar_/ADJ_/PROPN zu_/PART_/PROPN machen_/VERB_/PROPN (_/PUNCT _/PUNCT_/X bewaldet_/VERB_/X )_/PUNCT_/X /_/X_/X wir_/PRON_/X essen_/VERB_/PROPN kleine_/ADJ_/PROPN Drachen_/NOUN_/PROPN ,_/PUNCT _/PUNCT_/PROPN den_/DET_/PROPN Mond_/NOUN_/PROPN ,_/PUNCT _/PUNCT_/PROPN das_/DET_/PROPN Land_/NOUN_/PROPN ist_/AUX_/PROPN Löwe_/NOUN_/PROPN ,_/PUNCT _/PUNCT_/PROPN viel_/ADV_/PROPN voll_/ADJ_/PROPN Hitze_/NOUN_/PROPN ,_/PUNCT _/PUNCT_/PROPN Pompeji_/PROPN_/PROPN ,_/PUNCT _/PUNCT_/PROPN Kunstwellen_/NOUN_/PROPN ein_/DET_/PROPN Kälberleib_/NOUN_/PROPN ,_/PUNCT _/PUNCT_/PROPN Bekröter_/NOUN_/PROPN sogar_/ADV_/PROPN ,_/PUNCT _/PUNCT_/PROPN Wahrträume_/NOUN_/PROPN wie_/CCONJ_/PROPN mit_/ADP_/PROPN vielen_/ADJ_/PROPN Augen_/NOUN_/PROPN von_/ADP_/PROPN jeder_/DET_/PROPN Pfütze_/NOUN_/PROPN getrunken_/ADJ_/PROPN ,_/PUNCT _/PUNCT_/PROPN die_/DET_/PROPN Vögel_/NOUN_/PROPN picken_/VERB_/PROPN zuerst_/ADV_/PROPN das_/DET_/PROPN menschliche_/ADJ_/PROPN Auge_/NOUN_/PROPN aus_/ADP_/PROPN ,_/PUNCT _/PUNCT_/PROPN alles_/PRON_/PROPN verflochten_/VERB_/PROPN ,_/PUNCT _/PUNCT_/PROPN Krankheit_/NOUN_/PROPN ,_/PUNCT _/PUNCT_/PROPN Verdruss_/NOUN_/PROPN ,_/PUNCT _/PUNCT_/PROPN Säge_/NOUN_/PROPN des_/DET_/PROPN Laubs_/NOUN_/PROPN ,_/PUNCT _/PUNCT_/PROPN mein_/PRON_/PROPN Gaumen_/NOUN_/PROPN krümmt_/VERB_/PROPN sich_/PRON_/PROPN ,_/PUNCT _/PUNCT_/PROPN aber_/CCONJ_/PROPN es_/PRON_/PROPN ist_/AUX_/PROPN kein_/DET_/PROPN Schatz_/NOUN_/PROPN zugegen_/ADJ_/PROPN ,_/PUNCT _/PUNCT_/PROPN die_/DET_/PROPN Treue_/NOUN_/PROPN ,_/PUNCT _/PUNCT_/PROPN Beständigkeit_/NOUN_/PROPN aus_/ADP_/PROPN den_/DET_/PROPN Karten_/NOUN_/PROPN gelesen_/VERB_/PROPN ,_/PUNCT _/PUNCT_/PROPN Werktreue_/NOUN_/PROPN ?_/PUNCT_/PROPN rufe_/VERB_/PROPN ich_/PRON_/PROPN ,_/PUNCT _/PUNCT_/PROPN Asche_/NOUN_/PROPN sein_/AUX_/X ,_/PUNCT _/PUNCT_/PROPN Stativ_/NOUN_/PROPN deiner_/PRON_/PROPN Beine_/NOUN_/PROPN ,_/PUNCT _/PUNCT_/PROPN Schläfe_/NOUN_/PROPN mit_/ADP_/PROPN Kappe_/NOUN_/PROPN ,_/PUNCT _/PUNCT_/PROPN unter_/ADP_/PROPN der_/DET_/PROPN Zunge_/NOUN_/PROPN ,_/PUNCT _/PUNCT_/PROPN unter_/ADP_/PROPN dem_/DET_/PROPN Kinn_/NOUN_/PROPN ,_/PUNCT _/PUNCT_/PROPN Oktoberkeule_/NOUN_/PROPN ,_/PUNCT _/PUNCT_/PROPN und_/CCONJ_/X dein_/PRON_/X schnarrend_/ADJ_/X schnarrendes_/ADJ_/X Maulhorn_/X_/X /_/X_/X wo_/ADV_/X unsere_/PRON_/X Schatten_/NOUN_/X einander_/PRON_/X entgegen_/ADP_/X sind_/AUX_/X\n",
      "vielleicht_/ADV weil_/SCONJ das_/DET Auge_/NOUN zuerst_/ADV bricht_/VERB der_/DET Körper_/NOUN will_/AUX sich_/PRON ja_/ADV schließen!_/PROPN rufst_/VERB du_/PRON Verdruss_/NOUN und_/CCONJ Krankheit_/NOUN der_/DET Witwe_/NOUN :_/PUNCT Göttin_/PROPN aus_/ADP der_/DET Maschine_/NOUN ,_/PUNCT die_/PRON grünen_/ADJ Zigeunerkarten_/NOUN plötzlich_/ADJ aus_/ADP der_/DET Tasche_/NOUN gezogen_/ADJ vermischt_/VERB ,_/PUNCT dreimal_/ADV abheben!_/PROPN linkshändig!_/X die_/DET Rosalia_/PROPN sichtbar_/ADJ zu_/PART machen_/VERB (_/PUNCT bewaldet_/VERB )_/PUNCT ,_/PUNCT wir_/PRON essen_/VERB kleine_/ADJ Drachen_/NOUN den_/DET Mond_/NOUN ,_/PUNCT das_/DET Land_/NOUN ist_/AUX Löwe_/NOUN viel_/ADJ Hitze_/NOUN Pompeji_/PROPN Kunstwellen_/ADJ Kälberleib_/NOUN Bekröter_/PROPN sogar_/ADV :_/PUNCT Wahrträume_/NOUN -_/PUNCT wie_/CCONJ mit_/ADP vielen_/ADJ Augen_/NOUN aus_/ADP jeder_/DET Pfütze_/NOUN getrunken_/VERB ,_/PUNCT die_/PRON Vögel_/NOUN picken_/VERB das_/DET menschliche_/ADJ Auge_/NOUN zuerst_/ADV aus_/ADP ,_/PUNCT alles_/DET verflochten_/ADJ Krankheit_/NOUN Verdruss_/PROPN Säge_/NOUN des_/DET Laubs_/NOUN ,_/PUNCT mein_/PRON Gaumen_/NOUN krümmt_/VERB sich_/PRON aber_/ADV es_/PRON ist_/AUX kein_/DET Schatz_/NOUN zugegen_/ADJ ,_/PUNCT die_/DET Treue_/NOUN Beständigkeit_/NOUN aus_/ADP den_/DET Karten_/NOUN gelesen_/VERB ,_/PUNCT Werktreue_/NOUN ?_/PUNCT rufe_/VERB ich_/PRON ,_/PUNCT Asche_/NOUN werden_/AUX ,_/PUNCT Stativ_/NOUN deiner_/PRON Beine_/NOUN ,_/PUNCT Schläfe_/NOUN mit_/ADP Kappe_/NOUN ,_/PUNCT Oktoberkeule_/NOUN dein_/DET schnarrendes_/ADJ Maulhorn_/NOUN ach_/ADV wo_/ADV unsere_/PRON Schatten_/NOUN einander_/PRON entgegen_/ADP sind_/AUX -_/PUNCT\n",
      "['vielleicht_/ADV_/PROPN', 'weil_/SCONJ_/PROPN', 'das_/DET_/PROPN', 'Auge_/NOUN_/PROPN', 'zuerst_/ADV_/PROPN', 'bricht_/VERB_/PROPN', 'der_/DET_/PROPN', 'Körper_/NOUN_/PROPN', 'will_/AUX_/X', 'sich_/PRON_/X', 'ja_/ADV_/X', 'schließen!_/PROPN_/X', 'rufst_/VERB_/X', 'du_/PRON_/X', 'Verdruss_/NOUN_/X', 'und_/CCONJ_/X', 'Krankheit_/NOUN_/PROPN', 'der_/DET_/PROPN', 'Witwe_/NOUN_/PROPN', ':_/PUNCT_/PROPN', 'Göttin_/PROPN_/PROPN', 'aus_/ADP_/PROPN', 'der_/DET_/PROPN', 'Maschine_/NOUN_/PROPN', ',_/PUNCT', '_/PUNCT_/PROPN', 'die_/PRON_/PROPN', 'grünen_/ADJ_/PROPN', 'Zigeunerkarten_/NOUN_/PROPN', 'plötzlich_/ADJ_/PROPN', 'aus_/ADP_/PROPN', 'der_/DET_/PROPN', 'Tasche_/NOUN_/PROPN', 'gezogen_/ADJ_/PROPN', 'vermischt_/VERB_/PROPN', ',_/PUNCT', '_/PUNCT_/PROPN', 'dreimal_/ADV_/PROPN', 'abheben!_/PROPN_/X', 'linkshändig!_/X_/X', 'die_/DET_/PROPN', 'Rosalia_/PROPN_/PROPN', 'sichtbar_/ADJ_/PROPN', 'zu_/PART_/PROPN', 'machen_/VERB_/PROPN', '(_/PUNCT', '_/PUNCT_/PROPN', 'bewaldet_/VERB_/PROPN', ')_/PUNCT_/PROPN', ',_/PUNCT', '_/PUNCT_/PROPN', 'wir_/PRON_/PROPN', 'essen_/VERB_/PROPN', 'kleine_/ADJ_/PROPN', 'Drachen_/NOUN_/PROPN', 'den_/DET_/PROPN', 'Mond_/NOUN_/PROPN', ',_/PUNCT', '_/PUNCT_/PROPN', 'das_/DET_/PROPN', 'Land_/NOUN_/PROPN', 'ist_/AUX_/X', 'Löwe_/NOUN_/X', 'viel_/ADJ_/X', 'Hitze_/NOUN_/X', 'Pompeji_/PROPN_/X', 'Kunstwellen_/ADJ_/X', 'Kälberleib_/NOUN_/X', 'Bekröter_/PROPN_/X', 'sogar_/ADV_/X', ':_/PUNCT_/X', 'Wahrträume_/NOUN_/X', '-_/PUNCT', '_/PUNCT_/X', 'wie_/CCONJ_/X', 'mit_/ADP_/X', 'vielen_/ADJ_/X', 'Augen_/NOUN_/X', 'aus_/ADP_/X', 'jeder_/DET_/PROPN', 'Pfütze_/NOUN_/PROPN', 'getrunken_/VERB_/PROPN', ',_/PUNCT', '_/PUNCT_/PROPN', 'die_/PRON_/PROPN', 'Vögel_/NOUN_/PROPN', 'picken_/VERB_/PROPN', 'das_/DET_/PROPN', 'menschliche_/ADJ_/PROPN', 'Auge_/NOUN_/PROPN', 'zuerst_/ADV_/PROPN', 'aus_/ADP_/PROPN', ',_/PUNCT', '_/PUNCT_/PROPN', 'alles_/DET_/PROPN', 'verflochten_/ADJ_/PROPN', 'Krankheit_/NOUN_/PROPN', 'Verdruss_/PROPN_/PROPN', 'Säge_/NOUN_/PROPN', 'des_/DET_/PROPN', 'Laubs_/NOUN_/PROPN', ',_/PUNCT', '_/PUNCT_/PROPN', 'mein_/PRON_/PROPN', 'Gaumen_/NOUN_/PROPN', 'krümmt_/VERB_/PROPN', 'sich_/PRON_/PROPN', 'aber_/ADV_/PROPN', 'es_/PRON_/PROPN', 'ist_/AUX_/PROPN', 'kein_/DET_/PROPN', 'Schatz_/NOUN_/PROPN', 'zugegen_/ADJ_/PROPN', ',_/PUNCT', '_/PUNCT_/PROPN', 'die_/DET_/PROPN', 'Treue_/NOUN_/PROPN', 'Beständigkeit_/NOUN_/PROPN', 'aus_/ADP_/PROPN', 'den_/DET_/PROPN', 'Karten_/NOUN_/PROPN', 'gelesen_/VERB_/PROPN', ',_/PUNCT', '_/PUNCT_/PROPN', 'Werktreue_/NOUN_/PROPN', '?_/PUNCT_/PROPN', 'rufe_/VERB_/PROPN', 'ich_/PRON_/PROPN', ',_/PUNCT', '_/PUNCT_/PROPN', 'Asche_/NOUN_/PROPN', 'werden_/AUX_/X', ',_/PUNCT', '_/PUNCT_/PROPN', 'Stativ_/NOUN_/PROPN', 'deiner_/PRON_/PROPN', 'Beine_/NOUN_/PROPN', ',_/PUNCT', '_/PUNCT_/PROPN', 'Schläfe_/NOUN_/PROPN', 'mit_/ADP_/PROPN', 'Kappe_/NOUN_/PROPN', ',_/PUNCT', '_/PUNCT_/PROPN', 'Oktoberkeule_/NOUN_/PROPN', 'dein_/DET_/PROPN', 'schnarrendes_/ADJ_/PROPN', 'Maulhorn_/NOUN_/PROPN', 'ach_/ADV_/X', 'wo_/ADV_/X', 'unsere_/PRON_/X', 'Schatten_/NOUN_/X', 'einander_/PRON_/X', 'entgegen_/ADP_/X', 'sind_/AUX_/X', '-_/PUNCT_/PROPN']\n",
      "vielleicht_/ADV_/PROPN weil_/SCONJ_/PROPN das_/DET_/PROPN Auge_/NOUN_/PROPN zuerst_/ADV_/PROPN bricht_/VERB_/PROPN der_/DET_/PROPN Körper_/NOUN_/PROPN will_/AUX_/X sich_/PRON_/X ja_/ADV_/X schließen!_/PROPN_/X rufst_/VERB_/X du_/PRON_/X Verdruss_/NOUN_/X und_/CCONJ_/X Krankheit_/NOUN_/PROPN der_/DET_/PROPN Witwe_/NOUN_/PROPN :_/PUNCT_/PROPN Göttin_/PROPN_/PROPN aus_/ADP_/PROPN der_/DET_/PROPN Maschine_/NOUN_/PROPN ,_/PUNCT _/PUNCT_/PROPN die_/PRON_/PROPN grünen_/ADJ_/PROPN Zigeunerkarten_/NOUN_/PROPN plötzlich_/ADJ_/PROPN aus_/ADP_/PROPN der_/DET_/PROPN Tasche_/NOUN_/PROPN gezogen_/ADJ_/PROPN vermischt_/VERB_/PROPN ,_/PUNCT _/PUNCT_/PROPN dreimal_/ADV_/PROPN abheben!_/PROPN_/X linkshändig!_/X_/X die_/DET_/PROPN Rosalia_/PROPN_/PROPN sichtbar_/ADJ_/PROPN zu_/PART_/PROPN machen_/VERB_/PROPN (_/PUNCT _/PUNCT_/PROPN bewaldet_/VERB_/PROPN )_/PUNCT_/PROPN ,_/PUNCT _/PUNCT_/PROPN wir_/PRON_/PROPN essen_/VERB_/PROPN kleine_/ADJ_/PROPN Drachen_/NOUN_/PROPN den_/DET_/PROPN Mond_/NOUN_/PROPN ,_/PUNCT _/PUNCT_/PROPN das_/DET_/PROPN Land_/NOUN_/PROPN ist_/AUX_/X Löwe_/NOUN_/X viel_/ADJ_/X Hitze_/NOUN_/X Pompeji_/PROPN_/X Kunstwellen_/ADJ_/X Kälberleib_/NOUN_/X Bekröter_/PROPN_/X sogar_/ADV_/X :_/PUNCT_/X Wahrträume_/NOUN_/X -_/PUNCT _/PUNCT_/X wie_/CCONJ_/X mit_/ADP_/X vielen_/ADJ_/X Augen_/NOUN_/X aus_/ADP_/X jeder_/DET_/PROPN Pfütze_/NOUN_/PROPN getrunken_/VERB_/PROPN ,_/PUNCT _/PUNCT_/PROPN die_/PRON_/PROPN Vögel_/NOUN_/PROPN picken_/VERB_/PROPN das_/DET_/PROPN menschliche_/ADJ_/PROPN Auge_/NOUN_/PROPN zuerst_/ADV_/PROPN aus_/ADP_/PROPN ,_/PUNCT _/PUNCT_/PROPN alles_/DET_/PROPN verflochten_/ADJ_/PROPN Krankheit_/NOUN_/PROPN Verdruss_/PROPN_/PROPN Säge_/NOUN_/PROPN des_/DET_/PROPN Laubs_/NOUN_/PROPN ,_/PUNCT _/PUNCT_/PROPN mein_/PRON_/PROPN Gaumen_/NOUN_/PROPN krümmt_/VERB_/PROPN sich_/PRON_/PROPN aber_/ADV_/PROPN es_/PRON_/PROPN ist_/AUX_/PROPN kein_/DET_/PROPN Schatz_/NOUN_/PROPN zugegen_/ADJ_/PROPN ,_/PUNCT _/PUNCT_/PROPN die_/DET_/PROPN Treue_/NOUN_/PROPN Beständigkeit_/NOUN_/PROPN aus_/ADP_/PROPN den_/DET_/PROPN Karten_/NOUN_/PROPN gelesen_/VERB_/PROPN ,_/PUNCT _/PUNCT_/PROPN Werktreue_/NOUN_/PROPN ?_/PUNCT_/PROPN rufe_/VERB_/PROPN ich_/PRON_/PROPN ,_/PUNCT _/PUNCT_/PROPN Asche_/NOUN_/PROPN werden_/AUX_/X ,_/PUNCT _/PUNCT_/PROPN Stativ_/NOUN_/PROPN deiner_/PRON_/PROPN Beine_/NOUN_/PROPN ,_/PUNCT _/PUNCT_/PROPN Schläfe_/NOUN_/PROPN mit_/ADP_/PROPN Kappe_/NOUN_/PROPN ,_/PUNCT _/PUNCT_/PROPN Oktoberkeule_/NOUN_/PROPN dein_/DET_/PROPN schnarrendes_/ADJ_/PROPN Maulhorn_/NOUN_/PROPN ach_/ADV_/X wo_/ADV_/X unsere_/PRON_/X Schatten_/NOUN_/X einander_/PRON_/X entgegen_/ADP_/X sind_/AUX_/X -_/PUNCT_/PROPN\n"
     ]
    }
   ],
   "source": [
    "for lg in linegroups: \n",
    "    for line in lg:\n",
    "        if line is not None and line.text:\n",
    "            line_text = line.text\n",
    "            line_text.replace(\"\\n\", \"\").replace(\"\\r\", \"\")\n",
    "            line_text = \" \".join(line_text.strip().split())\n",
    "            print(line_text)\n",
    "            doc = nlp(line_text)\n",
    "            \n",
    "        #    line.clear()\n",
    "         #   print(line.text)\n",
    "            \n",
    "            new_line_text = []\n",
    "            for token in doc:\n",
    "                new_token = f\"{token.text}_/{token.pos_}\"\n",
    "                new_line_text.append(new_token)\n",
    "            \n",
    "            print(new_line_text)        \n",
    "            newlinetext = \" \".join(new_line_text)\n",
    "            print(newlinetext)\n",
    "    line.text = newlinetext\n",
    "    \n",
    "tree.write(\"output_pos_vwdazb_udp_de.xml\", encoding=\"utf-8\", xml_declaration=True)"
   ]
  },
  {
   "cell_type": "markdown",
   "id": "7884dee3-8761-4d56-9f1b-3938ac42fe48",
   "metadata": {},
   "source": [
    "##### als Tabelle speichern"
   ]
  },
  {
   "cell_type": "code",
   "execution_count": 22,
   "id": "6fa0f0a9",
   "metadata": {},
   "outputs": [
    {
     "data": {
      "text/html": [
       "<div>\n",
       "<style scoped>\n",
       "    .dataframe tbody tr th:only-of-type {\n",
       "        vertical-align: middle;\n",
       "    }\n",
       "\n",
       "    .dataframe tbody tr th {\n",
       "        vertical-align: top;\n",
       "    }\n",
       "\n",
       "    .dataframe thead th {\n",
       "        text-align: right;\n",
       "    }\n",
       "</style>\n",
       "<table border=\"1\" class=\"dataframe\">\n",
       "  <thead>\n",
       "    <tr style=\"text-align: right;\">\n",
       "      <th></th>\n",
       "      <th>text</th>\n",
       "      <th>pos</th>\n",
       "    </tr>\n",
       "  </thead>\n",
       "  <tbody>\n",
       "    <tr>\n",
       "      <th>0</th>\n",
       "      <td>der</td>\n",
       "      <td>DET</td>\n",
       "    </tr>\n",
       "    <tr>\n",
       "      <th>1</th>\n",
       "      <td>Körper</td>\n",
       "      <td>NOUN</td>\n",
       "    </tr>\n",
       "    <tr>\n",
       "      <th>2</th>\n",
       "      <td>will</td>\n",
       "      <td>AUX</td>\n",
       "    </tr>\n",
       "    <tr>\n",
       "      <th>3</th>\n",
       "      <td>sich</td>\n",
       "      <td>PRON</td>\n",
       "    </tr>\n",
       "    <tr>\n",
       "      <th>4</th>\n",
       "      <td>ja</td>\n",
       "      <td>ADV</td>\n",
       "    </tr>\n",
       "    <tr>\n",
       "      <th>5</th>\n",
       "      <td>schließen</td>\n",
       "      <td>VERB</td>\n",
       "    </tr>\n",
       "    <tr>\n",
       "      <th>6</th>\n",
       "      <td>,</td>\n",
       "      <td>PUNCT</td>\n",
       "    </tr>\n",
       "    <tr>\n",
       "      <th>7</th>\n",
       "      <td>rufst</td>\n",
       "      <td>ADV</td>\n",
       "    </tr>\n",
       "    <tr>\n",
       "      <th>8</th>\n",
       "      <td>du</td>\n",
       "      <td>PRON</td>\n",
       "    </tr>\n",
       "    <tr>\n",
       "      <th>9</th>\n",
       "      <td>,</td>\n",
       "      <td>PUNCT</td>\n",
       "    </tr>\n",
       "  </tbody>\n",
       "</table>\n",
       "</div>"
      ],
      "text/plain": [
       "        text    pos\n",
       "0        der    DET\n",
       "1     Körper   NOUN\n",
       "2       will    AUX\n",
       "3       sich   PRON\n",
       "4         ja    ADV\n",
       "5  schließen   VERB\n",
       "6          ,  PUNCT\n",
       "7      rufst    ADV\n",
       "8         du   PRON\n",
       "9          ,  PUNCT"
      ]
     },
     "execution_count": 22,
     "metadata": {},
     "output_type": "execute_result"
    }
   ],
   "source": [
    "tree = etree.parse(\"C:/Users/jO/Desktop/DH_MA_Arbeit/coding/transkribiert_ohne-unclear-_vielleichtweil.xml\")\n",
    "linegroups = tree.xpath(\"//tei:lg\", namespaces={\"tei\": \"http://www.tei-c.org/ns/1.0\"})\n",
    "pos_info = []\n",
    "for lg in linegroups: \n",
    "    for line in lg:\n",
    "        if line is not None and line.text:\n",
    "            line_text = line.text\n",
    "            line_text.replace(\"\\n\", \"\").replace(\"\\r\", \"\")\n",
    "            line_text = \" \".join(line_text.strip().split())\n",
    "        #    print(line_text)\n",
    "            doc = nlp(line_text)\n",
    "            for token in doc:\n",
    "                pos_info.append({\n",
    "                    'text': token.text,\n",
    "                    'pos': token.pos_})\n",
    "\n",
    "\n",
    "pos_info_df = pd.DataFrame(pos_info)\n",
    "pos_info_df.to_csv('pos_info_vwdazb_udp_de.csv', index=False)\n",
    "pos_info_df.head(10)"
   ]
  },
  {
   "cell_type": "code",
   "execution_count": null,
   "id": "7cb0c307-05f5-41d4-83e7-84291d324edd",
   "metadata": {},
   "outputs": [],
   "source": []
  },
  {
   "cell_type": "code",
   "execution_count": null,
   "id": "72634cf6-6ae1-4a41-9c28-30cd0e5581c0",
   "metadata": {},
   "outputs": [],
   "source": []
  },
  {
   "cell_type": "code",
   "execution_count": null,
   "id": "ea8248cf",
   "metadata": {},
   "outputs": [],
   "source": []
  },
  {
   "cell_type": "markdown",
   "id": "a7dc4ba6-717b-4b4f-9350-2c7bf315d42b",
   "metadata": {},
   "source": [
    "##### mit \"de-hdt\""
   ]
  },
  {
   "cell_type": "code",
   "execution_count": 17,
   "id": "cc13638d-96c9-4b49-ad12-fc6ad86e8c34",
   "metadata": {},
   "outputs": [
    {
     "name": "stdout",
     "output_type": "stream",
     "text": [
      "Already downloaded a model for the 'de-hdt' language\n"
     ]
    }
   ],
   "source": [
    "#spacy_udpipe.download(\"de-hdt\")"
   ]
  },
  {
   "cell_type": "code",
   "execution_count": 18,
   "id": "99b8f400",
   "metadata": {},
   "outputs": [],
   "source": [
    "nlp = spacy_udpipe.load(\"de-hdt\")"
   ]
  },
  {
   "cell_type": "code",
   "execution_count": 19,
   "id": "6ddeda1f",
   "metadata": {},
   "outputs": [],
   "source": [
    "tree = etree.parse(\"C:/Users/jO/Desktop/DH_MA_Arbeit/coding/transkribiert_ohne-unclear-_vielleichtweil.xml\")\n",
    "linegroups = tree.xpath(\"//tei:lg\", namespaces={\"tei\": \"http://www.tei-c.org/ns/1.0\"})"
   ]
  },
  {
   "cell_type": "code",
   "execution_count": 23,
   "id": "6d35192d-f249-4dbd-aa49-6f471ad08344",
   "metadata": {
    "scrolled": true
   },
   "outputs": [
    {
     "name": "stdout",
     "output_type": "stream",
     "text": [
      "der Körper will sich ja schließen, rufst du, Verdruss und Krankheit als Göttin aus der Maschine (die Zigeunerspielkarten in der Brust, auf die Finger mit der linken Hand 3 mal geteilt Westentasche, ( oder als müssten wir erinnert werden dass wir nicht Götter sondern Menschen sind, die es nötig haben, die ihre Gedanken durch die Feder sichtbar zu machen,) die Rosalia sichtbar zu machen,) die Rosalia, bewaldet, wir essen kleine Drachen, den Mond, Asche sein, das Land ist Löwe, und viel Hitze, Pompeji ist verbrannt, nur Kälberleib, Bekröter sogar, Asche sein, jede Pfütze getrunken, (der Dürer) und Überschwemmungen, aus den aufgeschlagenen Karten, Treue, Beständigkeit, schnarrendes Maulhorn, Werktreue, rufe ich, gelesen, Säge des Laubs, Verdruss + Krankheit alles verflochten, aber es ist kein Schatz zugegen mein Gaumen krümmt sich, nämlich das Stativ deiner Beine (deiner Beine) plötzlich eingerastet, eingerastet, unter dem Kinn gelegen, unter der Zunge, verkappte Schläfe (mit Kappe) Oktoberkeule\n",
      "['der_/DET', 'Körper_/NOUN', 'will_/AUX', 'sich_/PRON', 'ja_/ADV', 'schließen_/VERB', ',_/PUNCT', 'rufst_/ADV', 'du_/PRON', ',_/PUNCT', 'Verdruss_/NOUN', 'und_/CCONJ', 'Krankheit_/NOUN', 'als_/CCONJ', 'Göttin_/PROPN', 'aus_/ADP', 'der_/DET', 'Maschine_/NOUN', '(_/PUNCT', 'die_/DET', 'Zigeunerspielkarten_/NOUN', 'in_/ADP', 'der_/DET', 'Brust_/NOUN', ',_/PUNCT', 'auf_/ADP', 'die_/DET', 'Finger_/NOUN', 'mit_/ADP', 'der_/DET', 'linken_/ADJ', 'Hand_/NOUN', '3_/NUM', 'mal_/ADV', 'geteilt_/ADJ', 'Westentasche_/NOUN', ',_/PUNCT', '(_/PUNCT', 'oder_/CCONJ', 'als_/CCONJ', 'müssten_/AUX', 'wir_/PRON', 'erinnert_/VERB', 'werden_/AUX', 'dass_/SCONJ', 'wir_/PRON', 'nicht_/PART', 'Götter_/NOUN', 'sondern_/CCONJ', 'Menschen_/NOUN', 'sind_/AUX', ',_/PUNCT', 'die_/PRON', 'es_/PRON', 'nötig_/ADJ', 'haben_/AUX', ',_/PUNCT', 'die_/PRON', 'ihre_/PRON', 'Gedanken_/NOUN', 'durch_/ADP', 'die_/DET', 'Feder_/NOUN', 'sichtbar_/ADJ', 'zu_/PART', 'machen_/VERB', ',_/PUNCT', ')_/PUNCT', 'die_/DET', 'Rosalia_/PROPN', 'sichtbar_/ADJ', 'zu_/PART', 'machen_/VERB', ',_/PUNCT', ')_/PUNCT', 'die_/DET', 'Rosalia_/PROPN', ',_/PUNCT', 'bewaldet_/VERB', ',_/PUNCT', 'wir_/PRON', 'essen_/VERB', 'kleine_/ADJ', 'Drachen_/NOUN', ',_/PUNCT', 'den_/DET', 'Mond_/NOUN', ',_/PUNCT', 'Asche_/NOUN', 'sein_/AUX', ',_/PUNCT', 'das_/DET', 'Land_/NOUN', 'ist_/AUX', 'Löwe_/NOUN', ',_/PUNCT', 'und_/CCONJ', 'viel_/ADJ', 'Hitze_/NOUN', ',_/PUNCT', 'Pompeji_/PROPN', 'ist_/AUX', 'verbrannt_/ADJ', ',_/PUNCT', 'nur_/ADV', 'Kälberleib_/PROPN', ',_/PUNCT', 'Bekröter_/PROPN', 'sogar_/ADV', ',_/PUNCT', 'Asche_/NOUN', 'sein_/AUX', ',_/PUNCT', 'jede_/DET', 'Pfütze_/NOUN', 'getrunken_/ADJ', ',_/PUNCT', '(_/PUNCT', 'der_/DET', 'Dürer_/NOUN', ')_/PUNCT', 'und_/CCONJ', 'Überschwemmungen_/NOUN', ',_/PUNCT', 'aus_/ADP', 'den_/DET', 'aufgeschlagenen_/ADJ', 'Karten_/NOUN', ',_/PUNCT', 'Treue_/NOUN', ',_/PUNCT', 'Beständigkeit_/NOUN', ',_/PUNCT', 'schnarrendes_/ADJ', 'Maulhorn_/NOUN', ',_/PUNCT', 'Werktreue_/NOUN', ',_/PUNCT', 'rufe_/VERB', 'ich_/PRON', ',_/PUNCT', 'gelesen_/VERB', ',_/PUNCT', 'Säge_/NOUN', 'des_/DET', 'Laubs_/NOUN', ',_/PUNCT', 'Verdruss_/NOUN', '+_/CCONJ', 'Krankheit_/NOUN', 'alles_/PRON', 'verflochten_/VERB', ',_/PUNCT', 'aber_/CCONJ', 'es_/PRON', 'ist_/AUX', 'kein_/DET', 'Schatz_/NOUN', 'zugegen_/ADJ', 'mein_/PRON', 'Gaumen_/NOUN', 'krümmt_/VERB', 'sich_/PRON', ',_/PUNCT', 'nämlich_/ADV', 'das_/DET', 'Stativ_/NOUN', 'deiner_/PRON', 'Beine_/NOUN', '(_/PUNCT', 'deiner_/PRON', 'Beine_/NOUN', ')_/PUNCT', 'plötzlich_/ADJ', 'eingerastet_/ADJ', ',_/PUNCT', 'eingerastet_/ADJ', ',_/PUNCT', 'unter_/ADP', 'dem_/DET', 'Kinn_/NOUN', 'gelegen_/VERB', ',_/PUNCT', 'unter_/ADP', 'der_/DET', 'Zunge_/NOUN', ',_/PUNCT', 'verkappte_/ADJ', 'Schläfe_/NOUN', '(_/PUNCT', 'mit_/ADP', 'Kappe_/NOUN', ')_/PUNCT', 'Oktoberkeule_/NOUN']\n",
      "der_/DET Körper_/NOUN will_/AUX sich_/PRON ja_/ADV schließen_/VERB ,_/PUNCT rufst_/ADV du_/PRON ,_/PUNCT Verdruss_/NOUN und_/CCONJ Krankheit_/NOUN als_/CCONJ Göttin_/PROPN aus_/ADP der_/DET Maschine_/NOUN (_/PUNCT die_/DET Zigeunerspielkarten_/NOUN in_/ADP der_/DET Brust_/NOUN ,_/PUNCT auf_/ADP die_/DET Finger_/NOUN mit_/ADP der_/DET linken_/ADJ Hand_/NOUN 3_/NUM mal_/ADV geteilt_/ADJ Westentasche_/NOUN ,_/PUNCT (_/PUNCT oder_/CCONJ als_/CCONJ müssten_/AUX wir_/PRON erinnert_/VERB werden_/AUX dass_/SCONJ wir_/PRON nicht_/PART Götter_/NOUN sondern_/CCONJ Menschen_/NOUN sind_/AUX ,_/PUNCT die_/PRON es_/PRON nötig_/ADJ haben_/AUX ,_/PUNCT die_/PRON ihre_/PRON Gedanken_/NOUN durch_/ADP die_/DET Feder_/NOUN sichtbar_/ADJ zu_/PART machen_/VERB ,_/PUNCT )_/PUNCT die_/DET Rosalia_/PROPN sichtbar_/ADJ zu_/PART machen_/VERB ,_/PUNCT )_/PUNCT die_/DET Rosalia_/PROPN ,_/PUNCT bewaldet_/VERB ,_/PUNCT wir_/PRON essen_/VERB kleine_/ADJ Drachen_/NOUN ,_/PUNCT den_/DET Mond_/NOUN ,_/PUNCT Asche_/NOUN sein_/AUX ,_/PUNCT das_/DET Land_/NOUN ist_/AUX Löwe_/NOUN ,_/PUNCT und_/CCONJ viel_/ADJ Hitze_/NOUN ,_/PUNCT Pompeji_/PROPN ist_/AUX verbrannt_/ADJ ,_/PUNCT nur_/ADV Kälberleib_/PROPN ,_/PUNCT Bekröter_/PROPN sogar_/ADV ,_/PUNCT Asche_/NOUN sein_/AUX ,_/PUNCT jede_/DET Pfütze_/NOUN getrunken_/ADJ ,_/PUNCT (_/PUNCT der_/DET Dürer_/NOUN )_/PUNCT und_/CCONJ Überschwemmungen_/NOUN ,_/PUNCT aus_/ADP den_/DET aufgeschlagenen_/ADJ Karten_/NOUN ,_/PUNCT Treue_/NOUN ,_/PUNCT Beständigkeit_/NOUN ,_/PUNCT schnarrendes_/ADJ Maulhorn_/NOUN ,_/PUNCT Werktreue_/NOUN ,_/PUNCT rufe_/VERB ich_/PRON ,_/PUNCT gelesen_/VERB ,_/PUNCT Säge_/NOUN des_/DET Laubs_/NOUN ,_/PUNCT Verdruss_/NOUN +_/CCONJ Krankheit_/NOUN alles_/PRON verflochten_/VERB ,_/PUNCT aber_/CCONJ es_/PRON ist_/AUX kein_/DET Schatz_/NOUN zugegen_/ADJ mein_/PRON Gaumen_/NOUN krümmt_/VERB sich_/PRON ,_/PUNCT nämlich_/ADV das_/DET Stativ_/NOUN deiner_/PRON Beine_/NOUN (_/PUNCT deiner_/PRON Beine_/NOUN )_/PUNCT plötzlich_/ADJ eingerastet_/ADJ ,_/PUNCT eingerastet_/ADJ ,_/PUNCT unter_/ADP dem_/DET Kinn_/NOUN gelegen_/VERB ,_/PUNCT unter_/ADP der_/DET Zunge_/NOUN ,_/PUNCT verkappte_/ADJ Schläfe_/NOUN (_/PUNCT mit_/ADP Kappe_/NOUN )_/PUNCT Oktoberkeule_/NOUN\n",
      "Werktreue! der Körper will sich ja schließen rufst du, Verdruss und Krankheit, die Witwe, als Göttin aus der Maschine, die Zigeunerspielkarten aus in der Brusttasche, dreimal geteilt, mit der Linken linken Hand, die Rosalia sichtbar zu machen, bewaldet, wir essen kleine Drachen, den Mond, das Land ist Löwe, viel Hitze, Pompeji, (ist verbrannt), nur Kälberleib, Bekröter sogar, von jeder jede Pfütze getrunken, ( der Dürer ) (und Überschwemmungen), aus den aufgeschlagenen Karten Beständigkeit, Treue, gelesen, schnarrendes Maulhorn, Werktreue, !, rufe ich, Krankheit Verdruss, alles verflochten, aber es ist kein Schatz zugegen, mein Gaumen krümmt sich, das Stativ deiner seiner Beine eingerastet, verkappte Schläfe, mit Kappe, Oktoberkeule - das Stativ deiner Beine eingerastet\n",
      "['Werktreue!_/PROPN', 'der_/DET', 'Körper_/NOUN', 'will_/AUX', 'sich_/PRON', 'ja_/ADV', 'schließen_/VERB', 'rufst_/ADV', 'du_/PRON', ',_/PUNCT', 'Verdruss_/NOUN', 'und_/CCONJ', 'Krankheit_/NOUN', ',_/PUNCT', 'die_/DET', 'Witwe_/NOUN', ',_/PUNCT', 'als_/CCONJ', 'Göttin_/NOUN', 'aus_/ADP', 'der_/DET', 'Maschine_/NOUN', ',_/PUNCT', 'die_/DET', 'Zigeunerspielkarten_/NOUN', 'aus_/ADP', 'in_/ADP', 'der_/DET', 'Brusttasche_/NOUN', ',_/PUNCT', 'dreimal_/ADV', 'geteilt_/VERB', ',_/PUNCT', 'mit_/ADP', 'der_/PRON', 'Linken_/NOUN', 'linken_/VERB', 'Hand_/NOUN', ',_/PUNCT', 'die_/PRON', 'Rosalia_/PROPN', 'sichtbar_/ADJ', 'zu_/PART', 'machen_/VERB', ',_/PUNCT', 'bewaldet_/VERB', ',_/PUNCT', 'wir_/PRON', 'essen_/VERB', 'kleine_/ADJ', 'Drachen_/NOUN', ',_/PUNCT', 'den_/DET', 'Mond_/NOUN', ',_/PUNCT', 'das_/DET', 'Land_/NOUN', 'ist_/AUX', 'Löwe_/NOUN', ',_/PUNCT', 'viel_/ADJ', 'Hitze_/NOUN', ',_/PUNCT', 'Pompeji_/PROPN', ',_/PUNCT', '(_/PUNCT', 'ist_/AUX', 'verbrannt_/ADJ', ')_/PUNCT', ',_/PUNCT', 'nur_/ADV', 'Kälberleib_/PROPN', ',_/PUNCT', 'Bekröter_/PROPN', 'sogar_/ADV', ',_/PUNCT', 'von_/ADP', 'jeder_/PRON', 'jede_/DET', 'Pfütze_/NOUN', 'getrunken_/ADJ', ',_/PUNCT', '(_/PUNCT', 'der_/DET', 'Dürer_/NOUN', ')_/PUNCT', '(_/PUNCT', 'und_/CCONJ', 'Überschwemmungen_/NOUN', ')_/PUNCT', ',_/PUNCT', 'aus_/ADP', 'den_/DET', 'aufgeschlagenen_/ADJ', 'Karten_/NOUN', 'Beständigkeit_/NOUN', ',_/PUNCT', 'Treue_/NOUN', ',_/PUNCT', 'gelesen_/VERB', ',_/PUNCT', 'schnarrendes_/ADJ', 'Maulhorn_/NOUN', ',_/PUNCT', 'Werktreue_/NOUN', ',_/PUNCT', '!_/PUNCT', ',_/PUNCT', 'rufe_/VERB', 'ich_/PRON', ',_/PUNCT', 'Krankheit_/NOUN', 'Verdruss_/NOUN', ',_/PUNCT', 'alles_/PRON', 'verflochten_/VERB', ',_/PUNCT', 'aber_/CCONJ', 'es_/PRON', 'ist_/AUX', 'kein_/DET', 'Schatz_/NOUN', 'zugegen_/ADJ', ',_/PUNCT', 'mein_/PRON', 'Gaumen_/NOUN', 'krümmt_/VERB', 'sich_/PRON', ',_/PUNCT', 'das_/DET', 'Stativ_/NOUN', 'deiner_/PRON', 'seiner_/PRON', 'Beine_/NOUN', 'eingerastet_/ADJ', ',_/PUNCT', 'verkappte_/ADJ', 'Schläfe_/NOUN', ',_/PUNCT', 'mit_/ADP', 'Kappe_/NOUN', ',_/PUNCT', 'Oktoberkeule_/NOUN', '-_/PUNCT', 'das_/DET', 'Stativ_/NOUN', 'deiner_/PRON', 'Beine_/NOUN', 'eingerastet_/VERB']\n",
      "Werktreue!_/PROPN der_/DET Körper_/NOUN will_/AUX sich_/PRON ja_/ADV schließen_/VERB rufst_/ADV du_/PRON ,_/PUNCT Verdruss_/NOUN und_/CCONJ Krankheit_/NOUN ,_/PUNCT die_/DET Witwe_/NOUN ,_/PUNCT als_/CCONJ Göttin_/NOUN aus_/ADP der_/DET Maschine_/NOUN ,_/PUNCT die_/DET Zigeunerspielkarten_/NOUN aus_/ADP in_/ADP der_/DET Brusttasche_/NOUN ,_/PUNCT dreimal_/ADV geteilt_/VERB ,_/PUNCT mit_/ADP der_/PRON Linken_/NOUN linken_/VERB Hand_/NOUN ,_/PUNCT die_/PRON Rosalia_/PROPN sichtbar_/ADJ zu_/PART machen_/VERB ,_/PUNCT bewaldet_/VERB ,_/PUNCT wir_/PRON essen_/VERB kleine_/ADJ Drachen_/NOUN ,_/PUNCT den_/DET Mond_/NOUN ,_/PUNCT das_/DET Land_/NOUN ist_/AUX Löwe_/NOUN ,_/PUNCT viel_/ADJ Hitze_/NOUN ,_/PUNCT Pompeji_/PROPN ,_/PUNCT (_/PUNCT ist_/AUX verbrannt_/ADJ )_/PUNCT ,_/PUNCT nur_/ADV Kälberleib_/PROPN ,_/PUNCT Bekröter_/PROPN sogar_/ADV ,_/PUNCT von_/ADP jeder_/PRON jede_/DET Pfütze_/NOUN getrunken_/ADJ ,_/PUNCT (_/PUNCT der_/DET Dürer_/NOUN )_/PUNCT (_/PUNCT und_/CCONJ Überschwemmungen_/NOUN )_/PUNCT ,_/PUNCT aus_/ADP den_/DET aufgeschlagenen_/ADJ Karten_/NOUN Beständigkeit_/NOUN ,_/PUNCT Treue_/NOUN ,_/PUNCT gelesen_/VERB ,_/PUNCT schnarrendes_/ADJ Maulhorn_/NOUN ,_/PUNCT Werktreue_/NOUN ,_/PUNCT !_/PUNCT ,_/PUNCT rufe_/VERB ich_/PRON ,_/PUNCT Krankheit_/NOUN Verdruss_/NOUN ,_/PUNCT alles_/PRON verflochten_/VERB ,_/PUNCT aber_/CCONJ es_/PRON ist_/AUX kein_/DET Schatz_/NOUN zugegen_/ADJ ,_/PUNCT mein_/PRON Gaumen_/NOUN krümmt_/VERB sich_/PRON ,_/PUNCT das_/DET Stativ_/NOUN deiner_/PRON seiner_/PRON Beine_/NOUN eingerastet_/ADJ ,_/PUNCT verkappte_/ADJ Schläfe_/NOUN ,_/PUNCT mit_/ADP Kappe_/NOUN ,_/PUNCT Oktoberkeule_/NOUN -_/PUNCT das_/DET Stativ_/NOUN deiner_/PRON Beine_/NOUN eingerastet_/VERB\n",
      "weil das Auge zuerst bricht der Körper will sich ja schließen, Verdruss und Krankheit, die Witwe, Göttin aus der Maschine, die Zigeunerspielkarten Zigeunerkarten plötzlich aus der Brusttasche Tasche gezogen, dreimal abheben abgehoben, linkshändig, die Rosalia sichtbar zu machen, rufst du, bewaldet, wir essen kleine Drachen, den Mond, das Land ist Löwe, viel Hitze, Pompeji, nur Kälberleib, Bekröter sogar, Wahrträume, wie mit vielen Augen von jeder Pfütze getrunken, (der Dürer!) und Überschwemmungen Werktreue? rufe ich aus den aufgeschlagenen Karten Beständigkeit, Treue, gelesen Treue, Beständigkeit, aus den Karten gelesen, schnarrendes Maulhorn, Werktreue rufe ich, Krankheit, Verdruss alles verflochten, aber es ist kein Schatz zugegen, mein Gaumen krümmt sich, die Vögel picken zuerst die menschlichen Augen aus eingerastet ist das längst Stativ deiner Beine, verkappte Schläfe, Asche sein unter dem Kinn unter der Zunge mit Kappe, Oktoberschatten Oktoberkeule, und -schatten - wo die Schatten einander entgegen sind\n",
      "['weil_/SCONJ', 'das_/DET', 'Auge_/NOUN', 'zuerst_/ADV', 'bricht_/VERB', 'der_/DET', 'Körper_/NOUN', 'will_/AUX', 'sich_/PRON', 'ja_/ADV', 'schließen_/VERB', ',_/PUNCT', 'Verdruss_/NOUN', 'und_/CCONJ', 'Krankheit_/NOUN', ',_/PUNCT', 'die_/DET', 'Witwe_/PROPN', ',_/PUNCT', 'Göttin_/PROPN', 'aus_/ADP', 'der_/DET', 'Maschine_/NOUN', ',_/PUNCT', 'die_/DET', 'Zigeunerspielkarten_/NOUN', 'Zigeunerkarten_/NOUN', 'plötzlich_/ADJ', 'aus_/ADP', 'der_/DET', 'Brusttasche_/NOUN', 'Tasche_/NOUN', 'gezogen_/VERB', ',_/PUNCT', 'dreimal_/ADV', 'abheben_/VERB', 'abgehoben_/ADJ', ',_/PUNCT', 'linkshändig_/ADJ', ',_/PUNCT', 'die_/DET', 'Rosalia_/PROPN', 'sichtbar_/ADJ', 'zu_/PART', 'machen_/VERB', ',_/PUNCT', 'rufst_/VERB', 'du_/PRON', ',_/PUNCT', 'bewaldet_/VERB', ',_/PUNCT', 'wir_/PRON', 'essen_/VERB', 'kleine_/ADJ', 'Drachen_/NOUN', ',_/PUNCT', 'den_/DET', 'Mond_/NOUN', ',_/PUNCT', 'das_/DET', 'Land_/NOUN', 'ist_/AUX', 'Löwe_/NOUN', ',_/PUNCT', 'viel_/ADJ', 'Hitze_/NOUN', ',_/PUNCT', 'Pompeji_/PROPN', ',_/PUNCT', 'nur_/ADV', 'Kälberleib_/PROPN', ',_/PUNCT', 'Bekröter_/PROPN', 'sogar_/ADV', ',_/PUNCT', 'Wahrträume_/NOUN', ',_/PUNCT', 'wie_/ADV', 'mit_/ADP', 'vielen_/ADJ', 'Augen_/NOUN', 'von_/ADP', 'jeder_/DET', 'Pfütze_/NOUN', 'getrunken_/ADJ', ',_/PUNCT', '(_/PUNCT', 'der_/DET', 'Dürer_/NOUN', '!_/PUNCT', ')_/PUNCT', 'und_/CCONJ', 'Überschwemmungen_/NOUN', 'Werktreue_/NOUN', '?_/PUNCT', 'rufe_/VERB', 'ich_/PRON', 'aus_/ADP', 'den_/DET', 'aufgeschlagenen_/ADJ', 'Karten_/NOUN', 'Beständigkeit_/NOUN', ',_/PUNCT', 'Treue_/NOUN', ',_/PUNCT', 'gelesen_/VERB', 'Treue_/NOUN', ',_/PUNCT', 'Beständigkeit_/NOUN', ',_/PUNCT', 'aus_/ADP', 'den_/DET', 'Karten_/NOUN', 'gelesen_/VERB', ',_/PUNCT', 'schnarrendes_/ADJ', 'Maulhorn_/NOUN', ',_/PUNCT', 'Werktreue_/NOUN', 'rufe_/VERB', 'ich_/PRON', ',_/PUNCT', 'Krankheit_/NOUN', ',_/PUNCT', 'Verdruss_/NOUN', 'alles_/PRON', 'verflochten_/VERB', ',_/PUNCT', 'aber_/CCONJ', 'es_/PRON', 'ist_/AUX', 'kein_/DET', 'Schatz_/NOUN', 'zugegen_/ADJ', ',_/PUNCT', 'mein_/PRON', 'Gaumen_/NOUN', 'krümmt_/VERB', 'sich_/PRON', ',_/PUNCT', 'die_/DET', 'Vögel_/NOUN', 'picken_/VERB', 'zuerst_/ADV', 'die_/DET', 'menschlichen_/ADJ', 'Augen_/NOUN', 'aus_/ADP', 'eingerastet_/VERB', 'ist_/AUX', 'das_/PRON', 'längst_/ADV', 'Stativ_/ADJ', 'deiner_/PRON', 'Beine_/NOUN', ',_/PUNCT', 'verkappte_/ADJ', 'Schläfe_/NOUN', ',_/PUNCT', 'Asche_/NOUN', 'sein_/PRON', 'unter_/ADP', 'dem_/DET', 'Kinn_/NOUN', 'unter_/ADP', 'der_/DET', 'Zunge_/NOUN', 'mit_/ADP', 'Kappe_/NOUN', ',_/PUNCT', 'Oktoberschatten_/NOUN', 'Oktoberkeule_/PROPN', ',_/PUNCT', 'und_/CCONJ', '-schatten_/ADJ', '-_/PUNCT', 'wo_/ADV', 'die_/DET', 'Schatten_/NOUN', 'einander_/PRON', 'entgegen_/ADP', 'sind_/AUX']\n",
      "weil_/SCONJ das_/DET Auge_/NOUN zuerst_/ADV bricht_/VERB der_/DET Körper_/NOUN will_/AUX sich_/PRON ja_/ADV schließen_/VERB ,_/PUNCT Verdruss_/NOUN und_/CCONJ Krankheit_/NOUN ,_/PUNCT die_/DET Witwe_/PROPN ,_/PUNCT Göttin_/PROPN aus_/ADP der_/DET Maschine_/NOUN ,_/PUNCT die_/DET Zigeunerspielkarten_/NOUN Zigeunerkarten_/NOUN plötzlich_/ADJ aus_/ADP der_/DET Brusttasche_/NOUN Tasche_/NOUN gezogen_/VERB ,_/PUNCT dreimal_/ADV abheben_/VERB abgehoben_/ADJ ,_/PUNCT linkshändig_/ADJ ,_/PUNCT die_/DET Rosalia_/PROPN sichtbar_/ADJ zu_/PART machen_/VERB ,_/PUNCT rufst_/VERB du_/PRON ,_/PUNCT bewaldet_/VERB ,_/PUNCT wir_/PRON essen_/VERB kleine_/ADJ Drachen_/NOUN ,_/PUNCT den_/DET Mond_/NOUN ,_/PUNCT das_/DET Land_/NOUN ist_/AUX Löwe_/NOUN ,_/PUNCT viel_/ADJ Hitze_/NOUN ,_/PUNCT Pompeji_/PROPN ,_/PUNCT nur_/ADV Kälberleib_/PROPN ,_/PUNCT Bekröter_/PROPN sogar_/ADV ,_/PUNCT Wahrträume_/NOUN ,_/PUNCT wie_/ADV mit_/ADP vielen_/ADJ Augen_/NOUN von_/ADP jeder_/DET Pfütze_/NOUN getrunken_/ADJ ,_/PUNCT (_/PUNCT der_/DET Dürer_/NOUN !_/PUNCT )_/PUNCT und_/CCONJ Überschwemmungen_/NOUN Werktreue_/NOUN ?_/PUNCT rufe_/VERB ich_/PRON aus_/ADP den_/DET aufgeschlagenen_/ADJ Karten_/NOUN Beständigkeit_/NOUN ,_/PUNCT Treue_/NOUN ,_/PUNCT gelesen_/VERB Treue_/NOUN ,_/PUNCT Beständigkeit_/NOUN ,_/PUNCT aus_/ADP den_/DET Karten_/NOUN gelesen_/VERB ,_/PUNCT schnarrendes_/ADJ Maulhorn_/NOUN ,_/PUNCT Werktreue_/NOUN rufe_/VERB ich_/PRON ,_/PUNCT Krankheit_/NOUN ,_/PUNCT Verdruss_/NOUN alles_/PRON verflochten_/VERB ,_/PUNCT aber_/CCONJ es_/PRON ist_/AUX kein_/DET Schatz_/NOUN zugegen_/ADJ ,_/PUNCT mein_/PRON Gaumen_/NOUN krümmt_/VERB sich_/PRON ,_/PUNCT die_/DET Vögel_/NOUN picken_/VERB zuerst_/ADV die_/DET menschlichen_/ADJ Augen_/NOUN aus_/ADP eingerastet_/VERB ist_/AUX das_/PRON längst_/ADV Stativ_/ADJ deiner_/PRON Beine_/NOUN ,_/PUNCT verkappte_/ADJ Schläfe_/NOUN ,_/PUNCT Asche_/NOUN sein_/PRON unter_/ADP dem_/DET Kinn_/NOUN unter_/ADP der_/DET Zunge_/NOUN mit_/ADP Kappe_/NOUN ,_/PUNCT Oktoberschatten_/NOUN Oktoberkeule_/PROPN ,_/PUNCT und_/CCONJ -schatten_/ADJ -_/PUNCT wo_/ADV die_/DET Schatten_/NOUN einander_/PRON entgegen_/ADP sind_/AUX\n",
      "weil das Auge zuerst bricht der Körper will sich ja schließen, rufst du, Verdruss und Krankheit, die Witwe, Göttin aus der Maschine, die grünen Spielkarten plötzlich aus der Tasche gezogen, gemischt, dreimal abheben! linkshändig! die Rosalia sichtbar zu machen! bewaldet! wir essen bewaldet! wir essen kleine Drachen, den Mond, das Land ist Löwe, viel Hitze, Pompeji, Kälberleib. Bekröter sogar, Wahrträume wie mit vielen Augen von jeder Pfütze getrunken, die Vögel picken zuerst das menschliche Auge aus, alles verflochten Werktreue? rufe ich, Krankheit Verdruss, mein Gaumen krümmt sich, Beständigkeit, Treue aus den Karten gelesen Krankheit, Verdruss alles verflochten, aber es ist kein Schatz zugegen, Beständigkeit Treue, aus den Karten gelesen, Werktreue? rufe ich, aber es ist kein Schatz zugegen, Asche sein, Stativ deiner Beine, alles verflochten, das Stativ deiner Beine / unter dem Kinn unter der Zunge, schnarrendes Maulhorn, Schläfe mit Kappe, verkappte Schläfe Oktoberkeule Oktober keule, und -schatten / wo die unsere Schatten einander entgegen sind\n",
      "['weil_/SCONJ', 'das_/DET', 'Auge_/NOUN', 'zuerst_/ADV', 'bricht_/VERB', 'der_/DET', 'Körper_/NOUN', 'will_/AUX', 'sich_/PRON', 'ja_/ADV', 'schließen_/VERB', ',_/PUNCT', 'rufst_/ADV', 'du_/PRON', ',_/PUNCT', 'Verdruss_/NOUN', 'und_/CCONJ', 'Krankheit_/NOUN', ',_/PUNCT', 'die_/DET', 'Witwe_/PROPN', ',_/PUNCT', 'Göttin_/PROPN', 'aus_/ADP', 'der_/DET', 'Maschine_/NOUN', ',_/PUNCT', 'die_/PRON', 'grünen_/ADJ', 'Spielkarten_/NOUN', 'plötzlich_/ADJ', 'aus_/ADP', 'der_/DET', 'Tasche_/NOUN', 'gezogen_/VERB', ',_/PUNCT', 'gemischt_/ADJ', ',_/PUNCT', 'dreimal_/ADV', 'abheben!_/PROPN', 'linkshändig!_/X', 'die_/DET', 'Rosalia_/PROPN', 'sichtbar_/ADJ', 'zu_/ADP', 'machen!_/X', 'bewaldet!_/X', 'wir_/X', 'essen_/VERB', 'bewaldet!_/PUNCT', 'wir_/PRON', 'essen_/VERB', 'kleine_/ADJ', 'Drachen_/NOUN', ',_/PUNCT', 'den_/DET', 'Mond_/NOUN', ',_/PUNCT', 'das_/DET', 'Land_/NOUN', 'ist_/AUX', 'Löwe_/NOUN', ',_/PUNCT', 'viel_/ADJ', 'Hitze_/NOUN', ',_/PUNCT', 'Pompeji_/PROPN', ',_/PUNCT', 'Kälberleib_/PROPN', '._/PUNCT', 'Bekröter_/PROPN', 'sogar_/ADV', ',_/PUNCT', 'Wahrträume_/NOUN', 'wie_/CCONJ', 'mit_/ADP', 'vielen_/ADJ', 'Augen_/NOUN', 'von_/ADP', 'jeder_/DET', 'Pfütze_/NOUN', 'getrunken_/VERB', ',_/PUNCT', 'die_/PRON', 'Vögel_/NOUN', 'picken_/VERB', 'zuerst_/ADV', 'das_/DET', 'menschliche_/ADJ', 'Auge_/NOUN', 'aus_/ADP', ',_/PUNCT', 'alles_/DET', 'verflochten_/ADJ', 'Werktreue_/NOUN', '?_/PUNCT', 'rufe_/VERB', 'ich_/PRON', ',_/PUNCT', 'Krankheit_/NOUN', 'Verdruss_/NOUN', ',_/PUNCT', 'mein_/PRON', 'Gaumen_/NOUN', 'krümmt_/VERB', 'sich_/PRON', ',_/PUNCT', 'Beständigkeit_/NOUN', ',_/PUNCT', 'Treue_/NOUN', 'aus_/ADP', 'den_/DET', 'Karten_/NOUN', 'gelesen_/VERB', 'Krankheit_/NOUN', ',_/PUNCT', 'Verdruss_/NOUN', 'alles_/PRON', 'verflochten_/VERB', ',_/PUNCT', 'aber_/CCONJ', 'es_/PRON', 'ist_/AUX', 'kein_/DET', 'Schatz_/NOUN', 'zugegen_/ADJ', ',_/PUNCT', 'Beständigkeit_/NOUN', 'Treue_/NOUN', ',_/PUNCT', 'aus_/ADP', 'den_/DET', 'Karten_/NOUN', 'gelesen_/VERB', ',_/PUNCT', 'Werktreue_/NOUN', '?_/PUNCT', 'rufe_/VERB', 'ich_/PRON', ',_/PUNCT', 'aber_/CCONJ', 'es_/PRON', 'ist_/AUX', 'kein_/DET', 'Schatz_/NOUN', 'zugegen_/ADJ', ',_/PUNCT', 'Asche_/NOUN', 'sein_/AUX', ',_/PUNCT', 'Stativ_/NOUN', 'deiner_/PRON', 'Beine_/NOUN', ',_/PUNCT', 'alles_/PRON', 'verflochten_/VERB', ',_/PUNCT', 'das_/DET', 'Stativ_/NOUN', 'deiner_/PRON', 'Beine_/NOUN', '/_/X', 'unter_/ADP', 'dem_/DET', 'Kinn_/NOUN', 'unter_/ADP', 'der_/DET', 'Zunge_/NOUN', ',_/PUNCT', 'schnarrendes_/ADJ', 'Maulhorn_/NOUN', ',_/PUNCT', 'Schläfe_/NOUN', 'mit_/ADP', 'Kappe_/NOUN', ',_/PUNCT', 'verkappte_/VERB', 'Schläfe_/PROPN', 'Oktoberkeule_/PROPN', 'Oktober_/NOUN', 'keule_/X', ',_/PUNCT', 'und_/CCONJ', '-schatten_/NOUN', '/_/PUNCT', 'wo_/ADV', 'die_/DET', 'unsere_/PRON', 'Schatten_/NOUN', 'einander_/PRON', 'entgegen_/ADP', 'sind_/AUX']\n",
      "weil_/SCONJ das_/DET Auge_/NOUN zuerst_/ADV bricht_/VERB der_/DET Körper_/NOUN will_/AUX sich_/PRON ja_/ADV schließen_/VERB ,_/PUNCT rufst_/ADV du_/PRON ,_/PUNCT Verdruss_/NOUN und_/CCONJ Krankheit_/NOUN ,_/PUNCT die_/DET Witwe_/PROPN ,_/PUNCT Göttin_/PROPN aus_/ADP der_/DET Maschine_/NOUN ,_/PUNCT die_/PRON grünen_/ADJ Spielkarten_/NOUN plötzlich_/ADJ aus_/ADP der_/DET Tasche_/NOUN gezogen_/VERB ,_/PUNCT gemischt_/ADJ ,_/PUNCT dreimal_/ADV abheben!_/PROPN linkshändig!_/X die_/DET Rosalia_/PROPN sichtbar_/ADJ zu_/ADP machen!_/X bewaldet!_/X wir_/X essen_/VERB bewaldet!_/PUNCT wir_/PRON essen_/VERB kleine_/ADJ Drachen_/NOUN ,_/PUNCT den_/DET Mond_/NOUN ,_/PUNCT das_/DET Land_/NOUN ist_/AUX Löwe_/NOUN ,_/PUNCT viel_/ADJ Hitze_/NOUN ,_/PUNCT Pompeji_/PROPN ,_/PUNCT Kälberleib_/PROPN ._/PUNCT Bekröter_/PROPN sogar_/ADV ,_/PUNCT Wahrträume_/NOUN wie_/CCONJ mit_/ADP vielen_/ADJ Augen_/NOUN von_/ADP jeder_/DET Pfütze_/NOUN getrunken_/VERB ,_/PUNCT die_/PRON Vögel_/NOUN picken_/VERB zuerst_/ADV das_/DET menschliche_/ADJ Auge_/NOUN aus_/ADP ,_/PUNCT alles_/DET verflochten_/ADJ Werktreue_/NOUN ?_/PUNCT rufe_/VERB ich_/PRON ,_/PUNCT Krankheit_/NOUN Verdruss_/NOUN ,_/PUNCT mein_/PRON Gaumen_/NOUN krümmt_/VERB sich_/PRON ,_/PUNCT Beständigkeit_/NOUN ,_/PUNCT Treue_/NOUN aus_/ADP den_/DET Karten_/NOUN gelesen_/VERB Krankheit_/NOUN ,_/PUNCT Verdruss_/NOUN alles_/PRON verflochten_/VERB ,_/PUNCT aber_/CCONJ es_/PRON ist_/AUX kein_/DET Schatz_/NOUN zugegen_/ADJ ,_/PUNCT Beständigkeit_/NOUN Treue_/NOUN ,_/PUNCT aus_/ADP den_/DET Karten_/NOUN gelesen_/VERB ,_/PUNCT Werktreue_/NOUN ?_/PUNCT rufe_/VERB ich_/PRON ,_/PUNCT aber_/CCONJ es_/PRON ist_/AUX kein_/DET Schatz_/NOUN zugegen_/ADJ ,_/PUNCT Asche_/NOUN sein_/AUX ,_/PUNCT Stativ_/NOUN deiner_/PRON Beine_/NOUN ,_/PUNCT alles_/PRON verflochten_/VERB ,_/PUNCT das_/DET Stativ_/NOUN deiner_/PRON Beine_/NOUN /_/X unter_/ADP dem_/DET Kinn_/NOUN unter_/ADP der_/DET Zunge_/NOUN ,_/PUNCT schnarrendes_/ADJ Maulhorn_/NOUN ,_/PUNCT Schläfe_/NOUN mit_/ADP Kappe_/NOUN ,_/PUNCT verkappte_/VERB Schläfe_/PROPN Oktoberkeule_/PROPN Oktober_/NOUN keule_/X ,_/PUNCT und_/CCONJ -schatten_/NOUN /_/PUNCT wo_/ADV die_/DET unsere_/PRON Schatten_/NOUN einander_/PRON entgegen_/ADP sind_/AUX\n",
      "weil das Auge zuerst bricht der Körper will sich ja schließen, rufst du, Verdruss und Krankheit, die Witwe, Göttin aus der Maschine, die grünen Spielkarten plötzlich aus der Tasche gezogen, gemischt, dreimal abheben! linkshändig! die Rosalia sichtbar machen!, bewaldet / wir essen kleine Drachen, den Mond, das Land ist Löwe, viel Hitze, Pompeji, ein Kälberleib, Bekröter sogar, Wahrträume wie mit vielen Augen von jeder Pfütze getrunken, die Vögel picken zuerst das menschliche Auge aus, mein Gaumen sich alles verflochten, Krankheit, Verdruss aber es ist kein Schatz zugegen, Beständigkeit, Treue aus den Karten gelesen, Werktreue? rufe ich, unter der Zunge, unter dem Kinn, ein Stativ deiner Beine, Schläfe mit Kappe, Oktoberkeule, und schnarrendes Maulhorn, wo unsere Schatten einander entgegen sind\n",
      "['weil_/SCONJ', 'das_/DET', 'Auge_/NOUN', 'zuerst_/ADV', 'bricht_/VERB', 'der_/DET', 'Körper_/NOUN', 'will_/AUX', 'sich_/PRON', 'ja_/ADV', 'schließen_/VERB', ',_/PUNCT', 'rufst_/ADV', 'du_/PRON', ',_/PUNCT', 'Verdruss_/NOUN', 'und_/CCONJ', 'Krankheit_/NOUN', ',_/PUNCT', 'die_/DET', 'Witwe_/PROPN', ',_/PUNCT', 'Göttin_/PROPN', 'aus_/ADP', 'der_/DET', 'Maschine_/NOUN', ',_/PUNCT', 'die_/PRON', 'grünen_/ADJ', 'Spielkarten_/NOUN', 'plötzlich_/ADJ', 'aus_/ADP', 'der_/DET', 'Tasche_/NOUN', 'gezogen_/VERB', ',_/PUNCT', 'gemischt_/ADJ', ',_/PUNCT', 'dreimal_/ADV', 'abheben!_/PROPN', 'linkshändig!_/X', 'die_/DET', 'Rosalia_/NOUN', 'sichtbar_/ADJ', 'machen_/VERB', '!_/PUNCT', ',_/PUNCT', 'bewaldet_/VERB', '/_/X', 'wir_/PRON', 'essen_/ADJ', 'kleine_/ADJ', 'Drachen_/NOUN', ',_/PUNCT', 'den_/DET', 'Mond_/NOUN', ',_/PUNCT', 'das_/DET', 'Land_/NOUN', 'ist_/AUX', 'Löwe_/NOUN', ',_/PUNCT', 'viel_/ADJ', 'Hitze_/NOUN', ',_/PUNCT', 'Pompeji_/PROPN', ',_/PUNCT', 'ein_/DET', 'Kälberleib_/NOUN', ',_/PUNCT', 'Bekröter_/NOUN', 'sogar_/ADV', ',_/PUNCT', 'Wahrträume_/NOUN', 'wie_/CCONJ', 'mit_/ADP', 'vielen_/ADJ', 'Augen_/NOUN', 'von_/ADP', 'jeder_/DET', 'Pfütze_/NOUN', 'getrunken_/ADJ', ',_/PUNCT', 'die_/DET', 'Vögel_/NOUN', 'picken_/VERB', 'zuerst_/ADV', 'das_/DET', 'menschliche_/ADJ', 'Auge_/NOUN', 'aus_/ADP', ',_/PUNCT', 'mein_/PRON', 'Gaumen_/NOUN', 'sich_/PRON', 'alles_/PRON', 'verflochten_/VERB', ',_/PUNCT', 'Krankheit_/NOUN', ',_/PUNCT', 'Verdruss_/NOUN', 'aber_/CCONJ', 'es_/PRON', 'ist_/AUX', 'kein_/DET', 'Schatz_/NOUN', 'zugegen_/ADJ', ',_/PUNCT', 'Beständigkeit_/NOUN', ',_/PUNCT', 'Treue_/NOUN', 'aus_/ADP', 'den_/DET', 'Karten_/NOUN', 'gelesen_/VERB', ',_/PUNCT', 'Werktreue_/NOUN', '?_/PUNCT', 'rufe_/VERB', 'ich_/PRON', ',_/PUNCT', 'unter_/ADP', 'der_/DET', 'Zunge_/NOUN', ',_/PUNCT', 'unter_/ADP', 'dem_/DET', 'Kinn_/NOUN', ',_/PUNCT', 'ein_/DET', 'Stativ_/NOUN', 'deiner_/PRON', 'Beine_/NOUN', ',_/PUNCT', 'Schläfe_/NOUN', 'mit_/ADP', 'Kappe_/NOUN', ',_/PUNCT', 'Oktoberkeule_/NOUN', ',_/PUNCT', 'und_/CCONJ', 'schnarrendes_/ADJ', 'Maulhorn_/NOUN', ',_/PUNCT', 'wo_/ADV', 'unsere_/PRON', 'Schatten_/NOUN', 'einander_/PRON', 'entgegen_/ADP', 'sind_/AUX']\n",
      "weil_/SCONJ das_/DET Auge_/NOUN zuerst_/ADV bricht_/VERB der_/DET Körper_/NOUN will_/AUX sich_/PRON ja_/ADV schließen_/VERB ,_/PUNCT rufst_/ADV du_/PRON ,_/PUNCT Verdruss_/NOUN und_/CCONJ Krankheit_/NOUN ,_/PUNCT die_/DET Witwe_/PROPN ,_/PUNCT Göttin_/PROPN aus_/ADP der_/DET Maschine_/NOUN ,_/PUNCT die_/PRON grünen_/ADJ Spielkarten_/NOUN plötzlich_/ADJ aus_/ADP der_/DET Tasche_/NOUN gezogen_/VERB ,_/PUNCT gemischt_/ADJ ,_/PUNCT dreimal_/ADV abheben!_/PROPN linkshändig!_/X die_/DET Rosalia_/NOUN sichtbar_/ADJ machen_/VERB !_/PUNCT ,_/PUNCT bewaldet_/VERB /_/X wir_/PRON essen_/ADJ kleine_/ADJ Drachen_/NOUN ,_/PUNCT den_/DET Mond_/NOUN ,_/PUNCT das_/DET Land_/NOUN ist_/AUX Löwe_/NOUN ,_/PUNCT viel_/ADJ Hitze_/NOUN ,_/PUNCT Pompeji_/PROPN ,_/PUNCT ein_/DET Kälberleib_/NOUN ,_/PUNCT Bekröter_/NOUN sogar_/ADV ,_/PUNCT Wahrträume_/NOUN wie_/CCONJ mit_/ADP vielen_/ADJ Augen_/NOUN von_/ADP jeder_/DET Pfütze_/NOUN getrunken_/ADJ ,_/PUNCT die_/DET Vögel_/NOUN picken_/VERB zuerst_/ADV das_/DET menschliche_/ADJ Auge_/NOUN aus_/ADP ,_/PUNCT mein_/PRON Gaumen_/NOUN sich_/PRON alles_/PRON verflochten_/VERB ,_/PUNCT Krankheit_/NOUN ,_/PUNCT Verdruss_/NOUN aber_/CCONJ es_/PRON ist_/AUX kein_/DET Schatz_/NOUN zugegen_/ADJ ,_/PUNCT Beständigkeit_/NOUN ,_/PUNCT Treue_/NOUN aus_/ADP den_/DET Karten_/NOUN gelesen_/VERB ,_/PUNCT Werktreue_/NOUN ?_/PUNCT rufe_/VERB ich_/PRON ,_/PUNCT unter_/ADP der_/DET Zunge_/NOUN ,_/PUNCT unter_/ADP dem_/DET Kinn_/NOUN ,_/PUNCT ein_/DET Stativ_/NOUN deiner_/PRON Beine_/NOUN ,_/PUNCT Schläfe_/NOUN mit_/ADP Kappe_/NOUN ,_/PUNCT Oktoberkeule_/NOUN ,_/PUNCT und_/CCONJ schnarrendes_/ADJ Maulhorn_/NOUN ,_/PUNCT wo_/ADV unsere_/PRON Schatten_/NOUN einander_/PRON entgegen_/ADP sind_/AUX\n",
      "weil das Auge zuerst bricht der Körper will sich ja schließen, rufst du, Verdruss und Krankheit, die Witwe, Göttin aus der Maschine, die grünen Spielkarten plötzlich aus der Tasche gezogen, gemischt, dreimal abheben! linkshändig! die Rosalia sichtbar zu machen, bewaldet / wir essen kleine Drachen, den Mond, das Land ist Löwe, viel Hitze, Pompeji, ein Kälberleib, Bekröter sogar, Wahrträume wie mit vielen Augen von jeder Pfütze getrunken, die Vögel picken zuerst das menschliche Auge aus, alles verflochten, Krankheit, Verdruss, mein Gaumen krümmt sich, aber es ist kein Schatz zugegen, Treue, Beständigkeit, aus den Karten gelesen, Werktreue? rufe ich, Stativ Asche sein, Stativ Asche sein, Stativ deiner Beine, mein Gaumen krümmt sich, Schläfe mit Kappe unter der Zunge unter dem Kinn, Oktoberkeule, und schnarrendes Maulhorn, wo unsere Schatten einander entgegen sind\n",
      "['weil_/SCONJ', 'das_/DET', 'Auge_/NOUN', 'zuerst_/ADV', 'bricht_/VERB', 'der_/DET', 'Körper_/NOUN', 'will_/AUX', 'sich_/PRON', 'ja_/ADV', 'schließen_/VERB', ',_/PUNCT', 'rufst_/ADV', 'du_/PRON', ',_/PUNCT', 'Verdruss_/NOUN', 'und_/CCONJ', 'Krankheit_/NOUN', ',_/PUNCT', 'die_/DET', 'Witwe_/PROPN', ',_/PUNCT', 'Göttin_/PROPN', 'aus_/ADP', 'der_/DET', 'Maschine_/NOUN', ',_/PUNCT', 'die_/PRON', 'grünen_/ADJ', 'Spielkarten_/NOUN', 'plötzlich_/ADJ', 'aus_/ADP', 'der_/DET', 'Tasche_/NOUN', 'gezogen_/VERB', ',_/PUNCT', 'gemischt_/ADJ', ',_/PUNCT', 'dreimal_/ADV', 'abheben!_/PROPN', 'linkshändig!_/X', 'die_/DET', 'Rosalia_/PROPN', 'sichtbar_/ADJ', 'zu_/PART', 'machen_/VERB', ',_/PUNCT', 'bewaldet_/VERB', '/_/X', 'wir_/PRON', 'essen_/ADJ', 'kleine_/ADJ', 'Drachen_/NOUN', ',_/PUNCT', 'den_/DET', 'Mond_/NOUN', ',_/PUNCT', 'das_/DET', 'Land_/NOUN', 'ist_/AUX', 'Löwe_/NOUN', ',_/PUNCT', 'viel_/ADJ', 'Hitze_/NOUN', ',_/PUNCT', 'Pompeji_/PROPN', ',_/PUNCT', 'ein_/DET', 'Kälberleib_/NOUN', ',_/PUNCT', 'Bekröter_/NOUN', 'sogar_/ADV', ',_/PUNCT', 'Wahrträume_/NOUN', 'wie_/CCONJ', 'mit_/ADP', 'vielen_/ADJ', 'Augen_/NOUN', 'von_/ADP', 'jeder_/DET', 'Pfütze_/NOUN', 'getrunken_/ADJ', ',_/PUNCT', 'die_/DET', 'Vögel_/NOUN', 'picken_/VERB', 'zuerst_/ADV', 'das_/DET', 'menschliche_/ADJ', 'Auge_/NOUN', 'aus_/ADP', ',_/PUNCT', 'alles_/PRON', 'verflochten_/VERB', ',_/PUNCT', 'Krankheit_/NOUN', ',_/PUNCT', 'Verdruss_/NOUN', ',_/PUNCT', 'mein_/PRON', 'Gaumen_/NOUN', 'krümmt_/VERB', 'sich_/PRON', ',_/PUNCT', 'aber_/CCONJ', 'es_/PRON', 'ist_/AUX', 'kein_/DET', 'Schatz_/NOUN', 'zugegen_/ADJ', ',_/PUNCT', 'Treue_/NOUN', ',_/PUNCT', 'Beständigkeit_/NOUN', ',_/PUNCT', 'aus_/ADP', 'den_/DET', 'Karten_/NOUN', 'gelesen_/VERB', ',_/PUNCT', 'Werktreue_/NOUN', '?_/PUNCT', 'rufe_/VERB', 'ich_/PRON', ',_/PUNCT', 'Stativ_/NOUN', 'Asche_/NOUN', 'sein_/AUX', ',_/PUNCT', 'Stativ_/NOUN', 'Asche_/NOUN', 'sein_/AUX', ',_/PUNCT', 'Stativ_/NOUN', 'deiner_/PRON', 'Beine_/NOUN', ',_/PUNCT', 'mein_/PRON', 'Gaumen_/NOUN', 'krümmt_/VERB', 'sich_/PRON', ',_/PUNCT', 'Schläfe_/NOUN', 'mit_/ADP', 'Kappe_/NOUN', 'unter_/ADP', 'der_/DET', 'Zunge_/NOUN', 'unter_/ADP', 'dem_/DET', 'Kinn_/NOUN', ',_/PUNCT', 'Oktoberkeule_/NOUN', ',_/PUNCT', 'und_/CCONJ', 'schnarrendes_/ADJ', 'Maulhorn_/NOUN', ',_/PUNCT', 'wo_/ADV', 'unsere_/PRON', 'Schatten_/NOUN', 'einander_/PRON', 'entgegen_/ADP', 'sind_/AUX']\n",
      "weil_/SCONJ das_/DET Auge_/NOUN zuerst_/ADV bricht_/VERB der_/DET Körper_/NOUN will_/AUX sich_/PRON ja_/ADV schließen_/VERB ,_/PUNCT rufst_/ADV du_/PRON ,_/PUNCT Verdruss_/NOUN und_/CCONJ Krankheit_/NOUN ,_/PUNCT die_/DET Witwe_/PROPN ,_/PUNCT Göttin_/PROPN aus_/ADP der_/DET Maschine_/NOUN ,_/PUNCT die_/PRON grünen_/ADJ Spielkarten_/NOUN plötzlich_/ADJ aus_/ADP der_/DET Tasche_/NOUN gezogen_/VERB ,_/PUNCT gemischt_/ADJ ,_/PUNCT dreimal_/ADV abheben!_/PROPN linkshändig!_/X die_/DET Rosalia_/PROPN sichtbar_/ADJ zu_/PART machen_/VERB ,_/PUNCT bewaldet_/VERB /_/X wir_/PRON essen_/ADJ kleine_/ADJ Drachen_/NOUN ,_/PUNCT den_/DET Mond_/NOUN ,_/PUNCT das_/DET Land_/NOUN ist_/AUX Löwe_/NOUN ,_/PUNCT viel_/ADJ Hitze_/NOUN ,_/PUNCT Pompeji_/PROPN ,_/PUNCT ein_/DET Kälberleib_/NOUN ,_/PUNCT Bekröter_/NOUN sogar_/ADV ,_/PUNCT Wahrträume_/NOUN wie_/CCONJ mit_/ADP vielen_/ADJ Augen_/NOUN von_/ADP jeder_/DET Pfütze_/NOUN getrunken_/ADJ ,_/PUNCT die_/DET Vögel_/NOUN picken_/VERB zuerst_/ADV das_/DET menschliche_/ADJ Auge_/NOUN aus_/ADP ,_/PUNCT alles_/PRON verflochten_/VERB ,_/PUNCT Krankheit_/NOUN ,_/PUNCT Verdruss_/NOUN ,_/PUNCT mein_/PRON Gaumen_/NOUN krümmt_/VERB sich_/PRON ,_/PUNCT aber_/CCONJ es_/PRON ist_/AUX kein_/DET Schatz_/NOUN zugegen_/ADJ ,_/PUNCT Treue_/NOUN ,_/PUNCT Beständigkeit_/NOUN ,_/PUNCT aus_/ADP den_/DET Karten_/NOUN gelesen_/VERB ,_/PUNCT Werktreue_/NOUN ?_/PUNCT rufe_/VERB ich_/PRON ,_/PUNCT Stativ_/NOUN Asche_/NOUN sein_/AUX ,_/PUNCT Stativ_/NOUN Asche_/NOUN sein_/AUX ,_/PUNCT Stativ_/NOUN deiner_/PRON Beine_/NOUN ,_/PUNCT mein_/PRON Gaumen_/NOUN krümmt_/VERB sich_/PRON ,_/PUNCT Schläfe_/NOUN mit_/ADP Kappe_/NOUN unter_/ADP der_/DET Zunge_/NOUN unter_/ADP dem_/DET Kinn_/NOUN ,_/PUNCT Oktoberkeule_/NOUN ,_/PUNCT und_/CCONJ schnarrendes_/ADJ Maulhorn_/NOUN ,_/PUNCT wo_/ADV unsere_/PRON Schatten_/NOUN einander_/PRON entgegen_/ADP sind_/AUX\n",
      "weil das Auge zuerst bricht der Körper will sich ja schließen, rufst du, Verdruss und Krankheit, die Witwe, Göttin aus der Maschine, die grünen Zigeunerkarten Spielkarten plötzlich aus der Tasche gezogen, gemischt vermischt, dreimal abheben! linkshändig! die Rosalia sichtbar zu machen (bewaldet) / wir essen kleine Drachen, den Mond, das Land ist Löwe, viel voll Hitze, Pompeji, Kunstwellen ein Kälberleib, Bekröter sogar, Wahrträume wie mit vielen Augen von jeder Pfütze getrunken, die Vögel picken zuerst das menschliche Auge aus, alles verflochten, Krankheit, Verdruss, Säge des Laubs, mein Gaumen krümmt sich, aber es ist kein Schatz zugegen, die Treue, Beständigkeit aus den Karten gelesen, Werktreue? rufe ich, Asche sein, Stativ deiner Beine, Schläfe mit Kappe, unter der Zunge, unter dem Kinn, Oktoberkeule, und dein schnarrend schnarrendes Maulhorn / wo unsere Schatten einander entgegen sind\n",
      "['weil_/SCONJ', 'das_/DET', 'Auge_/NOUN', 'zuerst_/ADV', 'bricht_/VERB', 'der_/DET', 'Körper_/NOUN', 'will_/AUX', 'sich_/PRON', 'ja_/ADV', 'schließen_/VERB', ',_/PUNCT', 'rufst_/ADV', 'du_/PRON', ',_/PUNCT', 'Verdruss_/NOUN', 'und_/CCONJ', 'Krankheit_/NOUN', ',_/PUNCT', 'die_/DET', 'Witwe_/PROPN', ',_/PUNCT', 'Göttin_/PROPN', 'aus_/ADP', 'der_/DET', 'Maschine_/NOUN', ',_/PUNCT', 'die_/PRON', 'grünen_/ADJ', 'Zigeunerkarten_/NOUN', 'Spielkarten_/NOUN', 'plötzlich_/ADJ', 'aus_/ADP', 'der_/DET', 'Tasche_/NOUN', 'gezogen_/VERB', ',_/PUNCT', 'gemischt_/ADJ', 'vermischt_/VERB', ',_/PUNCT', 'dreimal_/ADV', 'abheben!_/PROPN', 'linkshändig!_/X', 'die_/DET', 'Rosalia_/PROPN', 'sichtbar_/ADJ', 'zu_/PART', 'machen_/VERB', '(_/PUNCT', 'bewaldet_/VERB', ')_/PUNCT', '/_/X', 'wir_/PRON', 'essen_/VERB', 'kleine_/ADJ', 'Drachen_/NOUN', ',_/PUNCT', 'den_/DET', 'Mond_/NOUN', ',_/PUNCT', 'das_/DET', 'Land_/NOUN', 'ist_/AUX', 'Löwe_/NOUN', ',_/PUNCT', 'viel_/ADV', 'voll_/ADJ', 'Hitze_/NOUN', ',_/PUNCT', 'Pompeji_/PROPN', ',_/PUNCT', 'Kunstwellen_/NOUN', 'ein_/DET', 'Kälberleib_/NOUN', ',_/PUNCT', 'Bekröter_/NOUN', 'sogar_/ADV', ',_/PUNCT', 'Wahrträume_/NOUN', 'wie_/CCONJ', 'mit_/ADP', 'vielen_/ADJ', 'Augen_/NOUN', 'von_/ADP', 'jeder_/DET', 'Pfütze_/NOUN', 'getrunken_/ADJ', ',_/PUNCT', 'die_/DET', 'Vögel_/NOUN', 'picken_/VERB', 'zuerst_/ADV', 'das_/DET', 'menschliche_/ADJ', 'Auge_/NOUN', 'aus_/ADP', ',_/PUNCT', 'alles_/PRON', 'verflochten_/VERB', ',_/PUNCT', 'Krankheit_/NOUN', ',_/PUNCT', 'Verdruss_/NOUN', ',_/PUNCT', 'Säge_/NOUN', 'des_/DET', 'Laubs_/NOUN', ',_/PUNCT', 'mein_/PRON', 'Gaumen_/NOUN', 'krümmt_/VERB', 'sich_/PRON', ',_/PUNCT', 'aber_/CCONJ', 'es_/PRON', 'ist_/AUX', 'kein_/DET', 'Schatz_/NOUN', 'zugegen_/ADJ', ',_/PUNCT', 'die_/DET', 'Treue_/NOUN', ',_/PUNCT', 'Beständigkeit_/NOUN', 'aus_/ADP', 'den_/DET', 'Karten_/NOUN', 'gelesen_/VERB', ',_/PUNCT', 'Werktreue_/NOUN', '?_/PUNCT', 'rufe_/VERB', 'ich_/PRON', ',_/PUNCT', 'Asche_/NOUN', 'sein_/AUX', ',_/PUNCT', 'Stativ_/NOUN', 'deiner_/PRON', 'Beine_/NOUN', ',_/PUNCT', 'Schläfe_/NOUN', 'mit_/ADP', 'Kappe_/NOUN', ',_/PUNCT', 'unter_/ADP', 'der_/DET', 'Zunge_/NOUN', ',_/PUNCT', 'unter_/ADP', 'dem_/DET', 'Kinn_/NOUN', ',_/PUNCT', 'Oktoberkeule_/NOUN', ',_/PUNCT', 'und_/CCONJ', 'dein_/PRON', 'schnarrend_/ADJ', 'schnarrendes_/ADJ', 'Maulhorn_/X', '/_/X', 'wo_/ADV', 'unsere_/PRON', 'Schatten_/NOUN', 'einander_/PRON', 'entgegen_/ADP', 'sind_/AUX']\n",
      "weil_/SCONJ das_/DET Auge_/NOUN zuerst_/ADV bricht_/VERB der_/DET Körper_/NOUN will_/AUX sich_/PRON ja_/ADV schließen_/VERB ,_/PUNCT rufst_/ADV du_/PRON ,_/PUNCT Verdruss_/NOUN und_/CCONJ Krankheit_/NOUN ,_/PUNCT die_/DET Witwe_/PROPN ,_/PUNCT Göttin_/PROPN aus_/ADP der_/DET Maschine_/NOUN ,_/PUNCT die_/PRON grünen_/ADJ Zigeunerkarten_/NOUN Spielkarten_/NOUN plötzlich_/ADJ aus_/ADP der_/DET Tasche_/NOUN gezogen_/VERB ,_/PUNCT gemischt_/ADJ vermischt_/VERB ,_/PUNCT dreimal_/ADV abheben!_/PROPN linkshändig!_/X die_/DET Rosalia_/PROPN sichtbar_/ADJ zu_/PART machen_/VERB (_/PUNCT bewaldet_/VERB )_/PUNCT /_/X wir_/PRON essen_/VERB kleine_/ADJ Drachen_/NOUN ,_/PUNCT den_/DET Mond_/NOUN ,_/PUNCT das_/DET Land_/NOUN ist_/AUX Löwe_/NOUN ,_/PUNCT viel_/ADV voll_/ADJ Hitze_/NOUN ,_/PUNCT Pompeji_/PROPN ,_/PUNCT Kunstwellen_/NOUN ein_/DET Kälberleib_/NOUN ,_/PUNCT Bekröter_/NOUN sogar_/ADV ,_/PUNCT Wahrträume_/NOUN wie_/CCONJ mit_/ADP vielen_/ADJ Augen_/NOUN von_/ADP jeder_/DET Pfütze_/NOUN getrunken_/ADJ ,_/PUNCT die_/DET Vögel_/NOUN picken_/VERB zuerst_/ADV das_/DET menschliche_/ADJ Auge_/NOUN aus_/ADP ,_/PUNCT alles_/PRON verflochten_/VERB ,_/PUNCT Krankheit_/NOUN ,_/PUNCT Verdruss_/NOUN ,_/PUNCT Säge_/NOUN des_/DET Laubs_/NOUN ,_/PUNCT mein_/PRON Gaumen_/NOUN krümmt_/VERB sich_/PRON ,_/PUNCT aber_/CCONJ es_/PRON ist_/AUX kein_/DET Schatz_/NOUN zugegen_/ADJ ,_/PUNCT die_/DET Treue_/NOUN ,_/PUNCT Beständigkeit_/NOUN aus_/ADP den_/DET Karten_/NOUN gelesen_/VERB ,_/PUNCT Werktreue_/NOUN ?_/PUNCT rufe_/VERB ich_/PRON ,_/PUNCT Asche_/NOUN sein_/AUX ,_/PUNCT Stativ_/NOUN deiner_/PRON Beine_/NOUN ,_/PUNCT Schläfe_/NOUN mit_/ADP Kappe_/NOUN ,_/PUNCT unter_/ADP der_/DET Zunge_/NOUN ,_/PUNCT unter_/ADP dem_/DET Kinn_/NOUN ,_/PUNCT Oktoberkeule_/NOUN ,_/PUNCT und_/CCONJ dein_/PRON schnarrend_/ADJ schnarrendes_/ADJ Maulhorn_/X /_/X wo_/ADV unsere_/PRON Schatten_/NOUN einander_/PRON entgegen_/ADP sind_/AUX\n",
      "vielleicht weil das Auge zuerst bricht der Körper will sich ja schließen! rufst du Verdruss und Krankheit der Witwe : Göttin aus der Maschine, die grünen Zigeunerkarten plötzlich aus der Tasche gezogen vermischt, dreimal abheben! linkshändig! die Rosalia sichtbar zu machen (bewaldet), wir essen kleine Drachen den Mond, das Land ist Löwe viel Hitze Pompeji Kunstwellen Kälberleib Bekröter sogar : Wahrträume - wie mit vielen Augen aus jeder Pfütze getrunken, die Vögel picken das menschliche Auge zuerst aus, alles verflochten Krankheit Verdruss Säge des Laubs, mein Gaumen krümmt sich aber es ist kein Schatz zugegen, die Treue Beständigkeit aus den Karten gelesen, Werktreue? rufe ich, Asche werden, Stativ deiner Beine, Schläfe mit Kappe, Oktoberkeule dein schnarrendes Maulhorn ach wo unsere Schatten einander entgegen sind -\n",
      "['vielleicht_/ADV', 'weil_/SCONJ', 'das_/DET', 'Auge_/NOUN', 'zuerst_/ADV', 'bricht_/VERB', 'der_/DET', 'Körper_/NOUN', 'will_/AUX', 'sich_/PRON', 'ja_/ADV', 'schließen!_/PROPN', 'rufst_/VERB', 'du_/PRON', 'Verdruss_/NOUN', 'und_/CCONJ', 'Krankheit_/NOUN', 'der_/DET', 'Witwe_/NOUN', ':_/PUNCT', 'Göttin_/PROPN', 'aus_/ADP', 'der_/DET', 'Maschine_/NOUN', ',_/PUNCT', 'die_/PRON', 'grünen_/ADJ', 'Zigeunerkarten_/NOUN', 'plötzlich_/ADJ', 'aus_/ADP', 'der_/DET', 'Tasche_/NOUN', 'gezogen_/ADJ', 'vermischt_/VERB', ',_/PUNCT', 'dreimal_/ADV', 'abheben!_/PROPN', 'linkshändig!_/X', 'die_/DET', 'Rosalia_/PROPN', 'sichtbar_/ADJ', 'zu_/PART', 'machen_/VERB', '(_/PUNCT', 'bewaldet_/VERB', ')_/PUNCT', ',_/PUNCT', 'wir_/PRON', 'essen_/VERB', 'kleine_/ADJ', 'Drachen_/NOUN', 'den_/DET', 'Mond_/NOUN', ',_/PUNCT', 'das_/DET', 'Land_/NOUN', 'ist_/AUX', 'Löwe_/NOUN', 'viel_/ADJ', 'Hitze_/NOUN', 'Pompeji_/PROPN', 'Kunstwellen_/ADJ', 'Kälberleib_/NOUN', 'Bekröter_/PROPN', 'sogar_/ADV', ':_/PUNCT', 'Wahrträume_/NOUN', '-_/PUNCT', 'wie_/CCONJ', 'mit_/ADP', 'vielen_/ADJ', 'Augen_/NOUN', 'aus_/ADP', 'jeder_/DET', 'Pfütze_/NOUN', 'getrunken_/VERB', ',_/PUNCT', 'die_/PRON', 'Vögel_/NOUN', 'picken_/VERB', 'das_/DET', 'menschliche_/ADJ', 'Auge_/NOUN', 'zuerst_/ADV', 'aus_/ADP', ',_/PUNCT', 'alles_/DET', 'verflochten_/ADJ', 'Krankheit_/NOUN', 'Verdruss_/PROPN', 'Säge_/NOUN', 'des_/DET', 'Laubs_/NOUN', ',_/PUNCT', 'mein_/PRON', 'Gaumen_/NOUN', 'krümmt_/VERB', 'sich_/PRON', 'aber_/ADV', 'es_/PRON', 'ist_/AUX', 'kein_/DET', 'Schatz_/NOUN', 'zugegen_/ADJ', ',_/PUNCT', 'die_/DET', 'Treue_/NOUN', 'Beständigkeit_/NOUN', 'aus_/ADP', 'den_/DET', 'Karten_/NOUN', 'gelesen_/VERB', ',_/PUNCT', 'Werktreue_/NOUN', '?_/PUNCT', 'rufe_/VERB', 'ich_/PRON', ',_/PUNCT', 'Asche_/NOUN', 'werden_/AUX', ',_/PUNCT', 'Stativ_/NOUN', 'deiner_/PRON', 'Beine_/NOUN', ',_/PUNCT', 'Schläfe_/NOUN', 'mit_/ADP', 'Kappe_/NOUN', ',_/PUNCT', 'Oktoberkeule_/NOUN', 'dein_/DET', 'schnarrendes_/ADJ', 'Maulhorn_/NOUN', 'ach_/ADV', 'wo_/ADV', 'unsere_/PRON', 'Schatten_/NOUN', 'einander_/PRON', 'entgegen_/ADP', 'sind_/AUX', '-_/PUNCT']\n",
      "vielleicht_/ADV weil_/SCONJ das_/DET Auge_/NOUN zuerst_/ADV bricht_/VERB der_/DET Körper_/NOUN will_/AUX sich_/PRON ja_/ADV schließen!_/PROPN rufst_/VERB du_/PRON Verdruss_/NOUN und_/CCONJ Krankheit_/NOUN der_/DET Witwe_/NOUN :_/PUNCT Göttin_/PROPN aus_/ADP der_/DET Maschine_/NOUN ,_/PUNCT die_/PRON grünen_/ADJ Zigeunerkarten_/NOUN plötzlich_/ADJ aus_/ADP der_/DET Tasche_/NOUN gezogen_/ADJ vermischt_/VERB ,_/PUNCT dreimal_/ADV abheben!_/PROPN linkshändig!_/X die_/DET Rosalia_/PROPN sichtbar_/ADJ zu_/PART machen_/VERB (_/PUNCT bewaldet_/VERB )_/PUNCT ,_/PUNCT wir_/PRON essen_/VERB kleine_/ADJ Drachen_/NOUN den_/DET Mond_/NOUN ,_/PUNCT das_/DET Land_/NOUN ist_/AUX Löwe_/NOUN viel_/ADJ Hitze_/NOUN Pompeji_/PROPN Kunstwellen_/ADJ Kälberleib_/NOUN Bekröter_/PROPN sogar_/ADV :_/PUNCT Wahrträume_/NOUN -_/PUNCT wie_/CCONJ mit_/ADP vielen_/ADJ Augen_/NOUN aus_/ADP jeder_/DET Pfütze_/NOUN getrunken_/VERB ,_/PUNCT die_/PRON Vögel_/NOUN picken_/VERB das_/DET menschliche_/ADJ Auge_/NOUN zuerst_/ADV aus_/ADP ,_/PUNCT alles_/DET verflochten_/ADJ Krankheit_/NOUN Verdruss_/PROPN Säge_/NOUN des_/DET Laubs_/NOUN ,_/PUNCT mein_/PRON Gaumen_/NOUN krümmt_/VERB sich_/PRON aber_/ADV es_/PRON ist_/AUX kein_/DET Schatz_/NOUN zugegen_/ADJ ,_/PUNCT die_/DET Treue_/NOUN Beständigkeit_/NOUN aus_/ADP den_/DET Karten_/NOUN gelesen_/VERB ,_/PUNCT Werktreue_/NOUN ?_/PUNCT rufe_/VERB ich_/PRON ,_/PUNCT Asche_/NOUN werden_/AUX ,_/PUNCT Stativ_/NOUN deiner_/PRON Beine_/NOUN ,_/PUNCT Schläfe_/NOUN mit_/ADP Kappe_/NOUN ,_/PUNCT Oktoberkeule_/NOUN dein_/DET schnarrendes_/ADJ Maulhorn_/NOUN ach_/ADV wo_/ADV unsere_/PRON Schatten_/NOUN einander_/PRON entgegen_/ADP sind_/AUX -_/PUNCT\n"
     ]
    }
   ],
   "source": [
    "# \n",
    "for lg in linegroups: \n",
    "    for line in lg:\n",
    "        if line is not None and line.text:\n",
    "            line_text = line.text\n",
    "            line_text.replace(\"\\n\", \"\").replace(\"\\r\", \"\")\n",
    "            line_text = \" \".join(line_text.strip().split())\n",
    "            print(line_text)\n",
    "            doc = nlp(line_text)\n",
    "            \n",
    "        #    line.clear()\n",
    "         #   print(line.text)\n",
    "            \n",
    "            new_line_text = []\n",
    "            for token in doc:\n",
    "                new_token = f\"{token.text}_/{token.pos_}\"\n",
    "                new_line_text.append(new_token)\n",
    "            \n",
    "            print(new_line_text)        \n",
    "            newlinetext = \" \".join(new_line_text)\n",
    "            print(newlinetext)\n",
    "    line.text = newlinetext\n",
    "    \n",
    "tree.write(\"output_pos_vwdazb_udp_de-hdt.xml\", encoding=\"utf-8\", xml_declaration=True)"
   ]
  },
  {
   "cell_type": "code",
   "execution_count": null,
   "id": "e21ea152-c407-4970-a89b-3cc95ad7f5b9",
   "metadata": {},
   "outputs": [],
   "source": []
  },
  {
   "cell_type": "markdown",
   "id": "5fc51706-0130-4df7-a9c8-c5d93af5fb74",
   "metadata": {},
   "source": [
    "##### als Tabelle speichern"
   ]
  },
  {
   "cell_type": "code",
   "execution_count": 24,
   "id": "a46b39c4",
   "metadata": {},
   "outputs": [
    {
     "data": {
      "text/html": [
       "<div>\n",
       "<style scoped>\n",
       "    .dataframe tbody tr th:only-of-type {\n",
       "        vertical-align: middle;\n",
       "    }\n",
       "\n",
       "    .dataframe tbody tr th {\n",
       "        vertical-align: top;\n",
       "    }\n",
       "\n",
       "    .dataframe thead th {\n",
       "        text-align: right;\n",
       "    }\n",
       "</style>\n",
       "<table border=\"1\" class=\"dataframe\">\n",
       "  <thead>\n",
       "    <tr style=\"text-align: right;\">\n",
       "      <th></th>\n",
       "      <th>text</th>\n",
       "      <th>pos</th>\n",
       "    </tr>\n",
       "  </thead>\n",
       "  <tbody>\n",
       "    <tr>\n",
       "      <th>0</th>\n",
       "      <td>der</td>\n",
       "      <td>DET</td>\n",
       "    </tr>\n",
       "    <tr>\n",
       "      <th>1</th>\n",
       "      <td>Körper</td>\n",
       "      <td>NOUN</td>\n",
       "    </tr>\n",
       "    <tr>\n",
       "      <th>2</th>\n",
       "      <td>will</td>\n",
       "      <td>AUX</td>\n",
       "    </tr>\n",
       "    <tr>\n",
       "      <th>3</th>\n",
       "      <td>sich</td>\n",
       "      <td>PRON</td>\n",
       "    </tr>\n",
       "    <tr>\n",
       "      <th>4</th>\n",
       "      <td>ja</td>\n",
       "      <td>ADV</td>\n",
       "    </tr>\n",
       "    <tr>\n",
       "      <th>5</th>\n",
       "      <td>schließen</td>\n",
       "      <td>VERB</td>\n",
       "    </tr>\n",
       "    <tr>\n",
       "      <th>6</th>\n",
       "      <td>,</td>\n",
       "      <td>PUNCT</td>\n",
       "    </tr>\n",
       "    <tr>\n",
       "      <th>7</th>\n",
       "      <td>rufst</td>\n",
       "      <td>ADV</td>\n",
       "    </tr>\n",
       "    <tr>\n",
       "      <th>8</th>\n",
       "      <td>du</td>\n",
       "      <td>PRON</td>\n",
       "    </tr>\n",
       "    <tr>\n",
       "      <th>9</th>\n",
       "      <td>,</td>\n",
       "      <td>PUNCT</td>\n",
       "    </tr>\n",
       "  </tbody>\n",
       "</table>\n",
       "</div>"
      ],
      "text/plain": [
       "        text    pos\n",
       "0        der    DET\n",
       "1     Körper   NOUN\n",
       "2       will    AUX\n",
       "3       sich   PRON\n",
       "4         ja    ADV\n",
       "5  schließen   VERB\n",
       "6          ,  PUNCT\n",
       "7      rufst    ADV\n",
       "8         du   PRON\n",
       "9          ,  PUNCT"
      ]
     },
     "execution_count": 24,
     "metadata": {},
     "output_type": "execute_result"
    }
   ],
   "source": [
    "tree = etree.parse(\"C:/Users/jO/Desktop/DH_MA_Arbeit/coding/transkribiert_ohne-unclear-_vielleichtweil.xml\")\n",
    "linegroups = tree.xpath(\"//tei:lg\", namespaces={\"tei\": \"http://www.tei-c.org/ns/1.0\"})\n",
    "pos_info = []\n",
    "for lg in linegroups: \n",
    "    for line in lg:\n",
    "        if line is not None and line.text:\n",
    "            line_text = line.text\n",
    "            line_text.replace(\"\\n\", \"\").replace(\"\\r\", \"\")\n",
    "            line_text = \" \".join(line_text.strip().split())\n",
    "        #    print(line_text)\n",
    "            doc = nlp(line_text)\n",
    "            for token in doc:\n",
    "                pos_info.append({\n",
    "                    'text': token.text,\n",
    "                    'pos': token.pos_})\n",
    "\n",
    "\n",
    "pos_info_df = pd.DataFrame(pos_info)\n",
    "pos_info_df.to_csv('pos_info_vwdazb_udp_de-hdt.csv', index=False)\n",
    "pos_info_df.head(10)"
   ]
  },
  {
   "cell_type": "code",
   "execution_count": null,
   "id": "d156c7e2-3137-458d-981f-c808affa3d21",
   "metadata": {},
   "outputs": [],
   "source": []
  },
  {
   "cell_type": "code",
   "execution_count": null,
   "id": "bb7f93c3-d398-45be-9a1d-a6584ec63828",
   "metadata": {},
   "outputs": [],
   "source": []
  },
  {
   "cell_type": "code",
   "execution_count": null,
   "id": "a15e6a0a",
   "metadata": {},
   "outputs": [],
   "source": []
  },
  {
   "cell_type": "markdown",
   "id": "8ed9e2de",
   "metadata": {
    "jp-MarkdownHeadingCollapsed": true
   },
   "source": [
    "#### mit NLTK"
   ]
  },
  {
   "cell_type": "code",
   "execution_count": 34,
   "id": "c8102082",
   "metadata": {},
   "outputs": [],
   "source": [
    "import nltk"
   ]
  },
  {
   "cell_type": "code",
   "execution_count": 35,
   "id": "b8762a84",
   "metadata": {},
   "outputs": [],
   "source": [
    "text1 = line.text"
   ]
  },
  {
   "cell_type": "code",
   "execution_count": 36,
   "id": "e235b8bc",
   "metadata": {
    "collapsed": true,
    "jupyter": {
     "outputs_hidden": true
    }
   },
   "outputs": [
    {
     "name": "stdout",
     "output_type": "stream",
     "text": [
      "\n",
      "                            vielleicht weil das Auge zuerst bricht\n",
      "                            der Körper will\n",
      "                            sich ja schließen! rufst du Verdruss und\n",
      "                            Krankheit der Witwe : Göttin\n",
      "                            aus der Maschine, die grünen\n",
      "                            Zigeunerkarten plötzlich aus der Tasche gezogen\n",
      "                            vermischt, dreimal abheben! linkshändig! die\n",
      "                            Rosalia sichtbar zu machen (bewaldet), wir\n",
      "                            essen kleine Drachen den Mond, das\n",
      "                            Land ist Löwe viel Hitze Pompeji Kunstwellen Kälberleib Bekröter sogar : Wahrträume - wie\n",
      "                            mit vielen Augen aus jeder Pfütze getrunken, die\n",
      "                            Vögel picken das menschliche Auge zuerst aus, alles\n",
      "                            verflochten Krankheit Verdruss Säge\n",
      "                            des Laubs, mein\n",
      "                            Gaumen krümmt sich aber es ist kein Schatz\n",
      "                            zugegen, die Treue Beständigkeit\n",
      "                            aus den Karten gelesen, Werktreue? rufe ich, Asche\n",
      "                            werden, Stativ deiner Beine, Schläfe mit\n",
      "                            Kappe, Oktoberkeule dein schnarrendes\n",
      "                            Maulhorn ach wo unsere\n",
      "                            Schatten einander entgegen sind -\n",
      "                        \n"
     ]
    }
   ],
   "source": [
    "print(text1)"
   ]
  },
  {
   "cell_type": "code",
   "execution_count": 37,
   "id": "89a7ad41",
   "metadata": {},
   "outputs": [],
   "source": [
    "words1 = nltk.word_tokenize(text1)"
   ]
  },
  {
   "cell_type": "code",
   "execution_count": 38,
   "id": "8de2f2a9",
   "metadata": {
    "collapsed": true,
    "jupyter": {
     "outputs_hidden": true
    }
   },
   "outputs": [
    {
     "name": "stdout",
     "output_type": "stream",
     "text": [
      "['vielleicht', 'weil', 'das', 'Auge', 'zuerst', 'bricht', 'der', 'Körper', 'will', 'sich', 'ja', 'schließen', '!', 'rufst', 'du', 'Verdruss', 'und', 'Krankheit', 'der', 'Witwe', ':', 'Göttin', 'aus', 'der', 'Maschine', ',', 'die', 'grünen', 'Zigeunerkarten', 'plötzlich', 'aus', 'der', 'Tasche', 'gezogen', 'vermischt', ',', 'dreimal', 'abheben', '!', 'linkshändig', '!', 'die', 'Rosalia', 'sichtbar', 'zu', 'machen', '(', 'bewaldet', ')', ',', 'wir', 'essen', 'kleine', 'Drachen', 'den', 'Mond', ',', 'das', 'Land', 'ist', 'Löwe', 'viel', 'Hitze', 'Pompeji', 'Kunstwellen', 'Kälberleib', 'Bekröter', 'sogar', ':', 'Wahrträume', '-', 'wie', 'mit', 'vielen', 'Augen', 'aus', 'jeder', 'Pfütze', 'getrunken', ',', 'die', 'Vögel', 'picken', 'das', 'menschliche', 'Auge', 'zuerst', 'aus', ',', 'alles', 'verflochten', 'Krankheit', 'Verdruss', 'Säge', 'des', 'Laubs', ',', 'mein', 'Gaumen', 'krümmt', 'sich', 'aber', 'es', 'ist', 'kein', 'Schatz', 'zugegen', ',', 'die', 'Treue', 'Beständigkeit', 'aus', 'den', 'Karten', 'gelesen', ',', 'Werktreue', '?', 'rufe', 'ich', ',', 'Asche', 'werden', ',', 'Stativ', 'deiner', 'Beine', ',', 'Schläfe', 'mit', 'Kappe', ',', 'Oktoberkeule', 'dein', 'schnarrendes', 'Maulhorn', 'ach', 'wo', 'unsere', 'Schatten', 'einander', 'entgegen', 'sind', '-']\n"
     ]
    }
   ],
   "source": [
    "print(words1)"
   ]
  },
  {
   "cell_type": "code",
   "execution_count": 39,
   "id": "c1540223",
   "metadata": {},
   "outputs": [
    {
     "data": {
      "text/plain": [
       "144"
      ]
     },
     "execution_count": 39,
     "metadata": {},
     "output_type": "execute_result"
    }
   ],
   "source": [
    "len(words1)"
   ]
  },
  {
   "cell_type": "code",
   "execution_count": 40,
   "id": "6d0e591d",
   "metadata": {},
   "outputs": [
    {
     "data": {
      "text/plain": [
       "[('vielleicht', 'NN'),\n",
       " ('weil', 'WRB'),\n",
       " ('das', 'NN'),\n",
       " ('Auge', 'NNP'),\n",
       " ('zuerst', 'NNP'),\n",
       " ('bricht', 'NN'),\n",
       " ('der', 'NN'),\n",
       " ('Körper', 'NNP'),\n",
       " ('will', 'MD'),\n",
       " ('sich', 'VB'),\n",
       " ('ja', 'NN'),\n",
       " ('schließen', 'NN'),\n",
       " ('!', '.'),\n",
       " ('rufst', 'NN'),\n",
       " ('du', 'NN'),\n",
       " ('Verdruss', 'NNP'),\n",
       " ('und', 'IN'),\n",
       " ('Krankheit', 'NNP'),\n",
       " ('der', 'NN'),\n",
       " ('Witwe', 'NNP'),\n",
       " (':', ':'),\n",
       " ('Göttin', 'NNP'),\n",
       " ('aus', 'VBZ'),\n",
       " ('der', 'JJR'),\n",
       " ('Maschine', 'NNP'),\n",
       " (',', ','),\n",
       " ('die', 'JJ'),\n",
       " ('grünen', 'NN'),\n",
       " ('Zigeunerkarten', 'NNP'),\n",
       " ('plötzlich', 'VBZ'),\n",
       " ('aus', 'JJ'),\n",
       " ('der', 'NN'),\n",
       " ('Tasche', 'NNP'),\n",
       " ('gezogen', 'NN'),\n",
       " ('vermischt', 'NN'),\n",
       " (',', ','),\n",
       " ('dreimal', 'JJ'),\n",
       " ('abheben', 'NN'),\n",
       " ('!', '.'),\n",
       " ('linkshändig', 'NN'),\n",
       " ('!', '.'),\n",
       " ('die', 'NN'),\n",
       " ('Rosalia', 'NNP'),\n",
       " ('sichtbar', 'NN'),\n",
       " ('zu', 'NN'),\n",
       " ('machen', 'NN'),\n",
       " ('(', '('),\n",
       " ('bewaldet', 'NN'),\n",
       " (')', ')'),\n",
       " (',', ','),\n",
       " ('wir', 'JJ'),\n",
       " ('essen', 'FW'),\n",
       " ('kleine', 'NN'),\n",
       " ('Drachen', 'NNP'),\n",
       " ('den', 'VBZ'),\n",
       " ('Mond', 'NNP'),\n",
       " (',', ','),\n",
       " ('das', 'JJ'),\n",
       " ('Land', 'NNP'),\n",
       " ('ist', 'NN'),\n",
       " ('Löwe', 'NNP'),\n",
       " ('viel', 'NN'),\n",
       " ('Hitze', 'NNP'),\n",
       " ('Pompeji', 'NNP'),\n",
       " ('Kunstwellen', 'NNP'),\n",
       " ('Kälberleib', 'NNP'),\n",
       " ('Bekröter', 'NNP'),\n",
       " ('sogar', 'NN'),\n",
       " (':', ':'),\n",
       " ('Wahrträume', 'NNP'),\n",
       " ('-', ':'),\n",
       " ('wie', 'NN'),\n",
       " ('mit', 'NN'),\n",
       " ('vielen', 'IN'),\n",
       " ('Augen', 'NNP'),\n",
       " ('aus', 'NN'),\n",
       " ('jeder', 'NN'),\n",
       " ('Pfütze', 'NNP'),\n",
       " ('getrunken', 'NN'),\n",
       " (',', ','),\n",
       " ('die', 'VBP'),\n",
       " ('Vögel', 'NNP'),\n",
       " ('picken', 'VBP'),\n",
       " ('das', 'JJ'),\n",
       " ('menschliche', 'NN'),\n",
       " ('Auge', 'NNP'),\n",
       " ('zuerst', 'NNP'),\n",
       " ('aus', 'NN'),\n",
       " (',', ','),\n",
       " ('alles', 'NNS'),\n",
       " ('verflochten', 'VBP'),\n",
       " ('Krankheit', 'NNP'),\n",
       " ('Verdruss', 'NNP'),\n",
       " ('Säge', 'NNP'),\n",
       " ('des', 'VBZ'),\n",
       " ('Laubs', 'NNP'),\n",
       " (',', ','),\n",
       " ('mein', 'JJ'),\n",
       " ('Gaumen', 'NNP'),\n",
       " ('krümmt', 'NN'),\n",
       " ('sich', 'JJ'),\n",
       " ('aber', 'NN'),\n",
       " ('es', 'JJ'),\n",
       " ('ist', 'NN'),\n",
       " ('kein', 'NN'),\n",
       " ('Schatz', 'NNP'),\n",
       " ('zugegen', 'NN'),\n",
       " (',', ','),\n",
       " ('die', 'VBP'),\n",
       " ('Treue', 'NNP'),\n",
       " ('Beständigkeit', 'NNP'),\n",
       " ('aus', 'VBZ'),\n",
       " ('den', 'JJ'),\n",
       " ('Karten', 'NNP'),\n",
       " ('gelesen', 'NN'),\n",
       " (',', ','),\n",
       " ('Werktreue', 'NNP'),\n",
       " ('?', '.'),\n",
       " ('rufe', 'NN'),\n",
       " ('ich', 'NN'),\n",
       " (',', ','),\n",
       " ('Asche', 'NNP'),\n",
       " ('werden', 'NN'),\n",
       " (',', ','),\n",
       " ('Stativ', 'NNP'),\n",
       " ('deiner', 'NN'),\n",
       " ('Beine', 'NNP'),\n",
       " (',', ','),\n",
       " ('Schläfe', 'NNP'),\n",
       " ('mit', 'NN'),\n",
       " ('Kappe', 'NNP'),\n",
       " (',', ','),\n",
       " ('Oktoberkeule', 'NNP'),\n",
       " ('dein', 'VBZ'),\n",
       " ('schnarrendes', 'NNS'),\n",
       " ('Maulhorn', 'NNP'),\n",
       " ('ach', 'NN'),\n",
       " ('wo', 'MD'),\n",
       " ('unsere', 'RB'),\n",
       " ('Schatten', 'NNP'),\n",
       " ('einander', 'VBP'),\n",
       " ('entgegen', 'NN'),\n",
       " ('sind', 'NN'),\n",
       " ('-', ':')]"
      ]
     },
     "execution_count": 40,
     "metadata": {},
     "output_type": "execute_result"
    }
   ],
   "source": [
    "nltk.pos_tag(words1)"
   ]
  },
  {
   "cell_type": "code",
   "execution_count": null,
   "id": "c356b820",
   "metadata": {},
   "outputs": [],
   "source": []
  },
  {
   "cell_type": "code",
   "execution_count": null,
   "id": "e1515aa1",
   "metadata": {},
   "outputs": [],
   "source": []
  },
  {
   "cell_type": "code",
   "execution_count": null,
   "id": "65d84da3",
   "metadata": {},
   "outputs": [],
   "source": []
  },
  {
   "cell_type": "code",
   "execution_count": null,
   "id": "a12213e4",
   "metadata": {},
   "outputs": [],
   "source": []
  },
  {
   "cell_type": "code",
   "execution_count": null,
   "id": "cd5a89e9",
   "metadata": {},
   "outputs": [],
   "source": []
  },
  {
   "cell_type": "code",
   "execution_count": null,
   "id": "08cbad4d",
   "metadata": {},
   "outputs": [],
   "source": []
  },
  {
   "cell_type": "code",
   "execution_count": null,
   "id": "ab69263f",
   "metadata": {},
   "outputs": [],
   "source": []
  }
 ],
 "metadata": {
  "kernelspec": {
   "display_name": "Python 3 (ipykernel)",
   "language": "python",
   "name": "python3"
  },
  "language_info": {
   "codemirror_mode": {
    "name": "ipython",
    "version": 3
   },
   "file_extension": ".py",
   "mimetype": "text/x-python",
   "name": "python",
   "nbconvert_exporter": "python",
   "pygments_lexer": "ipython3",
   "version": "3.11.9"
  }
 },
 "nbformat": 4,
 "nbformat_minor": 5
}
